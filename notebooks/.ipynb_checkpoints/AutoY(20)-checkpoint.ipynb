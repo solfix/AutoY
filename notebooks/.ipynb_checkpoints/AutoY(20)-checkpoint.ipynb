{
 "cells": [
  {
   "cell_type": "code",
   "execution_count": 1,
   "id": "7ffbaba1",
   "metadata": {},
   "outputs": [],
   "source": [
    "import os\n",
    "import sys\n",
    "import torch\n",
    "import torch.nn as nn\n",
    "import torch.nn.functional as F\n",
    "import torch.optim as optim\n",
    "import torch.utils.data as Data\n",
    "import numpy as np\n",
    "import pandas as pd\n",
    "import time\n",
    "from sklearn.model_selection import KFold\n",
    "import matplotlib.pyplot as plt\n",
    "import seaborn as sns\n",
    "from sparsemax import Sparsemax\n",
    "from sklearn.metrics import accuracy_score, confusion_matrix, roc_auc_score, roc_curve, auc, recall_score\n",
    "from sklearn.model_selection import train_test_split\n",
    "from torch.utils.data import DataLoader, TensorDataset\n",
    "\n",
    "# 读取TSV文件并提取指定的信息列\n",
    "def read_tsv(filename, inf_ind, skip_1st=False, file_encoding=\"utf8\"):\n",
    "    extract_inf = []\n",
    "    with open(filename, \"r\", encoding=file_encoding) as tsv_f:\n",
    "        if skip_1st:\n",
    "            tsv_f.readline()\n",
    "        line = tsv_f.readline()\n",
    "        while line:\n",
    "            line_list = line.strip().split(\"\\t\")\n",
    "            temp_inf = []\n",
    "            for ind in inf_ind:\n",
    "                temp_inf.append(line_list[ind])\n",
    "            extract_inf.append(temp_inf)\n",
    "            line = tsv_f.readline()\n",
    "    return extract_inf\n",
    "\n",
    "# 读取氨基酸特征文件并生成特征字典\n",
    "def get_features(filename, f_num=15):\n",
    "    f_list = read_tsv(filename, list(range(16)), True)\n",
    "    f_dict = {}\n",
    "    left_num = 0\n",
    "    right_num = 0\n",
    "    if f_num > 15:\n",
    "        left_num = (f_num - 15) // 2\n",
    "        right_num = f_num - 15 - left_num\n",
    "    for f in f_list:\n",
    "        f_dict[f[0]] = [0] * left_num\n",
    "        f_dict[f[0]] += [float(x) for x in f[1:]]\n",
    "        f_dict[f[0]] += [0] * right_num\n",
    "    f_dict[\"X\"] = [0] * f_num\n",
    "    return f_dict\n",
    "\n",
    "# 定义模型类\n",
    "class AotoY(nn.Module):\n",
    "    def __init__(self, ins_num, drop_out, n=[12, 12, 12, 6], k=[2, 3, 4, 5]):\n",
    "        super(AotoY, self).__init__()\n",
    "\n",
    "        self.ins_num = ins_num\n",
    "        self.conv1 = nn.Sequential(\n",
    "            nn.Conv1d(in_channels=15, out_channels=n[0], kernel_size=k[0], stride=1, padding=0),\n",
    "            nn.BatchNorm1d(n[0]),\n",
    "            nn.ReLU(),\n",
    "            nn.Conv1d(in_channels=n[0], out_channels=n[0], kernel_size=k[0], stride=1, padding=0),\n",
    "            nn.BatchNorm1d(n[0]),\n",
    "            nn.ReLU(),\n",
    "            nn.AdaptiveMaxPool1d(1)\n",
    "        )\n",
    "        \n",
    "        \n",
    "        \n",
    "        self.conv2 = nn.Sequential(\n",
    "            nn.Conv1d(in_channels=15, out_channels=n[1], kernel_size=k[1], stride=1, padding=0),\n",
    "            nn.BatchNorm1d(n[1]),\n",
    "            nn.ReLU(),\n",
    "            nn.Conv1d(in_channels=n[1], out_channels=n[1], kernel_size=k[1], stride=1, padding=0),\n",
    "            nn.BatchNorm1d(n[1]),\n",
    "            nn.ReLU(),\n",
    "            nn.AdaptiveMaxPool1d(1)\n",
    "        )\n",
    "        \n",
    "        \n",
    "        \n",
    "        self.conv3 = nn.Sequential(\n",
    "            nn.Conv1d(in_channels=15, out_channels=n[2], kernel_size=k[2], stride=1, padding=0),\n",
    "            nn.BatchNorm1d(n[2]),\n",
    "            nn.ReLU(),\n",
    "            nn.Conv1d(in_channels=n[2], out_channels=n[2], kernel_size=k[2], stride=1, padding=0),\n",
    "            nn.BatchNorm1d(n[2]),\n",
    "            nn.ReLU(),\n",
    "            nn.AdaptiveMaxPool1d(1)\n",
    "        )\n",
    "        \n",
    "        \n",
    "        \n",
    "        self.conv4 = nn.Sequential(\n",
    "            nn.Conv1d(in_channels=15, out_channels=n[3], kernel_size=k[3], stride=1, padding=0),\n",
    "            nn.BatchNorm1d(n[3]),\n",
    "            nn.ReLU(),\n",
    "            nn.Conv1d(in_channels=n[3], out_channels=n[3], kernel_size=k[3], stride=1, padding=0),\n",
    "            nn.BatchNorm1d(n[3]),\n",
    "            nn.ReLU(),\n",
    "            nn.AdaptiveMaxPool1d(1)\n",
    "        )\n",
    "        \n",
    "        \n",
    "        \n",
    "        self.avg_pool = nn.AdaptiveAvgPool1d(1)  \n",
    "        self.fc_1 = nn.Linear(sum(n), 1)\n",
    "        self.dropout = nn.Dropout(p=drop_out) \n",
    "        self.fc_2 = nn.Linear(self.ins_num, 2)\n",
    "        self.dropout = nn.Dropout(p=drop_out) \n",
    "        \n",
    "\n",
    "\n",
    "    def forward(self, x):\n",
    "        \n",
    "        x = x.reshape(-1, 15, 24)\n",
    "        \n",
    "        out1 = self.conv1(x)\n",
    "        out2 = self.conv2(x)\n",
    "        out3 = self.conv3(x)\n",
    "        out4 = self.conv4(x)\n",
    "        out = torch.cat([out1, out2, out3, out4], dim=1)\n",
    "        out = out.view(out.size(0), -1) \n",
    "        out = self.fc_1(out)\n",
    "        out = self.dropout(out)\n",
    "        out = out.view(-1, self.ins_num)\n",
    "        out = self.fc_2(out)\n",
    "        out = self.dropout(out)\n",
    "        return out\n",
    "\n",
    "# 生成输入数据和标签\n",
    "def generate_input(sps, sp_lbs, feature_dict, feature_num, ins_num, max_len):\n",
    "    xs, ys = [], []\n",
    "    i = 0\n",
    "    for sp in sps:\n",
    "        xs.append([[[0] * feature_num] * max_len] * ins_num)\n",
    "        ys.append(sp_lbs[i])\n",
    "        j = 0\n",
    "        for tcr in sp:\n",
    "            tcr_seq = tcr[0]\n",
    "            right_num = max_len - len(tcr_seq)\n",
    "            tcr_seq += \"X\" * right_num\n",
    "            tcr_matrix = []\n",
    "            for aa in tcr_seq:\n",
    "                tcr_matrix.append(feature_dict[aa.upper()])\n",
    "            xs[i][j] = tcr_matrix\n",
    "            j += 1\n",
    "        i += 1\n",
    "    xs = np.array(xs)\n",
    "    xs = xs.swapaxes(2, 3)\n",
    "    ys = np.array(ys)\n",
    "    return xs, ys\n",
    "\n",
    "\n",
    "def load_data(sample_dir):\n",
    "    training_data = []\n",
    "    training_labels = []\n",
    "    for sample_file in os.listdir(sample_dir):\n",
    "        # 读取样本数据\n",
    "        training_data.append(read_tsv(os.path.join(sample_dir, sample_file), [0, 1], True))\n",
    "        # 获取样本标签\n",
    "        if \"P\" in sample_file:\n",
    "            training_labels.append(1)\n",
    "        elif \"H\" in sample_file:\n",
    "            training_labels.append(0)\n",
    "        else:\n",
    "            print(\"Wrong sample filename! Please name positive samples with 'P' and negative samples with 'H'.\")\n",
    "            sys.exit(1)\n",
    "        \n",
    "    return training_data, training_labels\n",
    "\n",
    "def evaluate(model, criterion, test_loader, device=\"cuda\"):\n",
    "    test_total_loss = 0.0\n",
    "    all_preds = []\n",
    "    all_labels = []\n",
    "    \n",
    "    model.eval()\n",
    "    with torch.no_grad():\n",
    "        for test_batch_x, test_batch_y in test_loader:\n",
    "            test_batch_x = test_batch_x.to(device)\n",
    "            test_batch_y = test_batch_y.to(device)\n",
    "            test_pred = model(test_batch_x)\n",
    "\n",
    "            test_loss = criterion(test_pred, test_batch_y)\n",
    "            test_total_loss += test_loss.item()\n",
    "            all_preds.append(test_pred.cpu().numpy())\n",
    "            all_labels.append(test_batch_y.cpu().numpy())\n",
    "            \n",
    "        test_avg_loss = test_total_loss / len(test_loader)\n",
    "        return test_avg_loss, all_preds, all_labels\n",
    "from tqdm import tqdm\n",
    "def train(fold, model, criterion, optimizer, train_loader, valid_loader, epoches=100, device='cuda'):\n",
    "    \n",
    "    \n",
    "    model_path = f'../model(AutoY)/{disease_name}checkpoint{fold}.pt'  # 修改模型文件的保存路径和命名\n",
    "    early_stopping = EarlyStopping(PATIENCE, path=model_path, verbose=False)\n",
    "    \n",
    "    # 存储训练和测试损失\n",
    "    epoch_train_losses = []\n",
    "    epoch_test_losses = []\n",
    "    with tqdm(total=epoches) as t:\n",
    "        t.set_description(f'{disease_name} - Fold {fold}')  # 添加疾病名称\n",
    "        for epoch in range(epoches):\n",
    "            model.train()\n",
    "            total_loss = 0.0\n",
    "            for batch_x, batch_y in train_loader:\n",
    "                batch_x = batch_x.to(device)\n",
    "                batch_y = batch_y.to(device)\n",
    "                pred = model(batch_x)\n",
    "\n",
    "                loss = criterion(pred, batch_y)\n",
    "                optimizer.zero_grad()\n",
    "                loss.backward()\n",
    "                optimizer.step()\n",
    "                total_loss += loss.item()\n",
    "            \n",
    "            # 记录训练损失\n",
    "            avg_loss = total_loss / len(train_loader)\n",
    "            epoch_train_losses.append(avg_loss)\n",
    "            # 记录评估损失\n",
    "            test_avg_loss, _, _ = evaluate(model, criterion, test_loader, device=device)\n",
    "            epoch_test_losses.append(test_avg_loss)\n",
    "            \n",
    "            t.set_postfix(loss=avg_loss, test_loss=test_avg_loss)\n",
    "            t.update(1)\n",
    "            \n",
    "            # 向EarlyStopping类别添加新轮次的损失\n",
    "            early_stopping(test_avg_loss, model)\n",
    "            # 判别是否满足提前退出的条件\n",
    "            if early_stopping.early_stop:\n",
    "                # 恢复训练中的最优模型\n",
    "                model.load_state_dict(torch.load(model_path))\n",
    "                #print('Early stopping')\n",
    "                break\n",
    "\n",
    "def metrics(all_preds, all_labels, threshold=0.5):\n",
    "    # 计算二进制分类指标\n",
    "    binary_preds = (all_preds[:, 1] > threshold).astype(int)\n",
    "    conf_matrix = confusion_matrix(all_labels, binary_preds)\n",
    "    accuracy = accuracy_score(all_labels, binary_preds)\n",
    "    sensitivity = conf_matrix[1, 1] / (conf_matrix[1, 0] + conf_matrix[1, 1])\n",
    "    specificity = conf_matrix[0, 0] / (conf_matrix[0, 0] + conf_matrix[0, 1])\n",
    "    auc = roc_auc_score(all_labels, all_preds[:, 1])\n",
    "\n",
    "    return accuracy, sensitivity, specificity, auc\n",
    "               "
   ]
  },
  {
   "cell_type": "code",
   "execution_count": 2,
   "id": "d33e3fb5",
   "metadata": {},
   "outputs": [
    {
     "name": "stdout",
     "output_type": "stream",
     "text": [
      "Working on RA dataset: 322 samples\n"
     ]
    },
    {
     "name": "stderr",
     "output_type": "stream",
     "text": [
      "RA - Fold 0:  72%|▋| 2171/3000 [01:07<00:25, 32.12it/s, loss=0.2, test_loss=0.31\n",
      "RA - Fold 1:  55%|▌| 1651/3000 [00:51<00:41, 32.33it/s, loss=0.209, test_loss=0.\n",
      "RA - Fold 2:  65%|▋| 1962/3000 [01:01<00:32, 32.09it/s, loss=0.168, test_loss=0.\n",
      "RA - Fold 3:  37%|▎| 1120/3000 [00:34<00:58, 32.31it/s, loss=0.173, test_loss=0.\n",
      "RA - Fold 4:  41%|▍| 1222/3000 [00:38<00:55, 32.02it/s, loss=0.203, test_loss=0.\n"
     ]
    },
    {
     "name": "stdout",
     "output_type": "stream",
     "text": [
      "Mean Accuracy (RA): 0.8540\n",
      "Mean Sensitivity (RA): 0.6296\n",
      "Mean Specificity (RA): 0.9673\n",
      "Mean AUC (RA): 0.9553\n",
      "Working on T1D dataset: 411 samples\n"
     ]
    },
    {
     "name": "stderr",
     "output_type": "stream",
     "text": [
      "T1D - Fold 0:  53%|▌| 1602/3000 [01:03<00:55, 25.13it/s, loss=0.169, test_loss=0\n",
      "T1D - Fold 1: 100%|█| 3000/3000 [02:02<00:00, 24.58it/s, loss=0.157, test_loss=0\n",
      "T1D - Fold 2:  36%|▎| 1082/3000 [00:43<01:16, 25.10it/s, loss=0.141, test_loss=0\n",
      "T1D - Fold 3:  73%|▋| 2189/3000 [01:27<00:32, 24.93it/s, loss=0.182, test_loss=0\n",
      "T1D - Fold 4:  72%|▋| 2165/3000 [01:27<00:33, 24.81it/s, loss=0.18, test_loss=0.\n"
     ]
    },
    {
     "name": "stdout",
     "output_type": "stream",
     "text": [
      "Mean Accuracy (T1D): 0.9659\n",
      "Mean Sensitivity (T1D): 0.9340\n",
      "Mean Specificity (T1D): 0.9953\n",
      "Mean AUC (T1D): 0.9968\n",
      "Working on MS dataset: 508 samples\n"
     ]
    },
    {
     "name": "stderr",
     "output_type": "stream",
     "text": [
      "MS - Fold 0:  62%|▌| 1856/3000 [01:30<00:55, 20.45it/s, loss=0.208, test_loss=0.\n",
      "MS - Fold 1:  84%|▊| 2508/3000 [02:02<00:24, 20.48it/s, loss=0.202, test_loss=0.\n",
      "MS - Fold 2:  57%|▌| 1704/3000 [01:23<01:03, 20.49it/s, loss=0.199, test_loss=0.\n",
      "MS - Fold 3:  92%|▉| 2773/3000 [02:16<00:11, 20.25it/s, loss=0.186, test_loss=0.\n",
      "MS - Fold 4:  66%|▋| 1994/3000 [01:38<00:49, 20.33it/s, loss=0.144, test_loss=0.\n"
     ]
    },
    {
     "name": "stdout",
     "output_type": "stream",
     "text": [
      "Mean Accuracy (MS): 0.9902\n",
      "Mean Sensitivity (MS): 0.9864\n",
      "Mean Specificity (MS): 0.9953\n",
      "Mean AUC (MS): 0.9996\n",
      "Working on IAA dataset: 279 samples\n"
     ]
    },
    {
     "name": "stderr",
     "output_type": "stream",
     "text": [
      "IAA - Fold 0:  38%|▍| 1145/3000 [00:31<00:50, 36.81it/s, loss=0.178, test_loss=0\n",
      "IAA - Fold 1:  80%|▊| 2397/3000 [01:04<00:16, 36.94it/s, loss=0.176, test_loss=0\n",
      "IAA - Fold 2:  88%|▉| 2653/3000 [01:11<00:09, 37.30it/s, loss=0.19, test_loss=0.\n",
      "IAA - Fold 3:  64%|▋| 1933/3000 [00:52<00:29, 36.54it/s, loss=0.186, test_loss=0\n",
      "IAA - Fold 4:  33%|▎| 981/3000 [00:27<00:56, 35.92it/s, loss=0.193, test_loss=0.\n"
     ]
    },
    {
     "name": "stdout",
     "output_type": "stream",
     "text": [
      "Mean Accuracy (IAA): 0.8961\n",
      "Mean Sensitivity (IAA): 0.5846\n",
      "Mean Specificity (IAA): 0.9907\n",
      "Mean AUC (IAA): 0.9567\n",
      "Working on RA dataset: 322 samples\n"
     ]
    },
    {
     "name": "stderr",
     "output_type": "stream",
     "text": [
      "RA - Fold 0:  40%|▍| 1213/3000 [00:37<00:55, 31.99it/s, loss=0.177, test_loss=0.\n",
      "RA - Fold 1:  35%|▎| 1057/3000 [00:32<01:00, 32.13it/s, loss=0.167, test_loss=0.\n",
      "RA - Fold 2:  73%|▋| 2176/3000 [01:07<00:25, 32.26it/s, loss=0.19, test_loss=0.1\n",
      "RA - Fold 3:  62%|▌| 1865/3000 [00:57<00:34, 32.66it/s, loss=0.155, test_loss=0.\n",
      "RA - Fold 4:  63%|▋| 1889/3000 [00:58<00:34, 32.13it/s, loss=0.142, test_loss=0.\n"
     ]
    },
    {
     "name": "stdout",
     "output_type": "stream",
     "text": [
      "Mean Accuracy (RA): 0.8416\n",
      "Mean Sensitivity (RA): 0.5833\n",
      "Mean Specificity (RA): 0.9720\n",
      "Mean AUC (RA): 0.9350\n",
      "Working on T1D dataset: 411 samples\n"
     ]
    },
    {
     "name": "stderr",
     "output_type": "stream",
     "text": [
      "T1D - Fold 0:  70%|▋| 2099/3000 [01:24<00:36, 24.81it/s, loss=0.159, test_loss=0\n",
      "T1D - Fold 1:  94%|▉| 2818/3000 [01:52<00:07, 24.97it/s, loss=0.172, test_loss=0\n",
      "T1D - Fold 2:  51%|▌| 1529/3000 [01:01<00:59, 24.91it/s, loss=0.173, test_loss=0\n",
      "T1D - Fold 3:  73%|▋| 2182/3000 [01:28<00:33, 24.67it/s, loss=0.188, test_loss=0\n",
      "T1D - Fold 4:  70%|▋| 2100/3000 [01:24<00:36, 24.73it/s, loss=0.162, test_loss=0\n"
     ]
    },
    {
     "name": "stdout",
     "output_type": "stream",
     "text": [
      "Mean Accuracy (T1D): 0.9830\n",
      "Mean Sensitivity (T1D): 0.9645\n",
      "Mean Specificity (T1D): 1.0000\n",
      "Mean AUC (T1D): 0.9992\n",
      "Working on MS dataset: 508 samples\n"
     ]
    },
    {
     "name": "stderr",
     "output_type": "stream",
     "text": [
      "MS - Fold 0:  79%|▊| 2382/3000 [01:59<00:30, 20.01it/s, loss=0.228, test_loss=0.\n",
      "MS - Fold 1: 100%|█| 3000/3000 [02:30<00:00, 19.97it/s, loss=0.153, test_loss=0.\n",
      "MS - Fold 2:  54%|▌| 1619/3000 [01:19<01:08, 20.28it/s, loss=0.183, test_loss=0.\n",
      "MS - Fold 3: 100%|█| 3000/3000 [02:30<00:00, 19.88it/s, loss=0.168, test_loss=0.\n",
      "MS - Fold 4:  73%|▋| 2189/3000 [01:52<00:41, 19.53it/s, loss=0.184, test_loss=0.\n"
     ]
    },
    {
     "name": "stdout",
     "output_type": "stream",
     "text": [
      "Mean Accuracy (MS): 0.9882\n",
      "Mean Sensitivity (MS): 0.9864\n",
      "Mean Specificity (MS): 0.9907\n",
      "Mean AUC (MS): 0.9991\n",
      "Working on IAA dataset: 279 samples\n"
     ]
    },
    {
     "name": "stderr",
     "output_type": "stream",
     "text": [
      "IAA - Fold 0:  34%|▎| 1031/3000 [00:28<00:55, 35.60it/s, loss=0.169, test_loss=0\n",
      "IAA - Fold 1:  50%|▌| 1506/3000 [00:41<00:41, 36.19it/s, loss=0.199, test_loss=0\n",
      "IAA - Fold 2:  54%|▌| 1617/3000 [00:45<00:38, 35.61it/s, loss=0.218, test_loss=0\n",
      "IAA - Fold 3:  74%|▋| 2210/3000 [01:02<00:22, 35.35it/s, loss=0.138, test_loss=0\n",
      "IAA - Fold 4:  64%|▋| 1920/3000 [00:53<00:30, 35.70it/s, loss=0.18, test_loss=0.\n"
     ]
    },
    {
     "name": "stdout",
     "output_type": "stream",
     "text": [
      "Mean Accuracy (IAA): 0.8638\n",
      "Mean Sensitivity (IAA): 0.4615\n",
      "Mean Specificity (IAA): 0.9860\n",
      "Mean AUC (IAA): 0.9413\n",
      "Working on RA dataset: 322 samples\n"
     ]
    },
    {
     "name": "stderr",
     "output_type": "stream",
     "text": [
      "RA - Fold 0:  46%|▍| 1371/3000 [00:42<00:51, 31.89it/s, loss=0.181, test_loss=0.\n",
      "RA - Fold 1:  75%|▋| 2248/3000 [01:10<00:23, 31.71it/s, loss=0.175, test_loss=0.\n",
      "RA - Fold 2:  31%|▎| 940/3000 [00:29<01:03, 32.34it/s, loss=0.219, test_loss=0.6\n",
      "RA - Fold 3:  40%|▍| 1206/3000 [00:37<00:55, 32.20it/s, loss=0.187, test_loss=0.\n",
      "RA - Fold 4:  52%|▌| 1565/3000 [00:48<00:44, 31.95it/s, loss=0.162, test_loss=0.\n"
     ]
    },
    {
     "name": "stdout",
     "output_type": "stream",
     "text": [
      "Mean Accuracy (RA): 0.8168\n",
      "Mean Sensitivity (RA): 0.5185\n",
      "Mean Specificity (RA): 0.9673\n",
      "Mean AUC (RA): 0.9103\n",
      "Working on T1D dataset: 411 samples\n"
     ]
    },
    {
     "name": "stderr",
     "output_type": "stream",
     "text": [
      "T1D - Fold 0:  89%|▉| 2672/3000 [01:46<00:13, 24.99it/s, loss=0.149, test_loss=0\n",
      "T1D - Fold 1: 100%|█| 3000/3000 [02:00<00:00, 24.87it/s, loss=0.175, test_loss=0\n",
      "T1D - Fold 2:  33%|▎| 990/3000 [00:40<01:21, 24.54it/s, loss=0.177, test_loss=0.\n",
      "T1D - Fold 3:  45%|▍| 1353/3000 [00:54<01:06, 24.88it/s, loss=0.2, test_loss=0.0\n",
      "T1D - Fold 4:  90%|▉| 2710/3000 [01:48<00:11, 24.86it/s, loss=0.162, test_loss=0\n"
     ]
    },
    {
     "name": "stdout",
     "output_type": "stream",
     "text": [
      "Mean Accuracy (T1D): 0.9659\n",
      "Mean Sensitivity (T1D): 0.9442\n",
      "Mean Specificity (T1D): 0.9860\n",
      "Mean AUC (T1D): 0.9983\n",
      "Working on MS dataset: 508 samples\n"
     ]
    },
    {
     "name": "stderr",
     "output_type": "stream",
     "text": [
      "MS - Fold 0:  66%|▋| 1984/3000 [01:36<00:49, 20.54it/s, loss=0.18, test_loss=0.0\n",
      "MS - Fold 1: 100%|█| 3000/3000 [02:25<00:00, 20.58it/s, loss=0.2, test_loss=0.01\n",
      "MS - Fold 2: 100%|█| 3000/3000 [02:24<00:00, 20.69it/s, loss=0.179, test_loss=0.\n",
      "MS - Fold 3: 100%|█| 3000/3000 [02:25<00:00, 20.65it/s, loss=0.18, test_loss=0.0\n",
      "MS - Fold 4:  69%|▋| 2057/3000 [01:39<00:45, 20.59it/s, loss=0.193, test_loss=0.\n"
     ]
    },
    {
     "name": "stdout",
     "output_type": "stream",
     "text": [
      "Mean Accuracy (MS): 0.9803\n",
      "Mean Sensitivity (MS): 0.9728\n",
      "Mean Specificity (MS): 0.9907\n",
      "Mean AUC (MS): 0.9991\n",
      "Working on IAA dataset: 279 samples\n"
     ]
    },
    {
     "name": "stderr",
     "output_type": "stream",
     "text": [
      "IAA - Fold 0:  27%|▎| 805/3000 [00:22<01:00, 36.58it/s, loss=0.187, test_loss=0.\n",
      "IAA - Fold 1:  45%|▍| 1346/3000 [00:36<00:45, 36.52it/s, loss=0.181, test_loss=0\n",
      "IAA - Fold 2:  75%|▊| 2250/3000 [01:01<00:20, 36.74it/s, loss=0.173, test_loss=0\n",
      "IAA - Fold 3: 100%|█| 3000/3000 [01:22<00:00, 36.49it/s, loss=0.153, test_loss=0\n",
      "IAA - Fold 4:  36%|▎| 1074/3000 [00:29<00:53, 36.28it/s, loss=0.163, test_loss=0\n"
     ]
    },
    {
     "name": "stdout",
     "output_type": "stream",
     "text": [
      "Mean Accuracy (IAA): 0.8781\n",
      "Mean Sensitivity (IAA): 0.5077\n",
      "Mean Specificity (IAA): 0.9907\n",
      "Mean AUC (IAA): 0.9415\n",
      "Working on RA dataset: 322 samples\n"
     ]
    },
    {
     "name": "stderr",
     "output_type": "stream",
     "text": [
      "RA - Fold 0:  79%|▊| 2362/3000 [01:12<00:19, 32.49it/s, loss=0.171, test_loss=0.\n",
      "RA - Fold 1:  41%|▍| 1232/3000 [00:38<00:55, 32.11it/s, loss=0.203, test_loss=0.\n",
      "RA - Fold 2:  43%|▍| 1277/3000 [00:39<00:53, 32.17it/s, loss=0.175, test_loss=0.\n",
      "RA - Fold 3:  33%|▎| 995/3000 [00:30<01:02, 32.26it/s, loss=0.182, test_loss=0.2\n",
      "RA - Fold 4:  56%|▌| 1691/3000 [00:53<00:41, 31.88it/s, loss=0.197, test_loss=0.\n"
     ]
    },
    {
     "name": "stdout",
     "output_type": "stream",
     "text": [
      "Mean Accuracy (RA): 0.8540\n",
      "Mean Sensitivity (RA): 0.6204\n",
      "Mean Specificity (RA): 0.9720\n",
      "Mean AUC (RA): 0.9585\n",
      "Working on T1D dataset: 411 samples\n"
     ]
    },
    {
     "name": "stderr",
     "output_type": "stream",
     "text": [
      "T1D - Fold 0:  87%|▊| 2610/3000 [01:43<00:15, 25.14it/s, loss=0.159, test_loss=0\n",
      "T1D - Fold 1: 100%|█| 3000/3000 [02:00<00:00, 24.84it/s, loss=0.18, test_loss=0.\n",
      "T1D - Fold 2:  39%|▍| 1166/3000 [00:46<01:13, 25.12it/s, loss=0.201, test_loss=0\n",
      "T1D - Fold 3:  79%|▊| 2360/3000 [01:34<00:25, 24.86it/s, loss=0.202, test_loss=0\n",
      "T1D - Fold 4:  93%|▉| 2782/3000 [01:51<00:08, 24.99it/s, loss=0.17, test_loss=0.\n"
     ]
    },
    {
     "name": "stdout",
     "output_type": "stream",
     "text": [
      "Mean Accuracy (T1D): 0.9732\n",
      "Mean Sensitivity (T1D): 0.9492\n",
      "Mean Specificity (T1D): 0.9953\n",
      "Mean AUC (T1D): 0.9971\n",
      "Working on MS dataset: 508 samples\n"
     ]
    },
    {
     "name": "stderr",
     "output_type": "stream",
     "text": [
      "MS - Fold 0:  91%|▉| 2740/3000 [02:14<00:12, 20.35it/s, loss=0.179, test_loss=0.\n",
      "MS - Fold 1: 100%|█| 3000/3000 [02:33<00:00, 19.52it/s, loss=0.167, test_loss=0.\n",
      "MS - Fold 2:  92%|▉| 2759/3000 [02:20<00:12, 19.60it/s, loss=0.172, test_loss=0.\n",
      "MS - Fold 3: 100%|█| 3000/3000 [02:32<00:00, 19.66it/s, loss=0.187, test_loss=0.\n",
      "MS - Fold 4:  63%|▋| 1892/3000 [01:36<00:56, 19.55it/s, loss=0.191, test_loss=0.\n"
     ]
    },
    {
     "name": "stdout",
     "output_type": "stream",
     "text": [
      "Mean Accuracy (MS): 0.9941\n",
      "Mean Sensitivity (MS): 0.9898\n",
      "Mean Specificity (MS): 1.0000\n",
      "Mean AUC (MS): 0.9998\n",
      "Working on IAA dataset: 279 samples\n"
     ]
    },
    {
     "name": "stderr",
     "output_type": "stream",
     "text": [
      "IAA - Fold 0:  28%|▎| 826/3000 [00:23<01:01, 35.26it/s, loss=0.194, test_loss=0.\n",
      "IAA - Fold 1:  80%|▊| 2415/3000 [01:07<00:16, 35.77it/s, loss=0.171, test_loss=0\n",
      "IAA - Fold 2:  34%|▎| 1013/3000 [00:27<00:54, 36.58it/s, loss=0.167, test_loss=0\n",
      "IAA - Fold 3:  55%|▌| 1638/3000 [00:44<00:37, 36.70it/s, loss=0.159, test_loss=0\n",
      "IAA - Fold 4:  86%|▊| 2593/3000 [01:11<00:11, 36.12it/s, loss=0.161, test_loss=0\n"
     ]
    },
    {
     "name": "stdout",
     "output_type": "stream",
     "text": [
      "Mean Accuracy (IAA): 0.8817\n",
      "Mean Sensitivity (IAA): 0.5231\n",
      "Mean Specificity (IAA): 0.9907\n",
      "Mean AUC (IAA): 0.9609\n",
      "Working on RA dataset: 322 samples\n"
     ]
    },
    {
     "name": "stderr",
     "output_type": "stream",
     "text": [
      "RA - Fold 0:  67%|▋| 2008/3000 [01:01<00:30, 32.44it/s, loss=0.173, test_loss=0.\n",
      "RA - Fold 1:  55%|▌| 1637/3000 [00:50<00:41, 32.46it/s, loss=0.189, test_loss=0.\n",
      "RA - Fold 2:  75%|▋| 2245/3000 [01:09<00:23, 32.25it/s, loss=0.175, test_loss=0.\n",
      "RA - Fold 3:  45%|▍| 1361/3000 [00:42<00:50, 32.27it/s, loss=0.13, test_loss=0.3\n",
      "RA - Fold 4:  30%|▎| 892/3000 [00:27<01:05, 32.07it/s, loss=0.187, test_loss=0.4\n"
     ]
    },
    {
     "name": "stdout",
     "output_type": "stream",
     "text": [
      "Mean Accuracy (RA): 0.8385\n",
      "Mean Sensitivity (RA): 0.6019\n",
      "Mean Specificity (RA): 0.9579\n",
      "Mean AUC (RA): 0.9431\n",
      "Working on T1D dataset: 411 samples\n"
     ]
    },
    {
     "name": "stderr",
     "output_type": "stream",
     "text": [
      "T1D - Fold 0:  93%|▉| 2803/3000 [01:51<00:07, 25.16it/s, loss=0.191, test_loss=0\n",
      "T1D - Fold 1: 100%|█| 3000/3000 [02:02<00:00, 24.59it/s, loss=0.175, test_loss=0\n",
      "T1D - Fold 2:  58%|▌| 1746/3000 [01:10<00:50, 24.93it/s, loss=0.182, test_loss=0\n",
      "T1D - Fold 3: 100%|█| 3000/3000 [02:00<00:00, 24.92it/s, loss=0.162, test_loss=0\n",
      "T1D - Fold 4:  55%|▌| 1639/3000 [01:05<00:54, 24.85it/s, loss=0.161, test_loss=0\n"
     ]
    },
    {
     "name": "stdout",
     "output_type": "stream",
     "text": [
      "Mean Accuracy (T1D): 0.9708\n",
      "Mean Sensitivity (T1D): 0.9391\n",
      "Mean Specificity (T1D): 1.0000\n",
      "Mean AUC (T1D): 0.9989\n",
      "Working on MS dataset: 508 samples\n"
     ]
    },
    {
     "name": "stderr",
     "output_type": "stream",
     "text": [
      "MS - Fold 0:  84%|▊| 2534/3000 [02:05<00:23, 20.26it/s, loss=0.164, test_loss=0.\n",
      "MS - Fold 1:  98%|▉| 2951/3000 [02:23<00:02, 20.50it/s, loss=0.172, test_loss=0.\n",
      "MS - Fold 2:  63%|▋| 1878/3000 [01:33<00:55, 20.17it/s, loss=0.152, test_loss=0.\n",
      "MS - Fold 3: 100%|█| 3000/3000 [02:28<00:00, 20.17it/s, loss=0.16, test_loss=0.0\n",
      "MS - Fold 4:  68%|▋| 2050/3000 [01:40<00:46, 20.46it/s, loss=0.199, test_loss=0.\n"
     ]
    },
    {
     "name": "stdout",
     "output_type": "stream",
     "text": [
      "Mean Accuracy (MS): 0.9902\n",
      "Mean Sensitivity (MS): 0.9864\n",
      "Mean Specificity (MS): 0.9953\n",
      "Mean AUC (MS): 0.9995\n",
      "Working on IAA dataset: 279 samples\n"
     ]
    },
    {
     "name": "stderr",
     "output_type": "stream",
     "text": [
      "IAA - Fold 0:  29%|▎| 858/3000 [00:23<00:58, 36.41it/s, loss=0.193, test_loss=0.\n",
      "IAA - Fold 1:  85%|▊| 2551/3000 [01:10<00:12, 36.32it/s, loss=0.157, test_loss=0\n",
      "IAA - Fold 2:  53%|▌| 1603/3000 [00:44<00:38, 35.84it/s, loss=0.158, test_loss=0\n",
      "IAA - Fold 3:  63%|▋| 1878/3000 [00:50<00:30, 37.00it/s, loss=0.182, test_loss=0\n",
      "IAA - Fold 4:  67%|▋| 2002/3000 [00:53<00:26, 37.15it/s, loss=0.151, test_loss=0\n"
     ]
    },
    {
     "name": "stdout",
     "output_type": "stream",
     "text": [
      "Mean Accuracy (IAA): 0.9032\n",
      "Mean Sensitivity (IAA): 0.5846\n",
      "Mean Specificity (IAA): 1.0000\n",
      "Mean AUC (IAA): 0.9656\n",
      "Working on RA dataset: 322 samples\n"
     ]
    },
    {
     "name": "stderr",
     "output_type": "stream",
     "text": [
      "RA - Fold 0:  51%|▌| 1528/3000 [00:47<00:45, 32.51it/s, loss=0.16, test_loss=0.2\n",
      "RA - Fold 1:  49%|▍| 1471/3000 [00:45<00:47, 32.30it/s, loss=0.169, test_loss=0.\n",
      "RA - Fold 2:  58%|▌| 1754/3000 [00:54<00:38, 32.07it/s, loss=0.169, test_loss=0.\n",
      "RA - Fold 3:  36%|▎| 1070/3000 [00:33<01:00, 32.12it/s, loss=0.192, test_loss=0.\n",
      "RA - Fold 4:  36%|▎| 1084/3000 [00:33<00:58, 32.53it/s, loss=0.154, test_loss=0.\n"
     ]
    },
    {
     "name": "stdout",
     "output_type": "stream",
     "text": [
      "Mean Accuracy (RA): 0.8634\n",
      "Mean Sensitivity (RA): 0.6204\n",
      "Mean Specificity (RA): 0.9860\n",
      "Mean AUC (RA): 0.9520\n",
      "Working on T1D dataset: 411 samples\n"
     ]
    },
    {
     "name": "stderr",
     "output_type": "stream",
     "text": [
      "T1D - Fold 0: 100%|█| 3000/3000 [02:00<00:00, 24.80it/s, loss=0.157, test_loss=0\n",
      "T1D - Fold 1:  87%|▊| 2609/3000 [01:44<00:15, 24.96it/s, loss=0.167, test_loss=0\n",
      "T1D - Fold 2:  44%|▍| 1312/3000 [00:53<01:08, 24.73it/s, loss=0.182, test_loss=0\n",
      "T1D - Fold 3: 100%|█| 3000/3000 [02:03<00:00, 24.20it/s, loss=0.154, test_loss=0\n",
      "T1D - Fold 4: 100%|█| 3000/3000 [02:01<00:00, 24.67it/s, loss=0.19, test_loss=0.\n"
     ]
    },
    {
     "name": "stdout",
     "output_type": "stream",
     "text": [
      "Mean Accuracy (T1D): 0.9538\n",
      "Mean Sensitivity (T1D): 0.9086\n",
      "Mean Specificity (T1D): 0.9953\n",
      "Mean AUC (T1D): 0.9982\n",
      "Working on MS dataset: 508 samples\n"
     ]
    },
    {
     "name": "stderr",
     "output_type": "stream",
     "text": [
      "MS - Fold 0: 100%|█| 3000/3000 [02:34<00:00, 19.43it/s, loss=0.169, test_loss=0.\n",
      "MS - Fold 1:  65%|▋| 1948/3000 [01:40<00:54, 19.46it/s, loss=0.167, test_loss=0.\n",
      "MS - Fold 2:  58%|▌| 1754/3000 [01:31<01:04, 19.27it/s, loss=0.186, test_loss=0.\n",
      "MS - Fold 3: 100%|█| 3000/3000 [02:34<00:00, 19.42it/s, loss=0.167, test_loss=0.\n",
      "MS - Fold 4:  71%|▋| 2118/3000 [01:45<00:43, 20.13it/s, loss=0.172, test_loss=0.\n"
     ]
    },
    {
     "name": "stdout",
     "output_type": "stream",
     "text": [
      "Mean Accuracy (MS): 0.9882\n",
      "Mean Sensitivity (MS): 0.9864\n",
      "Mean Specificity (MS): 0.9907\n",
      "Mean AUC (MS): 0.9996\n",
      "Working on IAA dataset: 279 samples\n"
     ]
    },
    {
     "name": "stderr",
     "output_type": "stream",
     "text": [
      "IAA - Fold 0:  45%|▍| 1347/3000 [00:37<00:45, 36.07it/s, loss=0.148, test_loss=0\n",
      "IAA - Fold 1:  52%|▌| 1565/3000 [00:43<00:39, 35.99it/s, loss=0.189, test_loss=0\n",
      "IAA - Fold 2:  81%|▊| 2431/3000 [01:07<00:15, 36.20it/s, loss=0.168, test_loss=0\n",
      "IAA - Fold 3:  80%|▊| 2406/3000 [01:06<00:16, 36.06it/s, loss=0.173, test_loss=0\n",
      "IAA - Fold 4:  65%|▋| 1961/3000 [00:54<00:28, 35.92it/s, loss=0.144, test_loss=0\n"
     ]
    },
    {
     "name": "stdout",
     "output_type": "stream",
     "text": [
      "Mean Accuracy (IAA): 0.9176\n",
      "Mean Sensitivity (IAA): 0.6462\n",
      "Mean Specificity (IAA): 1.0000\n",
      "Mean AUC (IAA): 0.9735\n",
      "Working on RA dataset: 322 samples\n"
     ]
    },
    {
     "name": "stderr",
     "output_type": "stream",
     "text": [
      "RA - Fold 0:  71%|▋| 2143/3000 [01:06<00:26, 32.13it/s, loss=0.177, test_loss=0.\n",
      "RA - Fold 1:  47%|▍| 1415/3000 [00:43<00:49, 32.34it/s, loss=0.153, test_loss=0.\n",
      "RA - Fold 2:  54%|▌| 1620/3000 [00:50<00:43, 31.97it/s, loss=0.145, test_loss=0.\n",
      "RA - Fold 3:  38%|▍| 1131/3000 [00:35<00:59, 31.54it/s, loss=0.2, test_loss=0.27\n",
      "RA - Fold 4:  38%|▍| 1150/3000 [00:35<00:57, 32.37it/s, loss=0.182, test_loss=0.\n"
     ]
    },
    {
     "name": "stdout",
     "output_type": "stream",
     "text": [
      "Mean Accuracy (RA): 0.8571\n",
      "Mean Sensitivity (RA): 0.6574\n",
      "Mean Specificity (RA): 0.9579\n",
      "Mean AUC (RA): 0.9331\n",
      "Working on T1D dataset: 411 samples\n"
     ]
    },
    {
     "name": "stderr",
     "output_type": "stream",
     "text": [
      "T1D - Fold 0:  97%|▉| 2921/3000 [01:57<00:03, 24.79it/s, loss=0.195, test_loss=0\n",
      "T1D - Fold 1:  71%|▋| 2135/3000 [01:27<00:35, 24.45it/s, loss=0.165, test_loss=0\n",
      "T1D - Fold 2:  55%|▌| 1658/3000 [01:06<00:53, 24.85it/s, loss=0.173, test_loss=0\n",
      "T1D - Fold 3: 100%|█| 3000/3000 [02:01<00:00, 24.68it/s, loss=0.197, test_loss=0\n",
      "T1D - Fold 4:  74%|▋| 2212/3000 [01:28<00:31, 25.00it/s, loss=0.191, test_loss=0\n"
     ]
    },
    {
     "name": "stdout",
     "output_type": "stream",
     "text": [
      "Mean Accuracy (T1D): 0.9732\n",
      "Mean Sensitivity (T1D): 0.9492\n",
      "Mean Specificity (T1D): 0.9953\n",
      "Mean AUC (T1D): 0.9990\n",
      "Working on MS dataset: 508 samples\n"
     ]
    },
    {
     "name": "stderr",
     "output_type": "stream",
     "text": [
      "MS - Fold 0:  66%|▋| 1975/3000 [01:38<00:50, 20.13it/s, loss=0.168, test_loss=0.\n",
      "MS - Fold 1: 100%|█| 3000/3000 [02:28<00:00, 20.14it/s, loss=0.178, test_loss=0.\n",
      "MS - Fold 2:  70%|▋| 2101/3000 [01:44<00:44, 20.10it/s, loss=0.185, test_loss=0.\n",
      "MS - Fold 3: 100%|█| 3000/3000 [02:31<00:00, 19.86it/s, loss=0.195, test_loss=0.\n",
      "MS - Fold 4:  47%|▍| 1401/3000 [01:12<01:22, 19.45it/s, loss=0.19, test_loss=0.0\n"
     ]
    },
    {
     "name": "stdout",
     "output_type": "stream",
     "text": [
      "Mean Accuracy (MS): 0.9843\n",
      "Mean Sensitivity (MS): 0.9762\n",
      "Mean Specificity (MS): 0.9953\n",
      "Mean AUC (MS): 0.9994\n",
      "Working on IAA dataset: 279 samples\n"
     ]
    },
    {
     "name": "stderr",
     "output_type": "stream",
     "text": [
      "IAA - Fold 0:  38%|▍| 1132/3000 [00:31<00:52, 35.85it/s, loss=0.195, test_loss=0\n",
      "IAA - Fold 1:  79%|▊| 2382/3000 [01:06<00:17, 35.60it/s, loss=0.18, test_loss=0.\n",
      "IAA - Fold 2:  76%|▊| 2265/3000 [01:02<00:20, 36.15it/s, loss=0.169, test_loss=0\n",
      "IAA - Fold 3:  58%|▌| 1743/3000 [00:47<00:34, 36.78it/s, loss=0.186, test_loss=0\n",
      "IAA - Fold 4:  68%|▋| 2028/3000 [00:56<00:27, 35.64it/s, loss=0.191, test_loss=0\n"
     ]
    },
    {
     "name": "stdout",
     "output_type": "stream",
     "text": [
      "Mean Accuracy (IAA): 0.9427\n",
      "Mean Sensitivity (IAA): 0.7538\n",
      "Mean Specificity (IAA): 1.0000\n",
      "Mean AUC (IAA): 0.9838\n",
      "Working on RA dataset: 322 samples\n"
     ]
    },
    {
     "name": "stderr",
     "output_type": "stream",
     "text": [
      "RA - Fold 0:  40%|▍| 1189/3000 [00:37<00:57, 31.66it/s, loss=0.178, test_loss=0.\n",
      "RA - Fold 1:  14%|▏| 428/3000 [00:13<01:21, 31.58it/s, loss=0.351, test_loss=0.7\n",
      "RA - Fold 2:  38%|▍| 1149/3000 [00:36<00:58, 31.58it/s, loss=0.167, test_loss=0.\n",
      "RA - Fold 3:  47%|▍| 1422/3000 [00:44<00:49, 31.64it/s, loss=0.176, test_loss=0.\n",
      "RA - Fold 4:  63%|▋| 1879/3000 [00:58<00:35, 32.00it/s, loss=0.192, test_loss=0.\n"
     ]
    },
    {
     "name": "stdout",
     "output_type": "stream",
     "text": [
      "Mean Accuracy (RA): 0.7640\n",
      "Mean Sensitivity (RA): 0.3426\n",
      "Mean Specificity (RA): 0.9766\n",
      "Mean AUC (RA): 0.8047\n",
      "Working on T1D dataset: 411 samples\n"
     ]
    },
    {
     "name": "stderr",
     "output_type": "stream",
     "text": [
      "T1D - Fold 0:  92%|▉| 2767/3000 [01:50<00:09, 24.93it/s, loss=0.178, test_loss=0\n",
      "T1D - Fold 1: 100%|█| 3000/3000 [02:01<00:00, 24.78it/s, loss=0.167, test_loss=0\n",
      "T1D - Fold 2:  51%|▌| 1523/3000 [01:01<00:59, 24.84it/s, loss=0.157, test_loss=0\n",
      "T1D - Fold 3:  81%|▊| 2417/3000 [01:37<00:23, 24.77it/s, loss=0.168, test_loss=0\n",
      "T1D - Fold 4:  88%|▉| 2638/3000 [01:46<00:14, 24.78it/s, loss=0.177, test_loss=0\n"
     ]
    },
    {
     "name": "stdout",
     "output_type": "stream",
     "text": [
      "Mean Accuracy (T1D): 0.9708\n",
      "Mean Sensitivity (T1D): 0.9492\n",
      "Mean Specificity (T1D): 0.9907\n",
      "Mean AUC (T1D): 0.9974\n",
      "Working on MS dataset: 508 samples\n"
     ]
    },
    {
     "name": "stderr",
     "output_type": "stream",
     "text": [
      "MS - Fold 0: 100%|█| 3000/3000 [02:33<00:00, 19.59it/s, loss=0.193, test_loss=0.\n",
      "MS - Fold 1: 100%|█| 3000/3000 [02:34<00:00, 19.44it/s, loss=0.194, test_loss=0.\n",
      "MS - Fold 2:  73%|▋| 2191/3000 [01:52<00:41, 19.54it/s, loss=0.183, test_loss=0.\n",
      "MS - Fold 3: 100%|█| 3000/3000 [02:29<00:00, 20.02it/s, loss=0.204, test_loss=0.\n",
      "MS - Fold 4:  64%|▋| 1916/3000 [01:35<00:53, 20.16it/s, loss=0.165, test_loss=0.\n"
     ]
    },
    {
     "name": "stdout",
     "output_type": "stream",
     "text": [
      "Mean Accuracy (MS): 0.9783\n",
      "Mean Sensitivity (MS): 0.9728\n",
      "Mean Specificity (MS): 0.9860\n",
      "Mean AUC (MS): 0.9983\n",
      "Working on IAA dataset: 279 samples\n"
     ]
    },
    {
     "name": "stderr",
     "output_type": "stream",
     "text": [
      "IAA - Fold 0:  45%|▍| 1336/3000 [00:36<00:45, 36.83it/s, loss=0.158, test_loss=0\n",
      "IAA - Fold 1:  71%|▋| 2128/3000 [00:58<00:24, 36.25it/s, loss=0.159, test_loss=0\n",
      "IAA - Fold 2:  88%|▉| 2632/3000 [01:14<00:10, 35.18it/s, loss=0.183, test_loss=0\n",
      "IAA - Fold 3:  90%|▉| 2710/3000 [01:16<00:08, 35.39it/s, loss=0.168, test_loss=0\n",
      "IAA - Fold 4:  37%|▎| 1118/3000 [00:31<00:53, 35.40it/s, loss=0.191, test_loss=0\n"
     ]
    },
    {
     "name": "stdout",
     "output_type": "stream",
     "text": [
      "Mean Accuracy (IAA): 0.9140\n",
      "Mean Sensitivity (IAA): 0.6308\n",
      "Mean Specificity (IAA): 1.0000\n",
      "Mean AUC (IAA): 0.9792\n",
      "Working on RA dataset: 322 samples\n"
     ]
    },
    {
     "name": "stderr",
     "output_type": "stream",
     "text": [
      "RA - Fold 0:  37%|▎| 1111/3000 [00:35<00:59, 31.71it/s, loss=0.167, test_loss=0.\n",
      "RA - Fold 1:  59%|▌| 1773/3000 [00:55<00:38, 31.84it/s, loss=0.189, test_loss=0.\n",
      "RA - Fold 2:  90%|▉| 2689/3000 [01:23<00:09, 32.19it/s, loss=0.178, test_loss=0.\n",
      "RA - Fold 3:  40%|▍| 1211/3000 [00:38<00:56, 31.68it/s, loss=0.193, test_loss=0.\n",
      "RA - Fold 4:  47%|▍| 1414/3000 [00:43<00:49, 32.28it/s, loss=0.169, test_loss=0.\n"
     ]
    },
    {
     "name": "stdout",
     "output_type": "stream",
     "text": [
      "Mean Accuracy (RA): 0.8354\n",
      "Mean Sensitivity (RA): 0.5741\n",
      "Mean Specificity (RA): 0.9673\n",
      "Mean AUC (RA): 0.9323\n",
      "Working on T1D dataset: 411 samples\n"
     ]
    },
    {
     "name": "stderr",
     "output_type": "stream",
     "text": [
      "T1D - Fold 0:  63%|▋| 1894/3000 [01:16<00:44, 24.78it/s, loss=0.168, test_loss=0\n",
      "T1D - Fold 1:  60%|▌| 1804/3000 [01:12<00:48, 24.75it/s, loss=0.182, test_loss=0\n",
      "T1D - Fold 2:  52%|▌| 1562/3000 [01:03<00:58, 24.78it/s, loss=0.176, test_loss=0\n",
      "T1D - Fold 3:  80%|▊| 2385/3000 [01:36<00:24, 24.71it/s, loss=0.191, test_loss=0\n",
      "T1D - Fold 4:  50%|▍| 1493/3000 [01:00<01:00, 24.87it/s, loss=0.192, test_loss=0\n"
     ]
    },
    {
     "name": "stdout",
     "output_type": "stream",
     "text": [
      "Mean Accuracy (T1D): 0.9611\n",
      "Mean Sensitivity (T1D): 0.9239\n",
      "Mean Specificity (T1D): 0.9953\n",
      "Mean AUC (T1D): 0.9988\n",
      "Working on MS dataset: 508 samples\n"
     ]
    },
    {
     "name": "stderr",
     "output_type": "stream",
     "text": [
      "MS - Fold 0: 100%|█| 3000/3000 [02:29<00:00, 20.01it/s, loss=0.145, test_loss=0.\n",
      "MS - Fold 1: 100%|█| 3000/3000 [02:29<00:00, 20.07it/s, loss=0.179, test_loss=0.\n",
      "MS - Fold 2:  63%|▋| 1890/3000 [01:33<00:55, 20.16it/s, loss=0.181, test_loss=0.\n",
      "MS - Fold 3: 100%|█| 3000/3000 [02:31<00:00, 19.80it/s, loss=0.163, test_loss=0.\n",
      "MS - Fold 4:  66%|▋| 1977/3000 [01:39<00:51, 19.86it/s, loss=0.186, test_loss=0.\n"
     ]
    },
    {
     "name": "stdout",
     "output_type": "stream",
     "text": [
      "Mean Accuracy (MS): 0.9882\n",
      "Mean Sensitivity (MS): 0.9830\n",
      "Mean Specificity (MS): 0.9953\n",
      "Mean AUC (MS): 0.9994\n",
      "Working on IAA dataset: 279 samples\n"
     ]
    },
    {
     "name": "stderr",
     "output_type": "stream",
     "text": [
      "IAA - Fold 0:  70%|▋| 2102/3000 [00:59<00:25, 35.48it/s, loss=0.157, test_loss=0\n",
      "IAA - Fold 1:  69%|▋| 2071/3000 [00:57<00:25, 36.10it/s, loss=0.193, test_loss=0\n",
      "IAA - Fold 2:  44%|▍| 1323/3000 [00:36<00:45, 36.54it/s, loss=0.168, test_loss=0\n",
      "IAA - Fold 3:  48%|▍| 1436/3000 [00:39<00:43, 36.00it/s, loss=0.168, test_loss=0\n",
      "IAA - Fold 4:  50%|▍| 1497/3000 [00:42<00:42, 35.58it/s, loss=0.161, test_loss=0\n"
     ]
    },
    {
     "name": "stdout",
     "output_type": "stream",
     "text": [
      "Mean Accuracy (IAA): 0.9104\n",
      "Mean Sensitivity (IAA): 0.6154\n",
      "Mean Specificity (IAA): 1.0000\n",
      "Mean AUC (IAA): 0.9684\n",
      "Working on RA dataset: 322 samples\n"
     ]
    },
    {
     "name": "stderr",
     "output_type": "stream",
     "text": [
      "RA - Fold 0:  51%|▌| 1517/3000 [00:47<00:46, 31.76it/s, loss=0.177, test_loss=0.\n",
      "RA - Fold 1:  60%|▌| 1813/3000 [00:56<00:37, 32.04it/s, loss=0.157, test_loss=0.\n",
      "RA - Fold 2:  69%|▋| 2067/3000 [01:06<00:30, 31.06it/s, loss=0.148, test_loss=0.\n",
      "RA - Fold 3:  69%|▋| 2074/3000 [01:05<00:29, 31.67it/s, loss=0.184, test_loss=0.\n",
      "RA - Fold 4:  32%|▎| 965/3000 [00:30<01:04, 31.38it/s, loss=0.169, test_loss=0.3\n"
     ]
    },
    {
     "name": "stdout",
     "output_type": "stream",
     "text": [
      "Mean Accuracy (RA): 0.8634\n",
      "Mean Sensitivity (RA): 0.6389\n",
      "Mean Specificity (RA): 0.9766\n",
      "Mean AUC (RA): 0.9617\n",
      "Working on T1D dataset: 411 samples\n"
     ]
    },
    {
     "name": "stderr",
     "output_type": "stream",
     "text": [
      "T1D - Fold 0: 100%|█| 3000/3000 [02:02<00:00, 24.48it/s, loss=0.178, test_loss=0\n",
      "T1D - Fold 1:  64%|▋| 1933/3000 [01:17<00:43, 24.79it/s, loss=0.159, test_loss=0\n",
      "T1D - Fold 2:  43%|▍| 1276/3000 [00:52<01:10, 24.34it/s, loss=0.17, test_loss=0.\n",
      "T1D - Fold 3: 100%|█| 3000/3000 [02:01<00:00, 24.75it/s, loss=0.215, test_loss=0\n",
      "T1D - Fold 4:  89%|▉| 2671/3000 [01:49<00:13, 24.45it/s, loss=0.194, test_loss=0\n"
     ]
    },
    {
     "name": "stdout",
     "output_type": "stream",
     "text": [
      "Mean Accuracy (T1D): 0.9781\n",
      "Mean Sensitivity (T1D): 0.9543\n",
      "Mean Specificity (T1D): 1.0000\n",
      "Mean AUC (T1D): 0.9991\n",
      "Working on MS dataset: 508 samples\n"
     ]
    },
    {
     "name": "stderr",
     "output_type": "stream",
     "text": [
      "MS - Fold 0:  87%|▊| 2616/3000 [02:13<00:19, 19.57it/s, loss=0.163, test_loss=0.\n",
      "MS - Fold 1: 100%|█| 3000/3000 [02:35<00:00, 19.33it/s, loss=0.198, test_loss=0.\n",
      "MS - Fold 2:  72%|▋| 2157/3000 [01:46<00:41, 20.30it/s, loss=0.153, test_loss=0.\n",
      "MS - Fold 3: 100%|█| 3000/3000 [02:29<00:00, 20.06it/s, loss=0.182, test_loss=0.\n",
      "MS - Fold 4:  64%|▋| 1905/3000 [01:35<00:54, 20.03it/s, loss=0.163, test_loss=0.\n"
     ]
    },
    {
     "name": "stdout",
     "output_type": "stream",
     "text": [
      "Mean Accuracy (MS): 0.9862\n",
      "Mean Sensitivity (MS): 0.9796\n",
      "Mean Specificity (MS): 0.9953\n",
      "Mean AUC (MS): 0.9996\n",
      "Working on IAA dataset: 279 samples\n"
     ]
    },
    {
     "name": "stderr",
     "output_type": "stream",
     "text": [
      "IAA - Fold 0:  33%|▎| 979/3000 [00:27<00:56, 35.61it/s, loss=0.2, test_loss=0.52\n",
      "IAA - Fold 1:  96%|▉| 2888/3000 [01:20<00:03, 35.68it/s, loss=0.164, test_loss=0\n",
      "IAA - Fold 2:  40%|▍| 1188/3000 [00:33<00:51, 35.53it/s, loss=0.172, test_loss=0\n",
      "IAA - Fold 3:  40%|▍| 1212/3000 [00:33<00:49, 36.26it/s, loss=0.199, test_loss=0\n",
      "IAA - Fold 4: 100%|█| 3000/3000 [01:23<00:00, 36.00it/s, loss=0.167, test_loss=0\n"
     ]
    },
    {
     "name": "stdout",
     "output_type": "stream",
     "text": [
      "Mean Accuracy (IAA): 0.8674\n",
      "Mean Sensitivity (IAA): 0.4462\n",
      "Mean Specificity (IAA): 0.9953\n",
      "Mean AUC (IAA): 0.9607\n",
      "Working on RA dataset: 322 samples\n"
     ]
    },
    {
     "name": "stderr",
     "output_type": "stream",
     "text": [
      "RA - Fold 0:  66%|▋| 1984/3000 [01:02<00:31, 31.94it/s, loss=0.13, test_loss=0.3\n",
      "RA - Fold 1:  86%|▊| 2566/3000 [01:19<00:13, 32.38it/s, loss=0.129, test_loss=0.\n",
      "RA - Fold 2:  69%|▋| 2079/3000 [01:04<00:28, 32.02it/s, loss=0.167, test_loss=0.\n",
      "RA - Fold 3:  39%|▍| 1167/3000 [00:36<00:56, 32.32it/s, loss=0.215, test_loss=0.\n",
      "RA - Fold 4:  41%|▍| 1223/3000 [00:38<00:56, 31.67it/s, loss=0.187, test_loss=0.\n"
     ]
    },
    {
     "name": "stdout",
     "output_type": "stream",
     "text": [
      "Mean Accuracy (RA): 0.8261\n",
      "Mean Sensitivity (RA): 0.5463\n",
      "Mean Specificity (RA): 0.9673\n",
      "Mean AUC (RA): 0.9242\n",
      "Working on T1D dataset: 411 samples\n"
     ]
    },
    {
     "name": "stderr",
     "output_type": "stream",
     "text": [
      "T1D - Fold 0:  65%|▋| 1956/3000 [01:19<00:42, 24.50it/s, loss=0.178, test_loss=0\n",
      "T1D - Fold 1:  79%|▊| 2366/3000 [01:36<00:25, 24.56it/s, loss=0.154, test_loss=0\n",
      "T1D - Fold 2:  53%|▌| 1585/3000 [01:04<00:57, 24.60it/s, loss=0.139, test_loss=0\n",
      "T1D - Fold 3:  60%|▌| 1807/3000 [01:13<00:48, 24.67it/s, loss=0.19, test_loss=0.\n",
      "T1D - Fold 4:  71%|▋| 2128/3000 [01:28<00:36, 24.05it/s, loss=0.174, test_loss=0\n"
     ]
    },
    {
     "name": "stdout",
     "output_type": "stream",
     "text": [
      "Mean Accuracy (T1D): 0.9781\n",
      "Mean Sensitivity (T1D): 0.9543\n",
      "Mean Specificity (T1D): 1.0000\n",
      "Mean AUC (T1D): 0.9998\n",
      "Working on MS dataset: 508 samples\n"
     ]
    },
    {
     "name": "stderr",
     "output_type": "stream",
     "text": [
      "MS - Fold 0:  71%|▋| 2130/3000 [01:46<00:43, 19.96it/s, loss=0.181, test_loss=0.\n",
      "MS - Fold 1: 100%|█| 3000/3000 [02:30<00:00, 19.88it/s, loss=0.196, test_loss=0.\n",
      "MS - Fold 2:  68%|▋| 2052/3000 [01:42<00:47, 20.01it/s, loss=0.189, test_loss=0.\n",
      "MS - Fold 3:  67%|▋| 2013/3000 [01:41<00:49, 19.86it/s, loss=0.162, test_loss=0.\n",
      "MS - Fold 4:  86%|▊| 2566/3000 [02:09<00:21, 19.86it/s, loss=0.181, test_loss=0.\n"
     ]
    },
    {
     "name": "stdout",
     "output_type": "stream",
     "text": [
      "Mean Accuracy (MS): 0.9921\n",
      "Mean Sensitivity (MS): 0.9864\n",
      "Mean Specificity (MS): 1.0000\n",
      "Mean AUC (MS): 0.9998\n",
      "Working on IAA dataset: 279 samples\n"
     ]
    },
    {
     "name": "stderr",
     "output_type": "stream",
     "text": [
      "IAA - Fold 0:  42%|▍| 1257/3000 [00:35<00:48, 35.60it/s, loss=0.188, test_loss=0\n",
      "IAA - Fold 1:  75%|▋| 2249/3000 [01:02<00:20, 36.00it/s, loss=0.168, test_loss=0\n",
      "IAA - Fold 2:  70%|▋| 2097/3000 [00:57<00:24, 36.36it/s, loss=0.159, test_loss=0\n",
      "IAA - Fold 3:  70%|▋| 2111/3000 [00:58<00:24, 36.27it/s, loss=0.141, test_loss=0\n",
      "IAA - Fold 4:  41%|▍| 1231/3000 [00:34<00:49, 35.49it/s, loss=0.184, test_loss=0\n"
     ]
    },
    {
     "name": "stdout",
     "output_type": "stream",
     "text": [
      "Mean Accuracy (IAA): 0.9140\n",
      "Mean Sensitivity (IAA): 0.6615\n",
      "Mean Specificity (IAA): 0.9907\n",
      "Mean AUC (IAA): 0.9687\n",
      "Working on RA dataset: 322 samples\n"
     ]
    },
    {
     "name": "stderr",
     "output_type": "stream",
     "text": [
      "RA - Fold 0:  65%|▋| 1960/3000 [01:00<00:32, 32.14it/s, loss=0.185, test_loss=0.\n",
      "RA - Fold 1:  41%|▍| 1235/3000 [00:38<00:55, 31.81it/s, loss=0.189, test_loss=0.\n",
      "RA - Fold 2:  58%|▌| 1726/3000 [00:54<00:40, 31.68it/s, loss=0.155, test_loss=0.\n",
      "RA - Fold 3:  39%|▍| 1165/3000 [00:37<00:58, 31.24it/s, loss=0.128, test_loss=0.\n",
      "RA - Fold 4:  49%|▍| 1476/3000 [00:48<00:49, 30.64it/s, loss=0.146, test_loss=0.\n"
     ]
    },
    {
     "name": "stdout",
     "output_type": "stream",
     "text": [
      "Mean Accuracy (RA): 0.8509\n",
      "Mean Sensitivity (RA): 0.5926\n",
      "Mean Specificity (RA): 0.9813\n",
      "Mean AUC (RA): 0.9492\n",
      "Working on T1D dataset: 411 samples\n"
     ]
    },
    {
     "name": "stderr",
     "output_type": "stream",
     "text": [
      "T1D - Fold 0:  42%|▍| 1253/3000 [00:50<01:10, 24.94it/s, loss=0.181, test_loss=0\n",
      "T1D - Fold 1:  62%|▌| 1847/3000 [01:14<00:46, 24.89it/s, loss=0.16, test_loss=0.\n",
      "T1D - Fold 2:  73%|▋| 2176/3000 [01:27<00:33, 24.76it/s, loss=0.165, test_loss=0\n",
      "T1D - Fold 3:  51%|▌| 1528/3000 [01:02<00:59, 24.59it/s, loss=0.173, test_loss=0\n",
      "T1D - Fold 4:  64%|▋| 1915/3000 [01:17<00:43, 24.71it/s, loss=0.174, test_loss=0\n"
     ]
    },
    {
     "name": "stdout",
     "output_type": "stream",
     "text": [
      "Mean Accuracy (T1D): 0.9708\n",
      "Mean Sensitivity (T1D): 0.9442\n",
      "Mean Specificity (T1D): 0.9953\n",
      "Mean AUC (T1D): 0.9974\n",
      "Working on MS dataset: 508 samples\n"
     ]
    },
    {
     "name": "stderr",
     "output_type": "stream",
     "text": [
      "MS - Fold 0: 100%|█| 3000/3000 [02:34<00:00, 19.43it/s, loss=0.171, test_loss=0.\n",
      "MS - Fold 1: 100%|█| 3000/3000 [02:30<00:00, 19.96it/s, loss=0.146, test_loss=0.\n",
      "MS - Fold 2:  68%|▋| 2054/3000 [01:42<00:47, 20.11it/s, loss=0.186, test_loss=0.\n",
      "MS - Fold 3: 100%|█| 3000/3000 [02:29<00:00, 20.09it/s, loss=0.206, test_loss=0.\n",
      "MS - Fold 4:  69%|▋| 2060/3000 [01:42<00:46, 20.12it/s, loss=0.167, test_loss=0.\n"
     ]
    },
    {
     "name": "stdout",
     "output_type": "stream",
     "text": [
      "Mean Accuracy (MS): 0.9783\n",
      "Mean Sensitivity (MS): 0.9660\n",
      "Mean Specificity (MS): 0.9953\n",
      "Mean AUC (MS): 0.9995\n",
      "Working on IAA dataset: 279 samples\n"
     ]
    },
    {
     "name": "stderr",
     "output_type": "stream",
     "text": [
      "IAA - Fold 0:  34%|▎| 1007/3000 [00:28<00:56, 35.14it/s, loss=0.16, test_loss=0.\n",
      "IAA - Fold 1:  75%|▊| 2251/3000 [01:03<00:21, 35.23it/s, loss=0.184, test_loss=0\n",
      "IAA - Fold 2:  88%|▉| 2640/3000 [01:13<00:09, 36.16it/s, loss=0.207, test_loss=0\n",
      "IAA - Fold 3:  76%|▊| 2290/3000 [01:03<00:19, 36.07it/s, loss=0.19, test_loss=0.\n",
      "IAA - Fold 4:  52%|▌| 1571/3000 [00:44<00:40, 35.55it/s, loss=0.183, test_loss=0\n"
     ]
    },
    {
     "name": "stdout",
     "output_type": "stream",
     "text": [
      "Mean Accuracy (IAA): 0.9176\n",
      "Mean Sensitivity (IAA): 0.6615\n",
      "Mean Specificity (IAA): 0.9953\n",
      "Mean AUC (IAA): 0.9831\n",
      "Working on RA dataset: 322 samples\n"
     ]
    },
    {
     "name": "stderr",
     "output_type": "stream",
     "text": [
      "RA - Fold 0:  52%|▌| 1553/3000 [00:48<00:45, 32.06it/s, loss=0.208, test_loss=0.\n",
      "RA - Fold 1:  65%|▋| 1955/3000 [01:01<00:32, 31.97it/s, loss=0.188, test_loss=0.\n",
      "RA - Fold 2:  55%|▌| 1656/3000 [00:51<00:42, 31.86it/s, loss=0.197, test_loss=0.\n",
      "RA - Fold 3:  33%|▎| 999/3000 [00:31<01:02, 31.94it/s, loss=0.152, test_loss=0.4\n",
      "RA - Fold 4:  49%|▍| 1469/3000 [00:46<00:48, 31.87it/s, loss=0.166, test_loss=0.\n"
     ]
    },
    {
     "name": "stdout",
     "output_type": "stream",
     "text": [
      "Mean Accuracy (RA): 0.8385\n",
      "Mean Sensitivity (RA): 0.5926\n",
      "Mean Specificity (RA): 0.9626\n",
      "Mean AUC (RA): 0.9412\n",
      "Working on T1D dataset: 411 samples\n"
     ]
    },
    {
     "name": "stderr",
     "output_type": "stream",
     "text": [
      "T1D - Fold 0:  54%|▌| 1616/3000 [01:04<00:55, 25.13it/s, loss=0.18, test_loss=0.\n",
      "T1D - Fold 1:  67%|▋| 2003/3000 [01:21<00:40, 24.58it/s, loss=0.151, test_loss=0\n",
      "T1D - Fold 2:  41%|▍| 1240/3000 [00:50<01:11, 24.50it/s, loss=0.179, test_loss=0\n",
      "T1D - Fold 3:  61%|▌| 1824/3000 [01:14<00:48, 24.45it/s, loss=0.145, test_loss=0\n",
      "T1D - Fold 4:  86%|▊| 2570/3000 [01:44<00:17, 24.57it/s, loss=0.195, test_loss=0\n"
     ]
    },
    {
     "name": "stdout",
     "output_type": "stream",
     "text": [
      "Mean Accuracy (T1D): 0.9684\n",
      "Mean Sensitivity (T1D): 0.9340\n",
      "Mean Specificity (T1D): 1.0000\n",
      "Mean AUC (T1D): 0.9986\n",
      "Working on MS dataset: 508 samples\n"
     ]
    },
    {
     "name": "stderr",
     "output_type": "stream",
     "text": [
      "MS - Fold 0: 100%|█| 3000/3000 [02:28<00:00, 20.20it/s, loss=0.194, test_loss=0.\n",
      "MS - Fold 1:  82%|▊| 2474/3000 [02:04<00:26, 19.93it/s, loss=0.165, test_loss=0.\n",
      "MS - Fold 2:  82%|▊| 2465/3000 [02:02<00:26, 20.10it/s, loss=0.166, test_loss=0.\n",
      "MS - Fold 3: 100%|█| 3000/3000 [02:31<00:00, 19.85it/s, loss=0.173, test_loss=0.\n",
      "MS - Fold 4:  49%|▍| 1460/3000 [01:13<01:17, 19.88it/s, loss=0.174, test_loss=0.\n"
     ]
    },
    {
     "name": "stdout",
     "output_type": "stream",
     "text": [
      "Mean Accuracy (MS): 0.9902\n",
      "Mean Sensitivity (MS): 0.9864\n",
      "Mean Specificity (MS): 0.9953\n",
      "Mean AUC (MS): 0.9996\n",
      "Working on IAA dataset: 279 samples\n"
     ]
    },
    {
     "name": "stderr",
     "output_type": "stream",
     "text": [
      "IAA - Fold 0:  45%|▍| 1341/3000 [00:38<00:47, 35.25it/s, loss=0.178, test_loss=0\n",
      "IAA - Fold 1:  99%|▉| 2960/3000 [01:22<00:01, 35.85it/s, loss=0.184, test_loss=0\n",
      "IAA - Fold 2:  96%|▉| 2883/3000 [01:20<00:03, 35.92it/s, loss=0.179, test_loss=0\n",
      "IAA - Fold 3:  90%|▉| 2707/3000 [01:15<00:08, 36.04it/s, loss=0.172, test_loss=0\n",
      "IAA - Fold 4:  54%|▌| 1621/3000 [00:45<00:38, 35.63it/s, loss=0.178, test_loss=0\n"
     ]
    },
    {
     "name": "stdout",
     "output_type": "stream",
     "text": [
      "Mean Accuracy (IAA): 0.9319\n",
      "Mean Sensitivity (IAA): 0.7231\n",
      "Mean Specificity (IAA): 0.9953\n",
      "Mean AUC (IAA): 0.9861\n",
      "Working on RA dataset: 322 samples\n"
     ]
    },
    {
     "name": "stderr",
     "output_type": "stream",
     "text": [
      "RA - Fold 0:  28%|▎| 845/3000 [00:26<01:07, 31.84it/s, loss=0.186, test_loss=0.3\n",
      "RA - Fold 1:  30%|▎| 913/3000 [00:29<01:06, 31.26it/s, loss=0.173, test_loss=0.3\n",
      "RA - Fold 2:  93%|▉| 2778/3000 [01:28<00:07, 31.48it/s, loss=0.155, test_loss=0.\n",
      "RA - Fold 3:  62%|▌| 1870/3000 [01:00<00:36, 30.76it/s, loss=0.223, test_loss=0.\n",
      "RA - Fold 4:  43%|▍| 1277/3000 [00:41<00:55, 31.09it/s, loss=0.173, test_loss=0.\n"
     ]
    },
    {
     "name": "stdout",
     "output_type": "stream",
     "text": [
      "Mean Accuracy (RA): 0.8385\n",
      "Mean Sensitivity (RA): 0.5648\n",
      "Mean Specificity (RA): 0.9766\n",
      "Mean AUC (RA): 0.9425\n",
      "Working on T1D dataset: 411 samples\n"
     ]
    },
    {
     "name": "stderr",
     "output_type": "stream",
     "text": [
      "T1D - Fold 0:  69%|▋| 2063/3000 [01:23<00:37, 24.81it/s, loss=0.223, test_loss=0\n",
      "T1D - Fold 1:  96%|▉| 2870/3000 [01:55<00:05, 24.83it/s, loss=0.177, test_loss=0\n",
      "T1D - Fold 2:  39%|▍| 1182/3000 [00:47<01:13, 24.68it/s, loss=0.167, test_loss=0\n",
      "T1D - Fold 3: 100%|█| 3000/3000 [02:01<00:00, 24.75it/s, loss=0.193, test_loss=0\n",
      "T1D - Fold 4: 100%|█| 3000/3000 [02:02<00:00, 24.42it/s, loss=0.227, test_loss=0\n"
     ]
    },
    {
     "name": "stdout",
     "output_type": "stream",
     "text": [
      "Mean Accuracy (T1D): 0.9659\n",
      "Mean Sensitivity (T1D): 0.9289\n",
      "Mean Specificity (T1D): 1.0000\n",
      "Mean AUC (T1D): 0.9987\n",
      "Working on MS dataset: 508 samples\n"
     ]
    },
    {
     "name": "stderr",
     "output_type": "stream",
     "text": [
      "MS - Fold 0:  53%|▌| 1590/3000 [01:20<01:10, 19.87it/s, loss=0.188, test_loss=0.\n",
      "MS - Fold 1: 100%|█| 3000/3000 [02:29<00:00, 20.10it/s, loss=0.176, test_loss=0.\n",
      "MS - Fold 2:  83%|▊| 2484/3000 [02:04<00:25, 19.99it/s, loss=0.156, test_loss=0.\n",
      "MS - Fold 3: 100%|█| 3000/3000 [02:28<00:00, 20.14it/s, loss=0.156, test_loss=0.\n",
      "MS - Fold 4:  55%|▌| 1662/3000 [01:22<01:06, 20.08it/s, loss=0.197, test_loss=0.\n"
     ]
    },
    {
     "name": "stdout",
     "output_type": "stream",
     "text": [
      "Mean Accuracy (MS): 0.9449\n",
      "Mean Sensitivity (MS): 0.9218\n",
      "Mean Specificity (MS): 0.9766\n",
      "Mean AUC (MS): 0.9940\n",
      "Working on IAA dataset: 279 samples\n"
     ]
    },
    {
     "name": "stderr",
     "output_type": "stream",
     "text": [
      "IAA - Fold 0:  21%|▏| 632/3000 [00:17<01:05, 36.28it/s, loss=0.205, test_loss=0.\n",
      "IAA - Fold 1:  71%|▋| 2138/3000 [01:00<00:24, 35.43it/s, loss=0.169, test_loss=0\n",
      "IAA - Fold 2:  84%|▊| 2514/3000 [01:09<00:13, 35.96it/s, loss=0.184, test_loss=0\n",
      "IAA - Fold 3:  77%|▊| 2318/3000 [01:03<00:18, 36.23it/s, loss=0.177, test_loss=0\n",
      "IAA - Fold 4:  65%|▋| 1962/3000 [00:54<00:28, 35.81it/s, loss=0.164, test_loss=0\n"
     ]
    },
    {
     "name": "stdout",
     "output_type": "stream",
     "text": [
      "Mean Accuracy (IAA): 0.8817\n",
      "Mean Sensitivity (IAA): 0.5231\n",
      "Mean Specificity (IAA): 0.9907\n",
      "Mean AUC (IAA): 0.9671\n",
      "Working on RA dataset: 322 samples\n"
     ]
    },
    {
     "name": "stderr",
     "output_type": "stream",
     "text": [
      "RA - Fold 0:  63%|▋| 1894/3000 [00:59<00:34, 31.83it/s, loss=0.169, test_loss=0.\n",
      "RA - Fold 1:  65%|▋| 1954/3000 [01:00<00:32, 32.38it/s, loss=0.188, test_loss=0.\n",
      "RA - Fold 2:  60%|▌| 1804/3000 [00:56<00:37, 32.14it/s, loss=0.18, test_loss=0.2\n",
      "RA - Fold 3:  35%|▎| 1059/3000 [00:33<01:00, 31.86it/s, loss=0.151, test_loss=0.\n",
      "RA - Fold 4:  35%|▎| 1058/3000 [00:33<01:01, 31.74it/s, loss=0.179, test_loss=0.\n"
     ]
    },
    {
     "name": "stdout",
     "output_type": "stream",
     "text": [
      "Mean Accuracy (RA): 0.8447\n",
      "Mean Sensitivity (RA): 0.5741\n",
      "Mean Specificity (RA): 0.9813\n",
      "Mean AUC (RA): 0.9560\n",
      "Working on T1D dataset: 411 samples\n"
     ]
    },
    {
     "name": "stderr",
     "output_type": "stream",
     "text": [
      "T1D - Fold 0:  76%|▊| 2269/3000 [01:31<00:29, 24.86it/s, loss=0.157, test_loss=0\n",
      "T1D - Fold 1: 100%|█| 3000/3000 [02:02<00:00, 24.43it/s, loss=0.154, test_loss=0\n",
      "T1D - Fold 2:  46%|▍| 1367/3000 [00:56<01:07, 24.25it/s, loss=0.17, test_loss=0.\n",
      "T1D - Fold 3:  76%|▊| 2291/3000 [01:35<00:29, 24.03it/s, loss=0.194, test_loss=0\n",
      "T1D - Fold 4:  89%|▉| 2670/3000 [01:47<00:13, 24.81it/s, loss=0.157, test_loss=0\n"
     ]
    },
    {
     "name": "stdout",
     "output_type": "stream",
     "text": [
      "Mean Accuracy (T1D): 0.9757\n",
      "Mean Sensitivity (T1D): 0.9594\n",
      "Mean Specificity (T1D): 0.9907\n",
      "Mean AUC (T1D): 0.9987\n",
      "Working on MS dataset: 508 samples\n"
     ]
    },
    {
     "name": "stderr",
     "output_type": "stream",
     "text": [
      "MS - Fold 0:  67%|▋| 2007/3000 [01:42<00:50, 19.64it/s, loss=0.186, test_loss=0.\n",
      "MS - Fold 1: 100%|█| 3000/3000 [02:32<00:00, 19.71it/s, loss=0.162, test_loss=0.\n",
      "MS - Fold 2:  69%|▋| 2066/3000 [01:44<00:47, 19.81it/s, loss=0.149, test_loss=0.\n",
      "MS - Fold 3:  91%|▉| 2727/3000 [02:18<00:13, 19.73it/s, loss=0.176, test_loss=0.\n",
      "MS - Fold 4:  77%|▊| 2307/3000 [01:57<00:35, 19.70it/s, loss=0.186, test_loss=0.\n"
     ]
    },
    {
     "name": "stdout",
     "output_type": "stream",
     "text": [
      "Mean Accuracy (MS): 0.9882\n",
      "Mean Sensitivity (MS): 0.9830\n",
      "Mean Specificity (MS): 0.9953\n",
      "Mean AUC (MS): 0.9997\n",
      "Working on IAA dataset: 279 samples\n"
     ]
    },
    {
     "name": "stderr",
     "output_type": "stream",
     "text": [
      "IAA - Fold 0:  41%|▍| 1242/3000 [00:34<00:49, 35.49it/s, loss=0.153, test_loss=0\n",
      "IAA - Fold 1:  99%|▉| 2973/3000 [01:24<00:00, 35.22it/s, loss=0.145, test_loss=0\n",
      "IAA - Fold 2:  44%|▍| 1321/3000 [00:37<00:47, 35.70it/s, loss=0.19, test_loss=0.\n",
      "IAA - Fold 3:  53%|▌| 1597/3000 [00:45<00:39, 35.26it/s, loss=0.188, test_loss=0\n",
      "IAA - Fold 4:  49%|▍| 1465/3000 [00:41<00:43, 35.44it/s, loss=0.19, test_loss=0.\n"
     ]
    },
    {
     "name": "stdout",
     "output_type": "stream",
     "text": [
      "Mean Accuracy (IAA): 0.9247\n",
      "Mean Sensitivity (IAA): 0.6769\n",
      "Mean Specificity (IAA): 1.0000\n",
      "Mean AUC (IAA): 0.9779\n",
      "Working on RA dataset: 322 samples\n"
     ]
    },
    {
     "name": "stderr",
     "output_type": "stream",
     "text": [
      "RA - Fold 0:  53%|▌| 1592/3000 [00:50<00:45, 31.27it/s, loss=0.184, test_loss=0.\n",
      "RA - Fold 1:  51%|▌| 1532/3000 [00:50<00:48, 30.09it/s, loss=0.187, test_loss=0.\n",
      "RA - Fold 2:  75%|▊| 2251/3000 [01:12<00:24, 31.12it/s, loss=0.161, test_loss=0.\n",
      "RA - Fold 3:  46%|▍| 1374/3000 [00:44<00:52, 31.05it/s, loss=0.163, test_loss=0.\n",
      "RA - Fold 4:  52%|▌| 1575/3000 [00:50<00:45, 31.22it/s, loss=0.205, test_loss=0.\n"
     ]
    },
    {
     "name": "stdout",
     "output_type": "stream",
     "text": [
      "Mean Accuracy (RA): 0.8168\n",
      "Mean Sensitivity (RA): 0.5185\n",
      "Mean Specificity (RA): 0.9673\n",
      "Mean AUC (RA): 0.9061\n",
      "Working on T1D dataset: 411 samples\n"
     ]
    },
    {
     "name": "stderr",
     "output_type": "stream",
     "text": [
      "T1D - Fold 0:  51%|▌| 1526/3000 [01:02<01:00, 24.51it/s, loss=0.176, test_loss=0\n",
      "T1D - Fold 1:  87%|▊| 2606/3000 [01:45<00:15, 24.76it/s, loss=0.191, test_loss=0\n",
      "T1D - Fold 2:  43%|▍| 1277/3000 [00:52<01:10, 24.28it/s, loss=0.207, test_loss=0\n",
      "T1D - Fold 3:  67%|▋| 2003/3000 [01:20<00:40, 24.75it/s, loss=0.168, test_loss=0\n",
      "T1D - Fold 4:  47%|▍| 1417/3000 [00:58<01:05, 24.32it/s, loss=0.181, test_loss=0\n"
     ]
    },
    {
     "name": "stdout",
     "output_type": "stream",
     "text": [
      "Mean Accuracy (T1D): 0.9659\n",
      "Mean Sensitivity (T1D): 0.9340\n",
      "Mean Specificity (T1D): 0.9953\n",
      "Mean AUC (T1D): 0.9967\n",
      "Working on MS dataset: 508 samples\n"
     ]
    },
    {
     "name": "stderr",
     "output_type": "stream",
     "text": [
      "MS - Fold 0:  87%|▊| 2606/3000 [02:10<00:19, 19.93it/s, loss=0.177, test_loss=0.\n",
      "MS - Fold 1: 100%|█| 3000/3000 [02:29<00:00, 20.04it/s, loss=0.166, test_loss=0.\n",
      "MS - Fold 2:  60%|▌| 1806/3000 [01:29<00:59, 20.23it/s, loss=0.181, test_loss=0.\n",
      "MS - Fold 3:  83%|▊| 2476/3000 [02:04<00:26, 19.95it/s, loss=0.171, test_loss=0.\n",
      "MS - Fold 4:  77%|▊| 2312/3000 [01:54<00:34, 20.23it/s, loss=0.183, test_loss=0.\n"
     ]
    },
    {
     "name": "stdout",
     "output_type": "stream",
     "text": [
      "Mean Accuracy (MS): 0.9921\n",
      "Mean Sensitivity (MS): 0.9898\n",
      "Mean Specificity (MS): 0.9953\n",
      "Mean AUC (MS): 0.9994\n",
      "Working on IAA dataset: 279 samples\n"
     ]
    },
    {
     "name": "stderr",
     "output_type": "stream",
     "text": [
      "IAA - Fold 0:  41%|▍| 1226/3000 [00:34<00:50, 35.42it/s, loss=0.148, test_loss=0\n",
      "IAA - Fold 1:  97%|▉| 2904/3000 [01:20<00:02, 36.18it/s, loss=0.228, test_loss=0\n",
      "IAA - Fold 2:  97%|▉| 2913/3000 [01:21<00:02, 35.68it/s, loss=0.195, test_loss=0\n",
      "IAA - Fold 3:  84%|▊| 2535/3000 [01:12<00:13, 35.14it/s, loss=0.18, test_loss=0.\n",
      "IAA - Fold 4:  45%|▍| 1359/3000 [00:37<00:45, 36.08it/s, loss=0.169, test_loss=0\n"
     ]
    },
    {
     "name": "stdout",
     "output_type": "stream",
     "text": [
      "Mean Accuracy (IAA): 0.9211\n",
      "Mean Sensitivity (IAA): 0.6923\n",
      "Mean Specificity (IAA): 0.9907\n",
      "Mean AUC (IAA): 0.9782\n",
      "Working on RA dataset: 322 samples\n"
     ]
    },
    {
     "name": "stderr",
     "output_type": "stream",
     "text": [
      "RA - Fold 0:  26%|▎| 770/3000 [00:24<01:10, 31.73it/s, loss=0.169, test_loss=0.3\n",
      "RA - Fold 1:  62%|▌| 1866/3000 [00:58<00:35, 31.85it/s, loss=0.178, test_loss=0.\n",
      "RA - Fold 2:  90%|▉| 2688/3000 [01:25<00:09, 31.43it/s, loss=0.176, test_loss=0.\n",
      "RA - Fold 3:  37%|▎| 1098/3000 [00:34<00:59, 31.92it/s, loss=0.188, test_loss=0.\n",
      "RA - Fold 4:  42%|▍| 1264/3000 [00:39<00:54, 31.65it/s, loss=0.186, test_loss=0.\n"
     ]
    },
    {
     "name": "stdout",
     "output_type": "stream",
     "text": [
      "Mean Accuracy (RA): 0.8354\n",
      "Mean Sensitivity (RA): 0.5556\n",
      "Mean Specificity (RA): 0.9766\n",
      "Mean AUC (RA): 0.9448\n",
      "Working on T1D dataset: 411 samples\n"
     ]
    },
    {
     "name": "stderr",
     "output_type": "stream",
     "text": [
      "T1D - Fold 0:  82%|▊| 2455/3000 [01:39<00:22, 24.57it/s, loss=0.189, test_loss=0\n",
      "T1D - Fold 1: 100%|█| 3000/3000 [02:01<00:00, 24.68it/s, loss=0.175, test_loss=0\n",
      "T1D - Fold 2:  66%|▋| 1983/3000 [01:20<00:41, 24.51it/s, loss=0.195, test_loss=0\n",
      "T1D - Fold 3:  75%|▋| 2246/3000 [01:30<00:30, 24.87it/s, loss=0.177, test_loss=0\n",
      "T1D - Fold 4:  75%|▊| 2253/3000 [01:31<00:30, 24.62it/s, loss=0.165, test_loss=0\n"
     ]
    },
    {
     "name": "stdout",
     "output_type": "stream",
     "text": [
      "Mean Accuracy (T1D): 0.9854\n",
      "Mean Sensitivity (T1D): 0.9695\n",
      "Mean Specificity (T1D): 1.0000\n",
      "Mean AUC (T1D): 0.9992\n",
      "Working on MS dataset: 508 samples\n"
     ]
    },
    {
     "name": "stderr",
     "output_type": "stream",
     "text": [
      "MS - Fold 0: 100%|█| 3000/3000 [02:30<00:00, 19.87it/s, loss=0.183, test_loss=0.\n",
      "MS - Fold 1:  91%|▉| 2729/3000 [02:19<00:13, 19.61it/s, loss=0.166, test_loss=0.\n",
      "MS - Fold 2:  51%|▌| 1520/3000 [01:17<01:15, 19.69it/s, loss=0.166, test_loss=0.\n",
      "MS - Fold 3: 100%|█| 3000/3000 [02:30<00:00, 19.96it/s, loss=0.173, test_loss=0.\n",
      "MS - Fold 4:  78%|▊| 2337/3000 [02:01<00:34, 19.29it/s, loss=0.19, test_loss=0.0\n"
     ]
    },
    {
     "name": "stdout",
     "output_type": "stream",
     "text": [
      "Mean Accuracy (MS): 0.9902\n",
      "Mean Sensitivity (MS): 0.9864\n",
      "Mean Specificity (MS): 0.9953\n",
      "Mean AUC (MS): 0.9995\n",
      "Working on IAA dataset: 279 samples\n"
     ]
    },
    {
     "name": "stderr",
     "output_type": "stream",
     "text": [
      "IAA - Fold 0:  30%|▎| 915/3000 [00:25<00:59, 35.23it/s, loss=0.176, test_loss=0.\n",
      "IAA - Fold 1:  73%|▋| 2195/3000 [01:01<00:22, 35.92it/s, loss=0.127, test_loss=0\n",
      "IAA - Fold 2:  41%|▍| 1239/3000 [00:36<00:51, 34.37it/s, loss=0.185, test_loss=0\n",
      "IAA - Fold 3:  71%|▋| 2129/3000 [01:00<00:24, 34.95it/s, loss=0.161, test_loss=0\n",
      "IAA - Fold 4:  72%|▋| 2160/3000 [01:01<00:23, 35.39it/s, loss=0.146, test_loss=0\n"
     ]
    },
    {
     "name": "stdout",
     "output_type": "stream",
     "text": [
      "Mean Accuracy (IAA): 0.8853\n",
      "Mean Sensitivity (IAA): 0.5077\n",
      "Mean Specificity (IAA): 1.0000\n",
      "Mean AUC (IAA): 0.9671\n",
      "Working on RA dataset: 322 samples\n"
     ]
    },
    {
     "name": "stderr",
     "output_type": "stream",
     "text": [
      "RA - Fold 0:  64%|▋| 1918/3000 [01:01<00:34, 31.27it/s, loss=0.168, test_loss=0.\n",
      "RA - Fold 1:  18%|▏| 555/3000 [00:17<01:17, 31.55it/s, loss=0.241, test_loss=0.6\n",
      "RA - Fold 2:  91%|▉| 2727/3000 [01:28<00:08, 30.96it/s, loss=0.186, test_loss=0.\n",
      "RA - Fold 3:  58%|▌| 1737/3000 [00:57<00:41, 30.28it/s, loss=0.18, test_loss=0.4\n",
      "RA - Fold 4:  43%|▍| 1296/3000 [00:42<00:55, 30.79it/s, loss=0.195, test_loss=0.\n"
     ]
    },
    {
     "name": "stdout",
     "output_type": "stream",
     "text": [
      "Mean Accuracy (RA): 0.7857\n",
      "Mean Sensitivity (RA): 0.4167\n",
      "Mean Specificity (RA): 0.9720\n",
      "Mean AUC (RA): 0.8657\n",
      "Working on T1D dataset: 411 samples\n"
     ]
    },
    {
     "name": "stderr",
     "output_type": "stream",
     "text": [
      "T1D - Fold 0:  60%|▌| 1791/3000 [01:12<00:48, 24.81it/s, loss=0.17, test_loss=0.\n",
      "T1D - Fold 1:  76%|▊| 2282/3000 [01:32<00:28, 24.77it/s, loss=0.159, test_loss=0\n",
      "T1D - Fold 2:  30%|▎| 893/3000 [00:36<01:25, 24.70it/s, loss=0.173, test_loss=0.\n",
      "T1D - Fold 3:  99%|▉| 2977/3000 [02:01<00:00, 24.42it/s, loss=0.206, test_loss=0\n",
      "T1D - Fold 4:  77%|▊| 2298/3000 [01:33<00:28, 24.69it/s, loss=0.207, test_loss=0\n"
     ]
    },
    {
     "name": "stdout",
     "output_type": "stream",
     "text": [
      "Mean Accuracy (T1D): 0.9611\n",
      "Mean Sensitivity (T1D): 0.9289\n",
      "Mean Specificity (T1D): 0.9907\n",
      "Mean AUC (T1D): 0.9966\n",
      "Working on MS dataset: 508 samples\n"
     ]
    },
    {
     "name": "stderr",
     "output_type": "stream",
     "text": [
      "MS - Fold 0: 100%|█| 3000/3000 [02:31<00:00, 19.84it/s, loss=0.153, test_loss=0.\n",
      "MS - Fold 1: 100%|█| 3000/3000 [02:31<00:00, 19.83it/s, loss=0.18, test_loss=0.0\n",
      "MS - Fold 2: 100%|█| 3000/3000 [02:31<00:00, 19.82it/s, loss=0.195, test_loss=0.\n",
      "MS - Fold 3: 100%|█| 3000/3000 [02:27<00:00, 20.36it/s, loss=0.178, test_loss=0.\n",
      "MS - Fold 4:  53%|▌| 1577/3000 [01:18<01:10, 20.20it/s, loss=0.156, test_loss=0.\n"
     ]
    },
    {
     "name": "stdout",
     "output_type": "stream",
     "text": [
      "Mean Accuracy (MS): 0.9705\n",
      "Mean Sensitivity (MS): 0.9592\n",
      "Mean Specificity (MS): 0.9860\n",
      "Mean AUC (MS): 0.9960\n",
      "Working on IAA dataset: 279 samples\n"
     ]
    },
    {
     "name": "stderr",
     "output_type": "stream",
     "text": [
      "IAA - Fold 0:  41%|▍| 1236/3000 [00:35<00:50, 35.26it/s, loss=0.174, test_loss=0\n",
      "IAA - Fold 1:  73%|▋| 2190/3000 [01:00<00:22, 36.26it/s, loss=0.168, test_loss=0\n",
      "IAA - Fold 2:  70%|▋| 2087/3000 [00:57<00:25, 36.07it/s, loss=0.231, test_loss=0\n",
      "IAA - Fold 3:  92%|▉| 2755/3000 [01:15<00:06, 36.25it/s, loss=0.192, test_loss=0\n",
      "IAA - Fold 4:  42%|▍| 1268/3000 [00:35<00:48, 35.56it/s, loss=0.231, test_loss=0\n"
     ]
    },
    {
     "name": "stdout",
     "output_type": "stream",
     "text": [
      "Mean Accuracy (IAA): 0.8746\n",
      "Mean Sensitivity (IAA): 0.4769\n",
      "Mean Specificity (IAA): 0.9953\n",
      "Mean AUC (IAA): 0.9602\n",
      "Working on RA dataset: 322 samples\n"
     ]
    },
    {
     "name": "stderr",
     "output_type": "stream",
     "text": [
      "RA - Fold 0:  11%| | 332/3000 [00:10<01:22, 32.23it/s, loss=0.246, test_loss=0.6\n",
      "RA - Fold 1:  80%|▊| 2410/3000 [01:15<00:18, 31.82it/s, loss=0.213, test_loss=0.\n",
      "RA - Fold 2:  54%|▌| 1628/3000 [00:51<00:43, 31.35it/s, loss=0.163, test_loss=0.\n",
      "RA - Fold 3:  89%|▉| 2683/3000 [01:23<00:09, 32.03it/s, loss=0.167, test_loss=0.\n",
      "RA - Fold 4:  39%|▍| 1159/3000 [00:36<00:58, 31.44it/s, loss=0.186, test_loss=0.\n"
     ]
    },
    {
     "name": "stdout",
     "output_type": "stream",
     "text": [
      "Mean Accuracy (RA): 0.8478\n",
      "Mean Sensitivity (RA): 0.5833\n",
      "Mean Specificity (RA): 0.9813\n",
      "Mean AUC (RA): 0.9225\n",
      "Working on T1D dataset: 411 samples\n"
     ]
    },
    {
     "name": "stderr",
     "output_type": "stream",
     "text": [
      "T1D - Fold 0:  57%|▌| 1700/3000 [01:09<00:53, 24.34it/s, loss=0.206, test_loss=0\n",
      "T1D - Fold 1:  93%|▉| 2795/3000 [01:53<00:08, 24.62it/s, loss=0.174, test_loss=0\n",
      "T1D - Fold 2:  75%|▊| 2257/3000 [01:31<00:30, 24.62it/s, loss=0.187, test_loss=0\n",
      "T1D - Fold 3: 100%|█| 3000/3000 [02:02<00:00, 24.44it/s, loss=0.164, test_loss=0\n",
      "T1D - Fold 4:  73%|▋| 2186/3000 [01:29<00:33, 24.40it/s, loss=0.189, test_loss=0\n"
     ]
    },
    {
     "name": "stdout",
     "output_type": "stream",
     "text": [
      "Mean Accuracy (T1D): 0.9708\n",
      "Mean Sensitivity (T1D): 0.9391\n",
      "Mean Specificity (T1D): 1.0000\n",
      "Mean AUC (T1D): 0.9985\n",
      "Working on MS dataset: 508 samples\n"
     ]
    },
    {
     "name": "stderr",
     "output_type": "stream",
     "text": [
      "MS - Fold 0:  79%|▊| 2376/3000 [01:59<00:31, 19.91it/s, loss=0.187, test_loss=0.\n",
      "MS - Fold 1:  99%|▉| 2966/3000 [02:32<00:01, 19.40it/s, loss=0.19, test_loss=0.0\n",
      "MS - Fold 2:  57%|▌| 1719/3000 [01:29<01:06, 19.24it/s, loss=0.154, test_loss=0.\n",
      "MS - Fold 3: 100%|█| 3000/3000 [02:34<00:00, 19.42it/s, loss=0.188, test_loss=0.\n",
      "MS - Fold 4:  69%|▋| 2080/3000 [01:47<00:47, 19.27it/s, loss=0.125, test_loss=0.\n"
     ]
    },
    {
     "name": "stdout",
     "output_type": "stream",
     "text": [
      "Mean Accuracy (MS): 0.9902\n",
      "Mean Sensitivity (MS): 0.9864\n",
      "Mean Specificity (MS): 0.9953\n",
      "Mean AUC (MS): 0.9995\n",
      "Working on IAA dataset: 279 samples\n"
     ]
    },
    {
     "name": "stderr",
     "output_type": "stream",
     "text": [
      "IAA - Fold 0:  49%|▍| 1458/3000 [00:42<00:44, 34.65it/s, loss=0.191, test_loss=0\n",
      "IAA - Fold 1:  88%|▉| 2628/3000 [01:13<00:10, 35.88it/s, loss=0.184, test_loss=0\n",
      "IAA - Fold 2:  54%|▌| 1629/3000 [00:46<00:39, 35.10it/s, loss=0.207, test_loss=0\n",
      "IAA - Fold 3:  79%|▊| 2383/3000 [01:08<00:17, 34.84it/s, loss=0.176, test_loss=0\n",
      "IAA - Fold 4:  54%|▌| 1614/3000 [00:44<00:38, 36.06it/s, loss=0.18, test_loss=0.\n"
     ]
    },
    {
     "name": "stdout",
     "output_type": "stream",
     "text": [
      "Mean Accuracy (IAA): 0.9391\n",
      "Mean Sensitivity (IAA): 0.7538\n",
      "Mean Specificity (IAA): 0.9953\n",
      "Mean AUC (IAA): 0.9890\n",
      "Working on RA dataset: 322 samples\n"
     ]
    },
    {
     "name": "stderr",
     "output_type": "stream",
     "text": [
      "RA - Fold 0:  84%|▊| 2528/3000 [01:18<00:14, 32.19it/s, loss=0.16, test_loss=0.3\n",
      "RA - Fold 1:  53%|▌| 1596/3000 [00:50<00:44, 31.56it/s, loss=0.169, test_loss=0.\n",
      "RA - Fold 2:  42%|▍| 1272/3000 [00:39<00:54, 31.87it/s, loss=0.2, test_loss=0.26\n",
      "RA - Fold 3:  48%|▍| 1444/3000 [00:45<00:49, 31.59it/s, loss=0.151, test_loss=0.\n",
      "RA - Fold 4:  35%|▎| 1045/3000 [00:32<01:01, 31.97it/s, loss=0.159, test_loss=0.\n"
     ]
    },
    {
     "name": "stdout",
     "output_type": "stream",
     "text": [
      "Mean Accuracy (RA): 0.8199\n",
      "Mean Sensitivity (RA): 0.5463\n",
      "Mean Specificity (RA): 0.9579\n",
      "Mean AUC (RA): 0.9208\n",
      "Working on T1D dataset: 411 samples\n"
     ]
    },
    {
     "name": "stderr",
     "output_type": "stream",
     "text": [
      "T1D - Fold 0:  84%|▊| 2510/3000 [01:40<00:19, 24.89it/s, loss=0.191, test_loss=0\n",
      "T1D - Fold 1: 100%|█| 3000/3000 [02:03<00:00, 24.24it/s, loss=0.211, test_loss=0\n",
      "T1D - Fold 2:  56%|▌| 1667/3000 [01:07<00:54, 24.63it/s, loss=0.164, test_loss=0\n",
      "T1D - Fold 3: 100%|█| 3000/3000 [02:02<00:00, 24.50it/s, loss=0.164, test_loss=0\n",
      "T1D - Fold 4:  99%|▉| 2981/3000 [02:01<00:00, 24.55it/s, loss=0.135, test_loss=0\n"
     ]
    },
    {
     "name": "stdout",
     "output_type": "stream",
     "text": [
      "Mean Accuracy (T1D): 0.9684\n",
      "Mean Sensitivity (T1D): 0.9391\n",
      "Mean Specificity (T1D): 0.9953\n",
      "Mean AUC (T1D): 0.9968\n",
      "Working on MS dataset: 508 samples\n"
     ]
    },
    {
     "name": "stderr",
     "output_type": "stream",
     "text": [
      "MS - Fold 0: 100%|█| 3000/3000 [02:29<00:00, 20.03it/s, loss=0.17, test_loss=0.0\n",
      "MS - Fold 1:  83%|▊| 2483/3000 [02:04<00:25, 20.02it/s, loss=0.182, test_loss=0.\n",
      "MS - Fold 2:  82%|▊| 2451/3000 [02:05<00:28, 19.50it/s, loss=0.138, test_loss=0.\n",
      "MS - Fold 3:  93%|▉| 2797/3000 [02:19<00:10, 19.98it/s, loss=0.197, test_loss=0.\n",
      "MS - Fold 4:  90%|▉| 2702/3000 [02:16<00:15, 19.79it/s, loss=0.143, test_loss=0.\n"
     ]
    },
    {
     "name": "stdout",
     "output_type": "stream",
     "text": [
      "Mean Accuracy (MS): 0.9862\n",
      "Mean Sensitivity (MS): 0.9762\n",
      "Mean Specificity (MS): 1.0000\n",
      "Mean AUC (MS): 0.9999\n",
      "Working on IAA dataset: 279 samples\n"
     ]
    },
    {
     "name": "stderr",
     "output_type": "stream",
     "text": [
      "IAA - Fold 0:  29%|▎| 877/3000 [00:24<01:00, 35.27it/s, loss=0.196, test_loss=0.\n",
      "IAA - Fold 1:  72%|▋| 2158/3000 [00:59<00:23, 36.09it/s, loss=0.2, test_loss=0.1\n",
      "IAA - Fold 2: 100%|█| 3000/3000 [01:23<00:00, 35.80it/s, loss=0.204, test_loss=0\n",
      "IAA - Fold 3:  60%|▌| 1793/3000 [00:50<00:33, 35.83it/s, loss=0.173, test_loss=0\n",
      "IAA - Fold 4:  73%|▋| 2181/3000 [01:01<00:23, 35.48it/s, loss=0.148, test_loss=0"
     ]
    },
    {
     "name": "stdout",
     "output_type": "stream",
     "text": [
      "Mean Accuracy (IAA): 0.9104\n",
      "Mean Sensitivity (IAA): 0.6154\n",
      "Mean Specificity (IAA): 1.0000\n",
      "Mean AUC (IAA): 0.9746\n"
     ]
    },
    {
     "name": "stderr",
     "output_type": "stream",
     "text": [
      "\n"
     ]
    }
   ],
   "source": [
    "# 模型参数设置\n",
    "def init_model():\n",
    "    ins_num = 100\n",
    "    drop_out = 0.5\n",
    "    return AotoY(ins_num, drop_out)\n",
    "\n",
    "sys.path.append('../')\n",
    "from python_codes.pytorchtools import EarlyStopping\n",
    "\n",
    "# 读取氨基酸特征文件\n",
    "aa_file = \"../Data/PCA15.txt\"\n",
    "aa_vectors = get_features(aa_file)  # 请确保 get_features 函数正确读取文件\n",
    "\n",
    "# 四种自免疫疾病\n",
    "disease_list = [\"RA\", \"T1D\", \"MS\", \"IAA\"]\n",
    "\n",
    "# 5折交叉验证\n",
    "k_fold = 5\n",
    "kf = KFold(n_splits=k_fold, shuffle=True, random_state=42)\n",
    "\n",
    "# 总轮次\n",
    "NUM_EPOCHES = 3000\n",
    "# 设置早停的耐心值\n",
    "PATIENCE = 300\n",
    "device = \"cuda\"\n",
    "\n",
    "# 存储每一折的性能指标\n",
    "all_accuracies = []\n",
    "all_sensitivities = []\n",
    "all_specificities = []\n",
    "all_aucs = []\n",
    "\n",
    "for _ in range(20):  # 循环20次\n",
    "    results = []\n",
    "    results_ROC = []\n",
    "\n",
    "    for disease_name in disease_list:\n",
    "        data_dir = f'../Data/{disease_name}'\n",
    "        training_data, training_labels = load_data(data_dir)\n",
    "        print(f\"Working on {disease_name} dataset: {len(training_data)} samples\")\n",
    "\n",
    "        all_preds = []\n",
    "        all_labels = []\n",
    "\n",
    "        # 分成5折\n",
    "        for fold, (train_idx, test_idx) in enumerate(kf.split(training_data)):\n",
    "            train_data = [training_data[i] for i in train_idx]\n",
    "            train_labels = [training_labels[i] for i in train_idx]\n",
    "            test_data = [training_data[i] for i in test_idx]\n",
    "            test_labels = [training_labels[i] for i in test_idx]\n",
    "\n",
    "            # 训练集和测试集固定后，再将训练集划分为训练集和验证集\n",
    "            train_data, valid_data, train_labels, valid_labels = train_test_split(train_data, train_labels, test_size=0.2, random_state=1234)\n",
    "\n",
    "            train_input_batch, train_label_batch = generate_input(train_data, train_labels, aa_vectors, 15, 100, 24)\n",
    "            train_input_batch, train_label_batch = torch.Tensor(train_input_batch).to(torch.device(\"cuda\")), torch.LongTensor(train_label_batch).to(torch.device(\"cuda\"))\n",
    "\n",
    "            valid_input_batch, valid_label_batch = generate_input(valid_data, valid_labels, aa_vectors, 15, 100, 24)\n",
    "            valid_input_batch, valid_label_batch = torch.Tensor(valid_input_batch).to(torch.device(\"cuda\")), torch.LongTensor(valid_label_batch).to(torch.device(\"cuda\"))\n",
    "            test_input_batch, test_label_batch = generate_input(test_data, test_labels, aa_vectors, 15, 100, 24)\n",
    "            test_input_batch, test_label_batch = torch.Tensor(test_input_batch).to(torch.device(\"cuda\")), torch.LongTensor(test_label_batch).to(torch.device(\"cuda\"))\n",
    "\n",
    "            train_dataset = Data.TensorDataset(train_input_batch, train_label_batch)\n",
    "            valid_dataset = Data.TensorDataset(valid_input_batch, valid_label_batch)\n",
    "            test_dataset = Data.TensorDataset(test_input_batch, test_label_batch)\n",
    "\n",
    "            train_loader = Data.DataLoader(train_dataset, len(train_input_batch), True)\n",
    "            valid_loader = Data.DataLoader(valid_dataset, len(valid_input_batch), True)\n",
    "            test_loader = Data.DataLoader(test_dataset, len(test_input_batch), True)\n",
    "\n",
    "            model = init_model().to(device)\n",
    "            criterion = nn.CrossEntropyLoss()\n",
    "            optimizer = optim.Adam(model.parameters(), lr=0.0005)\n",
    "\n",
    "            train(fold, model, criterion, optimizer, train_loader, valid_loader, epoches=NUM_EPOCHES, device=device)\n",
    "            # 在测试集上进行最终评估\n",
    "            _, preds, labels = evaluate(model, criterion, test_loader, device=device)\n",
    "            all_preds += preds\n",
    "            all_labels += labels\n",
    "\n",
    "        all_preds = np.concatenate(all_preds, axis=0)\n",
    "        all_labels = np.concatenate(all_labels, axis=0)\n",
    "\n",
    "        accuracy, sensitivity, specificity, auc = metrics(all_preds, all_labels)\n",
    "        print(f\"Mean Accuracy ({disease_name}): {accuracy:.4f}\")\n",
    "        print(f\"Mean Sensitivity ({disease_name}): {sensitivity:.4f}\")\n",
    "        print(f\"Mean Specificity ({disease_name}): {specificity:.4f}\")\n",
    "        print(f\"Mean AUC ({disease_name}): {auc:.4f}\")\n",
    "\n",
    "        results.append({\n",
    "            'disease': disease_name,\n",
    "            'accuracy': accuracy,\n",
    "            'sensitivity': sensitivity,\n",
    "            'specificity': specificity,\n",
    "            'auc': auc\n",
    "        })\n",
    "\n",
    "        results_ROC.append({\n",
    "            'disease': disease_name,\n",
    "            'auc': auc,\n",
    "            'all_preds': all_preds,\n",
    "            'all_labels': all_labels\n",
    "        })\n",
    "\n",
    "    # 将本次循环的性能指标值添加到列表中\n",
    "    all_accuracies.append([result['accuracy'] for result in results])\n",
    "    all_sensitivities.append([result['sensitivity'] for result in results])\n",
    "    all_specificities.append([result['specificity'] for result in results])\n",
    "    all_aucs.append([result['auc'] for result in results])\n"
   ]
  },
  {
   "cell_type": "code",
   "execution_count": 6,
   "id": "dd7210f4",
   "metadata": {},
   "outputs": [
    {
     "name": "stdout",
     "output_type": "stream",
     "text": [
      "Mean Accuracy (RA): 0.8346, Variance: 0.0006\n",
      "Mean Sensitivity (RA): 0.5639, Variance: 0.0052\n",
      "Mean Specificity (RA): 0.9713, Variance: 0.0001\n",
      "Mean AUC (RA): 0.9280, Variance: 0.0013\n",
      "Mean Accuracy (T1D): 0.9703, Variance: 0.0001\n",
      "Mean Sensitivity (T1D): 0.9424, Variance: 0.0002\n",
      "Mean Specificity (T1D): 0.9960, Variance: 0.0000\n",
      "Mean AUC (T1D): 0.9982, Variance: 0.0000\n",
      "Mean Accuracy (MS): 0.9845, Variance: 0.0001\n",
      "Mean Sensitivity (MS): 0.9781, Variance: 0.0002\n",
      "Mean Specificity (MS): 0.9935, Variance: 0.0000\n",
      "Mean AUC (MS): 0.9990, Variance: 0.0000\n",
      "Mean Accuracy (IAA): 0.9038, Variance: 0.0005\n",
      "Mean Sensitivity (IAA): 0.6023, Variance: 0.0088\n",
      "Mean Specificity (IAA): 0.9953, Variance: 0.0000\n",
      "Mean AUC (IAA): 0.9692, Variance: 0.0002\n"
     ]
    }
   ],
   "source": [
    "# 计算性能指标的均值和方差\n",
    "mean_accuracy = np.mean(all_accuracies, axis=0)\n",
    "mean_sensitivity = np.mean(all_sensitivities, axis=0)\n",
    "mean_specificity = np.mean(all_specificities, axis=0)\n",
    "mean_auc = np.mean(all_aucs, axis=0)\n",
    "\n",
    "variance_accuracy = np.var(all_accuracies, axis=0)\n",
    "variance_sensitivity = np.var(all_sensitivities, axis=0)\n",
    "variance_specificity = np.var(all_specificities, axis=0)\n",
    "variance_auc = np.var(all_aucs, axis=0)\n",
    "\n",
    "a\n",
    "# 打印均值和方差\n",
    "for idx, disease_name in enumerate(disease_list):\n",
    "    print(f\"Mean Accuracy ({disease_name}): {mean_accuracy[idx]:.4f}, Variance: {variance_accuracy[idx]:.4f}\")\n",
    "    print(f\"Mean Sensitivity ({disease_name}): {mean_sensitivity[idx]:.4f}, Variance: {variance_sensitivity[idx]:.4f}\")\n",
    "    print(f\"Mean Specificity ({disease_name}): {mean_specificity[idx]:.4f}, Variance: {variance_specificity[idx]:.4f}\")\n",
    "    print(f\"Mean AUC ({disease_name}): {mean_auc[idx]:.4f}, Variance: {variance_auc[idx]:.4f}\")\n"
   ]
  },
  {
   "cell_type": "code",
   "execution_count": 7,
   "id": "d1a5e131",
   "metadata": {},
   "outputs": [
    {
     "name": "stdout",
     "output_type": "stream",
     "text": [
      "Mean Accuracy (RA): 0.8346, Statistics: 0.0244\n",
      "Mean Sensitivity (RA): 0.5639, Statistics: 0.0723\n",
      "Mean Specificity (RA): 0.9713, Statistics: 0.0081\n",
      "Mean AUC (RA): 0.9280, Statistics: 0.0358\n",
      "Mean Accuracy (T1D): 0.9703, Statistics: 0.0074\n",
      "Mean Sensitivity (T1D): 0.9424, Statistics: 0.0142\n",
      "Mean Specificity (T1D): 0.9960, Statistics: 0.0040\n",
      "Mean AUC (T1D): 0.9982, Statistics: 0.0010\n",
      "Mean Accuracy (MS): 0.9845, Statistics: 0.0107\n",
      "Mean Sensitivity (MS): 0.9781, Statistics: 0.0152\n",
      "Mean Specificity (MS): 0.9935, Statistics: 0.0054\n",
      "Mean AUC (MS): 0.9990, Statistics: 0.0014\n",
      "Mean Accuracy (IAA): 0.9038, Statistics: 0.0232\n",
      "Mean Sensitivity (IAA): 0.6023, Statistics: 0.0936\n",
      "Mean Specificity (IAA): 0.9953, Statistics: 0.0044\n",
      "Mean AUC (IAA): 0.9692, Statistics: 0.0129\n"
     ]
    }
   ],
   "source": [
    "# 计算性能指标的均值和标准差\n",
    "mean_accuracy = np.mean(all_accuracies, axis=0)\n",
    "mean_sensitivity = np.mean(all_sensitivities, axis=0)\n",
    "mean_specificity = np.mean(all_specificities, axis=0)\n",
    "mean_auc = np.mean(all_aucs, axis=0)\n",
    "\n",
    "Statistics_accuracy = np.std(all_accuracies, axis=0)\n",
    "Statistics_sensitivity = np.std(all_sensitivities, axis=0)\n",
    "Statistics_specificity = np.std(all_specificities, axis=0)\n",
    "Statistics_auc = np.std(all_aucs, axis=0)\n",
    "\n",
    "# 打印均值和标准差\n",
    "for idx, disease_name in enumerate(disease_list):\n",
    "    print(f\"Mean Accuracy ({disease_name}): {mean_accuracy[idx]:.4f}, Statistics: {Statistics_accuracy[idx]:.4f}\")\n",
    "    print(f\"Mean Sensitivity ({disease_name}): {mean_sensitivity[idx]:.4f}, Statistics: {Statistics_sensitivity[idx]:.4f}\")\n",
    "    print(f\"Mean Specificity ({disease_name}): {mean_specificity[idx]:.4f}, Statistics: {Statistics_specificity[idx]:.4f}\")\n",
    "    print(f\"Mean AUC ({disease_name}): {mean_auc[idx]:.4f}, Statistics: {Statistics_auc[idx]:.4f}\")\n"
   ]
  },
  {
   "cell_type": "code",
   "execution_count": 8,
   "id": "259955cb",
   "metadata": {},
   "outputs": [
    {
     "name": "stdout",
     "output_type": "stream",
     "text": [
      "Mean Accuracy (RA): 0.8346, Statistics: 0.0244\n",
      "Mean Sensitivity (RA): 0.5639, Statistics: 0.0723\n",
      "Mean Specificity (RA): 0.9713, Statistics: 0.0081\n",
      "Mean AUC (RA): 0.9280, Statistics: 0.0358\n",
      "Mean Accuracy (T1D): 0.9703, Statistics: 0.0074\n",
      "Mean Sensitivity (T1D): 0.9424, Statistics: 0.0142\n",
      "Mean Specificity (T1D): 0.9960, Statistics: 0.0040\n",
      "Mean AUC (T1D): 0.9982, Statistics: 0.0010\n",
      "Mean Accuracy (MS): 0.9845, Statistics: 0.0107\n",
      "Mean Sensitivity (MS): 0.9781, Statistics: 0.0152\n",
      "Mean Specificity (MS): 0.9935, Statistics: 0.0054\n",
      "Mean AUC (MS): 0.9990, Statistics: 0.0014\n",
      "Mean Accuracy (IAA): 0.9038, Statistics: 0.0232\n",
      "Mean Sensitivity (IAA): 0.6023, Statistics: 0.0936\n",
      "Mean Specificity (IAA): 0.9953, Statistics: 0.0044\n",
      "Mean AUC (IAA): 0.9692, Statistics: 0.0129\n"
     ]
    }
   ],
   "source": [
    "# 计算性能指标的均值和标准差\n",
    "mean_accuracy = np.mean(all_accuracies, axis=0)\n",
    "mean_sensitivity = np.mean(all_sensitivities, axis=0)\n",
    "mean_specificity = np.mean(all_specificities, axis=0)\n",
    "mean_auc = np.mean(all_aucs, axis=0)\n",
    "\n",
    "Statistics_accuracy =np.sqrt(np.var(all_accuracies, axis=0)) \n",
    "Statistics_sensitivity = np.sqrt(np.var(all_sensitivities, axis=0))\n",
    "Statistics_specificity = np.sqrt(np.var(all_specificities, axis=0))\n",
    "Statistics_auc = np.sqrt(np.var(all_aucs, axis=0))\n",
    "\n",
    "# 打印均值和标准差\n",
    "for idx, disease_name in enumerate(disease_list):\n",
    "    print(f\"Mean Accuracy ({disease_name}): {mean_accuracy[idx]:.4f}, Statistics: {Statistics_accuracy[idx]:.4f}\")\n",
    "    print(f\"Mean Sensitivity ({disease_name}): {mean_sensitivity[idx]:.4f}, Statistics: {Statistics_sensitivity[idx]:.4f}\")\n",
    "    print(f\"Mean Specificity ({disease_name}): {mean_specificity[idx]:.4f}, Statistics: {Statistics_specificity[idx]:.4f}\")\n",
    "    print(f\"Mean AUC ({disease_name}): {mean_auc[idx]:.4f}, Statistics: {Statistics_auc[idx]:.4f}\")\n"
   ]
  },
  {
   "cell_type": "code",
   "execution_count": 9,
   "id": "00de5b0f",
   "metadata": {},
   "outputs": [
    {
     "data": {
      "image/png": "[encoded data removed]",
      "text/plain": [
       "<Figure size 1000x700 with 1 Axes>"
      ]
     },
     "metadata": {},
     "output_type": "display_data"
    }
   ],
   "source": [
    "# 存储每个疾病的ROC曲线数据\n",
    "roc_data = {}\n",
    "for result in results_ROC:\n",
    "    disease_name = result['disease']\n",
    "    auc = result['auc'] \n",
    "    all_labels = result['all_labels'] # 取出真实标签中的第二列作为二分类问题的标签\n",
    "    all_preds = result['all_preds'][:, 1]  # 取出预测概率中的第二列作为二分类问题的预测\n",
    "    fpr, tpr, thresholds = roc_curve(all_labels, all_preds)\n",
    "    # 将每种疾病的ROC曲线数据存储在roc_data字典中\n",
    "    roc_data[disease_name] = {'fpr': fpr, 'tpr': tpr, 'roc_auc': auc}\n",
    "\n",
    "# 创建一个新的图\n",
    "plt.figure(figsize=(10, 7))\n",
    "\n",
    "for disease_name, data in roc_data.items():\n",
    "    fpr, tpr, roc_auc = data['fpr'], data['tpr'], data['roc_auc']\n",
    "    plt.plot(fpr, tpr, label=f'{disease_name} (AUC = {roc_auc:.2f})')\n",
    "\n",
    "# 绘制对角线\n",
    "plt.plot([0, 1], [0, 1], 'k--', lw=2)\n",
    "plt.xlim([0.0, 1.0])\n",
    "plt.ylim([0.0, 1.05])\n",
    "plt.xlabel('Specificity')\n",
    "plt.ylabel('Sensitivity')\n",
    "#plt.title('ROC Curve for Multiple Diseases')\n",
    "plt.legend(loc=\"lower right\")\n",
    "plt.show()"
   ]
  },
  {
   "cell_type": "code",
   "execution_count": 11,
   "id": "1ad966e2",
   "metadata": {},
   "outputs": [
    {
     "name": "stderr",
     "output_type": "stream",
     "text": [
      "/tmp/ipykernel_79097/3021420264.py:9: FutureWarning: \n",
      "\n",
      "Passing `palette` without assigning `hue` is deprecated and will be removed in v0.14.0. Assign the `x` variable to `hue` and set `legend=False` for the same effect.\n",
      "\n",
      "  sns.violinplot(x=\"Group\", y=\"Predicted\", data=data, inner=\"box\", palette=\"Set3\", showfliers=True, boxprops=dict(alpha=0.5))\n"
     ]
    },
    {
     "ename": "AttributeError",
     "evalue": "PolyCollection.set() got an unexpected keyword argument 'showfliers'",
     "output_type": "error",
     "traceback": [
      "\u001b[0;31m---------------------------------------------------------------------------\u001b[0m",
      "\u001b[0;31mAttributeError\u001b[0m                            Traceback (most recent call last)",
      "Cell \u001b[0;32mIn[11], line 41\u001b[0m\n\u001b[1;32m     38\u001b[0m combined_data \u001b[38;5;241m=\u001b[39m pd\u001b[38;5;241m.\u001b[39mconcat([combined_data, data], ignore_index\u001b[38;5;241m=\u001b[39m\u001b[38;5;28;01mTrue\u001b[39;00m)\n\u001b[1;32m     40\u001b[0m \u001b[38;5;66;03m# 调用函数来绘制小提琴图\u001b[39;00m\n\u001b[0;32m---> 41\u001b[0m \u001b[43mplot_violin\u001b[49m\u001b[43m(\u001b[49m\u001b[43mdata\u001b[49m\u001b[43m,\u001b[49m\u001b[43m \u001b[49m\u001b[43mdisease_name\u001b[49m\u001b[43m)\u001b[49m\n",
      "Cell \u001b[0;32mIn[11], line 9\u001b[0m, in \u001b[0;36mplot_violin\u001b[0;34m(data, disease_name)\u001b[0m\n\u001b[1;32m      7\u001b[0m plt\u001b[38;5;241m.\u001b[39mfigure(figsize\u001b[38;5;241m=\u001b[39m(\u001b[38;5;241m8\u001b[39m, \u001b[38;5;241m6\u001b[39m))\n\u001b[1;32m      8\u001b[0m sns\u001b[38;5;241m.\u001b[39mset(style\u001b[38;5;241m=\u001b[39m\u001b[38;5;124m\"\u001b[39m\u001b[38;5;124mwhitegrid\u001b[39m\u001b[38;5;124m\"\u001b[39m)\n\u001b[0;32m----> 9\u001b[0m \u001b[43msns\u001b[49m\u001b[38;5;241;43m.\u001b[39;49m\u001b[43mviolinplot\u001b[49m\u001b[43m(\u001b[49m\u001b[43mx\u001b[49m\u001b[38;5;241;43m=\u001b[39;49m\u001b[38;5;124;43m\"\u001b[39;49m\u001b[38;5;124;43mGroup\u001b[39;49m\u001b[38;5;124;43m\"\u001b[39;49m\u001b[43m,\u001b[49m\u001b[43m \u001b[49m\u001b[43my\u001b[49m\u001b[38;5;241;43m=\u001b[39;49m\u001b[38;5;124;43m\"\u001b[39;49m\u001b[38;5;124;43mPredicted\u001b[39;49m\u001b[38;5;124;43m\"\u001b[39;49m\u001b[43m,\u001b[49m\u001b[43m \u001b[49m\u001b[43mdata\u001b[49m\u001b[38;5;241;43m=\u001b[39;49m\u001b[43mdata\u001b[49m\u001b[43m,\u001b[49m\u001b[43m \u001b[49m\u001b[43minner\u001b[49m\u001b[38;5;241;43m=\u001b[39;49m\u001b[38;5;124;43m\"\u001b[39;49m\u001b[38;5;124;43mbox\u001b[39;49m\u001b[38;5;124;43m\"\u001b[39;49m\u001b[43m,\u001b[49m\u001b[43m \u001b[49m\u001b[43mpalette\u001b[49m\u001b[38;5;241;43m=\u001b[39;49m\u001b[38;5;124;43m\"\u001b[39;49m\u001b[38;5;124;43mSet3\u001b[39;49m\u001b[38;5;124;43m\"\u001b[39;49m\u001b[43m,\u001b[49m\u001b[43m \u001b[49m\u001b[43mshowfliers\u001b[49m\u001b[38;5;241;43m=\u001b[39;49m\u001b[38;5;28;43;01mTrue\u001b[39;49;00m\u001b[43m,\u001b[49m\u001b[43m \u001b[49m\u001b[43mboxprops\u001b[49m\u001b[38;5;241;43m=\u001b[39;49m\u001b[38;5;28;43mdict\u001b[39;49m\u001b[43m(\u001b[49m\u001b[43malpha\u001b[49m\u001b[38;5;241;43m=\u001b[39;49m\u001b[38;5;241;43m0.5\u001b[39;49m\u001b[43m)\u001b[49m\u001b[43m)\u001b[49m\n\u001b[1;32m     10\u001b[0m sns\u001b[38;5;241m.\u001b[39mstripplot(x\u001b[38;5;241m=\u001b[39m\u001b[38;5;124m\"\u001b[39m\u001b[38;5;124mGroup\u001b[39m\u001b[38;5;124m\"\u001b[39m, y\u001b[38;5;241m=\u001b[39m\u001b[38;5;124m\"\u001b[39m\u001b[38;5;124mPredicted\u001b[39m\u001b[38;5;124m\"\u001b[39m, data\u001b[38;5;241m=\u001b[39mdata, jitter\u001b[38;5;241m=\u001b[39m\u001b[38;5;28;01mTrue\u001b[39;00m, dodge\u001b[38;5;241m=\u001b[39m\u001b[38;5;28;01mTrue\u001b[39;00m, color\u001b[38;5;241m=\u001b[39m\u001b[38;5;124m'\u001b[39m\u001b[38;5;124mblack\u001b[39m\u001b[38;5;124m'\u001b[39m, alpha\u001b[38;5;241m=\u001b[39m\u001b[38;5;241m0.5\u001b[39m)\n\u001b[1;32m     12\u001b[0m \u001b[38;5;66;03m# 添加红色虚线\u001b[39;00m\n",
      "File \u001b[0;32m~/miniconda3/lib/python3.10/site-packages/seaborn/categorical.py:1755\u001b[0m, in \u001b[0;36mviolinplot\u001b[0;34m(data, x, y, hue, order, hue_order, orient, color, palette, saturation, fill, inner, split, width, dodge, gap, linewidth, linecolor, cut, gridsize, bw_method, bw_adjust, density_norm, common_norm, hue_norm, formatter, log_scale, native_scale, legend, scale, scale_hue, bw, inner_kws, ax, **kwargs)\u001b[0m\n\u001b[1;32m   1752\u001b[0m kde_kws \u001b[38;5;241m=\u001b[39m \u001b[38;5;28mdict\u001b[39m(cut\u001b[38;5;241m=\u001b[39mcut, gridsize\u001b[38;5;241m=\u001b[39mgridsize, bw_method\u001b[38;5;241m=\u001b[39mbw_method, bw_adjust\u001b[38;5;241m=\u001b[39mbw_adjust)\n\u001b[1;32m   1753\u001b[0m inner_kws \u001b[38;5;241m=\u001b[39m {} \u001b[38;5;28;01mif\u001b[39;00m inner_kws \u001b[38;5;129;01mis\u001b[39;00m \u001b[38;5;28;01mNone\u001b[39;00m \u001b[38;5;28;01melse\u001b[39;00m inner_kws\u001b[38;5;241m.\u001b[39mcopy()\n\u001b[0;32m-> 1755\u001b[0m \u001b[43mp\u001b[49m\u001b[38;5;241;43m.\u001b[39;49m\u001b[43mplot_violins\u001b[49m\u001b[43m(\u001b[49m\n\u001b[1;32m   1756\u001b[0m \u001b[43m    \u001b[49m\u001b[43mwidth\u001b[49m\u001b[38;5;241;43m=\u001b[39;49m\u001b[43mwidth\u001b[49m\u001b[43m,\u001b[49m\n\u001b[1;32m   1757\u001b[0m \u001b[43m    \u001b[49m\u001b[43mdodge\u001b[49m\u001b[38;5;241;43m=\u001b[39;49m\u001b[43mdodge\u001b[49m\u001b[43m,\u001b[49m\n\u001b[1;32m   1758\u001b[0m \u001b[43m    \u001b[49m\u001b[43mgap\u001b[49m\u001b[38;5;241;43m=\u001b[39;49m\u001b[43mgap\u001b[49m\u001b[43m,\u001b[49m\n\u001b[1;32m   1759\u001b[0m \u001b[43m    \u001b[49m\u001b[43msplit\u001b[49m\u001b[38;5;241;43m=\u001b[39;49m\u001b[43msplit\u001b[49m\u001b[43m,\u001b[49m\n\u001b[1;32m   1760\u001b[0m \u001b[43m    \u001b[49m\u001b[43mcolor\u001b[49m\u001b[38;5;241;43m=\u001b[39;49m\u001b[43mcolor\u001b[49m\u001b[43m,\u001b[49m\n\u001b[1;32m   1761\u001b[0m \u001b[43m    \u001b[49m\u001b[43mfill\u001b[49m\u001b[38;5;241;43m=\u001b[39;49m\u001b[43mfill\u001b[49m\u001b[43m,\u001b[49m\n\u001b[1;32m   1762\u001b[0m \u001b[43m    \u001b[49m\u001b[43mlinecolor\u001b[49m\u001b[38;5;241;43m=\u001b[39;49m\u001b[43mlinecolor\u001b[49m\u001b[43m,\u001b[49m\n\u001b[1;32m   1763\u001b[0m \u001b[43m    \u001b[49m\u001b[43mlinewidth\u001b[49m\u001b[38;5;241;43m=\u001b[39;49m\u001b[43mlinewidth\u001b[49m\u001b[43m,\u001b[49m\n\u001b[1;32m   1764\u001b[0m \u001b[43m    \u001b[49m\u001b[43minner\u001b[49m\u001b[38;5;241;43m=\u001b[39;49m\u001b[43minner\u001b[49m\u001b[43m,\u001b[49m\n\u001b[1;32m   1765\u001b[0m \u001b[43m    \u001b[49m\u001b[43mdensity_norm\u001b[49m\u001b[38;5;241;43m=\u001b[39;49m\u001b[43mdensity_norm\u001b[49m\u001b[43m,\u001b[49m\n\u001b[1;32m   1766\u001b[0m \u001b[43m    \u001b[49m\u001b[43mcommon_norm\u001b[49m\u001b[38;5;241;43m=\u001b[39;49m\u001b[43mcommon_norm\u001b[49m\u001b[43m,\u001b[49m\n\u001b[1;32m   1767\u001b[0m \u001b[43m    \u001b[49m\u001b[43mkde_kws\u001b[49m\u001b[38;5;241;43m=\u001b[39;49m\u001b[43mkde_kws\u001b[49m\u001b[43m,\u001b[49m\n\u001b[1;32m   1768\u001b[0m \u001b[43m    \u001b[49m\u001b[43minner_kws\u001b[49m\u001b[38;5;241;43m=\u001b[39;49m\u001b[43minner_kws\u001b[49m\u001b[43m,\u001b[49m\n\u001b[1;32m   1769\u001b[0m \u001b[43m    \u001b[49m\u001b[43mplot_kws\u001b[49m\u001b[38;5;241;43m=\u001b[39;49m\u001b[43mkwargs\u001b[49m\u001b[43m,\u001b[49m\n\u001b[1;32m   1770\u001b[0m \u001b[43m\u001b[49m\u001b[43m)\u001b[49m\n\u001b[1;32m   1772\u001b[0m p\u001b[38;5;241m.\u001b[39m_add_axis_labels(ax)\n\u001b[1;32m   1773\u001b[0m p\u001b[38;5;241m.\u001b[39m_adjust_cat_axis(ax, axis\u001b[38;5;241m=\u001b[39mp\u001b[38;5;241m.\u001b[39morient)\n",
      "File \u001b[0;32m~/miniconda3/lib/python3.10/site-packages/seaborn/categorical.py:1038\u001b[0m, in \u001b[0;36m_CategoricalPlotter.plot_violins\u001b[0;34m(self, width, dodge, gap, split, color, fill, linecolor, linewidth, inner, density_norm, common_norm, kde_kws, inner_kws, plot_kws)\u001b[0m\n\u001b[1;32m   1036\u001b[0m \u001b[38;5;66;03m# Plot the main violin body\u001b[39;00m\n\u001b[1;32m   1037\u001b[0m plot_func \u001b[38;5;241m=\u001b[39m {\u001b[38;5;124m\"\u001b[39m\u001b[38;5;124mx\u001b[39m\u001b[38;5;124m\"\u001b[39m: ax\u001b[38;5;241m.\u001b[39mfill_betweenx, \u001b[38;5;124m\"\u001b[39m\u001b[38;5;124my\u001b[39m\u001b[38;5;124m\"\u001b[39m: ax\u001b[38;5;241m.\u001b[39mfill_between}[\u001b[38;5;28mself\u001b[39m\u001b[38;5;241m.\u001b[39morient]\n\u001b[0;32m-> 1038\u001b[0m \u001b[43mplot_func\u001b[49m\u001b[43m(\u001b[49m\n\u001b[1;32m   1039\u001b[0m \u001b[43m    \u001b[49m\u001b[43minv_val\u001b[49m\u001b[43m(\u001b[49m\u001b[43mdata\u001b[49m\u001b[43m[\u001b[49m\u001b[43mvalue_var\u001b[49m\u001b[43m]\u001b[49m\u001b[43m)\u001b[49m\u001b[43m,\u001b[49m\n\u001b[1;32m   1040\u001b[0m \u001b[43m    \u001b[49m\u001b[43minv_pos\u001b[49m\u001b[43m(\u001b[49m\u001b[43mdata\u001b[49m\u001b[43m[\u001b[49m\u001b[38;5;28;43mself\u001b[39;49m\u001b[38;5;241;43m.\u001b[39;49m\u001b[43morient\u001b[49m\u001b[43m]\u001b[49m\u001b[43m \u001b[49m\u001b[38;5;241;43m-\u001b[39;49m\u001b[43m \u001b[49m\u001b[43moffsets\u001b[49m\u001b[43m[\u001b[49m\u001b[38;5;241;43m0\u001b[39;49m\u001b[43m]\u001b[49m\u001b[43m)\u001b[49m\u001b[43m,\u001b[49m\n\u001b[1;32m   1041\u001b[0m \u001b[43m    \u001b[49m\u001b[43minv_pos\u001b[49m\u001b[43m(\u001b[49m\u001b[43mdata\u001b[49m\u001b[43m[\u001b[49m\u001b[38;5;28;43mself\u001b[39;49m\u001b[38;5;241;43m.\u001b[39;49m\u001b[43morient\u001b[49m\u001b[43m]\u001b[49m\u001b[43m \u001b[49m\u001b[38;5;241;43m+\u001b[39;49m\u001b[43m \u001b[49m\u001b[43moffsets\u001b[49m\u001b[43m[\u001b[49m\u001b[38;5;241;43m1\u001b[39;49m\u001b[43m]\u001b[49m\u001b[43m)\u001b[49m\u001b[43m,\u001b[49m\n\u001b[1;32m   1042\u001b[0m \u001b[43m    \u001b[49m\u001b[38;5;241;43m*\u001b[39;49m\u001b[38;5;241;43m*\u001b[39;49m\u001b[43mviolin\u001b[49m\u001b[43m[\u001b[49m\u001b[38;5;124;43m\"\u001b[39;49m\u001b[38;5;124;43mkwargs\u001b[39;49m\u001b[38;5;124;43m\"\u001b[39;49m\u001b[43m]\u001b[49m\n\u001b[1;32m   1043\u001b[0m \u001b[43m\u001b[49m\u001b[43m)\u001b[49m\n\u001b[1;32m   1045\u001b[0m \u001b[38;5;66;03m# Adjust the observation data\u001b[39;00m\n\u001b[1;32m   1046\u001b[0m obs \u001b[38;5;241m=\u001b[39m violin[\u001b[38;5;124m\"\u001b[39m\u001b[38;5;124mobservations\u001b[39m\u001b[38;5;124m\"\u001b[39m]\n",
      "File \u001b[0;32m~/miniconda3/lib/python3.10/site-packages/matplotlib/__init__.py:1442\u001b[0m, in \u001b[0;36m_preprocess_data.<locals>.inner\u001b[0;34m(ax, data, *args, **kwargs)\u001b[0m\n\u001b[1;32m   1439\u001b[0m \u001b[38;5;129m@functools\u001b[39m\u001b[38;5;241m.\u001b[39mwraps(func)\n\u001b[1;32m   1440\u001b[0m \u001b[38;5;28;01mdef\u001b[39;00m \u001b[38;5;21minner\u001b[39m(ax, \u001b[38;5;241m*\u001b[39margs, data\u001b[38;5;241m=\u001b[39m\u001b[38;5;28;01mNone\u001b[39;00m, \u001b[38;5;241m*\u001b[39m\u001b[38;5;241m*\u001b[39mkwargs):\n\u001b[1;32m   1441\u001b[0m     \u001b[38;5;28;01mif\u001b[39;00m data \u001b[38;5;129;01mis\u001b[39;00m \u001b[38;5;28;01mNone\u001b[39;00m:\n\u001b[0;32m-> 1442\u001b[0m         \u001b[38;5;28;01mreturn\u001b[39;00m \u001b[43mfunc\u001b[49m\u001b[43m(\u001b[49m\u001b[43max\u001b[49m\u001b[43m,\u001b[49m\u001b[43m \u001b[49m\u001b[38;5;241;43m*\u001b[39;49m\u001b[38;5;28;43mmap\u001b[39;49m\u001b[43m(\u001b[49m\u001b[43msanitize_sequence\u001b[49m\u001b[43m,\u001b[49m\u001b[43m \u001b[49m\u001b[43margs\u001b[49m\u001b[43m)\u001b[49m\u001b[43m,\u001b[49m\u001b[43m \u001b[49m\u001b[38;5;241;43m*\u001b[39;49m\u001b[38;5;241;43m*\u001b[39;49m\u001b[43mkwargs\u001b[49m\u001b[43m)\u001b[49m\n\u001b[1;32m   1444\u001b[0m     bound \u001b[38;5;241m=\u001b[39m new_sig\u001b[38;5;241m.\u001b[39mbind(ax, \u001b[38;5;241m*\u001b[39margs, \u001b[38;5;241m*\u001b[39m\u001b[38;5;241m*\u001b[39mkwargs)\n\u001b[1;32m   1445\u001b[0m     auto_label \u001b[38;5;241m=\u001b[39m (bound\u001b[38;5;241m.\u001b[39marguments\u001b[38;5;241m.\u001b[39mget(label_namer)\n\u001b[1;32m   1446\u001b[0m                   \u001b[38;5;129;01mor\u001b[39;00m bound\u001b[38;5;241m.\u001b[39mkwargs\u001b[38;5;241m.\u001b[39mget(label_namer))\n",
      "File \u001b[0;32m~/miniconda3/lib/python3.10/site-packages/matplotlib/axes/_axes.py:5445\u001b[0m, in \u001b[0;36mAxes.fill_betweenx\u001b[0;34m(self, y, x1, x2, where, step, interpolate, **kwargs)\u001b[0m\n\u001b[1;32m   5443\u001b[0m \u001b[38;5;28;01mdef\u001b[39;00m \u001b[38;5;21mfill_betweenx\u001b[39m(\u001b[38;5;28mself\u001b[39m, y, x1, x2\u001b[38;5;241m=\u001b[39m\u001b[38;5;241m0\u001b[39m, where\u001b[38;5;241m=\u001b[39m\u001b[38;5;28;01mNone\u001b[39;00m,\n\u001b[1;32m   5444\u001b[0m                   step\u001b[38;5;241m=\u001b[39m\u001b[38;5;28;01mNone\u001b[39;00m, interpolate\u001b[38;5;241m=\u001b[39m\u001b[38;5;28;01mFalse\u001b[39;00m, \u001b[38;5;241m*\u001b[39m\u001b[38;5;241m*\u001b[39mkwargs):\n\u001b[0;32m-> 5445\u001b[0m     \u001b[38;5;28;01mreturn\u001b[39;00m \u001b[38;5;28;43mself\u001b[39;49m\u001b[38;5;241;43m.\u001b[39;49m\u001b[43m_fill_between_x_or_y\u001b[49m\u001b[43m(\u001b[49m\n\u001b[1;32m   5446\u001b[0m \u001b[43m        \u001b[49m\u001b[38;5;124;43m\"\u001b[39;49m\u001b[38;5;124;43my\u001b[39;49m\u001b[38;5;124;43m\"\u001b[39;49m\u001b[43m,\u001b[49m\u001b[43m \u001b[49m\u001b[43my\u001b[49m\u001b[43m,\u001b[49m\u001b[43m \u001b[49m\u001b[43mx1\u001b[49m\u001b[43m,\u001b[49m\u001b[43m \u001b[49m\u001b[43mx2\u001b[49m\u001b[43m,\u001b[49m\n\u001b[1;32m   5447\u001b[0m \u001b[43m        \u001b[49m\u001b[43mwhere\u001b[49m\u001b[38;5;241;43m=\u001b[39;49m\u001b[43mwhere\u001b[49m\u001b[43m,\u001b[49m\u001b[43m \u001b[49m\u001b[43minterpolate\u001b[49m\u001b[38;5;241;43m=\u001b[39;49m\u001b[43minterpolate\u001b[49m\u001b[43m,\u001b[49m\u001b[43m \u001b[49m\u001b[43mstep\u001b[49m\u001b[38;5;241;43m=\u001b[39;49m\u001b[43mstep\u001b[49m\u001b[43m,\u001b[49m\u001b[43m \u001b[49m\u001b[38;5;241;43m*\u001b[39;49m\u001b[38;5;241;43m*\u001b[39;49m\u001b[43mkwargs\u001b[49m\u001b[43m)\u001b[49m\n",
      "File \u001b[0;32m~/miniconda3/lib/python3.10/site-packages/matplotlib/axes/_axes.py:5417\u001b[0m, in \u001b[0;36mAxes._fill_between_x_or_y\u001b[0;34m(self, ind_dir, ind, dep1, dep2, where, interpolate, step, **kwargs)\u001b[0m\n\u001b[1;32m   5413\u001b[0m         pts \u001b[38;5;241m=\u001b[39m pts[:, ::\u001b[38;5;241m-\u001b[39m\u001b[38;5;241m1\u001b[39m]\n\u001b[1;32m   5415\u001b[0m     polys\u001b[38;5;241m.\u001b[39mappend(pts)\n\u001b[0;32m-> 5417\u001b[0m collection \u001b[38;5;241m=\u001b[39m \u001b[43mmcoll\u001b[49m\u001b[38;5;241;43m.\u001b[39;49m\u001b[43mPolyCollection\u001b[49m\u001b[43m(\u001b[49m\u001b[43mpolys\u001b[49m\u001b[43m,\u001b[49m\u001b[43m \u001b[49m\u001b[38;5;241;43m*\u001b[39;49m\u001b[38;5;241;43m*\u001b[39;49m\u001b[43mkwargs\u001b[49m\u001b[43m)\u001b[49m\n\u001b[1;32m   5419\u001b[0m \u001b[38;5;66;03m# now update the datalim and autoscale\u001b[39;00m\n\u001b[1;32m   5420\u001b[0m pts \u001b[38;5;241m=\u001b[39m np\u001b[38;5;241m.\u001b[39mrow_stack([np\u001b[38;5;241m.\u001b[39mcolumn_stack([ind[where], dep1[where]]),\n\u001b[1;32m   5421\u001b[0m                     np\u001b[38;5;241m.\u001b[39mcolumn_stack([ind[where], dep2[where]])])\n",
      "File \u001b[0;32m~/miniconda3/lib/python3.10/site-packages/matplotlib/_api/deprecation.py:454\u001b[0m, in \u001b[0;36mmake_keyword_only.<locals>.wrapper\u001b[0;34m(*args, **kwargs)\u001b[0m\n\u001b[1;32m    448\u001b[0m \u001b[38;5;28;01mif\u001b[39;00m \u001b[38;5;28mlen\u001b[39m(args) \u001b[38;5;241m>\u001b[39m name_idx:\n\u001b[1;32m    449\u001b[0m     warn_deprecated(\n\u001b[1;32m    450\u001b[0m         since, message\u001b[38;5;241m=\u001b[39m\u001b[38;5;124m\"\u001b[39m\u001b[38;5;124mPassing the \u001b[39m\u001b[38;5;132;01m%(name)s\u001b[39;00m\u001b[38;5;124m \u001b[39m\u001b[38;5;132;01m%(obj_type)s\u001b[39;00m\u001b[38;5;124m \u001b[39m\u001b[38;5;124m\"\u001b[39m\n\u001b[1;32m    451\u001b[0m         \u001b[38;5;124m\"\u001b[39m\u001b[38;5;124mpositionally is deprecated since Matplotlib \u001b[39m\u001b[38;5;132;01m%(since)s\u001b[39;00m\u001b[38;5;124m; the \u001b[39m\u001b[38;5;124m\"\u001b[39m\n\u001b[1;32m    452\u001b[0m         \u001b[38;5;124m\"\u001b[39m\u001b[38;5;124mparameter will become keyword-only \u001b[39m\u001b[38;5;132;01m%(removal)s\u001b[39;00m\u001b[38;5;124m.\u001b[39m\u001b[38;5;124m\"\u001b[39m,\n\u001b[1;32m    453\u001b[0m         name\u001b[38;5;241m=\u001b[39mname, obj_type\u001b[38;5;241m=\u001b[39m\u001b[38;5;124mf\u001b[39m\u001b[38;5;124m\"\u001b[39m\u001b[38;5;124mparameter of \u001b[39m\u001b[38;5;132;01m{\u001b[39;00mfunc\u001b[38;5;241m.\u001b[39m\u001b[38;5;18m__name__\u001b[39m\u001b[38;5;132;01m}\u001b[39;00m\u001b[38;5;124m()\u001b[39m\u001b[38;5;124m\"\u001b[39m)\n\u001b[0;32m--> 454\u001b[0m \u001b[38;5;28;01mreturn\u001b[39;00m \u001b[43mfunc\u001b[49m\u001b[43m(\u001b[49m\u001b[38;5;241;43m*\u001b[39;49m\u001b[43margs\u001b[49m\u001b[43m,\u001b[49m\u001b[43m \u001b[49m\u001b[38;5;241;43m*\u001b[39;49m\u001b[38;5;241;43m*\u001b[39;49m\u001b[43mkwargs\u001b[49m\u001b[43m)\u001b[49m\n",
      "File \u001b[0;32m~/miniconda3/lib/python3.10/site-packages/matplotlib/collections.py:1170\u001b[0m, in \u001b[0;36mPolyCollection.__init__\u001b[0;34m(self, verts, sizes, closed, **kwargs)\u001b[0m\n\u001b[1;32m   1149\u001b[0m \u001b[38;5;129m@_api\u001b[39m\u001b[38;5;241m.\u001b[39mmake_keyword_only(\u001b[38;5;124m\"\u001b[39m\u001b[38;5;124m3.6\u001b[39m\u001b[38;5;124m\"\u001b[39m, name\u001b[38;5;241m=\u001b[39m\u001b[38;5;124m\"\u001b[39m\u001b[38;5;124mclosed\u001b[39m\u001b[38;5;124m\"\u001b[39m)\n\u001b[1;32m   1150\u001b[0m \u001b[38;5;28;01mdef\u001b[39;00m \u001b[38;5;21m__init__\u001b[39m(\u001b[38;5;28mself\u001b[39m, verts, sizes\u001b[38;5;241m=\u001b[39m\u001b[38;5;28;01mNone\u001b[39;00m, closed\u001b[38;5;241m=\u001b[39m\u001b[38;5;28;01mTrue\u001b[39;00m, \u001b[38;5;241m*\u001b[39m\u001b[38;5;241m*\u001b[39mkwargs):\n\u001b[1;32m   1151\u001b[0m \u001b[38;5;250m    \u001b[39m\u001b[38;5;124;03m\"\"\"\u001b[39;00m\n\u001b[1;32m   1152\u001b[0m \u001b[38;5;124;03m    Parameters\u001b[39;00m\n\u001b[1;32m   1153\u001b[0m \u001b[38;5;124;03m    ----------\u001b[39;00m\n\u001b[0;32m   (...)\u001b[0m\n\u001b[1;32m   1168\u001b[0m \u001b[38;5;124;03m        Forwarded to `.Collection`.\u001b[39;00m\n\u001b[1;32m   1169\u001b[0m \u001b[38;5;124;03m    \"\"\"\u001b[39;00m\n\u001b[0;32m-> 1170\u001b[0m     \u001b[38;5;28;43msuper\u001b[39;49m\u001b[43m(\u001b[49m\u001b[43m)\u001b[49m\u001b[38;5;241;43m.\u001b[39;49m\u001b[38;5;21;43m__init__\u001b[39;49m\u001b[43m(\u001b[49m\u001b[38;5;241;43m*\u001b[39;49m\u001b[38;5;241;43m*\u001b[39;49m\u001b[43mkwargs\u001b[49m\u001b[43m)\u001b[49m\n\u001b[1;32m   1171\u001b[0m     \u001b[38;5;28mself\u001b[39m\u001b[38;5;241m.\u001b[39mset_sizes(sizes)\n\u001b[1;32m   1172\u001b[0m     \u001b[38;5;28mself\u001b[39m\u001b[38;5;241m.\u001b[39mset_verts(verts, closed)\n",
      "File \u001b[0;32m~/miniconda3/lib/python3.10/site-packages/matplotlib/_api/deprecation.py:454\u001b[0m, in \u001b[0;36mmake_keyword_only.<locals>.wrapper\u001b[0;34m(*args, **kwargs)\u001b[0m\n\u001b[1;32m    448\u001b[0m \u001b[38;5;28;01mif\u001b[39;00m \u001b[38;5;28mlen\u001b[39m(args) \u001b[38;5;241m>\u001b[39m name_idx:\n\u001b[1;32m    449\u001b[0m     warn_deprecated(\n\u001b[1;32m    450\u001b[0m         since, message\u001b[38;5;241m=\u001b[39m\u001b[38;5;124m\"\u001b[39m\u001b[38;5;124mPassing the \u001b[39m\u001b[38;5;132;01m%(name)s\u001b[39;00m\u001b[38;5;124m \u001b[39m\u001b[38;5;132;01m%(obj_type)s\u001b[39;00m\u001b[38;5;124m \u001b[39m\u001b[38;5;124m\"\u001b[39m\n\u001b[1;32m    451\u001b[0m         \u001b[38;5;124m\"\u001b[39m\u001b[38;5;124mpositionally is deprecated since Matplotlib \u001b[39m\u001b[38;5;132;01m%(since)s\u001b[39;00m\u001b[38;5;124m; the \u001b[39m\u001b[38;5;124m\"\u001b[39m\n\u001b[1;32m    452\u001b[0m         \u001b[38;5;124m\"\u001b[39m\u001b[38;5;124mparameter will become keyword-only \u001b[39m\u001b[38;5;132;01m%(removal)s\u001b[39;00m\u001b[38;5;124m.\u001b[39m\u001b[38;5;124m\"\u001b[39m,\n\u001b[1;32m    453\u001b[0m         name\u001b[38;5;241m=\u001b[39mname, obj_type\u001b[38;5;241m=\u001b[39m\u001b[38;5;124mf\u001b[39m\u001b[38;5;124m\"\u001b[39m\u001b[38;5;124mparameter of \u001b[39m\u001b[38;5;132;01m{\u001b[39;00mfunc\u001b[38;5;241m.\u001b[39m\u001b[38;5;18m__name__\u001b[39m\u001b[38;5;132;01m}\u001b[39;00m\u001b[38;5;124m()\u001b[39m\u001b[38;5;124m\"\u001b[39m)\n\u001b[0;32m--> 454\u001b[0m \u001b[38;5;28;01mreturn\u001b[39;00m \u001b[43mfunc\u001b[49m\u001b[43m(\u001b[49m\u001b[38;5;241;43m*\u001b[39;49m\u001b[43margs\u001b[49m\u001b[43m,\u001b[49m\u001b[43m \u001b[49m\u001b[38;5;241;43m*\u001b[39;49m\u001b[38;5;241;43m*\u001b[39;49m\u001b[43mkwargs\u001b[49m\u001b[43m)\u001b[49m\n",
      "File \u001b[0;32m~/miniconda3/lib/python3.10/site-packages/matplotlib/collections.py:201\u001b[0m, in \u001b[0;36mCollection.__init__\u001b[0;34m(self, edgecolors, facecolors, linewidths, linestyles, capstyle, joinstyle, antialiaseds, offsets, offset_transform, norm, cmap, pickradius, hatch, urls, zorder, **kwargs)\u001b[0m\n\u001b[1;32m    198\u001b[0m \u001b[38;5;28mself\u001b[39m\u001b[38;5;241m.\u001b[39m_offset_transform \u001b[38;5;241m=\u001b[39m offset_transform\n\u001b[1;32m    200\u001b[0m \u001b[38;5;28mself\u001b[39m\u001b[38;5;241m.\u001b[39m_path_effects \u001b[38;5;241m=\u001b[39m \u001b[38;5;28;01mNone\u001b[39;00m\n\u001b[0;32m--> 201\u001b[0m \u001b[38;5;28;43mself\u001b[39;49m\u001b[38;5;241;43m.\u001b[39;49m\u001b[43m_internal_update\u001b[49m\u001b[43m(\u001b[49m\u001b[43mkwargs\u001b[49m\u001b[43m)\u001b[49m\n\u001b[1;32m    202\u001b[0m \u001b[38;5;28mself\u001b[39m\u001b[38;5;241m.\u001b[39m_paths \u001b[38;5;241m=\u001b[39m \u001b[38;5;28;01mNone\u001b[39;00m\n",
      "File \u001b[0;32m~/miniconda3/lib/python3.10/site-packages/matplotlib/artist.py:1223\u001b[0m, in \u001b[0;36mArtist._internal_update\u001b[0;34m(self, kwargs)\u001b[0m\n\u001b[1;32m   1216\u001b[0m \u001b[38;5;28;01mdef\u001b[39;00m \u001b[38;5;21m_internal_update\u001b[39m(\u001b[38;5;28mself\u001b[39m, kwargs):\n\u001b[1;32m   1217\u001b[0m \u001b[38;5;250m    \u001b[39m\u001b[38;5;124;03m\"\"\"\u001b[39;00m\n\u001b[1;32m   1218\u001b[0m \u001b[38;5;124;03m    Update artist properties without prenormalizing them, but generating\u001b[39;00m\n\u001b[1;32m   1219\u001b[0m \u001b[38;5;124;03m    errors as if calling `set`.\u001b[39;00m\n\u001b[1;32m   1220\u001b[0m \n\u001b[1;32m   1221\u001b[0m \u001b[38;5;124;03m    The lack of prenormalization is to maintain backcompatibility.\u001b[39;00m\n\u001b[1;32m   1222\u001b[0m \u001b[38;5;124;03m    \"\"\"\u001b[39;00m\n\u001b[0;32m-> 1223\u001b[0m     \u001b[38;5;28;01mreturn\u001b[39;00m \u001b[38;5;28;43mself\u001b[39;49m\u001b[38;5;241;43m.\u001b[39;49m\u001b[43m_update_props\u001b[49m\u001b[43m(\u001b[49m\n\u001b[1;32m   1224\u001b[0m \u001b[43m        \u001b[49m\u001b[43mkwargs\u001b[49m\u001b[43m,\u001b[49m\u001b[43m \u001b[49m\u001b[38;5;124;43m\"\u001b[39;49m\u001b[38;5;132;43;01m{cls.__name__}\u001b[39;49;00m\u001b[38;5;124;43m.set() got an unexpected keyword argument \u001b[39;49m\u001b[38;5;124;43m\"\u001b[39;49m\n\u001b[1;32m   1225\u001b[0m \u001b[43m        \u001b[49m\u001b[38;5;124;43m\"\u001b[39;49m\u001b[38;5;132;43;01m{prop_name!r}\u001b[39;49;00m\u001b[38;5;124;43m\"\u001b[39;49m\u001b[43m)\u001b[49m\n",
      "File \u001b[0;32m~/miniconda3/lib/python3.10/site-packages/matplotlib/artist.py:1197\u001b[0m, in \u001b[0;36mArtist._update_props\u001b[0;34m(self, props, errfmt)\u001b[0m\n\u001b[1;32m   1195\u001b[0m             func \u001b[38;5;241m=\u001b[39m \u001b[38;5;28mgetattr\u001b[39m(\u001b[38;5;28mself\u001b[39m, \u001b[38;5;124mf\u001b[39m\u001b[38;5;124m\"\u001b[39m\u001b[38;5;124mset_\u001b[39m\u001b[38;5;132;01m{\u001b[39;00mk\u001b[38;5;132;01m}\u001b[39;00m\u001b[38;5;124m\"\u001b[39m, \u001b[38;5;28;01mNone\u001b[39;00m)\n\u001b[1;32m   1196\u001b[0m             \u001b[38;5;28;01mif\u001b[39;00m \u001b[38;5;129;01mnot\u001b[39;00m \u001b[38;5;28mcallable\u001b[39m(func):\n\u001b[0;32m-> 1197\u001b[0m                 \u001b[38;5;28;01mraise\u001b[39;00m \u001b[38;5;167;01mAttributeError\u001b[39;00m(\n\u001b[1;32m   1198\u001b[0m                     errfmt\u001b[38;5;241m.\u001b[39mformat(\u001b[38;5;28mcls\u001b[39m\u001b[38;5;241m=\u001b[39m\u001b[38;5;28mtype\u001b[39m(\u001b[38;5;28mself\u001b[39m), prop_name\u001b[38;5;241m=\u001b[39mk))\n\u001b[1;32m   1199\u001b[0m             ret\u001b[38;5;241m.\u001b[39mappend(func(v))\n\u001b[1;32m   1200\u001b[0m \u001b[38;5;28;01mif\u001b[39;00m ret:\n",
      "\u001b[0;31mAttributeError\u001b[0m: PolyCollection.set() got an unexpected keyword argument 'showfliers'"
     ]
    },
    {
     "data": {
      "image/png": "[encoded data removed]",
      "text/plain": [
       "<Figure size 800x600 with 1 Axes>"
      ]
     },
     "metadata": {},
     "output_type": "display_data"
    }
   ],
   "source": [
    "def sigmoid(x):\n",
    "    s = 1 / (1 + np.exp(-x))\n",
    "    return s\n",
    "\n",
    "def plot_violin(data, disease_name):\n",
    "    # 创建小提琴图\n",
    "    plt.figure(figsize=(8, 6))\n",
    "    sns.set(style=\"whitegrid\")\n",
    "    sns.violinplot(x=\"Group\", y=\"Predicted\", data=data, inner=\"box\", palette=\"Set3\", showfliers=True, boxprops=dict(alpha=0.5))\n",
    "    sns.stripplot(x=\"Group\", y=\"Predicted\", data=data, jitter=True, dodge=True, color='black', alpha=0.5)\n",
    "    \n",
    "    # 添加红色虚线\n",
    "    plt.axhline(y=0.5, color='red', linestyle='--')\n",
    "\n",
    "    # 设置图的标题和标签\n",
    "    plt.title(f\"Violin Plot for {disease_name}\")\n",
    "    plt.xlabel(\"Classifications \")\n",
    "    plt.ylabel(\"Predicted Values\")\n",
    "    \n",
    "    # 显示小提琴图\n",
    "    plt.show()\n",
    "\n",
    "# 创建一个空的DataFrame\n",
    "combined_data = pd.DataFrame(columns=['Disease', 'Predicted', 'Actual'])\n",
    "\n",
    "# 遍历每个疾病的结果\n",
    "for result in results_ROC:\n",
    "    disease_name = result['disease']\n",
    "    all_preds = sigmoid(result['all_preds'][:,1].flatten())\n",
    "    all_codes = result['all_labels'].flatten().astype(int)\n",
    "    all_labels = [disease_name if x == 1 else 'Healthy' for x in all_codes]\n",
    "    \n",
    "    # 将数据添加到combined_data DataFrame\n",
    "    data = pd.DataFrame({'Disease': [disease_name] * len(all_preds), 'Predicted': all_preds, 'Group': all_labels})\n",
    "    # 对\"Group\"列的数据进行排序\n",
    "    data['Group'] = pd.Categorical(data['Group'], categories=['Healthy',disease_name], ordered=True)\n",
    "    #combined_data = combined_data.append(data, ignore_index=True)\n",
    "    combined_data = pd.concat([combined_data, data], ignore_index=True)\n",
    "\n",
    "    # 调用函数来绘制小提琴图\n",
    "    plot_violin(data, disease_name)\n"
   ]
  },
  {
   "cell_type": "code",
   "execution_count": null,
   "id": "8be537d7",
   "metadata": {},
   "outputs": [],
   "source": []
  }
 ],
 "metadata": {
  "kernelspec": {
   "display_name": "Python 3 (ipykernel)",
   "language": "python",
   "name": "python3"
  },
  "language_info": {
   "codemirror_mode": {
    "name": "ipython",
    "version": 3
   },
   "file_extension": ".py",
   "mimetype": "text/x-python",
   "name": "python",
   "nbconvert_exporter": "python",
   "pygments_lexer": "ipython3",
   "version": "3.10.10"
  }
 },
 "nbformat": 4,
 "nbformat_minor": 5
}
