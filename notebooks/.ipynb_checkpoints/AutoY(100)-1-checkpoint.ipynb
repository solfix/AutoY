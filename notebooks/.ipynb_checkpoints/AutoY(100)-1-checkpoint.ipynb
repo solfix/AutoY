{
 "cells": [
  {
   "cell_type": "code",
   "execution_count": 10,
   "id": "7ffbaba1",
   "metadata": {},
   "outputs": [],
   "source": [
    "import os\n",
    "import sys\n",
    "import torch\n",
    "import torch.nn as nn\n",
    "import torch.nn.functional as F\n",
    "import torch.optim as optim\n",
    "import torch.utils.data as Data\n",
    "import numpy as np\n",
    "import pandas as pd\n",
    "import time\n",
    "import ast  \n",
    "from sklearn.model_selection import KFold\n",
    "import matplotlib.pyplot as plt\n",
    "import seaborn as sns\n",
    "from sparsemax import Sparsemax\n",
    "from sklearn.metrics import accuracy_score, confusion_matrix, roc_auc_score, roc_curve, auc, recall_score\n",
    "from sklearn.model_selection import train_test_split\n",
    "from torch.utils.data import DataLoader, TensorDataset\n",
    "\n",
    "# 读取TSV文件并提取指定的信息列\n",
    "def read_tsv(filename, inf_ind, skip_1st=False, file_encoding=\"utf8\"):\n",
    "    extract_inf = []\n",
    "    with open(filename, \"r\", encoding=file_encoding) as tsv_f:\n",
    "        if skip_1st:\n",
    "            tsv_f.readline()\n",
    "        line = tsv_f.readline()\n",
    "        while line:\n",
    "            line_list = line.strip().split(\"\\t\")\n",
    "            temp_inf = []\n",
    "            for ind in inf_ind:\n",
    "                temp_inf.append(line_list[ind])\n",
    "            extract_inf.append(temp_inf)\n",
    "            line = tsv_f.readline()\n",
    "    return extract_inf\n",
    "\n",
    "# 读取氨基酸特征文件并生成特征字典\n",
    "def get_features(filename, f_num=15):\n",
    "    f_list = read_tsv(filename, list(range(16)), True)\n",
    "    f_dict = {}\n",
    "    left_num = 0\n",
    "    right_num = 0\n",
    "    if f_num > 15:\n",
    "        left_num = (f_num - 15) // 2\n",
    "        right_num = f_num - 15 - left_num\n",
    "    for f in f_list:\n",
    "        f_dict[f[0]] = [0] * left_num\n",
    "        f_dict[f[0]] += [float(x) for x in f[1:]]\n",
    "        f_dict[f[0]] += [0] * right_num\n",
    "    f_dict[\"X\"] = [0] * f_num\n",
    "    return f_dict\n",
    "\n",
    "# 定义模型类\n",
    "class AotoY(nn.Module):\n",
    "    def __init__(self, ins_num, drop_out, n=[12, 12, 12, 6], k=[2, 3, 4, 5]):\n",
    "        super(AotoY, self).__init__()\n",
    "\n",
    "        self.ins_num = ins_num\n",
    "        self.conv1 = nn.Sequential(\n",
    "            nn.Conv1d(in_channels=15, out_channels=n[0], kernel_size=k[0], stride=1, padding=0),\n",
    "            nn.BatchNorm1d(n[0]),\n",
    "            nn.ReLU(),\n",
    "            nn.Conv1d(in_channels=n[0], out_channels=n[0], kernel_size=k[0], stride=1, padding=0),\n",
    "            nn.BatchNorm1d(n[0]),\n",
    "            nn.ReLU(),\n",
    "            nn.AdaptiveMaxPool1d(1)\n",
    "        )\n",
    "        \n",
    "        \n",
    "        \n",
    "        self.conv2 = nn.Sequential(\n",
    "            nn.Conv1d(in_channels=15, out_channels=n[1], kernel_size=k[1], stride=1, padding=0),\n",
    "            nn.BatchNorm1d(n[1]),\n",
    "            nn.ReLU(),\n",
    "            nn.Conv1d(in_channels=n[1], out_channels=n[1], kernel_size=k[1], stride=1, padding=0),\n",
    "            nn.BatchNorm1d(n[1]),\n",
    "            nn.ReLU(),\n",
    "            nn.AdaptiveMaxPool1d(1)\n",
    "        )\n",
    "        \n",
    "        \n",
    "        \n",
    "        self.conv3 = nn.Sequential(\n",
    "            nn.Conv1d(in_channels=15, out_channels=n[2], kernel_size=k[2], stride=1, padding=0),\n",
    "            nn.BatchNorm1d(n[2]),\n",
    "            nn.ReLU(),\n",
    "            nn.Conv1d(in_channels=n[2], out_channels=n[2], kernel_size=k[2], stride=1, padding=0),\n",
    "            nn.BatchNorm1d(n[2]),\n",
    "            nn.ReLU(),\n",
    "            nn.AdaptiveMaxPool1d(1)\n",
    "        )\n",
    "        \n",
    "        \n",
    "        \n",
    "        self.conv4 = nn.Sequential(\n",
    "            nn.Conv1d(in_channels=15, out_channels=n[3], kernel_size=k[3], stride=1, padding=0),\n",
    "            nn.BatchNorm1d(n[3]),\n",
    "            nn.ReLU(),\n",
    "            nn.Conv1d(in_channels=n[3], out_channels=n[3], kernel_size=k[3], stride=1, padding=0),\n",
    "            nn.BatchNorm1d(n[3]),\n",
    "            nn.ReLU(),\n",
    "            nn.AdaptiveMaxPool1d(1)\n",
    "        )\n",
    "        \n",
    "        \n",
    "        \n",
    "        \n",
    "        self.fc_1 = nn.Linear(sum(n), 1)\n",
    "        self.dropout = nn.Dropout(p=drop_out) \n",
    "        self.fc_2 = nn.Linear(self.ins_num, 2)\n",
    "        self.dropout = nn.Dropout(p=drop_out) \n",
    "        \n",
    "\n",
    "\n",
    "    def forward(self, x):\n",
    "        \n",
    "        x = x.reshape(-1, 15, 24)\n",
    "        \n",
    "        out1 = self.conv1(x)\n",
    "        out2 = self.conv2(x)\n",
    "        out3 = self.conv3(x)\n",
    "        out4 = self.conv4(x)\n",
    "        out = torch.cat([out1, out2, out3, out4], dim=1)\n",
    "        out = out.view(out.size(0), -1) \n",
    "        out = self.fc_1(out)\n",
    "        out = self.dropout(out)\n",
    "        out = out.view(-1, self.ins_num)\n",
    "        out = self.fc_2(out)\n",
    "        out = self.dropout(out)\n",
    "        \n",
    "        return out\n",
    "\n",
    "# 生成输入数据和标签\n",
    "def generate_input(sps, sp_lbs, feature_dict, feature_num, ins_num, max_len):\n",
    "    xs, ys = [], []\n",
    "    i = 0\n",
    "    for sp in sps:\n",
    "        xs.append([[[0] * feature_num] * max_len] * ins_num)\n",
    "        ys.append(sp_lbs[i])\n",
    "        j = 0\n",
    "        for tcr in sp:\n",
    "            tcr_seq = tcr[0]\n",
    "            right_num = max_len - len(tcr_seq)\n",
    "            tcr_seq += \"X\" * right_num\n",
    "            tcr_matrix = []\n",
    "            for aa in tcr_seq:\n",
    "                tcr_matrix.append(feature_dict[aa.upper()])\n",
    "            xs[i][j] = tcr_matrix\n",
    "            j += 1\n",
    "        i += 1\n",
    "    xs = np.array(xs)\n",
    "    xs = xs.swapaxes(2, 3)\n",
    "    ys = np.array(ys)\n",
    "    return xs, ys\n",
    "\n",
    "\n",
    "def load_data(sample_dir):\n",
    "    training_data = []\n",
    "    training_labels = []\n",
    "    for sample_file in os.listdir(sample_dir):\n",
    "        # 读取样本数据\n",
    "        training_data.append(read_tsv(os.path.join(sample_dir, sample_file), [0, 1], True))\n",
    "        # 获取样本标签\n",
    "        if \"P\" in sample_file:\n",
    "            training_labels.append(1)\n",
    "        elif \"H\" in sample_file:\n",
    "            training_labels.append(0)\n",
    "        else:\n",
    "            print(\"Wrong sample filename! Please name positive samples with 'P' and negative samples with 'H'.\")\n",
    "            sys.exit(1)\n",
    "        \n",
    "    return training_data, training_labels\n",
    "\n",
    "def evaluate(model, criterion, test_loader, device=\"cuda\"):\n",
    "    test_total_loss = 0.0\n",
    "    all_preds = []\n",
    "    all_labels = []\n",
    "    \n",
    "    model.eval()\n",
    "    with torch.no_grad():\n",
    "        for test_batch_x, test_batch_y in test_loader:\n",
    "            test_batch_x = test_batch_x.to(device)\n",
    "            test_batch_y = test_batch_y.to(device)\n",
    "            test_pred = model(test_batch_x)\n",
    "\n",
    "            test_loss = criterion(test_pred, test_batch_y)\n",
    "            test_total_loss += test_loss.item()\n",
    "            all_preds.append(test_pred.cpu().numpy())\n",
    "            all_labels.append(test_batch_y.cpu().numpy())\n",
    "            \n",
    "        test_avg_loss = test_total_loss / len(test_loader)\n",
    "        return test_avg_loss, all_preds, all_labels\n",
    "from tqdm import tqdm\n",
    "def train(fold, model, criterion, optimizer, train_loader, valid_loader, epoches=100, device='cuda'):\n",
    "    \n",
    "    \n",
    "    model_path = f'../model(AutoY)/{disease_name}checkpoint{fold}.pt'  # 修改模型文件的保存路径和命名\n",
    "    early_stopping = EarlyStopping(PATIENCE, path=model_path, verbose=False)\n",
    "    \n",
    "    # 存储训练和测试损失\n",
    "    epoch_train_losses = []\n",
    "    epoch_test_losses = []\n",
    "    with tqdm(total=epoches) as t:\n",
    "        t.set_description(f'{disease_name} - Fold {fold}')  # 添加疾病名称\n",
    "        for epoch in range(epoches):\n",
    "            model.train()\n",
    "            total_loss = 0.0\n",
    "            for batch_x, batch_y in train_loader:\n",
    "                batch_x = batch_x.to(device)\n",
    "                batch_y = batch_y.to(device)\n",
    "                pred = model(batch_x)\n",
    "\n",
    "                loss = criterion(pred, batch_y)\n",
    "                optimizer.zero_grad()\n",
    "                loss.backward()\n",
    "                optimizer.step()\n",
    "                total_loss += loss.item()\n",
    "            \n",
    "            # 记录训练损失\n",
    "            avg_loss = total_loss / len(train_loader)\n",
    "            epoch_train_losses.append(avg_loss)\n",
    "            # 记录评估损失\n",
    "            test_avg_loss, _, _ = evaluate(model, criterion, test_loader, device=device)\n",
    "            epoch_test_losses.append(test_avg_loss)\n",
    "            \n",
    "            t.set_postfix(loss=avg_loss, test_loss=test_avg_loss)\n",
    "            t.update(1)\n",
    "            \n",
    "            # 向EarlyStopping类别添加新轮次的损失\n",
    "            early_stopping(test_avg_loss, model)\n",
    "            # 判别是否满足提前退出的条件\n",
    "            if early_stopping.early_stop:\n",
    "                # 恢复训练中的最优模型\n",
    "                model.load_state_dict(torch.load(model_path))\n",
    "                #print('Early stopping')\n",
    "                break\n",
    "                \n",
    "                \n",
    "def sigmoid(x):\n",
    "    return 1 / (1 + np.exp(-x))                \n",
    "\n",
    "                \n",
    "def metrics(all_preds, all_labels, threshold=0.5):\n",
    "    all_probs = sigmoid(all_preds[:, 1] - all_preds[:, 0])\n",
    "    binary_preds = (all_probs > threshold).astype(int)\n",
    "    conf_matrix = confusion_matrix(all_labels, binary_preds)\n",
    "    accuracy = accuracy_score(all_labels, binary_preds)\n",
    "    sensitivity = conf_matrix[1, 1] / (conf_matrix[1, 0] + conf_matrix[1, 1])\n",
    "    specificity = conf_matrix[0, 0] / (conf_matrix[0, 0] + conf_matrix[0, 1])\n",
    "    auc = roc_auc_score(all_labels, all_probs)\n",
    "\n",
    "    return accuracy, sensitivity, specificity, auc"
   ]
  },
  {
   "cell_type": "code",
   "execution_count": 11,
   "id": "d33e3fb5",
   "metadata": {
    "scrolled": true
   },
   "outputs": [
    {
     "name": "stdout",
     "output_type": "stream",
     "text": [
      "Working on RA dataset: 320 samples\n"
     ]
    },
    {
     "name": "stderr",
     "output_type": "stream",
     "text": [
      "RA - Fold 0:  37%|▎| 1109/3000 [00:22<00:37, 50.12it/s, loss=0.207, test_loss=0.\n",
      "RA - Fold 1:  28%|▎| 853/3000 [00:17<00:45, 47.50it/s, loss=0.206, test_loss=0.5\n",
      "RA - Fold 2:  78%|▊| 2349/3000 [00:46<00:12, 50.26it/s, loss=0.188, test_loss=0.\n",
      "RA - Fold 3:  17%|▏| 502/3000 [00:14<01:12, 34.29it/s, loss=0.196, test_loss=0.6\n",
      "RA - Fold 4:  47%|▍| 1417/3000 [00:45<00:51, 30.95it/s, loss=0.198, test_loss=0.\n"
     ]
    },
    {
     "name": "stdout",
     "output_type": "stream",
     "text": [
      "Mean Accuracy (RA): 0.8250\n",
      "Mean Sensitivity (RA): 0.6321\n",
      "Mean Specificity (RA): 0.9206\n",
      "Mean AUC (RA): 0.8872\n",
      "Working on T1D dataset: 394 samples\n"
     ]
    },
    {
     "name": "stderr",
     "output_type": "stream",
     "text": [
      "T1D - Fold 0:  67%|▋| 2018/3000 [01:21<00:39, 24.91it/s, loss=0.164, test_loss=0\n",
      "T1D - Fold 1: 100%|█| 3000/3000 [01:59<00:00, 25.07it/s, loss=0.174, test_loss=0\n",
      "T1D - Fold 2:  58%|▌| 1742/3000 [01:09<00:50, 25.05it/s, loss=0.154, test_loss=0\n",
      "T1D - Fold 3:  81%|▊| 2417/3000 [01:36<00:23, 24.99it/s, loss=0.149, test_loss=0\n",
      "T1D - Fold 4:  85%|▊| 2539/3000 [01:40<00:18, 25.21it/s, loss=0.18, test_loss=0.\n"
     ]
    },
    {
     "name": "stdout",
     "output_type": "stream",
     "text": [
      "Mean Accuracy (T1D): 0.9594\n",
      "Mean Sensitivity (T1D): 0.9389\n",
      "Mean Specificity (T1D): 0.9766\n",
      "Mean AUC (T1D): 0.9920\n",
      "Working on MS dataset: 508 samples\n"
     ]
    },
    {
     "name": "stderr",
     "output_type": "stream",
     "text": [
      "MS - Fold 0:  70%|▋| 2091/3000 [01:52<00:48, 18.56it/s, loss=0.186, test_loss=0.\n",
      "MS - Fold 1:  96%|▉| 2885/3000 [02:31<00:06, 19.09it/s, loss=0.208, test_loss=0.\n",
      "MS - Fold 2:  61%|▌| 1820/3000 [01:38<01:03, 18.46it/s, loss=0.177, test_loss=0.\n",
      "MS - Fold 3:  98%|▉| 2938/3000 [02:37<00:03, 18.70it/s, loss=0.182, test_loss=0.\n",
      "MS - Fold 4:  96%|▉| 2876/3000 [02:33<00:06, 18.79it/s, loss=0.179, test_loss=0.\n"
     ]
    },
    {
     "name": "stdout",
     "output_type": "stream",
     "text": [
      "Mean Accuracy (MS): 0.9902\n",
      "Mean Sensitivity (MS): 0.9864\n",
      "Mean Specificity (MS): 0.9953\n",
      "Mean AUC (MS): 0.9997\n",
      "Working on IAA dataset: 279 samples\n"
     ]
    },
    {
     "name": "stderr",
     "output_type": "stream",
     "text": [
      "IAA - Fold 0:  40%|▍| 1185/3000 [00:34<00:52, 34.41it/s, loss=0.163, test_loss=0\n",
      "IAA - Fold 1:  96%|▉| 2881/3000 [01:22<00:03, 34.85it/s, loss=0.184, test_loss=0\n",
      "IAA - Fold 2:  77%|▊| 2306/3000 [01:06<00:19, 34.71it/s, loss=0.165, test_loss=0\n",
      "IAA - Fold 3:  74%|▋| 2217/3000 [01:04<00:22, 34.53it/s, loss=0.199, test_loss=0\n",
      "IAA - Fold 4:  34%|▎| 1034/3000 [00:30<00:57, 34.45it/s, loss=0.182, test_loss=0\n"
     ]
    },
    {
     "name": "stdout",
     "output_type": "stream",
     "text": [
      "Mean Accuracy (IAA): 0.9283\n",
      "Mean Sensitivity (IAA): 0.7538\n",
      "Mean Specificity (IAA): 0.9813\n",
      "Mean AUC (IAA): 0.9712\n",
      "Working on RA dataset: 320 samples\n"
     ]
    },
    {
     "name": "stderr",
     "output_type": "stream",
     "text": [
      "RA - Fold 0:  65%|▋| 1949/3000 [01:03<00:34, 30.70it/s, loss=0.176, test_loss=0.\n",
      "RA - Fold 1:  35%|▎| 1039/3000 [00:34<01:04, 30.17it/s, loss=0.153, test_loss=0.\n",
      "RA - Fold 2:  68%|▋| 2040/3000 [01:07<00:31, 30.42it/s, loss=0.16, test_loss=0.3\n",
      "RA - Fold 3:  42%|▍| 1262/3000 [00:41<00:56, 30.57it/s, loss=0.199, test_loss=0.\n",
      "RA - Fold 4:  54%|▌| 1632/3000 [00:52<00:44, 30.90it/s, loss=0.178, test_loss=0.\n"
     ]
    },
    {
     "name": "stdout",
     "output_type": "stream",
     "text": [
      "Mean Accuracy (RA): 0.8969\n",
      "Mean Sensitivity (RA): 0.8019\n",
      "Mean Specificity (RA): 0.9439\n",
      "Mean AUC (RA): 0.9441\n",
      "Working on T1D dataset: 394 samples\n"
     ]
    },
    {
     "name": "stderr",
     "output_type": "stream",
     "text": [
      "T1D - Fold 0:  64%|▋| 1924/3000 [01:17<00:43, 24.95it/s, loss=0.162, test_loss=0\n",
      "T1D - Fold 1:  77%|▊| 2312/3000 [01:31<00:27, 25.14it/s, loss=0.199, test_loss=0\n",
      "T1D - Fold 2:  61%|▌| 1818/3000 [01:14<00:48, 24.43it/s, loss=0.194, test_loss=0\n",
      "T1D - Fold 3:  92%|▉| 2754/3000 [01:50<00:09, 24.99it/s, loss=0.169, test_loss=0\n",
      "T1D - Fold 4:  69%|▋| 2084/3000 [01:23<00:36, 25.05it/s, loss=0.181, test_loss=0\n"
     ]
    },
    {
     "name": "stdout",
     "output_type": "stream",
     "text": [
      "Mean Accuracy (T1D): 0.9695\n",
      "Mean Sensitivity (T1D): 0.9556\n",
      "Mean Specificity (T1D): 0.9813\n",
      "Mean AUC (T1D): 0.9982\n",
      "Working on MS dataset: 508 samples\n"
     ]
    },
    {
     "name": "stderr",
     "output_type": "stream",
     "text": [
      "MS - Fold 0:  61%|▌| 1824/3000 [01:37<01:02, 18.78it/s, loss=0.191, test_loss=0.\n",
      "MS - Fold 1: 100%|█| 3000/3000 [02:40<00:00, 18.67it/s, loss=0.16, test_loss=0.0\n",
      "MS - Fold 2: 100%|█| 3000/3000 [02:39<00:00, 18.82it/s, loss=0.198, test_loss=0.\n",
      "MS - Fold 3: 100%|█| 3000/3000 [02:37<00:00, 19.01it/s, loss=0.172, test_loss=0.\n",
      "MS - Fold 4:  68%|▋| 2047/3000 [01:46<00:49, 19.22it/s, loss=0.16, test_loss=0.0\n"
     ]
    },
    {
     "name": "stdout",
     "output_type": "stream",
     "text": [
      "Mean Accuracy (MS): 0.9921\n",
      "Mean Sensitivity (MS): 0.9966\n",
      "Mean Specificity (MS): 0.9860\n",
      "Mean AUC (MS): 0.9995\n",
      "Working on IAA dataset: 279 samples\n"
     ]
    },
    {
     "name": "stderr",
     "output_type": "stream",
     "text": [
      "IAA - Fold 0:  50%|▍| 1491/3000 [00:42<00:43, 34.99it/s, loss=0.157, test_loss=0\n",
      "IAA - Fold 1:  75%|▊| 2255/3000 [01:04<00:21, 34.83it/s, loss=0.225, test_loss=0\n",
      "IAA - Fold 2:  72%|▋| 2157/3000 [01:01<00:24, 34.90it/s, loss=0.16, test_loss=0.\n",
      "IAA - Fold 3:  90%|▉| 2693/3000 [01:18<00:08, 34.32it/s, loss=0.172, test_loss=0\n",
      "IAA - Fold 4:  85%|▊| 2542/3000 [01:15<00:13, 33.46it/s, loss=0.167, test_loss=0\n"
     ]
    },
    {
     "name": "stdout",
     "output_type": "stream",
     "text": [
      "Mean Accuracy (IAA): 0.9427\n",
      "Mean Sensitivity (IAA): 0.8154\n",
      "Mean Specificity (IAA): 0.9813\n",
      "Mean AUC (IAA): 0.9835\n",
      "Working on RA dataset: 320 samples\n"
     ]
    },
    {
     "name": "stderr",
     "output_type": "stream",
     "text": [
      "RA - Fold 0:  61%|▌| 1843/3000 [01:01<00:38, 30.17it/s, loss=0.188, test_loss=0.\n",
      "RA - Fold 1:  60%|▌| 1809/3000 [01:00<00:39, 30.05it/s, loss=0.182, test_loss=0.\n",
      "RA - Fold 2:  38%|▍| 1136/3000 [00:37<01:02, 30.03it/s, loss=0.179, test_loss=0.\n",
      "RA - Fold 3:  60%|▌| 1796/3000 [00:59<00:39, 30.14it/s, loss=0.176, test_loss=0.\n",
      "RA - Fold 4:  63%|▋| 1894/3000 [01:02<00:36, 30.16it/s, loss=0.157, test_loss=0.\n"
     ]
    },
    {
     "name": "stdout",
     "output_type": "stream",
     "text": [
      "Mean Accuracy (RA): 0.8625\n",
      "Mean Sensitivity (RA): 0.7453\n",
      "Mean Specificity (RA): 0.9206\n",
      "Mean AUC (RA): 0.9470\n",
      "Working on T1D dataset: 394 samples\n"
     ]
    },
    {
     "name": "stderr",
     "output_type": "stream",
     "text": [
      "T1D - Fold 0:  81%|▊| 2416/3000 [01:38<00:23, 24.43it/s, loss=0.186, test_loss=0\n",
      "T1D - Fold 1:  49%|▍| 1469/3000 [01:00<01:02, 24.35it/s, loss=0.162, test_loss=0\n",
      "T1D - Fold 2:  40%|▍| 1210/3000 [00:49<01:12, 24.55it/s, loss=0.144, test_loss=0\n",
      "T1D - Fold 3:  56%|▌| 1686/3000 [01:09<00:54, 24.31it/s, loss=0.182, test_loss=0\n",
      "T1D - Fold 4:  77%|▊| 2315/3000 [01:33<00:27, 24.70it/s, loss=0.182, test_loss=0\n"
     ]
    },
    {
     "name": "stdout",
     "output_type": "stream",
     "text": [
      "Mean Accuracy (T1D): 0.9772\n",
      "Mean Sensitivity (T1D): 0.9722\n",
      "Mean Specificity (T1D): 0.9813\n",
      "Mean AUC (T1D): 0.9949\n",
      "Working on MS dataset: 508 samples\n"
     ]
    },
    {
     "name": "stderr",
     "output_type": "stream",
     "text": [
      "MS - Fold 0:  73%|▋| 2187/3000 [01:54<00:42, 19.17it/s, loss=0.175, test_loss=0.\n",
      "MS - Fold 1:  95%|▉| 2852/3000 [02:29<00:07, 19.13it/s, loss=0.168, test_loss=0.\n",
      "MS - Fold 2:  65%|▋| 1948/3000 [01:42<00:55, 18.93it/s, loss=0.185, test_loss=0.\n",
      "MS - Fold 3:  96%|▉| 2870/3000 [02:29<00:06, 19.24it/s, loss=0.178, test_loss=0.\n",
      "MS - Fold 4: 100%|█| 3000/3000 [02:38<00:00, 18.89it/s, loss=0.16, test_loss=0.0\n"
     ]
    },
    {
     "name": "stdout",
     "output_type": "stream",
     "text": [
      "Mean Accuracy (MS): 0.9862\n",
      "Mean Sensitivity (MS): 0.9932\n",
      "Mean Specificity (MS): 0.9766\n",
      "Mean AUC (MS): 0.9991\n",
      "Working on IAA dataset: 279 samples\n"
     ]
    },
    {
     "name": "stderr",
     "output_type": "stream",
     "text": [
      "IAA - Fold 0:  42%|▍| 1274/3000 [00:36<00:49, 34.67it/s, loss=0.192, test_loss=0\n",
      "IAA - Fold 1:  71%|▋| 2134/3000 [01:01<00:25, 34.60it/s, loss=0.196, test_loss=0\n",
      "IAA - Fold 2:  65%|▋| 1956/3000 [00:56<00:29, 34.92it/s, loss=0.177, test_loss=0\n",
      "IAA - Fold 3:  71%|▋| 2136/3000 [01:01<00:24, 34.73it/s, loss=0.187, test_loss=0\n",
      "IAA - Fold 4:  75%|▋| 2239/3000 [01:05<00:22, 34.21it/s, loss=0.198, test_loss=0\n"
     ]
    },
    {
     "name": "stdout",
     "output_type": "stream",
     "text": [
      "Mean Accuracy (IAA): 0.9427\n",
      "Mean Sensitivity (IAA): 0.8462\n",
      "Mean Specificity (IAA): 0.9720\n",
      "Mean AUC (IAA): 0.9869\n",
      "Working on RA dataset: 320 samples\n"
     ]
    },
    {
     "name": "stderr",
     "output_type": "stream",
     "text": [
      "RA - Fold 0:  56%|▌| 1690/3000 [00:55<00:42, 30.61it/s, loss=0.182, test_loss=0.\n",
      "RA - Fold 1:  59%|▌| 1775/3000 [00:58<00:40, 30.32it/s, loss=0.159, test_loss=0.\n",
      "RA - Fold 2:  34%|▎| 1005/3000 [00:33<01:06, 29.84it/s, loss=0.205, test_loss=0.\n",
      "RA - Fold 3:  70%|▋| 2112/3000 [01:09<00:29, 30.17it/s, loss=0.188, test_loss=0.\n",
      "RA - Fold 4:  67%|▋| 2012/3000 [01:06<00:32, 30.19it/s, loss=0.184, test_loss=0.\n"
     ]
    },
    {
     "name": "stdout",
     "output_type": "stream",
     "text": [
      "Mean Accuracy (RA): 0.8750\n",
      "Mean Sensitivity (RA): 0.7925\n",
      "Mean Specificity (RA): 0.9159\n",
      "Mean AUC (RA): 0.9411\n",
      "Working on T1D dataset: 394 samples\n"
     ]
    },
    {
     "name": "stderr",
     "output_type": "stream",
     "text": [
      "T1D - Fold 0:  82%|▊| 2447/3000 [01:37<00:22, 24.98it/s, loss=0.172, test_loss=0\n",
      "T1D - Fold 1:  77%|▊| 2321/3000 [01:34<00:27, 24.61it/s, loss=0.185, test_loss=0\n",
      "T1D - Fold 2:  79%|▊| 2370/3000 [01:37<00:25, 24.38it/s, loss=0.189, test_loss=0\n",
      "T1D - Fold 3:  83%|▊| 2476/3000 [01:39<00:21, 24.91it/s, loss=0.152, test_loss=0\n",
      "T1D - Fold 4:  74%|▋| 2229/3000 [01:31<00:31, 24.48it/s, loss=0.161, test_loss=0\n"
     ]
    },
    {
     "name": "stdout",
     "output_type": "stream",
     "text": [
      "Mean Accuracy (T1D): 0.9848\n",
      "Mean Sensitivity (T1D): 0.9778\n",
      "Mean Specificity (T1D): 0.9907\n",
      "Mean AUC (T1D): 0.9987\n",
      "Working on MS dataset: 508 samples\n"
     ]
    },
    {
     "name": "stderr",
     "output_type": "stream",
     "text": [
      "MS - Fold 0:  66%|▋| 1987/3000 [01:46<00:54, 18.70it/s, loss=0.187, test_loss=0.\n",
      "MS - Fold 1:  95%|▉| 2851/3000 [02:28<00:07, 19.19it/s, loss=0.161, test_loss=0.\n",
      "MS - Fold 2: 100%|█| 3000/3000 [02:38<00:00, 18.87it/s, loss=0.212, test_loss=0.\n",
      "MS - Fold 3:  77%|▊| 2320/3000 [02:05<00:36, 18.54it/s, loss=0.188, test_loss=0.\n",
      "MS - Fold 4: 100%|█| 3000/3000 [02:42<00:00, 18.49it/s, loss=0.204, test_loss=0.\n"
     ]
    },
    {
     "name": "stdout",
     "output_type": "stream",
     "text": [
      "Mean Accuracy (MS): 0.9587\n",
      "Mean Sensitivity (MS): 0.9762\n",
      "Mean Specificity (MS): 0.9346\n",
      "Mean AUC (MS): 0.9960\n",
      "Working on IAA dataset: 279 samples\n"
     ]
    },
    {
     "name": "stderr",
     "output_type": "stream",
     "text": [
      "IAA - Fold 0:  44%|▍| 1312/3000 [00:39<00:50, 33.28it/s, loss=0.186, test_loss=0\n",
      "IAA - Fold 1:  95%|▉| 2862/3000 [01:27<00:04, 32.79it/s, loss=0.2, test_loss=0.1\n",
      "IAA - Fold 2:  53%|▌| 1578/3000 [00:47<00:42, 33.30it/s, loss=0.189, test_loss=0\n",
      "IAA - Fold 3:  78%|▊| 2327/3000 [01:09<00:20, 33.50it/s, loss=0.182, test_loss=0\n",
      "IAA - Fold 4:  61%|▌| 1832/3000 [00:54<00:34, 33.37it/s, loss=0.176, test_loss=0\n"
     ]
    },
    {
     "name": "stdout",
     "output_type": "stream",
     "text": [
      "Mean Accuracy (IAA): 0.9319\n",
      "Mean Sensitivity (IAA): 0.7846\n",
      "Mean Specificity (IAA): 0.9766\n",
      "Mean AUC (IAA): 0.9859\n",
      "Working on RA dataset: 320 samples\n"
     ]
    },
    {
     "name": "stderr",
     "output_type": "stream",
     "text": [
      "RA - Fold 0:  78%|▊| 2325/3000 [01:16<00:22, 30.46it/s, loss=0.167, test_loss=0.\n",
      "RA - Fold 1:  72%|▋| 2173/3000 [01:10<00:26, 30.83it/s, loss=0.203, test_loss=0.\n",
      "RA - Fold 2:  87%|▊| 2621/3000 [01:26<00:12, 30.37it/s, loss=0.186, test_loss=0.\n",
      "RA - Fold 3:  79%|▊| 2373/3000 [01:17<00:20, 30.68it/s, loss=0.198, test_loss=0.\n",
      "RA - Fold 4:  25%|▏| 740/3000 [00:24<01:13, 30.55it/s, loss=0.177, test_loss=0.5\n"
     ]
    },
    {
     "name": "stdout",
     "output_type": "stream",
     "text": [
      "Mean Accuracy (RA): 0.8500\n",
      "Mean Sensitivity (RA): 0.7358\n",
      "Mean Specificity (RA): 0.9065\n",
      "Mean AUC (RA): 0.9344\n",
      "Working on T1D dataset: 394 samples\n"
     ]
    },
    {
     "name": "stderr",
     "output_type": "stream",
     "text": [
      "T1D - Fold 0:  51%|▌| 1542/3000 [01:01<00:57, 25.25it/s, loss=0.209, test_loss=0\n",
      "T1D - Fold 1:  81%|▊| 2421/3000 [01:36<00:23, 25.01it/s, loss=0.156, test_loss=0\n",
      "T1D - Fold 2:  36%|▎| 1079/3000 [00:43<01:18, 24.56it/s, loss=0.164, test_loss=0\n",
      "T1D - Fold 3:  91%|▉| 2723/3000 [01:47<00:10, 25.27it/s, loss=0.171, test_loss=0\n",
      "T1D - Fold 4: 100%|█| 3000/3000 [02:01<00:00, 24.77it/s, loss=0.209, test_loss=0\n"
     ]
    },
    {
     "name": "stdout",
     "output_type": "stream",
     "text": [
      "Mean Accuracy (T1D): 0.9772\n",
      "Mean Sensitivity (T1D): 0.9722\n",
      "Mean Specificity (T1D): 0.9813\n",
      "Mean AUC (T1D): 0.9970\n",
      "Working on MS dataset: 508 samples\n"
     ]
    },
    {
     "name": "stderr",
     "output_type": "stream",
     "text": [
      "MS - Fold 0: 100%|█| 3000/3000 [02:38<00:00, 18.94it/s, loss=0.207, test_loss=0.\n",
      "MS - Fold 1: 100%|█| 3000/3000 [02:41<00:00, 18.56it/s, loss=0.172, test_loss=0.\n",
      "MS - Fold 2:  88%|▉| 2644/3000 [02:21<00:19, 18.71it/s, loss=0.161, test_loss=0.\n",
      "MS - Fold 3: 100%|█| 3000/3000 [02:40<00:00, 18.64it/s, loss=0.193, test_loss=0.\n",
      "MS - Fold 4:  77%|▊| 2296/3000 [02:01<00:37, 18.94it/s, loss=0.213, test_loss=0.\n"
     ]
    },
    {
     "name": "stdout",
     "output_type": "stream",
     "text": [
      "Mean Accuracy (MS): 0.9862\n",
      "Mean Sensitivity (MS): 0.9966\n",
      "Mean Specificity (MS): 0.9720\n",
      "Mean AUC (MS): 0.9994\n",
      "Working on IAA dataset: 279 samples\n"
     ]
    },
    {
     "name": "stderr",
     "output_type": "stream",
     "text": [
      "IAA - Fold 0:  25%|▎| 761/3000 [00:22<01:05, 34.35it/s, loss=0.182, test_loss=0.\n",
      "IAA - Fold 1:  78%|▊| 2343/3000 [01:07<00:18, 34.72it/s, loss=0.153, test_loss=0\n",
      "IAA - Fold 2:  50%|▌| 1509/3000 [00:43<00:42, 34.71it/s, loss=0.177, test_loss=0\n",
      "IAA - Fold 3:  48%|▍| 1439/3000 [00:41<00:45, 34.42it/s, loss=0.158, test_loss=0\n",
      "IAA - Fold 4:  58%|▌| 1744/3000 [00:50<00:36, 34.53it/s, loss=0.183, test_loss=0\n"
     ]
    },
    {
     "name": "stdout",
     "output_type": "stream",
     "text": [
      "Mean Accuracy (IAA): 0.9498\n",
      "Mean Sensitivity (IAA): 0.8154\n",
      "Mean Specificity (IAA): 0.9907\n",
      "Mean AUC (IAA): 0.9891\n",
      "Working on RA dataset: 320 samples\n"
     ]
    },
    {
     "name": "stderr",
     "output_type": "stream",
     "text": [
      "RA - Fold 0:  65%|▋| 1949/3000 [01:02<00:33, 31.01it/s, loss=0.175, test_loss=0.\n",
      "RA - Fold 1:  53%|▌| 1596/3000 [00:51<00:44, 31.23it/s, loss=0.167, test_loss=0.\n",
      "RA - Fold 2:  30%|▎| 905/3000 [00:29<01:08, 30.72it/s, loss=0.186, test_loss=0.6\n",
      "RA - Fold 3:  71%|▋| 2143/3000 [01:11<00:28, 30.18it/s, loss=0.178, test_loss=0.\n",
      "RA - Fold 4:  84%|▊| 2525/3000 [01:24<00:15, 29.97it/s, loss=0.186, test_loss=0.\n"
     ]
    },
    {
     "name": "stdout",
     "output_type": "stream",
     "text": [
      "Mean Accuracy (RA): 0.8562\n",
      "Mean Sensitivity (RA): 0.7075\n",
      "Mean Specificity (RA): 0.9299\n",
      "Mean AUC (RA): 0.9298\n",
      "Working on T1D dataset: 394 samples\n"
     ]
    },
    {
     "name": "stderr",
     "output_type": "stream",
     "text": [
      "T1D - Fold 0:  90%|▉| 2714/3000 [01:50<00:11, 24.53it/s, loss=0.177, test_loss=0\n",
      "T1D - Fold 1:  64%|▋| 1907/3000 [01:18<00:44, 24.39it/s, loss=0.144, test_loss=0\n",
      "T1D - Fold 2:  50%|▍| 1490/3000 [01:01<01:02, 24.21it/s, loss=0.151, test_loss=0\n",
      "T1D - Fold 3: 100%|█| 3000/3000 [02:09<00:00, 23.20it/s, loss=0.171, test_loss=0\n",
      "T1D - Fold 4:  85%|▊| 2550/3000 [01:42<00:18, 24.81it/s, loss=0.185, test_loss=0\n"
     ]
    },
    {
     "name": "stdout",
     "output_type": "stream",
     "text": [
      "Mean Accuracy (T1D): 0.9822\n",
      "Mean Sensitivity (T1D): 0.9833\n",
      "Mean Specificity (T1D): 0.9813\n",
      "Mean AUC (T1D): 0.9964\n",
      "Working on MS dataset: 508 samples\n"
     ]
    },
    {
     "name": "stderr",
     "output_type": "stream",
     "text": [
      "MS - Fold 0:  70%|▋| 2114/3000 [01:51<00:46, 18.96it/s, loss=0.184, test_loss=0.\n",
      "MS - Fold 1: 100%|█| 3000/3000 [02:38<00:00, 18.92it/s, loss=0.177, test_loss=0.\n",
      "MS - Fold 2:  61%|▌| 1833/3000 [01:37<01:01, 18.85it/s, loss=0.17, test_loss=0.1\n",
      "MS - Fold 3:  95%|▉| 2852/3000 [02:27<00:07, 19.34it/s, loss=0.159, test_loss=0.\n",
      "MS - Fold 4:  66%|▋| 1975/3000 [01:42<00:53, 19.18it/s, loss=0.168, test_loss=0.\n"
     ]
    },
    {
     "name": "stdout",
     "output_type": "stream",
     "text": [
      "Mean Accuracy (MS): 0.9882\n",
      "Mean Sensitivity (MS): 0.9864\n",
      "Mean Specificity (MS): 0.9907\n",
      "Mean AUC (MS): 0.9996\n",
      "Working on IAA dataset: 279 samples\n"
     ]
    },
    {
     "name": "stderr",
     "output_type": "stream",
     "text": [
      "IAA - Fold 0:  32%|▎| 949/3000 [00:27<00:59, 34.32it/s, loss=0.146, test_loss=0.\n",
      "IAA - Fold 1:  83%|▊| 2496/3000 [01:12<00:14, 34.61it/s, loss=0.169, test_loss=0\n",
      "IAA - Fold 2:  63%|▋| 1885/3000 [00:54<00:32, 34.54it/s, loss=0.173, test_loss=0\n",
      "IAA - Fold 3:  54%|▌| 1616/3000 [00:47<00:40, 34.25it/s, loss=0.185, test_loss=0\n",
      "IAA - Fold 4:  47%|▍| 1411/3000 [00:42<00:47, 33.47it/s, loss=0.159, test_loss=0\n"
     ]
    },
    {
     "name": "stdout",
     "output_type": "stream",
     "text": [
      "Mean Accuracy (IAA): 0.9247\n",
      "Mean Sensitivity (IAA): 0.7538\n",
      "Mean Specificity (IAA): 0.9766\n",
      "Mean AUC (IAA): 0.9728\n",
      "Working on RA dataset: 320 samples\n"
     ]
    },
    {
     "name": "stderr",
     "output_type": "stream",
     "text": [
      "RA - Fold 0:  65%|▋| 1936/3000 [01:04<00:35, 30.23it/s, loss=0.167, test_loss=0.\n",
      "RA - Fold 1:  50%|▍| 1488/3000 [00:49<00:49, 30.28it/s, loss=0.166, test_loss=0.\n",
      "RA - Fold 2:  23%|▏| 689/3000 [00:23<01:18, 29.51it/s, loss=0.205, test_loss=0.6\n",
      "RA - Fold 3:  82%|▊| 2455/3000 [01:21<00:18, 30.12it/s, loss=0.179, test_loss=0.\n",
      "RA - Fold 4:  63%|▋| 1894/3000 [01:03<00:37, 29.87it/s, loss=0.183, test_loss=0.\n"
     ]
    },
    {
     "name": "stdout",
     "output_type": "stream",
     "text": [
      "Mean Accuracy (RA): 0.8594\n",
      "Mean Sensitivity (RA): 0.7547\n",
      "Mean Specificity (RA): 0.9112\n",
      "Mean AUC (RA): 0.9307\n",
      "Working on T1D dataset: 394 samples\n"
     ]
    },
    {
     "name": "stderr",
     "output_type": "stream",
     "text": [
      "T1D - Fold 0: 100%|▉| 2996/3000 [02:00<00:00, 24.94it/s, loss=0.167, test_loss=0\n",
      "T1D - Fold 1:  83%|▊| 2498/3000 [01:40<00:20, 24.90it/s, loss=0.144, test_loss=0\n",
      "T1D - Fold 2:  58%|▌| 1748/3000 [01:11<00:51, 24.51it/s, loss=0.167, test_loss=0\n",
      "T1D - Fold 3:  94%|▉| 2812/3000 [01:54<00:07, 24.50it/s, loss=0.158, test_loss=0\n",
      "T1D - Fold 4:  76%|▊| 2272/3000 [01:30<00:29, 25.09it/s, loss=0.14, test_loss=0.\n"
     ]
    },
    {
     "name": "stdout",
     "output_type": "stream",
     "text": [
      "Mean Accuracy (T1D): 0.9797\n",
      "Mean Sensitivity (T1D): 0.9722\n",
      "Mean Specificity (T1D): 0.9860\n",
      "Mean AUC (T1D): 0.9985\n",
      "Working on MS dataset: 508 samples\n"
     ]
    },
    {
     "name": "stderr",
     "output_type": "stream",
     "text": [
      "MS - Fold 0:  88%|▉| 2630/3000 [02:16<00:19, 19.27it/s, loss=0.199, test_loss=0.\n",
      "MS - Fold 1: 100%|█| 3000/3000 [02:37<00:00, 19.08it/s, loss=0.193, test_loss=0.\n",
      "MS - Fold 2:  76%|▊| 2279/3000 [02:01<00:38, 18.69it/s, loss=0.164, test_loss=0.\n",
      "MS - Fold 3:  80%|▊| 2413/3000 [02:06<00:30, 19.08it/s, loss=0.189, test_loss=0.\n",
      "MS - Fold 4:  92%|▉| 2767/3000 [02:31<00:12, 18.32it/s, loss=0.155, test_loss=0.\n"
     ]
    },
    {
     "name": "stdout",
     "output_type": "stream",
     "text": [
      "Mean Accuracy (MS): 0.9843\n",
      "Mean Sensitivity (MS): 0.9898\n",
      "Mean Specificity (MS): 0.9766\n",
      "Mean AUC (MS): 0.9994\n",
      "Working on IAA dataset: 279 samples\n"
     ]
    },
    {
     "name": "stderr",
     "output_type": "stream",
     "text": [
      "IAA - Fold 0:  40%|▍| 1209/3000 [00:36<00:53, 33.30it/s, loss=0.188, test_loss=0\n",
      "IAA - Fold 1:  95%|▉| 2857/3000 [01:25<00:04, 33.27it/s, loss=0.168, test_loss=0\n",
      "IAA - Fold 2:  62%|▌| 1857/3000 [00:54<00:33, 33.89it/s, loss=0.172, test_loss=0\n",
      "IAA - Fold 3:  89%|▉| 2665/3000 [01:21<00:10, 32.90it/s, loss=0.157, test_loss=0\n",
      "IAA - Fold 4:  57%|▌| 1708/3000 [00:49<00:37, 34.42it/s, loss=0.195, test_loss=0\n"
     ]
    },
    {
     "name": "stdout",
     "output_type": "stream",
     "text": [
      "Mean Accuracy (IAA): 0.9462\n",
      "Mean Sensitivity (IAA): 0.8000\n",
      "Mean Specificity (IAA): 0.9907\n",
      "Mean AUC (IAA): 0.9838\n",
      "Working on RA dataset: 320 samples\n"
     ]
    },
    {
     "name": "stderr",
     "output_type": "stream",
     "text": [
      "RA - Fold 0:  44%|▍| 1328/3000 [00:43<00:55, 30.27it/s, loss=0.161, test_loss=0.\n",
      "RA - Fold 1:  43%|▍| 1296/3000 [00:42<00:56, 30.19it/s, loss=0.171, test_loss=0.\n",
      "RA - Fold 2:  36%|▎| 1088/3000 [00:35<01:02, 30.59it/s, loss=0.162, test_loss=0.\n",
      "RA - Fold 3:  82%|▊| 2475/3000 [01:21<00:17, 30.25it/s, loss=0.164, test_loss=0.\n",
      "RA - Fold 4:  67%|▋| 2024/3000 [01:05<00:31, 31.12it/s, loss=0.174, test_loss=0.\n"
     ]
    },
    {
     "name": "stdout",
     "output_type": "stream",
     "text": [
      "Mean Accuracy (RA): 0.8688\n",
      "Mean Sensitivity (RA): 0.7453\n",
      "Mean Specificity (RA): 0.9299\n",
      "Mean AUC (RA): 0.9456\n",
      "Working on T1D dataset: 394 samples\n"
     ]
    },
    {
     "name": "stderr",
     "output_type": "stream",
     "text": [
      "T1D - Fold 0:  52%|▌| 1557/3000 [01:03<00:58, 24.53it/s, loss=0.186, test_loss=0\n",
      "T1D - Fold 1:  66%|▋| 1992/3000 [01:20<00:40, 24.86it/s, loss=0.185, test_loss=0\n",
      "T1D - Fold 2:  49%|▍| 1484/3000 [00:58<00:59, 25.34it/s, loss=0.145, test_loss=0\n",
      "T1D - Fold 3:  68%|▋| 2026/3000 [01:21<00:39, 24.91it/s, loss=0.146, test_loss=0\n",
      "T1D - Fold 4:  76%|▊| 2283/3000 [01:30<00:28, 25.15it/s, loss=0.211, test_loss=0\n"
     ]
    },
    {
     "name": "stdout",
     "output_type": "stream",
     "text": [
      "Mean Accuracy (T1D): 0.9772\n",
      "Mean Sensitivity (T1D): 0.9722\n",
      "Mean Specificity (T1D): 0.9813\n",
      "Mean AUC (T1D): 0.9973\n",
      "Working on MS dataset: 508 samples\n"
     ]
    },
    {
     "name": "stderr",
     "output_type": "stream",
     "text": [
      "MS - Fold 0: 100%|█| 3000/3000 [02:37<00:00, 19.07it/s, loss=0.155, test_loss=0.\n",
      "MS - Fold 1: 100%|█| 3000/3000 [02:37<00:00, 19.02it/s, loss=0.181, test_loss=0.\n",
      "MS - Fold 2:  58%|▌| 1751/3000 [01:33<01:06, 18.72it/s, loss=0.162, test_loss=0.\n",
      "MS - Fold 3:  90%|▉| 2689/3000 [02:23<00:16, 18.69it/s, loss=0.156, test_loss=0.\n",
      "MS - Fold 4:  68%|▋| 2041/3000 [01:48<00:51, 18.73it/s, loss=0.159, test_loss=0.\n"
     ]
    },
    {
     "name": "stdout",
     "output_type": "stream",
     "text": [
      "Mean Accuracy (MS): 0.9843\n",
      "Mean Sensitivity (MS): 0.9898\n",
      "Mean Specificity (MS): 0.9766\n",
      "Mean AUC (MS): 0.9989\n",
      "Working on IAA dataset: 279 samples\n"
     ]
    },
    {
     "name": "stderr",
     "output_type": "stream",
     "text": [
      "IAA - Fold 0:  40%|▍| 1209/3000 [00:35<00:52, 33.94it/s, loss=0.225, test_loss=0\n",
      "IAA - Fold 1:  54%|▌| 1625/3000 [00:47<00:40, 34.00it/s, loss=0.166, test_loss=0\n",
      "IAA - Fold 2:  45%|▍| 1337/3000 [00:39<00:49, 33.89it/s, loss=0.161, test_loss=0\n",
      "IAA - Fold 3: 100%|▉| 2999/3000 [01:26<00:00, 34.79it/s, loss=0.196, test_loss=0\n",
      "IAA - Fold 4:  77%|▊| 2314/3000 [01:06<00:19, 34.59it/s, loss=0.164, test_loss=0\n"
     ]
    },
    {
     "name": "stdout",
     "output_type": "stream",
     "text": [
      "Mean Accuracy (IAA): 0.9462\n",
      "Mean Sensitivity (IAA): 0.8154\n",
      "Mean Specificity (IAA): 0.9860\n",
      "Mean AUC (IAA): 0.9807\n",
      "Working on RA dataset: 320 samples\n"
     ]
    },
    {
     "name": "stderr",
     "output_type": "stream",
     "text": [
      "RA - Fold 0:  76%|▊| 2282/3000 [01:14<00:23, 30.55it/s, loss=0.209, test_loss=0.\n",
      "RA - Fold 1:  61%|▌| 1844/3000 [00:59<00:37, 30.90it/s, loss=0.165, test_loss=0.\n",
      "RA - Fold 2:  63%|▋| 1890/3000 [01:01<00:35, 30.87it/s, loss=0.187, test_loss=0.\n",
      "RA - Fold 3:  58%|▌| 1749/3000 [00:56<00:40, 30.78it/s, loss=0.176, test_loss=0.\n",
      "RA - Fold 4:  46%|▍| 1386/3000 [00:45<00:52, 30.57it/s, loss=0.203, test_loss=0.\n"
     ]
    },
    {
     "name": "stdout",
     "output_type": "stream",
     "text": [
      "Mean Accuracy (RA): 0.8938\n",
      "Mean Sensitivity (RA): 0.8302\n",
      "Mean Specificity (RA): 0.9252\n",
      "Mean AUC (RA): 0.9548\n",
      "Working on T1D dataset: 394 samples\n"
     ]
    },
    {
     "name": "stderr",
     "output_type": "stream",
     "text": [
      "T1D - Fold 0:  89%|▉| 2673/3000 [01:47<00:13, 24.81it/s, loss=0.23, test_loss=0.\n",
      "T1D - Fold 1:  71%|▋| 2123/3000 [01:27<00:35, 24.40it/s, loss=0.164, test_loss=0\n",
      "T1D - Fold 2:  49%|▍| 1480/3000 [01:02<01:04, 23.75it/s, loss=0.154, test_loss=0\n",
      "T1D - Fold 3:  64%|▋| 1912/3000 [01:17<00:44, 24.52it/s, loss=0.178, test_loss=0\n",
      "T1D - Fold 4:  49%|▍| 1461/3000 [01:00<01:03, 24.27it/s, loss=0.179, test_loss=0\n"
     ]
    },
    {
     "name": "stdout",
     "output_type": "stream",
     "text": [
      "Mean Accuracy (T1D): 0.9797\n",
      "Mean Sensitivity (T1D): 0.9778\n",
      "Mean Specificity (T1D): 0.9813\n",
      "Mean AUC (T1D): 0.9977\n",
      "Working on MS dataset: 508 samples\n"
     ]
    },
    {
     "name": "stderr",
     "output_type": "stream",
     "text": [
      "MS - Fold 0:  66%|▋| 1974/3000 [01:45<00:54, 18.74it/s, loss=0.14, test_loss=0.0\n",
      "MS - Fold 1:  71%|▋| 2117/3000 [01:54<00:47, 18.53it/s, loss=0.194, test_loss=0.\n",
      "MS - Fold 2: 100%|█| 3000/3000 [02:42<00:00, 18.46it/s, loss=0.169, test_loss=0.\n",
      "MS - Fold 3: 100%|█| 3000/3000 [02:36<00:00, 19.14it/s, loss=0.146, test_loss=0.\n",
      "MS - Fold 4:  86%|▊| 2570/3000 [02:14<00:22, 19.13it/s, loss=0.18, test_loss=0.0\n"
     ]
    },
    {
     "name": "stdout",
     "output_type": "stream",
     "text": [
      "Mean Accuracy (MS): 0.9882\n",
      "Mean Sensitivity (MS): 0.9966\n",
      "Mean Specificity (MS): 0.9766\n",
      "Mean AUC (MS): 0.9990\n",
      "Working on IAA dataset: 279 samples\n"
     ]
    },
    {
     "name": "stderr",
     "output_type": "stream",
     "text": [
      "IAA - Fold 0:  32%|▎| 945/3000 [00:26<00:58, 35.28it/s, loss=0.142, test_loss=0.\n",
      "IAA - Fold 1:  89%|▉| 2684/3000 [01:18<00:09, 34.34it/s, loss=0.176, test_loss=0\n",
      "IAA - Fold 2:  81%|▊| 2442/3000 [01:10<00:16, 34.85it/s, loss=0.184, test_loss=0\n",
      "IAA - Fold 3:  56%|▌| 1669/3000 [00:48<00:38, 34.41it/s, loss=0.164, test_loss=0\n",
      "IAA - Fold 4:  54%|▌| 1627/3000 [00:48<00:40, 33.83it/s, loss=0.142, test_loss=0\n"
     ]
    },
    {
     "name": "stdout",
     "output_type": "stream",
     "text": [
      "Mean Accuracy (IAA): 0.9104\n",
      "Mean Sensitivity (IAA): 0.6923\n",
      "Mean Specificity (IAA): 0.9766\n",
      "Mean AUC (IAA): 0.9696\n",
      "Working on RA dataset: 320 samples\n"
     ]
    },
    {
     "name": "stderr",
     "output_type": "stream",
     "text": [
      "RA - Fold 0:  52%|▌| 1563/3000 [00:51<00:47, 30.34it/s, loss=0.18, test_loss=0.2\n",
      "RA - Fold 1:  54%|▌| 1627/3000 [00:53<00:44, 30.52it/s, loss=0.198, test_loss=0.\n",
      "RA - Fold 2:  39%|▍| 1170/3000 [00:38<00:59, 30.68it/s, loss=0.163, test_loss=0.\n",
      "RA - Fold 3:  42%|▍| 1246/3000 [00:40<00:56, 31.14it/s, loss=0.189, test_loss=0.\n",
      "RA - Fold 4:  56%|▌| 1683/3000 [00:54<00:42, 30.64it/s, loss=0.202, test_loss=0.\n"
     ]
    },
    {
     "name": "stdout",
     "output_type": "stream",
     "text": [
      "Mean Accuracy (RA): 0.8469\n",
      "Mean Sensitivity (RA): 0.7075\n",
      "Mean Specificity (RA): 0.9159\n",
      "Mean AUC (RA): 0.9170\n",
      "Working on T1D dataset: 394 samples\n"
     ]
    },
    {
     "name": "stderr",
     "output_type": "stream",
     "text": [
      "T1D - Fold 0:  66%|▋| 1970/3000 [01:19<00:41, 24.82it/s, loss=0.2, test_loss=0.0\n",
      "T1D - Fold 1:  96%|▉| 2891/3000 [01:58<00:04, 24.48it/s, loss=0.18, test_loss=0.\n",
      "T1D - Fold 2:  61%|▌| 1844/3000 [01:14<00:46, 24.81it/s, loss=0.169, test_loss=0\n",
      "T1D - Fold 3:  72%|▋| 2169/3000 [01:28<00:33, 24.48it/s, loss=0.202, test_loss=0\n",
      "T1D - Fold 4:  45%|▍| 1359/3000 [00:54<01:06, 24.85it/s, loss=0.159, test_loss=0\n"
     ]
    },
    {
     "name": "stdout",
     "output_type": "stream",
     "text": [
      "Mean Accuracy (T1D): 0.9772\n",
      "Mean Sensitivity (T1D): 0.9722\n",
      "Mean Specificity (T1D): 0.9813\n",
      "Mean AUC (T1D): 0.9968\n",
      "Working on MS dataset: 508 samples\n"
     ]
    },
    {
     "name": "stderr",
     "output_type": "stream",
     "text": [
      "MS - Fold 0:  56%|▌| 1669/3000 [01:27<01:09, 19.12it/s, loss=0.182, test_loss=0.\n",
      "MS - Fold 1: 100%|█| 3000/3000 [02:40<00:00, 18.64it/s, loss=0.182, test_loss=0.\n",
      "MS - Fold 2:  43%|▍| 1292/3000 [01:08<01:31, 18.76it/s, loss=0.186, test_loss=0.\n",
      "MS - Fold 3: 100%|█| 3000/3000 [02:37<00:00, 19.04it/s, loss=0.2, test_loss=0.01\n",
      "MS - Fold 4:  91%|▉| 2722/3000 [02:21<00:14, 19.25it/s, loss=0.18, test_loss=0.0\n"
     ]
    },
    {
     "name": "stdout",
     "output_type": "stream",
     "text": [
      "Mean Accuracy (MS): 0.9862\n",
      "Mean Sensitivity (MS): 0.9932\n",
      "Mean Specificity (MS): 0.9766\n",
      "Mean AUC (MS): 0.9994\n",
      "Working on IAA dataset: 279 samples\n"
     ]
    },
    {
     "name": "stderr",
     "output_type": "stream",
     "text": [
      "IAA - Fold 0:  81%|▊| 2418/3000 [01:09<00:16, 34.84it/s, loss=0.172, test_loss=0\n",
      "IAA - Fold 1:  86%|▊| 2588/3000 [01:16<00:12, 34.01it/s, loss=0.176, test_loss=0\n",
      "IAA - Fold 2:  68%|▋| 2055/3000 [01:00<00:27, 34.10it/s, loss=0.181, test_loss=0\n",
      "IAA - Fold 3:  54%|▌| 1620/3000 [00:48<00:41, 33.57it/s, loss=0.228, test_loss=0\n",
      "IAA - Fold 4:  55%|▌| 1651/3000 [00:49<00:40, 33.38it/s, loss=0.149, test_loss=0\n"
     ]
    },
    {
     "name": "stdout",
     "output_type": "stream",
     "text": [
      "Mean Accuracy (IAA): 0.9534\n",
      "Mean Sensitivity (IAA): 0.8462\n",
      "Mean Specificity (IAA): 0.9860\n",
      "Mean AUC (IAA): 0.9854\n",
      "Working on RA dataset: 320 samples\n"
     ]
    },
    {
     "name": "stderr",
     "output_type": "stream",
     "text": [
      "RA - Fold 0:  51%|▌| 1519/3000 [00:50<00:48, 30.35it/s, loss=0.177, test_loss=0.\n",
      "RA - Fold 1:  31%|▎| 923/3000 [00:31<01:10, 29.46it/s, loss=0.202, test_loss=0.6\n",
      "RA - Fold 2:  66%|▋| 1971/3000 [01:06<00:34, 29.60it/s, loss=0.16, test_loss=0.3\n",
      "RA - Fold 3:  51%|▌| 1538/3000 [00:51<00:49, 29.71it/s, loss=0.196, test_loss=0.\n",
      "RA - Fold 4:  44%|▍| 1307/3000 [00:43<00:56, 29.93it/s, loss=0.207, test_loss=0.\n"
     ]
    },
    {
     "name": "stdout",
     "output_type": "stream",
     "text": [
      "Mean Accuracy (RA): 0.8688\n",
      "Mean Sensitivity (RA): 0.7358\n",
      "Mean Specificity (RA): 0.9346\n",
      "Mean AUC (RA): 0.9475\n",
      "Working on T1D dataset: 394 samples\n"
     ]
    },
    {
     "name": "stderr",
     "output_type": "stream",
     "text": [
      "T1D - Fold 0:  79%|▊| 2378/3000 [01:37<00:25, 24.41it/s, loss=0.162, test_loss=0\n",
      "T1D - Fold 1:  81%|▊| 2423/3000 [01:39<00:23, 24.47it/s, loss=0.167, test_loss=0\n",
      "T1D - Fold 2:  66%|▋| 1978/3000 [01:21<00:42, 24.25it/s, loss=0.211, test_loss=0\n",
      "T1D - Fold 3:  74%|▋| 2228/3000 [01:31<00:31, 24.27it/s, loss=0.183, test_loss=0\n",
      "T1D - Fold 4:  62%|▌| 1848/3000 [01:14<00:46, 24.86it/s, loss=0.184, test_loss=0\n"
     ]
    },
    {
     "name": "stdout",
     "output_type": "stream",
     "text": [
      "Mean Accuracy (T1D): 0.9822\n",
      "Mean Sensitivity (T1D): 0.9722\n",
      "Mean Specificity (T1D): 0.9907\n",
      "Mean AUC (T1D): 0.9977\n",
      "Working on MS dataset: 508 samples\n"
     ]
    },
    {
     "name": "stderr",
     "output_type": "stream",
     "text": [
      "MS - Fold 0:  70%|▋| 2103/3000 [01:50<00:47, 19.02it/s, loss=0.184, test_loss=0.\n",
      "MS - Fold 1: 100%|█| 3000/3000 [02:37<00:00, 18.99it/s, loss=0.183, test_loss=0.\n",
      "MS - Fold 2:  82%|▊| 2448/3000 [02:05<00:28, 19.58it/s, loss=0.143, test_loss=0.\n",
      "MS - Fold 3: 100%|█| 3000/3000 [02:38<00:00, 18.96it/s, loss=0.156, test_loss=0.\n",
      "MS - Fold 4: 100%|█| 3000/3000 [02:37<00:00, 19.02it/s, loss=0.179, test_loss=0.\n"
     ]
    },
    {
     "name": "stdout",
     "output_type": "stream",
     "text": [
      "Mean Accuracy (MS): 0.9783\n",
      "Mean Sensitivity (MS): 0.9864\n",
      "Mean Specificity (MS): 0.9673\n",
      "Mean AUC (MS): 0.9988\n",
      "Working on IAA dataset: 279 samples\n"
     ]
    },
    {
     "name": "stderr",
     "output_type": "stream",
     "text": [
      "IAA - Fold 0:  48%|▍| 1452/3000 [00:43<00:46, 33.36it/s, loss=0.154, test_loss=0\n",
      "IAA - Fold 1:  75%|▋| 2239/3000 [01:05<00:22, 33.99it/s, loss=0.202, test_loss=0\n",
      "IAA - Fold 2:  38%|▍| 1138/3000 [00:34<00:55, 33.45it/s, loss=0.194, test_loss=0\n",
      "IAA - Fold 3:  70%|▋| 2111/3000 [01:01<00:25, 34.27it/s, loss=0.2, test_loss=0.1\n",
      "IAA - Fold 4:  60%|▌| 1785/3000 [00:52<00:35, 33.92it/s, loss=0.159, test_loss=0\n"
     ]
    },
    {
     "name": "stdout",
     "output_type": "stream",
     "text": [
      "Mean Accuracy (IAA): 0.9391\n",
      "Mean Sensitivity (IAA): 0.7692\n",
      "Mean Specificity (IAA): 0.9907\n",
      "Mean AUC (IAA): 0.9768\n",
      "Working on RA dataset: 320 samples\n"
     ]
    },
    {
     "name": "stderr",
     "output_type": "stream",
     "text": [
      "RA - Fold 0:  46%|▍| 1374/3000 [00:46<00:55, 29.49it/s, loss=0.176, test_loss=0.\n",
      "RA - Fold 1:  36%|▎| 1067/3000 [00:35<01:04, 29.76it/s, loss=0.172, test_loss=0.\n",
      "RA - Fold 2:  49%|▍| 1474/3000 [00:49<00:50, 29.95it/s, loss=0.158, test_loss=0.\n",
      "RA - Fold 3:  42%|▍| 1275/3000 [00:41<00:56, 30.49it/s, loss=0.179, test_loss=0.\n",
      "RA - Fold 4:  56%|▌| 1687/3000 [00:56<00:44, 29.63it/s, loss=0.15, test_loss=0.3\n"
     ]
    },
    {
     "name": "stdout",
     "output_type": "stream",
     "text": [
      "Mean Accuracy (RA): 0.8719\n",
      "Mean Sensitivity (RA): 0.7453\n",
      "Mean Specificity (RA): 0.9346\n",
      "Mean AUC (RA): 0.9371\n",
      "Working on T1D dataset: 394 samples\n"
     ]
    },
    {
     "name": "stderr",
     "output_type": "stream",
     "text": [
      "T1D - Fold 0:  57%|▌| 1707/3000 [01:09<00:52, 24.65it/s, loss=0.139, test_loss=0\n",
      "T1D - Fold 1:  92%|▉| 2772/3000 [01:51<00:09, 24.93it/s, loss=0.169, test_loss=0\n",
      "T1D - Fold 2:  49%|▍| 1461/3000 [00:59<01:02, 24.54it/s, loss=0.173, test_loss=0\n",
      "T1D - Fold 3:  94%|▉| 2806/3000 [01:53<00:07, 24.80it/s, loss=0.178, test_loss=0\n",
      "T1D - Fold 4:  69%|▋| 2062/3000 [01:22<00:37, 25.05it/s, loss=0.215, test_loss=0\n"
     ]
    },
    {
     "name": "stdout",
     "output_type": "stream",
     "text": [
      "Mean Accuracy (T1D): 0.9721\n",
      "Mean Sensitivity (T1D): 0.9556\n",
      "Mean Specificity (T1D): 0.9860\n",
      "Mean AUC (T1D): 0.9972\n",
      "Working on MS dataset: 508 samples\n"
     ]
    },
    {
     "name": "stderr",
     "output_type": "stream",
     "text": [
      "MS - Fold 0:  76%|▊| 2283/3000 [02:02<00:38, 18.61it/s, loss=0.184, test_loss=0.\n",
      "MS - Fold 1:  89%|▉| 2673/3000 [02:25<00:17, 18.42it/s, loss=0.15, test_loss=0.0\n",
      "MS - Fold 2:  47%|▍| 1413/3000 [01:16<01:25, 18.53it/s, loss=0.183, test_loss=0.\n",
      "MS - Fold 3: 100%|█| 3000/3000 [02:44<00:00, 18.27it/s, loss=0.178, test_loss=0.\n",
      "MS - Fold 4:  82%|▊| 2450/3000 [02:13<00:30, 18.30it/s, loss=0.159, test_loss=0.\n"
     ]
    },
    {
     "name": "stdout",
     "output_type": "stream",
     "text": [
      "Mean Accuracy (MS): 0.9902\n",
      "Mean Sensitivity (MS): 0.9898\n",
      "Mean Specificity (MS): 0.9907\n",
      "Mean AUC (MS): 0.9998\n",
      "Working on IAA dataset: 279 samples\n"
     ]
    },
    {
     "name": "stderr",
     "output_type": "stream",
     "text": [
      "IAA - Fold 0:  20%|▏| 589/3000 [00:17<01:12, 33.11it/s, loss=0.214, test_loss=0.\n",
      "IAA - Fold 1:  96%|▉| 2865/3000 [01:24<00:03, 33.85it/s, loss=0.16, test_loss=0.\n",
      "IAA - Fold 2:  75%|▊| 2256/3000 [01:05<00:21, 34.53it/s, loss=0.18, test_loss=0.\n",
      "IAA - Fold 3:  74%|▋| 2215/3000 [01:04<00:22, 34.36it/s, loss=0.149, test_loss=0\n",
      "IAA - Fold 4:  50%|▌| 1510/3000 [00:43<00:42, 34.94it/s, loss=0.193, test_loss=0\n"
     ]
    },
    {
     "name": "stdout",
     "output_type": "stream",
     "text": [
      "Mean Accuracy (IAA): 0.9247\n",
      "Mean Sensitivity (IAA): 0.7231\n",
      "Mean Specificity (IAA): 0.9860\n",
      "Mean AUC (IAA): 0.9725\n",
      "Working on RA dataset: 320 samples\n"
     ]
    },
    {
     "name": "stderr",
     "output_type": "stream",
     "text": [
      "RA - Fold 0:  57%|▌| 1714/3000 [00:55<00:41, 30.91it/s, loss=0.188, test_loss=0.\n",
      "RA - Fold 1:  55%|▌| 1664/3000 [00:54<00:43, 30.41it/s, loss=0.18, test_loss=0.2\n",
      "RA - Fold 2:  45%|▍| 1347/3000 [00:44<00:54, 30.52it/s, loss=0.187, test_loss=0.\n",
      "RA - Fold 3:  49%|▍| 1470/3000 [00:47<00:48, 31.28it/s, loss=0.197, test_loss=0.\n",
      "RA - Fold 4:  39%|▍| 1180/3000 [00:38<00:59, 30.45it/s, loss=0.158, test_loss=0.\n"
     ]
    },
    {
     "name": "stdout",
     "output_type": "stream",
     "text": [
      "Mean Accuracy (RA): 0.9062\n",
      "Mean Sensitivity (RA): 0.8396\n",
      "Mean Specificity (RA): 0.9393\n",
      "Mean AUC (RA): 0.9546\n",
      "Working on T1D dataset: 394 samples\n"
     ]
    },
    {
     "name": "stderr",
     "output_type": "stream",
     "text": [
      "T1D - Fold 0:  91%|▉| 2727/3000 [01:48<00:10, 25.10it/s, loss=0.145, test_loss=0\n",
      "T1D - Fold 1:  79%|▊| 2381/3000 [01:34<00:24, 25.15it/s, loss=0.213, test_loss=0\n",
      "T1D - Fold 2:  73%|▋| 2178/3000 [01:31<00:34, 23.74it/s, loss=0.158, test_loss=0\n",
      "T1D - Fold 3:  94%|▉| 2823/3000 [01:55<00:07, 24.36it/s, loss=0.207, test_loss=0\n",
      "T1D - Fold 4:  50%|▍| 1495/3000 [01:00<01:01, 24.61it/s, loss=0.19, test_loss=0.\n"
     ]
    },
    {
     "name": "stdout",
     "output_type": "stream",
     "text": [
      "Mean Accuracy (T1D): 0.9848\n",
      "Mean Sensitivity (T1D): 0.9833\n",
      "Mean Specificity (T1D): 0.9860\n",
      "Mean AUC (T1D): 0.9984\n",
      "Working on MS dataset: 508 samples\n"
     ]
    },
    {
     "name": "stderr",
     "output_type": "stream",
     "text": [
      "MS - Fold 0:  66%|▋| 1993/3000 [01:47<00:54, 18.51it/s, loss=0.187, test_loss=0.\n",
      "MS - Fold 1:  93%|▉| 2787/3000 [02:28<00:11, 18.77it/s, loss=0.175, test_loss=0.\n",
      "MS - Fold 2:  73%|▋| 2179/3000 [01:54<00:43, 19.03it/s, loss=0.188, test_loss=0.\n",
      "MS - Fold 3:  99%|▉| 2956/3000 [02:36<00:02, 18.84it/s, loss=0.178, test_loss=0.\n",
      "MS - Fold 4:  67%|▋| 2010/3000 [01:45<00:52, 19.00it/s, loss=0.202, test_loss=0.\n"
     ]
    },
    {
     "name": "stdout",
     "output_type": "stream",
     "text": [
      "Mean Accuracy (MS): 0.9882\n",
      "Mean Sensitivity (MS): 0.9898\n",
      "Mean Specificity (MS): 0.9860\n",
      "Mean AUC (MS): 0.9994\n",
      "Working on IAA dataset: 279 samples\n"
     ]
    },
    {
     "name": "stderr",
     "output_type": "stream",
     "text": [
      "IAA - Fold 0:  40%|▍| 1204/3000 [00:35<00:52, 34.39it/s, loss=0.177, test_loss=0\n",
      "IAA - Fold 1:  52%|▌| 1545/3000 [00:44<00:41, 34.87it/s, loss=0.187, test_loss=0\n",
      "IAA - Fold 2:  52%|▌| 1560/3000 [00:45<00:41, 34.56it/s, loss=0.181, test_loss=0\n",
      "IAA - Fold 3:  66%|▋| 1989/3000 [00:57<00:29, 34.59it/s, loss=0.17, test_loss=0.\n",
      "IAA - Fold 4:  58%|▌| 1741/3000 [00:50<00:36, 34.75it/s, loss=0.179, test_loss=0\n"
     ]
    },
    {
     "name": "stdout",
     "output_type": "stream",
     "text": [
      "Mean Accuracy (IAA): 0.9247\n",
      "Mean Sensitivity (IAA): 0.7385\n",
      "Mean Specificity (IAA): 0.9813\n",
      "Mean AUC (IAA): 0.9698\n",
      "Working on RA dataset: 320 samples\n"
     ]
    },
    {
     "name": "stderr",
     "output_type": "stream",
     "text": [
      "RA - Fold 0:  60%|▌| 1806/3000 [00:58<00:38, 30.76it/s, loss=0.207, test_loss=0.\n",
      "RA - Fold 1:  55%|▌| 1660/3000 [00:55<00:45, 29.72it/s, loss=0.2, test_loss=1.01\n",
      "RA - Fold 2:  41%|▍| 1244/3000 [00:41<00:58, 30.09it/s, loss=0.2, test_loss=0.48\n",
      "RA - Fold 3:  38%|▍| 1133/3000 [00:38<01:02, 29.64it/s, loss=0.167, test_loss=0.\n",
      "RA - Fold 4:  12%| | 359/3000 [00:11<01:23, 31.46it/s, loss=0.311, test_loss=0.7\n"
     ]
    },
    {
     "name": "stdout",
     "output_type": "stream",
     "text": [
      "Mean Accuracy (RA): 0.8250\n",
      "Mean Sensitivity (RA): 0.6132\n",
      "Mean Specificity (RA): 0.9299\n",
      "Mean AUC (RA): 0.8856\n",
      "Working on T1D dataset: 394 samples\n"
     ]
    },
    {
     "name": "stderr",
     "output_type": "stream",
     "text": [
      "T1D - Fold 0:  54%|▌| 1613/3000 [01:07<00:57, 24.03it/s, loss=0.166, test_loss=0\n",
      "T1D - Fold 1:  81%|▊| 2439/3000 [01:40<00:23, 24.34it/s, loss=0.155, test_loss=0\n",
      "T1D - Fold 2:  31%|▎| 944/3000 [00:39<01:26, 23.86it/s, loss=0.182, test_loss=0.\n",
      "T1D - Fold 3: 100%|▉| 2988/3000 [02:03<00:00, 24.25it/s, loss=0.164, test_loss=0\n",
      "T1D - Fold 4:  93%|▉| 2779/3000 [01:54<00:09, 24.26it/s, loss=0.166, test_loss=0\n"
     ]
    },
    {
     "name": "stdout",
     "output_type": "stream",
     "text": [
      "Mean Accuracy (T1D): 0.9848\n",
      "Mean Sensitivity (T1D): 0.9778\n",
      "Mean Specificity (T1D): 0.9907\n",
      "Mean AUC (T1D): 0.9978\n",
      "Working on MS dataset: 508 samples\n"
     ]
    },
    {
     "name": "stderr",
     "output_type": "stream",
     "text": [
      "MS - Fold 0:  69%|▋| 2074/3000 [01:51<00:49, 18.53it/s, loss=0.15, test_loss=0.3\n",
      "MS - Fold 1:  80%|▊| 2387/3000 [02:07<00:32, 18.66it/s, loss=0.17, test_loss=0.0\n",
      "MS - Fold 2:  89%|▉| 2664/3000 [02:16<00:17, 19.54it/s, loss=0.168, test_loss=0.\n",
      "MS - Fold 3: 100%|█| 3000/3000 [02:37<00:00, 19.09it/s, loss=0.175, test_loss=0.\n",
      "MS - Fold 4:  69%|▋| 2084/3000 [01:50<00:48, 18.90it/s, loss=0.17, test_loss=0.0\n"
     ]
    },
    {
     "name": "stdout",
     "output_type": "stream",
     "text": [
      "Mean Accuracy (MS): 0.9803\n",
      "Mean Sensitivity (MS): 0.9932\n",
      "Mean Specificity (MS): 0.9626\n",
      "Mean AUC (MS): 0.9993\n",
      "Working on IAA dataset: 279 samples\n"
     ]
    },
    {
     "name": "stderr",
     "output_type": "stream",
     "text": [
      "IAA - Fold 0:  59%|▌| 1757/3000 [00:49<00:35, 35.14it/s, loss=0.184, test_loss=0\n",
      "IAA - Fold 1:  75%|▋| 2248/3000 [01:05<00:21, 34.51it/s, loss=0.146, test_loss=0\n",
      "IAA - Fold 2:  48%|▍| 1439/3000 [00:41<00:44, 34.74it/s, loss=0.138, test_loss=0\n",
      "IAA - Fold 3: 100%|█| 3000/3000 [01:26<00:00, 34.88it/s, loss=0.211, test_loss=0\n",
      "IAA - Fold 4:  64%|▋| 1928/3000 [00:56<00:31, 34.18it/s, loss=0.171, test_loss=0\n"
     ]
    },
    {
     "name": "stdout",
     "output_type": "stream",
     "text": [
      "Mean Accuracy (IAA): 0.9355\n",
      "Mean Sensitivity (IAA): 0.8154\n",
      "Mean Specificity (IAA): 0.9720\n",
      "Mean AUC (IAA): 0.9799\n",
      "Working on RA dataset: 320 samples\n"
     ]
    },
    {
     "name": "stderr",
     "output_type": "stream",
     "text": [
      "RA - Fold 0:  49%|▍| 1483/3000 [00:48<00:49, 30.85it/s, loss=0.18, test_loss=0.1\n",
      "RA - Fold 1:  64%|▋| 1935/3000 [01:04<00:35, 29.78it/s, loss=0.179, test_loss=0.\n",
      "RA - Fold 2:  46%|▍| 1395/3000 [00:45<00:52, 30.33it/s, loss=0.192, test_loss=0.\n",
      "RA - Fold 3:  30%|▎| 889/3000 [00:29<01:09, 30.31it/s, loss=0.204, test_loss=0.4\n",
      "RA - Fold 4:  53%|▌| 1595/3000 [00:54<00:47, 29.53it/s, loss=0.17, test_loss=0.3\n"
     ]
    },
    {
     "name": "stdout",
     "output_type": "stream",
     "text": [
      "Mean Accuracy (RA): 0.8688\n",
      "Mean Sensitivity (RA): 0.7736\n",
      "Mean Specificity (RA): 0.9159\n",
      "Mean AUC (RA): 0.9308\n",
      "Working on T1D dataset: 394 samples\n"
     ]
    },
    {
     "name": "stderr",
     "output_type": "stream",
     "text": [
      "T1D - Fold 0:  63%|▋| 1899/3000 [01:17<00:44, 24.55it/s, loss=0.15, test_loss=0.\n",
      "T1D - Fold 1:  42%|▍| 1263/3000 [00:50<01:09, 25.06it/s, loss=0.166, test_loss=0\n",
      "T1D - Fold 2:  67%|▋| 2020/3000 [01:21<00:39, 24.82it/s, loss=0.201, test_loss=0\n",
      "T1D - Fold 3: 100%|█| 3000/3000 [02:02<00:00, 24.45it/s, loss=0.163, test_loss=0\n",
      "T1D - Fold 4:  68%|▋| 2033/3000 [01:23<00:39, 24.33it/s, loss=0.197, test_loss=0\n"
     ]
    },
    {
     "name": "stdout",
     "output_type": "stream",
     "text": [
      "Mean Accuracy (T1D): 0.9721\n",
      "Mean Sensitivity (T1D): 0.9556\n",
      "Mean Specificity (T1D): 0.9860\n",
      "Mean AUC (T1D): 0.9967\n",
      "Working on MS dataset: 508 samples\n"
     ]
    },
    {
     "name": "stderr",
     "output_type": "stream",
     "text": [
      "MS - Fold 0:  77%|▊| 2299/3000 [01:59<00:36, 19.19it/s, loss=0.176, test_loss=0.\n",
      "MS - Fold 1: 100%|█| 3000/3000 [02:37<00:00, 19.06it/s, loss=0.142, test_loss=0.\n",
      "MS - Fold 2:  83%|▊| 2489/3000 [02:11<00:27, 18.91it/s, loss=0.177, test_loss=0.\n",
      "MS - Fold 3:  74%|▋| 2219/3000 [02:00<00:42, 18.44it/s, loss=0.166, test_loss=0.\n",
      "MS - Fold 4:  50%|▍| 1496/3000 [01:20<01:20, 18.62it/s, loss=0.174, test_loss=0.\n"
     ]
    },
    {
     "name": "stdout",
     "output_type": "stream",
     "text": [
      "Mean Accuracy (MS): 0.9902\n",
      "Mean Sensitivity (MS): 0.9966\n",
      "Mean Specificity (MS): 0.9813\n",
      "Mean AUC (MS): 0.9996\n",
      "Working on IAA dataset: 279 samples\n"
     ]
    },
    {
     "name": "stderr",
     "output_type": "stream",
     "text": [
      "IAA - Fold 0:  51%|▌| 1527/3000 [00:45<00:44, 33.28it/s, loss=0.176, test_loss=0\n",
      "IAA - Fold 1:  80%|▊| 2397/3000 [01:10<00:17, 34.06it/s, loss=0.179, test_loss=0\n",
      "IAA - Fold 2:  78%|▊| 2343/3000 [01:09<00:19, 33.55it/s, loss=0.209, test_loss=0\n",
      "IAA - Fold 3:  89%|▉| 2677/3000 [01:19<00:09, 33.50it/s, loss=0.168, test_loss=0\n",
      "IAA - Fold 4:  52%|▌| 1555/3000 [00:46<00:42, 33.62it/s, loss=0.176, test_loss=0\n"
     ]
    },
    {
     "name": "stdout",
     "output_type": "stream",
     "text": [
      "Mean Accuracy (IAA): 0.9677\n",
      "Mean Sensitivity (IAA): 0.8769\n",
      "Mean Specificity (IAA): 0.9953\n",
      "Mean AUC (IAA): 0.9887\n",
      "Working on RA dataset: 320 samples\n"
     ]
    },
    {
     "name": "stderr",
     "output_type": "stream",
     "text": [
      "RA - Fold 0:  61%|▌| 1826/3000 [01:01<00:39, 29.84it/s, loss=0.176, test_loss=0.\n",
      "RA - Fold 1:  39%|▍| 1158/3000 [00:38<01:01, 29.92it/s, loss=0.201, test_loss=0.\n",
      "RA - Fold 2:  41%|▍| 1228/3000 [00:40<00:58, 30.11it/s, loss=0.142, test_loss=0.\n",
      "RA - Fold 3:  47%|▍| 1397/3000 [00:45<00:52, 30.55it/s, loss=0.165, test_loss=0.\n",
      "RA - Fold 4:  68%|▋| 2045/3000 [01:07<00:31, 30.39it/s, loss=0.199, test_loss=0.\n"
     ]
    },
    {
     "name": "stdout",
     "output_type": "stream",
     "text": [
      "Mean Accuracy (RA): 0.8938\n",
      "Mean Sensitivity (RA): 0.8019\n",
      "Mean Specificity (RA): 0.9393\n",
      "Mean AUC (RA): 0.9494\n",
      "Working on T1D dataset: 394 samples\n"
     ]
    },
    {
     "name": "stderr",
     "output_type": "stream",
     "text": [
      "T1D - Fold 0:  69%|▋| 2078/3000 [01:22<00:36, 25.17it/s, loss=0.16, test_loss=0.\n",
      "T1D - Fold 1:  92%|▉| 2750/3000 [01:49<00:09, 25.13it/s, loss=0.168, test_loss=0\n",
      "T1D - Fold 2:  29%|▎| 875/3000 [00:34<01:23, 25.41it/s, loss=0.221, test_loss=0.\n",
      "T1D - Fold 3:  65%|▋| 1962/3000 [01:18<00:41, 24.95it/s, loss=0.161, test_loss=0\n",
      "T1D - Fold 4:  87%|▊| 2605/3000 [01:43<00:15, 25.19it/s, loss=0.175, test_loss=0\n"
     ]
    },
    {
     "name": "stdout",
     "output_type": "stream",
     "text": [
      "Mean Accuracy (T1D): 0.9797\n",
      "Mean Sensitivity (T1D): 0.9722\n",
      "Mean Specificity (T1D): 0.9860\n",
      "Mean AUC (T1D): 0.9979\n",
      "Working on MS dataset: 508 samples\n"
     ]
    },
    {
     "name": "stderr",
     "output_type": "stream",
     "text": [
      "MS - Fold 0:  54%|▌| 1624/3000 [01:27<01:13, 18.60it/s, loss=0.18, test_loss=0.0\n",
      "MS - Fold 1:  99%|▉| 2970/3000 [02:36<00:01, 19.01it/s, loss=0.187, test_loss=0.\n",
      "MS - Fold 2:  91%|▉| 2731/3000 [02:25<00:14, 18.81it/s, loss=0.179, test_loss=0.\n",
      "MS - Fold 3:  99%|▉| 2960/3000 [02:37<00:02, 18.79it/s, loss=0.191, test_loss=0.\n",
      "MS - Fold 4:  74%|▋| 2220/3000 [01:59<00:41, 18.64it/s, loss=0.176, test_loss=0.\n"
     ]
    },
    {
     "name": "stdout",
     "output_type": "stream",
     "text": [
      "Mean Accuracy (MS): 0.9862\n",
      "Mean Sensitivity (MS): 0.9898\n",
      "Mean Specificity (MS): 0.9813\n",
      "Mean AUC (MS): 0.9995\n",
      "Working on IAA dataset: 279 samples\n"
     ]
    },
    {
     "name": "stderr",
     "output_type": "stream",
     "text": [
      "IAA - Fold 0:  56%|▌| 1690/3000 [00:49<00:38, 34.00it/s, loss=0.134, test_loss=0\n",
      "IAA - Fold 1:  85%|▊| 2544/3000 [01:14<00:13, 34.06it/s, loss=0.18, test_loss=0.\n",
      "IAA - Fold 2: 100%|█| 3000/3000 [01:27<00:00, 34.26it/s, loss=0.152, test_loss=0\n",
      "IAA - Fold 3:  69%|▋| 2079/3000 [01:00<00:26, 34.22it/s, loss=0.175, test_loss=0\n",
      "IAA - Fold 4:  45%|▍| 1342/3000 [00:38<00:47, 34.78it/s, loss=0.184, test_loss=0\n"
     ]
    },
    {
     "name": "stdout",
     "output_type": "stream",
     "text": [
      "Mean Accuracy (IAA): 0.9391\n",
      "Mean Sensitivity (IAA): 0.7692\n",
      "Mean Specificity (IAA): 0.9907\n",
      "Mean AUC (IAA): 0.9809\n",
      "Working on RA dataset: 320 samples\n"
     ]
    },
    {
     "name": "stderr",
     "output_type": "stream",
     "text": [
      "RA - Fold 0:  59%|▌| 1774/3000 [00:57<00:39, 30.90it/s, loss=0.193, test_loss=0.\n",
      "RA - Fold 1:  45%|▍| 1359/3000 [00:44<00:53, 30.85it/s, loss=0.163, test_loss=0.\n",
      "RA - Fold 2:  43%|▍| 1284/3000 [00:41<00:55, 30.88it/s, loss=0.18, test_loss=0.5\n",
      "RA - Fold 3:  49%|▍| 1458/3000 [00:47<00:50, 30.61it/s, loss=0.162, test_loss=0.\n",
      "RA - Fold 4:  54%|▌| 1606/3000 [00:51<00:44, 31.00it/s, loss=0.192, test_loss=0.\n"
     ]
    },
    {
     "name": "stdout",
     "output_type": "stream",
     "text": [
      "Mean Accuracy (RA): 0.8875\n",
      "Mean Sensitivity (RA): 0.8019\n",
      "Mean Specificity (RA): 0.9299\n",
      "Mean AUC (RA): 0.9351\n",
      "Working on T1D dataset: 394 samples\n"
     ]
    },
    {
     "name": "stderr",
     "output_type": "stream",
     "text": [
      "T1D - Fold 0:  59%|▌| 1761/3000 [01:09<00:49, 25.26it/s, loss=0.202, test_loss=0\n",
      "T1D - Fold 1:  89%|▉| 2666/3000 [01:48<00:13, 24.50it/s, loss=0.18, test_loss=0.\n",
      "T1D - Fold 2:  58%|▌| 1738/3000 [01:11<00:51, 24.35it/s, loss=0.185, test_loss=0\n",
      "T1D - Fold 3:  57%|▌| 1718/3000 [01:10<00:52, 24.36it/s, loss=0.185, test_loss=0\n",
      "T1D - Fold 4:  62%|▌| 1856/3000 [01:15<00:46, 24.54it/s, loss=0.169, test_loss=0\n"
     ]
    },
    {
     "name": "stdout",
     "output_type": "stream",
     "text": [
      "Mean Accuracy (T1D): 0.9772\n",
      "Mean Sensitivity (T1D): 0.9611\n",
      "Mean Specificity (T1D): 0.9907\n",
      "Mean AUC (T1D): 0.9989\n",
      "Working on MS dataset: 508 samples\n"
     ]
    },
    {
     "name": "stderr",
     "output_type": "stream",
     "text": [
      "MS - Fold 0:  62%|▌| 1855/3000 [01:38<01:01, 18.76it/s, loss=0.213, test_loss=0.\n",
      "MS - Fold 1: 100%|█| 3000/3000 [02:41<00:00, 18.57it/s, loss=0.193, test_loss=0.\n",
      "MS - Fold 2:  75%|▊| 2259/3000 [01:56<00:38, 19.39it/s, loss=0.186, test_loss=0.\n",
      "MS - Fold 3:  89%|▉| 2672/3000 [02:18<00:16, 19.35it/s, loss=0.186, test_loss=0.\n",
      "MS - Fold 4:  90%|▉| 2711/3000 [02:21<00:15, 19.13it/s, loss=0.183, test_loss=0.\n"
     ]
    },
    {
     "name": "stdout",
     "output_type": "stream",
     "text": [
      "Mean Accuracy (MS): 0.9902\n",
      "Mean Sensitivity (MS): 0.9932\n",
      "Mean Specificity (MS): 0.9860\n",
      "Mean AUC (MS): 0.9997\n",
      "Working on IAA dataset: 279 samples\n"
     ]
    },
    {
     "name": "stderr",
     "output_type": "stream",
     "text": [
      "IAA - Fold 0:  31%|▎| 917/3000 [00:26<01:00, 34.34it/s, loss=0.148, test_loss=0.\n",
      "IAA - Fold 1:  72%|▋| 2147/3000 [01:02<00:24, 34.28it/s, loss=0.165, test_loss=0\n",
      "IAA - Fold 2:  78%|▊| 2329/3000 [01:06<00:19, 34.84it/s, loss=0.173, test_loss=0\n",
      "IAA - Fold 3:  56%|▌| 1680/3000 [00:48<00:38, 34.36it/s, loss=0.2, test_loss=0.2\n",
      "IAA - Fold 4:  36%|▎| 1086/3000 [00:32<00:56, 33.71it/s, loss=0.201, test_loss=0\n"
     ]
    },
    {
     "name": "stdout",
     "output_type": "stream",
     "text": [
      "Mean Accuracy (IAA): 0.9391\n",
      "Mean Sensitivity (IAA): 0.7846\n",
      "Mean Specificity (IAA): 0.9860\n",
      "Mean AUC (IAA): 0.9822\n",
      "Working on RA dataset: 320 samples\n"
     ]
    },
    {
     "name": "stderr",
     "output_type": "stream",
     "text": [
      "RA - Fold 0:  81%|▊| 2420/3000 [01:18<00:18, 30.72it/s, loss=0.194, test_loss=0.\n",
      "RA - Fold 1:  53%|▌| 1592/3000 [00:52<00:46, 30.55it/s, loss=0.161, test_loss=0.\n",
      "RA - Fold 2:  62%|▋| 1875/3000 [01:01<00:37, 30.26it/s, loss=0.179, test_loss=0.\n",
      "RA - Fold 3:  30%|▎| 913/3000 [00:29<01:08, 30.68it/s, loss=0.186, test_loss=0.3\n",
      "RA - Fold 4:  61%|▌| 1826/3000 [01:00<00:38, 30.28it/s, loss=0.137, test_loss=0.\n"
     ]
    },
    {
     "name": "stdout",
     "output_type": "stream",
     "text": [
      "Mean Accuracy (RA): 0.8844\n",
      "Mean Sensitivity (RA): 0.7925\n",
      "Mean Specificity (RA): 0.9299\n",
      "Mean AUC (RA): 0.9441\n",
      "Working on T1D dataset: 394 samples\n"
     ]
    },
    {
     "name": "stderr",
     "output_type": "stream",
     "text": [
      "T1D - Fold 0:  68%|▋| 2047/3000 [01:23<00:38, 24.61it/s, loss=0.19, test_loss=0.\n",
      "T1D - Fold 1:  63%|▋| 1901/3000 [01:16<00:44, 24.82it/s, loss=0.187, test_loss=0\n",
      "T1D - Fold 2:  58%|▌| 1750/3000 [01:11<00:51, 24.36it/s, loss=0.189, test_loss=0\n",
      "T1D - Fold 3: 100%|█| 3000/3000 [02:00<00:00, 24.84it/s, loss=0.208, test_loss=0\n",
      "T1D - Fold 4:  48%|▍| 1451/3000 [00:58<01:02, 24.85it/s, loss=0.196, test_loss=0\n"
     ]
    },
    {
     "name": "stdout",
     "output_type": "stream",
     "text": [
      "Mean Accuracy (T1D): 0.9772\n",
      "Mean Sensitivity (T1D): 0.9611\n",
      "Mean Specificity (T1D): 0.9907\n",
      "Mean AUC (T1D): 0.9973\n",
      "Working on MS dataset: 508 samples\n"
     ]
    },
    {
     "name": "stderr",
     "output_type": "stream",
     "text": [
      "MS - Fold 0:  66%|▋| 1969/3000 [01:43<00:54, 19.03it/s, loss=0.207, test_loss=0.\n",
      "MS - Fold 1:  94%|▉| 2812/3000 [02:28<00:09, 18.88it/s, loss=0.164, test_loss=0.\n",
      "MS - Fold 2: 100%|█| 3000/3000 [02:35<00:00, 19.32it/s, loss=0.201, test_loss=0.\n",
      "MS - Fold 3:  98%|▉| 2944/3000 [02:38<00:03, 18.61it/s, loss=0.159, test_loss=0.\n",
      "MS - Fold 4: 100%|█| 3000/3000 [02:43<00:00, 18.40it/s, loss=0.205, test_loss=0.\n"
     ]
    },
    {
     "name": "stdout",
     "output_type": "stream",
     "text": [
      "Mean Accuracy (MS): 0.9823\n",
      "Mean Sensitivity (MS): 0.9864\n",
      "Mean Specificity (MS): 0.9766\n",
      "Mean AUC (MS): 0.9993\n",
      "Working on IAA dataset: 279 samples\n"
     ]
    },
    {
     "name": "stderr",
     "output_type": "stream",
     "text": [
      "IAA - Fold 0:  38%|▍| 1138/3000 [00:34<00:56, 32.93it/s, loss=0.199, test_loss=0\n",
      "IAA - Fold 1:  92%|▉| 2760/3000 [01:22<00:07, 33.38it/s, loss=0.166, test_loss=0\n",
      "IAA - Fold 2:  69%|▋| 2084/3000 [01:02<00:27, 33.54it/s, loss=0.188, test_loss=0\n",
      "IAA - Fold 3:  84%|▊| 2511/3000 [01:14<00:14, 33.80it/s, loss=0.145, test_loss=0\n",
      "IAA - Fold 4:  46%|▍| 1379/3000 [00:41<00:49, 33.04it/s, loss=0.154, test_loss=0\n"
     ]
    },
    {
     "name": "stdout",
     "output_type": "stream",
     "text": [
      "Mean Accuracy (IAA): 0.9319\n",
      "Mean Sensitivity (IAA): 0.7846\n",
      "Mean Specificity (IAA): 0.9766\n",
      "Mean AUC (IAA): 0.9769\n",
      "Working on RA dataset: 320 samples\n"
     ]
    },
    {
     "name": "stderr",
     "output_type": "stream",
     "text": [
      "RA - Fold 0:  56%|▌| 1691/3000 [00:55<00:42, 30.65it/s, loss=0.197, test_loss=0.\n",
      "RA - Fold 1:  73%|▋| 2179/3000 [01:10<00:26, 30.70it/s, loss=0.177, test_loss=0.\n",
      "RA - Fold 2:  48%|▍| 1444/3000 [00:47<00:50, 30.60it/s, loss=0.184, test_loss=0.\n",
      "RA - Fold 3:  18%|▏| 536/3000 [00:17<01:20, 30.47it/s, loss=0.212, test_loss=0.8\n",
      "RA - Fold 4:  55%|▌| 1638/3000 [00:53<00:44, 30.43it/s, loss=0.21, test_loss=0.3\n"
     ]
    },
    {
     "name": "stdout",
     "output_type": "stream",
     "text": [
      "Mean Accuracy (RA): 0.8281\n",
      "Mean Sensitivity (RA): 0.6509\n",
      "Mean Specificity (RA): 0.9159\n",
      "Mean AUC (RA): 0.9016\n",
      "Working on T1D dataset: 394 samples\n"
     ]
    },
    {
     "name": "stderr",
     "output_type": "stream",
     "text": [
      "T1D - Fold 0:  60%|▌| 1785/3000 [01:10<00:48, 25.19it/s, loss=0.169, test_loss=0\n",
      "T1D - Fold 1:  59%|▌| 1767/3000 [01:11<00:49, 24.73it/s, loss=0.195, test_loss=0\n",
      "T1D - Fold 2:  71%|▋| 2142/3000 [01:28<00:35, 24.29it/s, loss=0.217, test_loss=0\n",
      "T1D - Fold 3: 100%|█| 3000/3000 [02:00<00:00, 24.97it/s, loss=0.174, test_loss=0\n",
      "T1D - Fold 4:  83%|▊| 2495/3000 [01:39<00:20, 25.03it/s, loss=0.164, test_loss=0\n"
     ]
    },
    {
     "name": "stdout",
     "output_type": "stream",
     "text": [
      "Mean Accuracy (T1D): 0.9569\n",
      "Mean Sensitivity (T1D): 0.9500\n",
      "Mean Specificity (T1D): 0.9626\n",
      "Mean AUC (T1D): 0.9932\n",
      "Working on MS dataset: 508 samples\n"
     ]
    },
    {
     "name": "stderr",
     "output_type": "stream",
     "text": [
      "MS - Fold 0: 100%|█| 3000/3000 [02:37<00:00, 19.03it/s, loss=0.17, test_loss=0.1\n",
      "MS - Fold 1: 100%|█| 3000/3000 [02:36<00:00, 19.12it/s, loss=0.156, test_loss=0.\n",
      "MS - Fold 2:  49%|▍| 1470/3000 [01:19<01:22, 18.60it/s, loss=0.168, test_loss=0.\n",
      "MS - Fold 3:  99%|▉| 2964/3000 [02:36<00:01, 18.92it/s, loss=0.156, test_loss=0.\n",
      "MS - Fold 4:  55%|▌| 1659/3000 [01:29<01:12, 18.59it/s, loss=0.196, test_loss=0.\n"
     ]
    },
    {
     "name": "stdout",
     "output_type": "stream",
     "text": [
      "Mean Accuracy (MS): 0.9705\n",
      "Mean Sensitivity (MS): 0.9966\n",
      "Mean Specificity (MS): 0.9346\n",
      "Mean AUC (MS): 0.9978\n",
      "Working on IAA dataset: 279 samples\n"
     ]
    },
    {
     "name": "stderr",
     "output_type": "stream",
     "text": [
      "IAA - Fold 0:  39%|▍| 1162/3000 [00:34<00:53, 34.18it/s, loss=0.216, test_loss=0\n",
      "IAA - Fold 1:  66%|▋| 1977/3000 [00:58<00:30, 33.91it/s, loss=0.194, test_loss=0\n",
      "IAA - Fold 2:  67%|▋| 2016/3000 [00:58<00:28, 34.28it/s, loss=0.168, test_loss=0\n",
      "IAA - Fold 3:  58%|▌| 1745/3000 [00:51<00:36, 33.99it/s, loss=0.184, test_loss=0\n",
      "IAA - Fold 4:  59%|▌| 1778/3000 [00:51<00:35, 34.37it/s, loss=0.153, test_loss=0\n"
     ]
    },
    {
     "name": "stdout",
     "output_type": "stream",
     "text": [
      "Mean Accuracy (IAA): 0.9211\n",
      "Mean Sensitivity (IAA): 0.7231\n",
      "Mean Specificity (IAA): 0.9813\n",
      "Mean AUC (IAA): 0.9743\n",
      "Working on RA dataset: 320 samples\n"
     ]
    },
    {
     "name": "stderr",
     "output_type": "stream",
     "text": [
      "RA - Fold 0:  66%|▋| 1967/3000 [01:04<00:33, 30.65it/s, loss=0.168, test_loss=0.\n",
      "RA - Fold 1:  38%|▍| 1139/3000 [00:37<01:00, 30.64it/s, loss=0.205, test_loss=0.\n",
      "RA - Fold 2:  67%|▋| 1999/3000 [01:05<00:32, 30.37it/s, loss=0.178, test_loss=0.\n",
      "RA - Fold 3:  75%|▋| 2245/3000 [01:12<00:24, 30.83it/s, loss=0.216, test_loss=0.\n",
      "RA - Fold 4:  29%|▎| 882/3000 [00:28<01:09, 30.63it/s, loss=0.159, test_loss=0.5\n"
     ]
    },
    {
     "name": "stdout",
     "output_type": "stream",
     "text": [
      "Mean Accuracy (RA): 0.8688\n",
      "Mean Sensitivity (RA): 0.7264\n",
      "Mean Specificity (RA): 0.9393\n",
      "Mean AUC (RA): 0.9385\n",
      "Working on T1D dataset: 394 samples\n"
     ]
    },
    {
     "name": "stderr",
     "output_type": "stream",
     "text": [
      "T1D - Fold 0:  69%|▋| 2072/3000 [01:22<00:36, 25.16it/s, loss=0.17, test_loss=0.\n",
      "T1D - Fold 1:  85%|▊| 2560/3000 [01:42<00:17, 24.91it/s, loss=0.174, test_loss=0\n",
      "T1D - Fold 2:  50%|▍| 1495/3000 [01:03<01:04, 23.50it/s, loss=0.205, test_loss=0\n",
      "T1D - Fold 3:  72%|▋| 2160/3000 [01:28<00:34, 24.31it/s, loss=0.196, test_loss=0\n",
      "T1D - Fold 4:  94%|▉| 2827/3000 [01:56<00:07, 24.22it/s, loss=0.199, test_loss=0\n"
     ]
    },
    {
     "name": "stdout",
     "output_type": "stream",
     "text": [
      "Mean Accuracy (T1D): 0.9543\n",
      "Mean Sensitivity (T1D): 0.9389\n",
      "Mean Specificity (T1D): 0.9673\n",
      "Mean AUC (T1D): 0.9933\n",
      "Working on MS dataset: 508 samples\n"
     ]
    },
    {
     "name": "stderr",
     "output_type": "stream",
     "text": [
      "MS - Fold 0:  79%|▊| 2373/3000 [02:06<00:33, 18.81it/s, loss=0.173, test_loss=0.\n",
      "MS - Fold 1: 100%|█| 3000/3000 [02:38<00:00, 18.89it/s, loss=0.163, test_loss=0.\n",
      "MS - Fold 2:  90%|▉| 2694/3000 [02:22<00:16, 18.86it/s, loss=0.181, test_loss=0.\n",
      "MS - Fold 3:  84%|▊| 2511/3000 [02:10<00:25, 19.30it/s, loss=0.172, test_loss=0.\n",
      "MS - Fold 4:  66%|▋| 1985/3000 [01:44<00:53, 19.02it/s, loss=0.137, test_loss=0.\n"
     ]
    },
    {
     "name": "stdout",
     "output_type": "stream",
     "text": [
      "Mean Accuracy (MS): 0.9902\n",
      "Mean Sensitivity (MS): 0.9898\n",
      "Mean Specificity (MS): 0.9907\n",
      "Mean AUC (MS): 0.9994\n",
      "Working on IAA dataset: 279 samples\n"
     ]
    },
    {
     "name": "stderr",
     "output_type": "stream",
     "text": [
      "IAA - Fold 0:  39%|▍| 1158/3000 [00:33<00:53, 34.59it/s, loss=0.186, test_loss=0\n",
      "IAA - Fold 1:  70%|▋| 2089/3000 [00:59<00:25, 35.13it/s, loss=0.176, test_loss=0\n",
      "IAA - Fold 2:  71%|▋| 2132/3000 [01:01<00:25, 34.60it/s, loss=0.213, test_loss=0\n",
      "IAA - Fold 3:  87%|▊| 2600/3000 [01:15<00:11, 34.31it/s, loss=0.176, test_loss=0\n",
      "IAA - Fold 4:  58%|▌| 1754/3000 [00:51<00:36, 34.33it/s, loss=0.262, test_loss=0\n"
     ]
    },
    {
     "name": "stdout",
     "output_type": "stream",
     "text": [
      "Mean Accuracy (IAA): 0.9498\n",
      "Mean Sensitivity (IAA): 0.8308\n",
      "Mean Specificity (IAA): 0.9860\n",
      "Mean AUC (IAA): 0.9888\n",
      "Working on RA dataset: 320 samples\n"
     ]
    },
    {
     "name": "stderr",
     "output_type": "stream",
     "text": [
      "RA - Fold 0:  44%|▍| 1315/3000 [00:42<00:54, 30.80it/s, loss=0.156, test_loss=0.\n",
      "RA - Fold 1:  45%|▍| 1360/3000 [00:45<00:54, 30.15it/s, loss=0.17, test_loss=0.3\n",
      "RA - Fold 2:  62%|▌| 1862/3000 [01:00<00:37, 30.57it/s, loss=0.172, test_loss=1.\n",
      "RA - Fold 3:  33%|▎| 984/3000 [00:31<01:04, 31.12it/s, loss=0.214, test_loss=0.3\n",
      "RA - Fold 4:  50%|▍| 1490/3000 [00:48<00:49, 30.65it/s, loss=0.179, test_loss=0.\n"
     ]
    },
    {
     "name": "stdout",
     "output_type": "stream",
     "text": [
      "Mean Accuracy (RA): 0.8375\n",
      "Mean Sensitivity (RA): 0.7170\n",
      "Mean Specificity (RA): 0.8972\n",
      "Mean AUC (RA): 0.9171\n",
      "Working on T1D dataset: 394 samples\n"
     ]
    },
    {
     "name": "stderr",
     "output_type": "stream",
     "text": [
      "T1D - Fold 0:  66%|▋| 1980/3000 [01:19<00:40, 24.97it/s, loss=0.19, test_loss=0.\n",
      "T1D - Fold 1:  83%|▊| 2488/3000 [01:38<00:20, 25.25it/s, loss=0.173, test_loss=0\n",
      "T1D - Fold 2:  43%|▍| 1295/3000 [00:52<01:09, 24.67it/s, loss=0.183, test_loss=0\n",
      "T1D - Fold 3:  75%|▋| 2247/3000 [01:30<00:30, 24.81it/s, loss=0.152, test_loss=0\n",
      "T1D - Fold 4:  57%|▌| 1718/3000 [01:09<00:51, 24.82it/s, loss=0.189, test_loss=0\n"
     ]
    },
    {
     "name": "stdout",
     "output_type": "stream",
     "text": [
      "Mean Accuracy (T1D): 0.9848\n",
      "Mean Sensitivity (T1D): 0.9722\n",
      "Mean Specificity (T1D): 0.9953\n",
      "Mean AUC (T1D): 0.9979\n",
      "Working on MS dataset: 508 samples\n"
     ]
    },
    {
     "name": "stderr",
     "output_type": "stream",
     "text": [
      "MS - Fold 0:  79%|▊| 2373/3000 [02:07<00:33, 18.66it/s, loss=0.211, test_loss=0.\n",
      "MS - Fold 1:  67%|▋| 1997/3000 [01:45<00:53, 18.87it/s, loss=0.174, test_loss=0.\n",
      "MS - Fold 2:  86%|▊| 2568/3000 [02:14<00:22, 19.16it/s, loss=0.237, test_loss=0.\n",
      "MS - Fold 3: 100%|█| 3000/3000 [02:36<00:00, 19.21it/s, loss=0.172, test_loss=0.\n",
      "MS - Fold 4:  73%|▋| 2202/3000 [01:56<00:42, 18.96it/s, loss=0.187, test_loss=0.\n"
     ]
    },
    {
     "name": "stdout",
     "output_type": "stream",
     "text": [
      "Mean Accuracy (MS): 0.9843\n",
      "Mean Sensitivity (MS): 0.9932\n",
      "Mean Specificity (MS): 0.9720\n",
      "Mean AUC (MS): 0.9992\n",
      "Working on IAA dataset: 279 samples\n"
     ]
    },
    {
     "name": "stderr",
     "output_type": "stream",
     "text": [
      "IAA - Fold 0:  33%|▎| 976/3000 [00:28<00:58, 34.35it/s, loss=0.182, test_loss=0.\n",
      "IAA - Fold 1:  73%|▋| 2195/3000 [01:04<00:23, 34.28it/s, loss=0.2, test_loss=0.0\n",
      "IAA - Fold 2:  60%|▌| 1812/3000 [00:53<00:35, 33.83it/s, loss=0.189, test_loss=0\n",
      "IAA - Fold 3:  62%|▌| 1852/3000 [00:55<00:34, 33.47it/s, loss=0.173, test_loss=0\n",
      "IAA - Fold 4:  51%|▌| 1539/3000 [00:45<00:43, 33.46it/s, loss=0.216, test_loss=0\n"
     ]
    },
    {
     "name": "stdout",
     "output_type": "stream",
     "text": [
      "Mean Accuracy (IAA): 0.9104\n",
      "Mean Sensitivity (IAA): 0.6769\n",
      "Mean Specificity (IAA): 0.9813\n",
      "Mean AUC (IAA): 0.9663\n",
      "Working on RA dataset: 320 samples\n"
     ]
    },
    {
     "name": "stderr",
     "output_type": "stream",
     "text": [
      "RA - Fold 0:  49%|▍| 1478/3000 [00:49<00:50, 30.05it/s, loss=0.189, test_loss=0.\n",
      "RA - Fold 1:  66%|▋| 1987/3000 [01:07<00:34, 29.56it/s, loss=0.191, test_loss=0.\n",
      "RA - Fold 2:  59%|▌| 1762/3000 [00:58<00:41, 29.88it/s, loss=0.196, test_loss=0.\n",
      "RA - Fold 3:  61%|▌| 1823/3000 [01:00<00:39, 30.12it/s, loss=0.171, test_loss=0.\n",
      "RA - Fold 4:  57%|▌| 1724/3000 [00:58<00:43, 29.66it/s, loss=0.171, test_loss=0.\n"
     ]
    },
    {
     "name": "stdout",
     "output_type": "stream",
     "text": [
      "Mean Accuracy (RA): 0.8875\n",
      "Mean Sensitivity (RA): 0.8019\n",
      "Mean Specificity (RA): 0.9299\n",
      "Mean AUC (RA): 0.9565\n",
      "Working on T1D dataset: 394 samples\n"
     ]
    },
    {
     "name": "stderr",
     "output_type": "stream",
     "text": [
      "T1D - Fold 0:  61%|▌| 1836/3000 [01:16<00:48, 24.04it/s, loss=0.192, test_loss=0\n",
      "T1D - Fold 1:  53%|▌| 1576/3000 [01:04<00:58, 24.26it/s, loss=0.18, test_loss=0.\n",
      "T1D - Fold 2:  52%|▌| 1567/3000 [01:03<00:58, 24.68it/s, loss=0.175, test_loss=0\n",
      "T1D - Fold 3:  74%|▋| 2227/3000 [01:29<00:31, 24.78it/s, loss=0.147, test_loss=0\n",
      "T1D - Fold 4:  78%|▊| 2353/3000 [01:33<00:25, 25.28it/s, loss=0.166, test_loss=0\n"
     ]
    },
    {
     "name": "stdout",
     "output_type": "stream",
     "text": [
      "Mean Accuracy (T1D): 0.9645\n",
      "Mean Sensitivity (T1D): 0.9500\n",
      "Mean Specificity (T1D): 0.9766\n",
      "Mean AUC (T1D): 0.9959\n",
      "Working on MS dataset: 508 samples\n"
     ]
    },
    {
     "name": "stderr",
     "output_type": "stream",
     "text": [
      "MS - Fold 0:  76%|▊| 2289/3000 [01:59<00:37, 19.14it/s, loss=0.217, test_loss=0.\n",
      "MS - Fold 1: 100%|█| 3000/3000 [02:35<00:00, 19.32it/s, loss=0.178, test_loss=0.\n",
      "MS - Fold 2:  54%|▌| 1634/3000 [01:26<01:12, 18.84it/s, loss=0.17, test_loss=0.0\n",
      "MS - Fold 3:  95%|▉| 2842/3000 [02:29<00:08, 18.96it/s, loss=0.201, test_loss=0.\n",
      "MS - Fold 4: 100%|█| 3000/3000 [02:36<00:00, 19.21it/s, loss=0.203, test_loss=0.\n"
     ]
    },
    {
     "name": "stdout",
     "output_type": "stream",
     "text": [
      "Mean Accuracy (MS): 0.9882\n",
      "Mean Sensitivity (MS): 0.9830\n",
      "Mean Specificity (MS): 0.9953\n",
      "Mean AUC (MS): 0.9996\n",
      "Working on IAA dataset: 279 samples\n"
     ]
    },
    {
     "name": "stderr",
     "output_type": "stream",
     "text": [
      "IAA - Fold 0:  54%|▌| 1633/3000 [00:47<00:39, 34.35it/s, loss=0.185, test_loss=0\n",
      "IAA - Fold 1:  98%|▉| 2946/3000 [01:27<00:01, 33.82it/s, loss=0.178, test_loss=0\n",
      "IAA - Fold 2:  46%|▍| 1368/3000 [00:40<00:48, 33.77it/s, loss=0.217, test_loss=0\n",
      "IAA - Fold 3:  72%|▋| 2156/3000 [01:03<00:24, 34.06it/s, loss=0.156, test_loss=0\n",
      "IAA - Fold 4:  54%|▌| 1611/3000 [00:47<00:40, 34.13it/s, loss=0.196, test_loss=0\n"
     ]
    },
    {
     "name": "stdout",
     "output_type": "stream",
     "text": [
      "Mean Accuracy (IAA): 0.9176\n",
      "Mean Sensitivity (IAA): 0.7385\n",
      "Mean Specificity (IAA): 0.9720\n",
      "Mean AUC (IAA): 0.9595\n",
      "Working on RA dataset: 320 samples\n"
     ]
    },
    {
     "name": "stderr",
     "output_type": "stream",
     "text": [
      "RA - Fold 0:  37%|▎| 1105/3000 [00:37<01:03, 29.80it/s, loss=0.214, test_loss=0.\n",
      "RA - Fold 1:  46%|▍| 1383/3000 [00:46<00:53, 29.94it/s, loss=0.169, test_loss=0.\n",
      "RA - Fold 2:  34%|▎| 1024/3000 [00:34<01:06, 29.87it/s, loss=0.183, test_loss=0.\n",
      "RA - Fold 3:  75%|▊| 2259/3000 [01:15<00:24, 29.89it/s, loss=0.177, test_loss=0.\n",
      "RA - Fold 4:  31%|▎| 918/3000 [00:31<01:10, 29.58it/s, loss=0.176, test_loss=0.4\n"
     ]
    },
    {
     "name": "stdout",
     "output_type": "stream",
     "text": [
      "Mean Accuracy (RA): 0.8281\n",
      "Mean Sensitivity (RA): 0.6604\n",
      "Mean Specificity (RA): 0.9112\n",
      "Mean AUC (RA): 0.9108\n",
      "Working on T1D dataset: 394 samples\n"
     ]
    },
    {
     "name": "stderr",
     "output_type": "stream",
     "text": [
      "T1D - Fold 0:  82%|▊| 2456/3000 [01:39<00:21, 24.80it/s, loss=0.175, test_loss=0\n",
      "T1D - Fold 1:  80%|▊| 2405/3000 [01:36<00:23, 25.00it/s, loss=0.136, test_loss=0\n",
      "T1D - Fold 2:  52%|▌| 1547/3000 [01:01<00:57, 25.15it/s, loss=0.196, test_loss=0\n",
      "T1D - Fold 3:  54%|▌| 1633/3000 [01:05<00:54, 25.05it/s, loss=0.16, test_loss=0.\n",
      "T1D - Fold 4:  46%|▍| 1380/3000 [00:55<01:04, 25.04it/s, loss=0.159, test_loss=0\n"
     ]
    },
    {
     "name": "stdout",
     "output_type": "stream",
     "text": [
      "Mean Accuracy (T1D): 0.9645\n",
      "Mean Sensitivity (T1D): 0.9500\n",
      "Mean Specificity (T1D): 0.9766\n",
      "Mean AUC (T1D): 0.9969\n",
      "Working on MS dataset: 508 samples\n"
     ]
    },
    {
     "name": "stderr",
     "output_type": "stream",
     "text": [
      "MS - Fold 0: 100%|█| 3000/3000 [02:38<00:00, 18.89it/s, loss=0.184, test_loss=0.\n",
      "MS - Fold 1: 100%|█| 3000/3000 [02:42<00:00, 18.43it/s, loss=0.155, test_loss=0.\n",
      "MS - Fold 2:  58%|▌| 1752/3000 [01:34<01:07, 18.62it/s, loss=0.161, test_loss=0.\n",
      "MS - Fold 3:  76%|▊| 2290/3000 [02:01<00:37, 18.79it/s, loss=0.164, test_loss=0.\n",
      "MS - Fold 4:  53%|▌| 1599/3000 [01:25<01:15, 18.63it/s, loss=0.156, test_loss=0.\n"
     ]
    },
    {
     "name": "stdout",
     "output_type": "stream",
     "text": [
      "Mean Accuracy (MS): 0.9803\n",
      "Mean Sensitivity (MS): 0.9796\n",
      "Mean Specificity (MS): 0.9813\n",
      "Mean AUC (MS): 0.9993\n",
      "Working on IAA dataset: 279 samples\n"
     ]
    },
    {
     "name": "stderr",
     "output_type": "stream",
     "text": [
      "IAA - Fold 0:  41%|▍| 1243/3000 [00:36<00:52, 33.77it/s, loss=0.148, test_loss=0\n",
      "IAA - Fold 1:  77%|▊| 2301/3000 [01:06<00:20, 34.85it/s, loss=0.142, test_loss=0\n",
      "IAA - Fold 2: 100%|█| 3000/3000 [01:25<00:00, 35.22it/s, loss=0.195, test_loss=0\n",
      "IAA - Fold 3:  73%|▋| 2182/3000 [01:02<00:23, 34.98it/s, loss=0.176, test_loss=0\n",
      "IAA - Fold 4:  43%|▍| 1280/3000 [00:36<00:49, 34.90it/s, loss=0.184, test_loss=0\n"
     ]
    },
    {
     "name": "stdout",
     "output_type": "stream",
     "text": [
      "Mean Accuracy (IAA): 0.9391\n",
      "Mean Sensitivity (IAA): 0.7846\n",
      "Mean Specificity (IAA): 0.9860\n",
      "Mean AUC (IAA): 0.9764\n",
      "Working on RA dataset: 320 samples\n"
     ]
    },
    {
     "name": "stderr",
     "output_type": "stream",
     "text": [
      "RA - Fold 0:  44%|▍| 1335/3000 [00:42<00:53, 31.29it/s, loss=0.219, test_loss=0.\n",
      "RA - Fold 1:  43%|▍| 1284/3000 [00:41<00:55, 31.00it/s, loss=0.146, test_loss=0.\n",
      "RA - Fold 2:  46%|▍| 1386/3000 [00:45<00:52, 30.61it/s, loss=0.166, test_loss=0.\n",
      "RA - Fold 3:  61%|▌| 1824/3000 [00:58<00:37, 31.07it/s, loss=0.17, test_loss=0.2\n",
      "RA - Fold 4:  59%|▌| 1756/3000 [00:56<00:40, 30.84it/s, loss=0.165, test_loss=0.\n"
     ]
    },
    {
     "name": "stdout",
     "output_type": "stream",
     "text": [
      "Mean Accuracy (RA): 0.8750\n",
      "Mean Sensitivity (RA): 0.7642\n",
      "Mean Specificity (RA): 0.9299\n",
      "Mean AUC (RA): 0.9468\n",
      "Working on T1D dataset: 394 samples\n"
     ]
    },
    {
     "name": "stderr",
     "output_type": "stream",
     "text": [
      "T1D - Fold 0:  78%|▊| 2326/3000 [01:31<00:26, 25.32it/s, loss=0.185, test_loss=0\n",
      "T1D - Fold 1:  50%|▌| 1511/3000 [00:58<00:58, 25.64it/s, loss=0.166, test_loss=0\n",
      "T1D - Fold 2:  43%|▍| 1302/3000 [00:51<01:07, 25.08it/s, loss=0.187, test_loss=0\n",
      "T1D - Fold 3:  81%|▊| 2420/3000 [01:36<00:23, 25.14it/s, loss=0.177, test_loss=0\n",
      "T1D - Fold 4:  94%|▉| 2808/3000 [01:50<00:07, 25.37it/s, loss=0.149, test_loss=0\n"
     ]
    },
    {
     "name": "stdout",
     "output_type": "stream",
     "text": [
      "Mean Accuracy (T1D): 0.9822\n",
      "Mean Sensitivity (T1D): 0.9722\n",
      "Mean Specificity (T1D): 0.9907\n",
      "Mean AUC (T1D): 0.9978\n",
      "Working on MS dataset: 508 samples\n"
     ]
    },
    {
     "name": "stderr",
     "output_type": "stream",
     "text": [
      "MS - Fold 0:  82%|▊| 2456/3000 [02:09<00:28, 19.03it/s, loss=0.189, test_loss=0.\n",
      "MS - Fold 1: 100%|█| 3000/3000 [02:40<00:00, 18.64it/s, loss=0.172, test_loss=0.\n",
      "MS - Fold 2:  62%|▌| 1860/3000 [01:39<01:00, 18.77it/s, loss=0.205, test_loss=0.\n",
      "MS - Fold 3:  74%|▋| 2230/3000 [01:58<00:40, 18.88it/s, loss=0.199, test_loss=0.\n",
      "MS - Fold 4:  73%|▋| 2181/3000 [01:56<00:43, 18.65it/s, loss=0.19, test_loss=0.0\n"
     ]
    },
    {
     "name": "stdout",
     "output_type": "stream",
     "text": [
      "Mean Accuracy (MS): 0.9823\n",
      "Mean Sensitivity (MS): 0.9864\n",
      "Mean Specificity (MS): 0.9766\n",
      "Mean AUC (MS): 0.9988\n",
      "Working on IAA dataset: 279 samples\n"
     ]
    },
    {
     "name": "stderr",
     "output_type": "stream",
     "text": [
      "IAA - Fold 0:  50%|▌| 1507/3000 [00:43<00:42, 34.95it/s, loss=0.171, test_loss=0\n",
      "IAA - Fold 1:  69%|▋| 2077/3000 [00:59<00:26, 34.82it/s, loss=0.168, test_loss=0\n",
      "IAA - Fold 2:  50%|▍| 1497/3000 [00:42<00:42, 35.27it/s, loss=0.133, test_loss=0\n",
      "IAA - Fold 3:  97%|▉| 2911/3000 [01:22<00:02, 35.43it/s, loss=0.21, test_loss=0.\n",
      "IAA - Fold 4:  67%|▋| 2008/3000 [00:56<00:28, 35.24it/s, loss=0.171, test_loss=0\n"
     ]
    },
    {
     "name": "stdout",
     "output_type": "stream",
     "text": [
      "Mean Accuracy (IAA): 0.9283\n",
      "Mean Sensitivity (IAA): 0.7692\n",
      "Mean Specificity (IAA): 0.9766\n",
      "Mean AUC (IAA): 0.9719\n",
      "Working on RA dataset: 320 samples\n"
     ]
    },
    {
     "name": "stderr",
     "output_type": "stream",
     "text": [
      "RA - Fold 0:  24%|▏| 719/3000 [00:23<01:13, 31.04it/s, loss=0.207, test_loss=0.5\n",
      "RA - Fold 1:  30%|▎| 901/3000 [00:28<01:06, 31.36it/s, loss=0.18, test_loss=0.36\n",
      "RA - Fold 2:  61%|▌| 1836/3000 [00:58<00:37, 31.43it/s, loss=0.184, test_loss=0.\n",
      "RA - Fold 3:  52%|▌| 1565/3000 [00:50<00:46, 30.94it/s, loss=0.195, test_loss=0.\n",
      "RA - Fold 4:  34%|▎| 1007/3000 [00:32<01:05, 30.54it/s, loss=0.175, test_loss=0.\n"
     ]
    },
    {
     "name": "stdout",
     "output_type": "stream",
     "text": [
      "Mean Accuracy (RA): 0.8375\n",
      "Mean Sensitivity (RA): 0.6698\n",
      "Mean Specificity (RA): 0.9206\n",
      "Mean AUC (RA): 0.8983\n",
      "Working on T1D dataset: 394 samples\n"
     ]
    },
    {
     "name": "stderr",
     "output_type": "stream",
     "text": [
      "T1D - Fold 0:  53%|▌| 1601/3000 [01:05<00:57, 24.47it/s, loss=0.173, test_loss=0\n",
      "T1D - Fold 1:  78%|▊| 2339/3000 [01:35<00:26, 24.54it/s, loss=0.169, test_loss=0\n",
      "T1D - Fold 2:  41%|▍| 1226/3000 [00:51<01:14, 23.92it/s, loss=0.201, test_loss=0\n",
      "T1D - Fold 3:  72%|▋| 2172/3000 [01:29<00:34, 24.32it/s, loss=0.141, test_loss=0\n",
      "T1D - Fold 4:  72%|▋| 2153/3000 [01:28<00:34, 24.44it/s, loss=0.155, test_loss=0\n"
     ]
    },
    {
     "name": "stdout",
     "output_type": "stream",
     "text": [
      "Mean Accuracy (T1D): 0.9695\n",
      "Mean Sensitivity (T1D): 0.9667\n",
      "Mean Specificity (T1D): 0.9720\n",
      "Mean AUC (T1D): 0.9960\n",
      "Working on MS dataset: 508 samples\n"
     ]
    },
    {
     "name": "stderr",
     "output_type": "stream",
     "text": [
      "MS - Fold 0: 100%|█| 3000/3000 [02:42<00:00, 18.42it/s, loss=0.168, test_loss=0.\n",
      "MS - Fold 1: 100%|█| 3000/3000 [02:37<00:00, 19.09it/s, loss=0.175, test_loss=0.\n",
      "MS - Fold 2:  86%|▊| 2579/3000 [02:13<00:21, 19.25it/s, loss=0.226, test_loss=0.\n",
      "MS - Fold 3:  93%|▉| 2794/3000 [02:25<00:10, 19.14it/s, loss=0.161, test_loss=0.\n",
      "MS - Fold 4: 100%|█| 3000/3000 [02:36<00:00, 19.23it/s, loss=0.16, test_loss=0.0\n"
     ]
    },
    {
     "name": "stdout",
     "output_type": "stream",
     "text": [
      "Mean Accuracy (MS): 0.9902\n",
      "Mean Sensitivity (MS): 1.0000\n",
      "Mean Specificity (MS): 0.9766\n",
      "Mean AUC (MS): 0.9997\n",
      "Working on IAA dataset: 279 samples\n"
     ]
    },
    {
     "name": "stderr",
     "output_type": "stream",
     "text": [
      "IAA - Fold 0:  32%|▎| 945/3000 [00:27<00:59, 34.80it/s, loss=0.166, test_loss=0.\n",
      "IAA - Fold 1:  81%|▊| 2420/3000 [01:09<00:16, 34.88it/s, loss=0.168, test_loss=0\n",
      "IAA - Fold 2:  68%|▋| 2035/3000 [00:57<00:27, 35.35it/s, loss=0.184, test_loss=0\n",
      "IAA - Fold 3:  74%|▋| 2214/3000 [01:03<00:22, 35.09it/s, loss=0.153, test_loss=0\n",
      "IAA - Fold 4:  88%|▉| 2627/3000 [01:15<00:10, 34.66it/s, loss=0.14, test_loss=0.\n"
     ]
    },
    {
     "name": "stdout",
     "output_type": "stream",
     "text": [
      "Mean Accuracy (IAA): 0.9391\n",
      "Mean Sensitivity (IAA): 0.8308\n",
      "Mean Specificity (IAA): 0.9720\n",
      "Mean AUC (IAA): 0.9846\n",
      "Working on RA dataset: 320 samples\n"
     ]
    },
    {
     "name": "stderr",
     "output_type": "stream",
     "text": [
      "RA - Fold 0:  39%|▍| 1161/3000 [00:38<01:00, 30.52it/s, loss=0.218, test_loss=0.\n",
      "RA - Fold 1:  48%|▍| 1439/3000 [00:47<00:51, 30.12it/s, loss=0.173, test_loss=0.\n",
      "RA - Fold 2:  54%|▌| 1623/3000 [00:53<00:44, 30.60it/s, loss=0.175, test_loss=0.\n",
      "RA - Fold 3:  39%|▍| 1161/3000 [00:38<01:00, 30.41it/s, loss=0.178, test_loss=0.\n",
      "RA - Fold 4:  51%|▌| 1527/3000 [00:50<00:48, 30.48it/s, loss=0.164, test_loss=0.\n"
     ]
    },
    {
     "name": "stdout",
     "output_type": "stream",
     "text": [
      "Mean Accuracy (RA): 0.8531\n",
      "Mean Sensitivity (RA): 0.7358\n",
      "Mean Specificity (RA): 0.9112\n",
      "Mean AUC (RA): 0.9285\n",
      "Working on T1D dataset: 394 samples\n"
     ]
    },
    {
     "name": "stderr",
     "output_type": "stream",
     "text": [
      "T1D - Fold 0:  62%|▌| 1858/3000 [01:16<00:46, 24.44it/s, loss=0.192, test_loss=0\n",
      "T1D - Fold 1:  75%|▊| 2254/3000 [01:30<00:29, 24.98it/s, loss=0.227, test_loss=0\n",
      "T1D - Fold 2:  88%|▉| 2650/3000 [01:46<00:14, 24.88it/s, loss=0.157, test_loss=0\n",
      "T1D - Fold 3:  85%|▊| 2538/3000 [01:42<00:18, 24.77it/s, loss=0.152, test_loss=0\n",
      "T1D - Fold 4:  76%|▊| 2295/3000 [01:31<00:28, 25.02it/s, loss=0.172, test_loss=0\n"
     ]
    },
    {
     "name": "stdout",
     "output_type": "stream",
     "text": [
      "Mean Accuracy (T1D): 0.9822\n",
      "Mean Sensitivity (T1D): 0.9778\n",
      "Mean Specificity (T1D): 0.9860\n",
      "Mean AUC (T1D): 0.9976\n",
      "Working on MS dataset: 508 samples\n"
     ]
    },
    {
     "name": "stderr",
     "output_type": "stream",
     "text": [
      "MS - Fold 0:  55%|▌| 1657/3000 [01:28<01:11, 18.82it/s, loss=0.203, test_loss=0.\n",
      "MS - Fold 1: 100%|█| 3000/3000 [02:34<00:00, 19.39it/s, loss=0.193, test_loss=0.\n",
      "MS - Fold 2:  59%|▌| 1780/3000 [01:34<01:04, 18.87it/s, loss=0.168, test_loss=0.\n",
      "MS - Fold 3: 100%|█| 3000/3000 [02:38<00:00, 18.87it/s, loss=0.156, test_loss=0.\n",
      "MS - Fold 4:  97%|▉| 2915/3000 [02:35<00:04, 18.72it/s, loss=0.178, test_loss=0.\n"
     ]
    },
    {
     "name": "stdout",
     "output_type": "stream",
     "text": [
      "Mean Accuracy (MS): 0.9882\n",
      "Mean Sensitivity (MS): 0.9864\n",
      "Mean Specificity (MS): 0.9907\n",
      "Mean AUC (MS): 0.9996\n",
      "Working on IAA dataset: 279 samples\n"
     ]
    },
    {
     "name": "stderr",
     "output_type": "stream",
     "text": [
      "IAA - Fold 0:  61%|▌| 1816/3000 [00:53<00:35, 33.75it/s, loss=0.196, test_loss=0\n",
      "IAA - Fold 1:  87%|▊| 2598/3000 [01:15<00:11, 34.20it/s, loss=0.169, test_loss=0\n",
      "IAA - Fold 2:  45%|▍| 1338/3000 [00:39<00:49, 33.61it/s, loss=0.189, test_loss=0\n",
      "IAA - Fold 3:  61%|▌| 1824/3000 [00:53<00:34, 34.18it/s, loss=0.173, test_loss=0\n",
      "IAA - Fold 4:  70%|▋| 2109/3000 [01:02<00:26, 33.69it/s, loss=0.145, test_loss=0\n"
     ]
    },
    {
     "name": "stdout",
     "output_type": "stream",
     "text": [
      "Mean Accuracy (IAA): 0.9606\n",
      "Mean Sensitivity (IAA): 0.8615\n",
      "Mean Specificity (IAA): 0.9907\n",
      "Mean AUC (IAA): 0.9894\n",
      "Working on RA dataset: 320 samples\n"
     ]
    },
    {
     "name": "stderr",
     "output_type": "stream",
     "text": [
      "RA - Fold 0:  65%|▋| 1963/3000 [01:05<00:34, 30.05it/s, loss=0.159, test_loss=0.\n",
      "RA - Fold 1:  44%|▍| 1320/3000 [00:42<00:54, 30.99it/s, loss=0.203, test_loss=0.\n",
      "RA - Fold 2:  62%|▌| 1873/3000 [01:00<00:36, 30.85it/s, loss=0.154, test_loss=0.\n",
      "RA - Fold 3:  30%|▎| 908/3000 [00:29<01:07, 30.99it/s, loss=0.177, test_loss=0.5\n",
      "RA - Fold 4:  71%|▋| 2125/3000 [01:08<00:28, 30.81it/s, loss=0.167, test_loss=0.\n"
     ]
    },
    {
     "name": "stdout",
     "output_type": "stream",
     "text": [
      "Mean Accuracy (RA): 0.8719\n",
      "Mean Sensitivity (RA): 0.7830\n",
      "Mean Specificity (RA): 0.9159\n",
      "Mean AUC (RA): 0.9385\n",
      "Working on T1D dataset: 394 samples\n"
     ]
    },
    {
     "name": "stderr",
     "output_type": "stream",
     "text": [
      "T1D - Fold 0:  80%|▊| 2386/3000 [01:33<00:24, 25.42it/s, loss=0.173, test_loss=0\n",
      "T1D - Fold 1:  97%|▉| 2922/3000 [01:56<00:03, 25.08it/s, loss=0.193, test_loss=0\n",
      "T1D - Fold 2:  80%|▊| 2388/3000 [01:34<00:24, 25.26it/s, loss=0.147, test_loss=0\n",
      "T1D - Fold 3:  61%|▌| 1844/3000 [01:13<00:45, 25.21it/s, loss=0.197, test_loss=0\n",
      "T1D - Fold 4:  31%|▎| 932/3000 [00:36<01:21, 25.28it/s, loss=0.185, test_loss=0.\n"
     ]
    },
    {
     "name": "stdout",
     "output_type": "stream",
     "text": [
      "Mean Accuracy (T1D): 0.9721\n",
      "Mean Sensitivity (T1D): 0.9611\n",
      "Mean Specificity (T1D): 0.9813\n",
      "Mean AUC (T1D): 0.9978\n",
      "Working on MS dataset: 508 samples\n"
     ]
    },
    {
     "name": "stderr",
     "output_type": "stream",
     "text": [
      "MS - Fold 0:  97%|▉| 2913/3000 [02:31<00:04, 19.27it/s, loss=0.183, test_loss=0.\n",
      "MS - Fold 1: 100%|█| 3000/3000 [02:38<00:00, 18.96it/s, loss=0.179, test_loss=0.\n",
      "MS - Fold 2: 100%|█| 3000/3000 [02:36<00:00, 19.11it/s, loss=0.153, test_loss=0.\n",
      "MS - Fold 3: 100%|█| 3000/3000 [02:36<00:00, 19.19it/s, loss=0.154, test_loss=0.\n",
      "MS - Fold 4:  89%|▉| 2664/3000 [02:22<00:17, 18.71it/s, loss=0.186, test_loss=0.\n"
     ]
    },
    {
     "name": "stdout",
     "output_type": "stream",
     "text": [
      "Mean Accuracy (MS): 0.9921\n",
      "Mean Sensitivity (MS): 0.9864\n",
      "Mean Specificity (MS): 1.0000\n",
      "Mean AUC (MS): 0.9993\n",
      "Working on IAA dataset: 279 samples\n"
     ]
    },
    {
     "name": "stderr",
     "output_type": "stream",
     "text": [
      "IAA - Fold 0:  47%|▍| 1419/3000 [00:41<00:45, 34.43it/s, loss=0.166, test_loss=0\n",
      "IAA - Fold 1:  66%|▋| 1972/3000 [00:58<00:30, 33.87it/s, loss=0.168, test_loss=0\n",
      "IAA - Fold 2:  65%|▋| 1954/3000 [00:56<00:30, 34.66it/s, loss=0.207, test_loss=0\n",
      "IAA - Fold 3:  38%|▍| 1154/3000 [00:33<00:53, 34.67it/s, loss=0.192, test_loss=0\n",
      "IAA - Fold 4:  41%|▍| 1229/3000 [00:35<00:50, 35.07it/s, loss=0.191, test_loss=0\n"
     ]
    },
    {
     "name": "stdout",
     "output_type": "stream",
     "text": [
      "Mean Accuracy (IAA): 0.9319\n",
      "Mean Sensitivity (IAA): 0.7692\n",
      "Mean Specificity (IAA): 0.9813\n",
      "Mean AUC (IAA): 0.9751\n",
      "Working on RA dataset: 320 samples\n"
     ]
    },
    {
     "name": "stderr",
     "output_type": "stream",
     "text": [
      "RA - Fold 0:  93%|▉| 2776/3000 [01:28<00:07, 31.35it/s, loss=0.178, test_loss=0.\n",
      "RA - Fold 1:  10%| | 314/3000 [00:09<01:25, 31.54it/s, loss=0.374, test_loss=0.6\n",
      "RA - Fold 2:  35%|▎| 1041/3000 [00:33<01:03, 31.07it/s, loss=0.194, test_loss=0.\n",
      "RA - Fold 3:  54%|▌| 1634/3000 [00:52<00:43, 31.10it/s, loss=0.145, test_loss=0.\n",
      "RA - Fold 4:  47%|▍| 1410/3000 [00:46<00:52, 30.54it/s, loss=0.141, test_loss=0.\n"
     ]
    },
    {
     "name": "stdout",
     "output_type": "stream",
     "text": [
      "Mean Accuracy (RA): 0.8438\n",
      "Mean Sensitivity (RA): 0.6509\n",
      "Mean Specificity (RA): 0.9393\n",
      "Mean AUC (RA): 0.9193\n",
      "Working on T1D dataset: 394 samples\n"
     ]
    },
    {
     "name": "stderr",
     "output_type": "stream",
     "text": [
      "T1D - Fold 0:  92%|▉| 2773/3000 [01:50<00:09, 25.11it/s, loss=0.177, test_loss=0\n",
      "T1D - Fold 1:  60%|▌| 1808/3000 [01:11<00:47, 25.30it/s, loss=0.162, test_loss=0\n",
      "T1D - Fold 2:  56%|▌| 1694/3000 [01:09<00:53, 24.53it/s, loss=0.16, test_loss=0.\n",
      "T1D - Fold 3: 100%|█| 3000/3000 [02:01<00:00, 24.62it/s, loss=0.163, test_loss=0\n",
      "T1D - Fold 4:  92%|▉| 2761/3000 [01:52<00:09, 24.48it/s, loss=0.195, test_loss=0\n"
     ]
    },
    {
     "name": "stdout",
     "output_type": "stream",
     "text": [
      "Mean Accuracy (T1D): 0.9695\n",
      "Mean Sensitivity (T1D): 0.9556\n",
      "Mean Specificity (T1D): 0.9813\n",
      "Mean AUC (T1D): 0.9961\n",
      "Working on MS dataset: 508 samples\n"
     ]
    },
    {
     "name": "stderr",
     "output_type": "stream",
     "text": [
      "MS - Fold 0:  86%|▊| 2590/3000 [02:21<00:22, 18.32it/s, loss=0.178, test_loss=0.\n",
      "MS - Fold 1:  94%|▉| 2814/3000 [02:30<00:09, 18.65it/s, loss=0.168, test_loss=0.\n",
      "MS - Fold 2:  69%|▋| 2077/3000 [01:50<00:49, 18.72it/s, loss=0.186, test_loss=0.\n",
      "MS - Fold 3: 100%|█| 3000/3000 [02:36<00:00, 19.12it/s, loss=0.2, test_loss=0.05\n",
      "MS - Fold 4: 100%|█| 3000/3000 [02:38<00:00, 18.91it/s, loss=0.185, test_loss=0.\n"
     ]
    },
    {
     "name": "stdout",
     "output_type": "stream",
     "text": [
      "Mean Accuracy (MS): 0.9626\n",
      "Mean Sensitivity (MS): 0.9932\n",
      "Mean Specificity (MS): 0.9206\n",
      "Mean AUC (MS): 0.9977\n",
      "Working on IAA dataset: 279 samples\n"
     ]
    },
    {
     "name": "stderr",
     "output_type": "stream",
     "text": [
      "IAA - Fold 0:  26%|▎| 768/3000 [00:22<01:04, 34.73it/s, loss=0.174, test_loss=0.\n",
      "IAA - Fold 1:  84%|▊| 2529/3000 [01:12<00:13, 34.65it/s, loss=0.182, test_loss=0\n",
      "IAA - Fold 2:  90%|▉| 2712/3000 [01:17<00:08, 34.99it/s, loss=0.171, test_loss=0\n",
      "IAA - Fold 3:  65%|▋| 1950/3000 [00:55<00:29, 35.30it/s, loss=0.198, test_loss=0\n",
      "IAA - Fold 4:  47%|▍| 1396/3000 [00:39<00:45, 35.03it/s, loss=0.138, test_loss=0\n"
     ]
    },
    {
     "name": "stdout",
     "output_type": "stream",
     "text": [
      "Mean Accuracy (IAA): 0.9534\n",
      "Mean Sensitivity (IAA): 0.8462\n",
      "Mean Specificity (IAA): 0.9860\n",
      "Mean AUC (IAA): 0.9826\n",
      "Working on RA dataset: 320 samples\n"
     ]
    },
    {
     "name": "stderr",
     "output_type": "stream",
     "text": [
      "RA - Fold 0:  71%|▋| 2144/3000 [01:08<00:27, 31.31it/s, loss=0.179, test_loss=0.\n",
      "RA - Fold 1:  48%|▍| 1453/3000 [00:46<00:49, 31.18it/s, loss=0.191, test_loss=0.\n",
      "RA - Fold 2:  51%|▌| 1530/3000 [00:49<00:47, 30.90it/s, loss=0.164, test_loss=0.\n",
      "RA - Fold 3:  37%|▎| 1121/3000 [00:37<01:02, 29.84it/s, loss=0.211, test_loss=0.\n",
      "RA - Fold 4:  41%|▍| 1240/3000 [00:40<00:57, 30.58it/s, loss=0.149, test_loss=0.\n"
     ]
    },
    {
     "name": "stdout",
     "output_type": "stream",
     "text": [
      "Mean Accuracy (RA): 0.8531\n",
      "Mean Sensitivity (RA): 0.6981\n",
      "Mean Specificity (RA): 0.9299\n",
      "Mean AUC (RA): 0.9374\n",
      "Working on T1D dataset: 394 samples\n"
     ]
    },
    {
     "name": "stderr",
     "output_type": "stream",
     "text": [
      "T1D - Fold 0:  83%|▊| 2484/3000 [01:37<00:20, 25.58it/s, loss=0.201, test_loss=0\n",
      "T1D - Fold 1:  87%|▊| 2606/3000 [01:44<00:15, 25.05it/s, loss=0.154, test_loss=0\n",
      "T1D - Fold 2:  53%|▌| 1576/3000 [01:03<00:57, 24.64it/s, loss=0.19, test_loss=0.\n",
      "T1D - Fold 3:  91%|▉| 2730/3000 [01:49<00:10, 24.97it/s, loss=0.166, test_loss=0\n",
      "T1D - Fold 4:  99%|▉| 2961/3000 [01:59<00:01, 24.79it/s, loss=0.17, test_loss=0.\n"
     ]
    },
    {
     "name": "stdout",
     "output_type": "stream",
     "text": [
      "Mean Accuracy (T1D): 0.9822\n",
      "Mean Sensitivity (T1D): 0.9722\n",
      "Mean Specificity (T1D): 0.9907\n",
      "Mean AUC (T1D): 0.9976\n",
      "Working on MS dataset: 508 samples\n"
     ]
    },
    {
     "name": "stderr",
     "output_type": "stream",
     "text": [
      "MS - Fold 0:  60%|▌| 1787/3000 [01:35<01:04, 18.74it/s, loss=0.188, test_loss=0.\n",
      "MS - Fold 1: 100%|█| 3000/3000 [02:39<00:00, 18.86it/s, loss=0.157, test_loss=0.\n",
      "MS - Fold 2:  98%|▉| 2925/3000 [02:33<00:03, 19.10it/s, loss=0.176, test_loss=0.\n",
      "MS - Fold 3:  65%|▋| 1961/3000 [01:43<00:54, 19.01it/s, loss=0.167, test_loss=0.\n",
      "MS - Fold 4:  68%|▋| 2043/3000 [01:47<00:50, 19.05it/s, loss=0.183, test_loss=0.\n"
     ]
    },
    {
     "name": "stdout",
     "output_type": "stream",
     "text": [
      "Mean Accuracy (MS): 0.9843\n",
      "Mean Sensitivity (MS): 0.9898\n",
      "Mean Specificity (MS): 0.9766\n",
      "Mean AUC (MS): 0.9995\n",
      "Working on IAA dataset: 279 samples\n"
     ]
    },
    {
     "name": "stderr",
     "output_type": "stream",
     "text": [
      "IAA - Fold 0:  44%|▍| 1323/3000 [00:38<00:48, 34.79it/s, loss=0.152, test_loss=0\n",
      "IAA - Fold 1:  92%|▉| 2769/3000 [01:19<00:06, 34.93it/s, loss=0.172, test_loss=0\n",
      "IAA - Fold 2:  65%|▋| 1961/3000 [00:56<00:30, 34.56it/s, loss=0.154, test_loss=0\n",
      "IAA - Fold 3:  74%|▋| 2217/3000 [01:04<00:22, 34.17it/s, loss=0.194, test_loss=0\n",
      "IAA - Fold 4:  73%|▋| 2188/3000 [01:04<00:23, 33.97it/s, loss=0.156, test_loss=0\n"
     ]
    },
    {
     "name": "stdout",
     "output_type": "stream",
     "text": [
      "Mean Accuracy (IAA): 0.9104\n",
      "Mean Sensitivity (IAA): 0.7538\n",
      "Mean Specificity (IAA): 0.9579\n",
      "Mean AUC (IAA): 0.9694\n",
      "Working on RA dataset: 320 samples\n"
     ]
    },
    {
     "name": "stderr",
     "output_type": "stream",
     "text": [
      "RA - Fold 0:  43%|▍| 1285/3000 [00:43<00:57, 29.88it/s, loss=0.151, test_loss=0.\n",
      "RA - Fold 1:  50%|▌| 1501/3000 [00:50<00:50, 29.89it/s, loss=0.174, test_loss=0.\n",
      "RA - Fold 2:  34%|▎| 1018/3000 [00:32<01:03, 31.07it/s, loss=0.173, test_loss=0.\n",
      "RA - Fold 3:  80%|▊| 2399/3000 [01:18<00:19, 30.47it/s, loss=0.189, test_loss=0.\n",
      "RA - Fold 4:  47%|▍| 1398/3000 [00:46<00:52, 30.39it/s, loss=0.167, test_loss=0.\n"
     ]
    },
    {
     "name": "stdout",
     "output_type": "stream",
     "text": [
      "Mean Accuracy (RA): 0.8906\n",
      "Mean Sensitivity (RA): 0.7925\n",
      "Mean Specificity (RA): 0.9393\n",
      "Mean AUC (RA): 0.9549\n",
      "Working on T1D dataset: 394 samples\n"
     ]
    },
    {
     "name": "stderr",
     "output_type": "stream",
     "text": [
      "T1D - Fold 0:  67%|▋| 2013/3000 [01:22<00:40, 24.28it/s, loss=0.177, test_loss=0\n",
      "T1D - Fold 1:  51%|▌| 1529/3000 [01:02<01:00, 24.31it/s, loss=0.159, test_loss=0\n",
      "T1D - Fold 2:  59%|▌| 1781/3000 [01:12<00:49, 24.54it/s, loss=0.158, test_loss=0\n",
      "T1D - Fold 3:  78%|▊| 2332/3000 [01:32<00:26, 25.24it/s, loss=0.175, test_loss=0\n",
      "T1D - Fold 4:  72%|▋| 2172/3000 [01:25<00:32, 25.28it/s, loss=0.191, test_loss=0\n"
     ]
    },
    {
     "name": "stdout",
     "output_type": "stream",
     "text": [
      "Mean Accuracy (T1D): 0.9873\n",
      "Mean Sensitivity (T1D): 0.9833\n",
      "Mean Specificity (T1D): 0.9907\n",
      "Mean AUC (T1D): 0.9985\n",
      "Working on MS dataset: 508 samples\n"
     ]
    },
    {
     "name": "stderr",
     "output_type": "stream",
     "text": [
      "MS - Fold 0:  59%|▌| 1758/3000 [01:31<01:04, 19.22it/s, loss=0.151, test_loss=0.\n",
      "MS - Fold 1: 100%|█| 3000/3000 [02:35<00:00, 19.25it/s, loss=0.169, test_loss=0.\n",
      "MS - Fold 2: 100%|█| 3000/3000 [02:33<00:00, 19.55it/s, loss=0.172, test_loss=0.\n",
      "MS - Fold 3:  69%|▋| 2075/3000 [01:46<00:47, 19.46it/s, loss=0.189, test_loss=0.\n",
      "MS - Fold 4:  56%|▌| 1676/3000 [01:27<01:09, 19.12it/s, loss=0.18, test_loss=0.0\n"
     ]
    },
    {
     "name": "stdout",
     "output_type": "stream",
     "text": [
      "Mean Accuracy (MS): 0.9803\n",
      "Mean Sensitivity (MS): 0.9864\n",
      "Mean Specificity (MS): 0.9720\n",
      "Mean AUC (MS): 0.9991\n",
      "Working on IAA dataset: 279 samples\n"
     ]
    },
    {
     "name": "stderr",
     "output_type": "stream",
     "text": [
      "IAA - Fold 0:  48%|▍| 1431/3000 [00:40<00:44, 35.15it/s, loss=0.169, test_loss=0\n",
      "IAA - Fold 1:  49%|▍| 1463/3000 [00:41<00:43, 34.99it/s, loss=0.2, test_loss=0.2\n",
      "IAA - Fold 2:  66%|▋| 1981/3000 [00:56<00:29, 34.82it/s, loss=0.129, test_loss=0\n",
      "IAA - Fold 3: 100%|█| 3000/3000 [01:24<00:00, 35.60it/s, loss=0.164, test_loss=0\n",
      "IAA - Fold 4: 100%|█| 3000/3000 [01:26<00:00, 34.54it/s, loss=0.144, test_loss=0\n"
     ]
    },
    {
     "name": "stdout",
     "output_type": "stream",
     "text": [
      "Mean Accuracy (IAA): 0.9247\n",
      "Mean Sensitivity (IAA): 0.7077\n",
      "Mean Specificity (IAA): 0.9907\n",
      "Mean AUC (IAA): 0.9684\n",
      "Working on RA dataset: 320 samples\n"
     ]
    },
    {
     "name": "stderr",
     "output_type": "stream",
     "text": [
      "RA - Fold 0:  54%|▌| 1633/3000 [00:53<00:44, 30.69it/s, loss=0.166, test_loss=0.\n",
      "RA - Fold 1:  57%|▌| 1724/3000 [00:55<00:41, 30.88it/s, loss=0.201, test_loss=0.\n",
      "RA - Fold 2:  74%|▋| 2210/3000 [01:12<00:25, 30.40it/s, loss=0.18, test_loss=0.4\n",
      "RA - Fold 3:  74%|▋| 2210/3000 [01:12<00:26, 30.32it/s, loss=0.189, test_loss=0.\n",
      "RA - Fold 4:  68%|▋| 2037/3000 [01:06<00:31, 30.64it/s, loss=0.15, test_loss=0.4\n"
     ]
    },
    {
     "name": "stdout",
     "output_type": "stream",
     "text": [
      "Mean Accuracy (RA): 0.8781\n",
      "Mean Sensitivity (RA): 0.7547\n",
      "Mean Specificity (RA): 0.9393\n",
      "Mean AUC (RA): 0.9354\n",
      "Working on T1D dataset: 394 samples\n"
     ]
    },
    {
     "name": "stderr",
     "output_type": "stream",
     "text": [
      "T1D - Fold 0:  95%|▉| 2842/3000 [01:54<00:06, 24.81it/s, loss=0.192, test_loss=0\n",
      "T1D - Fold 1:  61%|▌| 1832/3000 [01:15<00:48, 24.16it/s, loss=0.147, test_loss=0\n",
      "T1D - Fold 2:  44%|▍| 1333/3000 [00:54<01:07, 24.58it/s, loss=0.161, test_loss=0\n",
      "T1D - Fold 3: 100%|█| 3000/3000 [02:01<00:00, 24.79it/s, loss=0.195, test_loss=0\n",
      "T1D - Fold 4:  75%|▊| 2262/3000 [01:29<00:29, 25.15it/s, loss=0.161, test_loss=0\n"
     ]
    },
    {
     "name": "stdout",
     "output_type": "stream",
     "text": [
      "Mean Accuracy (T1D): 0.9746\n",
      "Mean Sensitivity (T1D): 0.9778\n",
      "Mean Specificity (T1D): 0.9720\n",
      "Mean AUC (T1D): 0.9962\n",
      "Working on MS dataset: 508 samples\n"
     ]
    },
    {
     "name": "stderr",
     "output_type": "stream",
     "text": [
      "MS - Fold 0:  95%|▉| 2844/3000 [02:30<00:08, 18.91it/s, loss=0.162, test_loss=0.\n",
      "MS - Fold 1:  53%|▌| 1596/3000 [01:24<01:14, 18.97it/s, loss=0.181, test_loss=0.\n",
      "MS - Fold 2:  46%|▍| 1394/3000 [01:13<01:24, 18.93it/s, loss=0.194, test_loss=0.\n",
      "MS - Fold 3: 100%|█| 3000/3000 [02:41<00:00, 18.60it/s, loss=0.178, test_loss=0.\n",
      "MS - Fold 4:  73%|▋| 2180/3000 [01:55<00:43, 18.84it/s, loss=0.151, test_loss=0.\n"
     ]
    },
    {
     "name": "stdout",
     "output_type": "stream",
     "text": [
      "Mean Accuracy (MS): 0.9843\n",
      "Mean Sensitivity (MS): 0.9932\n",
      "Mean Specificity (MS): 0.9720\n",
      "Mean AUC (MS): 0.9996\n",
      "Working on IAA dataset: 279 samples\n"
     ]
    },
    {
     "name": "stderr",
     "output_type": "stream",
     "text": [
      "IAA - Fold 0:  53%|▌| 1592/3000 [00:46<00:41, 34.14it/s, loss=0.19, test_loss=0.\n",
      "IAA - Fold 1:  47%|▍| 1415/3000 [00:41<00:46, 33.89it/s, loss=0.165, test_loss=0\n",
      "IAA - Fold 2:  90%|▉| 2693/3000 [01:18<00:08, 34.18it/s, loss=0.156, test_loss=0\n",
      "IAA - Fold 3:  72%|▋| 2149/3000 [01:03<00:25, 33.87it/s, loss=0.184, test_loss=0\n",
      "IAA - Fold 4: 100%|█| 3000/3000 [01:28<00:00, 33.97it/s, loss=0.163, test_loss=0\n"
     ]
    },
    {
     "name": "stdout",
     "output_type": "stream",
     "text": [
      "Mean Accuracy (IAA): 0.9247\n",
      "Mean Sensitivity (IAA): 0.8000\n",
      "Mean Specificity (IAA): 0.9626\n",
      "Mean AUC (IAA): 0.9707\n",
      "Working on RA dataset: 320 samples\n"
     ]
    },
    {
     "name": "stderr",
     "output_type": "stream",
     "text": [
      "RA - Fold 0:  88%|▉| 2653/3000 [01:27<00:11, 30.24it/s, loss=0.176, test_loss=0.\n",
      "RA - Fold 1:  65%|▋| 1953/3000 [01:03<00:34, 30.65it/s, loss=0.187, test_loss=0.\n",
      "RA - Fold 2:  31%|▎| 939/3000 [00:30<01:06, 30.82it/s, loss=0.15, test_loss=0.42\n",
      "RA - Fold 3:  54%|▌| 1629/3000 [00:52<00:44, 30.82it/s, loss=0.198, test_loss=0.\n",
      "RA - Fold 4:  63%|▋| 1883/3000 [01:01<00:36, 30.83it/s, loss=0.224, test_loss=0.\n"
     ]
    },
    {
     "name": "stdout",
     "output_type": "stream",
     "text": [
      "Mean Accuracy (RA): 0.8688\n",
      "Mean Sensitivity (RA): 0.7264\n",
      "Mean Specificity (RA): 0.9393\n",
      "Mean AUC (RA): 0.9362\n",
      "Working on T1D dataset: 394 samples\n"
     ]
    },
    {
     "name": "stderr",
     "output_type": "stream",
     "text": [
      "T1D - Fold 0: 100%|█| 3000/3000 [01:59<00:00, 25.16it/s, loss=0.191, test_loss=0\n",
      "T1D - Fold 1:  83%|▊| 2477/3000 [01:38<00:20, 25.08it/s, loss=0.155, test_loss=0\n",
      "T1D - Fold 2:  57%|▌| 1719/3000 [01:08<00:50, 25.19it/s, loss=0.186, test_loss=0\n",
      "T1D - Fold 3:  76%|▊| 2282/3000 [01:30<00:28, 25.12it/s, loss=0.208, test_loss=0\n",
      "T1D - Fold 4:  87%|▊| 2615/3000 [01:42<00:15, 25.61it/s, loss=0.205, test_loss=0\n"
     ]
    },
    {
     "name": "stdout",
     "output_type": "stream",
     "text": [
      "Mean Accuracy (T1D): 0.9873\n",
      "Mean Sensitivity (T1D): 0.9889\n",
      "Mean Specificity (T1D): 0.9860\n",
      "Mean AUC (T1D): 0.9987\n",
      "Working on MS dataset: 508 samples\n"
     ]
    },
    {
     "name": "stderr",
     "output_type": "stream",
     "text": [
      "MS - Fold 0:  75%|▋| 2246/3000 [01:55<00:38, 19.37it/s, loss=0.218, test_loss=0.\n",
      "MS - Fold 1:  85%|▊| 2556/3000 [02:13<00:23, 19.19it/s, loss=0.155, test_loss=0.\n",
      "MS - Fold 2:  41%|▍| 1230/3000 [01:04<01:32, 19.13it/s, loss=0.193, test_loss=0.\n",
      "MS - Fold 3:  81%|▊| 2430/3000 [02:09<00:30, 18.83it/s, loss=0.166, test_loss=0.\n",
      "MS - Fold 4:  69%|▋| 2070/3000 [01:49<00:49, 18.94it/s, loss=0.145, test_loss=0.\n"
     ]
    },
    {
     "name": "stdout",
     "output_type": "stream",
     "text": [
      "Mean Accuracy (MS): 0.9823\n",
      "Mean Sensitivity (MS): 0.9864\n",
      "Mean Specificity (MS): 0.9766\n",
      "Mean AUC (MS): 0.9993\n",
      "Working on IAA dataset: 279 samples\n"
     ]
    },
    {
     "name": "stderr",
     "output_type": "stream",
     "text": [
      "IAA - Fold 0:  52%|▌| 1559/3000 [00:45<00:41, 34.47it/s, loss=0.179, test_loss=0\n",
      "IAA - Fold 1:  63%|▋| 1896/3000 [00:55<00:32, 34.29it/s, loss=0.166, test_loss=0\n",
      "IAA - Fold 2:  36%|▎| 1073/3000 [00:30<00:55, 34.74it/s, loss=0.201, test_loss=0\n",
      "IAA - Fold 3:  91%|▉| 2717/3000 [01:18<00:08, 34.40it/s, loss=0.184, test_loss=0\n",
      "IAA - Fold 4:  34%|▎| 1022/3000 [00:29<00:57, 34.17it/s, loss=0.15, test_loss=0.\n"
     ]
    },
    {
     "name": "stdout",
     "output_type": "stream",
     "text": [
      "Mean Accuracy (IAA): 0.9176\n",
      "Mean Sensitivity (IAA): 0.7385\n",
      "Mean Specificity (IAA): 0.9720\n",
      "Mean AUC (IAA): 0.9744\n",
      "Working on RA dataset: 320 samples\n"
     ]
    },
    {
     "name": "stderr",
     "output_type": "stream",
     "text": [
      "RA - Fold 0:  88%|▉| 2652/3000 [01:26<00:11, 30.63it/s, loss=0.176, test_loss=0.\n",
      "RA - Fold 1:  53%|▌| 1595/3000 [00:51<00:45, 31.08it/s, loss=0.162, test_loss=0.\n",
      "RA - Fold 2:  58%|▌| 1729/3000 [00:55<00:40, 31.40it/s, loss=0.16, test_loss=0.4\n",
      "RA - Fold 3:  67%|▋| 1996/3000 [01:04<00:32, 31.09it/s, loss=0.194, test_loss=0.\n",
      "RA - Fold 4:  51%|▌| 1542/3000 [00:49<00:47, 30.94it/s, loss=0.156, test_loss=0.\n"
     ]
    },
    {
     "name": "stdout",
     "output_type": "stream",
     "text": [
      "Mean Accuracy (RA): 0.9125\n",
      "Mean Sensitivity (RA): 0.8208\n",
      "Mean Specificity (RA): 0.9579\n",
      "Mean AUC (RA): 0.9687\n",
      "Working on T1D dataset: 394 samples\n"
     ]
    },
    {
     "name": "stderr",
     "output_type": "stream",
     "text": [
      "T1D - Fold 0:  69%|▋| 2067/3000 [01:22<00:37, 25.17it/s, loss=0.18, test_loss=0.\n",
      "T1D - Fold 1:  78%|▊| 2353/3000 [01:32<00:25, 25.32it/s, loss=0.158, test_loss=0\n",
      "T1D - Fold 2:  88%|▉| 2655/3000 [01:47<00:13, 24.70it/s, loss=0.151, test_loss=0\n",
      "T1D - Fold 3:  69%|▋| 2079/3000 [01:24<00:37, 24.53it/s, loss=0.156, test_loss=0\n",
      "T1D - Fold 4:  58%|▌| 1752/3000 [01:11<00:51, 24.46it/s, loss=0.156, test_loss=0\n"
     ]
    },
    {
     "name": "stdout",
     "output_type": "stream",
     "text": [
      "Mean Accuracy (T1D): 0.9822\n",
      "Mean Sensitivity (T1D): 0.9778\n",
      "Mean Specificity (T1D): 0.9860\n",
      "Mean AUC (T1D): 0.9974\n",
      "Working on MS dataset: 508 samples\n"
     ]
    },
    {
     "name": "stderr",
     "output_type": "stream",
     "text": [
      "MS - Fold 0:  77%|▊| 2302/3000 [02:04<00:37, 18.56it/s, loss=0.179, test_loss=0.\n",
      "MS - Fold 1:  90%|▉| 2702/3000 [02:25<00:16, 18.52it/s, loss=0.136, test_loss=0.\n",
      "MS - Fold 2:  63%|▋| 1892/3000 [01:41<00:59, 18.72it/s, loss=0.171, test_loss=0.\n",
      "MS - Fold 3: 100%|█| 3000/3000 [02:41<00:00, 18.62it/s, loss=0.175, test_loss=0.\n",
      "MS - Fold 4:  85%|▊| 2553/3000 [02:12<00:23, 19.26it/s, loss=0.165, test_loss=0.\n"
     ]
    },
    {
     "name": "stdout",
     "output_type": "stream",
     "text": [
      "Mean Accuracy (MS): 0.9882\n",
      "Mean Sensitivity (MS): 0.9898\n",
      "Mean Specificity (MS): 0.9860\n",
      "Mean AUC (MS): 0.9997\n",
      "Working on IAA dataset: 279 samples\n"
     ]
    },
    {
     "name": "stderr",
     "output_type": "stream",
     "text": [
      "IAA - Fold 0:  57%|▌| 1714/3000 [00:48<00:36, 35.37it/s, loss=0.2, test_loss=0.5\n",
      "IAA - Fold 1:  60%|▌| 1799/3000 [00:50<00:33, 35.35it/s, loss=0.17, test_loss=0.\n",
      "IAA - Fold 2:  46%|▍| 1388/3000 [00:39<00:46, 34.81it/s, loss=0.23, test_loss=0.\n",
      "IAA - Fold 3:  96%|▉| 2866/3000 [01:20<00:03, 35.53it/s, loss=0.191, test_loss=0\n",
      "IAA - Fold 4:  41%|▍| 1239/3000 [00:35<00:50, 35.03it/s, loss=0.179, test_loss=0\n"
     ]
    },
    {
     "name": "stdout",
     "output_type": "stream",
     "text": [
      "Mean Accuracy (IAA): 0.9140\n",
      "Mean Sensitivity (IAA): 0.7538\n",
      "Mean Specificity (IAA): 0.9626\n",
      "Mean AUC (IAA): 0.9692\n",
      "Working on RA dataset: 320 samples\n"
     ]
    },
    {
     "name": "stderr",
     "output_type": "stream",
     "text": [
      "RA - Fold 0:  52%|▌| 1552/3000 [00:50<00:46, 30.89it/s, loss=0.165, test_loss=0.\n",
      "RA - Fold 1:  45%|▍| 1348/3000 [00:43<00:53, 30.94it/s, loss=0.184, test_loss=0.\n",
      "RA - Fold 2:  80%|▊| 2400/3000 [01:16<00:19, 31.26it/s, loss=0.168, test_loss=0.\n",
      "RA - Fold 3:  66%|▋| 1970/3000 [01:03<00:33, 30.85it/s, loss=0.156, test_loss=0.\n",
      "RA - Fold 4:  35%|▎| 1044/3000 [00:33<01:03, 31.01it/s, loss=0.201, test_loss=0.\n"
     ]
    },
    {
     "name": "stdout",
     "output_type": "stream",
     "text": [
      "Mean Accuracy (RA): 0.8750\n",
      "Mean Sensitivity (RA): 0.7925\n",
      "Mean Specificity (RA): 0.9159\n",
      "Mean AUC (RA): 0.9462\n",
      "Working on T1D dataset: 394 samples\n"
     ]
    },
    {
     "name": "stderr",
     "output_type": "stream",
     "text": [
      "T1D - Fold 0:  57%|▌| 1721/3000 [01:08<00:50, 25.19it/s, loss=0.195, test_loss=0\n",
      "T1D - Fold 1:  52%|▌| 1565/3000 [01:02<00:57, 25.16it/s, loss=0.184, test_loss=0\n",
      "T1D - Fold 2:  51%|▌| 1534/3000 [01:00<00:58, 25.25it/s, loss=0.196, test_loss=0\n",
      "T1D - Fold 3:  74%|▋| 2226/3000 [01:29<00:31, 24.82it/s, loss=0.163, test_loss=0\n",
      "T1D - Fold 4:  93%|▉| 2782/3000 [01:50<00:08, 25.16it/s, loss=0.162, test_loss=0\n"
     ]
    },
    {
     "name": "stdout",
     "output_type": "stream",
     "text": [
      "Mean Accuracy (T1D): 0.9695\n",
      "Mean Sensitivity (T1D): 0.9611\n",
      "Mean Specificity (T1D): 0.9766\n",
      "Mean AUC (T1D): 0.9963\n",
      "Working on MS dataset: 508 samples\n"
     ]
    },
    {
     "name": "stderr",
     "output_type": "stream",
     "text": [
      "MS - Fold 0:  46%|▍| 1368/3000 [01:12<01:26, 18.95it/s, loss=0.168, test_loss=0.\n",
      "MS - Fold 1: 100%|█| 3000/3000 [02:39<00:00, 18.84it/s, loss=0.209, test_loss=0.\n",
      "MS - Fold 2:  75%|▊| 2257/3000 [01:59<00:39, 18.82it/s, loss=0.162, test_loss=0.\n",
      "MS - Fold 3:  13%|▏| 383/3000 [00:20<02:18, 18.84it/s, loss=0.302, test_loss=0.7\n",
      "MS - Fold 4:  55%|▌| 1644/3000 [01:26<01:11, 18.92it/s, loss=0.187, test_loss=0.\n"
     ]
    },
    {
     "name": "stdout",
     "output_type": "stream",
     "text": [
      "Mean Accuracy (MS): 0.8445\n",
      "Mean Sensitivity (MS): 0.8946\n",
      "Mean Specificity (MS): 0.7757\n",
      "Mean AUC (MS): 0.9454\n",
      "Working on IAA dataset: 279 samples\n"
     ]
    },
    {
     "name": "stderr",
     "output_type": "stream",
     "text": [
      "IAA - Fold 0:  48%|▍| 1429/3000 [00:40<00:44, 34.92it/s, loss=0.169, test_loss=0\n",
      "IAA - Fold 1:  57%|▌| 1712/3000 [00:48<00:36, 35.14it/s, loss=0.218, test_loss=0\n",
      "IAA - Fold 2:  62%|▌| 1859/3000 [00:53<00:32, 35.05it/s, loss=0.157, test_loss=0\n",
      "IAA - Fold 3:  91%|▉| 2724/3000 [01:17<00:07, 34.98it/s, loss=0.201, test_loss=0\n",
      "IAA - Fold 4:  44%|▍| 1334/3000 [00:38<00:47, 34.88it/s, loss=0.156, test_loss=0\n"
     ]
    },
    {
     "name": "stdout",
     "output_type": "stream",
     "text": [
      "Mean Accuracy (IAA): 0.9427\n",
      "Mean Sensitivity (IAA): 0.8308\n",
      "Mean Specificity (IAA): 0.9766\n",
      "Mean AUC (IAA): 0.9868\n",
      "Working on RA dataset: 320 samples\n"
     ]
    },
    {
     "name": "stderr",
     "output_type": "stream",
     "text": [
      "RA - Fold 0:  79%|▊| 2370/3000 [01:17<00:20, 30.77it/s, loss=0.178, test_loss=0.\n",
      "RA - Fold 1:  68%|▋| 2043/3000 [01:06<00:31, 30.51it/s, loss=0.203, test_loss=0.\n",
      "RA - Fold 2:  50%|▌| 1507/3000 [00:50<00:49, 30.05it/s, loss=0.186, test_loss=0.\n",
      "RA - Fold 3:  40%|▍| 1196/3000 [00:40<01:01, 29.56it/s, loss=0.183, test_loss=0.\n",
      "RA - Fold 4:  46%|▍| 1377/3000 [00:45<00:53, 30.44it/s, loss=0.184, test_loss=0.\n"
     ]
    },
    {
     "name": "stdout",
     "output_type": "stream",
     "text": [
      "Mean Accuracy (RA): 0.8750\n",
      "Mean Sensitivity (RA): 0.7453\n",
      "Mean Specificity (RA): 0.9393\n",
      "Mean AUC (RA): 0.9504\n",
      "Working on T1D dataset: 394 samples\n"
     ]
    },
    {
     "name": "stderr",
     "output_type": "stream",
     "text": [
      "T1D - Fold 0:  85%|▊| 2544/3000 [01:44<00:18, 24.43it/s, loss=0.158, test_loss=0\n",
      "T1D - Fold 1:  58%|▌| 1749/3000 [01:11<00:51, 24.41it/s, loss=0.165, test_loss=0\n",
      "T1D - Fold 2:  39%|▍| 1162/3000 [00:47<01:15, 24.50it/s, loss=0.154, test_loss=0\n",
      "T1D - Fold 3:  73%|▋| 2178/3000 [01:29<00:33, 24.44it/s, loss=0.155, test_loss=0\n",
      "T1D - Fold 4:  96%|▉| 2886/3000 [02:01<00:04, 23.84it/s, loss=0.18, test_loss=0.\n"
     ]
    },
    {
     "name": "stdout",
     "output_type": "stream",
     "text": [
      "Mean Accuracy (T1D): 0.9645\n",
      "Mean Sensitivity (T1D): 0.9444\n",
      "Mean Specificity (T1D): 0.9813\n",
      "Mean AUC (T1D): 0.9965\n",
      "Working on MS dataset: 508 samples\n"
     ]
    },
    {
     "name": "stderr",
     "output_type": "stream",
     "text": [
      "MS - Fold 0:  92%|▉| 2750/3000 [02:23<00:13, 19.13it/s, loss=0.177, test_loss=0.\n",
      "MS - Fold 1: 100%|█| 3000/3000 [02:35<00:00, 19.27it/s, loss=0.153, test_loss=0.\n",
      "MS - Fold 2:  90%|▉| 2701/3000 [02:20<00:15, 19.22it/s, loss=0.168, test_loss=0.\n",
      "MS - Fold 3: 100%|█| 3000/3000 [02:37<00:00, 19.09it/s, loss=0.176, test_loss=0.\n",
      "MS - Fold 4:  99%|▉| 2978/3000 [02:38<00:01, 18.83it/s, loss=0.176, test_loss=0.\n"
     ]
    },
    {
     "name": "stdout",
     "output_type": "stream",
     "text": [
      "Mean Accuracy (MS): 0.9882\n",
      "Mean Sensitivity (MS): 0.9932\n",
      "Mean Specificity (MS): 0.9813\n",
      "Mean AUC (MS): 0.9997\n",
      "Working on IAA dataset: 279 samples\n"
     ]
    },
    {
     "name": "stderr",
     "output_type": "stream",
     "text": [
      "IAA - Fold 0:  38%|▍| 1137/3000 [00:32<00:53, 34.84it/s, loss=0.185, test_loss=0\n",
      "IAA - Fold 1:  98%|▉| 2953/3000 [01:23<00:01, 35.31it/s, loss=0.166, test_loss=0\n",
      "IAA - Fold 2:  60%|▌| 1811/3000 [00:51<00:33, 35.09it/s, loss=0.149, test_loss=0\n",
      "IAA - Fold 3:  80%|▊| 2399/3000 [01:09<00:17, 34.47it/s, loss=0.16, test_loss=0.\n",
      "IAA - Fold 4:  38%|▍| 1146/3000 [00:32<00:52, 35.04it/s, loss=0.161, test_loss=0\n"
     ]
    },
    {
     "name": "stdout",
     "output_type": "stream",
     "text": [
      "Mean Accuracy (IAA): 0.9498\n",
      "Mean Sensitivity (IAA): 0.8462\n",
      "Mean Specificity (IAA): 0.9813\n",
      "Mean AUC (IAA): 0.9792\n",
      "Working on RA dataset: 320 samples\n"
     ]
    },
    {
     "name": "stderr",
     "output_type": "stream",
     "text": [
      "RA - Fold 0:  34%|▎| 1007/3000 [00:32<01:05, 30.63it/s, loss=0.172, test_loss=0.\n",
      "RA - Fold 1:  50%|▌| 1514/3000 [00:49<00:48, 30.78it/s, loss=0.161, test_loss=0.\n",
      "RA - Fold 2:  50%|▍| 1487/3000 [00:48<00:49, 30.39it/s, loss=0.191, test_loss=0.\n",
      "RA - Fold 3:  90%|▉| 2689/3000 [01:27<00:10, 30.84it/s, loss=0.177, test_loss=0.\n",
      "RA - Fold 4:  45%|▍| 1364/3000 [00:44<00:53, 30.43it/s, loss=0.16, test_loss=0.3\n"
     ]
    },
    {
     "name": "stdout",
     "output_type": "stream",
     "text": [
      "Mean Accuracy (RA): 0.9000\n",
      "Mean Sensitivity (RA): 0.8019\n",
      "Mean Specificity (RA): 0.9486\n",
      "Mean AUC (RA): 0.9522\n",
      "Working on T1D dataset: 394 samples\n"
     ]
    },
    {
     "name": "stderr",
     "output_type": "stream",
     "text": [
      "T1D - Fold 0:  51%|▌| 1533/3000 [01:01<00:58, 24.90it/s, loss=0.179, test_loss=0\n",
      "T1D - Fold 1:  57%|▌| 1700/3000 [01:10<00:54, 24.01it/s, loss=0.187, test_loss=0\n",
      "T1D - Fold 2:  68%|▋| 2044/3000 [01:23<00:38, 24.53it/s, loss=0.192, test_loss=0\n",
      "T1D - Fold 3: 100%|█| 3000/3000 [02:01<00:00, 24.63it/s, loss=0.185, test_loss=0\n",
      "T1D - Fold 4:  69%|▋| 2076/3000 [01:23<00:36, 24.98it/s, loss=0.169, test_loss=0\n"
     ]
    },
    {
     "name": "stdout",
     "output_type": "stream",
     "text": [
      "Mean Accuracy (T1D): 0.9721\n",
      "Mean Sensitivity (T1D): 0.9556\n",
      "Mean Specificity (T1D): 0.9860\n",
      "Mean AUC (T1D): 0.9947\n",
      "Working on MS dataset: 508 samples\n"
     ]
    },
    {
     "name": "stderr",
     "output_type": "stream",
     "text": [
      "MS - Fold 0:  91%|▉| 2725/3000 [02:23<00:14, 19.03it/s, loss=0.161, test_loss=0.\n",
      "MS - Fold 1:  78%|▊| 2351/3000 [01:58<00:32, 19.84it/s, loss=0.204, test_loss=0.\n",
      "MS - Fold 2:  61%|▌| 1816/3000 [01:37<01:03, 18.65it/s, loss=0.172, test_loss=0.\n",
      "MS - Fold 3: 100%|█| 3000/3000 [02:41<00:00, 18.61it/s, loss=0.186, test_loss=0.\n",
      "MS - Fold 4:  71%|▋| 2130/3000 [01:52<00:45, 19.00it/s, loss=0.2, test_loss=0.02\n"
     ]
    },
    {
     "name": "stdout",
     "output_type": "stream",
     "text": [
      "Mean Accuracy (MS): 0.9961\n",
      "Mean Sensitivity (MS): 0.9966\n",
      "Mean Specificity (MS): 0.9953\n",
      "Mean AUC (MS): 0.9997\n",
      "Working on IAA dataset: 279 samples\n"
     ]
    },
    {
     "name": "stderr",
     "output_type": "stream",
     "text": [
      "IAA - Fold 0:  45%|▍| 1338/3000 [00:39<00:49, 33.85it/s, loss=0.168, test_loss=0\n",
      "IAA - Fold 1:  65%|▋| 1944/3000 [00:57<00:31, 33.55it/s, loss=0.195, test_loss=0\n",
      "IAA - Fold 2:  61%|▌| 1816/3000 [00:52<00:34, 34.27it/s, loss=0.177, test_loss=0\n",
      "IAA - Fold 3:  60%|▌| 1805/3000 [00:53<00:35, 33.50it/s, loss=0.157, test_loss=0\n",
      "IAA - Fold 4:  65%|▋| 1962/3000 [00:55<00:29, 35.49it/s, loss=0.212, test_loss=0\n"
     ]
    },
    {
     "name": "stdout",
     "output_type": "stream",
     "text": [
      "Mean Accuracy (IAA): 0.9319\n",
      "Mean Sensitivity (IAA): 0.8000\n",
      "Mean Specificity (IAA): 0.9720\n",
      "Mean AUC (IAA): 0.9764\n",
      "Working on RA dataset: 320 samples\n"
     ]
    },
    {
     "name": "stderr",
     "output_type": "stream",
     "text": [
      "RA - Fold 0:  65%|▋| 1942/3000 [01:03<00:34, 30.82it/s, loss=0.184, test_loss=0.\n",
      "RA - Fold 1:  68%|▋| 2034/3000 [01:05<00:31, 31.12it/s, loss=0.169, test_loss=0.\n",
      "RA - Fold 2:  46%|▍| 1384/3000 [00:44<00:52, 30.80it/s, loss=0.182, test_loss=0.\n",
      "RA - Fold 3:  59%|▌| 1767/3000 [00:57<00:40, 30.74it/s, loss=0.223, test_loss=0.\n",
      "RA - Fold 4:  34%|▎| 1033/3000 [00:34<01:05, 30.26it/s, loss=0.187, test_loss=0.\n"
     ]
    },
    {
     "name": "stdout",
     "output_type": "stream",
     "text": [
      "Mean Accuracy (RA): 0.8938\n",
      "Mean Sensitivity (RA): 0.8396\n",
      "Mean Specificity (RA): 0.9206\n",
      "Mean AUC (RA): 0.9575\n",
      "Working on T1D dataset: 394 samples\n"
     ]
    },
    {
     "name": "stderr",
     "output_type": "stream",
     "text": [
      "T1D - Fold 0:  70%|▋| 2114/3000 [01:24<00:35, 25.00it/s, loss=0.144, test_loss=0\n",
      "T1D - Fold 1:  59%|▌| 1780/3000 [01:10<00:48, 25.26it/s, loss=0.154, test_loss=0\n",
      "T1D - Fold 2:  69%|▋| 2061/3000 [01:22<00:37, 25.02it/s, loss=0.151, test_loss=0\n",
      "T1D - Fold 3: 100%|█| 3000/3000 [01:57<00:00, 25.45it/s, loss=0.168, test_loss=0\n",
      "T1D - Fold 4:  83%|▊| 2493/3000 [01:38<00:20, 25.32it/s, loss=0.18, test_loss=0.\n"
     ]
    },
    {
     "name": "stdout",
     "output_type": "stream",
     "text": [
      "Mean Accuracy (T1D): 0.9670\n",
      "Mean Sensitivity (T1D): 0.9556\n",
      "Mean Specificity (T1D): 0.9766\n",
      "Mean AUC (T1D): 0.9967\n",
      "Working on MS dataset: 508 samples\n"
     ]
    },
    {
     "name": "stderr",
     "output_type": "stream",
     "text": [
      "MS - Fold 0: 100%|█| 3000/3000 [02:34<00:00, 19.37it/s, loss=0.221, test_loss=0.\n",
      "MS - Fold 1: 100%|█| 3000/3000 [02:37<00:00, 19.07it/s, loss=0.145, test_loss=0.\n",
      "MS - Fold 2:  65%|▋| 1952/3000 [01:43<00:55, 18.90it/s, loss=0.196, test_loss=0.\n",
      "MS - Fold 3: 100%|█| 3000/3000 [02:39<00:00, 18.84it/s, loss=0.171, test_loss=0.\n",
      "MS - Fold 4: 100%|█| 3000/3000 [02:39<00:00, 18.76it/s, loss=0.161, test_loss=0.\n"
     ]
    },
    {
     "name": "stdout",
     "output_type": "stream",
     "text": [
      "Mean Accuracy (MS): 0.9724\n",
      "Mean Sensitivity (MS): 0.9932\n",
      "Mean Specificity (MS): 0.9439\n",
      "Mean AUC (MS): 0.9993\n",
      "Working on IAA dataset: 279 samples\n"
     ]
    },
    {
     "name": "stderr",
     "output_type": "stream",
     "text": [
      "IAA - Fold 0:  40%|▍| 1214/3000 [00:35<00:51, 34.42it/s, loss=0.232, test_loss=0\n",
      "IAA - Fold 1:  70%|▋| 2100/3000 [00:59<00:25, 35.30it/s, loss=0.177, test_loss=0\n",
      "IAA - Fold 2:  69%|▋| 2061/3000 [00:58<00:26, 35.14it/s, loss=0.242, test_loss=0\n",
      "IAA - Fold 3:  82%|▊| 2471/3000 [01:09<00:14, 35.30it/s, loss=0.21, test_loss=0.\n",
      "IAA - Fold 4:  75%|▊| 2256/3000 [01:04<00:21, 35.03it/s, loss=0.202, test_loss=0\n"
     ]
    },
    {
     "name": "stdout",
     "output_type": "stream",
     "text": [
      "Mean Accuracy (IAA): 0.9355\n",
      "Mean Sensitivity (IAA): 0.7846\n",
      "Mean Specificity (IAA): 0.9813\n",
      "Mean AUC (IAA): 0.9773\n",
      "Working on RA dataset: 320 samples\n"
     ]
    },
    {
     "name": "stderr",
     "output_type": "stream",
     "text": [
      "RA - Fold 0:  54%|▌| 1615/3000 [00:52<00:44, 30.98it/s, loss=0.189, test_loss=0.\n",
      "RA - Fold 1:  32%|▎| 951/3000 [00:30<01:06, 30.74it/s, loss=0.23, test_loss=0.49\n",
      "RA - Fold 2:  62%|▌| 1872/3000 [01:00<00:36, 30.92it/s, loss=0.175, test_loss=0.\n",
      "RA - Fold 3:  18%|▏| 541/3000 [00:18<01:22, 29.95it/s, loss=0.22, test_loss=0.68\n",
      "RA - Fold 4:  82%|▊| 2459/3000 [01:21<00:17, 30.21it/s, loss=0.179, test_loss=0.\n"
     ]
    },
    {
     "name": "stdout",
     "output_type": "stream",
     "text": [
      "Mean Accuracy (RA): 0.8000\n",
      "Mean Sensitivity (RA): 0.5755\n",
      "Mean Specificity (RA): 0.9112\n",
      "Mean AUC (RA): 0.8951\n",
      "Working on T1D dataset: 394 samples\n"
     ]
    },
    {
     "name": "stderr",
     "output_type": "stream",
     "text": [
      "T1D - Fold 0:  74%|▋| 2235/3000 [01:31<00:31, 24.50it/s, loss=0.187, test_loss=0\n",
      "T1D - Fold 1:  87%|▊| 2615/3000 [01:45<00:15, 24.67it/s, loss=0.176, test_loss=0\n",
      "T1D - Fold 2:  38%|▍| 1130/3000 [00:46<01:16, 24.56it/s, loss=0.188, test_loss=0\n",
      "T1D - Fold 3:  86%|▊| 2576/3000 [01:43<00:17, 24.79it/s, loss=0.166, test_loss=0\n",
      "T1D - Fold 4:  69%|▋| 2061/3000 [01:25<00:39, 24.06it/s, loss=0.16, test_loss=0.\n"
     ]
    },
    {
     "name": "stdout",
     "output_type": "stream",
     "text": [
      "Mean Accuracy (T1D): 0.9721\n",
      "Mean Sensitivity (T1D): 0.9556\n",
      "Mean Specificity (T1D): 0.9860\n",
      "Mean AUC (T1D): 0.9978\n",
      "Working on MS dataset: 508 samples\n"
     ]
    },
    {
     "name": "stderr",
     "output_type": "stream",
     "text": [
      "MS - Fold 0:  61%|▌| 1826/3000 [01:39<01:03, 18.37it/s, loss=0.173, test_loss=0.\n",
      "MS - Fold 1: 100%|█| 3000/3000 [02:43<00:00, 18.40it/s, loss=0.172, test_loss=0.\n",
      "MS - Fold 2: 100%|█| 3000/3000 [02:36<00:00, 19.14it/s, loss=0.201, test_loss=0.\n",
      "MS - Fold 3:  84%|▊| 2517/3000 [02:11<00:25, 19.17it/s, loss=0.211, test_loss=0.\n",
      "MS - Fold 4:  94%|▉| 2821/3000 [02:26<00:09, 19.20it/s, loss=0.19, test_loss=0.0\n"
     ]
    },
    {
     "name": "stdout",
     "output_type": "stream",
     "text": [
      "Mean Accuracy (MS): 0.9921\n",
      "Mean Sensitivity (MS): 0.9932\n",
      "Mean Specificity (MS): 0.9907\n",
      "Mean AUC (MS): 0.9998\n",
      "Working on IAA dataset: 279 samples\n"
     ]
    },
    {
     "name": "stderr",
     "output_type": "stream",
     "text": [
      "IAA - Fold 0:  59%|▌| 1772/3000 [00:50<00:35, 34.83it/s, loss=0.186, test_loss=0\n",
      "IAA - Fold 1:  57%|▌| 1712/3000 [00:48<00:36, 35.65it/s, loss=0.173, test_loss=0\n",
      "IAA - Fold 2:  56%|▌| 1693/3000 [00:48<00:37, 35.07it/s, loss=0.161, test_loss=0\n",
      "IAA - Fold 3: 100%|█| 3000/3000 [01:25<00:00, 35.27it/s, loss=0.183, test_loss=0\n",
      "IAA - Fold 4:  48%|▍| 1445/3000 [00:41<00:44, 34.73it/s, loss=0.162, test_loss=0\n"
     ]
    },
    {
     "name": "stdout",
     "output_type": "stream",
     "text": [
      "Mean Accuracy (IAA): 0.9462\n",
      "Mean Sensitivity (IAA): 0.8308\n",
      "Mean Specificity (IAA): 0.9813\n",
      "Mean AUC (IAA): 0.9817\n",
      "Working on RA dataset: 320 samples\n"
     ]
    },
    {
     "name": "stderr",
     "output_type": "stream",
     "text": [
      "RA - Fold 0:  73%|▋| 2183/3000 [01:11<00:26, 30.73it/s, loss=0.163, test_loss=0.\n",
      "RA - Fold 1:  52%|▌| 1574/3000 [00:50<00:45, 31.09it/s, loss=0.144, test_loss=0.\n",
      "RA - Fold 2:  32%|▎| 967/3000 [00:31<01:06, 30.42it/s, loss=0.173, test_loss=0.4\n",
      "RA - Fold 3:  88%|▉| 2652/3000 [01:26<00:11, 30.53it/s, loss=0.179, test_loss=0.\n",
      "RA - Fold 4:  61%|▌| 1834/3000 [00:59<00:37, 30.71it/s, loss=0.184, test_loss=0.\n"
     ]
    },
    {
     "name": "stdout",
     "output_type": "stream",
     "text": [
      "Mean Accuracy (RA): 0.8875\n",
      "Mean Sensitivity (RA): 0.8113\n",
      "Mean Specificity (RA): 0.9252\n",
      "Mean AUC (RA): 0.9468\n",
      "Working on T1D dataset: 394 samples\n"
     ]
    },
    {
     "name": "stderr",
     "output_type": "stream",
     "text": [
      "T1D - Fold 0:  86%|▊| 2593/3000 [01:44<00:16, 24.76it/s, loss=0.18, test_loss=0.\n",
      "T1D - Fold 1:  60%|▌| 1809/3000 [01:13<00:48, 24.77it/s, loss=0.207, test_loss=0\n",
      "T1D - Fold 2:  37%|▎| 1117/3000 [00:44<01:15, 25.01it/s, loss=0.192, test_loss=0\n",
      "T1D - Fold 3:  91%|▉| 2734/3000 [01:48<00:10, 25.09it/s, loss=0.174, test_loss=0\n",
      "T1D - Fold 4:  41%|▍| 1227/3000 [00:48<01:10, 25.15it/s, loss=0.153, test_loss=0\n"
     ]
    },
    {
     "name": "stdout",
     "output_type": "stream",
     "text": [
      "Mean Accuracy (T1D): 0.9797\n",
      "Mean Sensitivity (T1D): 0.9722\n",
      "Mean Specificity (T1D): 0.9860\n",
      "Mean AUC (T1D): 0.9977\n",
      "Working on MS dataset: 508 samples\n"
     ]
    },
    {
     "name": "stderr",
     "output_type": "stream",
     "text": [
      "MS - Fold 0:  68%|▋| 2029/3000 [01:44<00:50, 19.34it/s, loss=0.179, test_loss=0.\n",
      "MS - Fold 1:  82%|▊| 2455/3000 [02:10<00:29, 18.78it/s, loss=0.17, test_loss=0.0\n",
      "MS - Fold 2:  72%|▋| 2149/3000 [01:53<00:44, 18.92it/s, loss=0.188, test_loss=0.\n",
      "MS - Fold 3: 100%|█| 3000/3000 [02:42<00:00, 18.49it/s, loss=0.184, test_loss=0.\n",
      "MS - Fold 4:  78%|▊| 2327/3000 [02:05<00:36, 18.49it/s, loss=0.197, test_loss=0.\n"
     ]
    },
    {
     "name": "stdout",
     "output_type": "stream",
     "text": [
      "Mean Accuracy (MS): 0.9941\n",
      "Mean Sensitivity (MS): 0.9932\n",
      "Mean Specificity (MS): 0.9953\n",
      "Mean AUC (MS): 0.9996\n",
      "Working on IAA dataset: 279 samples\n"
     ]
    },
    {
     "name": "stderr",
     "output_type": "stream",
     "text": [
      "IAA - Fold 0:  50%|▌| 1506/3000 [00:43<00:43, 34.54it/s, loss=0.197, test_loss=0\n",
      "IAA - Fold 1: 100%|█| 3000/3000 [01:27<00:00, 34.11it/s, loss=0.13, test_loss=0.\n",
      "IAA - Fold 2:  79%|▊| 2383/3000 [01:10<00:18, 33.80it/s, loss=0.207, test_loss=0\n",
      "IAA - Fold 3:  76%|▊| 2292/3000 [01:06<00:20, 34.49it/s, loss=0.154, test_loss=0\n",
      "IAA - Fold 4:  73%|▋| 2178/3000 [01:02<00:23, 34.77it/s, loss=0.144, test_loss=0\n"
     ]
    },
    {
     "name": "stdout",
     "output_type": "stream",
     "text": [
      "Mean Accuracy (IAA): 0.9247\n",
      "Mean Sensitivity (IAA): 0.7846\n",
      "Mean Specificity (IAA): 0.9673\n",
      "Mean AUC (IAA): 0.9717\n",
      "Working on RA dataset: 320 samples\n"
     ]
    },
    {
     "name": "stderr",
     "output_type": "stream",
     "text": [
      "RA - Fold 0:  58%|▌| 1753/3000 [00:57<00:40, 30.43it/s, loss=0.188, test_loss=0.\n",
      "RA - Fold 1:  70%|▋| 2086/3000 [01:06<00:29, 31.28it/s, loss=0.188, test_loss=0.\n",
      "RA - Fold 2:  46%|▍| 1377/3000 [00:44<00:52, 30.88it/s, loss=0.18, test_loss=0.6\n",
      "RA - Fold 3:  86%|▊| 2575/3000 [01:22<00:13, 31.04it/s, loss=0.168, test_loss=0.\n",
      "RA - Fold 4:  76%|▊| 2289/3000 [01:13<00:22, 30.97it/s, loss=0.229, test_loss=0.\n"
     ]
    },
    {
     "name": "stdout",
     "output_type": "stream",
     "text": [
      "Mean Accuracy (RA): 0.9062\n",
      "Mean Sensitivity (RA): 0.8302\n",
      "Mean Specificity (RA): 0.9439\n",
      "Mean AUC (RA): 0.9598\n",
      "Working on T1D dataset: 394 samples\n"
     ]
    },
    {
     "name": "stderr",
     "output_type": "stream",
     "text": [
      "T1D - Fold 0:  58%|▌| 1742/3000 [01:08<00:49, 25.57it/s, loss=0.189, test_loss=0\n",
      "T1D - Fold 1: 100%|█| 3000/3000 [01:58<00:00, 25.32it/s, loss=0.165, test_loss=0\n",
      "T1D - Fold 2:  45%|▍| 1357/3000 [00:53<01:04, 25.36it/s, loss=0.158, test_loss=0\n",
      "T1D - Fold 3:  71%|▋| 2118/3000 [01:24<00:35, 25.01it/s, loss=0.189, test_loss=0\n",
      "T1D - Fold 4:  60%|▌| 1787/3000 [01:10<00:47, 25.48it/s, loss=0.132, test_loss=0\n"
     ]
    },
    {
     "name": "stdout",
     "output_type": "stream",
     "text": [
      "Mean Accuracy (T1D): 0.9772\n",
      "Mean Sensitivity (T1D): 0.9667\n",
      "Mean Specificity (T1D): 0.9860\n",
      "Mean AUC (T1D): 0.9986\n",
      "Working on MS dataset: 508 samples\n"
     ]
    },
    {
     "name": "stderr",
     "output_type": "stream",
     "text": [
      "MS - Fold 0:  78%|▊| 2338/3000 [02:05<00:35, 18.68it/s, loss=0.162, test_loss=0.\n",
      "MS - Fold 1: 100%|█| 3000/3000 [02:38<00:00, 18.97it/s, loss=0.139, test_loss=0.\n",
      "MS - Fold 2: 100%|█| 3000/3000 [02:39<00:00, 18.75it/s, loss=0.157, test_loss=0.\n",
      "MS - Fold 3:  96%|▉| 2883/3000 [02:31<00:06, 18.98it/s, loss=0.197, test_loss=0.\n",
      "MS - Fold 4:  82%|▊| 2446/3000 [02:06<00:28, 19.32it/s, loss=0.186, test_loss=0.\n"
     ]
    },
    {
     "name": "stdout",
     "output_type": "stream",
     "text": [
      "Mean Accuracy (MS): 0.9941\n",
      "Mean Sensitivity (MS): 0.9966\n",
      "Mean Specificity (MS): 0.9907\n",
      "Mean AUC (MS): 0.9999\n",
      "Working on IAA dataset: 279 samples\n"
     ]
    },
    {
     "name": "stderr",
     "output_type": "stream",
     "text": [
      "IAA - Fold 0:  36%|▎| 1094/3000 [00:31<00:54, 34.96it/s, loss=0.194, test_loss=0\n",
      "IAA - Fold 1:  91%|▉| 2728/3000 [01:17<00:07, 35.29it/s, loss=0.207, test_loss=0\n",
      "IAA - Fold 2:  77%|▊| 2319/3000 [01:05<00:19, 35.23it/s, loss=0.207, test_loss=0\n",
      "IAA - Fold 3:  60%|▌| 1811/3000 [00:51<00:33, 35.25it/s, loss=0.173, test_loss=0\n",
      "IAA - Fold 4:  71%|▋| 2132/3000 [01:00<00:24, 35.18it/s, loss=0.189, test_loss=0\n"
     ]
    },
    {
     "name": "stdout",
     "output_type": "stream",
     "text": [
      "Mean Accuracy (IAA): 0.9391\n",
      "Mean Sensitivity (IAA): 0.7846\n",
      "Mean Specificity (IAA): 0.9860\n",
      "Mean AUC (IAA): 0.9709\n",
      "Working on RA dataset: 320 samples\n"
     ]
    },
    {
     "name": "stderr",
     "output_type": "stream",
     "text": [
      "RA - Fold 0:  54%|▌| 1632/3000 [00:52<00:44, 30.92it/s, loss=0.206, test_loss=0.\n",
      "RA - Fold 1:  50%|▍| 1488/3000 [00:49<00:49, 30.35it/s, loss=0.161, test_loss=0.\n",
      "RA - Fold 2:  55%|▌| 1659/3000 [00:55<00:44, 29.94it/s, loss=0.189, test_loss=0.\n",
      "RA - Fold 3:  56%|▌| 1677/3000 [00:55<00:43, 30.21it/s, loss=0.18, test_loss=0.2\n",
      "RA - Fold 4:  50%|▌| 1503/3000 [00:50<00:49, 30.05it/s, loss=0.181, test_loss=0.\n"
     ]
    },
    {
     "name": "stdout",
     "output_type": "stream",
     "text": [
      "Mean Accuracy (RA): 0.8562\n",
      "Mean Sensitivity (RA): 0.7453\n",
      "Mean Specificity (RA): 0.9112\n",
      "Mean AUC (RA): 0.9432\n",
      "Working on T1D dataset: 394 samples\n"
     ]
    },
    {
     "name": "stderr",
     "output_type": "stream",
     "text": [
      "T1D - Fold 0:  82%|▊| 2463/3000 [01:41<00:22, 24.22it/s, loss=0.143, test_loss=0\n",
      "T1D - Fold 1:  42%|▍| 1265/3000 [00:52<01:12, 23.94it/s, loss=0.198, test_loss=0\n",
      "T1D - Fold 2:  51%|▌| 1538/3000 [01:02<00:59, 24.65it/s, loss=0.167, test_loss=0\n",
      "T1D - Fold 3: 100%|█| 3000/3000 [02:05<00:00, 23.97it/s, loss=0.185, test_loss=0\n",
      "T1D - Fold 4: 100%|█| 3000/3000 [01:57<00:00, 25.59it/s, loss=0.149, test_loss=0\n"
     ]
    },
    {
     "name": "stdout",
     "output_type": "stream",
     "text": [
      "Mean Accuracy (T1D): 0.9721\n",
      "Mean Sensitivity (T1D): 0.9611\n",
      "Mean Specificity (T1D): 0.9813\n",
      "Mean AUC (T1D): 0.9960\n",
      "Working on MS dataset: 508 samples\n"
     ]
    },
    {
     "name": "stderr",
     "output_type": "stream",
     "text": [
      "MS - Fold 0: 100%|█| 3000/3000 [02:39<00:00, 18.77it/s, loss=0.17, test_loss=0.1\n",
      "MS - Fold 1:  78%|▊| 2344/3000 [02:02<00:34, 19.17it/s, loss=0.184, test_loss=0.\n",
      "MS - Fold 2: 100%|█| 3000/3000 [02:35<00:00, 19.32it/s, loss=0.138, test_loss=0.\n",
      "MS - Fold 3:  86%|▊| 2590/3000 [02:12<00:20, 19.54it/s, loss=0.184, test_loss=0.\n",
      "MS - Fold 4:  98%|▉| 2953/3000 [02:34<00:02, 19.06it/s, loss=0.168, test_loss=0.\n"
     ]
    },
    {
     "name": "stdout",
     "output_type": "stream",
     "text": [
      "Mean Accuracy (MS): 0.9744\n",
      "Mean Sensitivity (MS): 0.9694\n",
      "Mean Specificity (MS): 0.9813\n",
      "Mean AUC (MS): 0.9968\n",
      "Working on IAA dataset: 279 samples\n"
     ]
    },
    {
     "name": "stderr",
     "output_type": "stream",
     "text": [
      "IAA - Fold 0:  54%|▌| 1632/3000 [00:45<00:38, 35.67it/s, loss=0.192, test_loss=0\n",
      "IAA - Fold 1:  53%|▌| 1583/3000 [00:45<00:40, 35.05it/s, loss=0.154, test_loss=0\n",
      "IAA - Fold 2:  54%|▌| 1625/3000 [00:46<00:39, 34.99it/s, loss=0.194, test_loss=0\n",
      "IAA - Fold 3:  76%|▊| 2288/3000 [01:05<00:20, 35.01it/s, loss=0.156, test_loss=0\n",
      "IAA - Fold 4:  43%|▍| 1294/3000 [00:38<00:50, 33.63it/s, loss=0.15, test_loss=0.\n"
     ]
    },
    {
     "name": "stdout",
     "output_type": "stream",
     "text": [
      "Mean Accuracy (IAA): 0.9391\n",
      "Mean Sensitivity (IAA): 0.7846\n",
      "Mean Specificity (IAA): 0.9860\n",
      "Mean AUC (IAA): 0.9725\n",
      "Working on RA dataset: 320 samples\n"
     ]
    },
    {
     "name": "stderr",
     "output_type": "stream",
     "text": [
      "RA - Fold 0:  83%|▊| 2481/3000 [01:22<00:17, 30.15it/s, loss=0.225, test_loss=0.\n",
      "RA - Fold 1:  61%|▌| 1832/3000 [01:01<00:39, 29.82it/s, loss=0.178, test_loss=0.\n",
      "RA - Fold 2:  27%|▎| 816/3000 [00:27<01:12, 30.14it/s, loss=0.193, test_loss=0.5\n",
      "RA - Fold 3:  68%|▋| 2030/3000 [01:07<00:32, 30.29it/s, loss=0.179, test_loss=0.\n",
      "RA - Fold 4:  41%|▍| 1221/3000 [00:40<00:58, 30.47it/s, loss=0.174, test_loss=0.\n"
     ]
    },
    {
     "name": "stdout",
     "output_type": "stream",
     "text": [
      "Mean Accuracy (RA): 0.8344\n",
      "Mean Sensitivity (RA): 0.6981\n",
      "Mean Specificity (RA): 0.9019\n",
      "Mean AUC (RA): 0.9047\n",
      "Working on T1D dataset: 394 samples\n"
     ]
    },
    {
     "name": "stderr",
     "output_type": "stream",
     "text": [
      "T1D - Fold 0:  44%|▍| 1312/3000 [00:53<01:08, 24.47it/s, loss=0.203, test_loss=0\n",
      "T1D - Fold 1:  94%|▉| 2809/3000 [01:53<00:07, 24.77it/s, loss=0.171, test_loss=0\n",
      "T1D - Fold 2:  63%|▋| 1884/3000 [01:16<00:45, 24.71it/s, loss=0.136, test_loss=0\n",
      "T1D - Fold 3:  63%|▋| 1897/3000 [01:16<00:44, 24.79it/s, loss=0.174, test_loss=0\n",
      "T1D - Fold 4:  99%|▉| 2962/3000 [01:57<00:01, 25.24it/s, loss=0.194, test_loss=0\n"
     ]
    },
    {
     "name": "stdout",
     "output_type": "stream",
     "text": [
      "Mean Accuracy (T1D): 0.9721\n",
      "Mean Sensitivity (T1D): 0.9611\n",
      "Mean Specificity (T1D): 0.9813\n",
      "Mean AUC (T1D): 0.9981\n",
      "Working on MS dataset: 508 samples\n"
     ]
    },
    {
     "name": "stderr",
     "output_type": "stream",
     "text": [
      "MS - Fold 0:  55%|▌| 1635/3000 [01:24<01:10, 19.25it/s, loss=0.182, test_loss=0.\n",
      "MS - Fold 1: 100%|█| 3000/3000 [02:33<00:00, 19.54it/s, loss=0.186, test_loss=0.\n",
      "MS - Fold 2:  72%|▋| 2175/3000 [01:55<00:43, 18.81it/s, loss=0.142, test_loss=0.\n",
      "MS - Fold 3:  83%|▊| 2498/3000 [02:11<00:26, 18.99it/s, loss=0.156, test_loss=0.\n",
      "MS - Fold 4:  84%|▊| 2523/3000 [02:16<00:25, 18.49it/s, loss=0.22, test_loss=0.1\n"
     ]
    },
    {
     "name": "stdout",
     "output_type": "stream",
     "text": [
      "Mean Accuracy (MS): 0.9961\n",
      "Mean Sensitivity (MS): 1.0000\n",
      "Mean Specificity (MS): 0.9907\n",
      "Mean AUC (MS): 0.9998\n",
      "Working on IAA dataset: 279 samples\n"
     ]
    },
    {
     "name": "stderr",
     "output_type": "stream",
     "text": [
      "IAA - Fold 0:  69%|▋| 2067/3000 [01:00<00:27, 34.07it/s, loss=0.125, test_loss=0\n",
      "IAA - Fold 1:  96%|▉| 2895/3000 [01:24<00:03, 34.15it/s, loss=0.145, test_loss=0\n",
      "IAA - Fold 2:  47%|▍| 1423/3000 [00:41<00:45, 34.55it/s, loss=0.146, test_loss=0\n",
      "IAA - Fold 3:  60%|▌| 1802/3000 [00:53<00:35, 33.78it/s, loss=0.181, test_loss=0\n",
      "IAA - Fold 4:  54%|▌| 1633/3000 [00:48<00:40, 33.38it/s, loss=0.18, test_loss=0.\n"
     ]
    },
    {
     "name": "stdout",
     "output_type": "stream",
     "text": [
      "Mean Accuracy (IAA): 0.9498\n",
      "Mean Sensitivity (IAA): 0.8615\n",
      "Mean Specificity (IAA): 0.9766\n",
      "Mean AUC (IAA): 0.9817\n",
      "Working on RA dataset: 320 samples\n"
     ]
    },
    {
     "name": "stderr",
     "output_type": "stream",
     "text": [
      "RA - Fold 0:  57%|▌| 1697/3000 [00:54<00:42, 30.89it/s, loss=0.215, test_loss=0.\n",
      "RA - Fold 1:  67%|▋| 1996/3000 [01:04<00:32, 31.04it/s, loss=0.207, test_loss=0.\n",
      "RA - Fold 2:  37%|▎| 1106/3000 [00:36<01:02, 30.22it/s, loss=0.176, test_loss=0.\n",
      "RA - Fold 3:  55%|▌| 1646/3000 [00:54<00:44, 30.18it/s, loss=0.166, test_loss=0.\n",
      "RA - Fold 4:  34%|▎| 1032/3000 [00:33<01:03, 30.90it/s, loss=0.194, test_loss=0.\n"
     ]
    },
    {
     "name": "stdout",
     "output_type": "stream",
     "text": [
      "Mean Accuracy (RA): 0.8844\n",
      "Mean Sensitivity (RA): 0.8019\n",
      "Mean Specificity (RA): 0.9252\n",
      "Mean AUC (RA): 0.9459\n",
      "Working on T1D dataset: 394 samples\n"
     ]
    },
    {
     "name": "stderr",
     "output_type": "stream",
     "text": [
      "T1D - Fold 0:  69%|▋| 2074/3000 [01:21<00:36, 25.49it/s, loss=0.193, test_loss=0\n",
      "T1D - Fold 1:  86%|▊| 2584/3000 [01:42<00:16, 25.17it/s, loss=0.158, test_loss=0\n",
      "T1D - Fold 2:  50%|▌| 1504/3000 [01:00<01:00, 24.87it/s, loss=0.201, test_loss=0\n",
      "T1D - Fold 3:  78%|▊| 2349/3000 [01:33<00:25, 25.21it/s, loss=0.213, test_loss=0\n",
      "T1D - Fold 4:  58%|▌| 1748/3000 [01:10<00:50, 24.93it/s, loss=0.141, test_loss=0\n"
     ]
    },
    {
     "name": "stdout",
     "output_type": "stream",
     "text": [
      "Mean Accuracy (T1D): 0.9822\n",
      "Mean Sensitivity (T1D): 0.9778\n",
      "Mean Specificity (T1D): 0.9860\n",
      "Mean AUC (T1D): 0.9975\n",
      "Working on MS dataset: 508 samples\n"
     ]
    },
    {
     "name": "stderr",
     "output_type": "stream",
     "text": [
      "MS - Fold 0:  93%|▉| 2797/3000 [02:24<00:10, 19.38it/s, loss=0.195, test_loss=0.\n",
      "MS - Fold 1: 100%|█| 3000/3000 [02:36<00:00, 19.22it/s, loss=0.133, test_loss=0.\n",
      "MS - Fold 2:  79%|▊| 2379/3000 [02:02<00:32, 19.36it/s, loss=0.179, test_loss=0.\n",
      "MS - Fold 3:  68%|▋| 2050/3000 [01:48<00:50, 18.84it/s, loss=0.189, test_loss=0.\n",
      "MS - Fold 4:  72%|▋| 2152/3000 [01:54<00:45, 18.83it/s, loss=0.152, test_loss=0.\n"
     ]
    },
    {
     "name": "stdout",
     "output_type": "stream",
     "text": [
      "Mean Accuracy (MS): 0.9882\n",
      "Mean Sensitivity (MS): 0.9898\n",
      "Mean Specificity (MS): 0.9860\n",
      "Mean AUC (MS): 0.9996\n",
      "Working on IAA dataset: 279 samples\n"
     ]
    },
    {
     "name": "stderr",
     "output_type": "stream",
     "text": [
      "IAA - Fold 0:  48%|▍| 1430/3000 [00:42<00:46, 33.84it/s, loss=0.186, test_loss=0\n",
      "IAA - Fold 1:  77%|▊| 2322/3000 [01:07<00:19, 34.18it/s, loss=0.153, test_loss=0\n",
      "IAA - Fold 2:  83%|▊| 2479/3000 [01:12<00:15, 34.22it/s, loss=0.172, test_loss=0\n",
      "IAA - Fold 3:  66%|▋| 1983/3000 [00:57<00:29, 34.33it/s, loss=0.183, test_loss=0\n",
      "IAA - Fold 4:  46%|▍| 1383/3000 [00:40<00:47, 34.15it/s, loss=0.195, test_loss=0\n"
     ]
    },
    {
     "name": "stdout",
     "output_type": "stream",
     "text": [
      "Mean Accuracy (IAA): 0.9283\n",
      "Mean Sensitivity (IAA): 0.7692\n",
      "Mean Specificity (IAA): 0.9766\n",
      "Mean AUC (IAA): 0.9688\n",
      "Working on RA dataset: 320 samples\n"
     ]
    },
    {
     "name": "stderr",
     "output_type": "stream",
     "text": [
      "RA - Fold 0:  40%|▍| 1201/3000 [00:39<00:58, 30.63it/s, loss=0.138, test_loss=0.\n",
      "RA - Fold 1:  67%|▋| 1996/3000 [01:04<00:32, 31.14it/s, loss=0.176, test_loss=0.\n",
      "RA - Fold 2:  65%|▋| 1953/3000 [01:03<00:34, 30.64it/s, loss=0.185, test_loss=0.\n",
      "RA - Fold 3:  58%|▌| 1730/3000 [00:56<00:41, 30.64it/s, loss=0.202, test_loss=0.\n",
      "RA - Fold 4:  40%|▍| 1209/3000 [00:38<00:57, 31.01it/s, loss=0.181, test_loss=0.\n"
     ]
    },
    {
     "name": "stdout",
     "output_type": "stream",
     "text": [
      "Mean Accuracy (RA): 0.8750\n",
      "Mean Sensitivity (RA): 0.7830\n",
      "Mean Specificity (RA): 0.9206\n",
      "Mean AUC (RA): 0.9520\n",
      "Working on T1D dataset: 394 samples\n"
     ]
    },
    {
     "name": "stderr",
     "output_type": "stream",
     "text": [
      "T1D - Fold 0:  49%|▍| 1474/3000 [00:59<01:01, 24.80it/s, loss=0.175, test_loss=0\n",
      "T1D - Fold 1:  88%|▉| 2637/3000 [01:46<00:14, 24.78it/s, loss=0.161, test_loss=0\n",
      "T1D - Fold 2:  29%|▎| 857/3000 [00:34<01:26, 24.75it/s, loss=0.203, test_loss=0.\n",
      "T1D - Fold 3:  72%|▋| 2156/3000 [01:25<00:33, 25.08it/s, loss=0.183, test_loss=0\n",
      "T1D - Fold 4:  79%|▊| 2370/3000 [01:36<00:25, 24.43it/s, loss=0.188, test_loss=0\n"
     ]
    },
    {
     "name": "stdout",
     "output_type": "stream",
     "text": [
      "Mean Accuracy (T1D): 0.9746\n",
      "Mean Sensitivity (T1D): 0.9778\n",
      "Mean Specificity (T1D): 0.9720\n",
      "Mean AUC (T1D): 0.9978\n",
      "Working on MS dataset: 508 samples\n"
     ]
    },
    {
     "name": "stderr",
     "output_type": "stream",
     "text": [
      "MS - Fold 0:  67%|▋| 2014/3000 [01:49<00:53, 18.33it/s, loss=0.171, test_loss=0.\n",
      "MS - Fold 1:  72%|▋| 2162/3000 [01:56<00:45, 18.62it/s, loss=0.193, test_loss=0.\n",
      "MS - Fold 2:  46%|▍| 1380/3000 [01:15<01:28, 18.35it/s, loss=0.159, test_loss=0.\n",
      "MS - Fold 3: 100%|█| 3000/3000 [02:38<00:00, 18.88it/s, loss=0.197, test_loss=0.\n",
      "MS - Fold 4:  86%|▊| 2588/3000 [02:18<00:22, 18.63it/s, loss=0.163, test_loss=0.\n"
     ]
    },
    {
     "name": "stdout",
     "output_type": "stream",
     "text": [
      "Mean Accuracy (MS): 0.9902\n",
      "Mean Sensitivity (MS): 0.9898\n",
      "Mean Specificity (MS): 0.9907\n",
      "Mean AUC (MS): 0.9997\n",
      "Working on IAA dataset: 279 samples\n"
     ]
    },
    {
     "name": "stderr",
     "output_type": "stream",
     "text": [
      "IAA - Fold 0:  53%|▌| 1582/3000 [00:46<00:41, 34.24it/s, loss=0.252, test_loss=0\n",
      "IAA - Fold 1: 100%|█| 3000/3000 [01:26<00:00, 34.80it/s, loss=0.153, test_loss=0\n",
      "IAA - Fold 2:  37%|▎| 1107/3000 [00:31<00:54, 34.70it/s, loss=0.146, test_loss=0\n",
      "IAA - Fold 3:  63%|▋| 1876/3000 [00:54<00:32, 34.74it/s, loss=0.134, test_loss=0\n",
      "IAA - Fold 4:  43%|▍| 1294/3000 [00:37<00:49, 34.40it/s, loss=0.165, test_loss=0\n"
     ]
    },
    {
     "name": "stdout",
     "output_type": "stream",
     "text": [
      "Mean Accuracy (IAA): 0.9140\n",
      "Mean Sensitivity (IAA): 0.6769\n",
      "Mean Specificity (IAA): 0.9860\n",
      "Mean AUC (IAA): 0.9542\n",
      "Working on RA dataset: 320 samples\n"
     ]
    },
    {
     "name": "stderr",
     "output_type": "stream",
     "text": [
      "RA - Fold 0:  33%|▎| 984/3000 [00:31<01:05, 30.87it/s, loss=0.171, test_loss=0.5\n",
      "RA - Fold 1:  44%|▍| 1333/3000 [00:42<00:53, 31.21it/s, loss=0.181, test_loss=0.\n",
      "RA - Fold 2:  27%|▎| 815/3000 [00:27<01:12, 30.17it/s, loss=0.198, test_loss=0.4\n",
      "RA - Fold 3:  52%|▌| 1572/3000 [00:51<00:47, 30.26it/s, loss=0.2, test_loss=0.41\n",
      "RA - Fold 4:  70%|▋| 2095/3000 [01:07<00:29, 30.97it/s, loss=0.203, test_loss=0.\n"
     ]
    },
    {
     "name": "stdout",
     "output_type": "stream",
     "text": [
      "Mean Accuracy (RA): 0.8313\n",
      "Mean Sensitivity (RA): 0.7075\n",
      "Mean Specificity (RA): 0.8925\n",
      "Mean AUC (RA): 0.8852\n",
      "Working on T1D dataset: 394 samples\n"
     ]
    },
    {
     "name": "stderr",
     "output_type": "stream",
     "text": [
      "T1D - Fold 0:  63%|▋| 1880/3000 [01:16<00:45, 24.65it/s, loss=0.179, test_loss=0\n",
      "T1D - Fold 1:  60%|▌| 1794/3000 [01:13<00:49, 24.57it/s, loss=0.181, test_loss=0\n",
      "T1D - Fold 2:  58%|▌| 1748/3000 [01:09<00:50, 25.02it/s, loss=0.149, test_loss=0\n",
      "T1D - Fold 3:  71%|▋| 2128/3000 [01:25<00:34, 24.91it/s, loss=0.166, test_loss=0\n",
      "T1D - Fold 4:  67%|▋| 2000/3000 [01:20<00:40, 24.83it/s, loss=0.177, test_loss=0\n"
     ]
    },
    {
     "name": "stdout",
     "output_type": "stream",
     "text": [
      "Mean Accuracy (T1D): 0.9695\n",
      "Mean Sensitivity (T1D): 0.9667\n",
      "Mean Specificity (T1D): 0.9720\n",
      "Mean AUC (T1D): 0.9961\n",
      "Working on MS dataset: 508 samples\n"
     ]
    },
    {
     "name": "stderr",
     "output_type": "stream",
     "text": [
      "MS - Fold 0: 100%|█| 3000/3000 [02:38<00:00, 18.93it/s, loss=0.189, test_loss=0.\n",
      "MS - Fold 1:  80%|▊| 2393/3000 [02:06<00:32, 18.87it/s, loss=0.176, test_loss=0.\n",
      "MS - Fold 2:  83%|▊| 2489/3000 [02:11<00:27, 18.87it/s, loss=0.164, test_loss=0.\n",
      "MS - Fold 3: 100%|█| 3000/3000 [02:40<00:00, 18.64it/s, loss=0.163, test_loss=0.\n",
      "MS - Fold 4:  89%|▉| 2683/3000 [02:20<00:16, 19.03it/s, loss=0.166, test_loss=0.\n"
     ]
    },
    {
     "name": "stdout",
     "output_type": "stream",
     "text": [
      "Mean Accuracy (MS): 0.9823\n",
      "Mean Sensitivity (MS): 0.9932\n",
      "Mean Specificity (MS): 0.9673\n",
      "Mean AUC (MS): 0.9994\n",
      "Working on IAA dataset: 279 samples\n"
     ]
    },
    {
     "name": "stderr",
     "output_type": "stream",
     "text": [
      "IAA - Fold 0:  42%|▍| 1251/3000 [00:35<00:49, 34.98it/s, loss=0.143, test_loss=0\n",
      "IAA - Fold 1:  98%|▉| 2938/3000 [01:24<00:01, 34.78it/s, loss=0.164, test_loss=0\n",
      "IAA - Fold 2:  49%|▍| 1475/3000 [00:42<00:44, 34.49it/s, loss=0.196, test_loss=0\n",
      "IAA - Fold 3:  58%|▌| 1742/3000 [00:50<00:36, 34.84it/s, loss=0.13, test_loss=0.\n",
      "IAA - Fold 4:  61%|▌| 1825/3000 [00:53<00:34, 34.25it/s, loss=0.188, test_loss=0\n"
     ]
    },
    {
     "name": "stdout",
     "output_type": "stream",
     "text": [
      "Mean Accuracy (IAA): 0.9283\n",
      "Mean Sensitivity (IAA): 0.8000\n",
      "Mean Specificity (IAA): 0.9673\n",
      "Mean AUC (IAA): 0.9802\n",
      "Working on RA dataset: 320 samples\n"
     ]
    },
    {
     "name": "stderr",
     "output_type": "stream",
     "text": [
      "RA - Fold 0:  72%|▋| 2172/3000 [01:10<00:26, 30.92it/s, loss=0.223, test_loss=0.\n",
      "RA - Fold 1:  48%|▍| 1425/3000 [00:47<00:52, 29.72it/s, loss=0.181, test_loss=0.\n",
      "RA - Fold 2:  57%|▌| 1706/3000 [00:57<00:43, 29.64it/s, loss=0.178, test_loss=0.\n",
      "RA - Fold 3:  63%|▋| 1887/3000 [01:02<00:36, 30.26it/s, loss=0.179, test_loss=0.\n",
      "RA - Fold 4:  51%|▌| 1537/3000 [00:51<00:49, 29.67it/s, loss=0.166, test_loss=0.\n"
     ]
    },
    {
     "name": "stdout",
     "output_type": "stream",
     "text": [
      "Mean Accuracy (RA): 0.8500\n",
      "Mean Sensitivity (RA): 0.7170\n",
      "Mean Specificity (RA): 0.9159\n",
      "Mean AUC (RA): 0.9275\n",
      "Working on T1D dataset: 394 samples\n"
     ]
    },
    {
     "name": "stderr",
     "output_type": "stream",
     "text": [
      "T1D - Fold 0:  53%|▌| 1589/3000 [01:04<00:57, 24.49it/s, loss=0.164, test_loss=0\n",
      "T1D - Fold 1:  52%|▌| 1562/3000 [01:03<00:58, 24.63it/s, loss=0.208, test_loss=0\n",
      "T1D - Fold 2:  51%|▌| 1540/3000 [01:03<01:00, 24.28it/s, loss=0.164, test_loss=0\n",
      "T1D - Fold 3:  64%|▋| 1920/3000 [01:17<00:43, 24.73it/s, loss=0.194, test_loss=0\n",
      "T1D - Fold 4:  66%|▋| 1968/3000 [01:20<00:42, 24.36it/s, loss=0.152, test_loss=0\n"
     ]
    },
    {
     "name": "stdout",
     "output_type": "stream",
     "text": [
      "Mean Accuracy (T1D): 0.9772\n",
      "Mean Sensitivity (T1D): 0.9722\n",
      "Mean Specificity (T1D): 0.9813\n",
      "Mean AUC (T1D): 0.9967\n",
      "Working on MS dataset: 508 samples\n"
     ]
    },
    {
     "name": "stderr",
     "output_type": "stream",
     "text": [
      "MS - Fold 0:  93%|▉| 2777/3000 [02:25<00:11, 19.13it/s, loss=0.202, test_loss=0.\n",
      "MS - Fold 1:  78%|▊| 2354/3000 [02:01<00:33, 19.34it/s, loss=0.151, test_loss=0.\n",
      "MS - Fold 2:  10%| | 304/3000 [00:15<02:15, 19.88it/s, loss=0.431, test_loss=0.6\n",
      "MS - Fold 3: 100%|█| 3000/3000 [02:35<00:00, 19.27it/s, loss=0.201, test_loss=0.\n",
      "MS - Fold 4:  58%|▌| 1733/3000 [01:32<01:07, 18.67it/s, loss=0.16, test_loss=0.0\n"
     ]
    },
    {
     "name": "stdout",
     "output_type": "stream",
     "text": [
      "Mean Accuracy (MS): 0.8858\n",
      "Mean Sensitivity (MS): 0.9524\n",
      "Mean Specificity (MS): 0.7944\n",
      "Mean AUC (MS): 0.9683\n",
      "Working on IAA dataset: 279 samples\n"
     ]
    },
    {
     "name": "stderr",
     "output_type": "stream",
     "text": [
      "IAA - Fold 0:  43%|▍| 1299/3000 [00:36<00:47, 35.74it/s, loss=0.196, test_loss=0\n",
      "IAA - Fold 1: 100%|█| 3000/3000 [01:24<00:00, 35.41it/s, loss=0.145, test_loss=0\n",
      "IAA - Fold 2:  41%|▍| 1231/3000 [00:35<00:50, 35.17it/s, loss=0.182, test_loss=0\n",
      "IAA - Fold 3:  70%|▋| 2111/3000 [00:59<00:24, 35.56it/s, loss=0.178, test_loss=0\n",
      "IAA - Fold 4:  35%|▎| 1047/3000 [00:30<00:56, 34.74it/s, loss=0.17, test_loss=0.\n"
     ]
    },
    {
     "name": "stdout",
     "output_type": "stream",
     "text": [
      "Mean Accuracy (IAA): 0.8961\n",
      "Mean Sensitivity (IAA): 0.6923\n",
      "Mean Specificity (IAA): 0.9579\n",
      "Mean AUC (IAA): 0.9661\n",
      "Working on RA dataset: 320 samples\n"
     ]
    },
    {
     "name": "stderr",
     "output_type": "stream",
     "text": [
      "RA - Fold 0:  62%|▌| 1860/3000 [00:59<00:36, 31.04it/s, loss=0.214, test_loss=0.\n",
      "RA - Fold 1:  75%|▊| 2264/3000 [01:12<00:23, 31.19it/s, loss=0.131, test_loss=0.\n",
      "RA - Fold 2:  48%|▍| 1455/3000 [00:47<00:50, 30.56it/s, loss=0.165, test_loss=0.\n",
      "RA - Fold 3:  89%|▉| 2675/3000 [01:26<00:10, 30.94it/s, loss=0.2, test_loss=0.16\n",
      "RA - Fold 4:  44%|▍| 1328/3000 [00:43<00:55, 30.29it/s, loss=0.169, test_loss=0.\n"
     ]
    },
    {
     "name": "stdout",
     "output_type": "stream",
     "text": [
      "Mean Accuracy (RA): 0.8844\n",
      "Mean Sensitivity (RA): 0.7925\n",
      "Mean Specificity (RA): 0.9299\n",
      "Mean AUC (RA): 0.9574\n",
      "Working on T1D dataset: 394 samples\n"
     ]
    },
    {
     "name": "stderr",
     "output_type": "stream",
     "text": [
      "T1D - Fold 0:  56%|▌| 1689/3000 [01:06<00:51, 25.29it/s, loss=0.187, test_loss=0\n",
      "T1D - Fold 1:  82%|▊| 2468/3000 [01:38<00:21, 25.05it/s, loss=0.21, test_loss=0.\n",
      "T1D - Fold 2:  37%|▎| 1120/3000 [00:44<01:15, 25.05it/s, loss=0.194, test_loss=0\n",
      "T1D - Fold 3:  92%|▉| 2752/3000 [01:50<00:09, 24.97it/s, loss=0.172, test_loss=0\n",
      "T1D - Fold 4:  61%|▌| 1834/3000 [01:12<00:46, 25.17it/s, loss=0.144, test_loss=0\n"
     ]
    },
    {
     "name": "stdout",
     "output_type": "stream",
     "text": [
      "Mean Accuracy (T1D): 0.9772\n",
      "Mean Sensitivity (T1D): 0.9667\n",
      "Mean Specificity (T1D): 0.9860\n",
      "Mean AUC (T1D): 0.9991\n",
      "Working on MS dataset: 508 samples\n"
     ]
    },
    {
     "name": "stderr",
     "output_type": "stream",
     "text": [
      "MS - Fold 0:  89%|▉| 2658/3000 [02:19<00:17, 19.01it/s, loss=0.2, test_loss=0.09\n",
      "MS - Fold 1: 100%|█| 3000/3000 [02:32<00:00, 19.68it/s, loss=0.179, test_loss=0.\n",
      "MS - Fold 2:  66%|▋| 1969/3000 [01:42<00:53, 19.13it/s, loss=0.177, test_loss=0.\n",
      "MS - Fold 3: 100%|█| 3000/3000 [02:40<00:00, 18.64it/s, loss=0.17, test_loss=0.0\n",
      "MS - Fold 4:  59%|▌| 1760/3000 [01:34<01:06, 18.71it/s, loss=0.179, test_loss=0.\n"
     ]
    },
    {
     "name": "stdout",
     "output_type": "stream",
     "text": [
      "Mean Accuracy (MS): 0.9862\n",
      "Mean Sensitivity (MS): 0.9932\n",
      "Mean Specificity (MS): 0.9766\n",
      "Mean AUC (MS): 0.9992\n",
      "Working on IAA dataset: 279 samples\n"
     ]
    },
    {
     "name": "stderr",
     "output_type": "stream",
     "text": [
      "IAA - Fold 0:  34%|▎| 1013/3000 [00:29<00:57, 34.52it/s, loss=0.18, test_loss=0.\n",
      "IAA - Fold 1:  42%|▍| 1263/3000 [00:37<00:50, 34.06it/s, loss=0.189, test_loss=0\n",
      "IAA - Fold 2:  51%|▌| 1522/3000 [00:44<00:42, 34.53it/s, loss=0.173, test_loss=0\n",
      "IAA - Fold 3:  84%|▊| 2527/3000 [01:13<00:13, 34.51it/s, loss=0.134, test_loss=0\n",
      "IAA - Fold 4:  75%|▋| 2243/3000 [01:06<00:22, 33.78it/s, loss=0.156, test_loss=0\n"
     ]
    },
    {
     "name": "stdout",
     "output_type": "stream",
     "text": [
      "Mean Accuracy (IAA): 0.9247\n",
      "Mean Sensitivity (IAA): 0.7385\n",
      "Mean Specificity (IAA): 0.9813\n",
      "Mean AUC (IAA): 0.9733\n",
      "Working on RA dataset: 320 samples\n"
     ]
    },
    {
     "name": "stderr",
     "output_type": "stream",
     "text": [
      "RA - Fold 0:  58%|▌| 1747/3000 [00:58<00:41, 30.00it/s, loss=0.212, test_loss=0.\n",
      "RA - Fold 1:  60%|▌| 1789/3000 [00:57<00:38, 31.22it/s, loss=0.196, test_loss=0.\n",
      "RA - Fold 2:  76%|▊| 2289/3000 [01:14<00:23, 30.90it/s, loss=0.194, test_loss=0.\n",
      "RA - Fold 3:  69%|▋| 2067/3000 [01:06<00:30, 30.96it/s, loss=0.207, test_loss=0.\n",
      "RA - Fold 4:  51%|▌| 1535/3000 [00:49<00:47, 31.11it/s, loss=0.2, test_loss=0.46\n"
     ]
    },
    {
     "name": "stdout",
     "output_type": "stream",
     "text": [
      "Mean Accuracy (RA): 0.8594\n",
      "Mean Sensitivity (RA): 0.7547\n",
      "Mean Specificity (RA): 0.9112\n",
      "Mean AUC (RA): 0.9391\n",
      "Working on T1D dataset: 394 samples\n"
     ]
    },
    {
     "name": "stderr",
     "output_type": "stream",
     "text": [
      "T1D - Fold 0: 100%|█| 3000/3000 [01:58<00:00, 25.40it/s, loss=0.208, test_loss=0\n",
      "T1D - Fold 1:  57%|▌| 1706/3000 [01:07<00:51, 25.33it/s, loss=0.194, test_loss=0\n",
      "T1D - Fold 2:  36%|▎| 1077/3000 [00:42<01:15, 25.58it/s, loss=0.225, test_loss=0\n",
      "T1D - Fold 3:  47%|▍| 1399/3000 [00:54<01:02, 25.45it/s, loss=0.157, test_loss=0\n",
      "T1D - Fold 4:  70%|▋| 2088/3000 [01:22<00:36, 25.20it/s, loss=0.172, test_loss=0\n"
     ]
    },
    {
     "name": "stdout",
     "output_type": "stream",
     "text": [
      "Mean Accuracy (T1D): 0.9772\n",
      "Mean Sensitivity (T1D): 0.9611\n",
      "Mean Specificity (T1D): 0.9907\n",
      "Mean AUC (T1D): 0.9965\n",
      "Working on MS dataset: 508 samples\n"
     ]
    },
    {
     "name": "stderr",
     "output_type": "stream",
     "text": [
      "MS - Fold 0:  98%|▉| 2940/3000 [02:34<00:03, 19.05it/s, loss=0.188, test_loss=0.\n",
      "MS - Fold 1:  83%|▊| 2493/3000 [02:08<00:26, 19.34it/s, loss=0.207, test_loss=0.\n",
      "MS - Fold 2: 100%|█| 3000/3000 [02:36<00:00, 19.20it/s, loss=0.177, test_loss=0.\n",
      "MS - Fold 3: 100%|█| 3000/3000 [02:39<00:00, 18.76it/s, loss=0.173, test_loss=0.\n",
      "MS - Fold 4:  76%|▊| 2275/3000 [01:59<00:38, 18.97it/s, loss=0.163, test_loss=0.\n"
     ]
    },
    {
     "name": "stdout",
     "output_type": "stream",
     "text": [
      "Mean Accuracy (MS): 0.9764\n",
      "Mean Sensitivity (MS): 0.9830\n",
      "Mean Specificity (MS): 0.9673\n",
      "Mean AUC (MS): 0.9972\n",
      "Working on IAA dataset: 279 samples\n"
     ]
    },
    {
     "name": "stderr",
     "output_type": "stream",
     "text": [
      "IAA - Fold 0:  39%|▍| 1180/3000 [00:34<00:52, 34.42it/s, loss=0.189, test_loss=0\n",
      "IAA - Fold 1:  68%|▋| 2051/3000 [00:58<00:27, 34.86it/s, loss=0.158, test_loss=0\n",
      "IAA - Fold 2:  69%|▋| 2063/3000 [00:59<00:26, 34.91it/s, loss=0.204, test_loss=0\n",
      "IAA - Fold 3:  75%|▊| 2252/3000 [01:04<00:21, 34.70it/s, loss=0.16, test_loss=0.\n",
      "IAA - Fold 4:  45%|▍| 1341/3000 [00:38<00:48, 34.48it/s, loss=0.165, test_loss=0\n"
     ]
    },
    {
     "name": "stdout",
     "output_type": "stream",
     "text": [
      "Mean Accuracy (IAA): 0.9140\n",
      "Mean Sensitivity (IAA): 0.7385\n",
      "Mean Specificity (IAA): 0.9673\n",
      "Mean AUC (IAA): 0.9667\n",
      "Working on RA dataset: 320 samples\n"
     ]
    },
    {
     "name": "stderr",
     "output_type": "stream",
     "text": [
      "RA - Fold 0:  50%|▍| 1487/3000 [00:48<00:48, 30.89it/s, loss=0.206, test_loss=0.\n",
      "RA - Fold 1:  65%|▋| 1940/3000 [01:02<00:34, 31.06it/s, loss=0.18, test_loss=0.8\n",
      "RA - Fold 2:  48%|▍| 1444/3000 [00:46<00:49, 31.16it/s, loss=0.19, test_loss=0.6\n",
      "RA - Fold 3:  53%|▌| 1584/3000 [00:50<00:44, 31.60it/s, loss=0.15, test_loss=0.4\n",
      "RA - Fold 4:  75%|▊| 2250/3000 [01:11<00:23, 31.53it/s, loss=0.15, test_loss=0.5\n"
     ]
    },
    {
     "name": "stdout",
     "output_type": "stream",
     "text": [
      "Mean Accuracy (RA): 0.8562\n",
      "Mean Sensitivity (RA): 0.7547\n",
      "Mean Specificity (RA): 0.9065\n",
      "Mean AUC (RA): 0.9333\n",
      "Working on T1D dataset: 394 samples\n"
     ]
    },
    {
     "name": "stderr",
     "output_type": "stream",
     "text": [
      "T1D - Fold 0:  77%|▊| 2308/3000 [01:32<00:27, 24.94it/s, loss=0.183, test_loss=0\n",
      "T1D - Fold 1:  62%|▌| 1869/3000 [01:14<00:45, 24.99it/s, loss=0.201, test_loss=0\n",
      "T1D - Fold 2:  35%|▎| 1054/3000 [00:43<01:19, 24.37it/s, loss=0.182, test_loss=0\n",
      "T1D - Fold 3:  67%|▋| 2021/3000 [01:23<00:40, 24.24it/s, loss=0.188, test_loss=0\n",
      "T1D - Fold 4:  59%|▌| 1756/3000 [01:11<00:50, 24.61it/s, loss=0.165, test_loss=0\n"
     ]
    },
    {
     "name": "stdout",
     "output_type": "stream",
     "text": [
      "Mean Accuracy (T1D): 0.9822\n",
      "Mean Sensitivity (T1D): 0.9778\n",
      "Mean Specificity (T1D): 0.9860\n",
      "Mean AUC (T1D): 0.9973\n",
      "Working on MS dataset: 508 samples\n"
     ]
    },
    {
     "name": "stderr",
     "output_type": "stream",
     "text": [
      "MS - Fold 0:  75%|▋| 2247/3000 [02:00<00:40, 18.69it/s, loss=0.165, test_loss=0.\n",
      "MS - Fold 1:  79%|▊| 2383/3000 [02:07<00:33, 18.67it/s, loss=0.169, test_loss=0.\n",
      "MS - Fold 2:  36%|▎| 1071/3000 [00:56<01:41, 18.91it/s, loss=0.204, test_loss=0.\n",
      "MS - Fold 3:  83%|▊| 2482/3000 [02:12<00:27, 18.73it/s, loss=0.172, test_loss=0.\n",
      "MS - Fold 4:  70%|▋| 2105/3000 [01:49<00:46, 19.22it/s, loss=0.154, test_loss=0.\n"
     ]
    },
    {
     "name": "stdout",
     "output_type": "stream",
     "text": [
      "Mean Accuracy (MS): 0.9902\n",
      "Mean Sensitivity (MS): 0.9932\n",
      "Mean Specificity (MS): 0.9860\n",
      "Mean AUC (MS): 0.9995\n",
      "Working on IAA dataset: 279 samples\n"
     ]
    },
    {
     "name": "stderr",
     "output_type": "stream",
     "text": [
      "IAA - Fold 0:  60%|▌| 1806/3000 [00:51<00:34, 34.79it/s, loss=0.154, test_loss=0\n",
      "IAA - Fold 1:  45%|▍| 1346/3000 [00:38<00:46, 35.34it/s, loss=0.196, test_loss=0\n",
      "IAA - Fold 2:  90%|▉| 2701/3000 [01:15<00:08, 35.65it/s, loss=0.145, test_loss=0\n",
      "IAA - Fold 3:  63%|▋| 1900/3000 [00:54<00:31, 34.91it/s, loss=0.199, test_loss=0\n",
      "IAA - Fold 4:  45%|▍| 1350/3000 [00:38<00:47, 35.02it/s, loss=0.168, test_loss=0\n"
     ]
    },
    {
     "name": "stdout",
     "output_type": "stream",
     "text": [
      "Mean Accuracy (IAA): 0.9570\n",
      "Mean Sensitivity (IAA): 0.8769\n",
      "Mean Specificity (IAA): 0.9813\n",
      "Mean AUC (IAA): 0.9845\n",
      "Working on RA dataset: 320 samples\n"
     ]
    },
    {
     "name": "stderr",
     "output_type": "stream",
     "text": [
      "RA - Fold 0:  58%|▌| 1727/3000 [00:55<00:40, 31.19it/s, loss=0.169, test_loss=0.\n",
      "RA - Fold 1:  54%|▌| 1624/3000 [00:51<00:43, 31.39it/s, loss=0.13, test_loss=0.3\n",
      "RA - Fold 2:  50%|▍| 1486/3000 [00:47<00:48, 30.98it/s, loss=0.185, test_loss=0.\n",
      "RA - Fold 3:  47%|▍| 1421/3000 [00:45<00:50, 31.00it/s, loss=0.166, test_loss=0.\n",
      "RA - Fold 4:  88%|▉| 2640/3000 [01:23<00:11, 31.47it/s, loss=0.186, test_loss=0.\n"
     ]
    },
    {
     "name": "stdout",
     "output_type": "stream",
     "text": [
      "Mean Accuracy (RA): 0.8781\n",
      "Mean Sensitivity (RA): 0.7830\n",
      "Mean Specificity (RA): 0.9252\n",
      "Mean AUC (RA): 0.9421\n",
      "Working on T1D dataset: 394 samples\n"
     ]
    },
    {
     "name": "stderr",
     "output_type": "stream",
     "text": [
      "T1D - Fold 0:  81%|▊| 2428/3000 [01:35<00:22, 25.48it/s, loss=0.164, test_loss=0\n",
      "T1D - Fold 1:  10%| | 312/3000 [00:11<01:39, 26.93it/s, loss=0.462, test_loss=0.\n",
      "T1D - Fold 2:  33%|▎| 996/3000 [00:39<01:18, 25.46it/s, loss=0.157, test_loss=0.\n",
      "T1D - Fold 3:  84%|▊| 2533/3000 [01:39<00:18, 25.48it/s, loss=0.185, test_loss=0\n",
      "T1D - Fold 4:  53%|▌| 1578/3000 [01:01<00:55, 25.59it/s, loss=0.177, test_loss=0\n"
     ]
    },
    {
     "name": "stdout",
     "output_type": "stream",
     "text": [
      "Mean Accuracy (T1D): 0.9086\n",
      "Mean Sensitivity (T1D): 0.8500\n",
      "Mean Specificity (T1D): 0.9579\n",
      "Mean AUC (T1D): 0.9751\n",
      "Working on MS dataset: 508 samples\n"
     ]
    },
    {
     "name": "stderr",
     "output_type": "stream",
     "text": [
      "MS - Fold 0: 100%|█| 3000/3000 [02:37<00:00, 19.09it/s, loss=0.158, test_loss=0.\n",
      "MS - Fold 1: 100%|█| 3000/3000 [02:37<00:00, 19.04it/s, loss=0.181, test_loss=0.\n",
      "MS - Fold 2:  69%|▋| 2082/3000 [01:48<00:47, 19.18it/s, loss=0.146, test_loss=0.\n",
      "MS - Fold 3: 100%|█| 3000/3000 [02:32<00:00, 19.66it/s, loss=0.156, test_loss=0.\n",
      "MS - Fold 4:  70%|▋| 2107/3000 [01:48<00:45, 19.44it/s, loss=0.19, test_loss=0.0\n"
     ]
    },
    {
     "name": "stdout",
     "output_type": "stream",
     "text": [
      "Mean Accuracy (MS): 0.9744\n",
      "Mean Sensitivity (MS): 0.9932\n",
      "Mean Specificity (MS): 0.9486\n",
      "Mean AUC (MS): 0.9990\n",
      "Working on IAA dataset: 279 samples\n"
     ]
    },
    {
     "name": "stderr",
     "output_type": "stream",
     "text": [
      "IAA - Fold 0:  34%|▎| 1015/3000 [00:29<00:56, 34.98it/s, loss=0.131, test_loss=0\n",
      "IAA - Fold 1:  72%|▋| 2151/3000 [01:01<00:24, 35.05it/s, loss=0.209, test_loss=0\n",
      "IAA - Fold 2:  53%|▌| 1583/3000 [00:44<00:40, 35.31it/s, loss=0.174, test_loss=0\n",
      "IAA - Fold 3:  72%|▋| 2165/3000 [01:01<00:23, 35.11it/s, loss=0.161, test_loss=0\n",
      "IAA - Fold 4:  61%|▌| 1822/3000 [00:52<00:33, 34.68it/s, loss=0.156, test_loss=0\n"
     ]
    },
    {
     "name": "stdout",
     "output_type": "stream",
     "text": [
      "Mean Accuracy (IAA): 0.9534\n",
      "Mean Sensitivity (IAA): 0.8462\n",
      "Mean Specificity (IAA): 0.9860\n",
      "Mean AUC (IAA): 0.9843\n",
      "Working on RA dataset: 320 samples\n"
     ]
    },
    {
     "name": "stderr",
     "output_type": "stream",
     "text": [
      "RA - Fold 0:  39%|▍| 1178/3000 [00:39<01:00, 30.08it/s, loss=0.192, test_loss=0.\n",
      "RA - Fold 1:  48%|▍| 1429/3000 [00:47<00:52, 30.11it/s, loss=0.171, test_loss=0.\n",
      "RA - Fold 2:  39%|▍| 1174/3000 [00:38<01:00, 30.28it/s, loss=0.158, test_loss=0.\n",
      "RA - Fold 3:  82%|▊| 2461/3000 [01:20<00:17, 30.57it/s, loss=0.12, test_loss=0.4\n",
      "RA - Fold 4:  52%|▌| 1559/3000 [00:50<00:47, 30.61it/s, loss=0.172, test_loss=0.\n"
     ]
    },
    {
     "name": "stdout",
     "output_type": "stream",
     "text": [
      "Mean Accuracy (RA): 0.8562\n",
      "Mean Sensitivity (RA): 0.7170\n",
      "Mean Specificity (RA): 0.9252\n",
      "Mean AUC (RA): 0.9080\n",
      "Working on T1D dataset: 394 samples\n"
     ]
    },
    {
     "name": "stderr",
     "output_type": "stream",
     "text": [
      "T1D - Fold 0: 100%|█| 3000/3000 [02:00<00:00, 24.79it/s, loss=0.169, test_loss=0\n",
      "T1D - Fold 1:  59%|▌| 1767/3000 [01:11<00:50, 24.59it/s, loss=0.144, test_loss=0\n",
      "T1D - Fold 2:  43%|▍| 1285/3000 [00:53<01:10, 24.18it/s, loss=0.191, test_loss=0\n",
      "T1D - Fold 3:  45%|▍| 1337/3000 [00:54<01:08, 24.44it/s, loss=0.194, test_loss=0\n",
      "T1D - Fold 4:  74%|▋| 2231/3000 [01:28<00:30, 25.33it/s, loss=0.169, test_loss=0\n"
     ]
    },
    {
     "name": "stdout",
     "output_type": "stream",
     "text": [
      "Mean Accuracy (T1D): 0.9873\n",
      "Mean Sensitivity (T1D): 0.9778\n",
      "Mean Specificity (T1D): 0.9953\n",
      "Mean AUC (T1D): 0.9987\n",
      "Working on MS dataset: 508 samples\n"
     ]
    },
    {
     "name": "stderr",
     "output_type": "stream",
     "text": [
      "MS - Fold 0:  79%|▊| 2360/3000 [02:03<00:33, 19.13it/s, loss=0.178, test_loss=0.\n",
      "MS - Fold 1: 100%|█| 3000/3000 [02:34<00:00, 19.42it/s, loss=0.189, test_loss=0.\n",
      "MS - Fold 2:  86%|▊| 2566/3000 [02:15<00:23, 18.87it/s, loss=0.158, test_loss=0.\n",
      "MS - Fold 3: 100%|█| 3000/3000 [02:37<00:00, 19.04it/s, loss=0.192, test_loss=0.\n",
      "MS - Fold 4:  49%|▍| 1481/3000 [01:16<01:17, 19.48it/s, loss=0.171, test_loss=0.\n"
     ]
    },
    {
     "name": "stdout",
     "output_type": "stream",
     "text": [
      "Mean Accuracy (MS): 0.9803\n",
      "Mean Sensitivity (MS): 0.9864\n",
      "Mean Specificity (MS): 0.9720\n",
      "Mean AUC (MS): 0.9986\n",
      "Working on IAA dataset: 279 samples\n"
     ]
    },
    {
     "name": "stderr",
     "output_type": "stream",
     "text": [
      "IAA - Fold 0:  68%|▋| 2054/3000 [00:58<00:26, 35.28it/s, loss=0.185, test_loss=0\n",
      "IAA - Fold 1: 100%|█| 3000/3000 [01:25<00:00, 35.19it/s, loss=0.152, test_loss=0\n",
      "IAA - Fold 2: 100%|█| 3000/3000 [01:26<00:00, 34.50it/s, loss=0.199, test_loss=0\n",
      "IAA - Fold 3:  95%|▉| 2864/3000 [01:22<00:03, 34.59it/s, loss=0.195, test_loss=0\n",
      "IAA - Fold 4:  69%|▋| 2076/3000 [00:59<00:26, 34.92it/s, loss=0.145, test_loss=0\n"
     ]
    },
    {
     "name": "stdout",
     "output_type": "stream",
     "text": [
      "Mean Accuracy (IAA): 0.9247\n",
      "Mean Sensitivity (IAA): 0.7231\n",
      "Mean Specificity (IAA): 0.9860\n",
      "Mean AUC (IAA): 0.9832\n",
      "Working on RA dataset: 320 samples\n"
     ]
    },
    {
     "name": "stderr",
     "output_type": "stream",
     "text": [
      "RA - Fold 0:  59%|▌| 1768/3000 [00:57<00:40, 30.71it/s, loss=0.192, test_loss=0.\n",
      "RA - Fold 1:  52%|▌| 1571/3000 [00:51<00:46, 30.56it/s, loss=0.18, test_loss=0.4\n",
      "RA - Fold 2:  32%|▎| 972/3000 [00:32<01:06, 30.32it/s, loss=0.181, test_loss=0.7\n",
      "RA - Fold 3:  39%|▍| 1178/3000 [00:38<00:59, 30.51it/s, loss=0.195, test_loss=0.\n",
      "RA - Fold 4:  59%|▌| 1770/3000 [00:57<00:39, 30.78it/s, loss=0.173, test_loss=0.\n"
     ]
    },
    {
     "name": "stdout",
     "output_type": "stream",
     "text": [
      "Mean Accuracy (RA): 0.8531\n",
      "Mean Sensitivity (RA): 0.7264\n",
      "Mean Specificity (RA): 0.9159\n",
      "Mean AUC (RA): 0.9382\n",
      "Working on T1D dataset: 394 samples\n"
     ]
    },
    {
     "name": "stderr",
     "output_type": "stream",
     "text": [
      "T1D - Fold 0: 100%|█| 3000/3000 [01:58<00:00, 25.22it/s, loss=0.185, test_loss=0\n",
      "T1D - Fold 1:  45%|▍| 1341/3000 [00:52<01:05, 25.30it/s, loss=0.178, test_loss=0\n",
      "T1D - Fold 2:  56%|▌| 1673/3000 [01:06<00:52, 25.18it/s, loss=0.186, test_loss=0\n",
      "T1D - Fold 3:  84%|▊| 2518/3000 [01:41<00:19, 24.75it/s, loss=0.165, test_loss=0\n",
      "T1D - Fold 4:  95%|▉| 2845/3000 [01:52<00:06, 25.33it/s, loss=0.16, test_loss=0.\n"
     ]
    },
    {
     "name": "stdout",
     "output_type": "stream",
     "text": [
      "Mean Accuracy (T1D): 0.9772\n",
      "Mean Sensitivity (T1D): 0.9667\n",
      "Mean Specificity (T1D): 0.9860\n",
      "Mean AUC (T1D): 0.9979\n",
      "Working on MS dataset: 508 samples\n"
     ]
    },
    {
     "name": "stderr",
     "output_type": "stream",
     "text": [
      "MS - Fold 0:  63%|▋| 1880/3000 [01:39<00:59, 18.84it/s, loss=0.192, test_loss=0.\n",
      "MS - Fold 1:  62%|▋| 1875/3000 [01:39<00:59, 18.82it/s, loss=0.159, test_loss=0.\n",
      "MS - Fold 2:  74%|▋| 2233/3000 [01:58<00:40, 18.89it/s, loss=0.199, test_loss=0.\n",
      "MS - Fold 3:  98%|▉| 2953/3000 [02:36<00:02, 18.87it/s, loss=0.138, test_loss=0.\n",
      "MS - Fold 4:  81%|▊| 2418/3000 [02:10<00:31, 18.59it/s, loss=0.152, test_loss=0.\n"
     ]
    },
    {
     "name": "stdout",
     "output_type": "stream",
     "text": [
      "Mean Accuracy (MS): 0.9862\n",
      "Mean Sensitivity (MS): 0.9864\n",
      "Mean Specificity (MS): 0.9860\n",
      "Mean AUC (MS): 0.9996\n",
      "Working on IAA dataset: 279 samples\n"
     ]
    },
    {
     "name": "stderr",
     "output_type": "stream",
     "text": [
      "IAA - Fold 0:  37%|▎| 1118/3000 [00:31<00:53, 34.98it/s, loss=0.19, test_loss=0.\n",
      "IAA - Fold 1: 100%|█| 3000/3000 [01:24<00:00, 35.33it/s, loss=0.176, test_loss=0\n",
      "IAA - Fold 2:  62%|▋| 1875/3000 [00:53<00:31, 35.32it/s, loss=0.164, test_loss=0\n",
      "IAA - Fold 3:  71%|▋| 2132/3000 [01:00<00:24, 35.51it/s, loss=0.16, test_loss=0.\n",
      "IAA - Fold 4:  44%|▍| 1327/3000 [00:38<00:48, 34.38it/s, loss=0.189, test_loss=0\n"
     ]
    },
    {
     "name": "stdout",
     "output_type": "stream",
     "text": [
      "Mean Accuracy (IAA): 0.9355\n",
      "Mean Sensitivity (IAA): 0.7385\n",
      "Mean Specificity (IAA): 0.9953\n",
      "Mean AUC (IAA): 0.9820\n",
      "Working on RA dataset: 320 samples\n"
     ]
    },
    {
     "name": "stderr",
     "output_type": "stream",
     "text": [
      "RA - Fold 0:  55%|▌| 1654/3000 [00:53<00:43, 31.08it/s, loss=0.175, test_loss=0.\n",
      "RA - Fold 1:  63%|▋| 1900/3000 [01:00<00:35, 31.42it/s, loss=0.198, test_loss=0.\n",
      "RA - Fold 2:  32%|▎| 959/3000 [00:30<01:05, 31.04it/s, loss=0.176, test_loss=0.5\n",
      "RA - Fold 3: 100%|█| 3000/3000 [01:35<00:00, 31.41it/s, loss=0.162, test_loss=0.\n",
      "RA - Fold 4:  51%|▌| 1526/3000 [00:49<00:47, 31.12it/s, loss=0.159, test_loss=0.\n"
     ]
    },
    {
     "name": "stdout",
     "output_type": "stream",
     "text": [
      "Mean Accuracy (RA): 0.8719\n",
      "Mean Sensitivity (RA): 0.7453\n",
      "Mean Specificity (RA): 0.9346\n",
      "Mean AUC (RA): 0.9362\n",
      "Working on T1D dataset: 394 samples\n"
     ]
    },
    {
     "name": "stderr",
     "output_type": "stream",
     "text": [
      "T1D - Fold 0:  89%|▉| 2680/3000 [01:45<00:12, 25.45it/s, loss=0.196, test_loss=0\n",
      "T1D - Fold 1:  82%|▊| 2466/3000 [01:37<00:21, 25.31it/s, loss=0.168, test_loss=0\n",
      "T1D - Fold 2:  62%|▌| 1848/3000 [01:13<00:45, 25.28it/s, loss=0.176, test_loss=0\n",
      "T1D - Fold 3:  57%|▌| 1712/3000 [01:06<00:50, 25.61it/s, loss=0.172, test_loss=0\n",
      "T1D - Fold 4:  94%|▉| 2813/3000 [01:50<00:07, 25.56it/s, loss=0.179, test_loss=0\n"
     ]
    },
    {
     "name": "stdout",
     "output_type": "stream",
     "text": [
      "Mean Accuracy (T1D): 0.9873\n",
      "Mean Sensitivity (T1D): 0.9833\n",
      "Mean Specificity (T1D): 0.9907\n",
      "Mean AUC (T1D): 0.9985\n",
      "Working on MS dataset: 508 samples\n"
     ]
    },
    {
     "name": "stderr",
     "output_type": "stream",
     "text": [
      "MS - Fold 0:  88%|▉| 2636/3000 [02:16<00:18, 19.29it/s, loss=0.167, test_loss=0.\n",
      "MS - Fold 1:  78%|▊| 2348/3000 [02:02<00:34, 19.10it/s, loss=0.155, test_loss=0.\n",
      "MS - Fold 2:  81%|▊| 2430/3000 [02:08<00:30, 18.93it/s, loss=0.15, test_loss=0.0\n",
      "MS - Fold 3:  75%|▋| 2246/3000 [01:58<00:39, 18.92it/s, loss=0.19, test_loss=0.0\n",
      "MS - Fold 4: 100%|█| 3000/3000 [02:36<00:00, 19.15it/s, loss=0.178, test_loss=0.\n"
     ]
    },
    {
     "name": "stdout",
     "output_type": "stream",
     "text": [
      "Mean Accuracy (MS): 0.9921\n",
      "Mean Sensitivity (MS): 0.9932\n",
      "Mean Specificity (MS): 0.9907\n",
      "Mean AUC (MS): 0.9998\n",
      "Working on IAA dataset: 279 samples\n"
     ]
    },
    {
     "name": "stderr",
     "output_type": "stream",
     "text": [
      "IAA - Fold 0:  61%|▌| 1823/3000 [00:50<00:32, 35.75it/s, loss=0.162, test_loss=0\n",
      "IAA - Fold 1:  54%|▌| 1634/3000 [00:46<00:38, 35.23it/s, loss=0.221, test_loss=0\n",
      "IAA - Fold 2:  63%|▋| 1886/3000 [00:53<00:31, 35.50it/s, loss=0.151, test_loss=0\n",
      "IAA - Fold 3:  41%|▍| 1238/3000 [00:35<00:50, 35.21it/s, loss=0.185, test_loss=0\n",
      "IAA - Fold 4:  38%|▍| 1155/3000 [00:33<00:53, 34.64it/s, loss=0.193, test_loss=0\n"
     ]
    },
    {
     "name": "stdout",
     "output_type": "stream",
     "text": [
      "Mean Accuracy (IAA): 0.9355\n",
      "Mean Sensitivity (IAA): 0.8154\n",
      "Mean Specificity (IAA): 0.9720\n",
      "Mean AUC (IAA): 0.9838\n",
      "Working on RA dataset: 320 samples\n"
     ]
    },
    {
     "name": "stderr",
     "output_type": "stream",
     "text": [
      "RA - Fold 0:  35%|▎| 1047/3000 [00:33<01:02, 31.07it/s, loss=0.159, test_loss=0.\n",
      "RA - Fold 1:  46%|▍| 1370/3000 [00:43<00:52, 31.33it/s, loss=0.183, test_loss=0.\n",
      "RA - Fold 2:  35%|▎| 1063/3000 [00:34<01:02, 31.17it/s, loss=0.166, test_loss=0.\n",
      "RA - Fold 3:  45%|▍| 1347/3000 [00:43<00:53, 30.68it/s, loss=0.194, test_loss=0.\n",
      "RA - Fold 4:  43%|▍| 1302/3000 [00:42<00:55, 30.33it/s, loss=0.143, test_loss=0.\n"
     ]
    },
    {
     "name": "stdout",
     "output_type": "stream",
     "text": [
      "Mean Accuracy (RA): 0.8313\n",
      "Mean Sensitivity (RA): 0.6415\n",
      "Mean Specificity (RA): 0.9252\n",
      "Mean AUC (RA): 0.8937\n",
      "Working on T1D dataset: 394 samples\n"
     ]
    },
    {
     "name": "stderr",
     "output_type": "stream",
     "text": [
      "T1D - Fold 0:  63%|▋| 1885/3000 [01:17<00:45, 24.33it/s, loss=0.163, test_loss=0\n",
      "T1D - Fold 1:  76%|▊| 2271/3000 [01:33<00:29, 24.42it/s, loss=0.193, test_loss=0\n",
      "T1D - Fold 2:  59%|▌| 1776/3000 [01:13<00:50, 24.31it/s, loss=0.193, test_loss=0\n",
      "T1D - Fold 3:  78%|▊| 2343/3000 [01:35<00:26, 24.51it/s, loss=0.158, test_loss=0\n",
      "T1D - Fold 4:  66%|▋| 1975/3000 [01:20<00:41, 24.57it/s, loss=0.161, test_loss=0\n"
     ]
    },
    {
     "name": "stdout",
     "output_type": "stream",
     "text": [
      "Mean Accuracy (T1D): 0.9975\n",
      "Mean Sensitivity (T1D): 0.9944\n",
      "Mean Specificity (T1D): 1.0000\n",
      "Mean AUC (T1D): 0.9996\n",
      "Working on MS dataset: 508 samples\n"
     ]
    },
    {
     "name": "stderr",
     "output_type": "stream",
     "text": [
      "MS - Fold 0:  91%|▉| 2741/3000 [02:26<00:13, 18.68it/s, loss=0.139, test_loss=0.\n",
      "MS - Fold 1: 100%|█| 3000/3000 [02:37<00:00, 19.00it/s, loss=0.187, test_loss=0.\n",
      "MS - Fold 2:  83%|▊| 2478/3000 [02:09<00:27, 19.18it/s, loss=0.163, test_loss=0.\n",
      "MS - Fold 3: 100%|█| 3000/3000 [02:36<00:00, 19.20it/s, loss=0.19, test_loss=0.0\n",
      "MS - Fold 4:  63%|▋| 1881/3000 [01:37<00:58, 19.21it/s, loss=0.187, test_loss=0.\n"
     ]
    },
    {
     "name": "stdout",
     "output_type": "stream",
     "text": [
      "Mean Accuracy (MS): 0.9902\n",
      "Mean Sensitivity (MS): 0.9966\n",
      "Mean Specificity (MS): 0.9813\n",
      "Mean AUC (MS): 0.9997\n",
      "Working on IAA dataset: 279 samples\n"
     ]
    },
    {
     "name": "stderr",
     "output_type": "stream",
     "text": [
      "IAA - Fold 0:  29%|▎| 857/3000 [00:24<01:00, 35.34it/s, loss=0.182, test_loss=0.\n",
      "IAA - Fold 1:  92%|▉| 2748/3000 [01:17<00:07, 35.54it/s, loss=0.187, test_loss=0\n",
      "IAA - Fold 2:  75%|▋| 2242/3000 [01:04<00:21, 34.83it/s, loss=0.185, test_loss=0\n",
      "IAA - Fold 3:  68%|▋| 2032/3000 [00:58<00:27, 34.87it/s, loss=0.145, test_loss=0\n",
      "IAA - Fold 4:  59%|▌| 1760/3000 [00:49<00:34, 35.72it/s, loss=0.165, test_loss=0\n"
     ]
    },
    {
     "name": "stdout",
     "output_type": "stream",
     "text": [
      "Mean Accuracy (IAA): 0.9355\n",
      "Mean Sensitivity (IAA): 0.8000\n",
      "Mean Specificity (IAA): 0.9766\n",
      "Mean AUC (IAA): 0.9778\n",
      "Working on RA dataset: 320 samples\n"
     ]
    },
    {
     "name": "stderr",
     "output_type": "stream",
     "text": [
      "RA - Fold 0:  47%|▍| 1418/3000 [00:45<00:50, 31.16it/s, loss=0.201, test_loss=0.\n",
      "RA - Fold 1:  47%|▍| 1401/3000 [00:45<00:51, 31.00it/s, loss=0.161, test_loss=0.\n",
      "RA - Fold 2:  51%|▌| 1529/3000 [00:49<00:47, 31.03it/s, loss=0.222, test_loss=0.\n",
      "RA - Fold 3:  70%|▋| 2091/3000 [01:07<00:29, 30.89it/s, loss=0.179, test_loss=0.\n",
      "RA - Fold 4:  72%|▋| 2151/3000 [01:10<00:27, 30.50it/s, loss=0.202, test_loss=0.\n"
     ]
    },
    {
     "name": "stdout",
     "output_type": "stream",
     "text": [
      "Mean Accuracy (RA): 0.8313\n",
      "Mean Sensitivity (RA): 0.6887\n",
      "Mean Specificity (RA): 0.9019\n",
      "Mean AUC (RA): 0.8970\n",
      "Working on T1D dataset: 394 samples\n"
     ]
    },
    {
     "name": "stderr",
     "output_type": "stream",
     "text": [
      "T1D - Fold 0:  77%|▊| 2300/3000 [01:30<00:27, 25.35it/s, loss=0.165, test_loss=0\n",
      "T1D - Fold 1:  44%|▍| 1334/3000 [00:54<01:07, 24.52it/s, loss=0.181, test_loss=0\n",
      "T1D - Fold 2:  84%|▊| 2505/3000 [01:40<00:19, 25.05it/s, loss=0.204, test_loss=0\n",
      "T1D - Fold 3:  94%|▉| 2815/3000 [01:52<00:07, 25.03it/s, loss=0.196, test_loss=0\n",
      "T1D - Fold 4:  61%|▌| 1835/3000 [01:12<00:46, 25.17it/s, loss=0.209, test_loss=0\n"
     ]
    },
    {
     "name": "stdout",
     "output_type": "stream",
     "text": [
      "Mean Accuracy (T1D): 0.9797\n",
      "Mean Sensitivity (T1D): 0.9722\n",
      "Mean Specificity (T1D): 0.9860\n",
      "Mean AUC (T1D): 0.9980\n",
      "Working on MS dataset: 508 samples\n"
     ]
    },
    {
     "name": "stderr",
     "output_type": "stream",
     "text": [
      "MS - Fold 0:  73%|▋| 2180/3000 [01:51<00:41, 19.63it/s, loss=0.198, test_loss=0.\n",
      "MS - Fold 1: 100%|█| 3000/3000 [02:35<00:00, 19.35it/s, loss=0.2, test_loss=0.10\n",
      "MS - Fold 2:  65%|▋| 1961/3000 [01:41<00:53, 19.36it/s, loss=0.168, test_loss=0.\n",
      "MS - Fold 3:  81%|▊| 2427/3000 [02:06<00:29, 19.14it/s, loss=0.166, test_loss=0.\n",
      "MS - Fold 4:  62%|▌| 1867/3000 [01:39<01:00, 18.77it/s, loss=0.224, test_loss=0.\n"
     ]
    },
    {
     "name": "stdout",
     "output_type": "stream",
     "text": [
      "Mean Accuracy (MS): 0.9783\n",
      "Mean Sensitivity (MS): 0.9932\n",
      "Mean Specificity (MS): 0.9579\n",
      "Mean AUC (MS): 0.9982\n",
      "Working on IAA dataset: 279 samples\n"
     ]
    },
    {
     "name": "stderr",
     "output_type": "stream",
     "text": [
      "IAA - Fold 0:  50%|▌| 1511/3000 [00:43<00:43, 34.36it/s, loss=0.199, test_loss=0\n",
      "IAA - Fold 1:  88%|▉| 2640/3000 [01:16<00:10, 34.40it/s, loss=0.161, test_loss=0\n",
      "IAA - Fold 2:  55%|▌| 1660/3000 [00:48<00:39, 34.21it/s, loss=0.17, test_loss=0.\n",
      "IAA - Fold 3:  87%|▊| 2617/3000 [01:15<00:11, 34.69it/s, loss=0.184, test_loss=0\n",
      "IAA - Fold 4:  64%|▋| 1929/3000 [00:56<00:31, 34.03it/s, loss=0.153, test_loss=0\n"
     ]
    },
    {
     "name": "stdout",
     "output_type": "stream",
     "text": [
      "Mean Accuracy (IAA): 0.9427\n",
      "Mean Sensitivity (IAA): 0.8615\n",
      "Mean Specificity (IAA): 0.9673\n",
      "Mean AUC (IAA): 0.9856\n",
      "Working on RA dataset: 320 samples\n"
     ]
    },
    {
     "name": "stderr",
     "output_type": "stream",
     "text": [
      "RA - Fold 0:  52%|▌| 1558/3000 [00:51<00:47, 30.25it/s, loss=0.182, test_loss=0.\n",
      "RA - Fold 1:  96%|▉| 2881/3000 [01:35<00:03, 30.18it/s, loss=0.154, test_loss=0.\n",
      "RA - Fold 2:  38%|▍| 1125/3000 [00:37<01:02, 29.87it/s, loss=0.202, test_loss=0.\n",
      "RA - Fold 3:  64%|▋| 1923/3000 [01:00<00:34, 31.54it/s, loss=0.203, test_loss=0.\n",
      "RA - Fold 4:  41%|▍| 1221/3000 [00:39<00:57, 30.72it/s, loss=0.212, test_loss=0.\n"
     ]
    },
    {
     "name": "stdout",
     "output_type": "stream",
     "text": [
      "Mean Accuracy (RA): 0.8625\n",
      "Mean Sensitivity (RA): 0.7264\n",
      "Mean Specificity (RA): 0.9299\n",
      "Mean AUC (RA): 0.9284\n",
      "Working on T1D dataset: 394 samples\n"
     ]
    },
    {
     "name": "stderr",
     "output_type": "stream",
     "text": [
      "T1D - Fold 0:  62%|▌| 1867/3000 [01:14<00:45, 25.14it/s, loss=0.126, test_loss=0\n",
      "T1D - Fold 1: 100%|█| 3000/3000 [01:57<00:00, 25.46it/s, loss=0.166, test_loss=0\n",
      "T1D - Fold 2:  36%|▎| 1085/3000 [00:43<01:16, 25.11it/s, loss=0.158, test_loss=0\n",
      "T1D - Fold 3:  78%|▊| 2338/3000 [01:33<00:26, 25.14it/s, loss=0.161, test_loss=0\n",
      "T1D - Fold 4:  62%|▌| 1859/3000 [01:12<00:44, 25.54it/s, loss=0.167, test_loss=0\n"
     ]
    },
    {
     "name": "stdout",
     "output_type": "stream",
     "text": [
      "Mean Accuracy (T1D): 0.9822\n",
      "Mean Sensitivity (T1D): 0.9833\n",
      "Mean Specificity (T1D): 0.9813\n",
      "Mean AUC (T1D): 0.9981\n",
      "Working on MS dataset: 508 samples\n"
     ]
    },
    {
     "name": "stderr",
     "output_type": "stream",
     "text": [
      "MS - Fold 0:  96%|▉| 2867/3000 [02:27<00:06, 19.50it/s, loss=0.168, test_loss=0.\n",
      "MS - Fold 1: 100%|█| 3000/3000 [02:34<00:00, 19.48it/s, loss=0.177, test_loss=0.\n",
      "MS - Fold 2:  77%|▊| 2308/3000 [01:57<00:35, 19.56it/s, loss=0.186, test_loss=0.\n",
      "MS - Fold 3:  78%|▊| 2354/3000 [02:00<00:33, 19.52it/s, loss=0.206, test_loss=0.\n",
      "MS - Fold 4:  67%|▋| 1996/3000 [01:44<00:52, 19.14it/s, loss=0.185, test_loss=0.\n"
     ]
    },
    {
     "name": "stdout",
     "output_type": "stream",
     "text": [
      "Mean Accuracy (MS): 0.9567\n",
      "Mean Sensitivity (MS): 0.9694\n",
      "Mean Specificity (MS): 0.9393\n",
      "Mean AUC (MS): 0.9930\n",
      "Working on IAA dataset: 279 samples\n"
     ]
    },
    {
     "name": "stderr",
     "output_type": "stream",
     "text": [
      "IAA - Fold 0:  43%|▍| 1276/3000 [00:36<00:48, 35.24it/s, loss=0.188, test_loss=0\n",
      "IAA - Fold 1:  39%|▍| 1176/3000 [00:33<00:52, 34.80it/s, loss=0.205, test_loss=0\n",
      "IAA - Fold 2:  32%|▎| 972/3000 [00:28<00:59, 34.25it/s, loss=0.169, test_loss=0.\n",
      "IAA - Fold 3:  88%|▉| 2631/3000 [01:15<00:10, 34.88it/s, loss=0.204, test_loss=0\n",
      "IAA - Fold 4:  54%|▌| 1633/3000 [00:46<00:39, 34.91it/s, loss=0.184, test_loss=0\n"
     ]
    },
    {
     "name": "stdout",
     "output_type": "stream",
     "text": [
      "Mean Accuracy (IAA): 0.9068\n",
      "Mean Sensitivity (IAA): 0.6769\n",
      "Mean Specificity (IAA): 0.9766\n",
      "Mean AUC (IAA): 0.9559\n",
      "Working on RA dataset: 320 samples\n"
     ]
    },
    {
     "name": "stderr",
     "output_type": "stream",
     "text": [
      "RA - Fold 0:  79%|▊| 2360/3000 [01:16<00:20, 30.70it/s, loss=0.174, test_loss=0.\n",
      "RA - Fold 1:  51%|▌| 1531/3000 [00:49<00:47, 30.74it/s, loss=0.195, test_loss=0.\n",
      "RA - Fold 2:  82%|▊| 2445/3000 [01:19<00:17, 30.90it/s, loss=0.167, test_loss=0.\n",
      "RA - Fold 3: 100%|█| 3000/3000 [01:35<00:00, 31.48it/s, loss=0.174, test_loss=0.\n",
      "RA - Fold 4:  31%|▎| 919/3000 [00:29<01:06, 31.30it/s, loss=0.174, test_loss=0.4\n"
     ]
    },
    {
     "name": "stdout",
     "output_type": "stream",
     "text": [
      "Mean Accuracy (RA): 0.9156\n",
      "Mean Sensitivity (RA): 0.8208\n",
      "Mean Specificity (RA): 0.9626\n",
      "Mean AUC (RA): 0.9710\n",
      "Working on T1D dataset: 394 samples\n"
     ]
    },
    {
     "name": "stderr",
     "output_type": "stream",
     "text": [
      "T1D - Fold 0:  66%|▋| 1988/3000 [01:19<00:40, 25.11it/s, loss=0.183, test_loss=0\n",
      "T1D - Fold 1:  67%|▋| 2004/3000 [01:18<00:39, 25.46it/s, loss=0.19, test_loss=0.\n",
      "T1D - Fold 2:  70%|▋| 2096/3000 [01:21<00:35, 25.59it/s, loss=0.185, test_loss=0\n",
      "T1D - Fold 3:  64%|▋| 1923/3000 [01:16<00:42, 25.09it/s, loss=0.175, test_loss=0\n",
      "T1D - Fold 4: 100%|█| 3000/3000 [01:59<00:00, 25.02it/s, loss=0.177, test_loss=0\n"
     ]
    },
    {
     "name": "stdout",
     "output_type": "stream",
     "text": [
      "Mean Accuracy (T1D): 0.9746\n",
      "Mean Sensitivity (T1D): 0.9556\n",
      "Mean Specificity (T1D): 0.9907\n",
      "Mean AUC (T1D): 0.9951\n",
      "Working on MS dataset: 508 samples\n"
     ]
    },
    {
     "name": "stderr",
     "output_type": "stream",
     "text": [
      "MS - Fold 0:  82%|▊| 2475/3000 [02:10<00:27, 19.02it/s, loss=0.224, test_loss=0.\n",
      "MS - Fold 1:  91%|▉| 2742/3000 [02:27<00:13, 18.64it/s, loss=0.203, test_loss=0.\n",
      "MS - Fold 2: 100%|▉| 2995/3000 [02:41<00:00, 18.50it/s, loss=0.178, test_loss=0.\n",
      "MS - Fold 3:  97%|▉| 2921/3000 [02:33<00:04, 19.06it/s, loss=0.197, test_loss=0.\n",
      "MS - Fold 4: 100%|█| 3000/3000 [02:35<00:00, 19.33it/s, loss=0.174, test_loss=0.\n"
     ]
    },
    {
     "name": "stdout",
     "output_type": "stream",
     "text": [
      "Mean Accuracy (MS): 0.9823\n",
      "Mean Sensitivity (MS): 0.9932\n",
      "Mean Specificity (MS): 0.9673\n",
      "Mean AUC (MS): 0.9987\n",
      "Working on IAA dataset: 279 samples\n"
     ]
    },
    {
     "name": "stderr",
     "output_type": "stream",
     "text": [
      "IAA - Fold 0:  50%|▍| 1490/3000 [00:42<00:42, 35.23it/s, loss=0.162, test_loss=0\n",
      "IAA - Fold 1:  62%|▌| 1870/3000 [00:51<00:31, 36.01it/s, loss=0.15, test_loss=0.\n",
      "IAA - Fold 2:  91%|▉| 2743/3000 [01:17<00:07, 35.19it/s, loss=0.222, test_loss=0\n",
      "IAA - Fold 3:  75%|▋| 2241/3000 [01:03<00:21, 35.08it/s, loss=0.185, test_loss=0\n",
      "IAA - Fold 4:  95%|▉| 2840/3000 [01:21<00:04, 34.91it/s, loss=0.186, test_loss=0\n"
     ]
    },
    {
     "name": "stdout",
     "output_type": "stream",
     "text": [
      "Mean Accuracy (IAA): 0.9462\n",
      "Mean Sensitivity (IAA): 0.7846\n",
      "Mean Specificity (IAA): 0.9953\n",
      "Mean AUC (IAA): 0.9880\n",
      "Working on RA dataset: 320 samples\n"
     ]
    },
    {
     "name": "stderr",
     "output_type": "stream",
     "text": [
      "RA - Fold 0:  57%|▌| 1716/3000 [00:54<00:40, 31.43it/s, loss=0.134, test_loss=0.\n",
      "RA - Fold 1:  82%|▊| 2451/3000 [01:19<00:17, 30.95it/s, loss=0.193, test_loss=0.\n",
      "RA - Fold 2:  49%|▍| 1461/3000 [00:46<00:49, 31.36it/s, loss=0.177, test_loss=0.\n",
      "RA - Fold 3:  75%|▊| 2264/3000 [01:11<00:23, 31.50it/s, loss=0.215, test_loss=0.\n",
      "RA - Fold 4:  41%|▍| 1231/3000 [00:39<00:57, 31.03it/s, loss=0.192, test_loss=0.\n"
     ]
    },
    {
     "name": "stdout",
     "output_type": "stream",
     "text": [
      "Mean Accuracy (RA): 0.8719\n",
      "Mean Sensitivity (RA): 0.7547\n",
      "Mean Specificity (RA): 0.9299\n",
      "Mean AUC (RA): 0.9373\n",
      "Working on T1D dataset: 394 samples\n"
     ]
    },
    {
     "name": "stderr",
     "output_type": "stream",
     "text": [
      "T1D - Fold 0: 100%|█| 3000/3000 [01:58<00:00, 25.34it/s, loss=0.158, test_loss=0\n",
      "T1D - Fold 1:  94%|▉| 2825/3000 [01:50<00:06, 25.46it/s, loss=0.191, test_loss=0\n",
      "T1D - Fold 2:  43%|▍| 1297/3000 [00:51<01:07, 25.37it/s, loss=0.173, test_loss=0\n",
      "T1D - Fold 3:  99%|▉| 2978/3000 [01:56<00:00, 25.50it/s, loss=0.177, test_loss=0\n",
      "T1D - Fold 4:  72%|▋| 2169/3000 [01:26<00:33, 24.99it/s, loss=0.199, test_loss=0\n"
     ]
    },
    {
     "name": "stdout",
     "output_type": "stream",
     "text": [
      "Mean Accuracy (T1D): 0.9746\n",
      "Mean Sensitivity (T1D): 0.9667\n",
      "Mean Specificity (T1D): 0.9813\n",
      "Mean AUC (T1D): 0.9972\n",
      "Working on MS dataset: 508 samples\n"
     ]
    },
    {
     "name": "stderr",
     "output_type": "stream",
     "text": [
      "MS - Fold 0:  59%|▌| 1780/3000 [01:34<01:04, 18.77it/s, loss=0.188, test_loss=0.\n",
      "MS - Fold 1:  88%|▉| 2645/3000 [02:19<00:18, 18.96it/s, loss=0.182, test_loss=0.\n",
      "MS - Fold 2:  52%|▌| 1564/3000 [01:23<01:16, 18.70it/s, loss=0.179, test_loss=0.\n",
      "MS - Fold 3: 100%|█| 3000/3000 [02:42<00:00, 18.45it/s, loss=0.168, test_loss=0.\n",
      "MS - Fold 4:  65%|▋| 1953/3000 [01:40<00:54, 19.35it/s, loss=0.155, test_loss=0.\n"
     ]
    },
    {
     "name": "stdout",
     "output_type": "stream",
     "text": [
      "Mean Accuracy (MS): 0.9724\n",
      "Mean Sensitivity (MS): 0.9762\n",
      "Mean Specificity (MS): 0.9673\n",
      "Mean AUC (MS): 0.9974\n",
      "Working on IAA dataset: 279 samples\n"
     ]
    },
    {
     "name": "stderr",
     "output_type": "stream",
     "text": [
      "IAA - Fold 0:  68%|▋| 2042/3000 [00:59<00:27, 34.33it/s, loss=0.156, test_loss=0\n",
      "IAA - Fold 1:  76%|▊| 2293/3000 [01:05<00:20, 34.76it/s, loss=0.146, test_loss=0\n",
      "IAA - Fold 2:  54%|▌| 1607/3000 [00:46<00:40, 34.50it/s, loss=0.144, test_loss=0\n",
      "IAA - Fold 3: 100%|█| 3000/3000 [01:26<00:00, 34.76it/s, loss=0.172, test_loss=0\n",
      "IAA - Fold 4:  54%|▌| 1630/3000 [00:46<00:39, 35.06it/s, loss=0.203, test_loss=0\n"
     ]
    },
    {
     "name": "stdout",
     "output_type": "stream",
     "text": [
      "Mean Accuracy (IAA): 0.9427\n",
      "Mean Sensitivity (IAA): 0.8308\n",
      "Mean Specificity (IAA): 0.9766\n",
      "Mean AUC (IAA): 0.9811\n",
      "Working on RA dataset: 320 samples\n"
     ]
    },
    {
     "name": "stderr",
     "output_type": "stream",
     "text": [
      "RA - Fold 0:  47%|▍| 1422/3000 [00:45<00:50, 31.46it/s, loss=0.166, test_loss=0.\n",
      "RA - Fold 1:  64%|▋| 1930/3000 [01:02<00:34, 31.10it/s, loss=0.186, test_loss=0.\n",
      "RA - Fold 2:  68%|▋| 2041/3000 [01:06<00:31, 30.54it/s, loss=0.149, test_loss=0.\n",
      "RA - Fold 3:  61%|▌| 1835/3000 [01:00<00:38, 30.39it/s, loss=0.186, test_loss=0.\n",
      "RA - Fold 4:  30%|▎| 886/3000 [00:29<01:09, 30.39it/s, loss=0.144, test_loss=0.3\n"
     ]
    },
    {
     "name": "stdout",
     "output_type": "stream",
     "text": [
      "Mean Accuracy (RA): 0.8562\n",
      "Mean Sensitivity (RA): 0.7642\n",
      "Mean Specificity (RA): 0.9019\n",
      "Mean AUC (RA): 0.9341\n",
      "Working on T1D dataset: 394 samples\n"
     ]
    },
    {
     "name": "stderr",
     "output_type": "stream",
     "text": [
      "T1D - Fold 0:  83%|▊| 2503/3000 [01:41<00:20, 24.74it/s, loss=0.199, test_loss=0\n",
      "T1D - Fold 1:  65%|▋| 1950/3000 [01:20<00:43, 24.22it/s, loss=0.215, test_loss=0\n",
      "T1D - Fold 2:  64%|▋| 1920/3000 [01:18<00:44, 24.53it/s, loss=0.164, test_loss=0\n",
      "T1D - Fold 3:  70%|▋| 2104/3000 [01:24<00:36, 24.76it/s, loss=0.173, test_loss=0\n",
      "T1D - Fold 4:  78%|▊| 2353/3000 [01:36<00:26, 24.45it/s, loss=0.142, test_loss=0\n"
     ]
    },
    {
     "name": "stdout",
     "output_type": "stream",
     "text": [
      "Mean Accuracy (T1D): 0.9848\n",
      "Mean Sensitivity (T1D): 0.9778\n",
      "Mean Specificity (T1D): 0.9907\n",
      "Mean AUC (T1D): 0.9977\n",
      "Working on MS dataset: 508 samples\n"
     ]
    },
    {
     "name": "stderr",
     "output_type": "stream",
     "text": [
      "MS - Fold 0:  91%|▉| 2740/3000 [02:23<00:13, 19.11it/s, loss=0.207, test_loss=0.\n",
      "MS - Fold 1: 100%|█| 3000/3000 [02:36<00:00, 19.15it/s, loss=0.166, test_loss=0.\n",
      "MS - Fold 2:  72%|▋| 2171/3000 [01:51<00:42, 19.41it/s, loss=0.165, test_loss=0.\n",
      "MS - Fold 3: 100%|▉| 2996/3000 [02:34<00:00, 19.43it/s, loss=0.195, test_loss=0.\n",
      "MS - Fold 4:  96%|▉| 2870/3000 [02:31<00:06, 18.89it/s, loss=0.151, test_loss=0.\n"
     ]
    },
    {
     "name": "stdout",
     "output_type": "stream",
     "text": [
      "Mean Accuracy (MS): 0.9823\n",
      "Mean Sensitivity (MS): 0.9932\n",
      "Mean Specificity (MS): 0.9673\n",
      "Mean AUC (MS): 0.9979\n",
      "Working on IAA dataset: 279 samples\n"
     ]
    },
    {
     "name": "stderr",
     "output_type": "stream",
     "text": [
      "IAA - Fold 0:  57%|▌| 1703/3000 [00:47<00:36, 35.74it/s, loss=0.151, test_loss=0\n",
      "IAA - Fold 1:  74%|▋| 2207/3000 [01:02<00:22, 35.20it/s, loss=0.204, test_loss=0\n",
      "IAA - Fold 2:  80%|▊| 2393/3000 [01:07<00:17, 35.61it/s, loss=0.156, test_loss=0\n",
      "IAA - Fold 3:  60%|▌| 1815/3000 [00:51<00:33, 35.10it/s, loss=0.208, test_loss=0\n",
      "IAA - Fold 4:  72%|▋| 2150/3000 [01:01<00:24, 34.97it/s, loss=0.203, test_loss=0\n"
     ]
    },
    {
     "name": "stdout",
     "output_type": "stream",
     "text": [
      "Mean Accuracy (IAA): 0.9319\n",
      "Mean Sensitivity (IAA): 0.7846\n",
      "Mean Specificity (IAA): 0.9766\n",
      "Mean AUC (IAA): 0.9730\n",
      "Working on RA dataset: 320 samples\n"
     ]
    },
    {
     "name": "stderr",
     "output_type": "stream",
     "text": [
      "RA - Fold 0:  51%|▌| 1518/3000 [00:50<00:48, 30.25it/s, loss=0.176, test_loss=0.\n",
      "RA - Fold 1:  46%|▍| 1392/3000 [00:45<00:52, 30.77it/s, loss=0.185, test_loss=0.\n",
      "RA - Fold 2:  46%|▍| 1367/3000 [00:44<00:53, 30.69it/s, loss=0.161, test_loss=0.\n",
      "RA - Fold 3:  63%|▋| 1891/3000 [01:02<00:36, 30.40it/s, loss=0.163, test_loss=0.\n",
      "RA - Fold 4:  52%|▌| 1560/3000 [00:51<00:47, 30.50it/s, loss=0.158, test_loss=0.\n"
     ]
    },
    {
     "name": "stdout",
     "output_type": "stream",
     "text": [
      "Mean Accuracy (RA): 0.8469\n",
      "Mean Sensitivity (RA): 0.7642\n",
      "Mean Specificity (RA): 0.8879\n",
      "Mean AUC (RA): 0.9328\n",
      "Working on T1D dataset: 394 samples\n"
     ]
    },
    {
     "name": "stderr",
     "output_type": "stream",
     "text": [
      "T1D - Fold 0: 100%|█| 3000/3000 [01:59<00:00, 25.14it/s, loss=0.212, test_loss=0\n",
      "T1D - Fold 1:  53%|▌| 1603/3000 [01:04<00:56, 24.94it/s, loss=0.145, test_loss=0\n",
      "T1D - Fold 2:  40%|▍| 1189/3000 [00:47<01:11, 25.19it/s, loss=0.198, test_loss=0\n",
      "T1D - Fold 3:  81%|▊| 2433/3000 [01:35<00:22, 25.58it/s, loss=0.203, test_loss=0\n",
      "T1D - Fold 4:  56%|▌| 1685/3000 [01:05<00:51, 25.65it/s, loss=0.177, test_loss=0\n"
     ]
    },
    {
     "name": "stdout",
     "output_type": "stream",
     "text": [
      "Mean Accuracy (T1D): 0.9746\n",
      "Mean Sensitivity (T1D): 0.9667\n",
      "Mean Specificity (T1D): 0.9813\n",
      "Mean AUC (T1D): 0.9972\n",
      "Working on MS dataset: 508 samples\n"
     ]
    },
    {
     "name": "stderr",
     "output_type": "stream",
     "text": [
      "MS - Fold 0:  86%|▊| 2570/3000 [02:11<00:21, 19.56it/s, loss=0.164, test_loss=0.\n",
      "MS - Fold 1:  96%|▉| 2880/3000 [02:29<00:06, 19.31it/s, loss=0.177, test_loss=0.\n",
      "MS - Fold 2:  97%|▉| 2913/3000 [02:33<00:04, 18.99it/s, loss=0.162, test_loss=0.\n",
      "MS - Fold 3: 100%|█| 3000/3000 [02:39<00:00, 18.81it/s, loss=0.166, test_loss=0.\n",
      "MS - Fold 4:  63%|▋| 1887/3000 [01:40<00:59, 18.78it/s, loss=0.2, test_loss=0.07\n"
     ]
    },
    {
     "name": "stdout",
     "output_type": "stream",
     "text": [
      "Mean Accuracy (MS): 0.9882\n",
      "Mean Sensitivity (MS): 0.9932\n",
      "Mean Specificity (MS): 0.9813\n",
      "Mean AUC (MS): 0.9998\n",
      "Working on IAA dataset: 279 samples\n"
     ]
    },
    {
     "name": "stderr",
     "output_type": "stream",
     "text": [
      "IAA - Fold 0:  37%|▎| 1116/3000 [00:32<00:55, 34.07it/s, loss=0.144, test_loss=0\n",
      "IAA - Fold 1:  60%|▌| 1789/3000 [00:52<00:35, 34.31it/s, loss=0.179, test_loss=0\n",
      "IAA - Fold 2:  52%|▌| 1554/3000 [00:45<00:42, 34.20it/s, loss=0.162, test_loss=0\n",
      "IAA - Fold 3: 100%|█| 3000/3000 [01:27<00:00, 34.13it/s, loss=0.191, test_loss=0\n",
      "IAA - Fold 4:  48%|▍| 1452/3000 [00:42<00:44, 34.45it/s, loss=0.174, test_loss=0\n"
     ]
    },
    {
     "name": "stdout",
     "output_type": "stream",
     "text": [
      "Mean Accuracy (IAA): 0.8996\n",
      "Mean Sensitivity (IAA): 0.6462\n",
      "Mean Specificity (IAA): 0.9766\n",
      "Mean AUC (IAA): 0.9656\n",
      "Working on RA dataset: 320 samples\n"
     ]
    },
    {
     "name": "stderr",
     "output_type": "stream",
     "text": [
      "RA - Fold 0:  82%|▊| 2460/3000 [01:19<00:17, 31.02it/s, loss=0.173, test_loss=0.\n",
      "RA - Fold 1:  67%|▋| 2014/3000 [01:04<00:31, 31.17it/s, loss=0.152, test_loss=0.\n",
      "RA - Fold 2:  77%|▊| 2320/3000 [01:14<00:21, 31.12it/s, loss=0.212, test_loss=0.\n",
      "RA - Fold 3:  72%|▋| 2161/3000 [01:09<00:26, 31.29it/s, loss=0.167, test_loss=0.\n",
      "RA - Fold 4:  56%|▌| 1668/3000 [00:53<00:42, 31.21it/s, loss=0.203, test_loss=0.\n"
     ]
    },
    {
     "name": "stdout",
     "output_type": "stream",
     "text": [
      "Mean Accuracy (RA): 0.9125\n",
      "Mean Sensitivity (RA): 0.8396\n",
      "Mean Specificity (RA): 0.9486\n",
      "Mean AUC (RA): 0.9649\n",
      "Working on T1D dataset: 394 samples\n"
     ]
    },
    {
     "name": "stderr",
     "output_type": "stream",
     "text": [
      "T1D - Fold 0:  76%|▊| 2278/3000 [01:29<00:28, 25.41it/s, loss=0.196, test_loss=0\n",
      "T1D - Fold 1:  61%|▌| 1818/3000 [01:11<00:46, 25.52it/s, loss=0.176, test_loss=0\n",
      "T1D - Fold 2:  54%|▌| 1613/3000 [01:02<00:53, 25.69it/s, loss=0.147, test_loss=0\n",
      "T1D - Fold 3:  71%|▋| 2133/3000 [01:25<00:34, 24.89it/s, loss=0.184, test_loss=0\n",
      "T1D - Fold 4: 100%|█| 3000/3000 [01:56<00:00, 25.79it/s, loss=0.174, test_loss=0\n"
     ]
    },
    {
     "name": "stdout",
     "output_type": "stream",
     "text": [
      "Mean Accuracy (T1D): 0.9695\n",
      "Mean Sensitivity (T1D): 0.9500\n",
      "Mean Specificity (T1D): 0.9860\n",
      "Mean AUC (T1D): 0.9961\n",
      "Working on MS dataset: 508 samples\n"
     ]
    },
    {
     "name": "stderr",
     "output_type": "stream",
     "text": [
      "MS - Fold 0:  72%|▋| 2154/3000 [01:50<00:43, 19.42it/s, loss=0.154, test_loss=0.\n",
      "MS - Fold 1: 100%|█| 3000/3000 [02:35<00:00, 19.33it/s, loss=0.207, test_loss=0.\n",
      "MS - Fold 2:  68%|▋| 2054/3000 [01:47<00:49, 19.13it/s, loss=0.191, test_loss=0.\n",
      "MS - Fold 3: 100%|█| 3000/3000 [02:38<00:00, 18.97it/s, loss=0.171, test_loss=0.\n",
      "MS - Fold 4: 100%|█| 3000/3000 [02:38<00:00, 18.89it/s, loss=0.162, test_loss=0.\n"
     ]
    },
    {
     "name": "stdout",
     "output_type": "stream",
     "text": [
      "Mean Accuracy (MS): 0.9744\n",
      "Mean Sensitivity (MS): 0.9762\n",
      "Mean Specificity (MS): 0.9720\n",
      "Mean AUC (MS): 0.9977\n",
      "Working on IAA dataset: 279 samples\n"
     ]
    },
    {
     "name": "stderr",
     "output_type": "stream",
     "text": [
      "IAA - Fold 0:  36%|▎| 1093/3000 [00:31<00:55, 34.41it/s, loss=0.167, test_loss=0\n",
      "IAA - Fold 1:  53%|▌| 1582/3000 [00:45<00:41, 34.41it/s, loss=0.186, test_loss=0\n",
      "IAA - Fold 2:  58%|▌| 1736/3000 [00:50<00:36, 34.69it/s, loss=0.176, test_loss=0\n",
      "IAA - Fold 3:  52%|▌| 1556/3000 [00:45<00:42, 34.37it/s, loss=0.185, test_loss=0\n",
      "IAA - Fold 4:  97%|▉| 2900/3000 [01:22<00:02, 35.33it/s, loss=0.227, test_loss=0\n"
     ]
    },
    {
     "name": "stdout",
     "output_type": "stream",
     "text": [
      "Mean Accuracy (IAA): 0.9319\n",
      "Mean Sensitivity (IAA): 0.8000\n",
      "Mean Specificity (IAA): 0.9720\n",
      "Mean AUC (IAA): 0.9748\n",
      "Working on RA dataset: 320 samples\n"
     ]
    },
    {
     "name": "stderr",
     "output_type": "stream",
     "text": [
      "RA - Fold 0:  61%|▌| 1828/3000 [00:58<00:37, 31.09it/s, loss=0.171, test_loss=0.\n",
      "RA - Fold 1:  41%|▍| 1216/3000 [00:39<00:58, 30.57it/s, loss=0.208, test_loss=0.\n",
      "RA - Fold 2:  73%|▋| 2195/3000 [01:10<00:25, 31.31it/s, loss=0.155, test_loss=0.\n",
      "RA - Fold 3:  93%|▉| 2783/3000 [01:28<00:06, 31.40it/s, loss=0.153, test_loss=0.\n",
      "RA - Fold 4:  64%|▋| 1935/3000 [01:01<00:33, 31.34it/s, loss=0.142, test_loss=0.\n"
     ]
    },
    {
     "name": "stdout",
     "output_type": "stream",
     "text": [
      "Mean Accuracy (RA): 0.8562\n",
      "Mean Sensitivity (RA): 0.7264\n",
      "Mean Specificity (RA): 0.9206\n",
      "Mean AUC (RA): 0.9362\n",
      "Working on T1D dataset: 394 samples\n"
     ]
    },
    {
     "name": "stderr",
     "output_type": "stream",
     "text": [
      "T1D - Fold 0:  64%|▋| 1905/3000 [01:16<00:43, 25.04it/s, loss=0.163, test_loss=0\n",
      "T1D - Fold 1:  90%|▉| 2712/3000 [01:49<00:11, 24.66it/s, loss=0.152, test_loss=0\n",
      "T1D - Fold 2:  76%|▊| 2294/3000 [01:35<00:29, 24.05it/s, loss=0.183, test_loss=0\n",
      "T1D - Fold 3:  56%|▌| 1691/3000 [01:07<00:52, 24.90it/s, loss=0.173, test_loss=0\n",
      "T1D - Fold 4:  78%|▊| 2344/3000 [01:35<00:26, 24.66it/s, loss=0.177, test_loss=0\n"
     ]
    },
    {
     "name": "stdout",
     "output_type": "stream",
     "text": [
      "Mean Accuracy (T1D): 0.9848\n",
      "Mean Sensitivity (T1D): 0.9833\n",
      "Mean Specificity (T1D): 0.9860\n",
      "Mean AUC (T1D): 0.9988\n",
      "Working on MS dataset: 508 samples\n"
     ]
    },
    {
     "name": "stderr",
     "output_type": "stream",
     "text": [
      "MS - Fold 0:  98%|▉| 2951/3000 [02:35<00:02, 18.97it/s, loss=0.159, test_loss=0.\n",
      "MS - Fold 1: 100%|█| 3000/3000 [02:37<00:00, 19.00it/s, loss=0.181, test_loss=0.\n",
      "MS - Fold 2:  74%|▋| 2230/3000 [01:54<00:39, 19.47it/s, loss=0.151, test_loss=0.\n",
      "MS - Fold 3:  82%|▊| 2453/3000 [02:06<00:28, 19.45it/s, loss=0.185, test_loss=0.\n",
      "MS - Fold 4:  72%|▋| 2164/3000 [01:51<00:43, 19.42it/s, loss=0.174, test_loss=0.\n"
     ]
    },
    {
     "name": "stdout",
     "output_type": "stream",
     "text": [
      "Mean Accuracy (MS): 0.9961\n",
      "Mean Sensitivity (MS): 0.9966\n",
      "Mean Specificity (MS): 0.9953\n",
      "Mean AUC (MS): 1.0000\n",
      "Working on IAA dataset: 279 samples\n"
     ]
    },
    {
     "name": "stderr",
     "output_type": "stream",
     "text": [
      "IAA - Fold 0:  63%|▋| 1898/3000 [00:53<00:31, 35.52it/s, loss=0.161, test_loss=0\n",
      "IAA - Fold 1:  78%|▊| 2340/3000 [01:05<00:18, 35.46it/s, loss=0.166, test_loss=0\n",
      "IAA - Fold 2:  39%|▍| 1178/3000 [00:33<00:52, 34.95it/s, loss=0.141, test_loss=0\n",
      "IAA - Fold 3:  84%|▊| 2530/3000 [01:12<00:13, 35.03it/s, loss=0.154, test_loss=0\n",
      "IAA - Fold 4:  69%|▋| 2060/3000 [00:58<00:26, 35.03it/s, loss=0.16, test_loss=0.\n"
     ]
    },
    {
     "name": "stdout",
     "output_type": "stream",
     "text": [
      "Mean Accuracy (IAA): 0.9176\n",
      "Mean Sensitivity (IAA): 0.7231\n",
      "Mean Specificity (IAA): 0.9766\n",
      "Mean AUC (IAA): 0.9680\n",
      "Working on RA dataset: 320 samples\n"
     ]
    },
    {
     "name": "stderr",
     "output_type": "stream",
     "text": [
      "RA - Fold 0:  54%|▌| 1612/3000 [00:52<00:44, 30.94it/s, loss=0.166, test_loss=0.\n",
      "RA - Fold 1:  31%|▎| 930/3000 [00:29<01:06, 31.06it/s, loss=0.172, test_loss=0.7\n",
      "RA - Fold 2:  41%|▍| 1216/3000 [00:39<00:57, 30.97it/s, loss=0.165, test_loss=0.\n",
      "RA - Fold 3:  52%|▌| 1570/3000 [00:50<00:46, 30.89it/s, loss=0.188, test_loss=0.\n",
      "RA - Fold 4:  35%|▎| 1040/3000 [00:34<01:04, 30.50it/s, loss=0.171, test_loss=0.\n"
     ]
    },
    {
     "name": "stdout",
     "output_type": "stream",
     "text": [
      "Mean Accuracy (RA): 0.8219\n",
      "Mean Sensitivity (RA): 0.6509\n",
      "Mean Specificity (RA): 0.9065\n",
      "Mean AUC (RA): 0.9028\n",
      "Working on T1D dataset: 394 samples\n"
     ]
    },
    {
     "name": "stderr",
     "output_type": "stream",
     "text": [
      "T1D - Fold 0:  62%|▌| 1869/3000 [01:15<00:45, 24.85it/s, loss=0.178, test_loss=0\n",
      "T1D - Fold 1:  61%|▌| 1844/3000 [01:13<00:46, 25.05it/s, loss=0.166, test_loss=0\n",
      "T1D - Fold 2:  55%|▌| 1636/3000 [01:06<00:55, 24.72it/s, loss=0.136, test_loss=0\n",
      "T1D - Fold 3:  95%|▉| 2851/3000 [01:55<00:06, 24.65it/s, loss=0.155, test_loss=0\n",
      "T1D - Fold 4:  74%|▋| 2207/3000 [01:27<00:31, 25.10it/s, loss=0.163, test_loss=0\n"
     ]
    },
    {
     "name": "stdout",
     "output_type": "stream",
     "text": [
      "Mean Accuracy (T1D): 0.9848\n",
      "Mean Sensitivity (T1D): 0.9778\n",
      "Mean Specificity (T1D): 0.9907\n",
      "Mean AUC (T1D): 0.9973\n",
      "Working on MS dataset: 508 samples\n"
     ]
    },
    {
     "name": "stderr",
     "output_type": "stream",
     "text": [
      "MS - Fold 0:  83%|▊| 2480/3000 [02:12<00:27, 18.66it/s, loss=0.198, test_loss=0.\n",
      "MS - Fold 1: 100%|█| 3000/3000 [02:35<00:00, 19.24it/s, loss=0.183, test_loss=0.\n",
      "MS - Fold 2:  98%|▉| 2926/3000 [02:31<00:03, 19.35it/s, loss=0.166, test_loss=0.\n",
      "MS - Fold 3:  97%|▉| 2923/3000 [02:32<00:04, 19.20it/s, loss=0.164, test_loss=0.\n",
      "MS - Fold 4:  74%|▋| 2211/3000 [01:56<00:41, 18.90it/s, loss=0.195, test_loss=0.\n"
     ]
    },
    {
     "name": "stdout",
     "output_type": "stream",
     "text": [
      "Mean Accuracy (MS): 0.9941\n",
      "Mean Sensitivity (MS): 0.9966\n",
      "Mean Specificity (MS): 0.9907\n",
      "Mean AUC (MS): 0.9995\n",
      "Working on IAA dataset: 279 samples\n"
     ]
    },
    {
     "name": "stderr",
     "output_type": "stream",
     "text": [
      "IAA - Fold 0:  37%|▎| 1119/3000 [00:32<00:54, 34.26it/s, loss=0.184, test_loss=0\n",
      "IAA - Fold 1:  68%|▋| 2054/3000 [00:59<00:27, 34.48it/s, loss=0.171, test_loss=0\n",
      "IAA - Fold 2:  68%|▋| 2039/3000 [00:59<00:28, 34.16it/s, loss=0.192, test_loss=0\n",
      "IAA - Fold 3:  73%|▋| 2204/3000 [01:04<00:23, 34.09it/s, loss=0.146, test_loss=0\n",
      "IAA - Fold 4:  35%|▎| 1048/3000 [00:30<00:56, 34.40it/s, loss=0.191, test_loss=0\n"
     ]
    },
    {
     "name": "stdout",
     "output_type": "stream",
     "text": [
      "Mean Accuracy (IAA): 0.9211\n",
      "Mean Sensitivity (IAA): 0.7538\n",
      "Mean Specificity (IAA): 0.9720\n",
      "Mean AUC (IAA): 0.9681\n",
      "Working on RA dataset: 320 samples\n"
     ]
    },
    {
     "name": "stderr",
     "output_type": "stream",
     "text": [
      "RA - Fold 0:  48%|▍| 1428/3000 [00:47<00:52, 30.19it/s, loss=0.191, test_loss=0.\n",
      "RA - Fold 1:  47%|▍| 1416/3000 [00:47<00:53, 29.68it/s, loss=0.192, test_loss=0.\n",
      "RA - Fold 2:  85%|▊| 2562/3000 [01:24<00:14, 30.16it/s, loss=0.175, test_loss=0.\n",
      "RA - Fold 3:  51%|▌| 1533/3000 [00:50<00:48, 30.55it/s, loss=0.18, test_loss=0.3\n",
      "RA - Fold 4:  32%|▎| 963/3000 [00:32<01:07, 30.08it/s, loss=0.173, test_loss=0.4\n"
     ]
    },
    {
     "name": "stdout",
     "output_type": "stream",
     "text": [
      "Mean Accuracy (RA): 0.8906\n",
      "Mean Sensitivity (RA): 0.8396\n",
      "Mean Specificity (RA): 0.9159\n",
      "Mean AUC (RA): 0.9485\n",
      "Working on T1D dataset: 394 samples\n"
     ]
    },
    {
     "name": "stderr",
     "output_type": "stream",
     "text": [
      "T1D - Fold 0:  65%|▋| 1953/3000 [01:19<00:42, 24.50it/s, loss=0.184, test_loss=0\n",
      "T1D - Fold 1:  53%|▌| 1597/3000 [01:03<00:55, 25.33it/s, loss=0.142, test_loss=0\n",
      "T1D - Fold 2:  82%|▊| 2445/3000 [01:36<00:21, 25.39it/s, loss=0.189, test_loss=0\n",
      "T1D - Fold 3:  84%|▊| 2522/3000 [01:38<00:18, 25.51it/s, loss=0.19, test_loss=0.\n",
      "T1D - Fold 4:  79%|▊| 2368/3000 [01:33<00:25, 25.26it/s, loss=0.174, test_loss=0\n"
     ]
    },
    {
     "name": "stdout",
     "output_type": "stream",
     "text": [
      "Mean Accuracy (T1D): 0.9569\n",
      "Mean Sensitivity (T1D): 0.9556\n",
      "Mean Specificity (T1D): 0.9579\n",
      "Mean AUC (T1D): 0.9908\n",
      "Working on MS dataset: 508 samples\n"
     ]
    },
    {
     "name": "stderr",
     "output_type": "stream",
     "text": [
      "MS - Fold 0:  82%|▊| 2468/3000 [02:07<00:27, 19.33it/s, loss=0.172, test_loss=0.\n",
      "MS - Fold 1: 100%|█| 3000/3000 [02:36<00:00, 19.13it/s, loss=0.193, test_loss=0.\n",
      "MS - Fold 2: 100%|█| 3000/3000 [02:35<00:00, 19.28it/s, loss=0.208, test_loss=0.\n",
      "MS - Fold 3: 100%|█| 3000/3000 [02:35<00:00, 19.23it/s, loss=0.199, test_loss=0.\n",
      "MS - Fold 4:  70%|▋| 2097/3000 [01:48<00:46, 19.25it/s, loss=0.191, test_loss=0.\n"
     ]
    },
    {
     "name": "stdout",
     "output_type": "stream",
     "text": [
      "Mean Accuracy (MS): 0.9882\n",
      "Mean Sensitivity (MS): 0.9932\n",
      "Mean Specificity (MS): 0.9813\n",
      "Mean AUC (MS): 0.9995\n",
      "Working on IAA dataset: 279 samples\n"
     ]
    },
    {
     "name": "stderr",
     "output_type": "stream",
     "text": [
      "IAA - Fold 0:  46%|▍| 1376/3000 [00:39<00:46, 34.84it/s, loss=0.233, test_loss=0\n",
      "IAA - Fold 1:  76%|▊| 2293/3000 [01:05<00:20, 34.95it/s, loss=0.146, test_loss=0\n",
      "IAA - Fold 2:  71%|▋| 2136/3000 [01:01<00:24, 34.72it/s, loss=0.166, test_loss=0\n",
      "IAA - Fold 3:  87%|▊| 2599/3000 [01:14<00:11, 34.86it/s, loss=0.13, test_loss=0.\n",
      "IAA - Fold 4:  35%|▎| 1060/3000 [00:31<00:56, 34.05it/s, loss=0.192, test_loss=0\n"
     ]
    },
    {
     "name": "stdout",
     "output_type": "stream",
     "text": [
      "Mean Accuracy (IAA): 0.9355\n",
      "Mean Sensitivity (IAA): 0.8000\n",
      "Mean Specificity (IAA): 0.9766\n",
      "Mean AUC (IAA): 0.9814\n",
      "Working on RA dataset: 320 samples\n"
     ]
    },
    {
     "name": "stderr",
     "output_type": "stream",
     "text": [
      "RA - Fold 0:  53%|▌| 1593/3000 [00:51<00:45, 30.79it/s, loss=0.223, test_loss=0.\n",
      "RA - Fold 1:  32%|▎| 953/3000 [00:31<01:07, 30.20it/s, loss=0.154, test_loss=0.4\n",
      "RA - Fold 2:  31%|▎| 943/3000 [00:30<01:07, 30.67it/s, loss=0.198, test_loss=0.4\n",
      "RA - Fold 3:  69%|▋| 2064/3000 [01:07<00:30, 30.73it/s, loss=0.156, test_loss=0.\n",
      "RA - Fold 4:  44%|▍| 1306/3000 [00:42<00:55, 30.75it/s, loss=0.223, test_loss=0.\n"
     ]
    },
    {
     "name": "stdout",
     "output_type": "stream",
     "text": [
      "Mean Accuracy (RA): 0.8625\n",
      "Mean Sensitivity (RA): 0.7830\n",
      "Mean Specificity (RA): 0.9019\n",
      "Mean AUC (RA): 0.9509\n",
      "Working on T1D dataset: 394 samples\n"
     ]
    },
    {
     "name": "stderr",
     "output_type": "stream",
     "text": [
      "T1D - Fold 0: 100%|█| 3000/3000 [01:56<00:00, 25.83it/s, loss=0.18, test_loss=0.\n",
      "T1D - Fold 1:  51%|▌| 1533/3000 [01:00<00:57, 25.31it/s, loss=0.21, test_loss=0.\n",
      "T1D - Fold 2:  47%|▍| 1399/3000 [00:55<01:03, 25.24it/s, loss=0.178, test_loss=0\n",
      "T1D - Fold 3:  82%|▊| 2462/3000 [01:37<00:21, 25.27it/s, loss=0.161, test_loss=0\n",
      "T1D - Fold 4:  60%|▌| 1798/3000 [01:11<00:47, 25.15it/s, loss=0.201, test_loss=0\n"
     ]
    },
    {
     "name": "stdout",
     "output_type": "stream",
     "text": [
      "Mean Accuracy (T1D): 0.9797\n",
      "Mean Sensitivity (T1D): 0.9778\n",
      "Mean Specificity (T1D): 0.9813\n",
      "Mean AUC (T1D): 0.9985\n",
      "Working on MS dataset: 508 samples\n"
     ]
    },
    {
     "name": "stderr",
     "output_type": "stream",
     "text": [
      "MS - Fold 0:  85%|▊| 2561/3000 [02:19<00:23, 18.36it/s, loss=0.179, test_loss=0.\n",
      "MS - Fold 1: 100%|█| 3000/3000 [02:39<00:00, 18.79it/s, loss=0.198, test_loss=0.\n",
      "MS - Fold 2:  73%|▋| 2180/3000 [01:56<00:43, 18.68it/s, loss=0.159, test_loss=0.\n",
      "MS - Fold 3: 100%|█| 3000/3000 [02:40<00:00, 18.75it/s, loss=0.167, test_loss=0.\n",
      "MS - Fold 4:  72%|▋| 2146/3000 [01:51<00:44, 19.16it/s, loss=0.149, test_loss=0.\n"
     ]
    },
    {
     "name": "stdout",
     "output_type": "stream",
     "text": [
      "Mean Accuracy (MS): 0.9823\n",
      "Mean Sensitivity (MS): 0.9864\n",
      "Mean Specificity (MS): 0.9766\n",
      "Mean AUC (MS): 0.9980\n",
      "Working on IAA dataset: 279 samples\n"
     ]
    },
    {
     "name": "stderr",
     "output_type": "stream",
     "text": [
      "IAA - Fold 0:  39%|▍| 1161/3000 [00:32<00:52, 35.26it/s, loss=0.199, test_loss=0\n",
      "IAA - Fold 1:  84%|▊| 2529/3000 [01:12<00:13, 35.04it/s, loss=0.188, test_loss=0\n",
      "IAA - Fold 2:  42%|▍| 1266/3000 [00:35<00:49, 35.28it/s, loss=0.138, test_loss=0\n",
      "IAA - Fold 3: 100%|█| 3000/3000 [01:25<00:00, 35.20it/s, loss=0.183, test_loss=0\n",
      "IAA - Fold 4:  55%|▌| 1662/3000 [00:47<00:38, 34.86it/s, loss=0.168, test_loss=0\n"
     ]
    },
    {
     "name": "stdout",
     "output_type": "stream",
     "text": [
      "Mean Accuracy (IAA): 0.9462\n",
      "Mean Sensitivity (IAA): 0.8000\n",
      "Mean Specificity (IAA): 0.9907\n",
      "Mean AUC (IAA): 0.9833\n",
      "Working on RA dataset: 320 samples\n"
     ]
    },
    {
     "name": "stderr",
     "output_type": "stream",
     "text": [
      "RA - Fold 0:  60%|▌| 1810/3000 [00:58<00:38, 31.13it/s, loss=0.196, test_loss=0.\n",
      "RA - Fold 1:  62%|▌| 1861/3000 [00:59<00:36, 31.38it/s, loss=0.169, test_loss=0.\n",
      "RA - Fold 2:  43%|▍| 1298/3000 [00:41<00:54, 31.07it/s, loss=0.16, test_loss=0.5\n",
      "RA - Fold 3:  36%|▎| 1094/3000 [00:35<01:01, 30.78it/s, loss=0.177, test_loss=0.\n",
      "RA - Fold 4:  56%|▌| 1666/3000 [00:52<00:42, 31.61it/s, loss=0.233, test_loss=0.\n"
     ]
    },
    {
     "name": "stdout",
     "output_type": "stream",
     "text": [
      "Mean Accuracy (RA): 0.8562\n",
      "Mean Sensitivity (RA): 0.7170\n",
      "Mean Specificity (RA): 0.9252\n",
      "Mean AUC (RA): 0.9270\n",
      "Working on T1D dataset: 394 samples\n"
     ]
    },
    {
     "name": "stderr",
     "output_type": "stream",
     "text": [
      "T1D - Fold 0:  95%|▉| 2854/3000 [01:51<00:05, 25.69it/s, loss=0.16, test_loss=0.\n",
      "T1D - Fold 1:  59%|▌| 1774/3000 [01:10<00:48, 25.15it/s, loss=0.172, test_loss=0\n",
      "T1D - Fold 2:  41%|▍| 1231/3000 [00:47<01:08, 25.79it/s, loss=0.143, test_loss=0\n",
      "T1D - Fold 3: 100%|█| 3000/3000 [01:57<00:00, 25.44it/s, loss=0.199, test_loss=0\n",
      "T1D - Fold 4:  79%|▊| 2382/3000 [01:35<00:24, 25.06it/s, loss=0.189, test_loss=0\n"
     ]
    },
    {
     "name": "stdout",
     "output_type": "stream",
     "text": [
      "Mean Accuracy (T1D): 0.9746\n",
      "Mean Sensitivity (T1D): 0.9556\n",
      "Mean Specificity (T1D): 0.9907\n",
      "Mean AUC (T1D): 0.9967\n",
      "Working on MS dataset: 508 samples\n"
     ]
    },
    {
     "name": "stderr",
     "output_type": "stream",
     "text": [
      "MS - Fold 0: 100%|█| 3000/3000 [02:39<00:00, 18.76it/s, loss=0.163, test_loss=0.\n",
      "MS - Fold 1:  92%|▉| 2765/3000 [02:24<00:12, 19.11it/s, loss=0.156, test_loss=0.\n",
      "MS - Fold 2:  71%|▋| 2128/3000 [01:55<00:47, 18.46it/s, loss=0.2, test_loss=0.06\n",
      "MS - Fold 3: 100%|█| 3000/3000 [02:35<00:00, 19.28it/s, loss=0.171, test_loss=0.\n",
      "MS - Fold 4:  64%|▋| 1934/3000 [01:40<00:55, 19.20it/s, loss=0.177, test_loss=0.\n"
     ]
    },
    {
     "name": "stdout",
     "output_type": "stream",
     "text": [
      "Mean Accuracy (MS): 0.9902\n",
      "Mean Sensitivity (MS): 0.9932\n",
      "Mean Specificity (MS): 0.9860\n",
      "Mean AUC (MS): 0.9993\n",
      "Working on IAA dataset: 279 samples\n"
     ]
    },
    {
     "name": "stderr",
     "output_type": "stream",
     "text": [
      "IAA - Fold 0:  31%|▎| 928/3000 [00:26<00:59, 34.85it/s, loss=0.196, test_loss=0.\n",
      "IAA - Fold 1:  37%|▎| 1099/3000 [00:31<00:53, 35.41it/s, loss=0.158, test_loss=0\n",
      "IAA - Fold 2:  53%|▌| 1592/3000 [00:45<00:40, 35.19it/s, loss=0.147, test_loss=0\n",
      "IAA - Fold 3:  65%|▋| 1961/3000 [00:55<00:29, 35.38it/s, loss=0.173, test_loss=0\n",
      "IAA - Fold 4:  47%|▍| 1414/3000 [00:40<00:45, 34.87it/s, loss=0.229, test_loss=0\n"
     ]
    },
    {
     "name": "stdout",
     "output_type": "stream",
     "text": [
      "Mean Accuracy (IAA): 0.9283\n",
      "Mean Sensitivity (IAA): 0.7538\n",
      "Mean Specificity (IAA): 0.9813\n",
      "Mean AUC (IAA): 0.9679\n",
      "Working on RA dataset: 320 samples\n"
     ]
    },
    {
     "name": "stderr",
     "output_type": "stream",
     "text": [
      "RA - Fold 0:  42%|▍| 1255/3000 [00:40<00:55, 31.27it/s, loss=0.178, test_loss=0.\n",
      "RA - Fold 1:  63%|▋| 1894/3000 [01:01<00:35, 30.77it/s, loss=0.162, test_loss=0.\n",
      "RA - Fold 2:  52%|▌| 1552/3000 [00:50<00:47, 30.46it/s, loss=0.152, test_loss=0.\n",
      "RA - Fold 3:  63%|▋| 1884/3000 [01:01<00:36, 30.87it/s, loss=0.158, test_loss=0.\n",
      "RA - Fold 4:  65%|▋| 1956/3000 [01:04<00:34, 30.23it/s, loss=0.159, test_loss=0.\n"
     ]
    },
    {
     "name": "stdout",
     "output_type": "stream",
     "text": [
      "Mean Accuracy (RA): 0.8469\n",
      "Mean Sensitivity (RA): 0.7075\n",
      "Mean Specificity (RA): 0.9159\n",
      "Mean AUC (RA): 0.9259\n",
      "Working on T1D dataset: 394 samples\n"
     ]
    },
    {
     "name": "stderr",
     "output_type": "stream",
     "text": [
      "T1D - Fold 0:  45%|▍| 1349/3000 [00:54<01:06, 24.67it/s, loss=0.151, test_loss=0\n",
      "T1D - Fold 1:  63%|▋| 1881/3000 [01:17<00:46, 24.21it/s, loss=0.197, test_loss=0\n",
      "T1D - Fold 2:  63%|▋| 1885/3000 [01:17<00:45, 24.47it/s, loss=0.186, test_loss=0\n",
      "T1D - Fold 3:  59%|▌| 1761/3000 [01:10<00:49, 24.92it/s, loss=0.169, test_loss=0\n",
      "T1D - Fold 4: 100%|█| 3000/3000 [02:00<00:00, 24.98it/s, loss=0.169, test_loss=0\n"
     ]
    },
    {
     "name": "stdout",
     "output_type": "stream",
     "text": [
      "Mean Accuracy (T1D): 0.9746\n",
      "Mean Sensitivity (T1D): 0.9556\n",
      "Mean Specificity (T1D): 0.9907\n",
      "Mean AUC (T1D): 0.9958\n",
      "Working on MS dataset: 508 samples\n"
     ]
    },
    {
     "name": "stderr",
     "output_type": "stream",
     "text": [
      "MS - Fold 0:  96%|▉| 2878/3000 [02:30<00:06, 19.16it/s, loss=0.164, test_loss=0.\n",
      "MS - Fold 1:  80%|▊| 2407/3000 [02:04<00:30, 19.38it/s, loss=0.156, test_loss=0.\n",
      "MS - Fold 2:  66%|▋| 1994/3000 [01:43<00:52, 19.32it/s, loss=0.168, test_loss=0.\n",
      "MS - Fold 3: 100%|█| 3000/3000 [02:35<00:00, 19.27it/s, loss=0.208, test_loss=0.\n",
      "MS - Fold 4:  85%|▊| 2554/3000 [02:12<00:23, 19.29it/s, loss=0.159, test_loss=0.\n"
     ]
    },
    {
     "name": "stdout",
     "output_type": "stream",
     "text": [
      "Mean Accuracy (MS): 0.9882\n",
      "Mean Sensitivity (MS): 0.9932\n",
      "Mean Specificity (MS): 0.9813\n",
      "Mean AUC (MS): 0.9997\n",
      "Working on IAA dataset: 279 samples\n"
     ]
    },
    {
     "name": "stderr",
     "output_type": "stream",
     "text": [
      "IAA - Fold 0:  42%|▍| 1255/3000 [00:35<00:49, 35.58it/s, loss=0.217, test_loss=0\n",
      "IAA - Fold 1:  66%|▋| 1970/3000 [00:55<00:28, 35.73it/s, loss=0.158, test_loss=0\n",
      "IAA - Fold 2:  42%|▍| 1268/3000 [00:35<00:49, 35.22it/s, loss=0.17, test_loss=0.\n",
      "IAA - Fold 3:  70%|▋| 2085/3000 [00:59<00:26, 35.11it/s, loss=0.152, test_loss=0\n",
      "IAA - Fold 4:  51%|▌| 1529/3000 [00:43<00:41, 35.37it/s, loss=0.181, test_loss=0\n"
     ]
    },
    {
     "name": "stdout",
     "output_type": "stream",
     "text": [
      "Mean Accuracy (IAA): 0.9427\n",
      "Mean Sensitivity (IAA): 0.8154\n",
      "Mean Specificity (IAA): 0.9813\n",
      "Mean AUC (IAA): 0.9797\n",
      "Working on RA dataset: 320 samples\n"
     ]
    },
    {
     "name": "stderr",
     "output_type": "stream",
     "text": [
      "RA - Fold 0:  58%|▌| 1749/3000 [00:56<00:40, 30.95it/s, loss=0.2, test_loss=0.32\n",
      "RA - Fold 1:  59%|▌| 1768/3000 [00:57<00:40, 30.68it/s, loss=0.19, test_loss=0.5\n",
      "RA - Fold 2:  67%|▋| 1996/3000 [01:05<00:32, 30.58it/s, loss=0.199, test_loss=0.\n",
      "RA - Fold 3:  56%|▌| 1684/3000 [00:55<00:43, 30.43it/s, loss=0.187, test_loss=0.\n",
      "RA - Fold 4:  72%|▋| 2168/3000 [01:11<00:27, 30.52it/s, loss=0.159, test_loss=0.\n"
     ]
    },
    {
     "name": "stdout",
     "output_type": "stream",
     "text": [
      "Mean Accuracy (RA): 0.9281\n",
      "Mean Sensitivity (RA): 0.8868\n",
      "Mean Specificity (RA): 0.9486\n",
      "Mean AUC (RA): 0.9717\n",
      "Working on T1D dataset: 394 samples\n"
     ]
    },
    {
     "name": "stderr",
     "output_type": "stream",
     "text": [
      "T1D - Fold 0:  47%|▍| 1403/3000 [00:56<01:04, 24.76it/s, loss=0.161, test_loss=0\n",
      "T1D - Fold 1:  69%|▋| 2069/3000 [01:23<00:37, 24.70it/s, loss=0.16, test_loss=0.\n",
      "T1D - Fold 2:  39%|▍| 1178/3000 [00:48<01:14, 24.52it/s, loss=0.15, test_loss=0.\n",
      "T1D - Fold 3: 100%|█| 3000/3000 [01:58<00:00, 25.24it/s, loss=0.171, test_loss=0\n",
      "T1D - Fold 4:  81%|▊| 2432/3000 [01:36<00:22, 25.10it/s, loss=0.16, test_loss=0.\n"
     ]
    },
    {
     "name": "stdout",
     "output_type": "stream",
     "text": [
      "Mean Accuracy (T1D): 0.9772\n",
      "Mean Sensitivity (T1D): 0.9667\n",
      "Mean Specificity (T1D): 0.9860\n",
      "Mean AUC (T1D): 0.9982\n",
      "Working on MS dataset: 508 samples\n"
     ]
    },
    {
     "name": "stderr",
     "output_type": "stream",
     "text": [
      "MS - Fold 0:  77%|▊| 2298/3000 [01:59<00:36, 19.18it/s, loss=0.155, test_loss=0.\n",
      "MS - Fold 1: 100%|█| 3000/3000 [02:38<00:00, 18.97it/s, loss=0.177, test_loss=0.\n",
      "MS - Fold 2:  66%|▋| 1978/3000 [01:46<00:55, 18.49it/s, loss=0.164, test_loss=0.\n",
      "MS - Fold 3: 100%|█| 3000/3000 [02:38<00:00, 18.97it/s, loss=0.151, test_loss=0.\n",
      "MS - Fold 4:  70%|▋| 2109/3000 [01:51<00:47, 18.95it/s, loss=0.175, test_loss=0.\n"
     ]
    },
    {
     "name": "stdout",
     "output_type": "stream",
     "text": [
      "Mean Accuracy (MS): 0.9823\n",
      "Mean Sensitivity (MS): 0.9830\n",
      "Mean Specificity (MS): 0.9813\n",
      "Mean AUC (MS): 0.9991\n",
      "Working on IAA dataset: 279 samples\n"
     ]
    },
    {
     "name": "stderr",
     "output_type": "stream",
     "text": [
      "IAA - Fold 0:  43%|▍| 1297/3000 [00:37<00:49, 34.33it/s, loss=0.197, test_loss=0\n",
      "IAA - Fold 1: 100%|█| 3000/3000 [01:26<00:00, 34.48it/s, loss=0.16, test_loss=0.\n",
      "IAA - Fold 2:  60%|▌| 1814/3000 [00:52<00:34, 34.25it/s, loss=0.209, test_loss=0\n",
      "IAA - Fold 3:  77%|▊| 2319/3000 [01:05<00:19, 35.14it/s, loss=0.195, test_loss=0\n",
      "IAA - Fold 4:  68%|▋| 2044/3000 [00:57<00:27, 35.37it/s, loss=0.179, test_loss=0\n"
     ]
    },
    {
     "name": "stdout",
     "output_type": "stream",
     "text": [
      "Mean Accuracy (IAA): 0.9498\n",
      "Mean Sensitivity (IAA): 0.8308\n",
      "Mean Specificity (IAA): 0.9860\n",
      "Mean AUC (IAA): 0.9881\n",
      "Working on RA dataset: 320 samples\n"
     ]
    },
    {
     "name": "stderr",
     "output_type": "stream",
     "text": [
      "RA - Fold 0:  58%|▌| 1731/3000 [00:55<00:40, 31.30it/s, loss=0.213, test_loss=0.\n",
      "RA - Fold 1:  47%|▍| 1398/3000 [00:45<00:51, 30.97it/s, loss=0.207, test_loss=0.\n",
      "RA - Fold 2:  66%|▋| 1975/3000 [01:03<00:32, 31.19it/s, loss=0.203, test_loss=0.\n",
      "RA - Fold 3:  78%|▊| 2342/3000 [01:14<00:20, 31.56it/s, loss=0.178, test_loss=0.\n",
      "RA - Fold 4:  57%|▌| 1698/3000 [00:54<00:42, 30.95it/s, loss=0.19, test_loss=0.5\n"
     ]
    },
    {
     "name": "stdout",
     "output_type": "stream",
     "text": [
      "Mean Accuracy (RA): 0.8594\n",
      "Mean Sensitivity (RA): 0.7453\n",
      "Mean Specificity (RA): 0.9159\n",
      "Mean AUC (RA): 0.9319\n",
      "Working on T1D dataset: 394 samples\n"
     ]
    },
    {
     "name": "stderr",
     "output_type": "stream",
     "text": [
      "T1D - Fold 0:  75%|▊| 2259/3000 [01:29<00:29, 25.29it/s, loss=0.191, test_loss=0\n",
      "T1D - Fold 1:  75%|▊| 2254/3000 [01:27<00:29, 25.64it/s, loss=0.149, test_loss=0\n",
      "T1D - Fold 2:  53%|▌| 1587/3000 [01:02<00:56, 25.22it/s, loss=0.204, test_loss=0\n",
      "T1D - Fold 3: 100%|█| 3000/3000 [01:56<00:00, 25.82it/s, loss=0.186, test_loss=0\n",
      "T1D - Fold 4:  94%|▉| 2834/3000 [01:52<00:06, 25.14it/s, loss=0.168, test_loss=0\n"
     ]
    },
    {
     "name": "stdout",
     "output_type": "stream",
     "text": [
      "Mean Accuracy (T1D): 0.9797\n",
      "Mean Sensitivity (T1D): 0.9667\n",
      "Mean Specificity (T1D): 0.9907\n",
      "Mean AUC (T1D): 0.9976\n",
      "Working on MS dataset: 508 samples\n"
     ]
    },
    {
     "name": "stderr",
     "output_type": "stream",
     "text": [
      "MS - Fold 0:  71%|▋| 2141/3000 [01:52<00:45, 19.02it/s, loss=0.169, test_loss=0.\n",
      "MS - Fold 1: 100%|█| 3000/3000 [02:37<00:00, 19.10it/s, loss=0.17, test_loss=0.0\n",
      "MS - Fold 2:  78%|▊| 2335/3000 [02:01<00:34, 19.18it/s, loss=0.188, test_loss=0.\n",
      "MS - Fold 3: 100%|█| 3000/3000 [02:38<00:00, 18.93it/s, loss=0.154, test_loss=0.\n",
      "MS - Fold 4:  64%|▋| 1924/3000 [01:39<00:55, 19.34it/s, loss=0.196, test_loss=0.\n"
     ]
    },
    {
     "name": "stdout",
     "output_type": "stream",
     "text": [
      "Mean Accuracy (MS): 0.9862\n",
      "Mean Sensitivity (MS): 0.9966\n",
      "Mean Specificity (MS): 0.9720\n",
      "Mean AUC (MS): 0.9995\n",
      "Working on IAA dataset: 279 samples\n"
     ]
    },
    {
     "name": "stderr",
     "output_type": "stream",
     "text": [
      "IAA - Fold 0:  44%|▍| 1325/3000 [00:37<00:47, 34.98it/s, loss=0.18, test_loss=0.\n",
      "IAA - Fold 1:  75%|▊| 2258/3000 [01:04<00:21, 34.81it/s, loss=0.153, test_loss=0\n",
      "IAA - Fold 2:  52%|▌| 1561/3000 [00:44<00:40, 35.14it/s, loss=0.175, test_loss=0\n",
      "IAA - Fold 3:  55%|▌| 1641/3000 [00:47<00:38, 34.90it/s, loss=0.185, test_loss=0\n",
      "IAA - Fold 4:  55%|▌| 1661/3000 [00:47<00:38, 34.91it/s, loss=0.197, test_loss=0\n"
     ]
    },
    {
     "name": "stdout",
     "output_type": "stream",
     "text": [
      "Mean Accuracy (IAA): 0.9570\n",
      "Mean Sensitivity (IAA): 0.8615\n",
      "Mean Specificity (IAA): 0.9860\n",
      "Mean AUC (IAA): 0.9853\n",
      "Working on RA dataset: 320 samples\n"
     ]
    },
    {
     "name": "stderr",
     "output_type": "stream",
     "text": [
      "RA - Fold 0:  23%|▏| 693/3000 [00:22<01:13, 31.42it/s, loss=0.211, test_loss=0.4\n",
      "RA - Fold 1:  42%|▍| 1264/3000 [00:41<00:56, 30.73it/s, loss=0.144, test_loss=0.\n",
      "RA - Fold 2:  13%|▏| 402/3000 [00:12<01:23, 31.16it/s, loss=0.251, test_loss=0.7\n",
      "RA - Fold 3:  50%|▌| 1503/3000 [00:48<00:48, 30.68it/s, loss=0.191, test_loss=0.\n",
      "RA - Fold 4:  57%|▌| 1711/3000 [00:57<00:43, 29.94it/s, loss=0.188, test_loss=0.\n"
     ]
    },
    {
     "name": "stdout",
     "output_type": "stream",
     "text": [
      "Mean Accuracy (RA): 0.8031\n",
      "Mean Sensitivity (RA): 0.5755\n",
      "Mean Specificity (RA): 0.9159\n",
      "Mean AUC (RA): 0.8875\n",
      "Working on T1D dataset: 394 samples\n"
     ]
    },
    {
     "name": "stderr",
     "output_type": "stream",
     "text": [
      "T1D - Fold 0:  62%|▌| 1846/3000 [01:14<00:46, 24.64it/s, loss=0.148, test_loss=0\n",
      "T1D - Fold 1:  84%|▊| 2531/3000 [01:43<00:19, 24.44it/s, loss=0.215, test_loss=0\n",
      "T1D - Fold 2:  70%|▋| 2107/3000 [01:25<00:36, 24.54it/s, loss=0.147, test_loss=0\n",
      "T1D - Fold 3:  95%|▉| 2861/3000 [01:56<00:05, 24.56it/s, loss=0.192, test_loss=0\n",
      "T1D - Fold 4:  78%|▊| 2330/3000 [01:35<00:27, 24.31it/s, loss=0.155, test_loss=0\n"
     ]
    },
    {
     "name": "stdout",
     "output_type": "stream",
     "text": [
      "Mean Accuracy (T1D): 0.9619\n",
      "Mean Sensitivity (T1D): 0.9500\n",
      "Mean Specificity (T1D): 0.9720\n",
      "Mean AUC (T1D): 0.9971\n",
      "Working on MS dataset: 508 samples\n"
     ]
    },
    {
     "name": "stderr",
     "output_type": "stream",
     "text": [
      "MS - Fold 0:  80%|▊| 2411/3000 [02:07<00:31, 18.87it/s, loss=0.173, test_loss=0.\n",
      "MS - Fold 1: 100%|█| 3000/3000 [02:36<00:00, 19.14it/s, loss=0.2, test_loss=0.00\n",
      "MS - Fold 2:  59%|▌| 1784/3000 [01:32<01:03, 19.25it/s, loss=0.182, test_loss=0.\n",
      "MS - Fold 3:  86%|▊| 2569/3000 [02:15<00:22, 18.94it/s, loss=0.199, test_loss=0.\n",
      "MS - Fold 4:  85%|▊| 2561/3000 [02:15<00:23, 18.91it/s, loss=0.176, test_loss=0.\n"
     ]
    },
    {
     "name": "stdout",
     "output_type": "stream",
     "text": [
      "Mean Accuracy (MS): 0.9882\n",
      "Mean Sensitivity (MS): 0.9932\n",
      "Mean Specificity (MS): 0.9813\n",
      "Mean AUC (MS): 0.9995\n",
      "Working on IAA dataset: 279 samples\n"
     ]
    },
    {
     "name": "stderr",
     "output_type": "stream",
     "text": [
      "IAA - Fold 0:  43%|▍| 1293/3000 [00:37<00:49, 34.28it/s, loss=0.198, test_loss=0\n",
      "IAA - Fold 1:  70%|▋| 2096/3000 [01:00<00:26, 34.76it/s, loss=0.192, test_loss=0\n",
      "IAA - Fold 2:  76%|▊| 2292/3000 [01:06<00:20, 34.34it/s, loss=0.18, test_loss=0.\n",
      "IAA - Fold 3:  86%|▊| 2574/3000 [01:14<00:12, 34.65it/s, loss=0.172, test_loss=0\n",
      "IAA - Fold 4:  60%|▌| 1801/3000 [00:52<00:35, 34.14it/s, loss=0.195, test_loss=0\n"
     ]
    },
    {
     "name": "stdout",
     "output_type": "stream",
     "text": [
      "Mean Accuracy (IAA): 0.9247\n",
      "Mean Sensitivity (IAA): 0.7385\n",
      "Mean Specificity (IAA): 0.9813\n",
      "Mean AUC (IAA): 0.9725\n",
      "Working on RA dataset: 320 samples\n"
     ]
    },
    {
     "name": "stderr",
     "output_type": "stream",
     "text": [
      "RA - Fold 0:  97%|▉| 2911/3000 [01:34<00:02, 30.69it/s, loss=0.158, test_loss=0.\n",
      "RA - Fold 1:  30%|▎| 914/3000 [00:30<01:08, 30.30it/s, loss=0.225, test_loss=0.3\n",
      "RA - Fold 2:  32%|▎| 948/3000 [00:31<01:08, 30.08it/s, loss=0.173, test_loss=0.6\n",
      "RA - Fold 3:  84%|▊| 2519/3000 [01:23<00:16, 30.06it/s, loss=0.193, test_loss=0.\n",
      "RA - Fold 4:  32%|▎| 975/3000 [00:31<01:05, 30.73it/s, loss=0.223, test_loss=0.4\n"
     ]
    },
    {
     "name": "stdout",
     "output_type": "stream",
     "text": [
      "Mean Accuracy (RA): 0.8438\n",
      "Mean Sensitivity (RA): 0.7075\n",
      "Mean Specificity (RA): 0.9112\n",
      "Mean AUC (RA): 0.9378\n",
      "Working on T1D dataset: 394 samples\n"
     ]
    },
    {
     "name": "stderr",
     "output_type": "stream",
     "text": [
      "T1D - Fold 0:  82%|▊| 2455/3000 [01:39<00:22, 24.75it/s, loss=0.169, test_loss=0\n",
      "T1D - Fold 1:  71%|▋| 2118/3000 [01:25<00:35, 24.91it/s, loss=0.203, test_loss=0\n",
      "T1D - Fold 2:  57%|▌| 1712/3000 [01:09<00:52, 24.65it/s, loss=0.164, test_loss=0\n",
      "T1D - Fold 3:  94%|▉| 2833/3000 [01:55<00:06, 24.53it/s, loss=0.16, test_loss=0.\n",
      "T1D - Fold 4:  72%|▋| 2146/3000 [01:29<00:35, 24.10it/s, loss=0.18, test_loss=0.\n"
     ]
    },
    {
     "name": "stdout",
     "output_type": "stream",
     "text": [
      "Mean Accuracy (T1D): 0.9848\n",
      "Mean Sensitivity (T1D): 0.9833\n",
      "Mean Specificity (T1D): 0.9860\n",
      "Mean AUC (T1D): 0.9975\n",
      "Working on MS dataset: 508 samples\n"
     ]
    },
    {
     "name": "stderr",
     "output_type": "stream",
     "text": [
      "MS - Fold 0:  68%|▋| 2036/3000 [01:46<00:50, 19.08it/s, loss=0.174, test_loss=0.\n",
      "MS - Fold 1: 100%|█| 3000/3000 [02:39<00:00, 18.84it/s, loss=0.181, test_loss=0.\n",
      "MS - Fold 2:  85%|▊| 2538/3000 [02:14<00:24, 18.86it/s, loss=0.189, test_loss=0.\n",
      "MS - Fold 3: 100%|█| 3000/3000 [02:44<00:00, 18.20it/s, loss=0.178, test_loss=0.\n",
      "MS - Fold 4:  56%|▌| 1666/3000 [01:30<01:12, 18.40it/s, loss=0.166, test_loss=0.\n"
     ]
    },
    {
     "name": "stdout",
     "output_type": "stream",
     "text": [
      "Mean Accuracy (MS): 0.9843\n",
      "Mean Sensitivity (MS): 0.9898\n",
      "Mean Specificity (MS): 0.9766\n",
      "Mean AUC (MS): 0.9993\n",
      "Working on IAA dataset: 279 samples\n"
     ]
    },
    {
     "name": "stderr",
     "output_type": "stream",
     "text": [
      "IAA - Fold 0:  33%|▎| 992/3000 [00:28<00:58, 34.59it/s, loss=0.21, test_loss=0.4\n",
      "IAA - Fold 1:  69%|▋| 2072/3000 [01:01<00:27, 33.78it/s, loss=0.188, test_loss=0\n",
      "IAA - Fold 2:  46%|▍| 1366/3000 [00:40<00:48, 34.04it/s, loss=0.17, test_loss=0.\n",
      "IAA - Fold 3:  44%|▍| 1334/3000 [00:39<00:49, 33.36it/s, loss=0.183, test_loss=0\n",
      "IAA - Fold 4:  91%|▉| 2718/3000 [01:20<00:08, 33.97it/s, loss=0.164, test_loss=0\n"
     ]
    },
    {
     "name": "stdout",
     "output_type": "stream",
     "text": [
      "Mean Accuracy (IAA): 0.9176\n",
      "Mean Sensitivity (IAA): 0.7538\n",
      "Mean Specificity (IAA): 0.9673\n",
      "Mean AUC (IAA): 0.9696\n",
      "Working on RA dataset: 320 samples\n"
     ]
    },
    {
     "name": "stderr",
     "output_type": "stream",
     "text": [
      "RA - Fold 0:  60%|▌| 1806/3000 [00:59<00:39, 30.24it/s, loss=0.202, test_loss=0.\n",
      "RA - Fold 1:  46%|▍| 1378/3000 [00:46<00:54, 29.73it/s, loss=0.185, test_loss=0.\n",
      "RA - Fold 2:  54%|▌| 1619/3000 [00:53<00:45, 30.36it/s, loss=0.16, test_loss=0.6\n",
      "RA - Fold 3:  32%|▎| 958/3000 [00:31<01:06, 30.61it/s, loss=0.214, test_loss=0.3\n",
      "RA - Fold 4:  60%|▌| 1810/3000 [00:59<00:39, 30.46it/s, loss=0.192, test_loss=0.\n"
     ]
    },
    {
     "name": "stdout",
     "output_type": "stream",
     "text": [
      "Mean Accuracy (RA): 0.8594\n",
      "Mean Sensitivity (RA): 0.7453\n",
      "Mean Specificity (RA): 0.9159\n",
      "Mean AUC (RA): 0.9149\n",
      "Working on T1D dataset: 394 samples\n"
     ]
    },
    {
     "name": "stderr",
     "output_type": "stream",
     "text": [
      "T1D - Fold 0: 100%|█| 3000/3000 [01:58<00:00, 25.38it/s, loss=0.182, test_loss=0\n",
      "T1D - Fold 1: 100%|█| 3000/3000 [02:03<00:00, 24.20it/s, loss=0.153, test_loss=0\n",
      "T1D - Fold 2:  35%|▎| 1050/3000 [00:41<01:17, 25.02it/s, loss=0.198, test_loss=0\n",
      "T1D - Fold 3: 100%|█| 3000/3000 [01:59<00:00, 25.06it/s, loss=0.153, test_loss=0\n",
      "T1D - Fold 4:  83%|▊| 2489/3000 [01:38<00:20, 25.18it/s, loss=0.161, test_loss=0\n"
     ]
    },
    {
     "name": "stdout",
     "output_type": "stream",
     "text": [
      "Mean Accuracy (T1D): 0.9670\n",
      "Mean Sensitivity (T1D): 0.9500\n",
      "Mean Specificity (T1D): 0.9813\n",
      "Mean AUC (T1D): 0.9975\n",
      "Working on MS dataset: 508 samples\n"
     ]
    },
    {
     "name": "stderr",
     "output_type": "stream",
     "text": [
      "MS - Fold 0:  81%|▊| 2420/3000 [02:08<00:30, 18.91it/s, loss=0.195, test_loss=0.\n",
      "MS - Fold 1: 100%|█| 3000/3000 [02:39<00:00, 18.85it/s, loss=0.144, test_loss=0.\n",
      "MS - Fold 2:  51%|▌| 1532/3000 [01:22<01:18, 18.67it/s, loss=0.177, test_loss=0.\n",
      "MS - Fold 3: 100%|█| 3000/3000 [02:38<00:00, 18.95it/s, loss=0.179, test_loss=0.\n",
      "MS - Fold 4:  51%|▌| 1517/3000 [01:19<01:17, 19.07it/s, loss=0.172, test_loss=0.\n"
     ]
    },
    {
     "name": "stdout",
     "output_type": "stream",
     "text": [
      "Mean Accuracy (MS): 0.9921\n",
      "Mean Sensitivity (MS): 0.9966\n",
      "Mean Specificity (MS): 0.9860\n",
      "Mean AUC (MS): 0.9995\n",
      "Working on IAA dataset: 279 samples\n"
     ]
    },
    {
     "name": "stderr",
     "output_type": "stream",
     "text": [
      "IAA - Fold 0:  66%|▋| 1991/3000 [00:58<00:29, 34.29it/s, loss=0.157, test_loss=0\n",
      "IAA - Fold 1:  73%|▋| 2196/3000 [01:04<00:23, 34.21it/s, loss=0.223, test_loss=0\n",
      "IAA - Fold 2:  73%|▋| 2191/3000 [01:03<00:23, 34.26it/s, loss=0.201, test_loss=0\n",
      "IAA - Fold 3:  89%|▉| 2663/3000 [01:16<00:09, 34.75it/s, loss=0.168, test_loss=0\n",
      "IAA - Fold 4:  56%|▌| 1686/3000 [00:47<00:37, 35.17it/s, loss=0.164, test_loss=0\n"
     ]
    },
    {
     "name": "stdout",
     "output_type": "stream",
     "text": [
      "Mean Accuracy (IAA): 0.9355\n",
      "Mean Sensitivity (IAA): 0.8000\n",
      "Mean Specificity (IAA): 0.9766\n",
      "Mean AUC (IAA): 0.9874\n",
      "Working on RA dataset: 320 samples\n"
     ]
    },
    {
     "name": "stderr",
     "output_type": "stream",
     "text": [
      "RA - Fold 0:  89%|▉| 2681/3000 [01:26<00:10, 30.99it/s, loss=0.155, test_loss=0.\n",
      "RA - Fold 1:  54%|▌| 1619/3000 [00:52<00:45, 30.63it/s, loss=0.17, test_loss=0.2\n",
      "RA - Fold 2:  74%|▋| 2228/3000 [01:11<00:24, 31.01it/s, loss=0.195, test_loss=0.\n",
      "RA - Fold 3:  35%|▎| 1042/3000 [00:33<01:02, 31.47it/s, loss=0.199, test_loss=0.\n",
      "RA - Fold 4:  45%|▍| 1346/3000 [00:44<00:54, 30.50it/s, loss=0.158, test_loss=0.\n"
     ]
    },
    {
     "name": "stdout",
     "output_type": "stream",
     "text": [
      "Mean Accuracy (RA): 0.8281\n",
      "Mean Sensitivity (RA): 0.6792\n",
      "Mean Specificity (RA): 0.9019\n",
      "Mean AUC (RA): 0.8987\n",
      "Working on T1D dataset: 394 samples\n"
     ]
    },
    {
     "name": "stderr",
     "output_type": "stream",
     "text": [
      "T1D - Fold 0:  85%|▊| 2538/3000 [01:43<00:18, 24.54it/s, loss=0.193, test_loss=0\n",
      "T1D - Fold 1:  97%|▉| 2920/3000 [02:04<00:03, 23.51it/s, loss=0.16, test_loss=0.\n",
      "T1D - Fold 2:  61%|▌| 1822/3000 [01:14<00:47, 24.57it/s, loss=0.173, test_loss=0\n",
      "T1D - Fold 3:  83%|▊| 2503/3000 [01:42<00:20, 24.44it/s, loss=0.166, test_loss=0\n",
      "T1D - Fold 4:  96%|▉| 2887/3000 [01:57<00:04, 24.59it/s, loss=0.161, test_loss=0\n"
     ]
    },
    {
     "name": "stdout",
     "output_type": "stream",
     "text": [
      "Mean Accuracy (T1D): 0.9873\n",
      "Mean Sensitivity (T1D): 0.9889\n",
      "Mean Specificity (T1D): 0.9860\n",
      "Mean AUC (T1D): 0.9987\n",
      "Working on MS dataset: 508 samples\n"
     ]
    },
    {
     "name": "stderr",
     "output_type": "stream",
     "text": [
      "MS - Fold 0:  74%|▋| 2210/3000 [01:56<00:41, 18.92it/s, loss=0.191, test_loss=0.\n",
      "MS - Fold 1:  77%|▊| 2301/3000 [01:59<00:36, 19.20it/s, loss=0.209, test_loss=0.\n",
      "MS - Fold 2:  86%|▊| 2594/3000 [02:16<00:21, 19.04it/s, loss=0.164, test_loss=0.\n",
      "MS - Fold 3:  92%|▉| 2752/3000 [02:26<00:13, 18.81it/s, loss=0.194, test_loss=0.\n",
      "MS - Fold 4:  49%|▍| 1483/3000 [01:16<01:18, 19.42it/s, loss=0.17, test_loss=0.0\n"
     ]
    },
    {
     "name": "stdout",
     "output_type": "stream",
     "text": [
      "Mean Accuracy (MS): 0.9843\n",
      "Mean Sensitivity (MS): 0.9830\n",
      "Mean Specificity (MS): 0.9860\n",
      "Mean AUC (MS): 0.9989\n",
      "Working on IAA dataset: 279 samples\n"
     ]
    },
    {
     "name": "stderr",
     "output_type": "stream",
     "text": [
      "IAA - Fold 0:  66%|▋| 1992/3000 [00:57<00:28, 34.77it/s, loss=0.114, test_loss=0\n",
      "IAA - Fold 1:  70%|▋| 2088/3000 [01:00<00:26, 34.38it/s, loss=0.188, test_loss=0\n",
      "IAA - Fold 2:  75%|▊| 2261/3000 [01:04<00:21, 35.08it/s, loss=0.145, test_loss=0\n",
      "IAA - Fold 3:  96%|▉| 2885/3000 [01:22<00:03, 34.87it/s, loss=0.152, test_loss=0\n",
      "IAA - Fold 4:  64%|▋| 1921/3000 [00:54<00:30, 35.10it/s, loss=0.168, test_loss=0\n"
     ]
    },
    {
     "name": "stdout",
     "output_type": "stream",
     "text": [
      "Mean Accuracy (IAA): 0.9534\n",
      "Mean Sensitivity (IAA): 0.8615\n",
      "Mean Specificity (IAA): 0.9813\n",
      "Mean AUC (IAA): 0.9895\n",
      "Working on RA dataset: 320 samples\n"
     ]
    },
    {
     "name": "stderr",
     "output_type": "stream",
     "text": [
      "RA - Fold 0:  74%|▋| 2233/3000 [01:12<00:24, 30.82it/s, loss=0.151, test_loss=0.\n",
      "RA - Fold 1:  52%|▌| 1561/3000 [00:50<00:46, 30.69it/s, loss=0.191, test_loss=0.\n",
      "RA - Fold 2:  70%|▋| 2104/3000 [01:09<00:29, 30.25it/s, loss=0.202, test_loss=0.\n",
      "RA - Fold 3:  64%|▋| 1926/3000 [01:03<00:35, 30.10it/s, loss=0.221, test_loss=0.\n",
      "RA - Fold 4:  36%|▎| 1089/3000 [00:36<01:03, 29.95it/s, loss=0.16, test_loss=0.3\n"
     ]
    },
    {
     "name": "stdout",
     "output_type": "stream",
     "text": [
      "Mean Accuracy (RA): 0.8750\n",
      "Mean Sensitivity (RA): 0.7925\n",
      "Mean Specificity (RA): 0.9159\n",
      "Mean AUC (RA): 0.9553\n",
      "Working on T1D dataset: 394 samples\n"
     ]
    },
    {
     "name": "stderr",
     "output_type": "stream",
     "text": [
      "T1D - Fold 0:  62%|▌| 1858/3000 [01:14<00:45, 24.88it/s, loss=0.171, test_loss=0\n",
      "T1D - Fold 1:  82%|▊| 2457/3000 [01:38<00:21, 24.89it/s, loss=0.138, test_loss=0\n",
      "T1D - Fold 2:  47%|▍| 1416/3000 [00:56<01:03, 24.87it/s, loss=0.221, test_loss=0\n",
      "T1D - Fold 3:  71%|▋| 2141/3000 [01:26<00:34, 24.67it/s, loss=0.164, test_loss=0\n",
      "T1D - Fold 4:  74%|▋| 2219/3000 [01:28<00:31, 25.16it/s, loss=0.196, test_loss=0\n"
     ]
    },
    {
     "name": "stdout",
     "output_type": "stream",
     "text": [
      "Mean Accuracy (T1D): 0.9848\n",
      "Mean Sensitivity (T1D): 0.9778\n",
      "Mean Specificity (T1D): 0.9907\n",
      "Mean AUC (T1D): 0.9973\n",
      "Working on MS dataset: 508 samples\n"
     ]
    },
    {
     "name": "stderr",
     "output_type": "stream",
     "text": [
      "MS - Fold 0:  71%|▋| 2122/3000 [01:51<00:45, 19.10it/s, loss=0.171, test_loss=0.\n",
      "MS - Fold 1:  71%|▋| 2132/3000 [01:50<00:44, 19.29it/s, loss=0.172, test_loss=0.\n",
      "MS - Fold 2:  78%|▊| 2326/3000 [02:01<00:35, 19.18it/s, loss=0.15, test_loss=0.0\n",
      "MS - Fold 3: 100%|█| 3000/3000 [02:39<00:00, 18.75it/s, loss=0.193, test_loss=0.\n",
      "MS - Fold 4:  87%|▊| 2620/3000 [02:23<00:20, 18.28it/s, loss=0.215, test_loss=0.\n"
     ]
    },
    {
     "name": "stdout",
     "output_type": "stream",
     "text": [
      "Mean Accuracy (MS): 0.9843\n",
      "Mean Sensitivity (MS): 0.9932\n",
      "Mean Specificity (MS): 0.9720\n",
      "Mean AUC (MS): 0.9991\n",
      "Working on IAA dataset: 279 samples\n"
     ]
    },
    {
     "name": "stderr",
     "output_type": "stream",
     "text": [
      "IAA - Fold 0:  62%|▌| 1869/3000 [00:55<00:33, 33.46it/s, loss=0.201, test_loss=0\n",
      "IAA - Fold 1: 100%|█| 3000/3000 [01:28<00:00, 33.95it/s, loss=0.222, test_loss=0\n",
      "IAA - Fold 2:  47%|▍| 1401/3000 [00:42<00:47, 33.31it/s, loss=0.165, test_loss=0\n",
      "IAA - Fold 3: 100%|█| 3000/3000 [01:28<00:00, 34.04it/s, loss=0.16, test_loss=0.\n",
      "IAA - Fold 4:  78%|▊| 2343/3000 [01:09<00:19, 33.65it/s, loss=0.171, test_loss=0\n"
     ]
    },
    {
     "name": "stdout",
     "output_type": "stream",
     "text": [
      "Mean Accuracy (IAA): 0.9140\n",
      "Mean Sensitivity (IAA): 0.6769\n",
      "Mean Specificity (IAA): 0.9860\n",
      "Mean AUC (IAA): 0.9636\n",
      "Working on RA dataset: 320 samples\n"
     ]
    },
    {
     "name": "stderr",
     "output_type": "stream",
     "text": [
      "RA - Fold 0:  90%|▉| 2705/3000 [01:27<00:09, 30.78it/s, loss=0.172, test_loss=0.\n",
      "RA - Fold 1:  69%|▋| 2075/3000 [01:07<00:30, 30.74it/s, loss=0.161, test_loss=0.\n",
      "RA - Fold 2:  46%|▍| 1367/3000 [00:43<00:52, 31.15it/s, loss=0.166, test_loss=0.\n",
      "RA - Fold 3:  58%|▌| 1735/3000 [00:56<00:41, 30.80it/s, loss=0.175, test_loss=0.\n",
      "RA - Fold 4:  52%|▌| 1570/3000 [00:51<00:46, 30.78it/s, loss=0.198, test_loss=0.\n"
     ]
    },
    {
     "name": "stdout",
     "output_type": "stream",
     "text": [
      "Mean Accuracy (RA): 0.8750\n",
      "Mean Sensitivity (RA): 0.8208\n",
      "Mean Specificity (RA): 0.9019\n",
      "Mean AUC (RA): 0.9467\n",
      "Working on T1D dataset: 394 samples\n"
     ]
    },
    {
     "name": "stderr",
     "output_type": "stream",
     "text": [
      "T1D - Fold 0:  93%|▉| 2796/3000 [01:49<00:08, 25.43it/s, loss=0.17, test_loss=0.\n",
      "T1D - Fold 1:  95%|▉| 2837/3000 [01:51<00:06, 25.37it/s, loss=0.177, test_loss=0\n",
      "T1D - Fold 2:  39%|▍| 1182/3000 [00:47<01:12, 24.91it/s, loss=0.173, test_loss=0\n",
      "T1D - Fold 3: 100%|▉| 2986/3000 [01:58<00:00, 25.20it/s, loss=0.218, test_loss=0\n",
      "T1D - Fold 4:  98%|▉| 2955/3000 [01:59<00:01, 24.76it/s, loss=0.144, test_loss=0\n"
     ]
    },
    {
     "name": "stdout",
     "output_type": "stream",
     "text": [
      "Mean Accuracy (T1D): 0.9772\n",
      "Mean Sensitivity (T1D): 0.9722\n",
      "Mean Specificity (T1D): 0.9813\n",
      "Mean AUC (T1D): 0.9985\n",
      "Working on MS dataset: 508 samples\n"
     ]
    },
    {
     "name": "stderr",
     "output_type": "stream",
     "text": [
      "MS - Fold 0:  83%|▊| 2492/3000 [02:09<00:26, 19.22it/s, loss=0.175, test_loss=0.\n",
      "MS - Fold 1: 100%|█| 3000/3000 [02:39<00:00, 18.82it/s, loss=0.189, test_loss=0.\n",
      "MS - Fold 2:  95%|▉| 2855/3000 [02:31<00:07, 18.85it/s, loss=0.168, test_loss=0.\n",
      "MS - Fold 3: 100%|█| 3000/3000 [02:39<00:00, 18.79it/s, loss=0.167, test_loss=0.\n",
      "MS - Fold 4:  61%|▌| 1819/3000 [01:36<01:02, 18.84it/s, loss=0.169, test_loss=0.\n"
     ]
    },
    {
     "name": "stdout",
     "output_type": "stream",
     "text": [
      "Mean Accuracy (MS): 0.9862\n",
      "Mean Sensitivity (MS): 0.9898\n",
      "Mean Specificity (MS): 0.9813\n",
      "Mean AUC (MS): 0.9995\n",
      "Working on IAA dataset: 279 samples\n"
     ]
    },
    {
     "name": "stderr",
     "output_type": "stream",
     "text": [
      "IAA - Fold 0:  59%|▌| 1783/3000 [00:50<00:34, 34.97it/s, loss=0.143, test_loss=0\n",
      "IAA - Fold 1:  55%|▌| 1653/3000 [00:47<00:39, 34.48it/s, loss=0.196, test_loss=0\n",
      "IAA - Fold 2:  68%|▋| 2035/3000 [00:58<00:27, 34.75it/s, loss=0.158, test_loss=0\n",
      "IAA - Fold 3:  62%|▌| 1865/3000 [00:53<00:32, 34.73it/s, loss=0.14, test_loss=0.\n",
      "IAA - Fold 4:  31%|▎| 937/3000 [00:27<01:00, 34.11it/s, loss=0.185, test_loss=0.\n"
     ]
    },
    {
     "name": "stdout",
     "output_type": "stream",
     "text": [
      "Mean Accuracy (IAA): 0.9462\n",
      "Mean Sensitivity (IAA): 0.8462\n",
      "Mean Specificity (IAA): 0.9766\n",
      "Mean AUC (IAA): 0.9851\n",
      "Working on RA dataset: 320 samples\n"
     ]
    },
    {
     "name": "stderr",
     "output_type": "stream",
     "text": [
      "RA - Fold 0:  80%|▊| 2397/3000 [01:18<00:19, 30.63it/s, loss=0.179, test_loss=0.\n",
      "RA - Fold 1:  79%|▊| 2358/3000 [01:16<00:20, 30.89it/s, loss=0.184, test_loss=0.\n",
      "RA - Fold 2:  42%|▍| 1257/3000 [00:40<00:56, 30.92it/s, loss=0.199, test_loss=0.\n",
      "RA - Fold 3:  69%|▋| 2060/3000 [01:09<00:31, 29.73it/s, loss=0.17, test_loss=0.3\n",
      "RA - Fold 4:  56%|▌| 1680/3000 [00:56<00:44, 29.85it/s, loss=0.159, test_loss=0.\n"
     ]
    },
    {
     "name": "stdout",
     "output_type": "stream",
     "text": [
      "Mean Accuracy (RA): 0.8750\n",
      "Mean Sensitivity (RA): 0.7736\n",
      "Mean Specificity (RA): 0.9252\n",
      "Mean AUC (RA): 0.9515\n",
      "Working on T1D dataset: 394 samples\n"
     ]
    },
    {
     "name": "stderr",
     "output_type": "stream",
     "text": [
      "T1D - Fold 0:  70%|▋| 2091/3000 [01:25<00:37, 24.33it/s, loss=0.236, test_loss=0\n",
      "T1D - Fold 1:  80%|▊| 2388/3000 [01:37<00:25, 24.47it/s, loss=0.157, test_loss=0\n",
      "T1D - Fold 2:  41%|▍| 1221/3000 [00:49<01:12, 24.45it/s, loss=0.18, test_loss=0.\n",
      "T1D - Fold 3:  86%|▊| 2567/3000 [01:43<00:17, 24.73it/s, loss=0.155, test_loss=0\n",
      "T1D - Fold 4:  68%|▋| 2027/3000 [01:22<00:39, 24.50it/s, loss=0.163, test_loss=0\n"
     ]
    },
    {
     "name": "stdout",
     "output_type": "stream",
     "text": [
      "Mean Accuracy (T1D): 0.9746\n",
      "Mean Sensitivity (T1D): 0.9667\n",
      "Mean Specificity (T1D): 0.9813\n",
      "Mean AUC (T1D): 0.9984\n",
      "Working on MS dataset: 508 samples\n"
     ]
    },
    {
     "name": "stderr",
     "output_type": "stream",
     "text": [
      "MS - Fold 0:  63%|▋| 1878/3000 [01:37<00:58, 19.34it/s, loss=0.168, test_loss=0.\n",
      "MS - Fold 1: 100%|█| 3000/3000 [02:34<00:00, 19.46it/s, loss=0.202, test_loss=0.\n",
      "MS - Fold 2:  61%|▌| 1830/3000 [01:35<01:00, 19.24it/s, loss=0.158, test_loss=0.\n",
      "MS - Fold 3: 100%|█| 3000/3000 [02:33<00:00, 19.53it/s, loss=0.184, test_loss=0.\n",
      "MS - Fold 4:  67%|▋| 2021/3000 [01:45<00:51, 19.15it/s, loss=0.169, test_loss=0.\n"
     ]
    },
    {
     "name": "stdout",
     "output_type": "stream",
     "text": [
      "Mean Accuracy (MS): 0.9783\n",
      "Mean Sensitivity (MS): 0.9932\n",
      "Mean Specificity (MS): 0.9579\n",
      "Mean AUC (MS): 0.9986\n",
      "Working on IAA dataset: 279 samples\n"
     ]
    },
    {
     "name": "stderr",
     "output_type": "stream",
     "text": [
      "IAA - Fold 0:  38%|▍| 1151/3000 [00:33<00:53, 34.47it/s, loss=0.193, test_loss=0\n",
      "IAA - Fold 1:  80%|▊| 2396/3000 [01:07<00:17, 35.24it/s, loss=0.234, test_loss=0\n",
      "IAA - Fold 2:  47%|▍| 1397/3000 [00:40<00:46, 34.71it/s, loss=0.184, test_loss=0\n",
      "IAA - Fold 3:  89%|▉| 2673/3000 [01:16<00:09, 35.03it/s, loss=0.153, test_loss=0\n",
      "IAA - Fold 4:  47%|▍| 1423/3000 [00:41<00:45, 34.67it/s, loss=0.179, test_loss=0\n"
     ]
    },
    {
     "name": "stdout",
     "output_type": "stream",
     "text": [
      "Mean Accuracy (IAA): 0.8996\n",
      "Mean Sensitivity (IAA): 0.6462\n",
      "Mean Specificity (IAA): 0.9766\n",
      "Mean AUC (IAA): 0.9584\n",
      "Working on RA dataset: 320 samples\n"
     ]
    },
    {
     "name": "stderr",
     "output_type": "stream",
     "text": [
      "RA - Fold 0:  66%|▋| 1995/3000 [01:04<00:32, 30.80it/s, loss=0.185, test_loss=0.\n",
      "RA - Fold 1:  37%|▎| 1120/3000 [00:36<01:00, 30.98it/s, loss=0.172, test_loss=0.\n",
      "RA - Fold 2:  42%|▍| 1263/3000 [00:41<00:56, 30.75it/s, loss=0.253, test_loss=0.\n",
      "RA - Fold 3:  60%|▌| 1801/3000 [00:58<00:38, 30.77it/s, loss=0.178, test_loss=0.\n",
      "RA - Fold 4:  48%|▍| 1433/3000 [00:47<00:52, 30.02it/s, loss=0.201, test_loss=0.\n"
     ]
    },
    {
     "name": "stdout",
     "output_type": "stream",
     "text": [
      "Mean Accuracy (RA): 0.8281\n",
      "Mean Sensitivity (RA): 0.6698\n",
      "Mean Specificity (RA): 0.9065\n",
      "Mean AUC (RA): 0.8923\n",
      "Working on T1D dataset: 394 samples\n"
     ]
    },
    {
     "name": "stderr",
     "output_type": "stream",
     "text": [
      "T1D - Fold 0:  70%|▋| 2095/3000 [01:24<00:36, 24.83it/s, loss=0.175, test_loss=0\n",
      "T1D - Fold 1:  77%|▊| 2301/3000 [01:33<00:28, 24.49it/s, loss=0.207, test_loss=0\n",
      "T1D - Fold 2:  60%|▌| 1792/3000 [01:12<00:49, 24.64it/s, loss=0.174, test_loss=0\n",
      "T1D - Fold 3:  64%|▋| 1930/3000 [01:17<00:43, 24.77it/s, loss=0.171, test_loss=0\n",
      "T1D - Fold 4:  75%|▊| 2255/3000 [01:32<00:30, 24.46it/s, loss=0.154, test_loss=0\n"
     ]
    },
    {
     "name": "stdout",
     "output_type": "stream",
     "text": [
      "Mean Accuracy (T1D): 0.9746\n",
      "Mean Sensitivity (T1D): 0.9722\n",
      "Mean Specificity (T1D): 0.9766\n",
      "Mean AUC (T1D): 0.9972\n",
      "Working on MS dataset: 508 samples\n"
     ]
    },
    {
     "name": "stderr",
     "output_type": "stream",
     "text": [
      "MS - Fold 0:  58%|▌| 1727/3000 [01:31<01:07, 18.93it/s, loss=0.166, test_loss=0.\n",
      "MS - Fold 1: 100%|█| 3000/3000 [02:35<00:00, 19.35it/s, loss=0.181, test_loss=0.\n",
      "MS - Fold 2:  64%|▋| 1905/3000 [01:40<00:57, 18.96it/s, loss=0.171, test_loss=0.\n",
      "MS - Fold 3: 100%|█| 3000/3000 [02:36<00:00, 19.22it/s, loss=0.161, test_loss=0.\n",
      "MS - Fold 4:  58%|▌| 1746/3000 [01:36<01:09, 18.04it/s, loss=0.15, test_loss=0.0\n"
     ]
    },
    {
     "name": "stdout",
     "output_type": "stream",
     "text": [
      "Mean Accuracy (MS): 0.9744\n",
      "Mean Sensitivity (MS): 0.9830\n",
      "Mean Specificity (MS): 0.9626\n",
      "Mean AUC (MS): 0.9976\n",
      "Working on IAA dataset: 279 samples\n"
     ]
    },
    {
     "name": "stderr",
     "output_type": "stream",
     "text": [
      "IAA - Fold 0:  66%|▋| 1995/3000 [01:00<00:30, 32.79it/s, loss=0.192, test_loss=0\n",
      "IAA - Fold 1: 100%|█| 3000/3000 [01:28<00:00, 34.01it/s, loss=0.174, test_loss=0\n",
      "IAA - Fold 2:  66%|▋| 1985/3000 [00:59<00:30, 33.62it/s, loss=0.154, test_loss=0\n",
      "IAA - Fold 3: 100%|█| 3000/3000 [01:27<00:00, 34.29it/s, loss=0.199, test_loss=0\n",
      "IAA - Fold 4:  91%|▉| 2739/3000 [01:20<00:07, 33.87it/s, loss=0.164, test_loss=0\n"
     ]
    },
    {
     "name": "stdout",
     "output_type": "stream",
     "text": [
      "Mean Accuracy (IAA): 0.9283\n",
      "Mean Sensitivity (IAA): 0.7231\n",
      "Mean Specificity (IAA): 0.9907\n",
      "Mean AUC (IAA): 0.9766\n",
      "Working on RA dataset: 320 samples\n"
     ]
    },
    {
     "name": "stderr",
     "output_type": "stream",
     "text": [
      "RA - Fold 0:  53%|▌| 1603/3000 [00:52<00:45, 30.56it/s, loss=0.182, test_loss=0.\n",
      "RA - Fold 1:  72%|▋| 2147/3000 [01:12<00:28, 29.81it/s, loss=0.18, test_loss=0.2\n",
      "RA - Fold 2:  41%|▍| 1237/3000 [00:41<00:58, 30.03it/s, loss=0.168, test_loss=0.\n",
      "RA - Fold 3:  55%|▌| 1637/3000 [00:53<00:44, 30.41it/s, loss=0.193, test_loss=0.\n",
      "RA - Fold 4:  46%|▍| 1374/3000 [00:45<00:54, 29.96it/s, loss=0.21, test_loss=0.4\n"
     ]
    },
    {
     "name": "stdout",
     "output_type": "stream",
     "text": [
      "Mean Accuracy (RA): 0.8812\n",
      "Mean Sensitivity (RA): 0.7925\n",
      "Mean Specificity (RA): 0.9252\n",
      "Mean AUC (RA): 0.9519\n",
      "Working on T1D dataset: 394 samples\n"
     ]
    },
    {
     "name": "stderr",
     "output_type": "stream",
     "text": [
      "T1D - Fold 0:  49%|▍| 1470/3000 [00:58<01:00, 25.33it/s, loss=0.18, test_loss=0.\n",
      "T1D - Fold 1:  72%|▋| 2167/3000 [01:27<00:33, 24.77it/s, loss=0.158, test_loss=0\n",
      "T1D - Fold 2:  79%|▊| 2357/3000 [01:32<00:25, 25.56it/s, loss=0.182, test_loss=0\n",
      "T1D - Fold 3: 100%|█| 3000/3000 [01:58<00:00, 25.38it/s, loss=0.19, test_loss=0.\n",
      "T1D - Fold 4:  85%|▊| 2543/3000 [01:41<00:18, 25.09it/s, loss=0.207, test_loss=0\n"
     ]
    },
    {
     "name": "stdout",
     "output_type": "stream",
     "text": [
      "Mean Accuracy (T1D): 0.9772\n",
      "Mean Sensitivity (T1D): 0.9722\n",
      "Mean Specificity (T1D): 0.9813\n",
      "Mean AUC (T1D): 0.9982\n",
      "Working on MS dataset: 508 samples\n"
     ]
    },
    {
     "name": "stderr",
     "output_type": "stream",
     "text": [
      "MS - Fold 0:  93%|▉| 2796/3000 [02:26<00:10, 19.05it/s, loss=0.156, test_loss=0.\n",
      "MS - Fold 1:  62%|▌| 1859/3000 [01:38<01:00, 18.89it/s, loss=0.208, test_loss=0.\n",
      "MS - Fold 2:  72%|▋| 2165/3000 [01:52<00:43, 19.26it/s, loss=0.173, test_loss=0.\n",
      "MS - Fold 3:  91%|▉| 2738/3000 [02:24<00:13, 18.89it/s, loss=0.18, test_loss=0.0\n",
      "MS - Fold 4:  75%|▊| 2262/3000 [01:59<00:39, 18.91it/s, loss=0.163, test_loss=0.\n"
     ]
    },
    {
     "name": "stdout",
     "output_type": "stream",
     "text": [
      "Mean Accuracy (MS): 0.9843\n",
      "Mean Sensitivity (MS): 0.9864\n",
      "Mean Specificity (MS): 0.9813\n",
      "Mean AUC (MS): 0.9994\n",
      "Working on IAA dataset: 279 samples\n"
     ]
    },
    {
     "name": "stderr",
     "output_type": "stream",
     "text": [
      "IAA - Fold 0:  40%|▍| 1192/3000 [00:34<00:52, 34.15it/s, loss=0.196, test_loss=0\n",
      "IAA - Fold 1:  82%|▊| 2464/3000 [01:11<00:15, 34.33it/s, loss=0.17, test_loss=0.\n",
      "IAA - Fold 2:  90%|▉| 2692/3000 [01:18<00:08, 34.27it/s, loss=0.181, test_loss=0\n",
      "IAA - Fold 3:  98%|▉| 2946/3000 [01:25<00:01, 34.60it/s, loss=0.113, test_loss=0\n",
      "IAA - Fold 4:  38%|▍| 1155/3000 [00:34<00:54, 33.90it/s, loss=0.209, test_loss=0\n"
     ]
    },
    {
     "name": "stdout",
     "output_type": "stream",
     "text": [
      "Mean Accuracy (IAA): 0.9391\n",
      "Mean Sensitivity (IAA): 0.7846\n",
      "Mean Specificity (IAA): 0.9860\n",
      "Mean AUC (IAA): 0.9885\n",
      "Working on RA dataset: 320 samples\n"
     ]
    },
    {
     "name": "stderr",
     "output_type": "stream",
     "text": [
      "RA - Fold 0:  45%|▍| 1346/3000 [00:43<00:53, 30.69it/s, loss=0.202, test_loss=0.\n",
      "RA - Fold 1: 100%|█| 3000/3000 [01:37<00:00, 30.90it/s, loss=0.175, test_loss=0.\n",
      "RA - Fold 2:  39%|▍| 1173/3000 [00:38<00:59, 30.80it/s, loss=0.17, test_loss=0.3\n",
      "RA - Fold 3:  60%|▌| 1793/3000 [00:58<00:39, 30.66it/s, loss=0.222, test_loss=0.\n",
      "RA - Fold 4:  59%|▌| 1759/3000 [00:56<00:39, 31.29it/s, loss=0.203, test_loss=0.\n"
     ]
    },
    {
     "name": "stdout",
     "output_type": "stream",
     "text": [
      "Mean Accuracy (RA): 0.8812\n",
      "Mean Sensitivity (RA): 0.7642\n",
      "Mean Specificity (RA): 0.9393\n",
      "Mean AUC (RA): 0.9554\n",
      "Working on T1D dataset: 394 samples\n"
     ]
    },
    {
     "name": "stderr",
     "output_type": "stream",
     "text": [
      "T1D - Fold 0:  47%|▍| 1406/3000 [00:55<01:03, 25.26it/s, loss=0.202, test_loss=0\n",
      "T1D - Fold 1:  57%|▌| 1723/3000 [01:09<00:51, 24.96it/s, loss=0.157, test_loss=0\n",
      "T1D - Fold 2:  41%|▍| 1242/3000 [00:50<01:11, 24.52it/s, loss=0.137, test_loss=0\n",
      "T1D - Fold 3:  96%|▉| 2891/3000 [01:56<00:04, 24.91it/s, loss=0.194, test_loss=0\n",
      "T1D - Fold 4:  68%|▋| 2030/3000 [01:23<00:39, 24.41it/s, loss=0.163, test_loss=0\n"
     ]
    },
    {
     "name": "stdout",
     "output_type": "stream",
     "text": [
      "Mean Accuracy (T1D): 0.9772\n",
      "Mean Sensitivity (T1D): 0.9722\n",
      "Mean Specificity (T1D): 0.9813\n",
      "Mean AUC (T1D): 0.9971\n",
      "Working on MS dataset: 508 samples\n"
     ]
    },
    {
     "name": "stderr",
     "output_type": "stream",
     "text": [
      "MS - Fold 0:  51%|▌| 1520/3000 [01:22<01:20, 18.38it/s, loss=0.143, test_loss=0.\n",
      "MS - Fold 1:  94%|▉| 2812/3000 [02:30<00:10, 18.73it/s, loss=0.196, test_loss=0.\n",
      "MS - Fold 2:  57%|▌| 1700/3000 [01:32<01:10, 18.32it/s, loss=0.16, test_loss=0.1\n",
      "MS - Fold 3:  97%|▉| 2907/3000 [02:37<00:05, 18.49it/s, loss=0.161, test_loss=0.\n",
      "MS - Fold 4: 100%|█| 3000/3000 [02:37<00:00, 19.06it/s, loss=0.169, test_loss=0.\n"
     ]
    },
    {
     "name": "stdout",
     "output_type": "stream",
     "text": [
      "Mean Accuracy (MS): 0.9862\n",
      "Mean Sensitivity (MS): 0.9830\n",
      "Mean Specificity (MS): 0.9907\n",
      "Mean AUC (MS): 0.9993\n",
      "Working on IAA dataset: 279 samples\n"
     ]
    },
    {
     "name": "stderr",
     "output_type": "stream",
     "text": [
      "IAA - Fold 0:  41%|▍| 1229/3000 [00:36<00:51, 34.14it/s, loss=0.183, test_loss=0\n",
      "IAA - Fold 1:  68%|▋| 2030/3000 [00:58<00:27, 34.67it/s, loss=0.196, test_loss=0\n",
      "IAA - Fold 2:  48%|▍| 1448/3000 [00:41<00:44, 34.80it/s, loss=0.152, test_loss=0\n",
      "IAA - Fold 3:  78%|▊| 2351/3000 [01:06<00:18, 35.16it/s, loss=0.207, test_loss=0\n",
      "IAA - Fold 4:  39%|▍| 1182/3000 [00:34<00:52, 34.72it/s, loss=0.159, test_loss=0\n"
     ]
    },
    {
     "name": "stdout",
     "output_type": "stream",
     "text": [
      "Mean Accuracy (IAA): 0.9176\n",
      "Mean Sensitivity (IAA): 0.7385\n",
      "Mean Specificity (IAA): 0.9720\n",
      "Mean AUC (IAA): 0.9619\n",
      "Working on RA dataset: 320 samples\n"
     ]
    },
    {
     "name": "stderr",
     "output_type": "stream",
     "text": [
      "RA - Fold 0:  50%|▍| 1495/3000 [00:48<00:48, 30.95it/s, loss=0.19, test_loss=0.3\n",
      "RA - Fold 1:  64%|▋| 1911/3000 [01:01<00:35, 30.97it/s, loss=0.19, test_loss=0.2\n",
      "RA - Fold 2:  30%|▎| 908/3000 [00:29<01:07, 31.00it/s, loss=0.193, test_loss=0.7\n",
      "RA - Fold 3:  48%|▍| 1442/3000 [00:46<00:50, 30.76it/s, loss=0.212, test_loss=0.\n",
      "RA - Fold 4:  71%|▋| 2141/3000 [01:08<00:27, 31.36it/s, loss=0.202, test_loss=0.\n"
     ]
    },
    {
     "name": "stdout",
     "output_type": "stream",
     "text": [
      "Mean Accuracy (RA): 0.8594\n",
      "Mean Sensitivity (RA): 0.7358\n",
      "Mean Specificity (RA): 0.9206\n",
      "Mean AUC (RA): 0.9379\n",
      "Working on T1D dataset: 394 samples\n"
     ]
    },
    {
     "name": "stderr",
     "output_type": "stream",
     "text": [
      "T1D - Fold 0:  58%|▌| 1751/3000 [01:10<00:50, 24.94it/s, loss=0.182, test_loss=0\n",
      "T1D - Fold 1:  53%|▌| 1576/3000 [01:02<00:56, 25.04it/s, loss=0.181, test_loss=0\n",
      "T1D - Fold 2:  46%|▍| 1366/3000 [00:54<01:05, 25.03it/s, loss=0.161, test_loss=0\n",
      "T1D - Fold 3:  72%|▋| 2170/3000 [01:27<00:33, 24.74it/s, loss=0.172, test_loss=0\n",
      "T1D - Fold 4:  81%|▊| 2441/3000 [01:37<00:22, 24.93it/s, loss=0.17, test_loss=0.\n"
     ]
    },
    {
     "name": "stdout",
     "output_type": "stream",
     "text": [
      "Mean Accuracy (T1D): 0.9772\n",
      "Mean Sensitivity (T1D): 0.9667\n",
      "Mean Specificity (T1D): 0.9860\n",
      "Mean AUC (T1D): 0.9978\n",
      "Working on MS dataset: 508 samples\n"
     ]
    },
    {
     "name": "stderr",
     "output_type": "stream",
     "text": [
      "MS - Fold 0:  87%|▊| 2596/3000 [02:16<00:21, 18.99it/s, loss=0.166, test_loss=0.\n",
      "MS - Fold 1:  92%|▉| 2761/3000 [02:26<00:12, 18.85it/s, loss=0.211, test_loss=0.\n",
      "MS - Fold 2:  84%|▊| 2528/3000 [02:14<00:25, 18.73it/s, loss=0.196, test_loss=0.\n",
      "MS - Fold 3: 100%|█| 3000/3000 [02:37<00:00, 19.11it/s, loss=0.208, test_loss=0.\n",
      "MS - Fold 4: 100%|█| 3000/3000 [02:34<00:00, 19.37it/s, loss=0.152, test_loss=0.\n"
     ]
    },
    {
     "name": "stdout",
     "output_type": "stream",
     "text": [
      "Mean Accuracy (MS): 0.9941\n",
      "Mean Sensitivity (MS): 0.9932\n",
      "Mean Specificity (MS): 0.9953\n",
      "Mean AUC (MS): 0.9999\n",
      "Working on IAA dataset: 279 samples\n"
     ]
    },
    {
     "name": "stderr",
     "output_type": "stream",
     "text": [
      "IAA - Fold 0:  28%|▎| 854/3000 [00:24<01:02, 34.39it/s, loss=0.17, test_loss=0.4\n",
      "IAA - Fold 1:  57%|▌| 1725/3000 [00:49<00:36, 34.64it/s, loss=0.155, test_loss=0\n",
      "IAA - Fold 2:  62%|▌| 1856/3000 [00:53<00:32, 34.94it/s, loss=0.157, test_loss=0\n",
      "IAA - Fold 3:  56%|▌| 1684/3000 [00:50<00:39, 33.48it/s, loss=0.145, test_loss=0\n",
      "IAA - Fold 4:  94%|▉| 2828/3000 [01:23<00:05, 33.67it/s, loss=0.167, test_loss=0\n"
     ]
    },
    {
     "name": "stdout",
     "output_type": "stream",
     "text": [
      "Mean Accuracy (IAA): 0.9355\n",
      "Mean Sensitivity (IAA): 0.7846\n",
      "Mean Specificity (IAA): 0.9813\n",
      "Mean AUC (IAA): 0.9737\n",
      "Working on RA dataset: 320 samples\n"
     ]
    },
    {
     "name": "stderr",
     "output_type": "stream",
     "text": [
      "RA - Fold 0:  37%|▎| 1112/3000 [00:37<01:03, 29.74it/s, loss=0.163, test_loss=0.\n",
      "RA - Fold 1:  65%|▋| 1948/3000 [01:04<00:34, 30.32it/s, loss=0.161, test_loss=0.\n",
      "RA - Fold 2:  27%|▎| 814/3000 [00:27<01:13, 29.92it/s, loss=0.232, test_loss=0.7\n",
      "RA - Fold 3:  36%|▎| 1072/3000 [00:36<01:04, 29.74it/s, loss=0.182, test_loss=0.\n",
      "RA - Fold 4:  38%|▍| 1133/3000 [00:37<01:02, 30.02it/s, loss=0.156, test_loss=0.\n"
     ]
    },
    {
     "name": "stdout",
     "output_type": "stream",
     "text": [
      "Mean Accuracy (RA): 0.8094\n",
      "Mean Sensitivity (RA): 0.6321\n",
      "Mean Specificity (RA): 0.8972\n",
      "Mean AUC (RA): 0.8739\n",
      "Working on T1D dataset: 394 samples\n"
     ]
    },
    {
     "name": "stderr",
     "output_type": "stream",
     "text": [
      "T1D - Fold 0:  55%|▌| 1640/3000 [01:08<00:56, 24.05it/s, loss=0.228, test_loss=0\n",
      "T1D - Fold 1:  59%|▌| 1766/3000 [01:13<00:51, 24.02it/s, loss=0.174, test_loss=0\n",
      "T1D - Fold 2: 100%|█| 3000/3000 [02:03<00:00, 24.27it/s, loss=0.169, test_loss=0\n",
      "T1D - Fold 3: 100%|█| 3000/3000 [02:00<00:00, 24.88it/s, loss=0.171, test_loss=0\n",
      "T1D - Fold 4: 100%|█| 3000/3000 [02:04<00:00, 24.15it/s, loss=0.183, test_loss=0\n"
     ]
    },
    {
     "name": "stdout",
     "output_type": "stream",
     "text": [
      "Mean Accuracy (T1D): 0.9670\n",
      "Mean Sensitivity (T1D): 0.9611\n",
      "Mean Specificity (T1D): 0.9720\n",
      "Mean AUC (T1D): 0.9948\n",
      "Working on MS dataset: 508 samples\n"
     ]
    },
    {
     "name": "stderr",
     "output_type": "stream",
     "text": [
      "MS - Fold 0:  83%|▊| 2476/3000 [02:07<00:26, 19.48it/s, loss=0.19, test_loss=0.1\n",
      "MS - Fold 1:  95%|▉| 2853/3000 [02:31<00:07, 18.83it/s, loss=0.168, test_loss=0.\n",
      "MS - Fold 2:  64%|▋| 1915/3000 [01:40<00:57, 19.03it/s, loss=0.17, test_loss=0.0\n",
      "MS - Fold 3: 100%|█| 3000/3000 [02:35<00:00, 19.28it/s, loss=0.161, test_loss=0.\n",
      "MS - Fold 4: 100%|█| 3000/3000 [02:35<00:00, 19.28it/s, loss=0.205, test_loss=0.\n"
     ]
    },
    {
     "name": "stdout",
     "output_type": "stream",
     "text": [
      "Mean Accuracy (MS): 0.9961\n",
      "Mean Sensitivity (MS): 0.9932\n",
      "Mean Specificity (MS): 1.0000\n",
      "Mean AUC (MS): 0.9997\n",
      "Working on IAA dataset: 279 samples\n"
     ]
    },
    {
     "name": "stderr",
     "output_type": "stream",
     "text": [
      "IAA - Fold 0:  68%|▋| 2036/3000 [00:58<00:27, 34.61it/s, loss=0.189, test_loss=0\n",
      "IAA - Fold 1:  67%|▋| 2007/3000 [00:58<00:28, 34.40it/s, loss=0.133, test_loss=0\n",
      "IAA - Fold 2:  83%|▊| 2491/3000 [01:11<00:14, 34.62it/s, loss=0.203, test_loss=0\n",
      "IAA - Fold 3:  77%|▊| 2303/3000 [01:07<00:20, 34.14it/s, loss=0.185, test_loss=0\n",
      "IAA - Fold 4:  58%|▌| 1727/3000 [00:50<00:37, 34.27it/s, loss=0.146, test_loss=0\n"
     ]
    },
    {
     "name": "stdout",
     "output_type": "stream",
     "text": [
      "Mean Accuracy (IAA): 0.9211\n",
      "Mean Sensitivity (IAA): 0.7538\n",
      "Mean Specificity (IAA): 0.9720\n",
      "Mean AUC (IAA): 0.9698\n",
      "Working on RA dataset: 320 samples\n"
     ]
    },
    {
     "name": "stderr",
     "output_type": "stream",
     "text": [
      "RA - Fold 0:  73%|▋| 2176/3000 [01:11<00:27, 30.27it/s, loss=0.165, test_loss=0.\n",
      "RA - Fold 1:  46%|▍| 1385/3000 [00:46<00:53, 30.01it/s, loss=0.182, test_loss=0.\n",
      "RA - Fold 2:  38%|▍| 1136/3000 [00:36<01:00, 30.79it/s, loss=0.19, test_loss=0.7\n",
      "RA - Fold 3:  57%|▌| 1724/3000 [00:57<00:42, 29.96it/s, loss=0.166, test_loss=0.\n",
      "RA - Fold 4:  34%|▎| 1006/3000 [00:33<01:06, 30.11it/s, loss=0.224, test_loss=0.\n"
     ]
    },
    {
     "name": "stdout",
     "output_type": "stream",
     "text": [
      "Mean Accuracy (RA): 0.8688\n",
      "Mean Sensitivity (RA): 0.7830\n",
      "Mean Specificity (RA): 0.9112\n",
      "Mean AUC (RA): 0.9298\n",
      "Working on T1D dataset: 394 samples\n"
     ]
    },
    {
     "name": "stderr",
     "output_type": "stream",
     "text": [
      "T1D - Fold 0:  79%|▊| 2380/3000 [01:36<00:25, 24.69it/s, loss=0.2, test_loss=0.0\n",
      "T1D - Fold 1:  55%|▌| 1649/3000 [01:05<00:53, 25.05it/s, loss=0.189, test_loss=0\n",
      "T1D - Fold 2:  66%|▋| 1974/3000 [01:18<00:40, 25.24it/s, loss=0.153, test_loss=0\n",
      "T1D - Fold 3:  74%|▋| 2221/3000 [01:28<00:30, 25.19it/s, loss=0.163, test_loss=0\n",
      "T1D - Fold 4: 100%|█| 3000/3000 [02:01<00:00, 24.67it/s, loss=0.177, test_loss=0\n"
     ]
    },
    {
     "name": "stdout",
     "output_type": "stream",
     "text": [
      "Mean Accuracy (T1D): 0.9797\n",
      "Mean Sensitivity (T1D): 0.9667\n",
      "Mean Specificity (T1D): 0.9907\n",
      "Mean AUC (T1D): 0.9982\n",
      "Working on MS dataset: 508 samples\n"
     ]
    },
    {
     "name": "stderr",
     "output_type": "stream",
     "text": [
      "MS - Fold 0:  88%|▉| 2650/3000 [02:19<00:18, 18.95it/s, loss=0.182, test_loss=0.\n",
      "MS - Fold 1: 100%|█| 3000/3000 [02:38<00:00, 18.91it/s, loss=0.205, test_loss=0.\n",
      "MS - Fold 2:  86%|▊| 2586/3000 [02:19<00:22, 18.53it/s, loss=0.184, test_loss=0.\n",
      "MS - Fold 3: 100%|█| 3000/3000 [02:35<00:00, 19.26it/s, loss=0.171, test_loss=0.\n",
      "MS - Fold 4:  70%|▋| 2107/3000 [01:50<00:46, 19.10it/s, loss=0.168, test_loss=0.\n"
     ]
    },
    {
     "name": "stdout",
     "output_type": "stream",
     "text": [
      "Mean Accuracy (MS): 0.9764\n",
      "Mean Sensitivity (MS): 0.9898\n",
      "Mean Specificity (MS): 0.9579\n",
      "Mean AUC (MS): 0.9990\n",
      "Working on IAA dataset: 279 samples\n"
     ]
    },
    {
     "name": "stderr",
     "output_type": "stream",
     "text": [
      "IAA - Fold 0:  34%|▎| 1033/3000 [00:29<00:55, 35.41it/s, loss=0.189, test_loss=0\n",
      "IAA - Fold 1:  68%|▋| 2031/3000 [00:58<00:27, 34.72it/s, loss=0.186, test_loss=0\n",
      "IAA - Fold 2:  58%|▌| 1748/3000 [00:50<00:36, 34.72it/s, loss=0.201, test_loss=0\n",
      "IAA - Fold 3:  83%|▊| 2479/3000 [01:10<00:14, 34.95it/s, loss=0.191, test_loss=0\n",
      "IAA - Fold 4:  67%|▋| 2008/3000 [00:57<00:28, 35.09it/s, loss=0.175, test_loss=0\n"
     ]
    },
    {
     "name": "stdout",
     "output_type": "stream",
     "text": [
      "Mean Accuracy (IAA): 0.9247\n",
      "Mean Sensitivity (IAA): 0.7846\n",
      "Mean Specificity (IAA): 0.9673\n",
      "Mean AUC (IAA): 0.9684\n",
      "Working on RA dataset: 320 samples\n"
     ]
    },
    {
     "name": "stderr",
     "output_type": "stream",
     "text": [
      "RA - Fold 0:  38%|▍| 1151/3000 [00:37<00:59, 31.02it/s, loss=0.23, test_loss=0.3\n",
      "RA - Fold 1:  40%|▍| 1190/3000 [00:39<00:59, 30.42it/s, loss=0.157, test_loss=0.\n",
      "RA - Fold 2:  40%|▍| 1209/3000 [00:39<00:58, 30.42it/s, loss=0.186, test_loss=0.\n",
      "RA - Fold 3:  38%|▍| 1141/3000 [00:36<01:00, 30.86it/s, loss=0.175, test_loss=0.\n",
      "RA - Fold 4:  63%|▋| 1887/3000 [01:01<00:36, 30.75it/s, loss=0.163, test_loss=0.\n"
     ]
    },
    {
     "name": "stdout",
     "output_type": "stream",
     "text": [
      "Mean Accuracy (RA): 0.8562\n",
      "Mean Sensitivity (RA): 0.6981\n",
      "Mean Specificity (RA): 0.9346\n",
      "Mean AUC (RA): 0.9052\n",
      "Working on T1D dataset: 394 samples\n"
     ]
    },
    {
     "name": "stderr",
     "output_type": "stream",
     "text": [
      "T1D - Fold 0:  57%|▌| 1702/3000 [01:08<00:52, 24.95it/s, loss=0.152, test_loss=0\n",
      "T1D - Fold 1:  68%|▋| 2035/3000 [01:21<00:38, 25.10it/s, loss=0.175, test_loss=0\n",
      "T1D - Fold 2:  47%|▍| 1406/3000 [00:55<01:03, 25.13it/s, loss=0.19, test_loss=0.\n",
      "T1D - Fold 3:  90%|▉| 2689/3000 [01:46<00:12, 25.24it/s, loss=0.191, test_loss=0\n",
      "T1D - Fold 4:  62%|▌| 1864/3000 [01:15<00:46, 24.67it/s, loss=0.19, test_loss=0.\n"
     ]
    },
    {
     "name": "stdout",
     "output_type": "stream",
     "text": [
      "Mean Accuracy (T1D): 0.9721\n",
      "Mean Sensitivity (T1D): 0.9556\n",
      "Mean Specificity (T1D): 0.9860\n",
      "Mean AUC (T1D): 0.9967\n",
      "Working on MS dataset: 508 samples\n"
     ]
    },
    {
     "name": "stderr",
     "output_type": "stream",
     "text": [
      "MS - Fold 0:  65%|▋| 1936/3000 [01:42<00:56, 18.83it/s, loss=0.175, test_loss=0.\n",
      "MS - Fold 1: 100%|█| 3000/3000 [02:40<00:00, 18.64it/s, loss=0.159, test_loss=0.\n",
      "MS - Fold 2: 100%|█| 3000/3000 [02:40<00:00, 18.74it/s, loss=0.16, test_loss=0.0\n",
      "MS - Fold 3:  90%|▉| 2691/3000 [02:23<00:16, 18.74it/s, loss=0.173, test_loss=0.\n",
      "MS - Fold 4:  43%|▍| 1278/3000 [01:07<01:30, 18.93it/s, loss=0.186, test_loss=0.\n"
     ]
    },
    {
     "name": "stdout",
     "output_type": "stream",
     "text": [
      "Mean Accuracy (MS): 0.9843\n",
      "Mean Sensitivity (MS): 0.9898\n",
      "Mean Specificity (MS): 0.9766\n",
      "Mean AUC (MS): 0.9994\n",
      "Working on IAA dataset: 279 samples\n"
     ]
    },
    {
     "name": "stderr",
     "output_type": "stream",
     "text": [
      "IAA - Fold 0:  59%|▌| 1767/3000 [00:50<00:35, 34.83it/s, loss=0.166, test_loss=0\n",
      "IAA - Fold 1: 100%|█| 3000/3000 [01:25<00:00, 34.92it/s, loss=0.195, test_loss=0\n",
      "IAA - Fold 2:  52%|▌| 1546/3000 [00:44<00:41, 35.10it/s, loss=0.162, test_loss=0\n",
      "IAA - Fold 3:  84%|▊| 2535/3000 [01:12<00:13, 34.80it/s, loss=0.195, test_loss=0\n",
      "IAA - Fold 4:  42%|▍| 1248/3000 [00:35<00:49, 35.12it/s, loss=0.209, test_loss=0\n"
     ]
    },
    {
     "name": "stdout",
     "output_type": "stream",
     "text": [
      "Mean Accuracy (IAA): 0.9427\n",
      "Mean Sensitivity (IAA): 0.7538\n",
      "Mean Specificity (IAA): 1.0000\n",
      "Mean AUC (IAA): 0.9771\n",
      "Working on RA dataset: 320 samples\n"
     ]
    },
    {
     "name": "stderr",
     "output_type": "stream",
     "text": [
      "RA - Fold 0:  68%|▋| 2048/3000 [01:07<00:31, 30.19it/s, loss=0.189, test_loss=0.\n",
      "RA - Fold 1:  67%|▋| 2009/3000 [01:06<00:33, 30.01it/s, loss=0.181, test_loss=0.\n",
      "RA - Fold 2:  36%|▎| 1079/3000 [00:35<01:03, 30.18it/s, loss=0.19, test_loss=0.7\n",
      "RA - Fold 3:  68%|▋| 2053/3000 [01:08<00:31, 29.76it/s, loss=0.153, test_loss=0.\n",
      "RA - Fold 4:  28%|▎| 850/3000 [00:27<01:10, 30.52it/s, loss=0.187, test_loss=0.7\n"
     ]
    },
    {
     "name": "stdout",
     "output_type": "stream",
     "text": [
      "Mean Accuracy (RA): 0.8375\n",
      "Mean Sensitivity (RA): 0.6698\n",
      "Mean Specificity (RA): 0.9206\n",
      "Mean AUC (RA): 0.8953\n",
      "Working on T1D dataset: 394 samples\n"
     ]
    },
    {
     "name": "stderr",
     "output_type": "stream",
     "text": [
      "T1D - Fold 0:  50%|▍| 1497/3000 [01:03<01:03, 23.73it/s, loss=0.193, test_loss=0\n",
      "T1D - Fold 1:  50%|▍| 1493/3000 [01:01<01:01, 24.33it/s, loss=0.171, test_loss=0\n",
      "T1D - Fold 2:  95%|▉| 2847/3000 [01:55<00:06, 24.63it/s, loss=0.199, test_loss=0\n",
      "T1D - Fold 3:  73%|▋| 2202/3000 [01:30<00:32, 24.20it/s, loss=0.207, test_loss=0\n",
      "T1D - Fold 4: 100%|█| 3000/3000 [01:58<00:00, 25.21it/s, loss=0.164, test_loss=0\n"
     ]
    },
    {
     "name": "stdout",
     "output_type": "stream",
     "text": [
      "Mean Accuracy (T1D): 0.9797\n",
      "Mean Sensitivity (T1D): 0.9556\n",
      "Mean Specificity (T1D): 1.0000\n",
      "Mean AUC (T1D): 0.9974\n",
      "Working on MS dataset: 508 samples\n"
     ]
    },
    {
     "name": "stderr",
     "output_type": "stream",
     "text": [
      "MS - Fold 0:  95%|▉| 2855/3000 [02:28<00:07, 19.18it/s, loss=0.185, test_loss=0.\n",
      "MS - Fold 1:  96%|▉| 2894/3000 [02:28<00:05, 19.55it/s, loss=0.181, test_loss=0.\n",
      "MS - Fold 2:  72%|▋| 2172/3000 [01:54<00:43, 18.90it/s, loss=0.194, test_loss=0.\n",
      "MS - Fold 3:  91%|▉| 2741/3000 [02:22<00:13, 19.20it/s, loss=0.191, test_loss=0.\n",
      "MS - Fold 4:  84%|▊| 2523/3000 [02:11<00:24, 19.17it/s, loss=0.164, test_loss=0.\n"
     ]
    },
    {
     "name": "stdout",
     "output_type": "stream",
     "text": [
      "Mean Accuracy (MS): 0.9921\n",
      "Mean Sensitivity (MS): 0.9932\n",
      "Mean Specificity (MS): 0.9907\n",
      "Mean AUC (MS): 0.9996\n",
      "Working on IAA dataset: 279 samples\n"
     ]
    },
    {
     "name": "stderr",
     "output_type": "stream",
     "text": [
      "IAA - Fold 0:  34%|▎| 1010/3000 [00:29<00:57, 34.56it/s, loss=0.182, test_loss=0\n",
      "IAA - Fold 1:  89%|▉| 2659/3000 [01:16<00:09, 34.93it/s, loss=0.168, test_loss=0\n",
      "IAA - Fold 2:  77%|▊| 2304/3000 [01:06<00:19, 34.87it/s, loss=0.184, test_loss=0\n",
      "IAA - Fold 3:  60%|▌| 1795/3000 [00:53<00:35, 33.55it/s, loss=0.201, test_loss=0\n",
      "IAA - Fold 4:  60%|▌| 1813/3000 [00:52<00:34, 34.40it/s, loss=0.164, test_loss=0\n"
     ]
    },
    {
     "name": "stdout",
     "output_type": "stream",
     "text": [
      "Mean Accuracy (IAA): 0.9247\n",
      "Mean Sensitivity (IAA): 0.7385\n",
      "Mean Specificity (IAA): 0.9813\n",
      "Mean AUC (IAA): 0.9693\n",
      "Working on RA dataset: 320 samples\n"
     ]
    },
    {
     "name": "stderr",
     "output_type": "stream",
     "text": [
      "RA - Fold 0:  45%|▍| 1363/3000 [00:45<00:54, 30.03it/s, loss=0.193, test_loss=0.\n",
      "RA - Fold 1:  45%|▍| 1350/3000 [00:44<00:54, 30.30it/s, loss=0.225, test_loss=0.\n",
      "RA - Fold 2:  57%|▌| 1721/3000 [00:56<00:41, 30.48it/s, loss=0.195, test_loss=0.\n",
      "RA - Fold 3:  42%|▍| 1247/3000 [00:41<00:58, 29.89it/s, loss=0.13, test_loss=0.2\n",
      "RA - Fold 4:  58%|▌| 1755/3000 [00:57<00:40, 30.46it/s, loss=0.149, test_loss=0.\n"
     ]
    },
    {
     "name": "stdout",
     "output_type": "stream",
     "text": [
      "Mean Accuracy (RA): 0.8656\n",
      "Mean Sensitivity (RA): 0.7453\n",
      "Mean Specificity (RA): 0.9252\n",
      "Mean AUC (RA): 0.9235\n",
      "Working on T1D dataset: 394 samples\n"
     ]
    },
    {
     "name": "stderr",
     "output_type": "stream",
     "text": [
      "T1D - Fold 0:  45%|▍| 1357/3000 [00:54<01:06, 24.68it/s, loss=0.169, test_loss=0\n",
      "T1D - Fold 1:  84%|▊| 2534/3000 [01:41<00:18, 24.98it/s, loss=0.182, test_loss=0\n",
      "T1D - Fold 2:  39%|▍| 1172/3000 [00:47<01:14, 24.64it/s, loss=0.173, test_loss=0\n",
      "T1D - Fold 3:  65%|▋| 1963/3000 [01:19<00:41, 24.80it/s, loss=0.147, test_loss=0\n",
      "T1D - Fold 4:  59%|▌| 1768/3000 [01:10<00:49, 24.91it/s, loss=0.176, test_loss=0\n"
     ]
    },
    {
     "name": "stdout",
     "output_type": "stream",
     "text": [
      "Mean Accuracy (T1D): 0.9822\n",
      "Mean Sensitivity (T1D): 0.9722\n",
      "Mean Specificity (T1D): 0.9907\n",
      "Mean AUC (T1D): 0.9965\n",
      "Working on MS dataset: 508 samples\n"
     ]
    },
    {
     "name": "stderr",
     "output_type": "stream",
     "text": [
      "MS - Fold 0: 100%|█| 3000/3000 [02:34<00:00, 19.47it/s, loss=0.19, test_loss=0.0\n",
      "MS - Fold 1: 100%|█| 3000/3000 [02:37<00:00, 19.10it/s, loss=0.166, test_loss=0.\n",
      "MS - Fold 2:  94%|▉| 2824/3000 [02:30<00:09, 18.82it/s, loss=0.174, test_loss=0.\n",
      "MS - Fold 3:  79%|▊| 2367/3000 [02:08<00:34, 18.37it/s, loss=0.155, test_loss=0.\n",
      "MS - Fold 4:  61%|▌| 1836/3000 [01:38<01:02, 18.62it/s, loss=0.155, test_loss=0.\n"
     ]
    },
    {
     "name": "stdout",
     "output_type": "stream",
     "text": [
      "Mean Accuracy (MS): 0.9882\n",
      "Mean Sensitivity (MS): 0.9932\n",
      "Mean Specificity (MS): 0.9813\n",
      "Mean AUC (MS): 0.9993\n",
      "Working on IAA dataset: 279 samples\n"
     ]
    },
    {
     "name": "stderr",
     "output_type": "stream",
     "text": [
      "IAA - Fold 0:  30%|▎| 910/3000 [00:26<01:00, 34.63it/s, loss=0.178, test_loss=0.\n",
      "IAA - Fold 1:  79%|▊| 2363/3000 [01:10<00:19, 33.44it/s, loss=0.176, test_loss=0\n",
      "IAA - Fold 2:  59%|▌| 1784/3000 [00:52<00:35, 34.15it/s, loss=0.158, test_loss=0\n",
      "IAA - Fold 3:  71%|▋| 2140/3000 [01:03<00:25, 33.58it/s, loss=0.182, test_loss=0\n",
      "IAA - Fold 4:  70%|▋| 2109/3000 [01:01<00:26, 34.21it/s, loss=0.175, test_loss=0\n"
     ]
    },
    {
     "name": "stdout",
     "output_type": "stream",
     "text": [
      "Mean Accuracy (IAA): 0.9247\n",
      "Mean Sensitivity (IAA): 0.7385\n",
      "Mean Specificity (IAA): 0.9813\n",
      "Mean AUC (IAA): 0.9807\n",
      "Working on RA dataset: 320 samples\n"
     ]
    },
    {
     "name": "stderr",
     "output_type": "stream",
     "text": [
      "RA - Fold 0:  37%|▎| 1108/3000 [00:36<01:01, 30.75it/s, loss=0.196, test_loss=0.\n",
      "RA - Fold 1:  72%|▋| 2161/3000 [01:10<00:27, 30.81it/s, loss=0.171, test_loss=0.\n",
      "RA - Fold 2:  51%|▌| 1539/3000 [00:49<00:46, 31.24it/s, loss=0.168, test_loss=0.\n",
      "RA - Fold 3:  31%|▎| 926/3000 [00:30<01:08, 30.24it/s, loss=0.194, test_loss=0.3\n",
      "RA - Fold 4:  40%|▍| 1214/3000 [00:39<00:58, 30.76it/s, loss=0.161, test_loss=0.\n"
     ]
    },
    {
     "name": "stdout",
     "output_type": "stream",
     "text": [
      "Mean Accuracy (RA): 0.8406\n",
      "Mean Sensitivity (RA): 0.6604\n",
      "Mean Specificity (RA): 0.9299\n",
      "Mean AUC (RA): 0.9150\n",
      "Working on T1D dataset: 394 samples\n"
     ]
    },
    {
     "name": "stderr",
     "output_type": "stream",
     "text": [
      "T1D - Fold 0:  74%|▋| 2213/3000 [01:27<00:30, 25.39it/s, loss=0.167, test_loss=0\n",
      "T1D - Fold 1:  67%|▋| 1996/3000 [01:19<00:39, 25.20it/s, loss=0.213, test_loss=0\n",
      "T1D - Fold 2:  34%|▎| 1007/3000 [00:40<01:19, 25.08it/s, loss=0.171, test_loss=0\n",
      "T1D - Fold 3: 100%|█| 3000/3000 [01:58<00:00, 25.39it/s, loss=0.191, test_loss=0\n",
      "T1D - Fold 4:  77%|▊| 2299/3000 [01:31<00:27, 25.08it/s, loss=0.177, test_loss=0\n"
     ]
    },
    {
     "name": "stdout",
     "output_type": "stream",
     "text": [
      "Mean Accuracy (T1D): 0.9746\n",
      "Mean Sensitivity (T1D): 0.9611\n",
      "Mean Specificity (T1D): 0.9860\n",
      "Mean AUC (T1D): 0.9975\n",
      "Working on MS dataset: 508 samples\n"
     ]
    },
    {
     "name": "stderr",
     "output_type": "stream",
     "text": [
      "MS - Fold 0: 100%|█| 3000/3000 [02:35<00:00, 19.28it/s, loss=0.191, test_loss=0.\n",
      "MS - Fold 1:  92%|▉| 2763/3000 [02:25<00:12, 19.05it/s, loss=0.18, test_loss=0.0\n",
      "MS - Fold 2:  62%|▌| 1865/3000 [01:39<01:00, 18.68it/s, loss=0.196, test_loss=0.\n",
      "MS - Fold 3: 100%|█| 3000/3000 [02:39<00:00, 18.86it/s, loss=0.188, test_loss=0.\n",
      "MS - Fold 4:  98%|▉| 2952/3000 [02:34<00:02, 19.14it/s, loss=0.197, test_loss=0.\n"
     ]
    },
    {
     "name": "stdout",
     "output_type": "stream",
     "text": [
      "Mean Accuracy (MS): 0.9823\n",
      "Mean Sensitivity (MS): 0.9898\n",
      "Mean Specificity (MS): 0.9720\n",
      "Mean AUC (MS): 0.9983\n",
      "Working on IAA dataset: 279 samples\n"
     ]
    },
    {
     "name": "stderr",
     "output_type": "stream",
     "text": [
      "IAA - Fold 0:  29%|▎| 873/3000 [00:25<01:01, 34.49it/s, loss=0.177, test_loss=0.\n",
      "IAA - Fold 1:  95%|▉| 2863/3000 [01:21<00:03, 35.17it/s, loss=0.188, test_loss=0\n",
      "IAA - Fold 2:  85%|▊| 2561/3000 [01:13<00:12, 35.02it/s, loss=0.184, test_loss=0\n",
      "IAA - Fold 3: 100%|█| 3000/3000 [01:25<00:00, 34.92it/s, loss=0.188, test_loss=0\n",
      "IAA - Fold 4:  64%|▋| 1934/3000 [00:55<00:30, 34.80it/s, loss=0.211, test_loss=0\n"
     ]
    },
    {
     "name": "stdout",
     "output_type": "stream",
     "text": [
      "Mean Accuracy (IAA): 0.9391\n",
      "Mean Sensitivity (IAA): 0.7538\n",
      "Mean Specificity (IAA): 0.9953\n",
      "Mean AUC (IAA): 0.9732\n",
      "Working on RA dataset: 320 samples\n"
     ]
    },
    {
     "name": "stderr",
     "output_type": "stream",
     "text": [
      "RA - Fold 0:  50%|▍| 1485/3000 [00:47<00:48, 31.16it/s, loss=0.192, test_loss=0.\n",
      "RA - Fold 1:  54%|▌| 1631/3000 [00:53<00:44, 30.72it/s, loss=0.193, test_loss=0.\n",
      "RA - Fold 2:  77%|▊| 2296/3000 [01:15<00:23, 30.45it/s, loss=0.182, test_loss=0.\n",
      "RA - Fold 3:  61%|▌| 1831/3000 [01:00<00:38, 30.10it/s, loss=0.182, test_loss=0.\n",
      "RA - Fold 4:  58%|▌| 1739/3000 [00:57<00:41, 30.39it/s, loss=0.148, test_loss=0.\n"
     ]
    },
    {
     "name": "stdout",
     "output_type": "stream",
     "text": [
      "Mean Accuracy (RA): 0.8812\n",
      "Mean Sensitivity (RA): 0.7736\n",
      "Mean Specificity (RA): 0.9346\n",
      "Mean AUC (RA): 0.9415\n",
      "Working on T1D dataset: 394 samples\n"
     ]
    },
    {
     "name": "stderr",
     "output_type": "stream",
     "text": [
      "T1D - Fold 0:  80%|▊| 2391/3000 [01:37<00:24, 24.60it/s, loss=0.155, test_loss=0\n",
      "T1D - Fold 1:  75%|▊| 2256/3000 [01:32<00:30, 24.38it/s, loss=0.165, test_loss=0\n",
      "T1D - Fold 2:  71%|▋| 2137/3000 [01:26<00:35, 24.63it/s, loss=0.172, test_loss=0\n",
      "T1D - Fold 3: 100%|█| 3000/3000 [02:03<00:00, 24.39it/s, loss=0.164, test_loss=0\n",
      "T1D - Fold 4:  77%|▊| 2320/3000 [01:32<00:27, 24.99it/s, loss=0.161, test_loss=0\n"
     ]
    },
    {
     "name": "stdout",
     "output_type": "stream",
     "text": [
      "Mean Accuracy (T1D): 0.9746\n",
      "Mean Sensitivity (T1D): 0.9556\n",
      "Mean Specificity (T1D): 0.9907\n",
      "Mean AUC (T1D): 0.9985\n",
      "Working on MS dataset: 508 samples\n"
     ]
    },
    {
     "name": "stderr",
     "output_type": "stream",
     "text": [
      "MS - Fold 0: 100%|█| 3000/3000 [02:36<00:00, 19.22it/s, loss=0.157, test_loss=0.\n",
      "MS - Fold 1:  95%|▉| 2862/3000 [02:31<00:07, 18.85it/s, loss=0.194, test_loss=0.\n",
      "MS - Fold 2:  71%|▋| 2136/3000 [01:53<00:45, 18.90it/s, loss=0.187, test_loss=0.\n",
      "MS - Fold 3:  78%|▊| 2354/3000 [02:03<00:33, 19.12it/s, loss=0.174, test_loss=0.\n",
      "MS - Fold 4:  43%|▍| 1302/3000 [01:08<01:29, 18.87it/s, loss=0.2, test_loss=0.08\n"
     ]
    },
    {
     "name": "stdout",
     "output_type": "stream",
     "text": [
      "Mean Accuracy (MS): 0.9803\n",
      "Mean Sensitivity (MS): 0.9932\n",
      "Mean Specificity (MS): 0.9626\n",
      "Mean AUC (MS): 0.9991\n",
      "Working on IAA dataset: 279 samples\n"
     ]
    },
    {
     "name": "stderr",
     "output_type": "stream",
     "text": [
      "IAA - Fold 0:  34%|▎| 1019/3000 [00:29<00:57, 34.62it/s, loss=0.217, test_loss=0\n",
      "IAA - Fold 1: 100%|█| 3000/3000 [01:25<00:00, 34.88it/s, loss=0.147, test_loss=0\n",
      "IAA - Fold 2:  79%|▊| 2384/3000 [01:08<00:17, 34.90it/s, loss=0.153, test_loss=0\n",
      "IAA - Fold 3:  11%| | 320/3000 [00:09<01:18, 34.32it/s, loss=0.377, test_loss=0.\n",
      "IAA - Fold 4:  66%|▋| 1975/3000 [00:58<00:30, 33.75it/s, loss=0.126, test_loss=0\n"
     ]
    },
    {
     "name": "stdout",
     "output_type": "stream",
     "text": [
      "Mean Accuracy (IAA): 0.8889\n",
      "Mean Sensitivity (IAA): 0.5538\n",
      "Mean Specificity (IAA): 0.9907\n",
      "Mean AUC (IAA): 0.9465\n",
      "Working on RA dataset: 320 samples\n"
     ]
    },
    {
     "name": "stderr",
     "output_type": "stream",
     "text": [
      "RA - Fold 0:  84%|▊| 2512/3000 [01:22<00:16, 30.39it/s, loss=0.151, test_loss=0.\n",
      "RA - Fold 1:  33%|▎| 980/3000 [00:32<01:07, 30.11it/s, loss=0.202, test_loss=0.5\n",
      "RA - Fold 2:  38%|▍| 1127/3000 [00:36<01:01, 30.57it/s, loss=0.19, test_loss=0.5\n",
      "RA - Fold 3:  63%|▋| 1890/3000 [01:03<00:37, 29.79it/s, loss=0.145, test_loss=0.\n",
      "RA - Fold 4:  62%|▌| 1868/3000 [01:02<00:37, 29.91it/s, loss=0.199, test_loss=0.\n"
     ]
    },
    {
     "name": "stdout",
     "output_type": "stream",
     "text": [
      "Mean Accuracy (RA): 0.8688\n",
      "Mean Sensitivity (RA): 0.7453\n",
      "Mean Specificity (RA): 0.9299\n",
      "Mean AUC (RA): 0.9396\n",
      "Working on T1D dataset: 394 samples\n"
     ]
    },
    {
     "name": "stderr",
     "output_type": "stream",
     "text": [
      "T1D - Fold 0:  64%|▋| 1921/3000 [01:19<00:44, 24.05it/s, loss=0.153, test_loss=0\n",
      "T1D - Fold 1:  70%|▋| 2097/3000 [01:24<00:36, 24.82it/s, loss=0.205, test_loss=0\n",
      "T1D - Fold 2:  45%|▍| 1339/3000 [00:53<01:06, 24.83it/s, loss=0.13, test_loss=0.\n",
      "T1D - Fold 3:  68%|▋| 2039/3000 [01:21<00:38, 25.10it/s, loss=0.163, test_loss=0\n",
      "T1D - Fold 4:  53%|▌| 1594/3000 [01:03<00:55, 25.21it/s, loss=0.172, test_loss=0\n"
     ]
    },
    {
     "name": "stdout",
     "output_type": "stream",
     "text": [
      "Mean Accuracy (T1D): 0.9822\n",
      "Mean Sensitivity (T1D): 0.9778\n",
      "Mean Specificity (T1D): 0.9860\n",
      "Mean AUC (T1D): 0.9989\n",
      "Working on MS dataset: 508 samples\n"
     ]
    },
    {
     "name": "stderr",
     "output_type": "stream",
     "text": [
      "MS - Fold 0: 100%|█| 3000/3000 [02:35<00:00, 19.25it/s, loss=0.161, test_loss=0.\n",
      "MS - Fold 1: 100%|█| 3000/3000 [02:38<00:00, 18.93it/s, loss=0.17, test_loss=0.0\n",
      "MS - Fold 2:  57%|▌| 1702/3000 [01:31<01:09, 18.66it/s, loss=0.182, test_loss=0.\n",
      "MS - Fold 3: 100%|█| 3000/3000 [02:40<00:00, 18.66it/s, loss=0.178, test_loss=0.\n",
      "MS - Fold 4:  66%|▋| 1968/3000 [01:44<00:54, 18.85it/s, loss=0.192, test_loss=0.\n"
     ]
    },
    {
     "name": "stdout",
     "output_type": "stream",
     "text": [
      "Mean Accuracy (MS): 0.9843\n",
      "Mean Sensitivity (MS): 0.9864\n",
      "Mean Specificity (MS): 0.9813\n",
      "Mean AUC (MS): 0.9992\n",
      "Working on IAA dataset: 279 samples\n"
     ]
    },
    {
     "name": "stderr",
     "output_type": "stream",
     "text": [
      "IAA - Fold 0:  48%|▍| 1449/3000 [00:43<00:46, 33.68it/s, loss=0.162, test_loss=0\n",
      "IAA - Fold 1:  83%|▊| 2493/3000 [01:15<00:15, 32.85it/s, loss=0.192, test_loss=0\n",
      "IAA - Fold 2:  75%|▋| 2248/3000 [01:06<00:22, 33.92it/s, loss=0.184, test_loss=0\n",
      "IAA - Fold 3:  53%|▌| 1603/3000 [00:47<00:41, 33.69it/s, loss=0.158, test_loss=0\n",
      "IAA - Fold 4:  57%|▌| 1718/3000 [00:49<00:37, 34.60it/s, loss=0.191, test_loss=0\n"
     ]
    },
    {
     "name": "stdout",
     "output_type": "stream",
     "text": [
      "Mean Accuracy (IAA): 0.9211\n",
      "Mean Sensitivity (IAA): 0.7538\n",
      "Mean Specificity (IAA): 0.9720\n",
      "Mean AUC (IAA): 0.9610\n",
      "Working on RA dataset: 320 samples\n"
     ]
    },
    {
     "name": "stderr",
     "output_type": "stream",
     "text": [
      "RA - Fold 0:  78%|▊| 2329/3000 [01:15<00:21, 30.92it/s, loss=0.166, test_loss=0.\n",
      "RA - Fold 1:  54%|▌| 1607/3000 [00:52<00:45, 30.69it/s, loss=0.171, test_loss=0.\n",
      "RA - Fold 2:  50%|▍| 1496/3000 [00:48<00:48, 31.14it/s, loss=0.179, test_loss=0.\n",
      "RA - Fold 3:  42%|▍| 1274/3000 [00:41<00:56, 30.44it/s, loss=0.177, test_loss=0.\n",
      "RA - Fold 4: 100%|█| 3000/3000 [01:37<00:00, 30.84it/s, loss=0.185, test_loss=1.\n"
     ]
    },
    {
     "name": "stdout",
     "output_type": "stream",
     "text": [
      "Mean Accuracy (RA): 0.8187\n",
      "Mean Sensitivity (RA): 0.5755\n",
      "Mean Specificity (RA): 0.9393\n",
      "Mean AUC (RA): 0.8760\n",
      "Working on T1D dataset: 394 samples\n"
     ]
    },
    {
     "name": "stderr",
     "output_type": "stream",
     "text": [
      "T1D - Fold 0:  45%|▍| 1343/3000 [00:52<01:05, 25.38it/s, loss=0.184, test_loss=0\n",
      "T1D - Fold 1:  10%| | 311/3000 [00:12<01:48, 24.77it/s, loss=0.411, test_loss=0.\n",
      "T1D - Fold 2:  43%|▍| 1285/3000 [00:51<01:09, 24.78it/s, loss=0.182, test_loss=0\n",
      "T1D - Fold 3:  80%|▊| 2395/3000 [01:38<00:24, 24.39it/s, loss=0.171, test_loss=0\n",
      "T1D - Fold 4: 100%|█| 3000/3000 [01:58<00:00, 25.38it/s, loss=0.182, test_loss=0\n"
     ]
    },
    {
     "name": "stdout",
     "output_type": "stream",
     "text": [
      "Mean Accuracy (T1D): 0.8959\n",
      "Mean Sensitivity (T1D): 0.8167\n",
      "Mean Specificity (T1D): 0.9626\n",
      "Mean AUC (T1D): 0.9748\n",
      "Working on MS dataset: 508 samples\n"
     ]
    },
    {
     "name": "stderr",
     "output_type": "stream",
     "text": [
      "MS - Fold 0:  61%|▌| 1840/3000 [01:36<01:00, 19.07it/s, loss=0.16, test_loss=0.0\n",
      "MS - Fold 1: 100%|█| 3000/3000 [02:36<00:00, 19.13it/s, loss=0.179, test_loss=0.\n",
      "MS - Fold 2:  40%|▍| 1212/3000 [01:05<01:37, 18.41it/s, loss=0.17, test_loss=0.0\n",
      "MS - Fold 3: 100%|▉| 2985/3000 [02:38<00:00, 18.80it/s, loss=0.152, test_loss=0.\n",
      "MS - Fold 4:  98%|▉| 2954/3000 [02:36<00:02, 18.88it/s, loss=0.191, test_loss=0.\n"
     ]
    },
    {
     "name": "stdout",
     "output_type": "stream",
     "text": [
      "Mean Accuracy (MS): 0.9606\n",
      "Mean Sensitivity (MS): 0.9898\n",
      "Mean Specificity (MS): 0.9206\n",
      "Mean AUC (MS): 0.9963\n",
      "Working on IAA dataset: 279 samples\n"
     ]
    },
    {
     "name": "stderr",
     "output_type": "stream",
     "text": [
      "IAA - Fold 0:  51%|▌| 1519/3000 [00:44<00:43, 33.92it/s, loss=0.19, test_loss=0.\n",
      "IAA - Fold 1: 100%|█| 3000/3000 [01:26<00:00, 34.86it/s, loss=0.199, test_loss=0\n",
      "IAA - Fold 2:  59%|▌| 1774/3000 [00:50<00:34, 35.17it/s, loss=0.161, test_loss=0\n",
      "IAA - Fold 3:  79%|▊| 2376/3000 [01:07<00:17, 35.43it/s, loss=0.187, test_loss=0\n",
      "IAA - Fold 4:  42%|▍| 1256/3000 [00:36<00:50, 34.57it/s, loss=0.142, test_loss=0\n"
     ]
    },
    {
     "name": "stdout",
     "output_type": "stream",
     "text": [
      "Mean Accuracy (IAA): 0.9498\n",
      "Mean Sensitivity (IAA): 0.8154\n",
      "Mean Specificity (IAA): 0.9907\n",
      "Mean AUC (IAA): 0.9824\n",
      "Working on RA dataset: 320 samples\n"
     ]
    },
    {
     "name": "stderr",
     "output_type": "stream",
     "text": [
      "RA - Fold 0:  47%|▍| 1401/3000 [00:45<00:51, 31.02it/s, loss=0.192, test_loss=0.\n",
      "RA - Fold 1:  50%|▍| 1490/3000 [00:48<00:49, 30.43it/s, loss=0.133, test_loss=0.\n",
      "RA - Fold 2:  10%| | 311/3000 [00:10<01:28, 30.50it/s, loss=0.3, test_loss=0.749\n",
      "RA - Fold 3:  64%|▋| 1935/3000 [01:02<00:34, 31.01it/s, loss=0.166, test_loss=0.\n",
      "RA - Fold 4:  56%|▌| 1688/3000 [00:55<00:43, 30.26it/s, loss=0.219, test_loss=0.\n"
     ]
    },
    {
     "name": "stdout",
     "output_type": "stream",
     "text": [
      "Mean Accuracy (RA): 0.7812\n",
      "Mean Sensitivity (RA): 0.6509\n",
      "Mean Specificity (RA): 0.8458\n",
      "Mean AUC (RA): 0.8744\n",
      "Working on T1D dataset: 394 samples\n"
     ]
    },
    {
     "name": "stderr",
     "output_type": "stream",
     "text": [
      "T1D - Fold 0:  74%|▋| 2217/3000 [01:31<00:32, 24.29it/s, loss=0.218, test_loss=0\n",
      "T1D - Fold 1:  57%|▌| 1696/3000 [01:08<00:52, 24.69it/s, loss=0.194, test_loss=0\n",
      "T1D - Fold 2:  54%|▌| 1618/3000 [01:05<00:56, 24.54it/s, loss=0.185, test_loss=0\n",
      "T1D - Fold 3:  76%|▊| 2266/3000 [01:33<00:30, 24.31it/s, loss=0.169, test_loss=0\n",
      "T1D - Fold 4:  89%|▉| 2678/3000 [01:50<00:13, 24.23it/s, loss=0.163, test_loss=0\n"
     ]
    },
    {
     "name": "stdout",
     "output_type": "stream",
     "text": [
      "Mean Accuracy (T1D): 0.9797\n",
      "Mean Sensitivity (T1D): 0.9722\n",
      "Mean Specificity (T1D): 0.9860\n",
      "Mean AUC (T1D): 0.9976\n",
      "Working on MS dataset: 508 samples\n"
     ]
    },
    {
     "name": "stderr",
     "output_type": "stream",
     "text": [
      "MS - Fold 0:  84%|▊| 2535/3000 [02:11<00:24, 19.26it/s, loss=0.183, test_loss=0.\n",
      "MS - Fold 1: 100%|█| 3000/3000 [02:47<00:00, 17.89it/s, loss=0.176, test_loss=0.\n",
      "MS - Fold 2:  59%|▌| 1766/3000 [01:31<01:03, 19.30it/s, loss=0.181, test_loss=0.\n",
      "MS - Fold 3:  89%|▉| 2678/3000 [02:22<00:17, 18.85it/s, loss=0.154, test_loss=0.\n",
      "MS - Fold 4:  80%|▊| 2405/3000 [02:07<00:31, 18.90it/s, loss=0.17, test_loss=0.0\n"
     ]
    },
    {
     "name": "stdout",
     "output_type": "stream",
     "text": [
      "Mean Accuracy (MS): 0.9961\n",
      "Mean Sensitivity (MS): 1.0000\n",
      "Mean Specificity (MS): 0.9907\n",
      "Mean AUC (MS): 0.9998\n",
      "Working on IAA dataset: 279 samples\n"
     ]
    },
    {
     "name": "stderr",
     "output_type": "stream",
     "text": [
      "IAA - Fold 0:  43%|▍| 1293/3000 [00:37<00:48, 34.92it/s, loss=0.178, test_loss=0\n",
      "IAA - Fold 1:  94%|▉| 2823/3000 [01:20<00:05, 35.27it/s, loss=0.213, test_loss=0\n",
      "IAA - Fold 2:  83%|▊| 2493/3000 [01:11<00:14, 34.82it/s, loss=0.149, test_loss=0\n",
      "IAA - Fold 3:  55%|▌| 1651/3000 [00:47<00:39, 34.46it/s, loss=0.17, test_loss=0.\n",
      "IAA - Fold 4:  93%|▉| 2780/3000 [01:19<00:06, 34.97it/s, loss=0.172, test_loss=0\n"
     ]
    },
    {
     "name": "stdout",
     "output_type": "stream",
     "text": [
      "Mean Accuracy (IAA): 0.9462\n",
      "Mean Sensitivity (IAA): 0.8308\n",
      "Mean Specificity (IAA): 0.9813\n",
      "Mean AUC (IAA): 0.9894\n",
      "Working on RA dataset: 320 samples\n"
     ]
    },
    {
     "name": "stderr",
     "output_type": "stream",
     "text": [
      "RA - Fold 0:  57%|▌| 1714/3000 [00:55<00:41, 30.65it/s, loss=0.178, test_loss=0.\n",
      "RA - Fold 1:  68%|▋| 2049/3000 [01:06<00:31, 30.60it/s, loss=0.199, test_loss=0.\n",
      "RA - Fold 2:  40%|▍| 1206/3000 [00:39<00:58, 30.48it/s, loss=0.204, test_loss=0.\n",
      "RA - Fold 3:  59%|▌| 1776/3000 [00:59<00:40, 30.03it/s, loss=0.164, test_loss=0.\n",
      "RA - Fold 4:  53%|▌| 1584/3000 [00:50<00:45, 31.08it/s, loss=0.181, test_loss=0.\n"
     ]
    },
    {
     "name": "stdout",
     "output_type": "stream",
     "text": [
      "Mean Accuracy (RA): 0.8594\n",
      "Mean Sensitivity (RA): 0.7358\n",
      "Mean Specificity (RA): 0.9206\n",
      "Mean AUC (RA): 0.9482\n",
      "Working on T1D dataset: 394 samples\n"
     ]
    },
    {
     "name": "stderr",
     "output_type": "stream",
     "text": [
      "T1D - Fold 0:  56%|▌| 1673/3000 [01:08<00:54, 24.56it/s, loss=0.171, test_loss=0\n",
      "T1D - Fold 1: 100%|█| 3000/3000 [02:01<00:00, 24.71it/s, loss=0.17, test_loss=0.\n",
      "T1D - Fold 2:  34%|▎| 1013/3000 [00:40<01:20, 24.79it/s, loss=0.206, test_loss=0\n",
      "T1D - Fold 3:  82%|▊| 2473/3000 [01:41<00:21, 24.39it/s, loss=0.163, test_loss=0\n",
      "T1D - Fold 4:  90%|▉| 2696/3000 [01:47<00:12, 25.01it/s, loss=0.187, test_loss=0\n"
     ]
    },
    {
     "name": "stdout",
     "output_type": "stream",
     "text": [
      "Mean Accuracy (T1D): 0.9822\n",
      "Mean Sensitivity (T1D): 0.9778\n",
      "Mean Specificity (T1D): 0.9860\n",
      "Mean AUC (T1D): 0.9974\n",
      "Working on MS dataset: 508 samples\n"
     ]
    },
    {
     "name": "stderr",
     "output_type": "stream",
     "text": [
      "MS - Fold 0:  97%|▉| 2896/3000 [02:34<00:05, 18.71it/s, loss=0.16, test_loss=0.1\n",
      "MS - Fold 1: 100%|█| 3000/3000 [02:36<00:00, 19.12it/s, loss=0.196, test_loss=0.\n",
      "MS - Fold 2:  67%|▋| 2020/3000 [01:46<00:51, 18.90it/s, loss=0.18, test_loss=0.0\n",
      "MS - Fold 3:  93%|▉| 2790/3000 [02:27<00:11, 18.98it/s, loss=0.168, test_loss=0.\n",
      "MS - Fold 4:  88%|▉| 2636/3000 [02:20<00:19, 18.72it/s, loss=0.172, test_loss=0.\n"
     ]
    },
    {
     "name": "stdout",
     "output_type": "stream",
     "text": [
      "Mean Accuracy (MS): 0.9882\n",
      "Mean Sensitivity (MS): 0.9932\n",
      "Mean Specificity (MS): 0.9813\n",
      "Mean AUC (MS): 0.9998\n",
      "Working on IAA dataset: 279 samples\n"
     ]
    },
    {
     "name": "stderr",
     "output_type": "stream",
     "text": [
      "IAA - Fold 0:  36%|▎| 1074/3000 [00:31<00:56, 33.89it/s, loss=0.161, test_loss=0\n",
      "IAA - Fold 1:  89%|▉| 2670/3000 [01:19<00:09, 33.40it/s, loss=0.216, test_loss=0\n",
      "IAA - Fold 2:  76%|▊| 2291/3000 [01:08<00:21, 33.61it/s, loss=0.15, test_loss=0.\n",
      "IAA - Fold 3: 100%|█| 3000/3000 [01:29<00:00, 33.66it/s, loss=0.212, test_loss=0\n",
      "IAA - Fold 4:  40%|▍| 1197/3000 [00:35<00:54, 33.30it/s, loss=0.148, test_loss=0\n"
     ]
    },
    {
     "name": "stdout",
     "output_type": "stream",
     "text": [
      "Mean Accuracy (IAA): 0.9534\n",
      "Mean Sensitivity (IAA): 0.8308\n",
      "Mean Specificity (IAA): 0.9907\n",
      "Mean AUC (IAA): 0.9795\n",
      "Working on RA dataset: 320 samples\n"
     ]
    },
    {
     "name": "stderr",
     "output_type": "stream",
     "text": [
      "RA - Fold 0:  81%|▊| 2417/3000 [01:19<00:19, 30.23it/s, loss=0.183, test_loss=0.\n",
      "RA - Fold 1:  69%|▋| 2078/3000 [01:07<00:29, 30.91it/s, loss=0.185, test_loss=0.\n",
      "RA - Fold 2:  44%|▍| 1322/3000 [00:43<00:54, 30.57it/s, loss=0.196, test_loss=0.\n",
      "RA - Fold 3:  44%|▍| 1306/3000 [00:42<00:55, 30.66it/s, loss=0.175, test_loss=0.\n",
      "RA - Fold 4:  53%|▌| 1598/3000 [00:51<00:45, 30.79it/s, loss=0.227, test_loss=0.\n"
     ]
    },
    {
     "name": "stdout",
     "output_type": "stream",
     "text": [
      "Mean Accuracy (RA): 0.8313\n",
      "Mean Sensitivity (RA): 0.6981\n",
      "Mean Specificity (RA): 0.8972\n",
      "Mean AUC (RA): 0.9287\n",
      "Working on T1D dataset: 394 samples\n"
     ]
    },
    {
     "name": "stderr",
     "output_type": "stream",
     "text": [
      "T1D - Fold 0:  93%|▉| 2789/3000 [01:50<00:08, 25.35it/s, loss=0.182, test_loss=0\n",
      "T1D - Fold 1:  57%|▌| 1697/3000 [01:07<00:52, 24.96it/s, loss=0.17, test_loss=0.\n",
      "T1D - Fold 2:  76%|▊| 2269/3000 [01:29<00:28, 25.24it/s, loss=0.139, test_loss=0\n",
      "T1D - Fold 3: 100%|█| 3000/3000 [01:59<00:00, 25.15it/s, loss=0.182, test_loss=0\n",
      "T1D - Fold 4:  69%|▋| 2084/3000 [01:22<00:36, 25.12it/s, loss=0.209, test_loss=0\n"
     ]
    },
    {
     "name": "stdout",
     "output_type": "stream",
     "text": [
      "Mean Accuracy (T1D): 0.9670\n",
      "Mean Sensitivity (T1D): 0.9556\n",
      "Mean Specificity (T1D): 0.9766\n",
      "Mean AUC (T1D): 0.9975\n",
      "Working on MS dataset: 508 samples\n"
     ]
    },
    {
     "name": "stderr",
     "output_type": "stream",
     "text": [
      "MS - Fold 0:  95%|▉| 2849/3000 [02:28<00:07, 19.21it/s, loss=0.177, test_loss=0.\n",
      "MS - Fold 1:  74%|▋| 2210/3000 [01:54<00:40, 19.37it/s, loss=0.172, test_loss=0.\n",
      "MS - Fold 2:  86%|▊| 2592/3000 [02:17<00:21, 18.89it/s, loss=0.173, test_loss=0.\n",
      "MS - Fold 3: 100%|█| 3000/3000 [02:38<00:00, 18.95it/s, loss=0.166, test_loss=0.\n",
      "MS - Fold 4:  63%|▋| 1882/3000 [01:40<00:59, 18.76it/s, loss=0.161, test_loss=0.\n"
     ]
    },
    {
     "name": "stdout",
     "output_type": "stream",
     "text": [
      "Mean Accuracy (MS): 0.9764\n",
      "Mean Sensitivity (MS): 0.9830\n",
      "Mean Specificity (MS): 0.9673\n",
      "Mean AUC (MS): 0.9984\n",
      "Working on IAA dataset: 279 samples\n"
     ]
    },
    {
     "name": "stderr",
     "output_type": "stream",
     "text": [
      "IAA - Fold 0:  59%|▌| 1779/3000 [00:51<00:35, 34.58it/s, loss=0.182, test_loss=0\n",
      "IAA - Fold 1:  80%|▊| 2402/3000 [01:10<00:17, 34.31it/s, loss=0.147, test_loss=0\n",
      "IAA - Fold 2:  64%|▋| 1932/3000 [00:56<00:31, 33.95it/s, loss=0.13, test_loss=0.\n",
      "IAA - Fold 3:  98%|▉| 2946/3000 [01:24<00:01, 35.02it/s, loss=0.183, test_loss=0\n",
      "IAA - Fold 4:  38%|▍| 1153/3000 [00:33<00:52, 34.87it/s, loss=0.179, test_loss=0\n"
     ]
    },
    {
     "name": "stdout",
     "output_type": "stream",
     "text": [
      "Mean Accuracy (IAA): 0.8961\n",
      "Mean Sensitivity (IAA): 0.6308\n",
      "Mean Specificity (IAA): 0.9766\n",
      "Mean AUC (IAA): 0.9559\n",
      "Working on RA dataset: 320 samples\n"
     ]
    },
    {
     "name": "stderr",
     "output_type": "stream",
     "text": [
      "RA - Fold 0:  62%|▌| 1872/3000 [01:00<00:36, 30.90it/s, loss=0.179, test_loss=0.\n",
      "RA - Fold 1:  57%|▌| 1712/3000 [00:55<00:41, 30.76it/s, loss=0.189, test_loss=0.\n",
      "RA - Fold 2:  23%|▏| 704/3000 [00:22<01:14, 30.76it/s, loss=0.226, test_loss=0.6\n",
      "RA - Fold 3:  69%|▋| 2080/3000 [01:07<00:29, 30.86it/s, loss=0.153, test_loss=0.\n",
      "RA - Fold 4:  56%|▌| 1680/3000 [00:54<00:42, 30.93it/s, loss=0.167, test_loss=0.\n"
     ]
    },
    {
     "name": "stdout",
     "output_type": "stream",
     "text": [
      "Mean Accuracy (RA): 0.8531\n",
      "Mean Sensitivity (RA): 0.7170\n",
      "Mean Specificity (RA): 0.9206\n",
      "Mean AUC (RA): 0.9318\n",
      "Working on T1D dataset: 394 samples\n"
     ]
    },
    {
     "name": "stderr",
     "output_type": "stream",
     "text": [
      "T1D - Fold 0:  61%|▌| 1836/3000 [01:15<00:47, 24.33it/s, loss=0.175, test_loss=0\n",
      "T1D - Fold 1:  81%|▊| 2428/3000 [01:38<00:23, 24.55it/s, loss=0.188, test_loss=0\n",
      "T1D - Fold 2:  81%|▊| 2439/3000 [01:40<00:23, 24.21it/s, loss=0.17, test_loss=0.\n",
      "T1D - Fold 3:  71%|▋| 2120/3000 [01:26<00:36, 24.44it/s, loss=0.151, test_loss=0\n",
      "T1D - Fold 4:  81%|▊| 2442/3000 [01:39<00:22, 24.59it/s, loss=0.202, test_loss=0\n"
     ]
    },
    {
     "name": "stdout",
     "output_type": "stream",
     "text": [
      "Mean Accuracy (T1D): 0.9772\n",
      "Mean Sensitivity (T1D): 0.9667\n",
      "Mean Specificity (T1D): 0.9860\n",
      "Mean AUC (T1D): 0.9982\n",
      "Working on MS dataset: 508 samples\n"
     ]
    },
    {
     "name": "stderr",
     "output_type": "stream",
     "text": [
      "MS - Fold 0:  75%|▋| 2242/3000 [01:57<00:39, 19.04it/s, loss=0.176, test_loss=0.\n",
      "MS - Fold 1: 100%|█| 3000/3000 [02:35<00:00, 19.30it/s, loss=0.171, test_loss=0.\n",
      "MS - Fold 2:  69%|▋| 2076/3000 [01:50<00:49, 18.81it/s, loss=0.168, test_loss=0.\n",
      "MS - Fold 3: 100%|█| 3000/3000 [02:35<00:00, 19.34it/s, loss=0.172, test_loss=0.\n",
      "MS - Fold 4:  65%|▋| 1963/3000 [01:41<00:53, 19.32it/s, loss=0.185, test_loss=0.\n"
     ]
    },
    {
     "name": "stdout",
     "output_type": "stream",
     "text": [
      "Mean Accuracy (MS): 0.9941\n",
      "Mean Sensitivity (MS): 0.9966\n",
      "Mean Specificity (MS): 0.9907\n",
      "Mean AUC (MS): 0.9998\n",
      "Working on IAA dataset: 279 samples\n"
     ]
    },
    {
     "name": "stderr",
     "output_type": "stream",
     "text": [
      "IAA - Fold 0:  31%|▎| 922/3000 [00:26<01:00, 34.53it/s, loss=0.165, test_loss=0.\n",
      "IAA - Fold 1:  49%|▍| 1462/3000 [00:42<00:44, 34.35it/s, loss=0.169, test_loss=0\n",
      "IAA - Fold 2:  72%|▋| 2165/3000 [01:02<00:24, 34.64it/s, loss=0.146, test_loss=0\n",
      "IAA - Fold 3:  52%|▌| 1572/3000 [00:44<00:40, 35.24it/s, loss=0.185, test_loss=0\n",
      "IAA - Fold 4:  45%|▍| 1339/3000 [00:38<00:48, 34.38it/s, loss=0.193, test_loss=0\n"
     ]
    },
    {
     "name": "stdout",
     "output_type": "stream",
     "text": [
      "Mean Accuracy (IAA): 0.8853\n",
      "Mean Sensitivity (IAA): 0.6308\n",
      "Mean Specificity (IAA): 0.9626\n",
      "Mean AUC (IAA): 0.9249\n",
      "Working on RA dataset: 320 samples\n"
     ]
    },
    {
     "name": "stderr",
     "output_type": "stream",
     "text": [
      "RA - Fold 0:  60%|▌| 1805/3000 [00:59<00:39, 30.59it/s, loss=0.17, test_loss=0.4\n",
      "RA - Fold 1:  75%|▋| 2246/3000 [01:13<00:24, 30.43it/s, loss=0.206, test_loss=0.\n",
      "RA - Fold 2: 100%|█| 3000/3000 [01:39<00:00, 30.24it/s, loss=0.141, test_loss=0.\n",
      "RA - Fold 3:  36%|▎| 1093/3000 [00:36<01:03, 29.90it/s, loss=0.208, test_loss=0.\n",
      "RA - Fold 4:  36%|▎| 1082/3000 [00:35<01:03, 30.20it/s, loss=0.167, test_loss=0.\n"
     ]
    },
    {
     "name": "stdout",
     "output_type": "stream",
     "text": [
      "Mean Accuracy (RA): 0.8812\n",
      "Mean Sensitivity (RA): 0.8113\n",
      "Mean Specificity (RA): 0.9159\n",
      "Mean AUC (RA): 0.9564\n",
      "Working on T1D dataset: 394 samples\n"
     ]
    },
    {
     "name": "stderr",
     "output_type": "stream",
     "text": [
      "T1D - Fold 0:  66%|▋| 1984/3000 [01:20<00:41, 24.72it/s, loss=0.175, test_loss=0\n",
      "T1D - Fold 1:  46%|▍| 1391/3000 [00:55<01:04, 24.96it/s, loss=0.155, test_loss=0\n",
      "T1D - Fold 2:  80%|▊| 2403/3000 [01:37<00:24, 24.69it/s, loss=0.2, test_loss=0.1\n",
      "T1D - Fold 3:  68%|▋| 2039/3000 [01:22<00:38, 24.82it/s, loss=0.174, test_loss=0\n",
      "T1D - Fold 4:  96%|▉| 2874/3000 [01:55<00:05, 24.83it/s, loss=0.17, test_loss=0.\n"
     ]
    },
    {
     "name": "stdout",
     "output_type": "stream",
     "text": [
      "Mean Accuracy (T1D): 0.9797\n",
      "Mean Sensitivity (T1D): 0.9722\n",
      "Mean Specificity (T1D): 0.9860\n",
      "Mean AUC (T1D): 0.9952\n",
      "Working on MS dataset: 508 samples\n"
     ]
    },
    {
     "name": "stderr",
     "output_type": "stream",
     "text": [
      "MS - Fold 0:  95%|▉| 2856/3000 [02:25<00:07, 19.63it/s, loss=0.173, test_loss=0.\n",
      "MS - Fold 1: 100%|█| 3000/3000 [02:34<00:00, 19.42it/s, loss=0.178, test_loss=0.\n",
      "MS - Fold 2:  68%|▋| 2027/3000 [01:46<00:51, 19.05it/s, loss=0.16, test_loss=0.0\n",
      "MS - Fold 3: 100%|█| 3000/3000 [02:41<00:00, 18.59it/s, loss=0.174, test_loss=0.\n",
      "MS - Fold 4:  84%|▊| 2522/3000 [02:16<00:25, 18.48it/s, loss=0.148, test_loss=0.\n"
     ]
    },
    {
     "name": "stdout",
     "output_type": "stream",
     "text": [
      "Mean Accuracy (MS): 0.9902\n",
      "Mean Sensitivity (MS): 0.9966\n",
      "Mean Specificity (MS): 0.9813\n",
      "Mean AUC (MS): 0.9992\n",
      "Working on IAA dataset: 279 samples\n"
     ]
    },
    {
     "name": "stderr",
     "output_type": "stream",
     "text": [
      "IAA - Fold 0:  31%|▎| 919/3000 [00:27<01:02, 33.55it/s, loss=0.183, test_loss=0.\n",
      "IAA - Fold 1:  84%|▊| 2532/3000 [01:14<00:13, 34.05it/s, loss=0.199, test_loss=0\n",
      "IAA - Fold 2:  65%|▋| 1952/3000 [00:56<00:30, 34.25it/s, loss=0.212, test_loss=0\n",
      "IAA - Fold 3:  95%|▉| 2848/3000 [01:24<00:04, 33.87it/s, loss=0.176, test_loss=0\n",
      "IAA - Fold 4: 100%|█| 3000/3000 [01:27<00:00, 34.15it/s, loss=0.18, test_loss=0.\n"
     ]
    },
    {
     "name": "stdout",
     "output_type": "stream",
     "text": [
      "Mean Accuracy (IAA): 0.9247\n",
      "Mean Sensitivity (IAA): 0.6923\n",
      "Mean Specificity (IAA): 0.9953\n",
      "Mean AUC (IAA): 0.9674\n",
      "Working on RA dataset: 320 samples\n"
     ]
    },
    {
     "name": "stderr",
     "output_type": "stream",
     "text": [
      "RA - Fold 0:  54%|▌| 1630/3000 [00:54<00:45, 30.00it/s, loss=0.201, test_loss=0.\n",
      "RA - Fold 1:  41%|▍| 1216/3000 [00:41<01:00, 29.63it/s, loss=0.166, test_loss=0.\n",
      "RA - Fold 2:  40%|▍| 1187/3000 [00:38<00:59, 30.64it/s, loss=0.2, test_loss=0.51\n",
      "RA - Fold 3:  99%|▉| 2981/3000 [01:36<00:00, 30.95it/s, loss=0.198, test_loss=0.\n",
      "RA - Fold 4:  64%|▋| 1917/3000 [01:02<00:35, 30.72it/s, loss=0.158, test_loss=0.\n"
     ]
    },
    {
     "name": "stdout",
     "output_type": "stream",
     "text": [
      "Mean Accuracy (RA): 0.8562\n",
      "Mean Sensitivity (RA): 0.8019\n",
      "Mean Specificity (RA): 0.8832\n",
      "Mean AUC (RA): 0.9271\n",
      "Working on T1D dataset: 394 samples\n"
     ]
    },
    {
     "name": "stderr",
     "output_type": "stream",
     "text": [
      "T1D - Fold 0:  72%|▋| 2156/3000 [01:25<00:33, 25.33it/s, loss=0.162, test_loss=0\n",
      "T1D - Fold 1:  70%|▋| 2093/3000 [01:23<00:36, 25.15it/s, loss=0.189, test_loss=0\n",
      "T1D - Fold 2:  57%|▌| 1698/3000 [01:08<00:52, 24.90it/s, loss=0.218, test_loss=0\n",
      "T1D - Fold 3:  62%|▌| 1867/3000 [01:14<00:45, 24.97it/s, loss=0.183, test_loss=0\n",
      "T1D - Fold 4:  71%|▋| 2140/3000 [01:25<00:34, 25.10it/s, loss=0.194, test_loss=0\n"
     ]
    },
    {
     "name": "stdout",
     "output_type": "stream",
     "text": [
      "Mean Accuracy (T1D): 0.9772\n",
      "Mean Sensitivity (T1D): 0.9722\n",
      "Mean Specificity (T1D): 0.9813\n",
      "Mean AUC (T1D): 0.9982\n",
      "Working on MS dataset: 508 samples\n"
     ]
    },
    {
     "name": "stderr",
     "output_type": "stream",
     "text": [
      "MS - Fold 0: 100%|█| 3000/3000 [02:38<00:00, 18.99it/s, loss=0.181, test_loss=0.\n",
      "MS - Fold 1: 100%|█| 3000/3000 [02:35<00:00, 19.34it/s, loss=0.163, test_loss=0.\n",
      "MS - Fold 2:  68%|▋| 2050/3000 [01:48<00:50, 18.88it/s, loss=0.202, test_loss=0.\n",
      "MS - Fold 3:  80%|▊| 2394/3000 [02:04<00:31, 19.20it/s, loss=0.148, test_loss=0.\n",
      "MS - Fold 4: 100%|█| 3000/3000 [02:42<00:00, 18.50it/s, loss=0.193, test_loss=0.\n"
     ]
    },
    {
     "name": "stdout",
     "output_type": "stream",
     "text": [
      "Mean Accuracy (MS): 0.9882\n",
      "Mean Sensitivity (MS): 0.9966\n",
      "Mean Specificity (MS): 0.9766\n",
      "Mean AUC (MS): 0.9996\n",
      "Working on IAA dataset: 279 samples\n"
     ]
    },
    {
     "name": "stderr",
     "output_type": "stream",
     "text": [
      "IAA - Fold 0:  50%|▍| 1487/3000 [00:44<00:44, 33.74it/s, loss=0.182, test_loss=0\n",
      "IAA - Fold 1:  60%|▌| 1813/3000 [00:53<00:34, 34.16it/s, loss=0.159, test_loss=0\n",
      "IAA - Fold 2:  77%|▊| 2310/3000 [01:07<00:20, 34.48it/s, loss=0.153, test_loss=0\n",
      "IAA - Fold 3:  91%|▉| 2721/3000 [01:19<00:08, 34.35it/s, loss=0.16, test_loss=0.\n",
      "IAA - Fold 4:  81%|▊| 2442/3000 [01:11<00:16, 33.92it/s, loss=0.191, test_loss=0\n"
     ]
    },
    {
     "name": "stdout",
     "output_type": "stream",
     "text": [
      "Mean Accuracy (IAA): 0.9283\n",
      "Mean Sensitivity (IAA): 0.8308\n",
      "Mean Specificity (IAA): 0.9579\n",
      "Mean AUC (IAA): 0.9824\n",
      "Working on RA dataset: 320 samples\n"
     ]
    },
    {
     "name": "stderr",
     "output_type": "stream",
     "text": [
      "RA - Fold 0:  38%|▍| 1151/3000 [00:37<01:00, 30.40it/s, loss=0.174, test_loss=0.\n",
      "RA - Fold 1:  49%|▍| 1459/3000 [00:48<00:51, 29.93it/s, loss=0.167, test_loss=0.\n",
      "RA - Fold 2:  47%|▍| 1401/3000 [00:46<00:52, 30.37it/s, loss=0.199, test_loss=0.\n",
      "RA - Fold 3:  92%|▉| 2753/3000 [01:28<00:07, 31.00it/s, loss=0.179, test_loss=0.\n",
      "RA - Fold 4:  57%|▌| 1720/3000 [00:55<00:41, 30.83it/s, loss=0.18, test_loss=0.3\n"
     ]
    },
    {
     "name": "stdout",
     "output_type": "stream",
     "text": [
      "Mean Accuracy (RA): 0.8625\n",
      "Mean Sensitivity (RA): 0.7358\n",
      "Mean Specificity (RA): 0.9252\n",
      "Mean AUC (RA): 0.9321\n",
      "Working on T1D dataset: 394 samples\n"
     ]
    },
    {
     "name": "stderr",
     "output_type": "stream",
     "text": [
      "T1D - Fold 0:  62%|▌| 1859/3000 [01:14<00:45, 25.09it/s, loss=0.154, test_loss=0\n",
      "T1D - Fold 1:  32%|▎| 957/3000 [00:38<01:21, 25.15it/s, loss=0.149, test_loss=0.\n",
      "T1D - Fold 2:  54%|▌| 1624/3000 [01:04<00:54, 25.11it/s, loss=0.17, test_loss=0.\n",
      "T1D - Fold 3: 100%|█| 3000/3000 [02:00<00:00, 24.89it/s, loss=0.196, test_loss=0\n",
      "T1D - Fold 4: 100%|█| 3000/3000 [02:02<00:00, 24.39it/s, loss=0.163, test_loss=0\n"
     ]
    },
    {
     "name": "stdout",
     "output_type": "stream",
     "text": [
      "Mean Accuracy (T1D): 0.9721\n",
      "Mean Sensitivity (T1D): 0.9611\n",
      "Mean Specificity (T1D): 0.9813\n",
      "Mean AUC (T1D): 0.9973\n",
      "Working on MS dataset: 508 samples\n"
     ]
    },
    {
     "name": "stderr",
     "output_type": "stream",
     "text": [
      "MS - Fold 0:  67%|▋| 2012/3000 [01:48<00:53, 18.57it/s, loss=0.19, test_loss=0.4\n",
      "MS - Fold 1:  53%|▌| 1588/3000 [01:25<01:15, 18.62it/s, loss=0.157, test_loss=0.\n",
      "MS - Fold 2:  96%|▉| 2871/3000 [02:33<00:06, 18.69it/s, loss=0.166, test_loss=0.\n",
      "MS - Fold 3: 100%|█| 3000/3000 [02:39<00:00, 18.77it/s, loss=0.222, test_loss=0.\n",
      "MS - Fold 4: 100%|█| 3000/3000 [02:37<00:00, 19.00it/s, loss=0.208, test_loss=0.\n"
     ]
    },
    {
     "name": "stdout",
     "output_type": "stream",
     "text": [
      "Mean Accuracy (MS): 0.9567\n",
      "Mean Sensitivity (MS): 0.9728\n",
      "Mean Specificity (MS): 0.9346\n",
      "Mean AUC (MS): 0.9913\n",
      "Working on IAA dataset: 279 samples\n"
     ]
    },
    {
     "name": "stderr",
     "output_type": "stream",
     "text": [
      "IAA - Fold 0:  40%|▍| 1192/3000 [00:34<00:51, 34.83it/s, loss=0.198, test_loss=0\n",
      "IAA - Fold 1:  92%|▉| 2773/3000 [01:19<00:06, 34.87it/s, loss=0.172, test_loss=0\n",
      "IAA - Fold 2:  67%|▋| 2019/3000 [00:57<00:28, 35.03it/s, loss=0.13, test_loss=0.\n",
      "IAA - Fold 3:  62%|▌| 1863/3000 [00:53<00:32, 35.08it/s, loss=0.183, test_loss=0\n",
      "IAA - Fold 4:  37%|▎| 1110/3000 [00:32<00:54, 34.66it/s, loss=0.172, test_loss=0\n"
     ]
    },
    {
     "name": "stdout",
     "output_type": "stream",
     "text": [
      "Mean Accuracy (IAA): 0.9104\n",
      "Mean Sensitivity (IAA): 0.7385\n",
      "Mean Specificity (IAA): 0.9626\n",
      "Mean AUC (IAA): 0.9669\n",
      "Working on RA dataset: 320 samples\n"
     ]
    },
    {
     "name": "stderr",
     "output_type": "stream",
     "text": [
      "RA - Fold 0:  62%|▌| 1860/3000 [01:00<00:37, 30.77it/s, loss=0.186, test_loss=0.\n",
      "RA - Fold 1:  66%|▋| 1991/3000 [01:04<00:32, 30.93it/s, loss=0.21, test_loss=0.4\n",
      "RA - Fold 2:  65%|▋| 1958/3000 [01:02<00:33, 31.25it/s, loss=0.169, test_loss=0.\n",
      "RA - Fold 3:  61%|▌| 1828/3000 [00:59<00:38, 30.79it/s, loss=0.132, test_loss=0.\n",
      "RA - Fold 4:  11%| | 317/3000 [00:10<01:28, 30.24it/s, loss=0.344, test_loss=0.7\n"
     ]
    },
    {
     "name": "stdout",
     "output_type": "stream",
     "text": [
      "Mean Accuracy (RA): 0.8469\n",
      "Mean Sensitivity (RA): 0.6604\n",
      "Mean Specificity (RA): 0.9393\n",
      "Mean AUC (RA): 0.9156\n",
      "Working on T1D dataset: 394 samples\n"
     ]
    },
    {
     "name": "stderr",
     "output_type": "stream",
     "text": [
      "T1D - Fold 0:  83%|▊| 2492/3000 [01:38<00:20, 25.37it/s, loss=0.183, test_loss=0\n",
      "T1D - Fold 1:  90%|▉| 2690/3000 [01:46<00:12, 25.26it/s, loss=0.182, test_loss=0\n",
      "T1D - Fold 2:  66%|▋| 1984/3000 [01:19<00:40, 24.87it/s, loss=0.166, test_loss=0\n",
      "T1D - Fold 3:  62%|▌| 1874/3000 [01:16<00:45, 24.64it/s, loss=0.171, test_loss=0\n",
      "T1D - Fold 4:  79%|▊| 2357/3000 [01:35<00:26, 24.63it/s, loss=0.208, test_loss=0\n"
     ]
    },
    {
     "name": "stdout",
     "output_type": "stream",
     "text": [
      "Mean Accuracy (T1D): 0.9797\n",
      "Mean Sensitivity (T1D): 0.9722\n",
      "Mean Specificity (T1D): 0.9860\n",
      "Mean AUC (T1D): 0.9988\n",
      "Working on MS dataset: 508 samples\n"
     ]
    },
    {
     "name": "stderr",
     "output_type": "stream",
     "text": [
      "MS - Fold 0:  85%|▊| 2544/3000 [02:17<00:24, 18.55it/s, loss=0.18, test_loss=0.0\n",
      "MS - Fold 1: 100%|█| 3000/3000 [02:41<00:00, 18.57it/s, loss=0.18, test_loss=0.0\n",
      "MS - Fold 2:  63%|▋| 1892/3000 [01:37<00:56, 19.48it/s, loss=0.154, test_loss=0.\n",
      "MS - Fold 3:  93%|▉| 2792/3000 [02:21<00:10, 19.75it/s, loss=0.206, test_loss=0.\n",
      "MS - Fold 4:  74%|▋| 2229/3000 [01:57<00:40, 18.98it/s, loss=0.166, test_loss=0.\n"
     ]
    },
    {
     "name": "stdout",
     "output_type": "stream",
     "text": [
      "Mean Accuracy (MS): 0.9862\n",
      "Mean Sensitivity (MS): 0.9898\n",
      "Mean Specificity (MS): 0.9813\n",
      "Mean AUC (MS): 0.9996\n",
      "Working on IAA dataset: 279 samples\n"
     ]
    },
    {
     "name": "stderr",
     "output_type": "stream",
     "text": [
      "IAA - Fold 0:  43%|▍| 1298/3000 [00:37<00:48, 34.74it/s, loss=0.193, test_loss=0\n",
      "IAA - Fold 1:  72%|▋| 2164/3000 [01:01<00:23, 35.00it/s, loss=0.165, test_loss=0\n",
      "IAA - Fold 2:  42%|▍| 1264/3000 [00:36<00:49, 34.79it/s, loss=0.158, test_loss=0\n",
      "IAA - Fold 3: 100%|█| 3000/3000 [01:27<00:00, 34.22it/s, loss=0.145, test_loss=0\n",
      "IAA - Fold 4:  68%|▋| 2027/3000 [01:00<00:28, 33.65it/s, loss=0.185, test_loss=0\n"
     ]
    },
    {
     "name": "stdout",
     "output_type": "stream",
     "text": [
      "Mean Accuracy (IAA): 0.9032\n",
      "Mean Sensitivity (IAA): 0.6615\n",
      "Mean Specificity (IAA): 0.9766\n",
      "Mean AUC (IAA): 0.9474\n",
      "Working on RA dataset: 320 samples\n"
     ]
    },
    {
     "name": "stderr",
     "output_type": "stream",
     "text": [
      "RA - Fold 0:  62%|▌| 1861/3000 [01:01<00:37, 30.12it/s, loss=0.169, test_loss=0.\n",
      "RA - Fold 1:  62%|▌| 1866/3000 [01:01<00:37, 30.25it/s, loss=0.208, test_loss=0.\n",
      "RA - Fold 2:  43%|▍| 1291/3000 [00:42<00:56, 30.09it/s, loss=0.196, test_loss=0.\n",
      "RA - Fold 3:  54%|▌| 1634/3000 [00:53<00:44, 30.45it/s, loss=0.163, test_loss=0.\n",
      "RA - Fold 4:  33%|▎| 987/3000 [00:33<01:08, 29.31it/s, loss=0.18, test_loss=0.42\n"
     ]
    },
    {
     "name": "stdout",
     "output_type": "stream",
     "text": [
      "Mean Accuracy (RA): 0.8688\n",
      "Mean Sensitivity (RA): 0.7453\n",
      "Mean Specificity (RA): 0.9299\n",
      "Mean AUC (RA): 0.9487\n",
      "Working on T1D dataset: 394 samples\n"
     ]
    },
    {
     "name": "stderr",
     "output_type": "stream",
     "text": [
      "T1D - Fold 0:  91%|▉| 2739/3000 [01:52<00:10, 24.40it/s, loss=0.17, test_loss=0.\n",
      "T1D - Fold 1: 100%|█| 3000/3000 [02:02<00:00, 24.49it/s, loss=0.172, test_loss=0\n",
      "T1D - Fold 2:  38%|▍| 1146/3000 [00:45<01:14, 24.95it/s, loss=0.209, test_loss=0\n",
      "T1D - Fold 3:  95%|▉| 2856/3000 [01:53<00:05, 25.22it/s, loss=0.187, test_loss=0\n",
      "T1D - Fold 4:  94%|▉| 2809/3000 [01:51<00:07, 25.17it/s, loss=0.148, test_loss=0\n"
     ]
    },
    {
     "name": "stdout",
     "output_type": "stream",
     "text": [
      "Mean Accuracy (T1D): 0.9721\n",
      "Mean Sensitivity (T1D): 0.9500\n",
      "Mean Specificity (T1D): 0.9907\n",
      "Mean AUC (T1D): 0.9960\n",
      "Working on MS dataset: 508 samples\n"
     ]
    },
    {
     "name": "stderr",
     "output_type": "stream",
     "text": [
      "MS - Fold 0:  69%|▋| 2074/3000 [01:45<00:47, 19.63it/s, loss=0.167, test_loss=0.\n",
      "MS - Fold 1: 100%|█| 3000/3000 [02:36<00:00, 19.15it/s, loss=0.178, test_loss=0.\n",
      "MS - Fold 2:  52%|▌| 1575/3000 [01:22<01:14, 19.12it/s, loss=0.182, test_loss=0.\n",
      "MS - Fold 3: 100%|█| 3000/3000 [02:37<00:00, 19.02it/s, loss=0.18, test_loss=0.0\n",
      "MS - Fold 4:  93%|▉| 2798/3000 [02:28<00:10, 18.81it/s, loss=0.166, test_loss=0.\n"
     ]
    },
    {
     "name": "stdout",
     "output_type": "stream",
     "text": [
      "Mean Accuracy (MS): 0.9843\n",
      "Mean Sensitivity (MS): 0.9864\n",
      "Mean Specificity (MS): 0.9813\n",
      "Mean AUC (MS): 0.9987\n",
      "Working on IAA dataset: 279 samples\n"
     ]
    },
    {
     "name": "stderr",
     "output_type": "stream",
     "text": [
      "IAA - Fold 0:  33%|▎| 996/3000 [00:29<00:58, 34.29it/s, loss=0.195, test_loss=0.\n",
      "IAA - Fold 1: 100%|█| 3000/3000 [01:28<00:00, 33.72it/s, loss=0.188, test_loss=0\n",
      "IAA - Fold 2:  94%|▉| 2821/3000 [01:22<00:05, 34.06it/s, loss=0.137, test_loss=0\n",
      "IAA - Fold 3:  90%|▉| 2694/3000 [01:19<00:08, 34.07it/s, loss=0.169, test_loss=0\n",
      "IAA - Fold 4:  43%|▍| 1285/3000 [00:38<00:50, 33.71it/s, loss=0.18, test_loss=0.\n"
     ]
    },
    {
     "name": "stdout",
     "output_type": "stream",
     "text": [
      "Mean Accuracy (IAA): 0.9570\n",
      "Mean Sensitivity (IAA): 0.8462\n",
      "Mean Specificity (IAA): 0.9907\n",
      "Mean AUC (IAA): 0.9859\n",
      "Working on RA dataset: 320 samples\n"
     ]
    },
    {
     "name": "stderr",
     "output_type": "stream",
     "text": [
      "RA - Fold 0:  54%|▌| 1628/3000 [00:53<00:45, 30.37it/s, loss=0.174, test_loss=0.\n",
      "RA - Fold 1:  81%|▊| 2426/3000 [01:20<00:19, 30.14it/s, loss=0.159, test_loss=0.\n",
      "RA - Fold 2:  46%|▍| 1389/3000 [00:45<00:53, 30.37it/s, loss=0.183, test_loss=0.\n",
      "RA - Fold 3:  58%|▌| 1735/3000 [00:56<00:41, 30.63it/s, loss=0.211, test_loss=0.\n",
      "RA - Fold 4:  51%|▌| 1526/3000 [00:49<00:47, 30.86it/s, loss=0.192, test_loss=0.\n"
     ]
    },
    {
     "name": "stdout",
     "output_type": "stream",
     "text": [
      "Mean Accuracy (RA): 0.8844\n",
      "Mean Sensitivity (RA): 0.7830\n",
      "Mean Specificity (RA): 0.9346\n",
      "Mean AUC (RA): 0.9226\n",
      "Working on T1D dataset: 394 samples\n"
     ]
    },
    {
     "name": "stderr",
     "output_type": "stream",
     "text": [
      "T1D - Fold 0:  86%|▊| 2565/3000 [01:44<00:17, 24.66it/s, loss=0.163, test_loss=0\n",
      "T1D - Fold 1: 100%|▉| 2987/3000 [01:58<00:00, 25.18it/s, loss=0.183, test_loss=0\n",
      "T1D - Fold 2:  52%|▌| 1550/3000 [01:01<00:57, 25.09it/s, loss=0.182, test_loss=0\n",
      "T1D - Fold 3:  84%|▊| 2517/3000 [01:42<00:19, 24.56it/s, loss=0.183, test_loss=0\n",
      "T1D - Fold 4:  97%|▉| 2919/3000 [01:58<00:03, 24.61it/s, loss=0.16, test_loss=0.\n"
     ]
    },
    {
     "name": "stdout",
     "output_type": "stream",
     "text": [
      "Mean Accuracy (T1D): 0.9848\n",
      "Mean Sensitivity (T1D): 0.9722\n",
      "Mean Specificity (T1D): 0.9953\n",
      "Mean AUC (T1D): 0.9984\n",
      "Working on MS dataset: 508 samples\n"
     ]
    },
    {
     "name": "stderr",
     "output_type": "stream",
     "text": [
      "MS - Fold 0:  55%|▌| 1664/3000 [01:29<01:11, 18.59it/s, loss=0.163, test_loss=0.\n",
      "MS - Fold 1: 100%|█| 3000/3000 [02:42<00:00, 18.50it/s, loss=0.157, test_loss=0.\n",
      "MS - Fold 2:  62%|▌| 1867/3000 [01:39<01:00, 18.71it/s, loss=0.173, test_loss=0.\n",
      "MS - Fold 3:  90%|▉| 2694/3000 [02:23<00:16, 18.80it/s, loss=0.169, test_loss=0.\n",
      "MS - Fold 4:  70%|▋| 2090/3000 [01:49<00:47, 19.11it/s, loss=0.144, test_loss=0.\n"
     ]
    },
    {
     "name": "stdout",
     "output_type": "stream",
     "text": [
      "Mean Accuracy (MS): 0.9843\n",
      "Mean Sensitivity (MS): 0.9864\n",
      "Mean Specificity (MS): 0.9813\n",
      "Mean AUC (MS): 0.9992\n",
      "Working on IAA dataset: 279 samples\n"
     ]
    },
    {
     "name": "stderr",
     "output_type": "stream",
     "text": [
      "IAA - Fold 0:  47%|▍| 1409/3000 [00:39<00:44, 35.47it/s, loss=0.206, test_loss=0\n",
      "IAA - Fold 1:  58%|▌| 1731/3000 [00:50<00:36, 34.60it/s, loss=0.181, test_loss=0\n",
      "IAA - Fold 2:  34%|▎| 1023/3000 [00:30<00:58, 33.70it/s, loss=0.188, test_loss=0\n",
      "IAA - Fold 3:  78%|▊| 2344/3000 [01:07<00:18, 34.93it/s, loss=0.207, test_loss=0\n",
      "IAA - Fold 4:  43%|▍| 1283/3000 [00:36<00:48, 35.47it/s, loss=0.142, test_loss=0\n"
     ]
    },
    {
     "name": "stdout",
     "output_type": "stream",
     "text": [
      "Mean Accuracy (IAA): 0.9283\n",
      "Mean Sensitivity (IAA): 0.8000\n",
      "Mean Specificity (IAA): 0.9673\n",
      "Mean AUC (IAA): 0.9702\n",
      "Working on RA dataset: 320 samples\n"
     ]
    },
    {
     "name": "stderr",
     "output_type": "stream",
     "text": [
      "RA - Fold 0:  87%|▊| 2620/3000 [01:24<00:12, 31.08it/s, loss=0.168, test_loss=0.\n",
      "RA - Fold 1:  53%|▌| 1576/3000 [00:50<00:45, 31.20it/s, loss=0.176, test_loss=0.\n",
      "RA - Fold 2:  52%|▌| 1563/3000 [00:50<00:46, 31.17it/s, loss=0.179, test_loss=0.\n",
      "RA - Fold 3:  38%|▍| 1126/3000 [00:36<01:00, 31.14it/s, loss=0.172, test_loss=0.\n",
      "RA - Fold 4:  80%|▊| 2410/3000 [01:17<00:18, 31.16it/s, loss=0.195, test_loss=0.\n"
     ]
    },
    {
     "name": "stdout",
     "output_type": "stream",
     "text": [
      "Mean Accuracy (RA): 0.8969\n",
      "Mean Sensitivity (RA): 0.8302\n",
      "Mean Specificity (RA): 0.9299\n",
      "Mean AUC (RA): 0.9666\n",
      "Working on T1D dataset: 394 samples\n"
     ]
    },
    {
     "name": "stderr",
     "output_type": "stream",
     "text": [
      "T1D - Fold 0:  60%|▌| 1788/3000 [01:11<00:48, 25.01it/s, loss=0.171, test_loss=0\n",
      "T1D - Fold 1:  95%|▉| 2858/3000 [01:54<00:05, 24.94it/s, loss=0.168, test_loss=0\n",
      "T1D - Fold 2:  26%|▎| 790/3000 [00:32<01:29, 24.65it/s, loss=0.209, test_loss=0.\n",
      "T1D - Fold 3:  84%|▊| 2532/3000 [01:43<00:19, 24.37it/s, loss=0.193, test_loss=0\n",
      "T1D - Fold 4:  55%|▌| 1652/3000 [01:06<00:54, 24.84it/s, loss=0.163, test_loss=0\n"
     ]
    },
    {
     "name": "stdout",
     "output_type": "stream",
     "text": [
      "Mean Accuracy (T1D): 0.9797\n",
      "Mean Sensitivity (T1D): 0.9667\n",
      "Mean Specificity (T1D): 0.9907\n",
      "Mean AUC (T1D): 0.9962\n",
      "Working on MS dataset: 508 samples\n"
     ]
    },
    {
     "name": "stderr",
     "output_type": "stream",
     "text": [
      "MS - Fold 0:  93%|▉| 2792/3000 [02:27<00:10, 18.99it/s, loss=0.187, test_loss=0.\n",
      "MS - Fold 1: 100%|█| 3000/3000 [02:31<00:00, 19.74it/s, loss=0.181, test_loss=0.\n",
      "MS - Fold 2:  45%|▍| 1351/3000 [01:09<01:25, 19.31it/s, loss=0.158, test_loss=0.\n",
      "MS - Fold 3:  83%|▊| 2498/3000 [02:09<00:26, 19.26it/s, loss=0.18, test_loss=0.0\n",
      "MS - Fold 4:  87%|▊| 2616/3000 [02:16<00:20, 19.10it/s, loss=0.166, test_loss=0.\n"
     ]
    },
    {
     "name": "stdout",
     "output_type": "stream",
     "text": [
      "Mean Accuracy (MS): 0.9862\n",
      "Mean Sensitivity (MS): 0.9898\n",
      "Mean Specificity (MS): 0.9813\n",
      "Mean AUC (MS): 0.9996\n",
      "Working on IAA dataset: 279 samples\n"
     ]
    },
    {
     "name": "stderr",
     "output_type": "stream",
     "text": [
      "IAA - Fold 0:  65%|▋| 1957/3000 [00:57<00:30, 34.27it/s, loss=0.169, test_loss=0\n",
      "IAA - Fold 1:  51%|▌| 1529/3000 [00:44<00:42, 34.30it/s, loss=0.186, test_loss=0\n",
      "IAA - Fold 2:  54%|▌| 1632/3000 [00:48<00:40, 34.00it/s, loss=0.169, test_loss=0\n",
      "IAA - Fold 3: 100%|█| 3000/3000 [01:27<00:00, 34.29it/s, loss=0.168, test_loss=0\n",
      "IAA - Fold 4:  44%|▍| 1315/3000 [00:38<00:49, 34.27it/s, loss=0.173, test_loss=0\n"
     ]
    },
    {
     "name": "stdout",
     "output_type": "stream",
     "text": [
      "Mean Accuracy (IAA): 0.9247\n",
      "Mean Sensitivity (IAA): 0.7846\n",
      "Mean Specificity (IAA): 0.9673\n",
      "Mean AUC (IAA): 0.9702\n"
     ]
    }
   ],
   "source": [
    "# 模型参数设置\n",
    "def init_model():\n",
    "    ins_num = 100\n",
    "    drop_out = 0.5\n",
    "    return AotoY(ins_num, drop_out)\n",
    "\n",
    "sys.path.append('../')\n",
    "from python_codes.pytorchtools import EarlyStopping\n",
    "\n",
    "# 读取氨基酸特征文件\n",
    "aa_file = \"../Data1/PCA15.txt\"\n",
    "aa_vectors = get_features(aa_file)  # 请确保 get_features 函数正确读取文件\n",
    "\n",
    "# 四种自免疫疾病\n",
    "disease_list = [\"RA\", \"T1D\", \"MS\", \"IAA\"]\n",
    "\n",
    "# 5折交叉验证\n",
    "k_fold = 5\n",
    "kf = KFold(n_splits=k_fold, shuffle=True, random_state=42)\n",
    "\n",
    "# 总轮次\n",
    "NUM_EPOCHES = 3000\n",
    "# 设置早停的耐心值\n",
    "PATIENCE = 300\n",
    "device = \"cuda\"\n",
    "\n",
    "# 存储每一折的性能指标\n",
    "all_accuracies = []\n",
    "all_sensitivities = []\n",
    "all_specificities = []\n",
    "all_aucs = []\n",
    "\n",
    "# 在这里设置存储结果的目录路径\n",
    "results_dir = \"../AutoY_Results_100\"\n",
    "os.makedirs(results_dir, exist_ok=True)  # 如果目录不存在，则创建它\n",
    "\n",
    "# 在这里设置存储 CSV 文件的目录路径\n",
    "csv_results_dir = \"../AutoY_CSV_Results_100\"\n",
    "os.makedirs(csv_results_dir, exist_ok=True)  # 如果目录不存在，则创建它\n",
    "\n",
    "\n",
    "for iteration in range(100):  # 循环100次\n",
    "    results = []\n",
    "    results_ROC = []\n",
    "    \n",
    "    ################################\n",
    "    results_ROC_CI = []\n",
    "    #################################\n",
    "\n",
    "    for disease_name in disease_list:\n",
    "        data_dir = f'../Data1/{disease_name}'\n",
    "        training_data, training_labels = load_data(data_dir)\n",
    "        print(f\"Working on {disease_name} dataset: {len(training_data)} samples\")\n",
    "\n",
    "        all_preds = []\n",
    "        all_labels = []\n",
    "\n",
    "        # 分成5折\n",
    "        for fold, (train_idx, test_idx) in enumerate(kf.split(training_data)):\n",
    "            train_data = [training_data[i] for i in train_idx]\n",
    "            train_labels = [training_labels[i] for i in train_idx]\n",
    "            test_data = [training_data[i] for i in test_idx]\n",
    "            test_labels = [training_labels[i] for i in test_idx]\n",
    "\n",
    "            # 训练集和测试集固定后，再将训练集划分为训练集和验证集\n",
    "            train_data, valid_data, train_labels, valid_labels = train_test_split(train_data, train_labels, test_size=0.2, random_state=1234)\n",
    "\n",
    "            train_input_batch, train_label_batch = generate_input(train_data, train_labels, aa_vectors, 15, 100, 24)\n",
    "            train_input_batch, train_label_batch = torch.Tensor(train_input_batch).to(torch.device(\"cuda\")), torch.LongTensor(train_label_batch).to(torch.device(\"cuda\"))\n",
    "\n",
    "            valid_input_batch, valid_label_batch = generate_input(valid_data, valid_labels, aa_vectors, 15, 100, 24)\n",
    "            valid_input_batch, valid_label_batch = torch.Tensor(valid_input_batch).to(torch.device(\"cuda\")), torch.LongTensor(valid_label_batch).to(torch.device(\"cuda\"))\n",
    "            test_input_batch, test_label_batch = generate_input(test_data, test_labels, aa_vectors, 15, 100, 24)\n",
    "            test_input_batch, test_label_batch = torch.Tensor(test_input_batch).to(torch.device(\"cuda\")), torch.LongTensor(test_label_batch).to(torch.device(\"cuda\"))\n",
    "\n",
    "            train_dataset = Data.TensorDataset(train_input_batch, train_label_batch)\n",
    "            valid_dataset = Data.TensorDataset(valid_input_batch, valid_label_batch)\n",
    "            test_dataset = Data.TensorDataset(test_input_batch, test_label_batch)\n",
    "\n",
    "            train_loader = Data.DataLoader(train_dataset, len(train_input_batch), True)\n",
    "            valid_loader = Data.DataLoader(valid_dataset, len(valid_input_batch), True)\n",
    "            test_loader = Data.DataLoader(test_dataset, len(test_input_batch), True)\n",
    "\n",
    "            model = init_model().to(device)\n",
    "            criterion = nn.CrossEntropyLoss()\n",
    "            optimizer = optim.Adam(model.parameters(), lr=0.0005)\n",
    "\n",
    "            train(fold, model, criterion, optimizer, train_loader, valid_loader, epoches=NUM_EPOCHES, device=device)\n",
    "            # 在测试集上进行最终评估\n",
    "            _, preds, labels = evaluate(model, criterion, test_loader, device=device)\n",
    "            all_preds += preds\n",
    "            all_labels += labels\n",
    "\n",
    "        all_preds = np.concatenate(all_preds, axis=0)\n",
    "        all_labels = np.concatenate(all_labels, axis=0)\n",
    "       \n",
    "\n",
    "        accuracy, sensitivity, specificity, auc = metrics(all_preds, all_labels)\n",
    "        print(f\"Mean Accuracy ({disease_name}): {accuracy:.4f}\")\n",
    "        print(f\"Mean Sensitivity ({disease_name}): {sensitivity:.4f}\")\n",
    "        print(f\"Mean Specificity ({disease_name}): {specificity:.4f}\")\n",
    "        print(f\"Mean AUC ({disease_name}): {auc:.4f}\")\n",
    "\n",
    "        results.append({\n",
    "            'disease': disease_name,\n",
    "            'accuracy': accuracy,\n",
    "            'sensitivity': sensitivity,\n",
    "            'specificity': specificity,\n",
    "            'auc': auc\n",
    "        })\n",
    "\n",
    "        results_ROC.append({\n",
    "            'disease': disease_name,\n",
    "            'auc': auc,\n",
    "            'all_preds': all_preds,\n",
    "            'all_labels': all_labels\n",
    "            \n",
    "        })\n",
    "        \n",
    "        all_probs = sigmoid(all_preds[:, 1] - all_preds[:, 0])\n",
    "        ################################\n",
    "        results_ROC_CI += [(disease_name, iteration, z[0], z[1]) for z in zip(all_probs, all_labels)]\n",
    "        ################################\n",
    "        \n",
    "        \n",
    "    # 在处理所有疾病后，将本次循环的结果保存到 TSV 文件中\n",
    "    results_filename = f\"results_{iteration+1}.tsv\"\n",
    "    results_ROC_filename = f\"results_ROC_{iteration+1}.tsv\"\n",
    "    results_filepath = os.path.join(results_dir, results_filename)\n",
    "    results_ROC_filepath = os.path.join(results_dir, results_ROC_filename)\n",
    "    \n",
    "    ################################  \n",
    "    # 定义CSV文件的名称和路径\n",
    "    csv_filename = f'CI{iteration}.csv'\n",
    "    csv_filepath = os.path.join(csv_results_dir, csv_filename)\n",
    "    # 保存 results_ROC_CI 到 CSV 文件\n",
    "    pd.DataFrame(results_ROC_CI, columns=['Disease', 'Iteration', 'Pred', 'Label']).to_csv(csv_filepath, index=False)\n",
    "    ################################\n",
    "    \n",
    "\n",
    "    # 保存 results 到 TSV\n",
    "    with open(results_filepath, 'w') as file:\n",
    "        for result in results:\n",
    "            line = \"\\t\".join([str(result[key]) for key in result])\n",
    "            file.write(line + \"\\n\")\n",
    "\n",
    "    # 保存 results_ROC 到 TSV\n",
    "    with open(results_ROC_filepath, 'w') as file:\n",
    "        for result in results_ROC:\n",
    "            line = \"\\t\".join([str(result[key]) if key != 'all_preds' and key != 'all_labels' else ','.join(map(str, result[key])) for key in result])\n",
    "            file.write(line + \"\\n\")\n",
    "    \n",
    "    # 将本次循环的性能指标值添加到列表中\n",
    "    all_accuracies.append([result['accuracy'] for result in results])\n",
    "    all_sensitivities.append([result['sensitivity'] for result in results])\n",
    "    all_specificities.append([result['specificity'] for result in results])\n",
    "    all_aucs.append([result['auc'] for result in results])\n"
   ]
  },
  {
   "cell_type": "code",
   "execution_count": 12,
   "id": "d1a5e131",
   "metadata": {},
   "outputs": [
    {
     "name": "stdout",
     "output_type": "stream",
     "text": [
      "Mean Accuracy (RA): 0.8623, Statistics: 0.0264\n",
      "Mean Sensitivity (RA): 0.7420, Statistics: 0.0630\n",
      "Mean Specificity (RA): 0.9219, Statistics: 0.0166\n",
      "Mean AUC (RA): 0.9316, Statistics: 0.0229\n",
      "Mean Accuracy (T1D): 0.9751, Statistics: 0.0127\n",
      "Mean Sensitivity (T1D): 0.9648, Statistics: 0.0220\n",
      "Mean Specificity (T1D): 0.9837, Statistics: 0.0077\n",
      "Mean AUC (T1D): 0.9968, Statistics: 0.0034\n",
      "Mean Accuracy (MS): 0.9821, Statistics: 0.0188\n",
      "Mean Sensitivity (MS): 0.9888, Statistics: 0.0118\n",
      "Mean Specificity (MS): 0.9729, Statistics: 0.0311\n",
      "Mean AUC (MS): 0.9982, Statistics: 0.0062\n",
      "Mean Accuracy (IAA): 0.9313, Statistics: 0.0163\n",
      "Mean Sensitivity (IAA): 0.7729, Statistics: 0.0611\n",
      "Mean Specificity (IAA): 0.9794, Statistics: 0.0092\n",
      "Mean AUC (IAA): 0.9750, Statistics: 0.0107\n"
     ]
    }
   ],
   "source": [
    "# 计算性能指标的均值和标准差\n",
    "mean_accuracy = np.mean(all_accuracies, axis=0)\n",
    "mean_sensitivity = np.mean(all_sensitivities, axis=0)\n",
    "mean_specificity = np.mean(all_specificities, axis=0)\n",
    "mean_auc = np.mean(all_aucs, axis=0)\n",
    "\n",
    "Statistics_accuracy = np.std(all_accuracies, axis=0)\n",
    "Statistics_sensitivity = np.std(all_sensitivities, axis=0)\n",
    "Statistics_specificity = np.std(all_specificities, axis=0)\n",
    "Statistics_auc = np.std(all_aucs, axis=0)\n",
    "\n",
    "# 打印均值和标准差\n",
    "for idx, disease_name in enumerate(disease_list):\n",
    "    print(f\"Mean Accuracy ({disease_name}): {mean_accuracy[idx]:.4f}, Statistics: {Statistics_accuracy[idx]:.4f}\")\n",
    "    print(f\"Mean Sensitivity ({disease_name}): {mean_sensitivity[idx]:.4f}, Statistics: {Statistics_sensitivity[idx]:.4f}\")\n",
    "    print(f\"Mean Specificity ({disease_name}): {mean_specificity[idx]:.4f}, Statistics: {Statistics_specificity[idx]:.4f}\")\n",
    "    print(f\"Mean AUC ({disease_name}): {mean_auc[idx]:.4f}, Statistics: {Statistics_auc[idx]:.4f}\")\n"
   ]
  },
  {
   "cell_type": "code",
   "execution_count": 37,
   "id": "8be537d7",
   "metadata": {},
   "outputs": [
    {
     "name": "stdout",
     "output_type": "stream",
     "text": [
      "         Accuracy  Sensitivity  Specificity       AUC\n",
      "Disease                                              \n",
      "RA       0.791925     0.444444     0.967290  0.914720\n",
      "T1D      0.965937     0.934010     0.995327  0.997509\n",
      "MS       0.994094     0.989796     1.000000  0.999889\n",
      "IAA      0.917563     0.676923     0.990654  0.976636\n"
     ]
    }
   ],
   "source": [
    "import pandas as pd\n",
    "\n",
    "# 读取文件\n",
    "results_filepath = '../AutoY-Results/AutoY_results_21.tsv'\n",
    "results_df = pd.read_csv(results_filepath, sep='\\t', header=None, names=['Disease', 'Accuracy', 'Sensitivity', 'Specificity', 'AUC'])\n",
    "\n",
    "# 将 'Disease' 列设置为索引\n",
    "results_df.set_index('Disease', inplace=True)\n",
    "\n",
    "# 打印结果\n",
    "print(results_df)\n"
   ]
  },
  {
   "cell_type": "code",
   "execution_count": 43,
   "id": "d96e8855",
   "metadata": {},
   "outputs": [
    {
     "data": {
      "image/png": "[encoded data removed]",
      "text/plain": [
       "<Figure size 1000x700 with 1 Axes>"
      ]
     },
     "metadata": {},
     "output_type": "display_data"
    }
   ],
   "source": [
    "import pandas as pd\n",
    "import numpy as np\n",
    "from sklearn.metrics import roc_curve, auc\n",
    "import matplotlib.pyplot as plt\n",
    "\n",
    "# 读取文件\n",
    "results_ROC_filepath = '../AutoY-Results/AutoY_results_ROC_21.tsv'\n",
    "df = pd.read_csv(results_ROC_filepath, sep='\\t', header=None, names=['Disease', 'AUC', 'Predicted', 'Actual'])\n",
    "\n",
    "# 准备绘制 ROC 曲线的数据\n",
    "roc_data = {}\n",
    "\n",
    "def parse_predicted_values(predicted_column):\n",
    "    predicted_pairs = [pred_pair.strip('[]').split() for pred_pair in predicted_column.split(',')]\n",
    "    return [float(value) for pair in predicted_pairs for value in pair if value]\n",
    "\n",
    "roc_data_fixed = {}\n",
    "\n",
    "for index, row in df.iterrows():\n",
    "    disease_name = row['Disease']\n",
    "    all_preds = parse_predicted_values(row['Predicted'])\n",
    "    all_preds_positive = all_preds[1::2]\n",
    "    all_labels = np.array([int(label) for label in row['Actual'].split(',')])\n",
    "\n",
    "    fpr, tpr, _ = roc_curve(all_labels, all_preds_positive)\n",
    "    roc_auc = auc(fpr, tpr)\n",
    "    roc_data_fixed[disease_name] = {'fpr': fpr, 'tpr': tpr, 'roc_auc': roc_auc}\n",
    "\n",
    "plt.figure(figsize=(10, 7))\n",
    "\n",
    "for disease_name, data in roc_data_fixed.items():\n",
    "    fpr, tpr, roc_auc = data['fpr'], data['tpr'], data['roc_auc']\n",
    "    plt.plot(fpr, tpr, label=f'{disease_name} (AUC = {roc_auc:.4f})')\n",
    "\n",
    "plt.plot([0, 1], [0, 1], 'k--', lw=2)\n",
    "plt.xlim([0.0, 1.0])\n",
    "plt.ylim([0.0, 1.05])\n",
    "plt.xlabel('Specificity')\n",
    "plt.ylabel('Sensitivity')\n",
    "#plt.title('ROC Curves')\n",
    "plt.legend(loc=\"lower right\")\n",
    "\n",
    "# 设置保存路径\n",
    "save_path = '../R_roc/AutoY_roc_curve.png'  # 请根据需要修改路径\n",
    "\n",
    "# 保存图表\n",
    "plt.savefig(save_path, format='png')\n",
    "\n",
    "# 展示图表\n",
    "plt.show()\n"
   ]
  },
  {
   "cell_type": "code",
   "execution_count": 40,
   "id": "1c16fac4",
   "metadata": {
    "scrolled": false
   },
   "outputs": [
    {
     "data": {
      "image/png": "[encoded data removed]",
      "text/plain": [
       "<Figure size 800x600 with 1 Axes>"
      ]
     },
     "metadata": {},
     "output_type": "display_data"
    },
    {
     "data": {
      "image/png": "[encoded data removed]",
      "text/plain": [
       "<Figure size 800x600 with 1 Axes>"
      ]
     },
     "metadata": {},
     "output_type": "display_data"
    },
    {
     "data": {
      "image/png": "[encoded data removed]",
      "text/plain": [
       "<Figure size 800x600 with 1 Axes>"
      ]
     },
     "metadata": {},
     "output_type": "display_data"
    },
    {
     "data": {
      "image/png": "[encoded data removed]",
      "text/plain": [
       "<Figure size 800x600 with 1 Axes>"
      ]
     },
     "metadata": {},
     "output_type": "display_data"
    }
   ],
   "source": [
    "import pandas as pd\n",
    "import numpy as np\n",
    "import matplotlib.pyplot as plt\n",
    "import seaborn as sns\n",
    "\n",
    "# 先读取用户提供的TSV文件，以获取数据\n",
    "file_path = '../AutoY-Results/AutoY_results_ROC_21.tsv'\n",
    "df_violin = pd.read_csv(file_path, sep='\\t', header=None, names=['Disease', 'AUC', 'Predicted', 'Actual'])\n",
    "\n",
    "# 使用之前ROC曲线中的数据处理方法来修正小提琴图的数据处理\n",
    "def parse_predicted_values(predicted_column):\n",
    "    predicted_pairs = [pred_pair.strip('[]').split() for pred_pair in predicted_column.split(',')]\n",
    "    return [float(value) for pair in predicted_pairs for value in pair if value]\n",
    "\n",
    "combined_data = pd.DataFrame(columns=['Disease', 'Predicted', 'Group'])\n",
    "\n",
    "def sigmoid(x):\n",
    "    return 1 / (1 + np.exp(-x))\n",
    "\n",
    "# 修改后的绘制小提琴图的函数\n",
    "def plot_violin(data, disease_name, save_path):\n",
    "    plt.figure(figsize=(8, 6))\n",
    "    sns.set(style=\"whitegrid\")\n",
    "    sns.violinplot(x=\"Group\", y=\"Predicted\", data=data, inner=\"box\", palette=\"Set3\", showfliers=True, boxprops=dict(alpha=0.5))\n",
    "    sns.stripplot(x=\"Group\", y=\"Predicted\", data=data, jitter=True, dodge=True, color='black', alpha=0.5)\n",
    "    \n",
    "    plt.axhline(y=0.5, color='red', linestyle='--')\n",
    "    plt.title(f\"Violin Plot for {disease_name}\")\n",
    "    plt.xlabel(\"Classifications \")\n",
    "    plt.ylabel(\"Predicted Values\")\n",
    "\n",
    "    # 保存图表\n",
    "    Eplt.savefig(save_path, format='png')\n",
    "\n",
    "    plt.show()    \n",
    "\n",
    "for index, row in df_violin.iterrows():\n",
    "    disease_name = row['Disease']\n",
    "    all_preds = parse_predicted_values(row['Predicted'])\n",
    "    all_preds_positive = sigmoid(np.array(all_preds[1::2]))\n",
    "    all_codes = np.array([int(label) for label in row['Actual'].split(',')])\n",
    "    all_labels = [disease_name if x == 1 else 'Healthy' for x in all_codes]\n",
    "\n",
    "    data = pd.DataFrame({'Disease': [disease_name] * len(all_preds_positive), 'Predicted': all_preds_positive, 'Group': all_labels})\n",
    "    data['Group'] = pd.Categorical(data['Group'], categories=['Healthy', disease_name], ordered=True)\n",
    "    combined_data = pd.concat([combined_data, data])\n",
    "\n",
    "    # 设置保存路径\n",
    "    save_path = f'../R_roc/AotuY_violin_plot_{disease_name}.png'  # 请根据需要修改路径\n",
    "\n",
    "    # 调用函数来绘制并保存小提琴图\n",
    "    plot_violin(data, disease_name, save_path)\n"
   ]
  },
  {
   "cell_type": "code",
   "execution_count": 26,
   "id": "b5c42f3d",
   "metadata": {},
   "outputs": [
    {
     "name": "stderr",
     "output_type": "stream",
     "text": [
      "C:\\Users\\solfi\\miniconda3\\lib\\site-packages\\IPython\\core\\pylabtools.py:152: UserWarning: Glyph 20551 (\\N{CJK UNIFIED IDEOGRAPH-5047}) missing from current font.\n",
      "  fig.canvas.print_figure(bytes_io, **kw)\n",
      "C:\\Users\\solfi\\miniconda3\\lib\\site-packages\\IPython\\core\\pylabtools.py:152: UserWarning: Glyph 38451 (\\N{CJK UNIFIED IDEOGRAPH-9633}) missing from current font.\n",
      "  fig.canvas.print_figure(bytes_io, **kw)\n",
      "C:\\Users\\solfi\\miniconda3\\lib\\site-packages\\IPython\\core\\pylabtools.py:152: UserWarning: Glyph 24615 (\\N{CJK UNIFIED IDEOGRAPH-6027}) missing from current font.\n",
      "  fig.canvas.print_figure(bytes_io, **kw)\n",
      "C:\\Users\\solfi\\miniconda3\\lib\\site-packages\\IPython\\core\\pylabtools.py:152: UserWarning: Glyph 29575 (\\N{CJK UNIFIED IDEOGRAPH-7387}) missing from current font.\n",
      "  fig.canvas.print_figure(bytes_io, **kw)\n",
      "C:\\Users\\solfi\\miniconda3\\lib\\site-packages\\IPython\\core\\pylabtools.py:152: UserWarning: Glyph 30495 (\\N{CJK UNIFIED IDEOGRAPH-771F}) missing from current font.\n",
      "  fig.canvas.print_figure(bytes_io, **kw)\n",
      "C:\\Users\\solfi\\miniconda3\\lib\\site-packages\\IPython\\core\\pylabtools.py:152: UserWarning: Glyph 24102 (\\N{CJK UNIFIED IDEOGRAPH-5E26}) missing from current font.\n",
      "  fig.canvas.print_figure(bytes_io, **kw)\n",
      "C:\\Users\\solfi\\miniconda3\\lib\\site-packages\\IPython\\core\\pylabtools.py:152: UserWarning: Glyph 32622 (\\N{CJK UNIFIED IDEOGRAPH-7F6E}) missing from current font.\n",
      "  fig.canvas.print_figure(bytes_io, **kw)\n",
      "C:\\Users\\solfi\\miniconda3\\lib\\site-packages\\IPython\\core\\pylabtools.py:152: UserWarning: Glyph 20449 (\\N{CJK UNIFIED IDEOGRAPH-4FE1}) missing from current font.\n",
      "  fig.canvas.print_figure(bytes_io, **kw)\n",
      "C:\\Users\\solfi\\miniconda3\\lib\\site-packages\\IPython\\core\\pylabtools.py:152: UserWarning: Glyph 21306 (\\N{CJK UNIFIED IDEOGRAPH-533A}) missing from current font.\n",
      "  fig.canvas.print_figure(bytes_io, **kw)\n",
      "C:\\Users\\solfi\\miniconda3\\lib\\site-packages\\IPython\\core\\pylabtools.py:152: UserWarning: Glyph 38388 (\\N{CJK UNIFIED IDEOGRAPH-95F4}) missing from current font.\n",
      "  fig.canvas.print_figure(bytes_io, **kw)\n",
      "C:\\Users\\solfi\\miniconda3\\lib\\site-packages\\IPython\\core\\pylabtools.py:152: UserWarning: Glyph 30340 (\\N{CJK UNIFIED IDEOGRAPH-7684}) missing from current font.\n",
      "  fig.canvas.print_figure(bytes_io, **kw)\n",
      "C:\\Users\\solfi\\miniconda3\\lib\\site-packages\\IPython\\core\\pylabtools.py:152: UserWarning: Glyph 26354 (\\N{CJK UNIFIED IDEOGRAPH-66F2}) missing from current font.\n",
      "  fig.canvas.print_figure(bytes_io, **kw)\n",
      "C:\\Users\\solfi\\miniconda3\\lib\\site-packages\\IPython\\core\\pylabtools.py:152: UserWarning: Glyph 32447 (\\N{CJK UNIFIED IDEOGRAPH-7EBF}) missing from current font.\n",
      "  fig.canvas.print_figure(bytes_io, **kw)\n",
      "C:\\Users\\solfi\\miniconda3\\lib\\site-packages\\IPython\\core\\pylabtools.py:152: UserWarning: Glyph 24179 (\\N{CJK UNIFIED IDEOGRAPH-5E73}) missing from current font.\n",
      "  fig.canvas.print_figure(bytes_io, **kw)\n",
      "C:\\Users\\solfi\\miniconda3\\lib\\site-packages\\IPython\\core\\pylabtools.py:152: UserWarning: Glyph 22343 (\\N{CJK UNIFIED IDEOGRAPH-5747}) missing from current font.\n",
      "  fig.canvas.print_figure(bytes_io, **kw)\n"
     ]
    },
    {
     "data": {
      "image/png": "[encoded data removed]",
      "text/plain": [
       "<Figure size 1000x800 with 1 Axes>"
      ]
     },
     "metadata": {},
     "output_type": "display_data"
    }
   ],
   "source": [
    "import pandas as pd\n",
    "import numpy as np\n",
    "from sklearn.metrics import roc_curve, auc\n",
    "import matplotlib.pyplot as plt\n",
    "\n",
    "def extract_data(filepath):\n",
    "    df = pd.read_csv(filepath, sep='\\t', header=None, names=['Disease', 'AUC', 'Predicted', 'Actual'])\n",
    "    preds = []\n",
    "    labels = []\n",
    "    for _, row in df.iterrows():\n",
    "        pred_values = [float(x.split()[1].strip('[]')) for x in row['Predicted'].split(',')]\n",
    "        preds.extend(pred_values)\n",
    "        label_values = [int(x) for x in row['Actual'].split(',')]\n",
    "        labels.extend(label_values)\n",
    "    return np.array(preds), np.array(labels)\n",
    "\n",
    "file_numbers = [1, 2, 3, 4, 5]\n",
    "filepaths = [f'../AutoY-Results/AutoY_results_ROC_{i}.tsv' for i in file_numbers]\n",
    "\n",
    "tprs = []\n",
    "aucs = []\n",
    "mean_fpr = np.linspace(0, 1, 100)\n",
    "\n",
    "for filepath in filepaths:\n",
    "    preds, labels = extract_data(filepath)\n",
    "    fpr, tpr, thresholds = roc_curve(labels, preds)\n",
    "    roc_auc = auc(fpr, tpr)\n",
    "    aucs.append(roc_auc)\n",
    "    \n",
    "    tpr_interp = np.interp(mean_fpr, fpr, tpr)\n",
    "    tpr_interp[0] = 0.0\n",
    "    tprs.append(tpr_interp)\n",
    "\n",
    "mean_tpr = np.mean(tprs, axis=0)\n",
    "mean_tpr[-1] = 1.0\n",
    "mean_auc = auc(mean_fpr, mean_tpr)\n",
    "std_auc = np.std(aucs)\n",
    "\n",
    "std_tpr = np.std(tprs, axis=0)\n",
    "tprs_upper = np.minimum(mean_tpr + std_tpr, 1)\n",
    "tprs_lower = np.maximum(mean_tpr - std_tpr, 0)\n",
    "\n",
    "plt.figure(figsize=(10, 8))\n",
    "plt.plot(mean_fpr, mean_tpr, color='blue', lw=2, label=f'平均 ROC (AUC = {mean_auc:.3f} ± {std_auc:.2f})')\n",
    "plt.fill_between(mean_fpr, tprs_lower, tprs_upper, color='grey', alpha=.2, label='95% CI')\n",
    "plt.plot([0, 1], [0, 1], 'k--', lw=2)\n",
    "plt.xlim([0.0, 1.0])\n",
    "plt.ylim([0.0, 1.05])\n",
    "plt.xlabel('假阳性率')\n",
    "plt.ylabel('真阳性率')\n",
    "plt.title('带置信区间的ROC曲线')\n",
    "plt.legend(loc=\"lower right\")\n",
    "plt.show()\n"
   ]
  },
  {
   "cell_type": "code",
   "execution_count": null,
   "id": "816a2cab",
   "metadata": {},
   "outputs": [],
   "source": []
  }
 ],
 "metadata": {
  "kernelspec": {
   "display_name": "Python 3 (ipykernel)",
   "language": "python",
   "name": "python3"
  },
  "language_info": {
   "codemirror_mode": {
    "name": "ipython",
    "version": 3
   },
   "file_extension": ".py",
   "mimetype": "text/x-python",
   "name": "python",
   "nbconvert_exporter": "python",
   "pygments_lexer": "ipython3",
   "version": "3.10.10"
  }
 },
 "nbformat": 4,
 "nbformat_minor": 5
}
