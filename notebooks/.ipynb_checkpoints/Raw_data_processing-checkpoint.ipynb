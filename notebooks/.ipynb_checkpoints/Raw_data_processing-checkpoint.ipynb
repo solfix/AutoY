{
 "cells": [
  {
   "cell_type": "code",
   "execution_count": 1,
   "id": "12ba1705",
   "metadata": {},
   "outputs": [
    {
     "name": "stdout",
     "output_type": "stream",
     "text": [
      "Saved processed documents: ../Data/RA/P_1.tsv\n"
     ]
    },
    {
     "name": "stderr",
     "output_type": "stream",
     "text": [
      "C:\\Users\\solfi\\AppData\\Local\\Temp\\ipykernel_26316\\877571156.py:48: DtypeWarning: Columns (81,82,83) have mixed types. Specify dtype option on import or set low_memory=False.\n",
      "  df = pd.read_table(f)\n"
     ]
    },
    {
     "name": "stdout",
     "output_type": "stream",
     "text": [
      "Saved processed documents: ../Data/RA/P_2.tsv\n"
     ]
    },
    {
     "name": "stderr",
     "output_type": "stream",
     "text": [
      "C:\\Users\\solfi\\AppData\\Local\\Temp\\ipykernel_26316\\877571156.py:48: DtypeWarning: Columns (81,82,83,88) have mixed types. Specify dtype option on import or set low_memory=False.\n",
      "  df = pd.read_table(f)\n"
     ]
    },
    {
     "name": "stdout",
     "output_type": "stream",
     "text": [
      "Saved processed documents: ../Data/RA/P_3.tsv\n"
     ]
    },
    {
     "name": "stderr",
     "output_type": "stream",
     "text": [
      "C:\\Users\\solfi\\AppData\\Local\\Temp\\ipykernel_26316\\877571156.py:48: DtypeWarning: Columns (81,82,83,88,93,99,100,101,104,105,112,115) have mixed types. Specify dtype option on import or set low_memory=False.\n",
      "  df = pd.read_table(f)\n"
     ]
    },
    {
     "name": "stdout",
     "output_type": "stream",
     "text": [
      "Saved processed documents: ../Data/RA/P_4.tsv\n"
     ]
    },
    {
     "name": "stderr",
     "output_type": "stream",
     "text": [
      "C:\\Users\\solfi\\AppData\\Local\\Temp\\ipykernel_26316\\877571156.py:48: DtypeWarning: Columns (81,82,83) have mixed types. Specify dtype option on import or set low_memory=False.\n",
      "  df = pd.read_table(f)\n"
     ]
    },
    {
     "name": "stdout",
     "output_type": "stream",
     "text": [
      "Saved processed documents: ../Data/RA/P_5.tsv\n",
      "Saved processed documents: ../Data/RA/P_6.tsv\n",
      "Saved processed documents: ../Data/RA/P_7.tsv\n"
     ]
    },
    {
     "name": "stderr",
     "output_type": "stream",
     "text": [
      "C:\\Users\\solfi\\AppData\\Local\\Temp\\ipykernel_26316\\877571156.py:48: DtypeWarning: Columns (81,82) have mixed types. Specify dtype option on import or set low_memory=False.\n",
      "  df = pd.read_table(f)\n"
     ]
    },
    {
     "name": "stdout",
     "output_type": "stream",
     "text": [
      "Saved processed documents: ../Data/RA/P_8.tsv\n"
     ]
    },
    {
     "name": "stderr",
     "output_type": "stream",
     "text": [
      "C:\\Users\\solfi\\AppData\\Local\\Temp\\ipykernel_26316\\877571156.py:48: DtypeWarning: Columns (81,82,83) have mixed types. Specify dtype option on import or set low_memory=False.\n",
      "  df = pd.read_table(f)\n"
     ]
    },
    {
     "name": "stdout",
     "output_type": "stream",
     "text": [
      "Saved processed documents: ../Data/RA/P_9.tsv\n"
     ]
    },
    {
     "name": "stderr",
     "output_type": "stream",
     "text": [
      "C:\\Users\\solfi\\AppData\\Local\\Temp\\ipykernel_26316\\877571156.py:48: DtypeWarning: Columns (83,88,93,99,100,101,104,105,112,115) have mixed types. Specify dtype option on import or set low_memory=False.\n",
      "  df = pd.read_table(f)\n"
     ]
    },
    {
     "name": "stdout",
     "output_type": "stream",
     "text": [
      "Saved processed documents: ../Data/RA/P_10.tsv\n",
      "Saved processed documents: ../Data/RA/P_11.tsv\n"
     ]
    },
    {
     "name": "stderr",
     "output_type": "stream",
     "text": [
      "C:\\Users\\solfi\\AppData\\Local\\Temp\\ipykernel_26316\\877571156.py:48: DtypeWarning: Columns (81,82,83,93,99,100,101,104,105,112,115) have mixed types. Specify dtype option on import or set low_memory=False.\n",
      "  df = pd.read_table(f)\n"
     ]
    },
    {
     "name": "stdout",
     "output_type": "stream",
     "text": [
      "Saved processed documents: ../Data/RA/P_12.tsv\n"
     ]
    },
    {
     "name": "stderr",
     "output_type": "stream",
     "text": [
      "C:\\Users\\solfi\\AppData\\Local\\Temp\\ipykernel_26316\\877571156.py:48: DtypeWarning: Columns (81,82) have mixed types. Specify dtype option on import or set low_memory=False.\n",
      "  df = pd.read_table(f)\n"
     ]
    },
    {
     "name": "stdout",
     "output_type": "stream",
     "text": [
      "Saved processed documents: ../Data/RA/P_13.tsv\n"
     ]
    },
    {
     "name": "stderr",
     "output_type": "stream",
     "text": [
      "C:\\Users\\solfi\\AppData\\Local\\Temp\\ipykernel_26316\\877571156.py:48: DtypeWarning: Columns (81,83,88,93,99,100,101,104,105,112,115) have mixed types. Specify dtype option on import or set low_memory=False.\n",
      "  df = pd.read_table(f)\n"
     ]
    },
    {
     "name": "stdout",
     "output_type": "stream",
     "text": [
      "Saved processed documents: ../Data/RA/P_14.tsv\n"
     ]
    },
    {
     "name": "stderr",
     "output_type": "stream",
     "text": [
      "C:\\Users\\solfi\\AppData\\Local\\Temp\\ipykernel_26316\\877571156.py:48: DtypeWarning: Columns (83) have mixed types. Specify dtype option on import or set low_memory=False.\n",
      "  df = pd.read_table(f)\n"
     ]
    },
    {
     "name": "stdout",
     "output_type": "stream",
     "text": [
      "Saved processed documents: ../Data/RA/P_15.tsv\n",
      "Saved processed documents: ../Data/RA/P_16.tsv\n"
     ]
    },
    {
     "name": "stderr",
     "output_type": "stream",
     "text": [
      "C:\\Users\\solfi\\AppData\\Local\\Temp\\ipykernel_26316\\877571156.py:48: DtypeWarning: Columns (81,82) have mixed types. Specify dtype option on import or set low_memory=False.\n",
      "  df = pd.read_table(f)\n"
     ]
    },
    {
     "name": "stdout",
     "output_type": "stream",
     "text": [
      "Saved processed documents: ../Data/RA/P_17.tsv\n"
     ]
    },
    {
     "name": "stderr",
     "output_type": "stream",
     "text": [
      "C:\\Users\\solfi\\AppData\\Local\\Temp\\ipykernel_26316\\877571156.py:48: DtypeWarning: Columns (81,82,83,93,99,100,101,104,105,112,115) have mixed types. Specify dtype option on import or set low_memory=False.\n",
      "  df = pd.read_table(f)\n"
     ]
    },
    {
     "name": "stdout",
     "output_type": "stream",
     "text": [
      "Saved processed documents: ../Data/RA/P_18.tsv\n"
     ]
    },
    {
     "name": "stderr",
     "output_type": "stream",
     "text": [
      "C:\\Users\\solfi\\AppData\\Local\\Temp\\ipykernel_26316\\877571156.py:48: DtypeWarning: Columns (83,93) have mixed types. Specify dtype option on import or set low_memory=False.\n",
      "  df = pd.read_table(f)\n"
     ]
    },
    {
     "name": "stdout",
     "output_type": "stream",
     "text": [
      "Saved processed documents: ../Data/RA/P_19.tsv\n"
     ]
    },
    {
     "name": "stderr",
     "output_type": "stream",
     "text": [
      "C:\\Users\\solfi\\AppData\\Local\\Temp\\ipykernel_26316\\877571156.py:48: DtypeWarning: Columns (83,93) have mixed types. Specify dtype option on import or set low_memory=False.\n",
      "  df = pd.read_table(f)\n"
     ]
    },
    {
     "name": "stdout",
     "output_type": "stream",
     "text": [
      "Saved processed documents: ../Data/RA/P_20.tsv\n",
      "Saved processed documents: ../Data/RA/P_21.tsv\n",
      "Saved processed documents: ../Data/RA/P_22.tsv\n",
      "Saved processed documents: ../Data/RA/P_23.tsv\n",
      "Saved processed documents: ../Data/RA/P_24.tsv\n"
     ]
    },
    {
     "name": "stderr",
     "output_type": "stream",
     "text": [
      "C:\\Users\\solfi\\AppData\\Local\\Temp\\ipykernel_26316\\877571156.py:48: DtypeWarning: Columns (88) have mixed types. Specify dtype option on import or set low_memory=False.\n",
      "  df = pd.read_table(f)\n"
     ]
    },
    {
     "name": "stdout",
     "output_type": "stream",
     "text": [
      "Saved processed documents: ../Data/RA/P_25.tsv\n",
      "Saved processed documents: ../Data/RA/P_26.tsv\n"
     ]
    },
    {
     "name": "stderr",
     "output_type": "stream",
     "text": [
      "C:\\Users\\solfi\\AppData\\Local\\Temp\\ipykernel_26316\\877571156.py:48: DtypeWarning: Columns (83) have mixed types. Specify dtype option on import or set low_memory=False.\n",
      "  df = pd.read_table(f)\n"
     ]
    },
    {
     "name": "stdout",
     "output_type": "stream",
     "text": [
      "Saved processed documents: ../Data/RA/P_27.tsv\n",
      "Saved processed documents: ../Data/RA/P_28.tsv\n",
      "Saved processed documents: ../Data/RA/P_29.tsv\n",
      "Saved processed documents: ../Data/RA/P_30.tsv\n",
      "Saved processed documents: ../Data/RA/P_31.tsv\n",
      "Saved processed documents: ../Data/RA/P_32.tsv\n",
      "Saved processed documents: ../Data/RA/P_33.tsv\n",
      "Saved processed documents: ../Data/RA/P_34.tsv\n",
      "Saved processed documents: ../Data/RA/P_35.tsv\n"
     ]
    },
    {
     "name": "stderr",
     "output_type": "stream",
     "text": [
      "C:\\Users\\solfi\\AppData\\Local\\Temp\\ipykernel_26316\\877571156.py:48: DtypeWarning: Columns (81,83,88,93,99,100,101,104,105,112,115) have mixed types. Specify dtype option on import or set low_memory=False.\n",
      "  df = pd.read_table(f)\n"
     ]
    },
    {
     "name": "stdout",
     "output_type": "stream",
     "text": [
      "Saved processed documents: ../Data/RA/P_36.tsv\n"
     ]
    },
    {
     "name": "stderr",
     "output_type": "stream",
     "text": [
      "C:\\Users\\solfi\\AppData\\Local\\Temp\\ipykernel_26316\\877571156.py:48: DtypeWarning: Columns (81,82) have mixed types. Specify dtype option on import or set low_memory=False.\n",
      "  df = pd.read_table(f)\n"
     ]
    },
    {
     "name": "stdout",
     "output_type": "stream",
     "text": [
      "Saved processed documents: ../Data/RA/P_37.tsv\n"
     ]
    },
    {
     "name": "stderr",
     "output_type": "stream",
     "text": [
      "C:\\Users\\solfi\\AppData\\Local\\Temp\\ipykernel_26316\\877571156.py:48: DtypeWarning: Columns (83) have mixed types. Specify dtype option on import or set low_memory=False.\n",
      "  df = pd.read_table(f)\n"
     ]
    },
    {
     "name": "stdout",
     "output_type": "stream",
     "text": [
      "Saved processed documents: ../Data/RA/P_38.tsv\n"
     ]
    },
    {
     "name": "stderr",
     "output_type": "stream",
     "text": [
      "C:\\Users\\solfi\\AppData\\Local\\Temp\\ipykernel_26316\\877571156.py:48: DtypeWarning: Columns (81,82,83) have mixed types. Specify dtype option on import or set low_memory=False.\n",
      "  df = pd.read_table(f)\n"
     ]
    },
    {
     "name": "stdout",
     "output_type": "stream",
     "text": [
      "Saved processed documents: ../Data/RA/P_39.tsv\n",
      "Saved processed documents: ../Data/RA/P_40.tsv\n",
      "Saved processed documents: ../Data/RA/P_41.tsv\n",
      "Saved processed documents: ../Data/RA/P_42.tsv\n"
     ]
    },
    {
     "name": "stderr",
     "output_type": "stream",
     "text": [
      "C:\\Users\\solfi\\AppData\\Local\\Temp\\ipykernel_26316\\877571156.py:48: DtypeWarning: Columns (81,83,88,93) have mixed types. Specify dtype option on import or set low_memory=False.\n",
      "  df = pd.read_table(f)\n"
     ]
    },
    {
     "name": "stdout",
     "output_type": "stream",
     "text": [
      "Saved processed documents: ../Data/RA/P_43.tsv\n"
     ]
    },
    {
     "name": "stderr",
     "output_type": "stream",
     "text": [
      "C:\\Users\\solfi\\AppData\\Local\\Temp\\ipykernel_26316\\877571156.py:48: DtypeWarning: Columns (81,82,83) have mixed types. Specify dtype option on import or set low_memory=False.\n",
      "  df = pd.read_table(f)\n"
     ]
    },
    {
     "name": "stdout",
     "output_type": "stream",
     "text": [
      "Saved processed documents: ../Data/RA/P_44.tsv\n",
      "Saved processed documents: ../Data/RA/P_45.tsv\n",
      "Saved processed documents: ../Data/RA/P_46.tsv\n"
     ]
    },
    {
     "name": "stderr",
     "output_type": "stream",
     "text": [
      "C:\\Users\\solfi\\AppData\\Local\\Temp\\ipykernel_26316\\877571156.py:48: DtypeWarning: Columns (81,82,88) have mixed types. Specify dtype option on import or set low_memory=False.\n",
      "  df = pd.read_table(f)\n"
     ]
    },
    {
     "name": "stdout",
     "output_type": "stream",
     "text": [
      "Saved processed documents: ../Data/RA/P_47.tsv\n",
      "Saved processed documents: ../Data/RA/P_48.tsv\n",
      "Saved processed documents: ../Data/RA/P_49.tsv\n",
      "Saved processed documents: ../Data/RA/P_50.tsv\n"
     ]
    },
    {
     "name": "stderr",
     "output_type": "stream",
     "text": [
      "C:\\Users\\solfi\\AppData\\Local\\Temp\\ipykernel_26316\\877571156.py:48: DtypeWarning: Columns (62,83,88,93,99,100,101,104,105,112,115) have mixed types. Specify dtype option on import or set low_memory=False.\n",
      "  df = pd.read_table(f)\n"
     ]
    },
    {
     "name": "stdout",
     "output_type": "stream",
     "text": [
      "Saved processed documents: ../Data/RA/P_51.tsv\n",
      "Saved processed documents: ../Data/RA/P_52.tsv\n",
      "Saved processed documents: ../Data/RA/P_53.tsv\n"
     ]
    },
    {
     "name": "stderr",
     "output_type": "stream",
     "text": [
      "C:\\Users\\solfi\\AppData\\Local\\Temp\\ipykernel_26316\\877571156.py:48: DtypeWarning: Columns (88) have mixed types. Specify dtype option on import or set low_memory=False.\n",
      "  df = pd.read_table(f)\n"
     ]
    },
    {
     "name": "stdout",
     "output_type": "stream",
     "text": [
      "Saved processed documents: ../Data/RA/P_54.tsv\n"
     ]
    },
    {
     "name": "stderr",
     "output_type": "stream",
     "text": [
      "C:\\Users\\solfi\\AppData\\Local\\Temp\\ipykernel_26316\\877571156.py:48: DtypeWarning: Columns (81,82) have mixed types. Specify dtype option on import or set low_memory=False.\n",
      "  df = pd.read_table(f)\n"
     ]
    },
    {
     "name": "stdout",
     "output_type": "stream",
     "text": [
      "Saved processed documents: ../Data/RA/P_55.tsv\n",
      "Saved processed documents: ../Data/RA/P_56.tsv\n"
     ]
    },
    {
     "name": "stderr",
     "output_type": "stream",
     "text": [
      "C:\\Users\\solfi\\AppData\\Local\\Temp\\ipykernel_26316\\877571156.py:48: DtypeWarning: Columns (83,88,93) have mixed types. Specify dtype option on import or set low_memory=False.\n",
      "  df = pd.read_table(f)\n"
     ]
    },
    {
     "name": "stdout",
     "output_type": "stream",
     "text": [
      "Saved processed documents: ../Data/RA/P_57.tsv\n"
     ]
    },
    {
     "name": "stderr",
     "output_type": "stream",
     "text": [
      "C:\\Users\\solfi\\AppData\\Local\\Temp\\ipykernel_26316\\877571156.py:48: DtypeWarning: Columns (81,82) have mixed types. Specify dtype option on import or set low_memory=False.\n",
      "  df = pd.read_table(f)\n"
     ]
    },
    {
     "name": "stdout",
     "output_type": "stream",
     "text": [
      "Saved processed documents: ../Data/RA/P_58.tsv\n"
     ]
    },
    {
     "name": "stderr",
     "output_type": "stream",
     "text": [
      "C:\\Users\\solfi\\AppData\\Local\\Temp\\ipykernel_26316\\877571156.py:48: DtypeWarning: Columns (81) have mixed types. Specify dtype option on import or set low_memory=False.\n",
      "  df = pd.read_table(f)\n"
     ]
    },
    {
     "name": "stdout",
     "output_type": "stream",
     "text": [
      "Saved processed documents: ../Data/RA/P_59.tsv\n"
     ]
    },
    {
     "name": "stderr",
     "output_type": "stream",
     "text": [
      "C:\\Users\\solfi\\AppData\\Local\\Temp\\ipykernel_26316\\877571156.py:48: DtypeWarning: Columns (81,82,88) have mixed types. Specify dtype option on import or set low_memory=False.\n",
      "  df = pd.read_table(f)\n"
     ]
    },
    {
     "name": "stdout",
     "output_type": "stream",
     "text": [
      "Saved processed documents: ../Data/RA/P_60.tsv\n"
     ]
    },
    {
     "name": "stderr",
     "output_type": "stream",
     "text": [
      "C:\\Users\\solfi\\AppData\\Local\\Temp\\ipykernel_26316\\877571156.py:48: DtypeWarning: Columns (81,82,83) have mixed types. Specify dtype option on import or set low_memory=False.\n",
      "  df = pd.read_table(f)\n"
     ]
    },
    {
     "name": "stdout",
     "output_type": "stream",
     "text": [
      "Saved processed documents: ../Data/RA/P_61.tsv\n",
      "Saved processed documents: ../Data/RA/P_62.tsv\n",
      "Saved processed documents: ../Data/RA/P_63.tsv\n"
     ]
    },
    {
     "name": "stderr",
     "output_type": "stream",
     "text": [
      "C:\\Users\\solfi\\AppData\\Local\\Temp\\ipykernel_26316\\877571156.py:48: DtypeWarning: Columns (83,93,99,100,101,104,105,112,115) have mixed types. Specify dtype option on import or set low_memory=False.\n",
      "  df = pd.read_table(f)\n"
     ]
    },
    {
     "name": "stdout",
     "output_type": "stream",
     "text": [
      "Saved processed documents: ../Data/RA/P_64.tsv\n",
      "Saved processed documents: ../Data/RA/P_65.tsv\n"
     ]
    },
    {
     "name": "stderr",
     "output_type": "stream",
     "text": [
      "C:\\Users\\solfi\\AppData\\Local\\Temp\\ipykernel_26316\\877571156.py:48: DtypeWarning: Columns (81,82,88) have mixed types. Specify dtype option on import or set low_memory=False.\n",
      "  df = pd.read_table(f)\n"
     ]
    },
    {
     "name": "stdout",
     "output_type": "stream",
     "text": [
      "Saved processed documents: ../Data/RA/P_66.tsv\n"
     ]
    },
    {
     "name": "stderr",
     "output_type": "stream",
     "text": [
      "C:\\Users\\solfi\\AppData\\Local\\Temp\\ipykernel_26316\\877571156.py:48: DtypeWarning: Columns (81,82,83) have mixed types. Specify dtype option on import or set low_memory=False.\n",
      "  df = pd.read_table(f)\n"
     ]
    },
    {
     "name": "stdout",
     "output_type": "stream",
     "text": [
      "Saved processed documents: ../Data/RA/P_67.tsv\n"
     ]
    },
    {
     "name": "stderr",
     "output_type": "stream",
     "text": [
      "C:\\Users\\solfi\\AppData\\Local\\Temp\\ipykernel_26316\\877571156.py:48: DtypeWarning: Columns (81,82,83,88,93,99,100,101,104,105,112,115) have mixed types. Specify dtype option on import or set low_memory=False.\n",
      "  df = pd.read_table(f)\n"
     ]
    },
    {
     "name": "stdout",
     "output_type": "stream",
     "text": [
      "Saved processed documents: ../Data/RA/P_68.tsv\n"
     ]
    },
    {
     "name": "stderr",
     "output_type": "stream",
     "text": [
      "C:\\Users\\solfi\\AppData\\Local\\Temp\\ipykernel_26316\\877571156.py:48: DtypeWarning: Columns (83,88,93,99,100,101,104,105,112,115) have mixed types. Specify dtype option on import or set low_memory=False.\n",
      "  df = pd.read_table(f)\n"
     ]
    },
    {
     "name": "stdout",
     "output_type": "stream",
     "text": [
      "Saved processed documents: ../Data/RA/P_69.tsv\n"
     ]
    },
    {
     "name": "stderr",
     "output_type": "stream",
     "text": [
      "C:\\Users\\solfi\\AppData\\Local\\Temp\\ipykernel_26316\\877571156.py:48: DtypeWarning: Columns (81,82,83) have mixed types. Specify dtype option on import or set low_memory=False.\n",
      "  df = pd.read_table(f)\n"
     ]
    },
    {
     "name": "stdout",
     "output_type": "stream",
     "text": [
      "Saved processed documents: ../Data/RA/P_70.tsv\n"
     ]
    },
    {
     "name": "stderr",
     "output_type": "stream",
     "text": [
      "C:\\Users\\solfi\\AppData\\Local\\Temp\\ipykernel_26316\\877571156.py:48: DtypeWarning: Columns (81,82,83) have mixed types. Specify dtype option on import or set low_memory=False.\n",
      "  df = pd.read_table(f)\n"
     ]
    },
    {
     "name": "stdout",
     "output_type": "stream",
     "text": [
      "Saved processed documents: ../Data/RA/P_71.tsv\n"
     ]
    },
    {
     "name": "stderr",
     "output_type": "stream",
     "text": [
      "C:\\Users\\solfi\\AppData\\Local\\Temp\\ipykernel_26316\\877571156.py:48: DtypeWarning: Columns (81,82,83,88,93,99,100,101,104,105,112,115) have mixed types. Specify dtype option on import or set low_memory=False.\n",
      "  df = pd.read_table(f)\n"
     ]
    },
    {
     "name": "stdout",
     "output_type": "stream",
     "text": [
      "Saved processed documents: ../Data/RA/P_72.tsv\n"
     ]
    },
    {
     "name": "stderr",
     "output_type": "stream",
     "text": [
      "C:\\Users\\solfi\\AppData\\Local\\Temp\\ipykernel_26316\\877571156.py:48: DtypeWarning: Columns (81,82,83) have mixed types. Specify dtype option on import or set low_memory=False.\n",
      "  df = pd.read_table(f)\n"
     ]
    },
    {
     "name": "stdout",
     "output_type": "stream",
     "text": [
      "Saved processed documents: ../Data/RA/P_73.tsv\n",
      "Saved processed documents: ../Data/RA/P_74.tsv\n",
      "Saved processed documents: ../Data/RA/P_75.tsv\n",
      "Saved processed documents: ../Data/RA/P_76.tsv\n",
      "Saved processed documents: ../Data/RA/P_77.tsv\n",
      "Saved processed documents: ../Data/RA/P_78.tsv\n"
     ]
    },
    {
     "name": "stderr",
     "output_type": "stream",
     "text": [
      "C:\\Users\\solfi\\AppData\\Local\\Temp\\ipykernel_26316\\877571156.py:48: DtypeWarning: Columns (81,82,83,93,99,100,101,104,105,112,115) have mixed types. Specify dtype option on import or set low_memory=False.\n",
      "  df = pd.read_table(f)\n"
     ]
    },
    {
     "name": "stdout",
     "output_type": "stream",
     "text": [
      "Saved processed documents: ../Data/RA/P_79.tsv\n"
     ]
    },
    {
     "name": "stderr",
     "output_type": "stream",
     "text": [
      "C:\\Users\\solfi\\AppData\\Local\\Temp\\ipykernel_26316\\877571156.py:48: DtypeWarning: Columns (83,93) have mixed types. Specify dtype option on import or set low_memory=False.\n",
      "  df = pd.read_table(f)\n"
     ]
    },
    {
     "name": "stdout",
     "output_type": "stream",
     "text": [
      "Saved processed documents: ../Data/RA/P_80.tsv\n"
     ]
    },
    {
     "name": "stderr",
     "output_type": "stream",
     "text": [
      "C:\\Users\\solfi\\AppData\\Local\\Temp\\ipykernel_26316\\877571156.py:48: DtypeWarning: Columns (81,82) have mixed types. Specify dtype option on import or set low_memory=False.\n",
      "  df = pd.read_table(f)\n"
     ]
    },
    {
     "name": "stdout",
     "output_type": "stream",
     "text": [
      "Saved processed documents: ../Data/RA/P_81.tsv\n",
      "Saved processed documents: ../Data/RA/P_82.tsv\n",
      "Saved processed documents: ../Data/RA/P_83.tsv\n",
      "Saved processed documents: ../Data/RA/P_84.tsv\n"
     ]
    },
    {
     "name": "stderr",
     "output_type": "stream",
     "text": [
      "C:\\Users\\solfi\\AppData\\Local\\Temp\\ipykernel_26316\\877571156.py:48: DtypeWarning: Columns (81) have mixed types. Specify dtype option on import or set low_memory=False.\n",
      "  df = pd.read_table(f)\n"
     ]
    },
    {
     "name": "stdout",
     "output_type": "stream",
     "text": [
      "Saved processed documents: ../Data/RA/P_85.tsv\n",
      "Saved processed documents: ../Data/RA/P_86.tsv\n"
     ]
    },
    {
     "name": "stderr",
     "output_type": "stream",
     "text": [
      "C:\\Users\\solfi\\AppData\\Local\\Temp\\ipykernel_26316\\877571156.py:48: DtypeWarning: Columns (81,82,83,88) have mixed types. Specify dtype option on import or set low_memory=False.\n",
      "  df = pd.read_table(f)\n"
     ]
    },
    {
     "name": "stdout",
     "output_type": "stream",
     "text": [
      "Saved processed documents: ../Data/RA/P_87.tsv\n"
     ]
    },
    {
     "name": "stderr",
     "output_type": "stream",
     "text": [
      "C:\\Users\\solfi\\AppData\\Local\\Temp\\ipykernel_26316\\877571156.py:48: DtypeWarning: Columns (81,82,83,88) have mixed types. Specify dtype option on import or set low_memory=False.\n",
      "  df = pd.read_table(f)\n"
     ]
    },
    {
     "name": "stdout",
     "output_type": "stream",
     "text": [
      "Saved processed documents: ../Data/RA/P_88.tsv\n",
      "Saved processed documents: ../Data/RA/P_89.tsv\n",
      "Saved processed documents: ../Data/RA/P_90.tsv\n"
     ]
    },
    {
     "name": "stderr",
     "output_type": "stream",
     "text": [
      "C:\\Users\\solfi\\AppData\\Local\\Temp\\ipykernel_26316\\877571156.py:48: DtypeWarning: Columns (81,82,83,93,99,100,101,104,105,112,115) have mixed types. Specify dtype option on import or set low_memory=False.\n",
      "  df = pd.read_table(f)\n"
     ]
    },
    {
     "name": "stdout",
     "output_type": "stream",
     "text": [
      "Saved processed documents: ../Data/RA/P_91.tsv\n",
      "Saved processed documents: ../Data/RA/P_92.tsv\n",
      "Saved processed documents: ../Data/RA/P_93.tsv\n",
      "Saved processed documents: ../Data/RA/P_94.tsv\n"
     ]
    }
   ],
   "source": [
    "import pandas as pd\n",
    "from glob import glob\n",
    "import os\n",
    "from typing import List\n",
    "\n",
    "# Read file\n",
    "def read_tsv(filename: str, columns_to_extract: List[int], skip_first_line: bool = False, file_encoding: str = \"utf8\") -> List[List[str]]:\n",
    "    extracted_data = []\n",
    "\n",
    "    try:\n",
    "        with open(filename, \"r\", encoding=file_encoding) as tsv_file:\n",
    "            if skip_first_line:\n",
    "                tsv_file.readline()\n",
    "\n",
    "            line = tsv_file.readline()\n",
    "\n",
    "            while line:\n",
    "                line_list = line.strip().split(\"\\t\")\n",
    "                extracted_row = [line_list[column_index] for column_index in columns_to_extract]\n",
    "                extracted_data.append(extracted_row)\n",
    "                line = tsv_file.readline()\n",
    "\n",
    "    except FileNotFoundError:\n",
    "        print(f\"file '{filename}' non-existent.\")\n",
    "\n",
    "    return extracted_data\n",
    "\n",
    "# Processing data\n",
    "def filter_sequence(raw):\n",
    "    aa_set = set([\"A\", \"R\", \"N\", \"D\", \"C\", \"E\", \"Q\", \"G\", \"H\", \"I\", \"L\", \"K\", \"M\", \"F\", \"P\", \"S\", \"T\", \"W\", \"Y\", \"V\"])\n",
    "\n",
    "    result = [seq for seq in raw if (\n",
    "        10 <= len(seq[0]) <= 24 and\n",
    "        all(aa in aa_set for aa in seq[0]) and\n",
    "        seq[0][0].upper() == \"C\" and\n",
    "        seq[0][-1].upper() == \"F\"\n",
    "    )]\n",
    "\n",
    "    return result\n",
    "\n",
    "source_dir = \"../1/\"\n",
    "output =  \"../Data/RA/\"\n",
    "if not os.path.exists(output):\n",
    "    os.makedirs(output)\n",
    "\n",
    "file_list = glob(source_dir + \"*.tsv\")\n",
    "for i, f in enumerate(file_list):\n",
    "    df = pd.read_table(f)\n",
    "    df = df[['amino_acid', 'frequency']]\n",
    "    df.columns = [\"TCR\", \"Abundance\"]\n",
    "    df = df.dropna()\n",
    "    df = df.sort_values(by=\"Abundance\", ascending=False).iloc[:, :]\n",
    "    df.reset_index(inplace=True, drop=True)\n",
    "    info_index = [0, 1]\n",
    "    raw_file = df.values.tolist()\n",
    "    processed_file = filter_sequence(raw_file)\n",
    "    output_file = sorted(processed_file, key=lambda x: float(x[1]), reverse=True)[:100]\n",
    "    output_file_path = os.path.join(output, f\"P_{i+1}.tsv\")\n",
    "    with open(output_file_path, \"w\", encoding=\"utf8\") as output_f:\n",
    "        output_f.write(\"TCR\\tAbundance\\n\")\n",
    "        for tcr in output_file:\n",
    "            output_f.write(\"{0}\\t{1}\\n\".format(tcr[0], tcr[1]))\n",
    "    print(\"Saved processed documents: \" + output_file_path)\n"
   ]
  },
  {
   "cell_type": "code",
   "execution_count": null,
   "id": "e0c0700d",
   "metadata": {},
   "outputs": [],
   "source": []
  }
 ],
 "metadata": {
  "kernelspec": {
   "display_name": "Python 3 (ipykernel)",
   "language": "python",
   "name": "python3"
  },
  "language_info": {
   "codemirror_mode": {
    "name": "ipython",
    "version": 3
   },
   "file_extension": ".py",
   "mimetype": "text/x-python",
   "name": "python",
   "nbconvert_exporter": "python",
   "pygments_lexer": "ipython3",
   "version": "3.10.9"
  }
 },
 "nbformat": 4,
 "nbformat_minor": 5
}
