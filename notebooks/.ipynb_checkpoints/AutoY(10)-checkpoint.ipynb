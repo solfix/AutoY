{
 "cells": [
  {
   "cell_type": "code",
   "execution_count": 1,
   "id": "bc111099",
   "metadata": {},
   "outputs": [],
   "source": [
    "import os\n",
    "import sys\n",
    "import torch\n",
    "import torch.nn as nn\n",
    "import torch.nn.functional as F\n",
    "import torch.optim as optim\n",
    "import torch.utils.data as Data\n",
    "import numpy as np\n",
    "import pandas as pd\n",
    "import time\n",
    "from sklearn.model_selection import KFold\n",
    "import matplotlib.pyplot as plt\n",
    "import seaborn as sns\n",
    "from sparsemax import Sparsemax\n",
    "from sklearn.metrics import accuracy_score, confusion_matrix, roc_auc_score, roc_curve, auc, recall_score\n",
    "from sklearn.model_selection import train_test_split\n",
    "from torch.utils.data import DataLoader, TensorDataset\n",
    "\n",
    "# 读取TSV文件并提取指定的信息列\n",
    "def read_tsv(filename, inf_ind, skip_1st=False, file_encoding=\"utf8\"):\n",
    "    extract_inf = []\n",
    "    with open(filename, \"r\", encoding=file_encoding) as tsv_f:\n",
    "        if skip_1st:\n",
    "            tsv_f.readline()\n",
    "        line = tsv_f.readline()\n",
    "        while line:\n",
    "            line_list = line.strip().split(\"\\t\")\n",
    "            temp_inf = []\n",
    "            for ind in inf_ind:\n",
    "                temp_inf.append(line_list[ind])\n",
    "            extract_inf.append(temp_inf)\n",
    "            line = tsv_f.readline()\n",
    "    return extract_inf\n",
    "\n",
    "# 读取氨基酸特征文件并生成特征字典\n",
    "def get_features(filename, f_num=15):\n",
    "    f_list = read_tsv(filename, list(range(16)), True)\n",
    "    f_dict = {}\n",
    "    left_num = 0\n",
    "    right_num = 0\n",
    "    if f_num > 15:\n",
    "        left_num = (f_num - 15) // 2\n",
    "        right_num = f_num - 15 - left_num\n",
    "    for f in f_list:\n",
    "        f_dict[f[0]] = [0] * left_num\n",
    "        f_dict[f[0]] += [float(x) for x in f[1:]]\n",
    "        f_dict[f[0]] += [0] * right_num\n",
    "    f_dict[\"X\"] = [0] * f_num\n",
    "    return f_dict\n",
    "\n",
    "# 定义模型类\n",
    "class AotoY(nn.Module):\n",
    "    def __init__(self, ins_num, drop_out, n=[12, 12, 12, 6], k=[2, 3, 4, 5]):\n",
    "        super(AotoY, self).__init__()\n",
    "\n",
    "        self.ins_num = ins_num\n",
    "        self.conv1 = nn.Sequential(\n",
    "            nn.Conv1d(in_channels=15, out_channels=n[0], kernel_size=k[0], stride=1, padding=0),\n",
    "            nn.BatchNorm1d(n[0]),\n",
    "            nn.ReLU(),\n",
    "            nn.Conv1d(in_channels=n[0], out_channels=n[0], kernel_size=k[0], stride=1, padding=0),\n",
    "            nn.BatchNorm1d(n[0]),\n",
    "            nn.ReLU(),\n",
    "            nn.AdaptiveMaxPool1d(1)\n",
    "        )\n",
    "        \n",
    "        \n",
    "        \n",
    "        self.conv2 = nn.Sequential(\n",
    "            nn.Conv1d(in_channels=15, out_channels=n[1], kernel_size=k[1], stride=1, padding=0),\n",
    "            nn.BatchNorm1d(n[1]),\n",
    "            nn.ReLU(),\n",
    "            nn.Conv1d(in_channels=n[1], out_channels=n[1], kernel_size=k[1], stride=1, padding=0),\n",
    "            nn.BatchNorm1d(n[1]),\n",
    "            nn.ReLU(),\n",
    "            nn.AdaptiveMaxPool1d(1)\n",
    "        )\n",
    "        \n",
    "        \n",
    "        \n",
    "        self.conv3 = nn.Sequential(\n",
    "            nn.Conv1d(in_channels=15, out_channels=n[2], kernel_size=k[2], stride=1, padding=0),\n",
    "            nn.BatchNorm1d(n[2]),\n",
    "            nn.ReLU(),\n",
    "            nn.Conv1d(in_channels=n[2], out_channels=n[2], kernel_size=k[2], stride=1, padding=0),\n",
    "            nn.BatchNorm1d(n[2]),\n",
    "            nn.ReLU(),\n",
    "            nn.AdaptiveMaxPool1d(1)\n",
    "        )\n",
    "        \n",
    "        \n",
    "        \n",
    "        self.conv4 = nn.Sequential(\n",
    "            nn.Conv1d(in_channels=15, out_channels=n[3], kernel_size=k[3], stride=1, padding=0),\n",
    "            nn.BatchNorm1d(n[3]),\n",
    "            nn.ReLU(),\n",
    "            nn.Conv1d(in_channels=n[3], out_channels=n[3], kernel_size=k[3], stride=1, padding=0),\n",
    "            nn.BatchNorm1d(n[3]),\n",
    "            nn.ReLU(),\n",
    "            nn.AdaptiveMaxPool1d(1)\n",
    "        )\n",
    "        \n",
    "        \n",
    "        \n",
    "        self.avg_pool = nn.AdaptiveAvgPool1d(1)  \n",
    "        self.fc_1 = nn.Linear(sum(n), 1)\n",
    "        self.dropout = nn.Dropout(p=drop_out) \n",
    "        self.fc_2 = nn.Linear(self.ins_num, 2)\n",
    "        self.dropout = nn.Dropout(p=drop_out) \n",
    "        \n",
    "\n",
    "\n",
    "    def forward(self, x):\n",
    "        \n",
    "        x = x.reshape(-1, 15, 24)\n",
    "        \n",
    "        out1 = self.conv1(x)\n",
    "        out2 = self.conv2(x)\n",
    "        out3 = self.conv3(x)\n",
    "        out4 = self.conv4(x)\n",
    "        out = torch.cat([out1, out2, out3, out4], dim=1)\n",
    "        out = out.view(out.size(0), -1) \n",
    "        out = self.fc_1(out)\n",
    "        out = self.dropout(out)\n",
    "        out = out.view(-1, self.ins_num)\n",
    "        out = self.fc_2(out)\n",
    "        out = self.dropout(out)\n",
    "        return out\n",
    "\n",
    "# 生成输入数据和标签\n",
    "def generate_input(sps, sp_lbs, feature_dict, feature_num, ins_num, max_len):\n",
    "    xs, ys = [], []\n",
    "    i = 0\n",
    "    for sp in sps:\n",
    "        xs.append([[[0] * feature_num] * max_len] * ins_num)\n",
    "        ys.append(sp_lbs[i])\n",
    "        j = 0\n",
    "        for tcr in sp:\n",
    "            tcr_seq = tcr[0]\n",
    "            right_num = max_len - len(tcr_seq)\n",
    "            tcr_seq += \"X\" * right_num\n",
    "            tcr_matrix = []\n",
    "            for aa in tcr_seq:\n",
    "                tcr_matrix.append(feature_dict[aa.upper()])\n",
    "            xs[i][j] = tcr_matrix\n",
    "            j += 1\n",
    "        i += 1\n",
    "    xs = np.array(xs)\n",
    "    xs = xs.swapaxes(2, 3)\n",
    "    ys = np.array(ys)\n",
    "    return xs, ys\n",
    "\n",
    "\n",
    "def load_data(sample_dir):\n",
    "    training_data = []\n",
    "    training_labels = []\n",
    "    for sample_file in os.listdir(sample_dir):\n",
    "        # 读取样本数据\n",
    "        training_data.append(read_tsv(os.path.join(sample_dir, sample_file), [0, 1], True))\n",
    "        # 获取样本标签\n",
    "        if \"P\" in sample_file:\n",
    "            training_labels.append(1)\n",
    "        elif \"H\" in sample_file:\n",
    "            training_labels.append(0)\n",
    "        else:\n",
    "            print(\"Wrong sample filename! Please name positive samples with 'P' and negative samples with 'H'.\")\n",
    "            sys.exit(1)\n",
    "        \n",
    "    return training_data, training_labels\n",
    "\n",
    "def evaluate(model, criterion, test_loader, device=\"cuda\"):\n",
    "    test_total_loss = 0.0\n",
    "    all_preds = []\n",
    "    all_labels = []\n",
    "    \n",
    "    model.eval()\n",
    "    with torch.no_grad():\n",
    "        for test_batch_x, test_batch_y in test_loader:\n",
    "            test_batch_x = test_batch_x.to(device)\n",
    "            test_batch_y = test_batch_y.to(device)\n",
    "            test_pred = model(test_batch_x)\n",
    "\n",
    "            test_loss = criterion(test_pred, test_batch_y)\n",
    "            test_total_loss += test_loss.item()\n",
    "            all_preds.append(test_pred.cpu().numpy())\n",
    "            all_labels.append(test_batch_y.cpu().numpy())\n",
    "            \n",
    "        test_avg_loss = test_total_loss / len(test_loader)\n",
    "        return test_avg_loss, all_preds, all_labels\n",
    "from tqdm import tqdm\n",
    "def train(fold, model, criterion, optimizer, train_loader, valid_loader, epoches=100, device='cuda'):\n",
    "    \n",
    "    \n",
    "    model_path = f'../model(AutoY)/{disease_name}checkpoint{fold}.pt'  # 修改模型文件的保存路径和命名\n",
    "    early_stopping = EarlyStopping(PATIENCE, path=model_path, verbose=False)\n",
    "    \n",
    "    # 存储训练和测试损失\n",
    "    epoch_train_losses = []\n",
    "    epoch_test_losses = []\n",
    "    with tqdm(total=epoches) as t:\n",
    "        t.set_description(f'{disease_name} - Fold {fold}')  # 添加疾病名称\n",
    "        for epoch in range(epoches):\n",
    "            model.train()\n",
    "            total_loss = 0.0\n",
    "            for batch_x, batch_y in train_loader:\n",
    "                batch_x = batch_x.to(device)\n",
    "                batch_y = batch_y.to(device)\n",
    "                pred = model(batch_x)\n",
    "\n",
    "                loss = criterion(pred, batch_y)\n",
    "                optimizer.zero_grad()\n",
    "                loss.backward()\n",
    "                optimizer.step()\n",
    "                total_loss += loss.item()\n",
    "            \n",
    "            # 记录训练损失\n",
    "            avg_loss = total_loss / len(train_loader)\n",
    "            epoch_train_losses.append(avg_loss)\n",
    "            # 记录评估损失\n",
    "            test_avg_loss, _, _ = evaluate(model, criterion, test_loader, device=device)\n",
    "            epoch_test_losses.append(test_avg_loss)\n",
    "            \n",
    "            t.set_postfix(loss=avg_loss, test_loss=test_avg_loss)\n",
    "            t.update(1)\n",
    "            \n",
    "            # 向EarlyStopping类别添加新轮次的损失\n",
    "            early_stopping(test_avg_loss, model)\n",
    "            # 判别是否满足提前退出的条件\n",
    "            if early_stopping.early_stop:\n",
    "                # 恢复训练中的最优模型\n",
    "                model.load_state_dict(torch.load(model_path))\n",
    "                #print('Early stopping')\n",
    "                break\n",
    "\n",
    "def metrics(all_preds, all_labels, threshold=0.5):\n",
    "    # 计算二进制分类指标\n",
    "    binary_preds = (all_preds[:, 1] > threshold).astype(int)\n",
    "    conf_matrix = confusion_matrix(all_labels, binary_preds)\n",
    "    accuracy = accuracy_score(all_labels, binary_preds)\n",
    "    sensitivity = conf_matrix[1, 1] / (conf_matrix[1, 0] + conf_matrix[1, 1])\n",
    "    specificity = conf_matrix[0, 0] / (conf_matrix[0, 0] + conf_matrix[0, 1])\n",
    "    auc = roc_auc_score(all_labels, all_preds[:, 1])\n",
    "\n",
    "    return accuracy, sensitivity, specificity, auc\n",
    "               "
   ]
  },
  {
   "cell_type": "code",
   "execution_count": 2,
   "id": "363e54de",
   "metadata": {},
   "outputs": [
    {
     "name": "stdout",
     "output_type": "stream",
     "text": [
      "Working on RA dataset: 322 samples\n"
     ]
    },
    {
     "name": "stderr",
     "output_type": "stream",
     "text": [
      "RA - Fold 0:  33%|▎| 988/3000 [00:30<01:02, 32.20it/s, loss=0.205, test_loss=0.6\n",
      "RA - Fold 1:  42%|▍| 1261/3000 [00:39<00:53, 32.26it/s, loss=0.242, test_loss=0.\n",
      "RA - Fold 2:  65%|▋| 1949/3000 [01:00<00:32, 32.03it/s, loss=0.181, test_loss=0.\n",
      "RA - Fold 3:  46%|▍| 1393/3000 [00:43<00:50, 32.09it/s, loss=0.212, test_loss=0.\n",
      "RA - Fold 4:  39%|▍| 1174/3000 [00:36<00:56, 32.59it/s, loss=0.177, test_loss=0.\n"
     ]
    },
    {
     "name": "stdout",
     "output_type": "stream",
     "text": [
      "Mean Accuracy (RA): 0.8106\n",
      "Mean Sensitivity (RA): 0.4907\n",
      "Mean Specificity (RA): 0.9720\n",
      "Mean AUC (RA): 0.8985\n",
      "Working on T1D dataset: 411 samples\n"
     ]
    },
    {
     "name": "stderr",
     "output_type": "stream",
     "text": [
      "T1D - Fold 0: 100%|█| 3000/3000 [02:00<00:00, 24.91it/s, loss=0.22, test_loss=0.\n",
      "T1D - Fold 1: 100%|█| 3000/3000 [02:00<00:00, 24.83it/s, loss=0.175, test_loss=0\n",
      "T1D - Fold 2:  37%|▎| 1113/3000 [00:44<01:16, 24.78it/s, loss=0.171, test_loss=0\n",
      "T1D - Fold 3:  84%|▊| 2518/3000 [01:42<00:19, 24.63it/s, loss=0.189, test_loss=0\n",
      "T1D - Fold 4:  99%|▉| 2958/3000 [01:59<00:01, 24.85it/s, loss=0.167, test_loss=0\n"
     ]
    },
    {
     "name": "stdout",
     "output_type": "stream",
     "text": [
      "Mean Accuracy (T1D): 0.9489\n",
      "Mean Sensitivity (T1D): 0.8934\n",
      "Mean Specificity (T1D): 1.0000\n",
      "Mean AUC (T1D): 0.9953\n",
      "Working on MS dataset: 508 samples\n"
     ]
    },
    {
     "name": "stderr",
     "output_type": "stream",
     "text": [
      "MS - Fold 0:  95%|▉| 2858/3000 [02:22<00:07, 20.04it/s, loss=0.168, test_loss=0.\n",
      "MS - Fold 1:  95%|▉| 2856/3000 [02:20<00:07, 20.40it/s, loss=0.192, test_loss=0.\n",
      "MS - Fold 2:  50%|▍| 1485/3000 [01:13<01:15, 20.12it/s, loss=0.21, test_loss=0.0\n",
      "MS - Fold 3:  96%|▉| 2877/3000 [02:22<00:06, 20.13it/s, loss=0.18, test_loss=0.0\n",
      "MS - Fold 4:  52%|▌| 1552/3000 [01:17<01:12, 20.02it/s, loss=0.168, test_loss=0.\n"
     ]
    },
    {
     "name": "stdout",
     "output_type": "stream",
     "text": [
      "Mean Accuracy (MS): 0.9941\n",
      "Mean Sensitivity (MS): 0.9932\n",
      "Mean Specificity (MS): 0.9953\n",
      "Mean AUC (MS): 0.9992\n",
      "Working on IAA dataset: 279 samples\n"
     ]
    },
    {
     "name": "stderr",
     "output_type": "stream",
     "text": [
      "IAA - Fold 0:  82%|▊| 2448/3000 [01:08<00:15, 35.65it/s, loss=0.182, test_loss=0\n",
      "IAA - Fold 1:  71%|▋| 2133/3000 [00:59<00:24, 35.66it/s, loss=0.208, test_loss=0\n",
      "IAA - Fold 2:  52%|▌| 1552/3000 [00:42<00:39, 36.57it/s, loss=0.183, test_loss=0\n",
      "IAA - Fold 3:  48%|▍| 1442/3000 [00:40<00:43, 35.57it/s, loss=0.182, test_loss=0\n",
      "IAA - Fold 4:  70%|▋| 2089/3000 [00:58<00:25, 35.72it/s, loss=0.179, test_loss=0\n"
     ]
    },
    {
     "name": "stdout",
     "output_type": "stream",
     "text": [
      "Mean Accuracy (IAA): 0.9104\n",
      "Mean Sensitivity (IAA): 0.6615\n",
      "Mean Specificity (IAA): 0.9860\n",
      "Mean AUC (IAA): 0.9741\n",
      "Working on RA dataset: 322 samples\n"
     ]
    },
    {
     "name": "stderr",
     "output_type": "stream",
     "text": [
      "RA - Fold 0:  69%|▋| 2064/3000 [01:04<00:29, 32.12it/s, loss=0.187, test_loss=0.\n",
      "RA - Fold 1:  61%|▌| 1826/3000 [00:57<00:37, 31.72it/s, loss=0.174, test_loss=0.\n",
      "RA - Fold 2:  51%|▌| 1517/3000 [00:48<00:47, 31.49it/s, loss=0.164, test_loss=0.\n",
      "RA - Fold 3:  63%|▋| 1885/3000 [00:59<00:35, 31.64it/s, loss=0.176, test_loss=0.\n",
      "RA - Fold 4:  34%|▎| 1024/3000 [00:32<01:02, 31.86it/s, loss=0.169, test_loss=0.\n"
     ]
    },
    {
     "name": "stdout",
     "output_type": "stream",
     "text": [
      "Mean Accuracy (RA): 0.8416\n",
      "Mean Sensitivity (RA): 0.6019\n",
      "Mean Specificity (RA): 0.9626\n",
      "Mean AUC (RA): 0.9313\n",
      "Working on T1D dataset: 411 samples\n"
     ]
    },
    {
     "name": "stderr",
     "output_type": "stream",
     "text": [
      "T1D - Fold 0:  64%|▋| 1915/3000 [01:17<00:44, 24.62it/s, loss=0.188, test_loss=0\n",
      "T1D - Fold 1:  82%|▊| 2450/3000 [01:40<00:22, 24.47it/s, loss=0.133, test_loss=0\n",
      "T1D - Fold 2:  58%|▌| 1735/3000 [01:10<00:51, 24.70it/s, loss=0.172, test_loss=0\n",
      "T1D - Fold 3:  44%|▍| 1324/3000 [00:54<01:08, 24.46it/s, loss=0.209, test_loss=0\n",
      "T1D - Fold 4:  41%|▍| 1243/3000 [00:50<01:11, 24.74it/s, loss=0.17, test_loss=0.\n"
     ]
    },
    {
     "name": "stdout",
     "output_type": "stream",
     "text": [
      "Mean Accuracy (T1D): 0.9659\n",
      "Mean Sensitivity (T1D): 0.9289\n",
      "Mean Specificity (T1D): 1.0000\n",
      "Mean AUC (T1D): 0.9990\n",
      "Working on MS dataset: 508 samples\n"
     ]
    },
    {
     "name": "stderr",
     "output_type": "stream",
     "text": [
      "MS - Fold 0:  83%|▊| 2490/3000 [02:04<00:25, 20.02it/s, loss=0.167, test_loss=0.\n",
      "MS - Fold 1:  95%|▉| 2842/3000 [02:25<00:08, 19.58it/s, loss=0.167, test_loss=0.\n",
      "MS - Fold 2:  52%|▌| 1569/3000 [01:19<01:12, 19.66it/s, loss=0.195, test_loss=0.\n",
      "MS - Fold 3:  80%|▊| 2408/3000 [02:02<00:30, 19.63it/s, loss=0.187, test_loss=0.\n",
      "MS - Fold 4:  34%|▎| 1024/3000 [00:53<01:42, 19.22it/s, loss=0.179, test_loss=0.\n"
     ]
    },
    {
     "name": "stdout",
     "output_type": "stream",
     "text": [
      "Mean Accuracy (MS): 0.9370\n",
      "Mean Sensitivity (MS): 0.9252\n",
      "Mean Specificity (MS): 0.9533\n",
      "Mean AUC (MS): 0.9889\n",
      "Working on IAA dataset: 279 samples\n"
     ]
    },
    {
     "name": "stderr",
     "output_type": "stream",
     "text": [
      "IAA - Fold 0:  31%|▎| 933/3000 [00:26<00:58, 35.27it/s, loss=0.218, test_loss=0.\n",
      "IAA - Fold 1: 100%|█| 3000/3000 [01:25<00:00, 35.06it/s, loss=0.211, test_loss=0\n",
      "IAA - Fold 2:  65%|▋| 1936/3000 [00:54<00:29, 35.51it/s, loss=0.165, test_loss=0\n",
      "IAA - Fold 3:  78%|▊| 2355/3000 [01:06<00:18, 35.50it/s, loss=0.171, test_loss=0\n",
      "IAA - Fold 4:  70%|▋| 2107/3000 [00:59<00:25, 35.68it/s, loss=0.17, test_loss=0.\n"
     ]
    },
    {
     "name": "stdout",
     "output_type": "stream",
     "text": [
      "Mean Accuracy (IAA): 0.9104\n",
      "Mean Sensitivity (IAA): 0.6462\n",
      "Mean Specificity (IAA): 0.9907\n",
      "Mean AUC (IAA): 0.9693\n",
      "Working on RA dataset: 322 samples\n"
     ]
    },
    {
     "name": "stderr",
     "output_type": "stream",
     "text": [
      "RA - Fold 0:  56%|▌| 1670/3000 [00:52<00:41, 31.74it/s, loss=0.188, test_loss=0.\n",
      "RA - Fold 1:  61%|▌| 1828/3000 [00:56<00:36, 32.19it/s, loss=0.191, test_loss=0.\n",
      "RA - Fold 2:  59%|▌| 1757/3000 [00:55<00:39, 31.73it/s, loss=0.196, test_loss=0.\n",
      "RA - Fold 3:  56%|▌| 1692/3000 [00:52<00:40, 31.94it/s, loss=0.164, test_loss=0.\n",
      "RA - Fold 4:  34%|▎| 1012/3000 [00:32<01:03, 31.51it/s, loss=0.162, test_loss=0.\n"
     ]
    },
    {
     "name": "stdout",
     "output_type": "stream",
     "text": [
      "Mean Accuracy (RA): 0.8230\n",
      "Mean Sensitivity (RA): 0.5000\n",
      "Mean Specificity (RA): 0.9860\n",
      "Mean AUC (RA): 0.8933\n",
      "Working on T1D dataset: 411 samples\n"
     ]
    },
    {
     "name": "stderr",
     "output_type": "stream",
     "text": [
      "T1D - Fold 0:  84%|▊| 2522/3000 [01:41<00:19, 24.74it/s, loss=0.179, test_loss=0\n",
      "T1D - Fold 1:  74%|▋| 2221/3000 [01:29<00:31, 24.72it/s, loss=0.169, test_loss=0\n",
      "T1D - Fold 2:  44%|▍| 1324/3000 [00:53<01:07, 24.75it/s, loss=0.168, test_loss=0\n",
      "T1D - Fold 3:  50%|▌| 1514/3000 [01:00<00:59, 24.83it/s, loss=0.195, test_loss=0\n",
      "T1D - Fold 4:  79%|▊| 2361/3000 [01:36<00:26, 24.56it/s, loss=0.168, test_loss=0\n"
     ]
    },
    {
     "name": "stdout",
     "output_type": "stream",
     "text": [
      "Mean Accuracy (T1D): 0.9635\n",
      "Mean Sensitivity (T1D): 0.9239\n",
      "Mean Specificity (T1D): 1.0000\n",
      "Mean AUC (T1D): 0.9976\n",
      "Working on MS dataset: 508 samples\n"
     ]
    },
    {
     "name": "stderr",
     "output_type": "stream",
     "text": [
      "MS - Fold 0:  10%| | 309/3000 [00:15<02:13, 20.10it/s, loss=0.481, test_loss=0.6\n",
      "MS - Fold 1: 100%|█| 3000/3000 [02:31<00:00, 19.87it/s, loss=0.158, test_loss=0.\n",
      "MS - Fold 2: 100%|█| 3000/3000 [02:29<00:00, 20.13it/s, loss=0.157, test_loss=0.\n",
      "MS - Fold 3:  79%|▊| 2367/3000 [01:58<00:31, 19.99it/s, loss=0.157, test_loss=0.\n",
      "MS - Fold 4:  77%|▊| 2310/3000 [01:54<00:34, 20.10it/s, loss=0.21, test_loss=0.0\n"
     ]
    },
    {
     "name": "stdout",
     "output_type": "stream",
     "text": [
      "Mean Accuracy (MS): 0.8642\n",
      "Mean Sensitivity (MS): 0.7687\n",
      "Mean Specificity (MS): 0.9953\n",
      "Mean AUC (MS): 0.9779\n",
      "Working on IAA dataset: 279 samples\n"
     ]
    },
    {
     "name": "stderr",
     "output_type": "stream",
     "text": [
      "IAA - Fold 0:  43%|▍| 1304/3000 [00:36<00:46, 36.21it/s, loss=0.222, test_loss=0\n",
      "IAA - Fold 1:  93%|▉| 2783/3000 [01:19<00:06, 35.11it/s, loss=0.16, test_loss=0.\n",
      "IAA - Fold 2:  60%|▌| 1797/3000 [00:50<00:33, 35.77it/s, loss=0.156, test_loss=0\n",
      "IAA - Fold 3:  94%|▉| 2835/3000 [01:18<00:04, 35.99it/s, loss=0.18, test_loss=0.\n",
      "IAA - Fold 4:  35%|▎| 1051/3000 [00:29<00:54, 35.61it/s, loss=0.213, test_loss=0\n"
     ]
    },
    {
     "name": "stdout",
     "output_type": "stream",
     "text": [
      "Mean Accuracy (IAA): 0.8853\n",
      "Mean Sensitivity (IAA): 0.5077\n",
      "Mean Specificity (IAA): 1.0000\n",
      "Mean AUC (IAA): 0.9619\n",
      "Working on RA dataset: 322 samples\n"
     ]
    },
    {
     "name": "stderr",
     "output_type": "stream",
     "text": [
      "RA - Fold 0:  37%|▎| 1099/3000 [00:34<01:00, 31.54it/s, loss=0.16, test_loss=0.4\n",
      "RA - Fold 1:  47%|▍| 1405/3000 [00:44<00:50, 31.64it/s, loss=0.188, test_loss=0.\n",
      "RA - Fold 2:  59%|▌| 1778/3000 [00:56<00:38, 31.61it/s, loss=0.154, test_loss=0.\n",
      "RA - Fold 3:  86%|▊| 2570/3000 [01:19<00:13, 32.35it/s, loss=0.177, test_loss=0.\n",
      "RA - Fold 4:  63%|▋| 1901/3000 [01:00<00:34, 31.43it/s, loss=0.188, test_loss=0.\n"
     ]
    },
    {
     "name": "stdout",
     "output_type": "stream",
     "text": [
      "Mean Accuracy (RA): 0.8230\n",
      "Mean Sensitivity (RA): 0.5370\n",
      "Mean Specificity (RA): 0.9673\n",
      "Mean AUC (RA): 0.9301\n",
      "Working on T1D dataset: 411 samples\n"
     ]
    },
    {
     "name": "stderr",
     "output_type": "stream",
     "text": [
      "T1D - Fold 0:  70%|▋| 2107/3000 [01:25<00:36, 24.67it/s, loss=0.161, test_loss=0\n",
      "T1D - Fold 1:  84%|▊| 2525/3000 [01:43<00:19, 24.42it/s, loss=0.226, test_loss=0\n",
      "T1D - Fold 2:  52%|▌| 1575/3000 [01:04<00:57, 24.57it/s, loss=0.192, test_loss=0\n",
      "T1D - Fold 3: 100%|█| 3000/3000 [02:03<00:00, 24.21it/s, loss=0.17, test_loss=0.\n",
      "T1D - Fold 4:  65%|▋| 1940/3000 [01:19<00:43, 24.35it/s, loss=0.158, test_loss=0\n"
     ]
    },
    {
     "name": "stdout",
     "output_type": "stream",
     "text": [
      "Mean Accuracy (T1D): 0.9757\n",
      "Mean Sensitivity (T1D): 0.9543\n",
      "Mean Specificity (T1D): 0.9953\n",
      "Mean AUC (T1D): 0.9991\n",
      "Working on MS dataset: 508 samples\n"
     ]
    },
    {
     "name": "stderr",
     "output_type": "stream",
     "text": [
      "MS - Fold 0: 100%|█| 3000/3000 [02:33<00:00, 19.57it/s, loss=0.188, test_loss=0.\n",
      "MS - Fold 1: 100%|█| 3000/3000 [02:34<00:00, 19.46it/s, loss=0.166, test_loss=0.\n",
      "MS - Fold 2:  89%|▉| 2659/3000 [02:16<00:17, 19.49it/s, loss=0.168, test_loss=0.\n",
      "MS - Fold 3: 100%|█| 3000/3000 [02:32<00:00, 19.65it/s, loss=0.163, test_loss=0.\n",
      "MS - Fold 4:  50%|▌| 1513/3000 [01:17<01:15, 19.65it/s, loss=0.167, test_loss=0.\n"
     ]
    },
    {
     "name": "stdout",
     "output_type": "stream",
     "text": [
      "Mean Accuracy (MS): 0.9941\n",
      "Mean Sensitivity (MS): 0.9932\n",
      "Mean Specificity (MS): 0.9953\n",
      "Mean AUC (MS): 0.9993\n",
      "Working on IAA dataset: 279 samples\n"
     ]
    },
    {
     "name": "stderr",
     "output_type": "stream",
     "text": [
      "IAA - Fold 0:  65%|▋| 1940/3000 [00:55<00:30, 35.16it/s, loss=0.159, test_loss=0\n",
      "IAA - Fold 1:  96%|▉| 2873/3000 [01:21<00:03, 35.06it/s, loss=0.176, test_loss=0\n",
      "IAA - Fold 2:  44%|▍| 1316/3000 [00:37<00:47, 35.28it/s, loss=0.152, test_loss=0\n",
      "IAA - Fold 3:  59%|▌| 1765/3000 [00:50<00:35, 34.85it/s, loss=0.156, test_loss=0\n",
      "IAA - Fold 4:  47%|▍| 1416/3000 [00:39<00:44, 35.79it/s, loss=0.165, test_loss=0\n"
     ]
    },
    {
     "name": "stdout",
     "output_type": "stream",
     "text": [
      "Mean Accuracy (IAA): 0.8889\n",
      "Mean Sensitivity (IAA): 0.5385\n",
      "Mean Specificity (IAA): 0.9953\n",
      "Mean AUC (IAA): 0.9709\n",
      "Working on RA dataset: 322 samples\n"
     ]
    },
    {
     "name": "stderr",
     "output_type": "stream",
     "text": [
      "RA - Fold 0:  48%|▍| 1433/3000 [00:44<00:48, 32.03it/s, loss=0.224, test_loss=0.\n",
      "RA - Fold 1:  79%|▊| 2378/3000 [01:14<00:19, 31.77it/s, loss=0.181, test_loss=0.\n",
      "RA - Fold 2:  35%|▎| 1054/3000 [00:33<01:01, 31.79it/s, loss=0.175, test_loss=0.\n",
      "RA - Fold 3:  47%|▍| 1406/3000 [00:44<00:50, 31.77it/s, loss=0.18, test_loss=0.3\n",
      "RA - Fold 4:  29%|▎| 879/3000 [00:27<01:06, 31.74it/s, loss=0.222, test_loss=0.5\n"
     ]
    },
    {
     "name": "stdout",
     "output_type": "stream",
     "text": [
      "Mean Accuracy (RA): 0.8354\n",
      "Mean Sensitivity (RA): 0.5556\n",
      "Mean Specificity (RA): 0.9766\n",
      "Mean AUC (RA): 0.9314\n",
      "Working on T1D dataset: 411 samples\n"
     ]
    },
    {
     "name": "stderr",
     "output_type": "stream",
     "text": [
      "T1D - Fold 0:  73%|▋| 2201/3000 [01:29<00:32, 24.62it/s, loss=0.17, test_loss=0.\n",
      "T1D - Fold 1:  99%|▉| 2969/3000 [02:00<00:01, 24.67it/s, loss=0.138, test_loss=0\n",
      "T1D - Fold 2:  50%|▌| 1504/3000 [01:01<01:00, 24.61it/s, loss=0.17, test_loss=0.\n",
      "T1D - Fold 3: 100%|█| 3000/3000 [02:03<00:00, 24.31it/s, loss=0.144, test_loss=0\n",
      "T1D - Fold 4:  47%|▍| 1407/3000 [00:56<01:03, 24.89it/s, loss=0.187, test_loss=0\n"
     ]
    },
    {
     "name": "stdout",
     "output_type": "stream",
     "text": [
      "Mean Accuracy (T1D): 0.9611\n",
      "Mean Sensitivity (T1D): 0.9289\n",
      "Mean Specificity (T1D): 0.9907\n",
      "Mean AUC (T1D): 0.9971\n",
      "Working on MS dataset: 508 samples\n"
     ]
    },
    {
     "name": "stderr",
     "output_type": "stream",
     "text": [
      "MS - Fold 0:  93%|▉| 2790/3000 [02:18<00:10, 20.15it/s, loss=0.182, test_loss=0.\n",
      "MS - Fold 1:  88%|▉| 2655/3000 [02:13<00:17, 19.95it/s, loss=0.182, test_loss=0.\n",
      "MS - Fold 2: 100%|█| 3000/3000 [02:31<00:00, 19.86it/s, loss=0.14, test_loss=0.0\n",
      "MS - Fold 3: 100%|█| 3000/3000 [02:30<00:00, 19.99it/s, loss=0.165, test_loss=0.\n",
      "MS - Fold 4: 100%|█| 3000/3000 [02:29<00:00, 20.02it/s, loss=0.189, test_loss=0.\n"
     ]
    },
    {
     "name": "stdout",
     "output_type": "stream",
     "text": [
      "Mean Accuracy (MS): 0.9862\n",
      "Mean Sensitivity (MS): 0.9796\n",
      "Mean Specificity (MS): 0.9953\n",
      "Mean AUC (MS): 0.9997\n",
      "Working on IAA dataset: 279 samples\n"
     ]
    },
    {
     "name": "stderr",
     "output_type": "stream",
     "text": [
      "IAA - Fold 0:  55%|▌| 1653/3000 [00:46<00:37, 35.65it/s, loss=0.185, test_loss=0\n",
      "IAA - Fold 1:  74%|▋| 2229/3000 [01:02<00:21, 35.85it/s, loss=0.173, test_loss=0\n",
      "IAA - Fold 2:  60%|▌| 1794/3000 [00:49<00:33, 36.37it/s, loss=0.165, test_loss=0\n",
      "IAA - Fold 3:  77%|▊| 2322/3000 [01:03<00:18, 36.75it/s, loss=0.129, test_loss=0\n",
      "IAA - Fold 4:  54%|▌| 1615/3000 [00:44<00:38, 36.12it/s, loss=0.164, test_loss=0\n"
     ]
    },
    {
     "name": "stdout",
     "output_type": "stream",
     "text": [
      "Mean Accuracy (IAA): 0.9283\n",
      "Mean Sensitivity (IAA): 0.6923\n",
      "Mean Specificity (IAA): 1.0000\n",
      "Mean AUC (IAA): 0.9664\n",
      "Working on RA dataset: 322 samples\n"
     ]
    },
    {
     "name": "stderr",
     "output_type": "stream",
     "text": [
      "RA - Fold 0:  52%|▌| 1560/3000 [00:48<00:44, 32.21it/s, loss=0.183, test_loss=0.\n",
      "RA - Fold 1:  75%|▋| 2248/3000 [01:10<00:23, 31.93it/s, loss=0.153, test_loss=0.\n",
      "RA - Fold 2:  72%|▋| 2149/3000 [01:08<00:27, 31.40it/s, loss=0.12, test_loss=0.2\n",
      "RA - Fold 3:  55%|▌| 1647/3000 [00:53<00:43, 31.05it/s, loss=0.16, test_loss=0.6\n",
      "RA - Fold 4:  42%|▍| 1269/3000 [00:40<00:55, 31.31it/s, loss=0.181, test_loss=0.\n"
     ]
    },
    {
     "name": "stdout",
     "output_type": "stream",
     "text": [
      "Mean Accuracy (RA): 0.8540\n",
      "Mean Sensitivity (RA): 0.6389\n",
      "Mean Specificity (RA): 0.9626\n",
      "Mean AUC (RA): 0.9473\n",
      "Working on T1D dataset: 411 samples\n"
     ]
    },
    {
     "name": "stderr",
     "output_type": "stream",
     "text": [
      "T1D - Fold 0:  88%|▉| 2628/3000 [01:45<00:14, 24.87it/s, loss=0.173, test_loss=0\n",
      "T1D - Fold 1: 100%|█| 3000/3000 [02:01<00:00, 24.68it/s, loss=0.175, test_loss=0\n",
      "T1D - Fold 2:  30%|▎| 892/3000 [00:36<01:25, 24.58it/s, loss=0.185, test_loss=0.\n",
      "T1D - Fold 3:  83%|▊| 2489/3000 [01:39<00:20, 24.90it/s, loss=0.15, test_loss=0.\n",
      "T1D - Fold 4:  87%|▊| 2623/3000 [01:47<00:15, 24.48it/s, loss=0.197, test_loss=0\n"
     ]
    },
    {
     "name": "stdout",
     "output_type": "stream",
     "text": [
      "Mean Accuracy (T1D): 0.9708\n",
      "Mean Sensitivity (T1D): 0.9492\n",
      "Mean Specificity (T1D): 0.9907\n",
      "Mean AUC (T1D): 0.9989\n",
      "Working on MS dataset: 508 samples\n"
     ]
    },
    {
     "name": "stderr",
     "output_type": "stream",
     "text": [
      "MS - Fold 0:  68%|▋| 2052/3000 [01:41<00:47, 20.15it/s, loss=0.193, test_loss=0.\n",
      "MS - Fold 1:  80%|▊| 2404/3000 [01:57<00:29, 20.45it/s, loss=0.146, test_loss=0.\n",
      "MS - Fold 2:  62%|▌| 1864/3000 [01:31<00:55, 20.32it/s, loss=0.204, test_loss=0.\n",
      "MS - Fold 3:  77%|▊| 2316/3000 [01:53<00:33, 20.42it/s, loss=0.153, test_loss=0.\n",
      "MS - Fold 4:  75%|▊| 2259/3000 [01:52<00:36, 20.14it/s, loss=0.158, test_loss=0.\n"
     ]
    },
    {
     "name": "stdout",
     "output_type": "stream",
     "text": [
      "Mean Accuracy (MS): 0.9862\n",
      "Mean Sensitivity (MS): 0.9796\n",
      "Mean Specificity (MS): 0.9953\n",
      "Mean AUC (MS): 0.9996\n",
      "Working on IAA dataset: 279 samples\n"
     ]
    },
    {
     "name": "stderr",
     "output_type": "stream",
     "text": [
      "IAA - Fold 0:  63%|▋| 1900/3000 [00:53<00:30, 35.63it/s, loss=0.175, test_loss=0\n",
      "IAA - Fold 1:  90%|▉| 2693/3000 [01:14<00:08, 36.11it/s, loss=0.152, test_loss=0\n",
      "IAA - Fold 2:  83%|▊| 2477/3000 [01:07<00:14, 36.94it/s, loss=0.184, test_loss=0\n",
      "IAA - Fold 3:  53%|▌| 1583/3000 [00:43<00:39, 36.04it/s, loss=0.184, test_loss=0\n",
      "IAA - Fold 4:  55%|▌| 1659/3000 [00:45<00:36, 36.40it/s, loss=0.191, test_loss=0\n"
     ]
    },
    {
     "name": "stdout",
     "output_type": "stream",
     "text": [
      "Mean Accuracy (IAA): 0.9176\n",
      "Mean Sensitivity (IAA): 0.6769\n",
      "Mean Specificity (IAA): 0.9907\n",
      "Mean AUC (IAA): 0.9882\n",
      "Working on RA dataset: 322 samples\n"
     ]
    },
    {
     "name": "stderr",
     "output_type": "stream",
     "text": [
      "RA - Fold 0:  50%|▌| 1515/3000 [00:46<00:45, 32.43it/s, loss=0.197, test_loss=0.\n",
      "RA - Fold 1:  59%|▌| 1779/3000 [00:54<00:37, 32.70it/s, loss=0.156, test_loss=0.\n",
      "RA - Fold 2:  80%|▊| 2404/3000 [01:14<00:18, 32.27it/s, loss=0.255, test_loss=0.\n",
      "RA - Fold 3:  38%|▍| 1131/3000 [00:34<00:57, 32.37it/s, loss=0.192, test_loss=0.\n",
      "RA - Fold 4:  38%|▍| 1151/3000 [00:36<00:57, 31.97it/s, loss=0.186, test_loss=0.\n"
     ]
    },
    {
     "name": "stdout",
     "output_type": "stream",
     "text": [
      "Mean Accuracy (RA): 0.8478\n",
      "Mean Sensitivity (RA): 0.5648\n",
      "Mean Specificity (RA): 0.9907\n",
      "Mean AUC (RA): 0.9324\n",
      "Working on T1D dataset: 411 samples\n"
     ]
    },
    {
     "name": "stderr",
     "output_type": "stream",
     "text": [
      "T1D - Fold 0:  92%|▉| 2762/3000 [01:51<00:09, 24.66it/s, loss=0.163, test_loss=0\n",
      "T1D - Fold 1:  92%|▉| 2757/3000 [01:51<00:09, 24.70it/s, loss=0.188, test_loss=0\n",
      "T1D - Fold 2:  77%|▊| 2324/3000 [01:33<00:27, 24.95it/s, loss=0.167, test_loss=0\n",
      "T1D - Fold 3:  94%|▉| 2823/3000 [01:53<00:07, 24.83it/s, loss=0.158, test_loss=0\n",
      "T1D - Fold 4:  53%|▌| 1580/3000 [01:03<00:56, 25.00it/s, loss=0.173, test_loss=0\n"
     ]
    },
    {
     "name": "stdout",
     "output_type": "stream",
     "text": [
      "Mean Accuracy (T1D): 0.9732\n",
      "Mean Sensitivity (T1D): 0.9492\n",
      "Mean Specificity (T1D): 0.9953\n",
      "Mean AUC (T1D): 0.9991\n",
      "Working on MS dataset: 508 samples\n"
     ]
    },
    {
     "name": "stderr",
     "output_type": "stream",
     "text": [
      "MS - Fold 0:  77%|▊| 2320/3000 [01:55<00:33, 20.09it/s, loss=0.175, test_loss=0.\n",
      "MS - Fold 1: 100%|█| 3000/3000 [02:24<00:00, 20.70it/s, loss=0.179, test_loss=0.\n",
      "MS - Fold 2: 100%|█| 3000/3000 [02:27<00:00, 20.33it/s, loss=0.187, test_loss=0.\n",
      "MS - Fold 3:  97%|▉| 2908/3000 [02:23<00:04, 20.20it/s, loss=0.167, test_loss=0.\n",
      "MS - Fold 4:  92%|▉| 2770/3000 [02:18<00:11, 19.96it/s, loss=0.176, test_loss=0.\n"
     ]
    },
    {
     "name": "stdout",
     "output_type": "stream",
     "text": [
      "Mean Accuracy (MS): 0.9665\n",
      "Mean Sensitivity (MS): 0.9592\n",
      "Mean Specificity (MS): 0.9766\n",
      "Mean AUC (MS): 0.9962\n",
      "Working on IAA dataset: 279 samples\n"
     ]
    },
    {
     "name": "stderr",
     "output_type": "stream",
     "text": [
      "IAA - Fold 0:  38%|▍| 1134/3000 [00:30<00:50, 36.62it/s, loss=0.211, test_loss=0\n",
      "IAA - Fold 1:  96%|▉| 2872/3000 [01:19<00:03, 36.35it/s, loss=0.184, test_loss=0\n",
      "IAA - Fold 2:  73%|▋| 2180/3000 [01:00<00:22, 36.16it/s, loss=0.208, test_loss=0\n",
      "IAA - Fold 3: 100%|█| 3000/3000 [01:22<00:00, 36.49it/s, loss=0.166, test_loss=0\n",
      "IAA - Fold 4:  36%|▎| 1086/3000 [00:30<00:54, 35.34it/s, loss=0.233, test_loss=0\n"
     ]
    },
    {
     "name": "stdout",
     "output_type": "stream",
     "text": [
      "Mean Accuracy (IAA): 0.8961\n",
      "Mean Sensitivity (IAA): 0.5538\n",
      "Mean Specificity (IAA): 1.0000\n",
      "Mean AUC (IAA): 0.9668\n",
      "Working on RA dataset: 322 samples\n"
     ]
    },
    {
     "name": "stderr",
     "output_type": "stream",
     "text": [
      "RA - Fold 0:  46%|▍| 1384/3000 [00:43<00:51, 31.57it/s, loss=0.167, test_loss=0.\n",
      "RA - Fold 1:  33%|▎| 980/3000 [00:30<01:03, 31.72it/s, loss=0.208, test_loss=0.3\n",
      "RA - Fold 2:  66%|▋| 1989/3000 [01:03<00:32, 31.24it/s, loss=0.159, test_loss=0.\n",
      "RA - Fold 3:  58%|▌| 1729/3000 [00:54<00:40, 31.53it/s, loss=0.158, test_loss=0.\n",
      "RA - Fold 4:  44%|▍| 1312/3000 [00:41<00:53, 31.80it/s, loss=0.156, test_loss=0.\n"
     ]
    },
    {
     "name": "stdout",
     "output_type": "stream",
     "text": [
      "Mean Accuracy (RA): 0.8447\n",
      "Mean Sensitivity (RA): 0.5741\n",
      "Mean Specificity (RA): 0.9813\n",
      "Mean AUC (RA): 0.9208\n",
      "Working on T1D dataset: 411 samples\n"
     ]
    },
    {
     "name": "stderr",
     "output_type": "stream",
     "text": [
      "T1D - Fold 0:  80%|▊| 2405/3000 [01:37<00:24, 24.70it/s, loss=0.145, test_loss=0\n",
      "T1D - Fold 1:  84%|▊| 2535/3000 [01:42<00:18, 24.67it/s, loss=0.175, test_loss=0\n",
      "T1D - Fold 2:  46%|▍| 1378/3000 [00:55<01:05, 24.71it/s, loss=0.185, test_loss=0\n",
      "T1D - Fold 3:  72%|▋| 2169/3000 [01:27<00:33, 24.70it/s, loss=0.149, test_loss=0\n",
      "T1D - Fold 4: 100%|█| 3000/3000 [02:00<00:00, 24.86it/s, loss=0.184, test_loss=0\n"
     ]
    },
    {
     "name": "stdout",
     "output_type": "stream",
     "text": [
      "Mean Accuracy (T1D): 0.9659\n",
      "Mean Sensitivity (T1D): 0.9289\n",
      "Mean Specificity (T1D): 1.0000\n",
      "Mean AUC (T1D): 0.9981\n",
      "Working on MS dataset: 508 samples\n"
     ]
    },
    {
     "name": "stderr",
     "output_type": "stream",
     "text": [
      "MS - Fold 0:  74%|▋| 2224/3000 [01:49<00:38, 20.32it/s, loss=0.175, test_loss=0.\n",
      "MS - Fold 1: 100%|█| 3000/3000 [02:28<00:00, 20.17it/s, loss=0.202, test_loss=0.\n",
      "MS - Fold 2:  78%|▊| 2331/3000 [01:55<00:33, 20.24it/s, loss=0.192, test_loss=0.\n",
      "MS - Fold 3:  86%|▊| 2574/3000 [02:05<00:20, 20.44it/s, loss=0.167, test_loss=0.\n",
      "MS - Fold 4: 100%|█| 3000/3000 [02:28<00:00, 20.22it/s, loss=0.176, test_loss=0.\n"
     ]
    },
    {
     "name": "stdout",
     "output_type": "stream",
     "text": [
      "Mean Accuracy (MS): 0.9902\n",
      "Mean Sensitivity (MS): 0.9864\n",
      "Mean Specificity (MS): 0.9953\n",
      "Mean AUC (MS): 0.9994\n",
      "Working on IAA dataset: 279 samples\n"
     ]
    },
    {
     "name": "stderr",
     "output_type": "stream",
     "text": [
      "IAA - Fold 0:  42%|▍| 1257/3000 [00:34<00:48, 35.98it/s, loss=0.163, test_loss=0\n",
      "IAA - Fold 1: 100%|█| 3000/3000 [01:21<00:00, 36.87it/s, loss=0.184, test_loss=0\n",
      "IAA - Fold 2:  79%|▊| 2356/3000 [01:04<00:17, 36.52it/s, loss=0.18, test_loss=0.\n",
      "IAA - Fold 3:  78%|▊| 2336/3000 [01:03<00:18, 36.65it/s, loss=0.192, test_loss=0\n",
      "IAA - Fold 4:  70%|▋| 2101/3000 [00:58<00:24, 36.17it/s, loss=0.174, test_loss=0\n"
     ]
    },
    {
     "name": "stdout",
     "output_type": "stream",
     "text": [
      "Mean Accuracy (IAA): 0.9140\n",
      "Mean Sensitivity (IAA): 0.7385\n",
      "Mean Specificity (IAA): 0.9673\n",
      "Mean AUC (IAA): 0.9538\n",
      "Working on RA dataset: 322 samples\n"
     ]
    },
    {
     "name": "stderr",
     "output_type": "stream",
     "text": [
      "RA - Fold 0:  38%|▍| 1127/3000 [00:34<00:57, 32.59it/s, loss=0.167, test_loss=0.\n",
      "RA - Fold 1:  42%|▍| 1264/3000 [00:38<00:52, 32.85it/s, loss=0.176, test_loss=0.\n",
      "RA - Fold 2:  50%|▌| 1501/3000 [00:46<00:46, 32.03it/s, loss=0.15, test_loss=0.1\n",
      "RA - Fold 3:  67%|▋| 2011/3000 [01:02<00:30, 32.34it/s, loss=0.159, test_loss=0.\n",
      "RA - Fold 4:  58%|▌| 1748/3000 [00:54<00:38, 32.26it/s, loss=0.138, test_loss=0.\n"
     ]
    },
    {
     "name": "stdout",
     "output_type": "stream",
     "text": [
      "Mean Accuracy (RA): 0.8540\n",
      "Mean Sensitivity (RA): 0.6389\n",
      "Mean Specificity (RA): 0.9626\n",
      "Mean AUC (RA): 0.9595\n",
      "Working on T1D dataset: 411 samples\n"
     ]
    },
    {
     "name": "stderr",
     "output_type": "stream",
     "text": [
      "T1D - Fold 0:  49%|▍| 1457/3000 [00:59<01:02, 24.57it/s, loss=0.193, test_loss=0\n",
      "T1D - Fold 1:  48%|▍| 1453/3000 [00:59<01:03, 24.53it/s, loss=0.147, test_loss=0\n",
      "T1D - Fold 2:  50%|▌| 1504/3000 [01:00<01:00, 24.73it/s, loss=0.183, test_loss=0\n",
      "T1D - Fold 3:  67%|▋| 2024/3000 [01:21<00:39, 24.70it/s, loss=0.142, test_loss=0\n",
      "T1D - Fold 4:  80%|▊| 2410/3000 [01:36<00:23, 24.85it/s, loss=0.195, test_loss=0\n"
     ]
    },
    {
     "name": "stdout",
     "output_type": "stream",
     "text": [
      "Mean Accuracy (T1D): 0.9708\n",
      "Mean Sensitivity (T1D): 0.9391\n",
      "Mean Specificity (T1D): 1.0000\n",
      "Mean AUC (T1D): 0.9980\n",
      "Working on MS dataset: 508 samples\n"
     ]
    },
    {
     "name": "stderr",
     "output_type": "stream",
     "text": [
      "MS - Fold 0:  54%|▌| 1626/3000 [01:20<01:08, 20.09it/s, loss=0.141, test_loss=0.\n",
      "MS - Fold 1: 100%|█| 3000/3000 [02:27<00:00, 20.33it/s, loss=0.171, test_loss=0.\n",
      "MS - Fold 2:  93%|▉| 2802/3000 [02:17<00:09, 20.33it/s, loss=0.161, test_loss=0.\n",
      "MS - Fold 3:  97%|▉| 2905/3000 [02:23<00:04, 20.23it/s, loss=0.182, test_loss=0.\n",
      "MS - Fold 4: 100%|█| 3000/3000 [02:30<00:00, 19.98it/s, loss=0.184, test_loss=0.\n"
     ]
    },
    {
     "name": "stdout",
     "output_type": "stream",
     "text": [
      "Mean Accuracy (MS): 0.9843\n",
      "Mean Sensitivity (MS): 0.9830\n",
      "Mean Specificity (MS): 0.9860\n",
      "Mean AUC (MS): 0.9988\n",
      "Working on IAA dataset: 279 samples\n"
     ]
    },
    {
     "name": "stderr",
     "output_type": "stream",
     "text": [
      "IAA - Fold 0:  47%|▍| 1401/3000 [00:38<00:44, 36.08it/s, loss=0.19, test_loss=0.\n",
      "IAA - Fold 1:  90%|▉| 2710/3000 [01:15<00:08, 35.66it/s, loss=0.2, test_loss=0.1\n",
      "IAA - Fold 2:  83%|▊| 2488/3000 [01:10<00:14, 35.53it/s, loss=0.141, test_loss=0\n",
      "IAA - Fold 3:  69%|▋| 2078/3000 [00:58<00:26, 35.35it/s, loss=0.236, test_loss=0\n",
      "IAA - Fold 4:  60%|▌| 1812/3000 [00:51<00:33, 35.45it/s, loss=0.173, test_loss=0\n"
     ]
    },
    {
     "name": "stdout",
     "output_type": "stream",
     "text": [
      "Mean Accuracy (IAA): 0.9247\n",
      "Mean Sensitivity (IAA): 0.7077\n",
      "Mean Specificity (IAA): 0.9907\n",
      "Mean AUC (IAA): 0.9866\n",
      "Working on RA dataset: 322 samples\n"
     ]
    },
    {
     "name": "stderr",
     "output_type": "stream",
     "text": [
      "RA - Fold 0:  47%|▍| 1424/3000 [00:45<00:50, 31.01it/s, loss=0.178, test_loss=0.\n",
      "RA - Fold 1:  45%|▍| 1354/3000 [00:44<00:54, 30.39it/s, loss=0.155, test_loss=0.\n",
      "RA - Fold 2:  19%|▏| 575/3000 [00:18<01:18, 31.08it/s, loss=0.177, test_loss=0.6\n",
      "RA - Fold 3:  45%|▍| 1355/3000 [00:43<00:52, 31.18it/s, loss=0.147, test_loss=0.\n",
      "RA - Fold 4:  31%|▎| 921/3000 [00:29<01:06, 31.29it/s, loss=0.2, test_loss=0.514\n"
     ]
    },
    {
     "name": "stdout",
     "output_type": "stream",
     "text": [
      "Mean Accuracy (RA): 0.8137\n",
      "Mean Sensitivity (RA): 0.4815\n",
      "Mean Specificity (RA): 0.9813\n",
      "Mean AUC (RA): 0.8927\n",
      "Working on T1D dataset: 411 samples\n"
     ]
    },
    {
     "name": "stderr",
     "output_type": "stream",
     "text": [
      "T1D - Fold 0:  66%|▋| 1969/3000 [01:19<00:41, 24.81it/s, loss=0.184, test_loss=0\n",
      "T1D - Fold 1:  99%|▉| 2956/3000 [01:59<00:01, 24.76it/s, loss=0.174, test_loss=0\n",
      "T1D - Fold 2:  55%|▌| 1636/3000 [01:05<00:54, 24.85it/s, loss=0.164, test_loss=0\n",
      "T1D - Fold 3:  81%|▊| 2441/3000 [01:39<00:22, 24.61it/s, loss=0.175, test_loss=0\n",
      "T1D - Fold 4: 100%|█| 3000/3000 [02:01<00:00, 24.77it/s, loss=0.167, test_loss=0\n"
     ]
    },
    {
     "name": "stdout",
     "output_type": "stream",
     "text": [
      "Mean Accuracy (T1D): 0.9635\n",
      "Mean Sensitivity (T1D): 0.9239\n",
      "Mean Specificity (T1D): 1.0000\n",
      "Mean AUC (T1D): 0.9995\n",
      "Working on MS dataset: 508 samples\n"
     ]
    },
    {
     "name": "stderr",
     "output_type": "stream",
     "text": [
      "MS - Fold 0: 100%|█| 3000/3000 [02:28<00:00, 20.26it/s, loss=0.174, test_loss=0.\n",
      "MS - Fold 1:  97%|▉| 2913/3000 [02:25<00:04, 20.05it/s, loss=0.143, test_loss=0.\n",
      "MS - Fold 2: 100%|█| 3000/3000 [02:27<00:00, 20.34it/s, loss=0.206, test_loss=0.\n",
      "MS - Fold 3:  70%|▋| 2105/3000 [01:44<00:44, 20.05it/s, loss=0.181, test_loss=0.\n",
      "MS - Fold 4:  95%|▉| 2837/3000 [02:20<00:08, 20.25it/s, loss=0.194, test_loss=0.\n"
     ]
    },
    {
     "name": "stdout",
     "output_type": "stream",
     "text": [
      "Mean Accuracy (MS): 0.9882\n",
      "Mean Sensitivity (MS): 0.9830\n",
      "Mean Specificity (MS): 0.9953\n",
      "Mean AUC (MS): 0.9997\n",
      "Working on IAA dataset: 279 samples\n"
     ]
    },
    {
     "name": "stderr",
     "output_type": "stream",
     "text": [
      "IAA - Fold 0:  43%|▍| 1297/3000 [00:35<00:46, 36.62it/s, loss=0.225, test_loss=0\n",
      "IAA - Fold 1: 100%|█| 3000/3000 [01:21<00:00, 36.62it/s, loss=0.183, test_loss=0\n",
      "IAA - Fold 2:  74%|▋| 2230/3000 [01:01<00:21, 36.55it/s, loss=0.189, test_loss=0\n",
      "IAA - Fold 3:  67%|▋| 2006/3000 [00:54<00:26, 36.98it/s, loss=0.157, test_loss=0\n",
      "IAA - Fold 4:  73%|▋| 2176/3000 [00:59<00:22, 36.62it/s, loss=0.175, test_loss=0"
     ]
    },
    {
     "name": "stdout",
     "output_type": "stream",
     "text": [
      "Mean Accuracy (IAA): 0.8996\n",
      "Mean Sensitivity (IAA): 0.5846\n",
      "Mean Specificity (IAA): 0.9953\n",
      "Mean AUC (IAA): 0.9781\n"
     ]
    },
    {
     "name": "stderr",
     "output_type": "stream",
     "text": [
      "\n"
     ]
    }
   ],
   "source": [
    "# 模型参数设置\n",
    "def init_model():\n",
    "    ins_num = 100\n",
    "    drop_out = 0.5\n",
    "    return AotoY(ins_num, drop_out)\n",
    "\n",
    "sys.path.append('../')\n",
    "from python_codes.pytorchtools import EarlyStopping\n",
    "\n",
    "# 读取氨基酸特征文件\n",
    "aa_file = \"../Data/PCA15.txt\"\n",
    "aa_vectors = get_features(aa_file)  # 请确保 get_features 函数正确读取文件\n",
    "\n",
    "# 四种自免疫疾病\n",
    "disease_list = [\"RA\", \"T1D\", \"MS\", \"IAA\"]\n",
    "\n",
    "# 5折交叉验证\n",
    "k_fold = 5\n",
    "kf = KFold(n_splits=k_fold, shuffle=True, random_state=42)\n",
    "\n",
    "# 总轮次\n",
    "NUM_EPOCHES = 3000\n",
    "# 设置早停的耐心值\n",
    "PATIENCE = 300\n",
    "device = \"cuda\"\n",
    "\n",
    "# 存储每一折的性能指标\n",
    "all_accuracies = []\n",
    "all_sensitivities = []\n",
    "all_specificities = []\n",
    "all_aucs = []\n",
    "\n",
    "for _ in range(10):  # 循环20次\n",
    "    results = []\n",
    "    results_ROC = []\n",
    "\n",
    "    for disease_name in disease_list:\n",
    "        data_dir = f'../Data/{disease_name}'\n",
    "        training_data, training_labels = load_data(data_dir)\n",
    "        print(f\"Working on {disease_name} dataset: {len(training_data)} samples\")\n",
    "\n",
    "        all_preds = []\n",
    "        all_labels = []\n",
    "\n",
    "        # 分成5折\n",
    "        for fold, (train_idx, test_idx) in enumerate(kf.split(training_data)):\n",
    "            train_data = [training_data[i] for i in train_idx]\n",
    "            train_labels = [training_labels[i] for i in train_idx]\n",
    "            test_data = [training_data[i] for i in test_idx]\n",
    "            test_labels = [training_labels[i] for i in test_idx]\n",
    "\n",
    "            # 训练集和测试集固定后，再将训练集划分为训练集和验证集\n",
    "            train_data, valid_data, train_labels, valid_labels = train_test_split(train_data, train_labels, test_size=0.2, random_state=1234)\n",
    "\n",
    "            train_input_batch, train_label_batch = generate_input(train_data, train_labels, aa_vectors, 15, 100, 24)\n",
    "            train_input_batch, train_label_batch = torch.Tensor(train_input_batch).to(torch.device(\"cuda\")), torch.LongTensor(train_label_batch).to(torch.device(\"cuda\"))\n",
    "\n",
    "            valid_input_batch, valid_label_batch = generate_input(valid_data, valid_labels, aa_vectors, 15, 100, 24)\n",
    "            valid_input_batch, valid_label_batch = torch.Tensor(valid_input_batch).to(torch.device(\"cuda\")), torch.LongTensor(valid_label_batch).to(torch.device(\"cuda\"))\n",
    "            test_input_batch, test_label_batch = generate_input(test_data, test_labels, aa_vectors, 15, 100, 24)\n",
    "            test_input_batch, test_label_batch = torch.Tensor(test_input_batch).to(torch.device(\"cuda\")), torch.LongTensor(test_label_batch).to(torch.device(\"cuda\"))\n",
    "\n",
    "            train_dataset = Data.TensorDataset(train_input_batch, train_label_batch)\n",
    "            valid_dataset = Data.TensorDataset(valid_input_batch, valid_label_batch)\n",
    "            test_dataset = Data.TensorDataset(test_input_batch, test_label_batch)\n",
    "\n",
    "            train_loader = Data.DataLoader(train_dataset, len(train_input_batch), True)\n",
    "            valid_loader = Data.DataLoader(valid_dataset, len(valid_input_batch), True)\n",
    "            test_loader = Data.DataLoader(test_dataset, len(test_input_batch), True)\n",
    "\n",
    "            model = init_model().to(device)\n",
    "            criterion = nn.CrossEntropyLoss()\n",
    "            optimizer = optim.Adam(model.parameters(), lr=0.0005)\n",
    "\n",
    "            train(fold, model, criterion, optimizer, train_loader, valid_loader, epoches=NUM_EPOCHES, device=device)\n",
    "            # 在测试集上进行最终评估\n",
    "            _, preds, labels = evaluate(model, criterion, test_loader, device=device)\n",
    "            all_preds += preds\n",
    "            all_labels += labels\n",
    "\n",
    "        all_preds = np.concatenate(all_preds, axis=0)\n",
    "        all_labels = np.concatenate(all_labels, axis=0)\n",
    "\n",
    "        accuracy, sensitivity, specificity, auc = metrics(all_preds, all_labels)\n",
    "        print(f\"Mean Accuracy ({disease_name}): {accuracy:.4f}\")\n",
    "        print(f\"Mean Sensitivity ({disease_name}): {sensitivity:.4f}\")\n",
    "        print(f\"Mean Specificity ({disease_name}): {specificity:.4f}\")\n",
    "        print(f\"Mean AUC ({disease_name}): {auc:.4f}\")\n",
    "\n",
    "        results.append({\n",
    "            'disease': disease_name,\n",
    "            'accuracy': accuracy,\n",
    "            'sensitivity': sensitivity,\n",
    "            'specificity': specificity,\n",
    "            'auc': auc\n",
    "        })\n",
    "\n",
    "        results_ROC.append({\n",
    "            'disease': disease_name,\n",
    "            'auc': auc,\n",
    "            'all_preds': all_preds,\n",
    "            'all_labels': all_labels\n",
    "        })\n",
    "\n",
    "    # 将本次循环的性能指标值添加到列表中\n",
    "    all_accuracies.append([result['accuracy'] for result in results])\n",
    "    all_sensitivities.append([result['sensitivity'] for result in results])\n",
    "    all_specificities.append([result['specificity'] for result in results])\n",
    "    all_aucs.append([result['auc'] for result in results])\n"
   ]
  },
  {
   "cell_type": "code",
   "execution_count": 3,
   "id": "ae4892f5",
   "metadata": {},
   "outputs": [
    {
     "name": "stdout",
     "output_type": "stream",
     "text": [
      "Mean Accuracy (RA): 0.8348, Variance: 0.0002\n",
      "Mean Sensitivity (RA): 0.5583, Variance: 0.0030\n",
      "Mean Specificity (RA): 0.9743, Variance: 0.0001\n",
      "Mean AUC (RA): 0.9237, Variance: 0.0005\n",
      "Mean Accuracy (T1D): 0.9659, Variance: 0.0001\n",
      "Mean Sensitivity (T1D): 0.9320, Variance: 0.0003\n",
      "Mean Specificity (T1D): 0.9972, Variance: 0.0000\n",
      "Mean AUC (T1D): 0.9982, Variance: 0.0000\n",
      "Mean Accuracy (MS): 0.9691, Variance: 0.0015\n",
      "Mean Sensitivity (MS): 0.9551, Variance: 0.0042\n",
      "Mean Specificity (MS): 0.9883, Variance: 0.0002\n",
      "Mean AUC (MS): 0.9959, Variance: 0.0000\n",
      "Mean Accuracy (IAA): 0.9075, Variance: 0.0002\n",
      "Mean Sensitivity (IAA): 0.6308, Variance: 0.0056\n",
      "Mean Specificity (IAA): 0.9916, Variance: 0.0001\n",
      "Mean AUC (IAA): 0.9716, Variance: 0.0001\n"
     ]
    }
   ],
   "source": [
    "# 计算性能指标的均值和方差\n",
    "mean_accuracy = np.mean(all_accuracies, axis=0)\n",
    "mean_sensitivity = np.mean(all_sensitivities, axis=0)\n",
    "mean_specificity = np.mean(all_specificities, axis=0)\n",
    "mean_auc = np.mean(all_aucs, axis=0)\n",
    "\n",
    "variance_accuracy = np.var(all_accuracies, axis=0)\n",
    "variance_sensitivity = np.var(all_sensitivities, axis=0)\n",
    "variance_specificity = np.var(all_specificities, axis=0)\n",
    "variance_auc = np.var(all_aucs, axis=0)\n",
    "\n",
    "\n",
    "\n",
    "\n",
    "# 打印均值和方差\n",
    "for idx, disease_name in enumerate(disease_list):\n",
    "    print(f\"Mean Accuracy ({disease_name}): {mean_accuracy[idx]:.4f}, Variance: {variance_accuracy[idx]:.4f}\")\n",
    "    print(f\"Mean Sensitivity ({disease_name}): {mean_sensitivity[idx]:.4f}, Variance: {variance_sensitivity[idx]:.4f}\")\n",
    "    print(f\"Mean Specificity ({disease_name}): {mean_specificity[idx]:.4f}, Variance: {variance_specificity[idx]:.4f}\")\n",
    "    print(f\"Mean AUC ({disease_name}): {mean_auc[idx]:.4f}, Variance: {variance_auc[idx]:.4f}\")\n"
   ]
  },
  {
   "cell_type": "code",
   "execution_count": 4,
   "id": "023833a3",
   "metadata": {},
   "outputs": [
    {
     "name": "stdout",
     "output_type": "stream",
     "text": [
      "Mean Accuracy (RA): 0.8348, Statistics: 0.0154\n",
      "Mean Sensitivity (RA): 0.5583, Statistics: 0.0543\n",
      "Mean Specificity (RA): 0.9743, Statistics: 0.0099\n",
      "Mean AUC (RA): 0.9237, Statistics: 0.0214\n",
      "Mean Accuracy (T1D): 0.9659, Statistics: 0.0072\n",
      "Mean Sensitivity (T1D): 0.9320, Statistics: 0.0167\n",
      "Mean Specificity (T1D): 0.9972, Statistics: 0.0037\n",
      "Mean AUC (T1D): 0.9982, Statistics: 0.0012\n",
      "Mean Accuracy (MS): 0.9691, Statistics: 0.0386\n",
      "Mean Sensitivity (MS): 0.9551, Statistics: 0.0650\n",
      "Mean Specificity (MS): 0.9883, Statistics: 0.0131\n",
      "Mean AUC (MS): 0.9959, Statistics: 0.0068\n",
      "Mean Accuracy (IAA): 0.9075, Statistics: 0.0139\n",
      "Mean Sensitivity (IAA): 0.6308, Statistics: 0.0751\n",
      "Mean Specificity (IAA): 0.9916, Statistics: 0.0093\n",
      "Mean AUC (IAA): 0.9716, Statistics: 0.0101\n"
     ]
    }
   ],
   "source": [
    "# 计算性能指标的均值和标准差\n",
    "mean_accuracy = np.mean(all_accuracies, axis=0)\n",
    "mean_sensitivity = np.mean(all_sensitivities, axis=0)\n",
    "mean_specificity = np.mean(all_specificities, axis=0)\n",
    "mean_auc = np.mean(all_aucs, axis=0)\n",
    "\n",
    "Statistics_accuracy = np.std(all_accuracies, axis=0)\n",
    "Statistics_sensitivity = np.std(all_sensitivities, axis=0)\n",
    "Statistics_specificity = np.std(all_specificities, axis=0)\n",
    "Statistics_auc = np.std(all_aucs, axis=0)\n",
    "\n",
    "# 打印均值和标准差\n",
    "for idx, disease_name in enumerate(disease_list):\n",
    "    print(f\"Mean Accuracy ({disease_name}): {mean_accuracy[idx]:.4f}, Statistics: {Statistics_accuracy[idx]:.4f}\")\n",
    "    print(f\"Mean Sensitivity ({disease_name}): {mean_sensitivity[idx]:.4f}, Statistics: {Statistics_sensitivity[idx]:.4f}\")\n",
    "    print(f\"Mean Specificity ({disease_name}): {mean_specificity[idx]:.4f}, Statistics: {Statistics_specificity[idx]:.4f}\")\n",
    "    print(f\"Mean AUC ({disease_name}): {mean_auc[idx]:.4f}, Statistics: {Statistics_auc[idx]:.4f}\")\n"
   ]
  },
  {
   "cell_type": "code",
   "execution_count": 5,
   "id": "3f971e72",
   "metadata": {},
   "outputs": [
    {
     "name": "stdout",
     "output_type": "stream",
     "text": [
      "Mean Accuracy (RA): 0.8348, Statistics: 0.0154\n",
      "Mean Sensitivity (RA): 0.5583, Statistics: 0.0543\n",
      "Mean Specificity (RA): 0.9743, Statistics: 0.0099\n",
      "Mean AUC (RA): 0.9237, Statistics: 0.0214\n",
      "Mean Accuracy (T1D): 0.9659, Statistics: 0.0072\n",
      "Mean Sensitivity (T1D): 0.9320, Statistics: 0.0167\n",
      "Mean Specificity (T1D): 0.9972, Statistics: 0.0037\n",
      "Mean AUC (T1D): 0.9982, Statistics: 0.0012\n",
      "Mean Accuracy (MS): 0.9691, Statistics: 0.0386\n",
      "Mean Sensitivity (MS): 0.9551, Statistics: 0.0650\n",
      "Mean Specificity (MS): 0.9883, Statistics: 0.0131\n",
      "Mean AUC (MS): 0.9959, Statistics: 0.0068\n",
      "Mean Accuracy (IAA): 0.9075, Statistics: 0.0139\n",
      "Mean Sensitivity (IAA): 0.6308, Statistics: 0.0751\n",
      "Mean Specificity (IAA): 0.9916, Statistics: 0.0093\n",
      "Mean AUC (IAA): 0.9716, Statistics: 0.0101\n"
     ]
    }
   ],
   "source": [
    "# 计算性能指标的均值和标准差\n",
    "mean_accuracy = np.mean(all_accuracies, axis=0)\n",
    "mean_sensitivity = np.mean(all_sensitivities, axis=0)\n",
    "mean_specificity = np.mean(all_specificities, axis=0)\n",
    "mean_auc = np.mean(all_aucs, axis=0)\n",
    "\n",
    "Statistics_accuracy =np.sqrt(np.var(all_accuracies, axis=0)) \n",
    "Statistics_sensitivity = np.sqrt(np.var(all_sensitivities, axis=0))\n",
    "Statistics_specificity = np.sqrt(np.var(all_specificities, axis=0))\n",
    "Statistics_auc = np.sqrt(np.var(all_aucs, axis=0))\n",
    "\n",
    "# 打印均值和标准差\n",
    "for idx, disease_name in enumerate(disease_list):\n",
    "    print(f\"Mean Accuracy ({disease_name}): {mean_accuracy[idx]:.4f}, Statistics: {Statistics_accuracy[idx]:.4f}\")\n",
    "    print(f\"Mean Sensitivity ({disease_name}): {mean_sensitivity[idx]:.4f}, Statistics: {Statistics_sensitivity[idx]:.4f}\")\n",
    "    print(f\"Mean Specificity ({disease_name}): {mean_specificity[idx]:.4f}, Statistics: {Statistics_specificity[idx]:.4f}\")\n",
    "    print(f\"Mean AUC ({disease_name}): {mean_auc[idx]:.4f}, Statistics: {Statistics_auc[idx]:.4f}\")\n"
   ]
  }
 ],
 "metadata": {
  "kernelspec": {
   "display_name": "Python 3 (ipykernel)",
   "language": "python",
   "name": "python3"
  },
  "language_info": {
   "codemirror_mode": {
    "name": "ipython",
    "version": 3
   },
   "file_extension": ".py",
   "mimetype": "text/x-python",
   "name": "python",
   "nbconvert_exporter": "python",
   "pygments_lexer": "ipython3",
   "version": "3.10.10"
  }
 },
 "nbformat": 4,
 "nbformat_minor": 5
}
