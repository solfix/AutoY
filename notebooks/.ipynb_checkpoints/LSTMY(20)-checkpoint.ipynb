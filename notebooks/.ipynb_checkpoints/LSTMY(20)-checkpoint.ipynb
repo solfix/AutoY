{
 "cells": [
  {
   "cell_type": "code",
   "execution_count": 1,
   "id": "64acd746",
   "metadata": {},
   "outputs": [],
   "source": [
    "import os\n",
    "import sys\n",
    "import torch\n",
    "import torch.nn as nn\n",
    "import torch.nn.functional as F\n",
    "import torch.optim as optim\n",
    "import torch.utils.data as Data\n",
    "import numpy as np\n",
    "import pandas as pd\n",
    "import time\n",
    "from sklearn.model_selection import KFold\n",
    "import matplotlib.pyplot as plt\n",
    "import seaborn as sns\n",
    "from sparsemax import Sparsemax\n",
    "from sklearn.metrics import accuracy_score, confusion_matrix, roc_auc_score, roc_curve, auc, recall_score\n",
    "from sklearn.model_selection import train_test_split\n",
    "\n",
    "class DotProductScore(nn.Module):\n",
    "    def __init__(self, hidden_size):\n",
    "        super(DotProductScore, self).__init__()\n",
    "        # 定义可学习的参数 q，使用 nn.Parameter 将其注册为模型参数\n",
    "        # q 是一个二维张量，形状为 (hidden_size, 1)，表示注意力分数的权重\n",
    "        self.q = nn.Parameter(torch.empty(size=(hidden_size, 1), dtype=torch.float32))\n",
    "        # 初始化权重\n",
    "        self.init_weights()\n",
    "        \n",
    "    def init_weights(self):\n",
    "        # 初始化权重的范围\n",
    "        initrange = 0.5\n",
    "        # 用均匀分布填充参数 q 的数据\n",
    "        self.q.data.uniform_(-initrange, initrange)\n",
    "\n",
    "    def forward(self, inputs):\n",
    "        \"\"\"\n",
    "        输入：\n",
    "            - X：输入矩阵，inputs=[batch_size,seq_length,hidden_size]\n",
    "        输出：\n",
    "            - scores：输出矩阵，shape=[batch_size, seq_length]\n",
    "        \"\"\"\n",
    "        # 计算注意力分数，使用点积注意力\n",
    "        scores = torch.matmul(inputs, self.q)\n",
    "        \n",
    "        # 压缩张量的最后一个维度，将其从 (batch_size, seq_length, 1) 变为 (batch_size, seq_length)\n",
    "        scores = scores.squeeze(-1)\n",
    "        \n",
    "        return scores\n",
    "\n",
    "class Attention(nn.Module):\n",
    "    def __init__(self, hidden_size):\n",
    "        super(Attention, self).__init__()\n",
    "        self.scores = DotProductScore(hidden_size)\n",
    "        self.sparsemax = Sparsemax(dim=1)\n",
    "\n",
    "    def forward(self, X, valid_lens):\n",
    "        scores = self.scores(X)\n",
    "        arrange = torch.arange(X.size(1), dtype=torch.float32, device=X.device).unsqueeze(0)\n",
    "        mask = (arrange < valid_lens.unsqueeze(-1)).float()\n",
    "        scores = scores * mask - (1 - mask) * 1e9\n",
    "        attention_weights = nn.functional.softmax(scores, dim=-1)  # 保留 Softmax 用于计算注意力权重\n",
    "        attention_weights = self.sparsemax(attention_weights)\n",
    "        out = torch.matmul(attention_weights.unsqueeze(1), X).squeeze(1)\n",
    "        \n",
    "        return out\n",
    "\n",
    "class ModelLSTMAttention(nn.Module):\n",
    "    def __init__(self, input_size, hidden_size, output_size, num_layers, dropout, ins_num):\n",
    "        super(ModelLSTMAttention, self).__init__()\n",
    "        self.ins_num = ins_num\n",
    "        \n",
    "        self.lstm = nn.LSTM(input_size, hidden_size, num_layers, batch_first=True, dropout=dropout, bidirectional=True)\n",
    "        \n",
    "        self.attention = Attention(hidden_size * 2)\n",
    "        \n",
    "        # 添加 Batch Normalization 层\n",
    "        self.bn1 = nn.BatchNorm1d(hidden_size * 2)  # 使用 hidden_size * 2，根据你的模型要求进行调整\n",
    "        self.dropout = nn.Dropout(p=dropout)\n",
    "        self.fc = nn.Linear(hidden_size * 2, output_size)\n",
    "        self.dropout = nn.Dropout(p=dropout)\n",
    "        self.fc_1 = nn.Linear(self.ins_num, 1)\n",
    "        self.dropout = nn.Dropout(p=dropout)\n",
    "        \n",
    "    def forward(self, seq, valid_lens):\n",
    "        \n",
    "        output, _ = self.lstm(seq)\n",
    "        valid_lens = valid_lens.view(-1,).to(device)\n",
    "        out = self.attention(output, valid_lens)\n",
    "       \n",
    "        # 应用 Batch Normalization\n",
    "        out = self.bn1(out)\n",
    "        out = self.dropout(out)\n",
    "        out = self.fc(out)\n",
    "        out = self.dropout(out)\n",
    "        out = out.reshape(-1, self.ins_num)\n",
    "        out = self.fc_1(out)\n",
    "        out = self.dropout(out)\n",
    "        \n",
    "        return out\n",
    "\n",
    "# 读取 TSV 文件并提取指定列的信息\n",
    "def read_tsv(filename, inf_ind, skip_1st=False, file_encoding=\"utf8\"):\n",
    "    extract_inf = []\n",
    "    with open(filename, \"r\", encoding=file_encoding) as tsv_f:\n",
    "        if skip_1st:\n",
    "            tsv_f.readline()\n",
    "        line = tsv_f.readline()\n",
    "        while line:\n",
    "            line_list = line.strip().split(\"\\t\")\n",
    "            temp_inf = [line_list[ind] for ind in inf_ind]\n",
    "            extract_inf.append(temp_inf)\n",
    "            line = tsv_f.readline()\n",
    "    return extract_inf\n",
    "\n",
    "# 读取氨基酸特征文件并生成特征字典\n",
    "def get_features(filename, f_num=15):\n",
    "    f_list = read_tsv(filename, list(range(16)), True)\n",
    "    f_dict = {}\n",
    "    left_num = 0\n",
    "    right_num = 0\n",
    "    if f_num > 15:\n",
    "        left_num = (f_num - 15) // 2\n",
    "        right_num = f_num - 15 - left_num\n",
    "    for f in f_list:\n",
    "        f_dict[f[0]] = [0] * left_num + [float(x) for x in f[1:]] + [0] * right_num\n",
    "    f_dict[\"X\"] = [0] * f_num\n",
    "    return f_dict\n",
    "\n",
    "def generate_input(sps, sp_lbs, feature_dict, feature_num, ins_num, max_len):\n",
    "    # 用于存储输入数据、标签和序列长度的列表\n",
    "    xs, ys, lens = [], [], []\n",
    "\n",
    "    # 遍历每个样本（sp表示样本）\n",
    "    for i, sp in enumerate(sps):\n",
    "        # 添加样本的标签\n",
    "        ys.append(sp_lbs[i])\n",
    "\n",
    "        # 将每条序列的原始长度添加到列表中，空序列用0填充\n",
    "        lens.extend([len(tcr[0]) if tcr[0] else 0 for tcr in sp])\n",
    "\n",
    "    # 确保序列数量为 ins_num\n",
    "    while len(lens) % ins_num != 0:\n",
    "        lens = np.concatenate((lens, np.array([0])))  # 添加一个空序列\n",
    "\n",
    "    # 将 lens 转换为 NumPy 数组，为了后续的维度调整\n",
    "    lens = np.array(lens)\n",
    "\n",
    "    # 将 lens 调整为正确的形状\n",
    "    lens = lens.reshape(-1, ins_num)\n",
    "\n",
    "    # 检查是否有缺失的样本，如果有则进行填充\n",
    "    while lens.shape[0] < len(sps):\n",
    "        lens = np.concatenate((lens, np.zeros((1, ins_num))), axis=0)\n",
    "\n",
    "    # 遍历每个样本（sp表示样本）\n",
    "    for i, sp in enumerate(sps):\n",
    "        # 初始化一个3D张量，用于存储特征矩阵，初始值全为0\n",
    "        # 使用列表推导式来确保为每个样本创建一个新的列表\n",
    "        x = [[[0] * feature_num for _ in range(max_len)] for _ in range(ins_num)]\n",
    "\n",
    "        # 遍历样本中的每条序列（tcr表示T细胞受体序列）\n",
    "        seq_count = 0  # 用于计数实际插入的序列数量\n",
    "        for j, tcr in enumerate(sp):\n",
    "            # 获取序列的氨基酸序列\n",
    "            tcr_seq = tcr[0]\n",
    "            # 计算需要填充的右侧数量，以便使序列达到指定的最大长度\n",
    "            right_num = max_len - len(tcr_seq)\n",
    "\n",
    "            # 在氨基酸序列右侧填充'X'，使其达到最大长度\n",
    "            tcr_seq += \"X\" * right_num\n",
    "\n",
    "            # 用于存储氨基酸特征矩阵\n",
    "            tcr_matrix = []\n",
    "\n",
    "            # 遍历氨基酸序列中的每个氨基酸，将其特征添加到矩阵中\n",
    "            for aa in tcr_seq:\n",
    "                tcr_matrix.append(feature_dict[aa.upper()])\n",
    "\n",
    "            # 将填充后的特征矩阵放入3D张量中的相应位置\n",
    "            x[seq_count] = tcr_matrix\n",
    "            seq_count += 1\n",
    "\n",
    "        xs.append(x)\n",
    "\n",
    "    # 将列表转换为NumPy数组\n",
    "    xs = np.array(xs)\n",
    "\n",
    "    # 转换为PyTorch张量，指定数据类型为float32\n",
    "    xs = torch.tensor(xs, dtype=torch.float32)\n",
    "\n",
    "    # 交换张量的维度，将最后两个维度互换\n",
    "    xs = xs.swapaxes(2, 3)\n",
    "\n",
    "    # 将样本标签转换为NumPy数组\n",
    "    ys = np.array(ys)\n",
    "\n",
    "    # 将标签转换为PyTorch张量，指定数据类型为float32，并调整维度\n",
    "    ys = torch.tensor(ys, dtype=torch.float32).view(-1, 1)\n",
    "\n",
    "    # 将序列长度转换为PyTorch张量\n",
    "    lens = torch.tensor(lens, dtype=torch.long)\n",
    "\n",
    "    # 返回生成的输入数据、标签和序列长度\n",
    "\n",
    "    return xs, ys, lens\n",
    "\n",
    "def load_data(sample_dir):\n",
    "    training_data = []\n",
    "    training_labels = []\n",
    "    for sample_file in os.listdir(sample_dir):\n",
    "        # 读取样本数据\n",
    "        training_data.append(read_tsv(os.path.join(sample_dir, sample_file), [0, 1], True))\n",
    "        # 获取样本标签\n",
    "        if \"P\" in sample_file:\n",
    "            training_labels.append(1)\n",
    "        elif \"H\" in sample_file:\n",
    "            training_labels.append(0)\n",
    "        else:\n",
    "            print(\"Wrong sample filename! Please name positive samples with 'P' and negative samples with 'H'.\")\n",
    "            sys.exit(1)\n",
    "        \n",
    "    return training_data, training_labels\n",
    "\n",
    "\n",
    "from tqdm import tqdm\n",
    "def evaluate(model, criterion, test_loader, device='cuda'):\n",
    "    test_total_loss = 0.0\n",
    "    all_preds = []\n",
    "    all_labels = []\n",
    "    \n",
    "    model.eval()\n",
    "    with torch.no_grad():\n",
    "        for test_batch_x, test_batch_y, test_valid_lens in test_loader:\n",
    "            test_batch_x = test_batch_x.view(-1, 24, 15).to(device)\n",
    "            test_batch_y = test_batch_y.to(device)\n",
    "            test_pred = model(test_batch_x, test_valid_lens)\n",
    "\n",
    "            test_loss = criterion(test_pred, test_batch_y)\n",
    "            test_total_loss += test_loss.item()\n",
    "            all_preds.append(test_pred.cpu().numpy())\n",
    "            all_labels.append(test_batch_y.cpu().numpy())\n",
    "            \n",
    "        test_avg_loss = test_total_loss / len(test_loader)\n",
    "        return test_avg_loss, all_preds, all_labels\n",
    "\n",
    "def train(fold, model, criterion, optimizer, train_loader, test_loader, epoches=100, device='cuda'):\n",
    "    \n",
    "    model_path = f'../model(LSTMY)/{disease_name}checkpoint{fold}.pt'  # 修改模型文件的保存路径和命名\n",
    "    early_stopping = EarlyStopping(PATIENCE, path=model_path, verbose=False)\n",
    "    \n",
    "    # 存储训练和测试损失\n",
    "    epoch_train_losses = []\n",
    "    epoch_test_losses = []\n",
    "    with tqdm(total=epoches) as t:\n",
    "        t.set_description(f'{disease_name} - Fold {fold}')  # 添加疾病名称\n",
    "        for epoch in range(epoches):\n",
    "            model.train()\n",
    "            total_loss = 0.0\n",
    "            for batch_x, batch_y, valid_lens in train_loader:\n",
    "                batch_x = batch_x.view(-1, 24, 15).to(device)\n",
    "                batch_y = batch_y.to(device)\n",
    "                pred = model(batch_x, valid_lens)\n",
    "\n",
    "                loss = criterion(pred, batch_y)\n",
    "                optimizer.zero_grad()\n",
    "                loss.backward()\n",
    "                optimizer.step()\n",
    "                total_loss += loss.item()\n",
    "            \n",
    "            # 记录训练损失\n",
    "            avg_loss = total_loss / len(train_loader)\n",
    "            epoch_train_losses.append(avg_loss)\n",
    "            # 记录评估损失\n",
    "            test_avg_loss, _, _ = evaluate(model, criterion, test_loader, device=device)\n",
    "            epoch_test_losses.append(test_avg_loss)\n",
    "            \n",
    "            t.set_postfix(loss=avg_loss, test_loss=test_avg_loss)\n",
    "            t.update(1)\n",
    "            \n",
    "            # 向EarlyStopping类别添加新轮次的损失\n",
    "            early_stopping(test_avg_loss, model)\n",
    "            # 判别是否满足提前退出的条件\n",
    "            if early_stopping.early_stop:\n",
    "                # 恢复训练中的最优模型\n",
    "                model.load_state_dict(torch.load(model_path))\n",
    "                #print('Early stopping')\n",
    "                break\n",
    "def metrics(all_preds, all_labels, threshold=0.5):\n",
    "    # 计算二进制分类指标\n",
    "    binary_preds = (all_preds > threshold).astype(int)\n",
    "    conf_matrix = confusion_matrix(all_labels, binary_preds)\n",
    "    accuracy = accuracy_score(all_labels, binary_preds)\n",
    "    sensitivity = conf_matrix[1, 1] / (conf_matrix[1, 0] + conf_matrix[1, 1])\n",
    "    specificity = conf_matrix[0, 0] / (conf_matrix[0, 0] + conf_matrix[0, 1])\n",
    "    auc = roc_auc_score(all_labels, all_preds)\n",
    "    \n",
    "    return accuracy, sensitivity, specificity, auc"
   ]
  },
  {
   "cell_type": "code",
   "execution_count": 2,
   "id": "9d949168",
   "metadata": {
    "scrolled": true
   },
   "outputs": [
    {
     "name": "stdout",
     "output_type": "stream",
     "text": [
      "Working on RA dataset: 322 samples\n"
     ]
    },
    {
     "name": "stderr",
     "output_type": "stream",
     "text": [
      "RA - Fold 0:  60%|▌| 1191/2000 [01:35<01:04, 12.53it/s, loss=0.421, test_loss=0.\n",
      "RA - Fold 1:  71%|▋| 1425/2000 [02:09<00:52, 10.99it/s, loss=0.424, test_loss=0.\n",
      "RA - Fold 2:  47%|▍| 942/2000 [01:25<01:36, 10.97it/s, loss=0.407, test_loss=0.4\n",
      "RA - Fold 3:  59%|▌| 1177/2000 [01:48<01:16, 10.81it/s, loss=0.394, test_loss=0.\n",
      "RA - Fold 4:  36%|▎| 718/2000 [01:05<01:57, 10.92it/s, loss=0.403, test_loss=0.5\n"
     ]
    },
    {
     "name": "stdout",
     "output_type": "stream",
     "text": [
      "Mean Accuracy (RA): 0.7888\n",
      "Mean Sensitivity (RA): 0.4815\n",
      "Mean Specificity (RA): 0.9439\n",
      "Mean AUC (RA): 0.8706\n",
      "Working on T1D dataset: 411 samples\n"
     ]
    },
    {
     "name": "stderr",
     "output_type": "stream",
     "text": [
      "T1D - Fold 0:  75%|▊| 1501/2000 [03:03<01:01,  8.16it/s, loss=0.364, test_loss=0\n",
      "T1D - Fold 1:  57%|▌| 1135/2000 [02:24<01:50,  7.86it/s, loss=0.43, test_loss=0.\n",
      "T1D - Fold 2:  85%|▊| 1706/2000 [03:39<00:37,  7.76it/s, loss=0.509, test_loss=0\n",
      "T1D - Fold 3:  82%|▊| 1630/2000 [03:26<00:46,  7.91it/s, loss=0.441, test_loss=0\n",
      "T1D - Fold 4:  39%|▍| 777/2000 [01:34<02:28,  8.25it/s, loss=0.479, test_loss=0.\n"
     ]
    },
    {
     "name": "stdout",
     "output_type": "stream",
     "text": [
      "Mean Accuracy (T1D): 0.9319\n",
      "Mean Sensitivity (T1D): 0.8782\n",
      "Mean Specificity (T1D): 0.9813\n",
      "Mean AUC (T1D): 0.9834\n",
      "Working on MS dataset: 508 samples\n"
     ]
    },
    {
     "name": "stderr",
     "output_type": "stream",
     "text": [
      "MS - Fold 0:  80%|▊| 1600/2000 [03:53<00:58,  6.85it/s, loss=0.415, test_loss=0.\n",
      "MS - Fold 1:  68%|▋| 1356/2000 [03:22<01:36,  6.68it/s, loss=0.442, test_loss=0.\n",
      "MS - Fold 2:  92%|▉| 1839/2000 [04:35<00:24,  6.68it/s, loss=0.462, test_loss=0.\n",
      "MS - Fold 3:  85%|▊| 1703/2000 [04:18<00:45,  6.58it/s, loss=0.46, test_loss=0.1\n",
      "MS - Fold 4:  69%|▋| 1386/2000 [03:34<01:35,  6.46it/s, loss=0.457, test_loss=0.\n"
     ]
    },
    {
     "name": "stdout",
     "output_type": "stream",
     "text": [
      "Mean Accuracy (MS): 0.9646\n",
      "Mean Sensitivity (MS): 0.9524\n",
      "Mean Specificity (MS): 0.9813\n",
      "Mean AUC (MS): 0.9921\n",
      "Working on IAA dataset: 279 samples\n"
     ]
    },
    {
     "name": "stderr",
     "output_type": "stream",
     "text": [
      "IAA - Fold 0:  71%|▋| 1413/2000 [01:53<00:46, 12.50it/s, loss=0.422, test_loss=0\n",
      "IAA - Fold 1: 100%|█| 2000/2000 [02:34<00:00, 12.92it/s, loss=0.322, test_loss=0\n",
      "IAA - Fold 2:  90%|▉| 1795/2000 [02:16<00:15, 13.13it/s, loss=0.453, test_loss=0\n",
      "IAA - Fold 3:  61%|▌| 1219/2000 [01:32<00:59, 13.16it/s, loss=0.424, test_loss=0\n",
      "IAA - Fold 4:  55%|▌| 1091/2000 [01:24<01:10, 12.93it/s, loss=0.434, test_loss=0\n"
     ]
    },
    {
     "name": "stdout",
     "output_type": "stream",
     "text": [
      "Mean Accuracy (IAA): 0.8961\n",
      "Mean Sensitivity (IAA): 0.5846\n",
      "Mean Specificity (IAA): 0.9907\n",
      "Mean AUC (IAA): 0.9358\n",
      "Working on RA dataset: 322 samples\n"
     ]
    },
    {
     "name": "stderr",
     "output_type": "stream",
     "text": [
      "RA - Fold 0:  85%|▊| 1694/2000 [02:35<00:28, 10.89it/s, loss=0.448, test_loss=0.\n",
      "RA - Fold 1:  69%|▋| 1383/2000 [02:10<00:58, 10.61it/s, loss=0.38, test_loss=0.6\n",
      "RA - Fold 2:  61%|▌| 1215/2000 [01:52<01:12, 10.77it/s, loss=0.432, test_loss=0.\n",
      "RA - Fold 3:  38%|▍| 764/2000 [01:10<01:54, 10.80it/s, loss=0.484, test_loss=0.4\n",
      "RA - Fold 4:  37%|▎| 743/2000 [01:10<01:59, 10.56it/s, loss=0.436, test_loss=0.4\n"
     ]
    },
    {
     "name": "stdout",
     "output_type": "stream",
     "text": [
      "Mean Accuracy (RA): 0.7671\n",
      "Mean Sensitivity (RA): 0.4630\n",
      "Mean Specificity (RA): 0.9206\n",
      "Mean AUC (RA): 0.8411\n",
      "Working on T1D dataset: 411 samples\n"
     ]
    },
    {
     "name": "stderr",
     "output_type": "stream",
     "text": [
      "T1D - Fold 0:  48%|▍| 956/2000 [02:01<02:12,  7.89it/s, loss=0.394, test_loss=0.\n",
      "T1D - Fold 1:  38%|▍| 754/2000 [01:38<02:43,  7.64it/s, loss=0.404, test_loss=0.\n",
      "T1D - Fold 2:  58%|▌| 1158/2000 [02:31<01:50,  7.65it/s, loss=0.433, test_loss=0\n",
      "T1D - Fold 3:  90%|▉| 1792/2000 [03:49<00:26,  7.80it/s, loss=0.418, test_loss=0\n",
      "T1D - Fold 4:  52%|▌| 1039/2000 [02:06<01:56,  8.22it/s, loss=0.404, test_loss=0\n"
     ]
    },
    {
     "name": "stdout",
     "output_type": "stream",
     "text": [
      "Mean Accuracy (T1D): 0.9343\n",
      "Mean Sensitivity (T1D): 0.8832\n",
      "Mean Specificity (T1D): 0.9813\n",
      "Mean AUC (T1D): 0.9747\n",
      "Working on MS dataset: 508 samples\n"
     ]
    },
    {
     "name": "stderr",
     "output_type": "stream",
     "text": [
      "MS - Fold 0:  74%|▋| 1481/2000 [03:37<01:16,  6.80it/s, loss=0.392, test_loss=0.\n",
      "MS - Fold 1:  79%|▊| 1586/2000 [03:53<01:00,  6.80it/s, loss=0.397, test_loss=0.\n",
      "MS - Fold 2:  63%|▋| 1258/2000 [03:08<01:50,  6.69it/s, loss=0.599, test_loss=0.\n",
      "MS - Fold 3:  46%|▍| 924/2000 [02:17<02:39,  6.73it/s, loss=0.431, test_loss=0.1\n",
      "MS - Fold 4:  70%|▋| 1408/2000 [03:37<01:31,  6.46it/s, loss=0.401, test_loss=0.\n"
     ]
    },
    {
     "name": "stdout",
     "output_type": "stream",
     "text": [
      "Mean Accuracy (MS): 0.9783\n",
      "Mean Sensitivity (MS): 0.9762\n",
      "Mean Specificity (MS): 0.9813\n",
      "Mean AUC (MS): 0.9947\n",
      "Working on IAA dataset: 279 samples\n"
     ]
    },
    {
     "name": "stderr",
     "output_type": "stream",
     "text": [
      "IAA - Fold 0:  74%|▋| 1477/2000 [01:57<00:41, 12.59it/s, loss=0.432, test_loss=0\n",
      "IAA - Fold 1:  87%|▊| 1733/2000 [02:16<00:21, 12.65it/s, loss=0.411, test_loss=0\n",
      "IAA - Fold 2:  92%|▉| 1845/2000 [02:26<00:12, 12.60it/s, loss=0.42, test_loss=0.\n",
      "IAA - Fold 3:  78%|▊| 1558/2000 [02:03<00:34, 12.65it/s, loss=0.426, test_loss=0\n",
      "IAA - Fold 4:  78%|▊| 1561/2000 [01:59<00:33, 13.07it/s, loss=0.448, test_loss=0\n"
     ]
    },
    {
     "name": "stdout",
     "output_type": "stream",
     "text": [
      "Mean Accuracy (IAA): 0.9140\n",
      "Mean Sensitivity (IAA): 0.7077\n",
      "Mean Specificity (IAA): 0.9766\n",
      "Mean AUC (IAA): 0.9597\n",
      "Working on RA dataset: 322 samples\n"
     ]
    },
    {
     "name": "stderr",
     "output_type": "stream",
     "text": [
      "RA - Fold 0:  24%|▏| 487/2000 [00:43<02:16, 11.11it/s, loss=0.533, test_loss=0.7\n",
      "RA - Fold 1:  59%|▌| 1174/2000 [01:46<01:14, 11.02it/s, loss=0.451, test_loss=0.\n",
      "RA - Fold 2:  45%|▍| 909/2000 [01:23<01:40, 10.83it/s, loss=0.482, test_loss=0.4\n",
      "RA - Fold 3:  46%|▍| 923/2000 [01:25<01:39, 10.84it/s, loss=0.416, test_loss=0.8\n",
      "RA - Fold 4:  60%|▌| 1208/2000 [01:51<01:13, 10.81it/s, loss=0.433, test_loss=0.\n"
     ]
    },
    {
     "name": "stdout",
     "output_type": "stream",
     "text": [
      "Mean Accuracy (RA): 0.7795\n",
      "Mean Sensitivity (RA): 0.3796\n",
      "Mean Specificity (RA): 0.9813\n",
      "Mean AUC (RA): 0.8490\n",
      "Working on T1D dataset: 411 samples\n"
     ]
    },
    {
     "name": "stderr",
     "output_type": "stream",
     "text": [
      "T1D - Fold 0:  60%|▌| 1206/2000 [02:28<01:37,  8.14it/s, loss=0.415, test_loss=0\n",
      "T1D - Fold 1:  62%|▌| 1248/2000 [02:34<01:33,  8.08it/s, loss=0.422, test_loss=0\n",
      "T1D - Fold 2:  59%|▌| 1174/2000 [02:24<01:41,  8.14it/s, loss=0.392, test_loss=0\n",
      "T1D - Fold 3:  69%|▋| 1372/2000 [02:55<01:20,  7.84it/s, loss=0.366, test_loss=0\n",
      "T1D - Fold 4:  63%|▋| 1260/2000 [02:41<01:34,  7.82it/s, loss=0.487, test_loss=0\n"
     ]
    },
    {
     "name": "stdout",
     "output_type": "stream",
     "text": [
      "Mean Accuracy (T1D): 0.9538\n",
      "Mean Sensitivity (T1D): 0.9188\n",
      "Mean Specificity (T1D): 0.9860\n",
      "Mean AUC (T1D): 0.9897\n",
      "Working on MS dataset: 508 samples\n"
     ]
    },
    {
     "name": "stderr",
     "output_type": "stream",
     "text": [
      "MS - Fold 0:  69%|▋| 1375/2000 [03:32<01:36,  6.46it/s, loss=0.412, test_loss=0.\n",
      "MS - Fold 1:  91%|▉| 1816/2000 [04:27<00:27,  6.79it/s, loss=0.472, test_loss=0.\n",
      "MS - Fold 2:  82%|▊| 1634/2000 [04:01<00:54,  6.78it/s, loss=0.415, test_loss=0.\n",
      "MS - Fold 3:  81%|▊| 1626/2000 [04:02<00:55,  6.70it/s, loss=0.392, test_loss=0.\n",
      "MS - Fold 4:  78%|▊| 1555/2000 [03:50<01:06,  6.74it/s, loss=0.466, test_loss=0.\n"
     ]
    },
    {
     "name": "stdout",
     "output_type": "stream",
     "text": [
      "Mean Accuracy (MS): 0.9705\n",
      "Mean Sensitivity (MS): 0.9694\n",
      "Mean Specificity (MS): 0.9720\n",
      "Mean AUC (MS): 0.9938\n",
      "Working on IAA dataset: 279 samples\n"
     ]
    },
    {
     "name": "stderr",
     "output_type": "stream",
     "text": [
      "IAA - Fold 0: 100%|█| 2000/2000 [02:38<00:00, 12.60it/s, loss=0.444, test_loss=0\n",
      "IAA - Fold 1:  82%|▊| 1631/2000 [02:08<00:29, 12.65it/s, loss=0.459, test_loss=0\n",
      "IAA - Fold 2:  61%|▌| 1228/2000 [01:36<01:00, 12.75it/s, loss=0.389, test_loss=0\n",
      "IAA - Fold 3:  50%|▍| 999/2000 [01:18<01:18, 12.69it/s, loss=0.412, test_loss=0.\n",
      "IAA - Fold 4:  55%|▌| 1102/2000 [01:28<01:12, 12.40it/s, loss=0.445, test_loss=0\n"
     ]
    },
    {
     "name": "stdout",
     "output_type": "stream",
     "text": [
      "Mean Accuracy (IAA): 0.9104\n",
      "Mean Sensitivity (IAA): 0.6462\n",
      "Mean Specificity (IAA): 0.9907\n",
      "Mean AUC (IAA): 0.9725\n",
      "Working on RA dataset: 322 samples\n"
     ]
    },
    {
     "name": "stderr",
     "output_type": "stream",
     "text": [
      "RA - Fold 0:  58%|▌| 1162/2000 [01:51<01:20, 10.39it/s, loss=0.43, test_loss=2.1\n",
      "RA - Fold 1:  69%|▋| 1374/2000 [02:03<00:56, 11.09it/s, loss=0.443, test_loss=0.\n",
      "RA - Fold 2:  70%|▋| 1406/2000 [02:07<00:53, 11.02it/s, loss=0.387, test_loss=0.\n",
      "RA - Fold 3:  73%|▋| 1460/2000 [02:14<00:49, 10.86it/s, loss=0.398, test_loss=0.\n",
      "RA - Fold 4:  66%|▋| 1327/2000 [02:01<01:01, 10.91it/s, loss=0.353, test_loss=0.\n"
     ]
    },
    {
     "name": "stdout",
     "output_type": "stream",
     "text": [
      "Mean Accuracy (RA): 0.8043\n",
      "Mean Sensitivity (RA): 0.5370\n",
      "Mean Specificity (RA): 0.9393\n",
      "Mean AUC (RA): 0.8910\n",
      "Working on T1D dataset: 411 samples\n"
     ]
    },
    {
     "name": "stderr",
     "output_type": "stream",
     "text": [
      "T1D - Fold 0:  45%|▍| 899/2000 [01:48<02:13,  8.26it/s, loss=0.462, test_loss=0.\n",
      "T1D - Fold 1:  55%|▌| 1097/2000 [02:14<01:50,  8.16it/s, loss=0.433, test_loss=0\n",
      "T1D - Fold 2:  71%|▋| 1416/2000 [02:51<01:10,  8.27it/s, loss=0.418, test_loss=0\n",
      "T1D - Fold 3:  72%|▋| 1432/2000 [02:57<01:10,  8.06it/s, loss=0.358, test_loss=0\n",
      "T1D - Fold 4:  49%|▍| 981/2000 [02:06<02:11,  7.74it/s, loss=0.434, test_loss=0.\n"
     ]
    },
    {
     "name": "stdout",
     "output_type": "stream",
     "text": [
      "Mean Accuracy (T1D): 0.9173\n",
      "Mean Sensitivity (T1D): 0.8629\n",
      "Mean Specificity (T1D): 0.9673\n",
      "Mean AUC (T1D): 0.9768\n",
      "Working on MS dataset: 508 samples\n"
     ]
    },
    {
     "name": "stderr",
     "output_type": "stream",
     "text": [
      "MS - Fold 0:  79%|▊| 1583/2000 [04:02<01:03,  6.53it/s, loss=0.417, test_loss=0.\n",
      "MS - Fold 1: 100%|█| 2000/2000 [04:54<00:00,  6.79it/s, loss=0.382, test_loss=0.\n",
      "MS - Fold 2:  74%|▋| 1474/2000 [03:33<01:16,  6.92it/s, loss=0.463, test_loss=0.\n",
      "MS - Fold 3:  52%|▌| 1040/2000 [02:34<02:22,  6.73it/s, loss=0.411, test_loss=0.\n",
      "MS - Fold 4: 100%|█| 2000/2000 [04:57<00:00,  6.72it/s, loss=0.423, test_loss=0.\n"
     ]
    },
    {
     "name": "stdout",
     "output_type": "stream",
     "text": [
      "Mean Accuracy (MS): 0.9646\n",
      "Mean Sensitivity (MS): 0.9490\n",
      "Mean Specificity (MS): 0.9860\n",
      "Mean AUC (MS): 0.9935\n",
      "Working on IAA dataset: 279 samples\n"
     ]
    },
    {
     "name": "stderr",
     "output_type": "stream",
     "text": [
      "IAA - Fold 0:  73%|▋| 1451/2000 [01:54<00:43, 12.66it/s, loss=0.416, test_loss=0\n",
      "IAA - Fold 1:  90%|▉| 1807/2000 [02:22<00:15, 12.66it/s, loss=0.444, test_loss=0\n",
      "IAA - Fold 2:  58%|▌| 1167/2000 [01:31<01:05, 12.71it/s, loss=0.375, test_loss=0\n",
      "IAA - Fold 3:  63%|▋| 1255/2000 [01:39<00:58, 12.67it/s, loss=0.391, test_loss=0\n",
      "IAA - Fold 4:  68%|▋| 1355/2000 [01:47<00:51, 12.57it/s, loss=0.429, test_loss=0\n"
     ]
    },
    {
     "name": "stdout",
     "output_type": "stream",
     "text": [
      "Mean Accuracy (IAA): 0.9176\n",
      "Mean Sensitivity (IAA): 0.6615\n",
      "Mean Specificity (IAA): 0.9953\n",
      "Mean AUC (IAA): 0.9587\n",
      "Working on RA dataset: 322 samples\n"
     ]
    },
    {
     "name": "stderr",
     "output_type": "stream",
     "text": [
      "RA - Fold 0:  50%|▌| 1002/2000 [01:37<01:36, 10.32it/s, loss=0.391, test_loss=0.\n",
      "RA - Fold 1:  41%|▍| 824/2000 [01:18<01:52, 10.46it/s, loss=0.398, test_loss=0.7\n",
      "RA - Fold 2:  47%|▍| 948/2000 [01:27<01:37, 10.78it/s, loss=0.41, test_loss=0.38\n",
      "RA - Fold 3:  56%|▌| 1121/2000 [01:41<01:19, 11.07it/s, loss=0.434, test_loss=0.\n",
      "RA - Fold 4:  43%|▍| 861/2000 [01:17<01:42, 11.06it/s, loss=0.435, test_loss=0.5\n"
     ]
    },
    {
     "name": "stdout",
     "output_type": "stream",
     "text": [
      "Mean Accuracy (RA): 0.8292\n",
      "Mean Sensitivity (RA): 0.5741\n",
      "Mean Specificity (RA): 0.9579\n",
      "Mean AUC (RA): 0.9002\n",
      "Working on T1D dataset: 411 samples\n"
     ]
    },
    {
     "name": "stderr",
     "output_type": "stream",
     "text": [
      "T1D - Fold 0:  78%|▊| 1562/2000 [03:08<00:52,  8.29it/s, loss=0.421, test_loss=0\n",
      "T1D - Fold 1:  45%|▍| 903/2000 [01:50<02:13,  8.19it/s, loss=0.454, test_loss=0.\n",
      "T1D - Fold 2:  64%|▋| 1270/2000 [02:33<01:28,  8.29it/s, loss=0.392, test_loss=0\n",
      "T1D - Fold 3:  79%|▊| 1584/2000 [03:11<00:50,  8.28it/s, loss=0.469, test_loss=0\n",
      "T1D - Fold 4:  48%|▍| 956/2000 [01:59<02:10,  7.98it/s, loss=0.463, test_loss=0.\n"
     ]
    },
    {
     "name": "stdout",
     "output_type": "stream",
     "text": [
      "Mean Accuracy (T1D): 0.9173\n",
      "Mean Sensitivity (T1D): 0.8579\n",
      "Mean Specificity (T1D): 0.9720\n",
      "Mean AUC (T1D): 0.9807\n",
      "Working on MS dataset: 508 samples\n"
     ]
    },
    {
     "name": "stderr",
     "output_type": "stream",
     "text": [
      "MS - Fold 0:  61%|▌| 1222/2000 [03:07<01:59,  6.51it/s, loss=0.431, test_loss=0.\n",
      "MS - Fold 1:  74%|▋| 1481/2000 [03:48<01:19,  6.50it/s, loss=0.425, test_loss=0.\n",
      "MS - Fold 2:  98%|▉| 1968/2000 [04:51<00:04,  6.75it/s, loss=0.451, test_loss=0.\n",
      "MS - Fold 3:  96%|▉| 1911/2000 [04:39<00:12,  6.85it/s, loss=0.542, test_loss=0.\n",
      "MS - Fold 4:  71%|▋| 1415/2000 [03:29<01:26,  6.74it/s, loss=0.474, test_loss=0.\n"
     ]
    },
    {
     "name": "stdout",
     "output_type": "stream",
     "text": [
      "Mean Accuracy (MS): 0.9803\n",
      "Mean Sensitivity (MS): 0.9762\n",
      "Mean Specificity (MS): 0.9860\n",
      "Mean AUC (MS): 0.9965\n",
      "Working on IAA dataset: 279 samples\n"
     ]
    },
    {
     "name": "stderr",
     "output_type": "stream",
     "text": [
      "IAA - Fold 0: 100%|█| 2000/2000 [02:36<00:00, 12.77it/s, loss=0.432, test_loss=0\n",
      "IAA - Fold 1:  83%|▊| 1660/2000 [02:11<00:26, 12.67it/s, loss=0.421, test_loss=0\n",
      "IAA - Fold 2: 100%|█| 2000/2000 [02:37<00:00, 12.69it/s, loss=0.405, test_loss=0\n",
      "IAA - Fold 3:  65%|▋| 1307/2000 [01:41<00:53, 12.86it/s, loss=0.39, test_loss=0.\n",
      "IAA - Fold 4:  74%|▋| 1471/2000 [01:56<00:41, 12.64it/s, loss=0.386, test_loss=0\n"
     ]
    },
    {
     "name": "stdout",
     "output_type": "stream",
     "text": [
      "Mean Accuracy (IAA): 0.9319\n",
      "Mean Sensitivity (IAA): 0.7231\n",
      "Mean Specificity (IAA): 0.9953\n",
      "Mean AUC (IAA): 0.9646\n",
      "Working on RA dataset: 322 samples\n"
     ]
    },
    {
     "name": "stderr",
     "output_type": "stream",
     "text": [
      "RA - Fold 0:  68%|▋| 1355/2000 [02:07<01:00, 10.62it/s, loss=0.393, test_loss=0.\n",
      "RA - Fold 1:  28%|▎| 556/2000 [00:53<02:19, 10.34it/s, loss=0.449, test_loss=0.8\n",
      "RA - Fold 2:  57%|▌| 1147/2000 [01:47<01:19, 10.67it/s, loss=0.463, test_loss=0.\n",
      "RA - Fold 3:  47%|▍| 947/2000 [01:26<01:35, 10.98it/s, loss=0.441, test_loss=0.5\n",
      "RA - Fold 4:  53%|▌| 1067/2000 [01:33<01:21, 11.41it/s, loss=0.43, test_loss=0.4\n"
     ]
    },
    {
     "name": "stdout",
     "output_type": "stream",
     "text": [
      "Mean Accuracy (RA): 0.7888\n",
      "Mean Sensitivity (RA): 0.4630\n",
      "Mean Specificity (RA): 0.9533\n",
      "Mean AUC (RA): 0.8809\n",
      "Working on T1D dataset: 411 samples\n"
     ]
    },
    {
     "name": "stderr",
     "output_type": "stream",
     "text": [
      "T1D - Fold 0:  45%|▍| 892/2000 [01:44<02:10,  8.52it/s, loss=0.415, test_loss=0.\n",
      "T1D - Fold 1:  46%|▍| 928/2000 [01:52<02:09,  8.28it/s, loss=0.447, test_loss=0.\n",
      "T1D - Fold 2:  54%|▌| 1080/2000 [02:11<01:51,  8.22it/s, loss=0.448, test_loss=0\n",
      "T1D - Fold 3:  97%|▉| 1939/2000 [03:54<00:07,  8.25it/s, loss=0.465, test_loss=0\n",
      "T1D - Fold 4:  44%|▍| 875/2000 [01:46<02:17,  8.21it/s, loss=0.46, test_loss=0.2\n"
     ]
    },
    {
     "name": "stdout",
     "output_type": "stream",
     "text": [
      "Mean Accuracy (T1D): 0.9100\n",
      "Mean Sensitivity (T1D): 0.8579\n",
      "Mean Specificity (T1D): 0.9579\n",
      "Mean AUC (T1D): 0.9797\n",
      "Working on MS dataset: 508 samples\n"
     ]
    },
    {
     "name": "stderr",
     "output_type": "stream",
     "text": [
      "MS - Fold 0:  89%|▉| 1783/2000 [04:29<00:32,  6.62it/s, loss=0.438, test_loss=0.\n",
      "MS - Fold 1:  52%|▌| 1030/2000 [02:38<02:29,  6.49it/s, loss=0.475, test_loss=0.\n",
      "MS - Fold 2:  87%|▊| 1734/2000 [04:25<00:40,  6.54it/s, loss=0.456, test_loss=0.\n",
      "MS - Fold 3:  76%|▊| 1523/2000 [03:40<01:09,  6.91it/s, loss=0.432, test_loss=0.\n",
      "MS - Fold 4:  67%|▋| 1337/2000 [03:15<01:36,  6.84it/s, loss=0.422, test_loss=0.\n"
     ]
    },
    {
     "name": "stdout",
     "output_type": "stream",
     "text": [
      "Mean Accuracy (MS): 0.9803\n",
      "Mean Sensitivity (MS): 0.9728\n",
      "Mean Specificity (MS): 0.9907\n",
      "Mean AUC (MS): 0.9939\n",
      "Working on IAA dataset: 279 samples\n"
     ]
    },
    {
     "name": "stderr",
     "output_type": "stream",
     "text": [
      "IAA - Fold 0:  99%|▉| 1984/2000 [02:31<00:01, 13.12it/s, loss=0.427, test_loss=0\n",
      "IAA - Fold 1:  87%|▊| 1735/2000 [02:16<00:20, 12.67it/s, loss=0.41, test_loss=0.\n",
      "IAA - Fold 2:  77%|▊| 1535/2000 [01:59<00:36, 12.88it/s, loss=0.406, test_loss=0\n",
      "IAA - Fold 3:  68%|▋| 1365/2000 [01:46<00:49, 12.82it/s, loss=0.431, test_loss=0\n",
      "IAA - Fold 4:  58%|▌| 1168/2000 [01:31<01:05, 12.72it/s, loss=0.443, test_loss=0\n"
     ]
    },
    {
     "name": "stdout",
     "output_type": "stream",
     "text": [
      "Mean Accuracy (IAA): 0.9247\n",
      "Mean Sensitivity (IAA): 0.6923\n",
      "Mean Specificity (IAA): 0.9953\n",
      "Mean AUC (IAA): 0.9480\n",
      "Working on RA dataset: 322 samples\n"
     ]
    },
    {
     "name": "stderr",
     "output_type": "stream",
     "text": [
      "RA - Fold 0:  44%|▍| 888/2000 [01:26<01:48, 10.28it/s, loss=0.478, test_loss=0.3\n",
      "RA - Fold 1:  62%|▌| 1235/2000 [01:57<01:12, 10.51it/s, loss=0.484, test_loss=0.\n",
      "RA - Fold 2:  70%|▋| 1403/2000 [02:13<00:56, 10.50it/s, loss=0.408, test_loss=0.\n",
      "RA - Fold 3:  63%|▋| 1256/2000 [01:59<01:10, 10.53it/s, loss=0.517, test_loss=0.\n",
      "RA - Fold 4:  83%|▊| 1660/2000 [02:29<00:30, 11.07it/s, loss=0.419, test_loss=0.\n"
     ]
    },
    {
     "name": "stdout",
     "output_type": "stream",
     "text": [
      "Mean Accuracy (RA): 0.7609\n",
      "Mean Sensitivity (RA): 0.4259\n",
      "Mean Specificity (RA): 0.9299\n",
      "Mean AUC (RA): 0.8380\n",
      "Working on T1D dataset: 411 samples\n"
     ]
    },
    {
     "name": "stderr",
     "output_type": "stream",
     "text": [
      "T1D - Fold 0:  81%|▊| 1611/2000 [03:11<00:46,  8.43it/s, loss=0.451, test_loss=0\n",
      "T1D - Fold 1:  97%|▉| 1940/2000 [03:55<00:07,  8.23it/s, loss=0.42, test_loss=0.\n",
      "T1D - Fold 2:  86%|▊| 1716/2000 [03:28<00:34,  8.24it/s, loss=0.441, test_loss=0\n",
      "T1D - Fold 3:  54%|▌| 1081/2000 [02:12<01:52,  8.18it/s, loss=0.375, test_loss=0\n",
      "T1D - Fold 4:  42%|▍| 839/2000 [01:46<02:27,  7.89it/s, loss=0.41, test_loss=0.4\n"
     ]
    },
    {
     "name": "stdout",
     "output_type": "stream",
     "text": [
      "Mean Accuracy (T1D): 0.9343\n",
      "Mean Sensitivity (T1D): 0.8883\n",
      "Mean Specificity (T1D): 0.9766\n",
      "Mean AUC (T1D): 0.9837\n",
      "Working on MS dataset: 508 samples\n"
     ]
    },
    {
     "name": "stderr",
     "output_type": "stream",
     "text": [
      "MS - Fold 0:  59%|▌| 1183/2000 [03:00<02:04,  6.55it/s, loss=0.406, test_loss=0.\n",
      "MS - Fold 1:  90%|▉| 1808/2000 [04:40<00:29,  6.46it/s, loss=0.393, test_loss=0.\n",
      "MS - Fold 2:  48%|▍| 970/2000 [02:24<02:32,  6.74it/s, loss=0.456, test_loss=0.1\n",
      "MS - Fold 3:  54%|▌| 1073/2000 [02:36<02:15,  6.87it/s, loss=0.48, test_loss=0.1\n",
      "MS - Fold 4:  74%|▋| 1479/2000 [03:35<01:15,  6.86it/s, loss=0.376, test_loss=0.\n"
     ]
    },
    {
     "name": "stdout",
     "output_type": "stream",
     "text": [
      "Mean Accuracy (MS): 0.9724\n",
      "Mean Sensitivity (MS): 0.9728\n",
      "Mean Specificity (MS): 0.9720\n",
      "Mean AUC (MS): 0.9920\n",
      "Working on IAA dataset: 279 samples\n"
     ]
    },
    {
     "name": "stderr",
     "output_type": "stream",
     "text": [
      "IAA - Fold 0:  95%|▉| 1907/2000 [02:25<00:07, 13.14it/s, loss=0.415, test_loss=0\n",
      "IAA - Fold 1:  72%|▋| 1433/2000 [01:52<00:44, 12.70it/s, loss=0.443, test_loss=0\n",
      "IAA - Fold 2:  56%|▌| 1114/2000 [01:27<01:09, 12.66it/s, loss=0.387, test_loss=0\n",
      "IAA - Fold 3:  56%|▌| 1114/2000 [01:27<01:09, 12.73it/s, loss=0.448, test_loss=0\n",
      "IAA - Fold 4:  67%|▋| 1342/2000 [01:46<00:52, 12.58it/s, loss=0.42, test_loss=0.\n"
     ]
    },
    {
     "name": "stdout",
     "output_type": "stream",
     "text": [
      "Mean Accuracy (IAA): 0.9104\n",
      "Mean Sensitivity (IAA): 0.6769\n",
      "Mean Specificity (IAA): 0.9813\n",
      "Mean AUC (IAA): 0.9455\n",
      "Working on RA dataset: 322 samples\n"
     ]
    },
    {
     "name": "stderr",
     "output_type": "stream",
     "text": [
      "RA - Fold 0:  78%|▊| 1557/2000 [02:25<00:41, 10.69it/s, loss=0.45, test_loss=0.5\n",
      "RA - Fold 1:  69%|▋| 1372/2000 [02:12<01:00, 10.39it/s, loss=0.415, test_loss=0.\n",
      "RA - Fold 2:  50%|▍| 992/2000 [01:34<01:35, 10.53it/s, loss=0.362, test_loss=0.8\n",
      "RA - Fold 3:  48%|▍| 961/2000 [01:31<01:38, 10.50it/s, loss=0.482, test_loss=0.4\n",
      "RA - Fold 4:  51%|▌| 1023/2000 [01:39<01:35, 10.23it/s, loss=0.392, test_loss=0.\n"
     ]
    },
    {
     "name": "stdout",
     "output_type": "stream",
     "text": [
      "Mean Accuracy (RA): 0.8012\n",
      "Mean Sensitivity (RA): 0.5185\n",
      "Mean Specificity (RA): 0.9439\n",
      "Mean AUC (RA): 0.8699\n",
      "Working on T1D dataset: 411 samples\n"
     ]
    },
    {
     "name": "stderr",
     "output_type": "stream",
     "text": [
      "T1D - Fold 0:  43%|▍| 859/2000 [01:46<02:21,  8.06it/s, loss=0.412, test_loss=0.\n",
      "T1D - Fold 1:  44%|▍| 878/2000 [01:43<02:12,  8.48it/s, loss=0.405, test_loss=0.\n",
      "T1D - Fold 2:  89%|▉| 1772/2000 [03:31<00:27,  8.37it/s, loss=0.393, test_loss=0\n",
      "T1D - Fold 3:  83%|▊| 1654/2000 [03:21<00:42,  8.22it/s, loss=0.389, test_loss=0\n",
      "T1D - Fold 4:  64%|▋| 1274/2000 [02:36<01:29,  8.14it/s, loss=0.394, test_loss=0\n"
     ]
    },
    {
     "name": "stdout",
     "output_type": "stream",
     "text": [
      "Mean Accuracy (T1D): 0.9197\n",
      "Mean Sensitivity (T1D): 0.8426\n",
      "Mean Specificity (T1D): 0.9907\n",
      "Mean AUC (T1D): 0.9839\n",
      "Working on MS dataset: 508 samples\n"
     ]
    },
    {
     "name": "stderr",
     "output_type": "stream",
     "text": [
      "MS - Fold 0:  68%|▋| 1365/2000 [03:21<01:33,  6.77it/s, loss=0.411, test_loss=0.\n",
      "MS - Fold 1:  70%|▋| 1391/2000 [03:30<01:32,  6.60it/s, loss=0.434, test_loss=0.\n",
      "MS - Fold 2:  75%|▊| 1500/2000 [03:49<01:16,  6.54it/s, loss=0.436, test_loss=0.\n",
      "MS - Fold 3:  55%|▌| 1105/2000 [02:48<02:16,  6.56it/s, loss=0.503, test_loss=0.\n",
      "MS - Fold 4:  77%|▊| 1534/2000 [03:46<01:08,  6.76it/s, loss=0.416, test_loss=0.\n"
     ]
    },
    {
     "name": "stdout",
     "output_type": "stream",
     "text": [
      "Mean Accuracy (MS): 0.9705\n",
      "Mean Sensitivity (MS): 0.9558\n",
      "Mean Specificity (MS): 0.9907\n",
      "Mean AUC (MS): 0.9970\n",
      "Working on IAA dataset: 279 samples\n"
     ]
    },
    {
     "name": "stderr",
     "output_type": "stream",
     "text": [
      "IAA - Fold 0:  88%|▉| 1762/2000 [02:13<00:17, 13.23it/s, loss=0.392, test_loss=0\n",
      "IAA - Fold 1:  78%|▊| 1563/2000 [01:58<00:33, 13.20it/s, loss=0.463, test_loss=0\n",
      "IAA - Fold 2:  79%|▊| 1571/2000 [01:59<00:32, 13.11it/s, loss=0.408, test_loss=0\n",
      "IAA - Fold 3:  86%|▊| 1723/2000 [02:15<00:21, 12.70it/s, loss=0.448, test_loss=0\n",
      "IAA - Fold 4:  83%|▊| 1667/2000 [02:11<00:26, 12.64it/s, loss=0.368, test_loss=0\n"
     ]
    },
    {
     "name": "stdout",
     "output_type": "stream",
     "text": [
      "Mean Accuracy (IAA): 0.9355\n",
      "Mean Sensitivity (IAA): 0.7538\n",
      "Mean Specificity (IAA): 0.9907\n",
      "Mean AUC (IAA): 0.9782\n",
      "Working on RA dataset: 322 samples\n"
     ]
    },
    {
     "name": "stderr",
     "output_type": "stream",
     "text": [
      "RA - Fold 0:  37%|▎| 747/2000 [01:09<01:56, 10.80it/s, loss=0.431, test_loss=0.6\n",
      "RA - Fold 1:  68%|▋| 1367/2000 [02:10<01:00, 10.48it/s, loss=0.453, test_loss=0.\n",
      "RA - Fold 2:  62%|▌| 1246/2000 [01:59<01:12, 10.42it/s, loss=0.462, test_loss=0.\n",
      "RA - Fold 3:  40%|▍| 797/2000 [01:15<01:54, 10.49it/s, loss=0.431, test_loss=0.4\n",
      "RA - Fold 4:  72%|▋| 1433/2000 [02:17<00:54, 10.40it/s, loss=0.418, test_loss=0.\n"
     ]
    },
    {
     "name": "stdout",
     "output_type": "stream",
     "text": [
      "Mean Accuracy (RA): 0.7547\n",
      "Mean Sensitivity (RA): 0.3889\n",
      "Mean Specificity (RA): 0.9393\n",
      "Mean AUC (RA): 0.8087\n",
      "Working on T1D dataset: 411 samples\n"
     ]
    },
    {
     "name": "stderr",
     "output_type": "stream",
     "text": [
      "T1D - Fold 0:  40%|▍| 806/2000 [01:43<02:32,  7.82it/s, loss=0.463, test_loss=0.\n",
      "T1D - Fold 1:  59%|▌| 1172/2000 [02:24<01:42,  8.09it/s, loss=0.647, test_loss=0\n",
      "T1D - Fold 2:  91%|▉| 1820/2000 [03:35<00:21,  8.44it/s, loss=0.394, test_loss=0\n",
      "T1D - Fold 3:  85%|▊| 1706/2000 [03:27<00:35,  8.22it/s, loss=0.396, test_loss=0\n",
      "T1D - Fold 4:  53%|▌| 1069/2000 [02:10<01:53,  8.17it/s, loss=0.422, test_loss=0\n"
     ]
    },
    {
     "name": "stdout",
     "output_type": "stream",
     "text": [
      "Mean Accuracy (T1D): 0.9100\n",
      "Mean Sensitivity (T1D): 0.8376\n",
      "Mean Specificity (T1D): 0.9766\n",
      "Mean AUC (T1D): 0.9801\n",
      "Working on MS dataset: 508 samples\n"
     ]
    },
    {
     "name": "stderr",
     "output_type": "stream",
     "text": [
      "MS - Fold 0:  93%|▉| 1855/2000 [04:38<00:21,  6.67it/s, loss=0.403, test_loss=0.\n",
      "MS - Fold 1:  59%|▌| 1186/2000 [02:57<02:01,  6.68it/s, loss=0.417, test_loss=0.\n",
      "MS - Fold 2:  43%|▍| 857/2000 [02:11<02:55,  6.51it/s, loss=0.438, test_loss=0.1\n",
      "MS - Fold 3:  77%|▊| 1534/2000 [03:53<01:11,  6.56it/s, loss=0.427, test_loss=0.\n",
      "MS - Fold 4:  43%|▍| 865/2000 [02:13<02:54,  6.50it/s, loss=0.442, test_loss=0.1\n"
     ]
    },
    {
     "name": "stdout",
     "output_type": "stream",
     "text": [
      "Mean Accuracy (MS): 0.9764\n",
      "Mean Sensitivity (MS): 0.9626\n",
      "Mean Specificity (MS): 0.9953\n",
      "Mean AUC (MS): 0.9969\n",
      "Working on IAA dataset: 279 samples\n"
     ]
    },
    {
     "name": "stderr",
     "output_type": "stream",
     "text": [
      "IAA - Fold 0:  90%|▉| 1796/2000 [02:20<00:15, 12.80it/s, loss=0.437, test_loss=0\n",
      "IAA - Fold 1: 100%|█| 2000/2000 [02:28<00:00, 13.51it/s, loss=0.444, test_loss=0\n",
      "IAA - Fold 2:  80%|▊| 1603/2000 [02:01<00:29, 13.25it/s, loss=0.434, test_loss=0\n",
      "IAA - Fold 3: 100%|█| 2000/2000 [02:30<00:00, 13.28it/s, loss=0.4, test_loss=0.1\n",
      "IAA - Fold 4:  80%|▊| 1600/2000 [02:04<00:31, 12.88it/s, loss=0.407, test_loss=0\n"
     ]
    },
    {
     "name": "stdout",
     "output_type": "stream",
     "text": [
      "Mean Accuracy (IAA): 0.9355\n",
      "Mean Sensitivity (IAA): 0.7692\n",
      "Mean Specificity (IAA): 0.9860\n",
      "Mean AUC (IAA): 0.9740\n",
      "Working on RA dataset: 322 samples\n"
     ]
    },
    {
     "name": "stderr",
     "output_type": "stream",
     "text": [
      "RA - Fold 0:  44%|▍| 884/2000 [01:22<01:43, 10.76it/s, loss=0.52, test_loss=0.42\n",
      "RA - Fold 1:  48%|▍| 955/2000 [01:27<01:35, 10.93it/s, loss=0.405, test_loss=0.4\n",
      "RA - Fold 2:  67%|▋| 1334/2000 [02:02<01:01, 10.85it/s, loss=0.423, test_loss=0.\n",
      "RA - Fold 3:  23%|▏| 456/2000 [00:42<02:25, 10.62it/s, loss=0.469, test_loss=0.7\n",
      "RA - Fold 4:  57%|▌| 1150/2000 [01:49<01:20, 10.54it/s, loss=0.352, test_loss=0.\n"
     ]
    },
    {
     "name": "stdout",
     "output_type": "stream",
     "text": [
      "Mean Accuracy (RA): 0.7484\n",
      "Mean Sensitivity (RA): 0.3796\n",
      "Mean Specificity (RA): 0.9346\n",
      "Mean AUC (RA): 0.7877\n",
      "Working on T1D dataset: 411 samples\n"
     ]
    },
    {
     "name": "stderr",
     "output_type": "stream",
     "text": [
      "T1D - Fold 0:  75%|▋| 1496/2000 [03:11<01:04,  7.81it/s, loss=0.444, test_loss=0\n",
      "T1D - Fold 1:  63%|▋| 1261/2000 [02:40<01:34,  7.84it/s, loss=0.421, test_loss=0\n",
      "T1D - Fold 2:  48%|▍| 963/2000 [02:03<02:13,  7.80it/s, loss=0.436, test_loss=0.\n",
      "T1D - Fold 3:  69%|▋| 1387/2000 [02:51<01:15,  8.11it/s, loss=0.561, test_loss=0\n",
      "T1D - Fold 4:  51%|▌| 1019/2000 [02:01<01:56,  8.42it/s, loss=0.484, test_loss=0\n"
     ]
    },
    {
     "name": "stdout",
     "output_type": "stream",
     "text": [
      "Mean Accuracy (T1D): 0.9294\n",
      "Mean Sensitivity (T1D): 0.8782\n",
      "Mean Specificity (T1D): 0.9766\n",
      "Mean AUC (T1D): 0.9847\n",
      "Working on MS dataset: 508 samples\n"
     ]
    },
    {
     "name": "stderr",
     "output_type": "stream",
     "text": [
      "MS - Fold 0:  55%|▌| 1097/2000 [02:40<02:11,  6.85it/s, loss=0.426, test_loss=0.\n",
      "MS - Fold 1:  44%|▍| 886/2000 [02:10<02:44,  6.77it/s, loss=0.445, test_loss=0.1\n",
      "MS - Fold 2:  72%|▋| 1439/2000 [03:31<01:22,  6.80it/s, loss=0.417, test_loss=0.\n",
      "MS - Fold 3:  54%|▌| 1082/2000 [02:41<02:17,  6.69it/s, loss=0.44, test_loss=0.0\n",
      "MS - Fold 4:  77%|▊| 1533/2000 [03:48<01:09,  6.71it/s, loss=0.412, test_loss=0.\n"
     ]
    },
    {
     "name": "stdout",
     "output_type": "stream",
     "text": [
      "Mean Accuracy (MS): 0.9764\n",
      "Mean Sensitivity (MS): 0.9694\n",
      "Mean Specificity (MS): 0.9860\n",
      "Mean AUC (MS): 0.9945\n",
      "Working on IAA dataset: 279 samples\n"
     ]
    },
    {
     "name": "stderr",
     "output_type": "stream",
     "text": [
      "IAA - Fold 0:  70%|▋| 1392/2000 [01:49<00:47, 12.74it/s, loss=0.449, test_loss=0\n",
      "IAA - Fold 1:  72%|▋| 1442/2000 [01:52<00:43, 12.80it/s, loss=0.364, test_loss=0\n",
      "IAA - Fold 2:  65%|▋| 1291/2000 [01:40<00:55, 12.80it/s, loss=0.422, test_loss=0\n",
      "IAA - Fold 3: 100%|█| 2000/2000 [02:37<00:00, 12.66it/s, loss=0.438, test_loss=0\n",
      "IAA - Fold 4:  77%|▊| 1538/2000 [01:59<00:35, 12.90it/s, loss=0.42, test_loss=0.\n"
     ]
    },
    {
     "name": "stdout",
     "output_type": "stream",
     "text": [
      "Mean Accuracy (IAA): 0.9283\n",
      "Mean Sensitivity (IAA): 0.7538\n",
      "Mean Specificity (IAA): 0.9813\n",
      "Mean AUC (IAA): 0.9664\n",
      "Working on RA dataset: 322 samples\n"
     ]
    },
    {
     "name": "stderr",
     "output_type": "stream",
     "text": [
      "RA - Fold 0:  50%|▌| 1003/2000 [01:30<01:29, 11.10it/s, loss=0.474, test_loss=0.\n",
      "RA - Fold 1:  60%|▌| 1210/2000 [01:48<01:11, 11.11it/s, loss=0.406, test_loss=0.\n",
      "RA - Fold 2:  51%|▌| 1013/2000 [01:33<01:30, 10.88it/s, loss=0.464, test_loss=0.\n",
      "RA - Fold 3:  48%|▍| 964/2000 [01:28<01:35, 10.85it/s, loss=0.416, test_loss=0.4\n",
      "RA - Fold 4:  42%|▍| 850/2000 [01:17<01:44, 11.01it/s, loss=0.452, test_loss=0.4\n"
     ]
    },
    {
     "name": "stdout",
     "output_type": "stream",
     "text": [
      "Mean Accuracy (RA): 0.7764\n",
      "Mean Sensitivity (RA): 0.4907\n",
      "Mean Specificity (RA): 0.9206\n",
      "Mean AUC (RA): 0.8609\n",
      "Working on T1D dataset: 411 samples\n"
     ]
    },
    {
     "name": "stderr",
     "output_type": "stream",
     "text": [
      "T1D - Fold 0:  43%|▍| 855/2000 [01:43<02:18,  8.28it/s, loss=0.457, test_loss=0.\n",
      "T1D - Fold 1:  53%|▌| 1054/2000 [02:10<01:57,  8.07it/s, loss=0.383, test_loss=0\n",
      "T1D - Fold 2:  51%|▌| 1016/2000 [02:03<01:59,  8.25it/s, loss=0.405, test_loss=0\n",
      "T1D - Fold 3:  62%|▋| 1250/2000 [02:33<01:32,  8.14it/s, loss=0.431, test_loss=0\n",
      "T1D - Fold 4:  48%|▍| 952/2000 [01:58<02:10,  8.03it/s, loss=0.431, test_loss=0.\n"
     ]
    },
    {
     "name": "stdout",
     "output_type": "stream",
     "text": [
      "Mean Accuracy (T1D): 0.9148\n",
      "Mean Sensitivity (T1D): 0.8629\n",
      "Mean Specificity (T1D): 0.9626\n",
      "Mean AUC (T1D): 0.9806\n",
      "Working on MS dataset: 508 samples\n"
     ]
    },
    {
     "name": "stderr",
     "output_type": "stream",
     "text": [
      "MS - Fold 0:  48%|▍| 961/2000 [02:25<02:37,  6.58it/s, loss=0.359, test_loss=0.2\n",
      "MS - Fold 1:  73%|▋| 1452/2000 [03:45<01:25,  6.44it/s, loss=0.468, test_loss=0.\n",
      "MS - Fold 2:  55%|▌| 1109/2000 [02:50<02:16,  6.52it/s, loss=0.413, test_loss=0.\n",
      "MS - Fold 3:  49%|▍| 978/2000 [02:24<02:31,  6.76it/s, loss=0.505, test_loss=0.1\n",
      "MS - Fold 4:  59%|▌| 1173/2000 [02:49<01:59,  6.90it/s, loss=0.405, test_loss=0.\n"
     ]
    },
    {
     "name": "stdout",
     "output_type": "stream",
     "text": [
      "Mean Accuracy (MS): 0.9665\n",
      "Mean Sensitivity (MS): 0.9626\n",
      "Mean Specificity (MS): 0.9720\n",
      "Mean AUC (MS): 0.9941\n",
      "Working on IAA dataset: 279 samples\n"
     ]
    },
    {
     "name": "stderr",
     "output_type": "stream",
     "text": [
      "IAA - Fold 0:  62%|▌| 1238/2000 [00:58<00:36, 20.99it/s, loss=0.426, test_loss=0\n",
      "IAA - Fold 1:  93%|▉| 1864/2000 [01:05<00:04, 28.31it/s, loss=0.445, test_loss=0\n",
      "IAA - Fold 2:  76%|▊| 1511/2000 [00:53<00:17, 28.02it/s, loss=0.39, test_loss=0.\n",
      "IAA - Fold 3:  76%|▊| 1518/2000 [00:53<00:17, 28.31it/s, loss=0.452, test_loss=0\n",
      "IAA - Fold 4:  72%|▋| 1438/2000 [00:51<00:19, 28.16it/s, loss=0.41, test_loss=0.\n"
     ]
    },
    {
     "name": "stdout",
     "output_type": "stream",
     "text": [
      "Mean Accuracy (IAA): 0.9176\n",
      "Mean Sensitivity (IAA): 0.7077\n",
      "Mean Specificity (IAA): 0.9813\n",
      "Mean AUC (IAA): 0.9544\n",
      "Working on RA dataset: 322 samples\n"
     ]
    },
    {
     "name": "stderr",
     "output_type": "stream",
     "text": [
      "RA - Fold 0:  81%|▊| 1614/2000 [01:07<00:16, 23.98it/s, loss=0.486, test_loss=0.\n",
      "RA - Fold 1:  43%|▍| 860/2000 [00:35<00:47, 24.05it/s, loss=0.454, test_loss=0.3\n",
      "RA - Fold 2:  64%|▋| 1287/2000 [00:53<00:29, 24.14it/s, loss=0.471, test_loss=0.\n",
      "RA - Fold 3:  42%|▍| 840/2000 [00:34<00:47, 24.33it/s, loss=0.448, test_loss=0.4\n",
      "RA - Fold 4:  51%|▌| 1017/2000 [00:42<00:41, 23.89it/s, loss=0.41, test_loss=0.3\n"
     ]
    },
    {
     "name": "stdout",
     "output_type": "stream",
     "text": [
      "Mean Accuracy (RA): 0.8012\n",
      "Mean Sensitivity (RA): 0.5278\n",
      "Mean Specificity (RA): 0.9393\n",
      "Mean AUC (RA): 0.8773\n",
      "Working on T1D dataset: 411 samples\n"
     ]
    },
    {
     "name": "stderr",
     "output_type": "stream",
     "text": [
      "T1D - Fold 0:  62%|▌| 1247/2000 [01:07<00:40, 18.55it/s, loss=0.56, test_loss=0.\n",
      "T1D - Fold 1:  46%|▍| 916/2000 [00:48<00:57, 18.87it/s, loss=0.432, test_loss=0.\n",
      "T1D - Fold 2:  86%|▊| 1714/2000 [01:32<00:15, 18.52it/s, loss=0.39, test_loss=0.\n",
      "T1D - Fold 3:  66%|▋| 1312/2000 [01:09<00:36, 18.92it/s, loss=0.413, test_loss=0\n",
      "T1D - Fold 4:  66%|▋| 1311/2000 [01:10<00:37, 18.61it/s, loss=0.452, test_loss=0\n"
     ]
    },
    {
     "name": "stdout",
     "output_type": "stream",
     "text": [
      "Mean Accuracy (T1D): 0.9489\n",
      "Mean Sensitivity (T1D): 0.9036\n",
      "Mean Specificity (T1D): 0.9907\n",
      "Mean AUC (T1D): 0.9889\n",
      "Working on MS dataset: 508 samples\n"
     ]
    },
    {
     "name": "stderr",
     "output_type": "stream",
     "text": [
      "MS - Fold 0:  84%|▊| 1670/2000 [01:49<00:21, 15.25it/s, loss=0.463, test_loss=0.\n",
      "MS - Fold 1:  80%|▊| 1591/2000 [01:44<00:26, 15.18it/s, loss=0.415, test_loss=0.\n",
      "MS - Fold 2:  82%|▊| 1649/2000 [01:50<00:23, 14.98it/s, loss=0.451, test_loss=0.\n",
      "MS - Fold 3:  53%|▌| 1064/2000 [01:10<01:02, 15.06it/s, loss=0.438, test_loss=0.\n",
      "MS - Fold 4:  61%|▌| 1225/2000 [01:23<00:52, 14.72it/s, loss=0.426, test_loss=0.\n"
     ]
    },
    {
     "name": "stdout",
     "output_type": "stream",
     "text": [
      "Mean Accuracy (MS): 0.9626\n",
      "Mean Sensitivity (MS): 0.9490\n",
      "Mean Specificity (MS): 0.9813\n",
      "Mean AUC (MS): 0.9954\n",
      "Working on IAA dataset: 279 samples\n"
     ]
    },
    {
     "name": "stderr",
     "output_type": "stream",
     "text": [
      "IAA - Fold 0:  84%|▊| 1679/2000 [01:00<00:11, 27.82it/s, loss=0.411, test_loss=0\n",
      "IAA - Fold 1:  67%|▋| 1346/2000 [00:48<00:23, 27.83it/s, loss=0.412, test_loss=0\n",
      "IAA - Fold 2:  77%|▊| 1546/2000 [00:55<00:16, 27.75it/s, loss=0.398, test_loss=0\n",
      "IAA - Fold 3:  79%|▊| 1581/2000 [00:57<00:15, 27.62it/s, loss=0.4, test_loss=0.1\n",
      "IAA - Fold 4:  64%|▋| 1271/2000 [00:45<00:26, 27.71it/s, loss=0.421, test_loss=0\n"
     ]
    },
    {
     "name": "stdout",
     "output_type": "stream",
     "text": [
      "Mean Accuracy (IAA): 0.9319\n",
      "Mean Sensitivity (IAA): 0.7385\n",
      "Mean Specificity (IAA): 0.9907\n",
      "Mean AUC (IAA): 0.9644\n",
      "Working on RA dataset: 322 samples\n"
     ]
    },
    {
     "name": "stderr",
     "output_type": "stream",
     "text": [
      "RA - Fold 0:  65%|▋| 1302/2000 [00:53<00:28, 24.20it/s, loss=0.461, test_loss=0.\n",
      "RA - Fold 1:  55%|▌| 1103/2000 [00:46<00:37, 23.84it/s, loss=0.473, test_loss=0.\n",
      "RA - Fold 2:  54%|▌| 1073/2000 [00:44<00:38, 23.90it/s, loss=0.42, test_loss=0.9\n",
      "RA - Fold 3:  56%|▌| 1116/2000 [00:46<00:36, 24.03it/s, loss=0.379, test_loss=0.\n",
      "RA - Fold 4:  46%|▍| 921/2000 [00:38<00:45, 23.74it/s, loss=0.458, test_loss=0.4\n"
     ]
    },
    {
     "name": "stdout",
     "output_type": "stream",
     "text": [
      "Mean Accuracy (RA): 0.8012\n",
      "Mean Sensitivity (RA): 0.5185\n",
      "Mean Specificity (RA): 0.9439\n",
      "Mean AUC (RA): 0.8750\n",
      "Working on T1D dataset: 411 samples\n"
     ]
    },
    {
     "name": "stderr",
     "output_type": "stream",
     "text": [
      "T1D - Fold 0:  63%|▋| 1268/2000 [01:08<00:39, 18.53it/s, loss=0.39, test_loss=0.\n",
      "T1D - Fold 1:  50%|▌| 1000/2000 [00:54<00:54, 18.25it/s, loss=0.455, test_loss=0\n",
      "T1D - Fold 2:  50%|▌| 1007/2000 [00:54<00:53, 18.40it/s, loss=0.445, test_loss=0\n",
      "T1D - Fold 3:  44%|▍| 882/2000 [00:47<01:00, 18.48it/s, loss=0.442, test_loss=0.\n",
      "T1D - Fold 4:  81%|▊| 1613/2000 [01:28<00:21, 18.13it/s, loss=0.486, test_loss=0\n"
     ]
    },
    {
     "name": "stdout",
     "output_type": "stream",
     "text": [
      "Mean Accuracy (T1D): 0.9416\n",
      "Mean Sensitivity (T1D): 0.9086\n",
      "Mean Specificity (T1D): 0.9720\n",
      "Mean AUC (T1D): 0.9858\n",
      "Working on MS dataset: 508 samples\n"
     ]
    },
    {
     "name": "stderr",
     "output_type": "stream",
     "text": [
      "MS - Fold 0:  52%|▌| 1038/2000 [01:10<01:05, 14.77it/s, loss=0.427, test_loss=0.\n",
      "MS - Fold 1:  52%|▌| 1032/2000 [01:09<01:05, 14.79it/s, loss=0.444, test_loss=0.\n",
      "MS - Fold 2:  55%|▌| 1108/2000 [01:14<00:59, 14.89it/s, loss=0.49, test_loss=0.1\n",
      "MS - Fold 3:  64%|▋| 1290/2000 [01:26<00:47, 14.86it/s, loss=0.52, test_loss=0.0\n",
      "MS - Fold 4:  69%|▋| 1373/2000 [01:31<00:41, 15.06it/s, loss=0.413, test_loss=0.\n"
     ]
    },
    {
     "name": "stdout",
     "output_type": "stream",
     "text": [
      "Mean Accuracy (MS): 0.9626\n",
      "Mean Sensitivity (MS): 0.9558\n",
      "Mean Specificity (MS): 0.9720\n",
      "Mean AUC (MS): 0.9910\n",
      "Working on IAA dataset: 279 samples\n"
     ]
    },
    {
     "name": "stderr",
     "output_type": "stream",
     "text": [
      "IAA - Fold 0:  87%|▊| 1734/2000 [01:02<00:09, 27.57it/s, loss=0.393, test_loss=0\n",
      "IAA - Fold 1:  86%|▊| 1728/2000 [01:01<00:09, 27.90it/s, loss=0.377, test_loss=0\n",
      "IAA - Fold 2:  61%|▌| 1218/2000 [00:43<00:27, 28.16it/s, loss=0.424, test_loss=0\n",
      "IAA - Fold 3:  58%|▌| 1151/2000 [00:41<00:30, 27.93it/s, loss=0.402, test_loss=0\n",
      "IAA - Fold 4:  72%|▋| 1442/2000 [00:51<00:20, 27.76it/s, loss=0.368, test_loss=0\n"
     ]
    },
    {
     "name": "stdout",
     "output_type": "stream",
     "text": [
      "Mean Accuracy (IAA): 0.9140\n",
      "Mean Sensitivity (IAA): 0.6615\n",
      "Mean Specificity (IAA): 0.9907\n",
      "Mean AUC (IAA): 0.9718\n",
      "Working on RA dataset: 322 samples\n"
     ]
    },
    {
     "name": "stderr",
     "output_type": "stream",
     "text": [
      "RA - Fold 0:  68%|▋| 1352/2000 [00:55<00:26, 24.21it/s, loss=0.439, test_loss=0.\n",
      "RA - Fold 1:  25%|▎| 501/2000 [00:20<01:02, 23.92it/s, loss=0.506, test_loss=0.7\n",
      "RA - Fold 2:  55%|▌| 1098/2000 [00:46<00:38, 23.72it/s, loss=0.435, test_loss=0.\n",
      "RA - Fold 3:  40%|▍| 793/2000 [00:33<00:50, 23.80it/s, loss=0.444, test_loss=0.9\n",
      "RA - Fold 4:  51%|▌| 1027/2000 [00:42<00:40, 23.92it/s, loss=0.377, test_loss=0.\n"
     ]
    },
    {
     "name": "stdout",
     "output_type": "stream",
     "text": [
      "Mean Accuracy (RA): 0.7764\n",
      "Mean Sensitivity (RA): 0.4630\n",
      "Mean Specificity (RA): 0.9346\n",
      "Mean AUC (RA): 0.8312\n",
      "Working on T1D dataset: 411 samples\n"
     ]
    },
    {
     "name": "stderr",
     "output_type": "stream",
     "text": [
      "T1D - Fold 0:  59%|▌| 1188/2000 [01:03<00:43, 18.58it/s, loss=0.423, test_loss=0\n",
      "T1D - Fold 1:  45%|▍| 904/2000 [00:49<01:00, 18.09it/s, loss=0.432, test_loss=0.\n",
      "T1D - Fold 2:  70%|▋| 1401/2000 [01:16<00:32, 18.23it/s, loss=0.425, test_loss=0\n",
      "T1D - Fold 3:  74%|▋| 1477/2000 [01:20<00:28, 18.29it/s, loss=0.446, test_loss=0\n",
      "T1D - Fold 4:  41%|▍| 812/2000 [00:44<01:05, 18.25it/s, loss=0.473, test_loss=0.\n"
     ]
    },
    {
     "name": "stdout",
     "output_type": "stream",
     "text": [
      "Mean Accuracy (T1D): 0.9197\n",
      "Mean Sensitivity (T1D): 0.8528\n",
      "Mean Specificity (T1D): 0.9813\n",
      "Mean AUC (T1D): 0.9796\n",
      "Working on MS dataset: 508 samples\n"
     ]
    },
    {
     "name": "stderr",
     "output_type": "stream",
     "text": [
      "MS - Fold 0:  72%|▋| 1440/2000 [01:37<00:37, 14.78it/s, loss=0.501, test_loss=0.\n",
      "MS - Fold 1:  91%|▉| 1814/2000 [02:01<00:12, 14.88it/s, loss=0.46, test_loss=0.1\n",
      "MS - Fold 2:  56%|▌| 1129/2000 [01:14<00:57, 15.17it/s, loss=0.473, test_loss=0.\n",
      "MS - Fold 3:  51%|▌| 1016/2000 [01:07<01:04, 15.15it/s, loss=0.453, test_loss=0.\n",
      "MS - Fold 4: 100%|█| 2000/2000 [02:12<00:00, 15.11it/s, loss=0.473, test_loss=0.\n"
     ]
    },
    {
     "name": "stdout",
     "output_type": "stream",
     "text": [
      "Mean Accuracy (MS): 0.9705\n",
      "Mean Sensitivity (MS): 0.9626\n",
      "Mean Specificity (MS): 0.9813\n",
      "Mean AUC (MS): 0.9954\n",
      "Working on IAA dataset: 279 samples\n"
     ]
    },
    {
     "name": "stderr",
     "output_type": "stream",
     "text": [
      "IAA - Fold 0:  90%|▉| 1790/2000 [01:03<00:07, 28.02it/s, loss=0.429, test_loss=0\n",
      "IAA - Fold 1: 100%|█| 2000/2000 [01:12<00:00, 27.78it/s, loss=0.39, test_loss=0.\n",
      "IAA - Fold 2:  87%|▊| 1743/2000 [01:02<00:09, 28.02it/s, loss=0.451, test_loss=0\n",
      "IAA - Fold 3:  80%|▊| 1605/2000 [00:57<00:14, 27.73it/s, loss=0.375, test_loss=0\n",
      "IAA - Fold 4:  71%|▋| 1415/2000 [00:50<00:21, 27.77it/s, loss=0.359, test_loss=0\n"
     ]
    },
    {
     "name": "stdout",
     "output_type": "stream",
     "text": [
      "Mean Accuracy (IAA): 0.9068\n",
      "Mean Sensitivity (IAA): 0.6308\n",
      "Mean Specificity (IAA): 0.9907\n",
      "Mean AUC (IAA): 0.9687\n",
      "Working on RA dataset: 322 samples\n"
     ]
    },
    {
     "name": "stderr",
     "output_type": "stream",
     "text": [
      "RA - Fold 0:  85%|▊| 1704/2000 [01:11<00:12, 23.78it/s, loss=0.457, test_loss=0.\n",
      "RA - Fold 1:  35%|▎| 702/2000 [00:29<00:54, 23.71it/s, loss=0.412, test_loss=1.1\n",
      "RA - Fold 2:  40%|▍| 796/2000 [00:33<00:50, 23.86it/s, loss=0.439, test_loss=0.5\n",
      "RA - Fold 3:  57%|▌| 1134/2000 [00:48<00:36, 23.62it/s, loss=0.443, test_loss=0.\n",
      "RA - Fold 4:  41%|▍| 817/2000 [00:33<00:49, 24.08it/s, loss=0.448, test_loss=0.4\n"
     ]
    },
    {
     "name": "stdout",
     "output_type": "stream",
     "text": [
      "Mean Accuracy (RA): 0.7919\n",
      "Mean Sensitivity (RA): 0.4630\n",
      "Mean Specificity (RA): 0.9579\n",
      "Mean AUC (RA): 0.8587\n",
      "Working on T1D dataset: 411 samples\n"
     ]
    },
    {
     "name": "stderr",
     "output_type": "stream",
     "text": [
      "T1D - Fold 0:  73%|▋| 1462/2000 [01:18<00:28, 18.60it/s, loss=0.475, test_loss=0\n",
      "T1D - Fold 1:  47%|▍| 936/2000 [00:51<00:58, 18.31it/s, loss=0.473, test_loss=0.\n",
      "T1D - Fold 2:  80%|▊| 1593/2000 [01:24<00:21, 18.86it/s, loss=0.394, test_loss=0\n",
      "T1D - Fold 3:  66%|▋| 1317/2000 [01:11<00:37, 18.37it/s, loss=0.385, test_loss=0\n",
      "T1D - Fold 4:  51%|▌| 1012/2000 [00:53<00:52, 18.79it/s, loss=0.532, test_loss=0\n"
     ]
    },
    {
     "name": "stdout",
     "output_type": "stream",
     "text": [
      "Mean Accuracy (T1D): 0.9246\n",
      "Mean Sensitivity (T1D): 0.8629\n",
      "Mean Specificity (T1D): 0.9813\n",
      "Mean AUC (T1D): 0.9802\n",
      "Working on MS dataset: 508 samples\n"
     ]
    },
    {
     "name": "stderr",
     "output_type": "stream",
     "text": [
      "MS - Fold 0:  94%|▉| 1882/2000 [02:04<00:07, 15.14it/s, loss=0.418, test_loss=0.\n",
      "MS - Fold 1:  62%|▌| 1235/2000 [01:20<00:50, 15.30it/s, loss=0.431, test_loss=0.\n",
      "MS - Fold 2:  70%|▋| 1394/2000 [01:31<00:39, 15.19it/s, loss=0.483, test_loss=0.\n",
      "MS - Fold 3:  82%|▊| 1649/2000 [01:48<00:23, 15.14it/s, loss=0.416, test_loss=0.\n",
      "MS - Fold 4:  51%|▌| 1016/2000 [01:07<01:05, 14.98it/s, loss=0.416, test_loss=0.\n"
     ]
    },
    {
     "name": "stdout",
     "output_type": "stream",
     "text": [
      "Mean Accuracy (MS): 0.9764\n",
      "Mean Sensitivity (MS): 0.9626\n",
      "Mean Specificity (MS): 0.9953\n",
      "Mean AUC (MS): 0.9974\n",
      "Working on IAA dataset: 279 samples\n"
     ]
    },
    {
     "name": "stderr",
     "output_type": "stream",
     "text": [
      "IAA - Fold 0: 100%|█| 2000/2000 [01:10<00:00, 28.50it/s, loss=0.425, test_loss=0\n",
      "IAA - Fold 1: 100%|█| 2000/2000 [01:11<00:00, 28.13it/s, loss=0.397, test_loss=0\n",
      "IAA - Fold 2:  82%|▊| 1646/2000 [00:58<00:12, 27.93it/s, loss=0.404, test_loss=0\n",
      "IAA - Fold 3:  62%|▌| 1235/2000 [00:43<00:27, 28.13it/s, loss=0.403, test_loss=0\n",
      "IAA - Fold 4:  55%|▌| 1096/2000 [00:39<00:32, 27.63it/s, loss=0.384, test_loss=0\n"
     ]
    },
    {
     "name": "stdout",
     "output_type": "stream",
     "text": [
      "Mean Accuracy (IAA): 0.8925\n",
      "Mean Sensitivity (IAA): 0.5538\n",
      "Mean Specificity (IAA): 0.9953\n",
      "Mean AUC (IAA): 0.9518\n",
      "Working on RA dataset: 322 samples\n"
     ]
    },
    {
     "name": "stderr",
     "output_type": "stream",
     "text": [
      "RA - Fold 0:  43%|▍| 857/2000 [00:35<00:47, 24.18it/s, loss=0.427, test_loss=0.4\n",
      "RA - Fold 1:  52%|▌| 1042/2000 [00:43<00:39, 24.01it/s, loss=0.408, test_loss=0.\n",
      "RA - Fold 2:  45%|▍| 894/2000 [00:37<00:45, 24.04it/s, loss=0.433, test_loss=0.4\n",
      "RA - Fold 3:  58%|▌| 1166/2000 [00:48<00:34, 24.19it/s, loss=0.437, test_loss=0.\n",
      "RA - Fold 4:  50%|▍| 996/2000 [00:41<00:42, 23.81it/s, loss=0.438, test_loss=0.5\n"
     ]
    },
    {
     "name": "stdout",
     "output_type": "stream",
     "text": [
      "Mean Accuracy (RA): 0.7609\n",
      "Mean Sensitivity (RA): 0.4259\n",
      "Mean Specificity (RA): 0.9299\n",
      "Mean AUC (RA): 0.8376\n",
      "Working on T1D dataset: 411 samples\n"
     ]
    },
    {
     "name": "stderr",
     "output_type": "stream",
     "text": [
      "T1D - Fold 0:  80%|▊| 1608/2000 [01:26<00:21, 18.63it/s, loss=0.452, test_loss=0\n",
      "T1D - Fold 1:  48%|▍| 953/2000 [00:51<00:56, 18.50it/s, loss=0.419, test_loss=0.\n",
      "T1D - Fold 2:  93%|▉| 1852/2000 [01:39<00:07, 18.55it/s, loss=0.423, test_loss=0\n",
      "T1D - Fold 3:  38%|▍| 770/2000 [00:41<01:07, 18.34it/s, loss=0.445, test_loss=0.\n",
      "T1D - Fold 4:  54%|▌| 1089/2000 [00:59<00:49, 18.29it/s, loss=0.41, test_loss=0.\n"
     ]
    },
    {
     "name": "stdout",
     "output_type": "stream",
     "text": [
      "Mean Accuracy (T1D): 0.9319\n",
      "Mean Sensitivity (T1D): 0.8832\n",
      "Mean Specificity (T1D): 0.9766\n",
      "Mean AUC (T1D): 0.9819\n",
      "Working on MS dataset: 508 samples\n"
     ]
    },
    {
     "name": "stderr",
     "output_type": "stream",
     "text": [
      "MS - Fold 0: 100%|█| 2000/2000 [02:11<00:00, 15.20it/s, loss=0.416, test_loss=0.\n",
      "MS - Fold 1:  78%|▊| 1569/2000 [01:44<00:28, 14.99it/s, loss=0.447, test_loss=0.\n",
      "MS - Fold 2:  47%|▍| 944/2000 [01:02<01:09, 15.17it/s, loss=0.456, test_loss=0.1\n",
      "MS - Fold 3: 100%|█| 2000/2000 [02:12<00:00, 15.12it/s, loss=0.424, test_loss=0.\n",
      "MS - Fold 4:  84%|▊| 1672/2000 [01:52<00:22, 14.81it/s, loss=0.451, test_loss=0.\n"
     ]
    },
    {
     "name": "stdout",
     "output_type": "stream",
     "text": [
      "Mean Accuracy (MS): 0.9724\n",
      "Mean Sensitivity (MS): 0.9728\n",
      "Mean Specificity (MS): 0.9720\n",
      "Mean AUC (MS): 0.9959\n",
      "Working on IAA dataset: 279 samples\n"
     ]
    },
    {
     "name": "stderr",
     "output_type": "stream",
     "text": [
      "IAA - Fold 0:  84%|▊| 1677/2000 [01:00<00:11, 27.86it/s, loss=0.42, test_loss=0.\n",
      "IAA - Fold 1:  81%|▊| 1620/2000 [00:57<00:13, 28.18it/s, loss=0.406, test_loss=0\n",
      "IAA - Fold 2:  66%|▋| 1317/2000 [00:47<00:24, 27.74it/s, loss=0.402, test_loss=0\n",
      "IAA - Fold 3: 100%|█| 2000/2000 [01:11<00:00, 28.08it/s, loss=0.452, test_loss=0\n",
      "IAA - Fold 4:  69%|▋| 1378/2000 [00:50<00:22, 27.48it/s, loss=0.446, test_loss=0\n"
     ]
    },
    {
     "name": "stdout",
     "output_type": "stream",
     "text": [
      "Mean Accuracy (IAA): 0.9104\n",
      "Mean Sensitivity (IAA): 0.7077\n",
      "Mean Specificity (IAA): 0.9720\n",
      "Mean AUC (IAA): 0.9596\n",
      "Working on RA dataset: 322 samples\n"
     ]
    },
    {
     "name": "stderr",
     "output_type": "stream",
     "text": [
      "RA - Fold 0:  37%|▎| 741/2000 [00:31<00:53, 23.70it/s, loss=0.455, test_loss=0.4\n",
      "RA - Fold 1:  51%|▌| 1022/2000 [00:42<00:40, 23.86it/s, loss=0.447, test_loss=0.\n",
      "RA - Fold 2:  60%|▌| 1194/2000 [00:49<00:33, 24.00it/s, loss=0.422, test_loss=0.\n",
      "RA - Fold 3:  54%|▌| 1071/2000 [00:44<00:38, 24.11it/s, loss=0.414, test_loss=0.\n",
      "RA - Fold 4:  67%|▋| 1335/2000 [00:55<00:27, 23.99it/s, loss=0.459, test_loss=0.\n"
     ]
    },
    {
     "name": "stdout",
     "output_type": "stream",
     "text": [
      "Mean Accuracy (RA): 0.8168\n",
      "Mean Sensitivity (RA): 0.5648\n",
      "Mean Specificity (RA): 0.9439\n",
      "Mean AUC (RA): 0.8898\n",
      "Working on T1D dataset: 411 samples\n"
     ]
    },
    {
     "name": "stderr",
     "output_type": "stream",
     "text": [
      "T1D - Fold 0:  72%|▋| 1443/2000 [01:18<00:30, 18.30it/s, loss=0.433, test_loss=0\n",
      "T1D - Fold 1:  45%|▍| 897/2000 [00:48<00:59, 18.52it/s, loss=0.38, test_loss=0.2\n",
      "T1D - Fold 2:  58%|▌| 1152/2000 [01:01<00:45, 18.73it/s, loss=0.396, test_loss=0\n",
      "T1D - Fold 3: 100%|█| 2000/2000 [01:48<00:00, 18.38it/s, loss=0.451, test_loss=0\n",
      "T1D - Fold 4:  39%|▍| 785/2000 [00:43<01:07, 18.10it/s, loss=0.409, test_loss=0.\n"
     ]
    },
    {
     "name": "stdout",
     "output_type": "stream",
     "text": [
      "Mean Accuracy (T1D): 0.9319\n",
      "Mean Sensitivity (T1D): 0.8883\n",
      "Mean Specificity (T1D): 0.9720\n",
      "Mean AUC (T1D): 0.9843\n",
      "Working on MS dataset: 508 samples\n"
     ]
    },
    {
     "name": "stderr",
     "output_type": "stream",
     "text": [
      "MS - Fold 0: 100%|█| 2000/2000 [02:13<00:00, 15.03it/s, loss=0.439, test_loss=0.\n",
      "MS - Fold 1:  61%|▌| 1228/2000 [01:21<00:51, 14.98it/s, loss=0.497, test_loss=0.\n",
      "MS - Fold 2:  56%|▌| 1124/2000 [01:14<00:57, 15.15it/s, loss=0.451, test_loss=0.\n",
      "MS - Fold 3:  68%|▋| 1368/2000 [01:30<00:41, 15.18it/s, loss=0.439, test_loss=0.\n",
      "MS - Fold 4:  53%|▌| 1054/2000 [01:10<01:03, 15.00it/s, loss=0.455, test_loss=0.\n"
     ]
    },
    {
     "name": "stdout",
     "output_type": "stream",
     "text": [
      "Mean Accuracy (MS): 0.9665\n",
      "Mean Sensitivity (MS): 0.9592\n",
      "Mean Specificity (MS): 0.9766\n",
      "Mean AUC (MS): 0.9942\n",
      "Working on IAA dataset: 279 samples\n"
     ]
    },
    {
     "name": "stderr",
     "output_type": "stream",
     "text": [
      "IAA - Fold 0: 100%|█| 2000/2000 [01:13<00:00, 27.18it/s, loss=0.452, test_loss=0\n",
      "IAA - Fold 1: 100%|█| 2000/2000 [01:13<00:00, 27.25it/s, loss=0.417, test_loss=0\n",
      "IAA - Fold 2:  85%|▊| 1702/2000 [01:02<00:10, 27.34it/s, loss=0.445, test_loss=0\n",
      "IAA - Fold 3:  99%|▉| 1974/2000 [01:11<00:00, 27.78it/s, loss=0.433, test_loss=0\n",
      "IAA - Fold 4:  78%|▊| 1558/2000 [00:54<00:15, 28.33it/s, loss=0.42, test_loss=0.\n"
     ]
    },
    {
     "name": "stdout",
     "output_type": "stream",
     "text": [
      "Mean Accuracy (IAA): 0.8996\n",
      "Mean Sensitivity (IAA): 0.6308\n",
      "Mean Specificity (IAA): 0.9813\n",
      "Mean AUC (IAA): 0.9526\n",
      "Working on RA dataset: 322 samples\n"
     ]
    },
    {
     "name": "stderr",
     "output_type": "stream",
     "text": [
      "RA - Fold 0:  70%|▋| 1410/2000 [00:59<00:24, 23.84it/s, loss=0.435, test_loss=0.\n",
      "RA - Fold 1:  44%|▍| 872/2000 [00:35<00:46, 24.26it/s, loss=0.449, test_loss=0.4\n",
      "RA - Fold 2:  61%|▌| 1219/2000 [00:50<00:32, 24.01it/s, loss=0.42, test_loss=0.4\n",
      "RA - Fold 3:  55%|▌| 1095/2000 [00:45<00:37, 23.89it/s, loss=0.522, test_loss=0.\n",
      "RA - Fold 4:  43%|▍| 853/2000 [00:35<00:47, 23.97it/s, loss=0.373, test_loss=0.6\n"
     ]
    },
    {
     "name": "stdout",
     "output_type": "stream",
     "text": [
      "Mean Accuracy (RA): 0.7857\n",
      "Mean Sensitivity (RA): 0.5093\n",
      "Mean Specificity (RA): 0.9252\n",
      "Mean AUC (RA): 0.8744\n",
      "Working on T1D dataset: 411 samples\n"
     ]
    },
    {
     "name": "stderr",
     "output_type": "stream",
     "text": [
      "T1D - Fold 0:  63%|▋| 1251/2000 [01:07<00:40, 18.51it/s, loss=0.35, test_loss=0.\n",
      "T1D - Fold 1:  38%|▍| 755/2000 [00:41<01:08, 18.25it/s, loss=0.408, test_loss=0.\n",
      "T1D - Fold 2:  60%|▌| 1195/2000 [01:04<00:43, 18.45it/s, loss=0.399, test_loss=0\n",
      "T1D - Fold 3:  82%|▊| 1641/2000 [01:28<00:19, 18.53it/s, loss=0.496, test_loss=0\n",
      "T1D - Fold 4:  58%|▌| 1152/2000 [01:02<00:46, 18.31it/s, loss=0.366, test_loss=0\n"
     ]
    },
    {
     "name": "stdout",
     "output_type": "stream",
     "text": [
      "Mean Accuracy (T1D): 0.9124\n",
      "Mean Sensitivity (T1D): 0.8528\n",
      "Mean Specificity (T1D): 0.9673\n",
      "Mean AUC (T1D): 0.9794\n",
      "Working on MS dataset: 508 samples\n"
     ]
    },
    {
     "name": "stderr",
     "output_type": "stream",
     "text": [
      "MS - Fold 0:  68%|▋| 1353/2000 [01:30<00:43, 15.01it/s, loss=0.463, test_loss=0.\n",
      "MS - Fold 1:  74%|▋| 1475/2000 [01:37<00:34, 15.13it/s, loss=0.47, test_loss=0.4\n",
      "MS - Fold 2:  60%|▌| 1200/2000 [01:19<00:52, 15.15it/s, loss=0.445, test_loss=0.\n",
      "MS - Fold 3:  61%|▌| 1215/2000 [01:20<00:51, 15.10it/s, loss=0.442, test_loss=0.\n",
      "MS - Fold 4: 100%|█| 2000/2000 [02:13<00:00, 14.96it/s, loss=0.449, test_loss=0.\n"
     ]
    },
    {
     "name": "stdout",
     "output_type": "stream",
     "text": [
      "Mean Accuracy (MS): 0.9173\n",
      "Mean Sensitivity (MS): 0.9048\n",
      "Mean Specificity (MS): 0.9346\n",
      "Mean AUC (MS): 0.9794\n",
      "Working on IAA dataset: 279 samples\n"
     ]
    },
    {
     "name": "stderr",
     "output_type": "stream",
     "text": [
      "IAA - Fold 0: 100%|█| 2000/2000 [01:12<00:00, 27.71it/s, loss=0.422, test_loss=0\n",
      "IAA - Fold 1:  76%|▊| 1529/2000 [00:54<00:16, 27.98it/s, loss=0.379, test_loss=0\n",
      "IAA - Fold 2:  50%|▍| 990/2000 [00:36<00:37, 26.86it/s, loss=0.435, test_loss=0.\n",
      "IAA - Fold 3:  68%|▋| 1365/2000 [00:50<00:23, 27.10it/s, loss=0.401, test_loss=0\n",
      "IAA - Fold 4:  69%|▋| 1372/2000 [00:50<00:23, 27.05it/s, loss=0.449, test_loss=0\n"
     ]
    },
    {
     "name": "stdout",
     "output_type": "stream",
     "text": [
      "Mean Accuracy (IAA): 0.8781\n",
      "Mean Sensitivity (IAA): 0.5538\n",
      "Mean Specificity (IAA): 0.9766\n",
      "Mean AUC (IAA): 0.9249\n",
      "Working on RA dataset: 322 samples\n"
     ]
    },
    {
     "name": "stderr",
     "output_type": "stream",
     "text": [
      "RA - Fold 0:  63%|▋| 1257/2000 [00:53<00:31, 23.39it/s, loss=0.402, test_loss=0.\n",
      "RA - Fold 1:  55%|▌| 1103/2000 [00:47<00:38, 23.21it/s, loss=0.416, test_loss=0.\n",
      "RA - Fold 2:  50%|▌| 1001/2000 [00:42<00:42, 23.55it/s, loss=0.426, test_loss=0.\n",
      "RA - Fold 3:  73%|▋| 1460/2000 [00:59<00:22, 24.42it/s, loss=0.436, test_loss=0.\n",
      "RA - Fold 4:  60%|▌| 1190/2000 [00:50<00:34, 23.57it/s, loss=0.454, test_loss=0.\n"
     ]
    },
    {
     "name": "stdout",
     "output_type": "stream",
     "text": [
      "Mean Accuracy (RA): 0.7857\n",
      "Mean Sensitivity (RA): 0.4630\n",
      "Mean Specificity (RA): 0.9486\n",
      "Mean AUC (RA): 0.8604\n",
      "Working on T1D dataset: 411 samples\n"
     ]
    },
    {
     "name": "stderr",
     "output_type": "stream",
     "text": [
      "T1D - Fold 0:  93%|▉| 1863/2000 [01:42<00:07, 18.26it/s, loss=0.439, test_loss=0\n",
      "T1D - Fold 1:  64%|▋| 1275/2000 [01:09<00:39, 18.38it/s, loss=0.391, test_loss=0\n",
      "T1D - Fold 2:  58%|▌| 1151/2000 [01:01<00:45, 18.60it/s, loss=0.471, test_loss=0\n",
      "T1D - Fold 3:  48%|▍| 965/2000 [00:52<00:55, 18.53it/s, loss=0.454, test_loss=0.\n",
      "T1D - Fold 4:  65%|▋| 1293/2000 [01:10<00:38, 18.40it/s, loss=0.449, test_loss=0\n"
     ]
    },
    {
     "name": "stdout",
     "output_type": "stream",
     "text": [
      "Mean Accuracy (T1D): 0.9367\n",
      "Mean Sensitivity (T1D): 0.8934\n",
      "Mean Specificity (T1D): 0.9766\n",
      "Mean AUC (T1D): 0.9859\n",
      "Working on MS dataset: 508 samples\n"
     ]
    },
    {
     "name": "stderr",
     "output_type": "stream",
     "text": [
      "MS - Fold 0:  70%|▋| 1408/2000 [01:33<00:39, 15.09it/s, loss=0.605, test_loss=0.\n",
      "MS - Fold 1: 100%|█| 2000/2000 [02:12<00:00, 15.10it/s, loss=0.412, test_loss=0.\n",
      "MS - Fold 2:  61%|▌| 1226/2000 [01:21<00:51, 15.01it/s, loss=0.385, test_loss=0.\n",
      "MS - Fold 3:  66%|▋| 1312/2000 [01:26<00:45, 15.11it/s, loss=0.453, test_loss=0.\n",
      "MS - Fold 4:  72%|▋| 1445/2000 [01:35<00:36, 15.09it/s, loss=0.407, test_loss=0.\n"
     ]
    },
    {
     "name": "stdout",
     "output_type": "stream",
     "text": [
      "Mean Accuracy (MS): 0.9724\n",
      "Mean Sensitivity (MS): 0.9592\n",
      "Mean Specificity (MS): 0.9907\n",
      "Mean AUC (MS): 0.9952\n",
      "Working on IAA dataset: 279 samples\n"
     ]
    },
    {
     "name": "stderr",
     "output_type": "stream",
     "text": [
      "IAA - Fold 0:  74%|▋| 1483/2000 [00:53<00:18, 27.85it/s, loss=0.415, test_loss=0\n",
      "IAA - Fold 1:  86%|▊| 1715/2000 [01:01<00:10, 27.98it/s, loss=0.39, test_loss=0.\n",
      "IAA - Fold 2:  72%|▋| 1447/2000 [00:51<00:19, 27.93it/s, loss=0.38, test_loss=0.\n",
      "IAA - Fold 3: 100%|█| 2000/2000 [01:10<00:00, 28.17it/s, loss=0.405, test_loss=0\n",
      "IAA - Fold 4:  57%|▌| 1133/2000 [00:41<00:31, 27.52it/s, loss=0.388, test_loss=0\n"
     ]
    },
    {
     "name": "stdout",
     "output_type": "stream",
     "text": [
      "Mean Accuracy (IAA): 0.8961\n",
      "Mean Sensitivity (IAA): 0.6615\n",
      "Mean Specificity (IAA): 0.9673\n",
      "Mean AUC (IAA): 0.9584\n",
      "Working on RA dataset: 322 samples\n"
     ]
    },
    {
     "name": "stderr",
     "output_type": "stream",
     "text": [
      "RA - Fold 0:  52%|▌| 1046/2000 [00:43<00:39, 24.09it/s, loss=0.531, test_loss=0.\n",
      "RA - Fold 1:  49%|▍| 986/2000 [00:41<00:42, 23.90it/s, loss=0.424, test_loss=0.4\n",
      "RA - Fold 2:  50%|▍| 997/2000 [00:41<00:41, 24.26it/s, loss=0.409, test_loss=0.6\n",
      "RA - Fold 3:  50%|▌| 1009/2000 [00:42<00:41, 23.90it/s, loss=0.425, test_loss=0.\n",
      "RA - Fold 4:  36%|▎| 719/2000 [00:29<00:53, 23.99it/s, loss=0.441, test_loss=0.5\n"
     ]
    },
    {
     "name": "stdout",
     "output_type": "stream",
     "text": [
      "Mean Accuracy (RA): 0.7298\n",
      "Mean Sensitivity (RA): 0.3333\n",
      "Mean Specificity (RA): 0.9299\n",
      "Mean AUC (RA): 0.8127\n",
      "Working on T1D dataset: 411 samples\n"
     ]
    },
    {
     "name": "stderr",
     "output_type": "stream",
     "text": [
      "T1D - Fold 0:  43%|▍| 859/2000 [00:46<01:01, 18.49it/s, loss=0.475, test_loss=0.\n",
      "T1D - Fold 1:  54%|▌| 1085/2000 [00:59<00:49, 18.38it/s, loss=0.471, test_loss=0\n",
      "T1D - Fold 2:  50%|▌| 1004/2000 [00:54<00:54, 18.38it/s, loss=0.407, test_loss=0\n",
      "T1D - Fold 3:  74%|▋| 1487/2000 [01:21<00:28, 18.23it/s, loss=0.421, test_loss=0\n",
      "T1D - Fold 4:  42%|▍| 849/2000 [00:46<01:02, 18.40it/s, loss=0.444, test_loss=0.\n"
     ]
    },
    {
     "name": "stdout",
     "output_type": "stream",
     "text": [
      "Mean Accuracy (T1D): 0.9173\n",
      "Mean Sensitivity (T1D): 0.8629\n",
      "Mean Specificity (T1D): 0.9673\n",
      "Mean AUC (T1D): 0.9837\n",
      "Working on MS dataset: 508 samples\n"
     ]
    },
    {
     "name": "stderr",
     "output_type": "stream",
     "text": [
      "MS - Fold 0:  45%|▍| 905/2000 [00:59<01:12, 15.20it/s, loss=0.403, test_loss=0.2\n",
      "MS - Fold 1: 100%|█| 2000/2000 [02:11<00:00, 15.16it/s, loss=0.46, test_loss=0.1\n",
      "MS - Fold 2:  56%|▌| 1130/2000 [01:14<00:57, 15.08it/s, loss=0.473, test_loss=0.\n",
      "MS - Fold 3:  62%|▌| 1230/2000 [01:20<00:50, 15.27it/s, loss=0.483, test_loss=0.\n",
      "MS - Fold 4:  58%|▌| 1159/2000 [01:17<00:56, 14.91it/s, loss=0.406, test_loss=0.\n"
     ]
    },
    {
     "name": "stdout",
     "output_type": "stream",
     "text": [
      "Mean Accuracy (MS): 0.9744\n",
      "Mean Sensitivity (MS): 0.9660\n",
      "Mean Specificity (MS): 0.9860\n",
      "Mean AUC (MS): 0.9918\n",
      "Working on IAA dataset: 279 samples\n"
     ]
    },
    {
     "name": "stderr",
     "output_type": "stream",
     "text": [
      "IAA - Fold 0:  87%|▊| 1747/2000 [01:02<00:09, 27.82it/s, loss=0.432, test_loss=0\n",
      "IAA - Fold 1:  54%|▌| 1080/2000 [00:38<00:32, 28.18it/s, loss=0.39, test_loss=0.\n",
      "IAA - Fold 2:  77%|▊| 1545/2000 [00:55<00:16, 27.74it/s, loss=0.417, test_loss=1\n",
      "IAA - Fold 3:  77%|▊| 1542/2000 [00:55<00:16, 27.86it/s, loss=0.418, test_loss=0\n",
      "IAA - Fold 4: 100%|█| 2000/2000 [01:12<00:00, 27.77it/s, loss=0.41, test_loss=0."
     ]
    },
    {
     "name": "stdout",
     "output_type": "stream",
     "text": [
      "Mean Accuracy (IAA): 0.9176\n",
      "Mean Sensitivity (IAA): 0.6615\n",
      "Mean Specificity (IAA): 0.9953\n",
      "Mean AUC (IAA): 0.9648\n"
     ]
    },
    {
     "name": "stderr",
     "output_type": "stream",
     "text": [
      "\n"
     ]
    }
   ],
   "source": [
    "#参数设置\n",
    "def init_model():\n",
    "    input_size = 15\n",
    "    hidden_size =30\n",
    "    num_layers = 3\n",
    "    output_size = 1\n",
    "    ins_num = 100\n",
    "    dropout = 0.6\n",
    "    \n",
    "    return ModelLSTMAttention(input_size, hidden_size, output_size, num_layers, dropout, ins_num)\n",
    "\n",
    "# 引入早停机制\n",
    "sys.path.append('../')\n",
    "from python_codes.pytorchtools import EarlyStopping\n",
    "\n",
    "# 读取氨基酸特征文件\n",
    "aa_file = \"../Data/PCA15.txt\"\n",
    "aa_vectors = get_features(aa_file)  # 请确保 get_features 函数正确读取文件\n",
    "\n",
    "# 5折交叉验证\n",
    "k_fold = 5\n",
    "kf = KFold(n_splits=k_fold, shuffle=True,random_state=42)\n",
    "\n",
    "BATCH_SIZE = 64\n",
    "NUM_EPOCHES = 2000\n",
    "PATIENCE = 300\n",
    "\n",
    "all_accuracies = []  # 存储每一折的准确率\n",
    "all_sensitivities = []  # 存储每一折的灵敏度\n",
    "all_specificities = []  # 存储每一折的特异度\n",
    "all_aucs = []  # 存储每一折的AUC值\n",
    "\n",
    "device = \"cuda\"\n",
    "disease_list = [\"RA\", \"T1D\", \"MS\", \"IAA\"]\n",
    "\n",
    "for _ in range(20):  # 循环20次\n",
    "    results = []\n",
    "    results_ROC = []\n",
    "\n",
    "    for disease_name in disease_list:\n",
    "        data_dir = f'../Data/{disease_name}'\n",
    "        training_data, training_labels = load_data(data_dir)\n",
    "        print(f\"Working on {disease_name} dataset: {len(training_data)} samples\")\n",
    "\n",
    "\n",
    "        all_preds = []\n",
    "        all_labels = []\n",
    "\n",
    "\n",
    "        # 分成5折\n",
    "        for fold, (train_idx, test_idx) in enumerate(kf.split(training_data)):\n",
    "            train_data = [training_data[i] for i in train_idx]\n",
    "            train_labels = [training_labels[i] for i in train_idx]\n",
    "            test_data = [training_data[i] for i in test_idx]\n",
    "            test_labels = [training_labels[i] for i in test_idx]\n",
    "\n",
    "\n",
    "            # 训练集和测试集固定后，再将训练集划分为训练集和验证集\n",
    "            train_data, valid_data, train_labels, valid_labels = train_test_split(train_data, train_labels, test_size=0.2, random_state=1234)\n",
    "\n",
    "\n",
    "            train_input_batch, train_label_batch, train_valid_lens_batch = generate_input(train_data, train_labels, aa_vectors, 15, 100, 24)\n",
    "            valid_input_batch, valid_label_batch, valid_valid_lens_batch = generate_input(valid_data, valid_labels, aa_vectors, 15, 100, 24)\n",
    "            test_input_batch, test_label_batch, test_valid_lens_batch = generate_input(test_data, test_labels, aa_vectors, 15, 100, 24)\n",
    "\n",
    "            train_dataset = Data.TensorDataset(train_input_batch, train_label_batch, train_valid_lens_batch)\n",
    "            valid_dataset = Data.TensorDataset(valid_input_batch, valid_label_batch, valid_valid_lens_batch)\n",
    "            test_dataset = Data.TensorDataset(test_input_batch, test_label_batch, test_valid_lens_batch)\n",
    "\n",
    "            train_loader = Data.DataLoader(train_dataset, batch_size=BATCH_SIZE, shuffle=True)\n",
    "            valid_loader = Data.DataLoader(valid_dataset, batch_size=BATCH_SIZE, shuffle=False)\n",
    "            test_loader = Data.DataLoader(test_dataset, batch_size=BATCH_SIZE, shuffle=False)\n",
    "\n",
    "            model = init_model().to(device)\n",
    "            criterion = nn.BCEWithLogitsLoss()\n",
    "            optimizer = optim.Adam(model.parameters(), lr=0.0005)\n",
    "\n",
    "            train(fold, model, criterion, optimizer, train_loader, valid_loader, epoches=NUM_EPOCHES, device=device)\n",
    "\n",
    "            # 在测试集上进行最终评估\n",
    "            _, preds, labels = evaluate(model, criterion, test_loader, device=device)\n",
    "            all_preds += preds\n",
    "            all_labels += labels\n",
    "\n",
    "        all_preds = np.concatenate(all_preds, axis=0)\n",
    "        all_labels = np.concatenate(all_labels, axis=0)\n",
    "        accuracy, sensitivity, specificity, auc = metrics(all_preds, all_labels)\n",
    "        print(f\"Mean Accuracy ({disease_name}): {accuracy:.4f}\")\n",
    "        print(f\"Mean Sensitivity ({disease_name}): {sensitivity:.4f}\")\n",
    "        print(f\"Mean Specificity ({disease_name}): {specificity:.4f}\")\n",
    "        print(f\"Mean AUC ({disease_name}): {auc:.4f}\")\n",
    "\n",
    "        results.append({\n",
    "            'disease': disease_name,\n",
    "            'accuracy': accuracy,\n",
    "            'sensitivity': sensitivity,\n",
    "            'specificity': specificity,\n",
    "            'auc': auc\n",
    "        })\n",
    "\n",
    "        results_ROC.append({\n",
    "            'disease': disease_name,\n",
    "            'auc': auc,\n",
    "            'all_preds': all_preds,\n",
    "            'all_labels': all_labels\n",
    "        })\n",
    "        \n",
    "    # 将本次循环的性能指标值添加到列表中\n",
    "    all_accuracies.append([result['accuracy'] for result in results])\n",
    "    all_sensitivities.append([result['sensitivity'] for result in results])\n",
    "    all_specificities.append([result['specificity'] for result in results])\n",
    "    all_aucs.append([result['auc'] for result in results])\n",
    "        \n",
    "        \n",
    "        "
   ]
  },
  {
   "cell_type": "code",
   "execution_count": 6,
   "id": "c5dd3783",
   "metadata": {},
   "outputs": [
    {
     "name": "stdout",
     "output_type": "stream",
     "text": [
      "Mean Accuracy (RA): 0.7825, Variance: 0.0006\n",
      "Mean Sensitivity (RA): 0.4685, Variance: 0.0040\n",
      "Mean Specificity (RA): 0.9409, Variance: 0.0002\n",
      "Mean AUC (RA): 0.8558, Variance: 0.0008\n",
      "Mean Accuracy (T1D): 0.9269, Variance: 0.0002\n",
      "Mean Sensitivity (T1D): 0.8739, Variance: 0.0005\n",
      "Mean Specificity (T1D): 0.9757, Variance: 0.0001\n",
      "Mean AUC (T1D): 0.9824, Variance: 0.0000\n",
      "Mean Accuracy (MS): 0.9688, Variance: 0.0002\n",
      "Mean Sensitivity (MS): 0.9605, Variance: 0.0002\n",
      "Mean Specificity (MS): 0.9801, Variance: 0.0002\n",
      "Mean AUC (MS): 0.9937, Variance: 0.0000\n",
      "Mean Accuracy (IAA): 0.9134, Variance: 0.0002\n",
      "Mean Sensitivity (IAA): 0.6738, Variance: 0.0037\n",
      "Mean Specificity (IAA): 0.9862, Variance: 0.0001\n",
      "Mean AUC (IAA): 0.9587, Variance: 0.0002\n"
     ]
    }
   ],
   "source": [
    "# 计算性能指标的均值和方差\n",
    "mean_accuracy = np.mean(all_accuracies, axis=0)\n",
    "mean_sensitivity = np.mean(all_sensitivities, axis=0)\n",
    "mean_specificity = np.mean(all_specificities, axis=0)\n",
    "mean_auc = np.mean(all_aucs, axis=0)\n",
    "\n",
    "variance_accuracy = np.var(all_accuracies, axis=0)\n",
    "variance_sensitivity = np.var(all_sensitivities, axis=0)\n",
    "variance_specificity = np.var(all_specificities, axis=0)\n",
    "variance_auc = np.var(all_aucs, axis=0)\n",
    "\n",
    "# 打印均值和方差\n",
    "for idx, disease_name in enumerate(disease_list):\n",
    "    print(f\"Mean Accuracy ({disease_name}): {mean_accuracy[idx]:.4f}, Variance: {variance_accuracy[idx]:.4f}\")\n",
    "    print(f\"Mean Sensitivity ({disease_name}): {mean_sensitivity[idx]:.4f}, Variance: {variance_sensitivity[idx]:.4f}\")\n",
    "    print(f\"Mean Specificity ({disease_name}): {mean_specificity[idx]:.4f}, Variance: {variance_specificity[idx]:.4f}\")\n",
    "    print(f\"Mean AUC ({disease_name}): {mean_auc[idx]:.4f}, Variance: {variance_auc[idx]:.4f}\")\n"
   ]
  },
  {
   "cell_type": "code",
   "execution_count": 7,
   "id": "b151a755",
   "metadata": {},
   "outputs": [
    {
     "name": "stdout",
     "output_type": "stream",
     "text": [
      "Mean Accuracy (RA): 0.7825, Statistics: 0.0235\n",
      "Mean Sensitivity (RA): 0.4685, Statistics: 0.0633\n",
      "Mean Specificity (RA): 0.9409, Statistics: 0.0141\n",
      "Mean AUC (RA): 0.8558, Statistics: 0.0290\n",
      "Mean Accuracy (T1D): 0.9269, Statistics: 0.0123\n",
      "Mean Sensitivity (T1D): 0.8739, Statistics: 0.0216\n",
      "Mean Specificity (T1D): 0.9757, Statistics: 0.0084\n",
      "Mean AUC (T1D): 0.9824, Statistics: 0.0037\n",
      "Mean Accuracy (MS): 0.9688, Statistics: 0.0130\n",
      "Mean Sensitivity (MS): 0.9605, Statistics: 0.0152\n",
      "Mean Specificity (MS): 0.9801, Statistics: 0.0130\n",
      "Mean AUC (MS): 0.9937, Statistics: 0.0037\n",
      "Mean Accuracy (IAA): 0.9134, Statistics: 0.0152\n",
      "Mean Sensitivity (IAA): 0.6738, Statistics: 0.0609\n",
      "Mean Specificity (IAA): 0.9862, Statistics: 0.0083\n",
      "Mean AUC (IAA): 0.9587, Statistics: 0.0129\n"
     ]
    }
   ],
   "source": [
    "# 计算性能指标的均值和标准差\n",
    "mean_accuracy = np.mean(all_accuracies, axis=0)\n",
    "mean_sensitivity = np.mean(all_sensitivities, axis=0)\n",
    "mean_specificity = np.mean(all_specificities, axis=0)\n",
    "mean_auc = np.mean(all_aucs, axis=0)\n",
    "\n",
    "Statistics_accuracy = np.std(all_accuracies, axis=0)\n",
    "Statistics_sensitivity = np.std(all_sensitivities, axis=0)\n",
    "Statistics_specificity = np.std(all_specificities, axis=0)\n",
    "Statistics_auc = np.std(all_aucs, axis=0)\n",
    "\n",
    "# 打印均值和标准差\n",
    "for idx, disease_name in enumerate(disease_list):\n",
    "    print(f\"Mean Accuracy ({disease_name}): {mean_accuracy[idx]:.4f}, Statistics: {Statistics_accuracy[idx]:.4f}\")\n",
    "    print(f\"Mean Sensitivity ({disease_name}): {mean_sensitivity[idx]:.4f}, Statistics: {Statistics_sensitivity[idx]:.4f}\")\n",
    "    print(f\"Mean Specificity ({disease_name}): {mean_specificity[idx]:.4f}, Statistics: {Statistics_specificity[idx]:.4f}\")\n",
    "    print(f\"Mean AUC ({disease_name}): {mean_auc[idx]:.4f}, Statistics: {Statistics_auc[idx]:.4f}\")\n"
   ]
  },
  {
   "cell_type": "code",
   "execution_count": 8,
   "id": "9fc9db3c",
   "metadata": {},
   "outputs": [
    {
     "name": "stdout",
     "output_type": "stream",
     "text": [
      "Mean Accuracy (RA): 0.7825, Statistics: 0.0235\n",
      "Mean Sensitivity (RA): 0.4685, Statistics: 0.0633\n",
      "Mean Specificity (RA): 0.9409, Statistics: 0.0141\n",
      "Mean AUC (RA): 0.8558, Statistics: 0.0290\n",
      "Mean Accuracy (T1D): 0.9269, Statistics: 0.0123\n",
      "Mean Sensitivity (T1D): 0.8739, Statistics: 0.0216\n",
      "Mean Specificity (T1D): 0.9757, Statistics: 0.0084\n",
      "Mean AUC (T1D): 0.9824, Statistics: 0.0037\n",
      "Mean Accuracy (MS): 0.9688, Statistics: 0.0130\n",
      "Mean Sensitivity (MS): 0.9605, Statistics: 0.0152\n",
      "Mean Specificity (MS): 0.9801, Statistics: 0.0130\n",
      "Mean AUC (MS): 0.9937, Statistics: 0.0037\n",
      "Mean Accuracy (IAA): 0.9134, Statistics: 0.0152\n",
      "Mean Sensitivity (IAA): 0.6738, Statistics: 0.0609\n",
      "Mean Specificity (IAA): 0.9862, Statistics: 0.0083\n",
      "Mean AUC (IAA): 0.9587, Statistics: 0.0129\n"
     ]
    }
   ],
   "source": [
    "# 计算性能指标的均值和标准差\n",
    "mean_accuracy = np.mean(all_accuracies, axis=0)\n",
    "mean_sensitivity = np.mean(all_sensitivities, axis=0)\n",
    "mean_specificity = np.mean(all_specificities, axis=0)\n",
    "mean_auc = np.mean(all_aucs, axis=0)\n",
    "\n",
    "Statistics_accuracy =np.sqrt(np.var(all_accuracies, axis=0)) \n",
    "Statistics_sensitivity = np.sqrt(np.var(all_sensitivities, axis=0))\n",
    "Statistics_specificity = np.sqrt(np.var(all_specificities, axis=0))\n",
    "Statistics_auc = np.sqrt(np.var(all_aucs, axis=0))\n",
    "\n",
    "# 打印均值和标准差\n",
    "for idx, disease_name in enumerate(disease_list):\n",
    "    print(f\"Mean Accuracy ({disease_name}): {mean_accuracy[idx]:.4f}, Statistics: {Statistics_accuracy[idx]:.4f}\")\n",
    "    print(f\"Mean Sensitivity ({disease_name}): {mean_sensitivity[idx]:.4f}, Statistics: {Statistics_sensitivity[idx]:.4f}\")\n",
    "    print(f\"Mean Specificity ({disease_name}): {mean_specificity[idx]:.4f}, Statistics: {Statistics_specificity[idx]:.4f}\")\n",
    "    print(f\"Mean AUC ({disease_name}): {mean_auc[idx]:.4f}, Statistics: {Statistics_auc[idx]:.4f}\")\n"
   ]
  },
  {
   "cell_type": "code",
   "execution_count": 23,
   "id": "f6c3463f",
   "metadata": {
    "scrolled": false
   },
   "outputs": [
    {
     "data": {
      "image/png": "[encoded data removed]",
      "text/plain": [
       "<Figure size 1000x700 with 1 Axes>"
      ]
     },
     "metadata": {},
     "output_type": "display_data"
    }
   ],
   "source": [
    "# 存储每个疾病的ROC曲线数据\n",
    "roc_data = {}\n",
    "auc_values = [\"0.8558\", \"0.9824\", \"0.9937\", \"0.9587\"]\n",
    "for i,result in enumerate(results_ROC):\n",
    "    disease_name = result['disease']\n",
    "    all_labels = result['all_labels'] # 取出真实标签中的第二列作为二分类问题的标签\n",
    "    all_preds = result['all_preds'][:, 0]  # 取出预测概率中的第二列作为二分类问题的预测\n",
    "    fpr, tpr, thresholds = roc_curve(all_labels, all_preds)\n",
    "    # 将每种疾病的ROC曲线数据存储在roc_data字典中\n",
    "    roc_data[disease_name] = {'fpr': fpr, 'tpr': tpr, 'roc_auc': float(auc_values[i])}\n",
    "\n",
    "# 创建一个新的图\n",
    "plt.figure(figsize=(10, 7))\n",
    "\n",
    "for disease_name, data in roc_data.items():\n",
    "    fpr, tpr, roc_auc = data['fpr'], data['tpr'], data['roc_auc']\n",
    "    plt.plot(fpr, tpr, label=f'{disease_name} (AUC = {roc_auc:.2f})')\n",
    "\n",
    "# 绘制对角线\n",
    "plt.plot([0, 1], [0, 1], 'k--', lw=2)\n",
    "plt.xlim([0.0, 1.0])\n",
    "plt.ylim([0.0, 1.05])\n",
    "plt.xlabel('Specificity')\n",
    "plt.ylabel('Sensitivity')\n",
    "#plt.title('ROC Curve for Multiple Diseases')\n",
    "plt.legend(loc=\"lower right\")\n",
    "plt.show()\n"
   ]
  },
  {
   "cell_type": "code",
   "execution_count": null,
   "id": "3d451c81",
   "metadata": {},
   "outputs": [],
   "source": []
  }
 ],
 "metadata": {
  "kernelspec": {
   "display_name": "Python 3 (ipykernel)",
   "language": "python",
   "name": "python3"
  },
  "language_info": {
   "codemirror_mode": {
    "name": "ipython",
    "version": 3
   },
   "file_extension": ".py",
   "mimetype": "text/x-python",
   "name": "python",
   "nbconvert_exporter": "python",
   "pygments_lexer": "ipython3",
   "version": "3.10.10"
  }
 },
 "nbformat": 4,
 "nbformat_minor": 5
}
